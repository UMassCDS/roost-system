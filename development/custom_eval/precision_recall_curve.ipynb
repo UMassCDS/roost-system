{
 "cells": [
  {
   "cell_type": "markdown",
   "metadata": {},
   "source": [
    "## Step Comparison"
   ]
  },
  {
   "cell_type": "code",
   "execution_count": 1,
   "metadata": {},
   "outputs": [],
   "source": [
    "import copy\n",
    "import sys\n",
    "import json\n",
    "import os\n",
    "import numpy as np\n",
    "from roosts.tracking.tracker import Tracker\n",
    "from roosts.utils.postprocess import Postprocess\n",
    "from pycocotools.coco import COCO\n",
    "from roosts.evaluation.roosteval import COCOeval\n",
    "import matplotlib.pyplot as plt\n",
    "\n",
    "exp = \"0.0dev\" # \"3.2eval_resnet101-FPN_detptr_anc10_regsl1_imsz1200_lr0.001_it150k_ckpt39999_strt1\"\n",
    "data_root = \"/scratch2/wenlongzhao/roosts/libs/\"\n",
    "dataset_name = \"roosts_v0.1.0_test\"\n",
    "task = \"bbox\"\n",
    "image_height = 600\n",
    "coco_evals = []\n",
    "\n",
    "def evaluate(predictions):\n",
    "    coco_gt = COCO(os.path.join(exp, f\"{dataset_name}_coco_format.json\"))\n",
    "    coco_dt = coco_gt.loadRes(predictions)\n",
    "\n",
    "    coco_eval = COCOeval(coco_gt, coco_dt, task)\n",
    "    coco_eval.evaluate()\n",
    "    coco_eval.accumulate()\n",
    "    return coco_eval"
   ]
  },
  {
   "cell_type": "code",
   "execution_count": 2,
   "metadata": {},
   "outputs": [
    {
     "name": "stdout",
     "output_type": "stream",
     "text": [
      "1454\n"
     ]
    }
   ],
   "source": [
    "with open(os.path.join(exp, f\"{dataset_name}_coco_format.json\"), \"r\") as f:\n",
    "    gt = json.load(f)\n",
    "    \n",
    "id2scanname = {} # scan id to scan name\n",
    "scanname2id = {}\n",
    "scannames_by_stationday = {}\n",
    "npz_files_by_stationday = {}\n",
    "for image in gt[\"images\"]:\n",
    "    scanname = image[\"file_name\"].split(\"/\")[-1].split(\".\")[0]\n",
    "    id2scanname[image[\"id\"]] = scanname\n",
    "    scanname2id[scanname] = image[\"id\"]\n",
    "    \n",
    "    stationday = scanname[:12]\n",
    "    if stationday in scannames_by_stationday:\n",
    "        scannames_by_stationday[stationday].append(scanname)\n",
    "        npz_files_by_stationday[stationday].append(data_root+image[\"file_name\"][image[\"file_name\"].find(\"wsrdata\"):])\n",
    "    else:\n",
    "        scannames_by_stationday[stationday] = [scanname]\n",
    "        npz_files_by_stationday[stationday] = [data_root+image[\"file_name\"][image[\"file_name\"].find(\"wsrdata\"):]]\n",
    "print(len(scannames_by_stationday))"
   ]
  },
  {
   "cell_type": "markdown",
   "metadata": {},
   "source": [
    "### Detection with confidence score 0.05"
   ]
  },
  {
   "cell_type": "code",
   "execution_count": 3,
   "metadata": {},
   "outputs": [],
   "source": [
    "with open(os.path.join(exp, \"coco_instances_results.json\"), \"r\") as f:\n",
    "    predictions_ = json.load(f)\n",
    "    # {\"image_id\": x, \"category_id\": 0, \"bbox\": [x, y, w, h], \"score\": x}\n",
    "\n",
    "predictions = []\n",
    "for prediction in predictions_:\n",
    "    if prediction[\"score\"] >= 0.05:\n",
    "        predictions.append(prediction)\n",
    "# print(predictions)"
   ]
  },
  {
   "cell_type": "markdown",
   "metadata": {},
   "source": [
    "### Tracking and postprocessing"
   ]
  },
  {
   "cell_type": "code",
   "execution_count": 4,
   "metadata": {},
   "outputs": [
    {
     "name": "stdout",
     "output_type": "stream",
     "text": [
      "1453 stationdays in total.\n",
      "Stationday 1 KAMX20101020\n"
     ]
    },
    {
     "name": "stderr",
     "output_type": "stream",
     "text": [
      "Tracking: 100%|██████████| 19/19 [00:00<00:00, 772.72it/s]\n",
      "Cleaning windfarm: 100%|██████████| 8/8 [00:02<00:00,  3.31it/s]\n",
      "Cleaning rain: 100%|██████████| 8/8 [00:00<00:00, 33554.43it/s]\n"
     ]
    },
    {
     "name": "stdout",
     "output_type": "stream",
     "text": [
      "Stationday 2 KAMX20101027\n"
     ]
    },
    {
     "name": "stderr",
     "output_type": "stream",
     "text": [
      "Tracking: 100%|██████████| 12/12 [00:00<00:00, 1027.78it/s]\n",
      "Cleaning windfarm: 100%|██████████| 8/8 [00:00<00:00, 11.16it/s]\n",
      "Cleaning rain: 100%|██████████| 8/8 [00:00<00:00, 30366.00it/s]\n"
     ]
    },
    {
     "name": "stdout",
     "output_type": "stream",
     "text": [
      "Stationday 3 KAMX20101028\n"
     ]
    },
    {
     "name": "stderr",
     "output_type": "stream",
     "text": [
      "Tracking: 100%|██████████| 19/19 [00:00<00:00, 877.27it/s]\n",
      "Cleaning windfarm: 100%|██████████| 4/4 [00:00<00:00,  5.57it/s]\n",
      "Cleaning rain: 100%|██████████| 4/4 [00:00<00:00, 44267.06it/s]\n"
     ]
    },
    {
     "name": "stdout",
     "output_type": "stream",
     "text": [
      "Stationday 4 KAMX20101030\n"
     ]
    },
    {
     "name": "stderr",
     "output_type": "stream",
     "text": [
      "Tracking: 100%|██████████| 19/19 [00:00<00:00, 2634.35it/s]\n",
      "Cleaning windfarm: 100%|██████████| 3/3 [00:00<00:00,  4.74it/s]\n",
      "Cleaning rain: 100%|██████████| 3/3 [00:00<00:00, 35444.82it/s]\n"
     ]
    },
    {
     "name": "stdout",
     "output_type": "stream",
     "text": [
      "Stationday 5 KAMX20101114\n"
     ]
    },
    {
     "name": "stderr",
     "output_type": "stream",
     "text": [
      "Tracking: 100%|██████████| 11/11 [00:00<00:00, 1554.39it/s]\n",
      "Cleaning windfarm: 100%|██████████| 7/7 [00:00<00:00, 12.10it/s]\n",
      "Cleaning rain: 100%|██████████| 7/7 [00:00<00:00, 72137.91it/s]\n"
     ]
    },
    {
     "name": "stdout",
     "output_type": "stream",
     "text": [
      "Stationday 6 KAMX20101115\n"
     ]
    },
    {
     "name": "stderr",
     "output_type": "stream",
     "text": [
      "Tracking: 100%|██████████| 11/11 [00:00<00:00, 497.58it/s]\n",
      "Cleaning windfarm: 100%|██████████| 21/21 [00:03<00:00,  5.68it/s]\n",
      "Cleaning rain: 100%|██████████| 21/21 [00:00<00:00, 53252.95it/s]\n"
     ]
    },
    {
     "name": "stdout",
     "output_type": "stream",
     "text": [
      "Stationday 7 KAMX20101128\n"
     ]
    },
    {
     "name": "stderr",
     "output_type": "stream",
     "text": [
      "Tracking: 100%|██████████| 19/19 [00:00<00:00, 451.61it/s]\n",
      "Cleaning windfarm: 100%|██████████| 6/6 [00:01<00:00,  4.57it/s]\n",
      "Cleaning rain: 100%|██████████| 6/6 [00:00<00:00, 62446.21it/s]\n"
     ]
    },
    {
     "name": "stdout",
     "output_type": "stream",
     "text": [
      "Stationday 8 KAMX20101201\n"
     ]
    },
    {
     "name": "stderr",
     "output_type": "stream",
     "text": [
      "Tracking: 100%|██████████| 20/20 [00:00<00:00, 1260.18it/s]\n",
      "Cleaning windfarm: 100%|██████████| 8/8 [00:02<00:00,  3.40it/s]\n",
      "Cleaning rain: 100%|██████████| 8/8 [00:00<00:00, 60787.01it/s]\n"
     ]
    },
    {
     "name": "stdout",
     "output_type": "stream",
     "text": [
      "Stationday 9 KAMX20101211\n"
     ]
    },
    {
     "name": "stderr",
     "output_type": "stream",
     "text": [
      "Tracking: 100%|██████████| 17/17 [00:00<00:00, 267.84it/s]\n",
      "Cleaning windfarm: 100%|██████████| 31/31 [00:06<00:00,  5.01it/s]\n",
      "Cleaning rain: 100%|██████████| 31/31 [00:00<00:00, 123361.88it/s]\n"
     ]
    },
    {
     "name": "stdout",
     "output_type": "stream",
     "text": [
      "Stationday 10 KAMX20101217\n"
     ]
    },
    {
     "name": "stderr",
     "output_type": "stream",
     "text": [
      "Tracking: 100%|██████████| 11/11 [00:00<00:00, 2132.53it/s]\n",
      "Cleaning windfarm: 100%|██████████| 4/4 [00:00<00:00,  6.74it/s]\n",
      "Cleaning rain: 100%|██████████| 4/4 [00:00<00:00, 44501.90it/s]\n"
     ]
    },
    {
     "name": "stdout",
     "output_type": "stream",
     "text": [
      "Stationday 11 KAMX20101226\n"
     ]
    },
    {
     "name": "stderr",
     "output_type": "stream",
     "text": [
      "Tracking: 100%|██████████| 22/22 [00:00<00:00, 1145.90it/s]\n",
      "Cleaning windfarm: 100%|██████████| 16/16 [00:00<00:00, 25.86it/s]\n",
      "Cleaning rain: 100%|██████████| 16/16 [00:00<00:00, 106353.19it/s]\n"
     ]
    },
    {
     "name": "stdout",
     "output_type": "stream",
     "text": [
      "Stationday 12 KAMX20101229\n"
     ]
    },
    {
     "name": "stderr",
     "output_type": "stream",
     "text": [
      "Tracking: 100%|██████████| 19/19 [00:00<00:00, 1124.11it/s]\n",
      "Cleaning windfarm: 100%|██████████| 13/13 [00:01<00:00,  7.06it/s]\n",
      "Cleaning rain: 100%|██████████| 13/13 [00:00<00:00, 98422.30it/s]\n"
     ]
    },
    {
     "name": "stdout",
     "output_type": "stream",
     "text": [
      "Stationday 13 KAMX20101231\n"
     ]
    },
    {
     "name": "stderr",
     "output_type": "stream",
     "text": [
      "Tracking: 100%|██████████| 11/11 [00:00<00:00, 1253.02it/s]\n",
      "Cleaning windfarm: 100%|██████████| 8/8 [00:01<00:00,  6.58it/s]\n",
      "Cleaning rain: 100%|██████████| 8/8 [00:00<00:00, 73262.95it/s]\n"
     ]
    },
    {
     "name": "stdout",
     "output_type": "stream",
     "text": [
      "Stationday 14 KAMX20110102\n"
     ]
    },
    {
     "name": "stderr",
     "output_type": "stream",
     "text": [
      "Tracking: 100%|██████████| 11/11 [00:00<00:00, 1156.32it/s]\n",
      "Cleaning windfarm: 100%|██████████| 7/7 [00:01<00:00,  5.53it/s]\n",
      "Cleaning rain: 100%|██████████| 7/7 [00:00<00:00, 76260.07it/s]\n"
     ]
    },
    {
     "name": "stdout",
     "output_type": "stream",
     "text": [
      "Stationday 15 KAMX20110109\n"
     ]
    },
    {
     "name": "stderr",
     "output_type": "stream",
     "text": [
      "Tracking: 100%|██████████| 17/17 [00:00<00:00, 201.27it/s]\n",
      "Cleaning windfarm: 100%|██████████| 19/19 [00:01<00:00, 10.19it/s]\n",
      "Cleaning rain: 100%|██████████| 19/19 [00:00<00:00, 45074.53it/s]\n"
     ]
    },
    {
     "name": "stdout",
     "output_type": "stream",
     "text": [
      "Stationday 16 KAMX20110130\n"
     ]
    },
    {
     "name": "stderr",
     "output_type": "stream",
     "text": [
      "Tracking: 100%|██████████| 13/13 [00:00<00:00, 193.53it/s]\n",
      "Cleaning windfarm: 100%|██████████| 23/23 [00:01<00:00, 11.79it/s]\n",
      "Cleaning rain: 100%|██████████| 23/23 [00:00<00:00, 56282.96it/s]\n"
     ]
    },
    {
     "name": "stdout",
     "output_type": "stream",
     "text": [
      "Stationday 17 KAMX20110321\n"
     ]
    },
    {
     "name": "stderr",
     "output_type": "stream",
     "text": [
      "Tracking: 100%|██████████| 20/20 [00:00<00:00, 456.33it/s]\n",
      "Cleaning windfarm: 100%|██████████| 10/10 [00:03<00:00,  2.74it/s]\n",
      "Cleaning rain: 100%|██████████| 10/10 [00:00<00:00, 45639.87it/s]\n"
     ]
    },
    {
     "name": "stdout",
     "output_type": "stream",
     "text": [
      "Stationday 18 KAMX20110324\n"
     ]
    },
    {
     "name": "stderr",
     "output_type": "stream",
     "text": [
      "Tracking: 100%|██████████| 11/11 [00:00<00:00, 994.47it/s]\n",
      "Cleaning windfarm: 100%|██████████| 7/7 [00:01<00:00,  3.69it/s]\n",
      "Cleaning rain: 100%|██████████| 7/7 [00:00<00:00, 70407.98it/s]\n"
     ]
    },
    {
     "name": "stdout",
     "output_type": "stream",
     "text": [
      "Stationday 19 KAMX20110327\n"
     ]
    },
    {
     "name": "stderr",
     "output_type": "stream",
     "text": [
      "Tracking: 100%|██████████| 12/12 [00:00<00:00, 902.65it/s]\n",
      "Cleaning windfarm: 100%|██████████| 13/13 [00:01<00:00,  7.07it/s]\n",
      "Cleaning rain: 100%|██████████| 13/13 [00:00<00:00, 117008.48it/s]\n"
     ]
    },
    {
     "name": "stdout",
     "output_type": "stream",
     "text": [
      "Stationday 20 KAMX20110328\n"
     ]
    },
    {
     "name": "stderr",
     "output_type": "stream",
     "text": [
      "Tracking: 100%|██████████| 23/23 [00:00<00:00, 1592.90it/s]\n",
      "Cleaning windfarm: 100%|██████████| 9/9 [00:01<00:00,  7.04it/s]\n",
      "Cleaning rain: 100%|██████████| 9/9 [00:00<00:00, 68634.07it/s]\n"
     ]
    },
    {
     "name": "stdout",
     "output_type": "stream",
     "text": [
      "Stationday 21 KAMX20110404\n"
     ]
    },
    {
     "name": "stderr",
     "output_type": "stream",
     "text": [
      "Tracking: 100%|██████████| 11/11 [00:00<00:00, 1779.10it/s]\n",
      "Cleaning windfarm: 100%|██████████| 3/3 [00:01<00:00,  2.40it/s]\n",
      "Cleaning rain: 100%|██████████| 3/3 [00:00<00:00, 34285.86it/s]\n"
     ]
    },
    {
     "name": "stdout",
     "output_type": "stream",
     "text": [
      "Stationday 22 KAMX20110405\n"
     ]
    },
    {
     "name": "stderr",
     "output_type": "stream",
     "text": [
      "Tracking: 100%|██████████| 19/19 [00:00<00:00, 1409.40it/s]\n",
      "Cleaning windfarm: 100%|██████████| 8/8 [00:01<00:00,  6.46it/s]\n",
      "Cleaning rain: 100%|██████████| 8/8 [00:00<00:00, 45343.83it/s]\n"
     ]
    },
    {
     "name": "stdout",
     "output_type": "stream",
     "text": [
      "Stationday 23 KAMX20110408\n"
     ]
    },
    {
     "name": "stderr",
     "output_type": "stream",
     "text": [
      "Tracking: 100%|██████████| 11/11 [00:00<00:00, 1040.56it/s]\n",
      "Cleaning windfarm: 100%|██████████| 3/3 [00:01<00:00,  2.45it/s]\n",
      "Cleaning rain: 100%|██████████| 3/3 [00:00<00:00, 37560.93it/s]\n"
     ]
    },
    {
     "name": "stdout",
     "output_type": "stream",
     "text": [
      "Stationday 24 KAMX20110413\n"
     ]
    },
    {
     "name": "stderr",
     "output_type": "stream",
     "text": [
      "Tracking: 100%|██████████| 19/19 [00:00<00:00, 411.37it/s]\n",
      "Cleaning windfarm: 100%|██████████| 18/18 [00:04<00:00,  4.35it/s]\n",
      "Cleaning rain: 100%|██████████| 18/18 [00:00<00:00, 75422.05it/s]\n"
     ]
    },
    {
     "name": "stdout",
     "output_type": "stream",
     "text": [
      "Stationday 25 KAMX20110414\n"
     ]
    },
    {
     "name": "stderr",
     "output_type": "stream",
     "text": [
      "Tracking: 100%|██████████| 19/19 [00:00<00:00, 1396.24it/s]\n",
      "Cleaning windfarm: 100%|██████████| 7/7 [00:01<00:00,  5.89it/s]\n",
      "Cleaning rain: 100%|██████████| 7/7 [00:00<00:00, 31570.03it/s]\n"
     ]
    },
    {
     "name": "stdout",
     "output_type": "stream",
     "text": [
      "Stationday 26 KAMX20110415\n"
     ]
    },
    {
     "name": "stderr",
     "output_type": "stream",
     "text": [
      "Tracking: 100%|██████████| 19/19 [00:00<00:00, 1042.92it/s]\n",
      "Cleaning windfarm: 100%|██████████| 2/2 [00:00<00:00,  2.79it/s]\n",
      "Cleaning rain: 100%|██████████| 2/2 [00:00<00:00, 25343.23it/s]\n"
     ]
    },
    {
     "name": "stdout",
     "output_type": "stream",
     "text": [
      "Stationday 27 KAMX20110420\n"
     ]
    },
    {
     "name": "stderr",
     "output_type": "stream",
     "text": [
      "Tracking: 100%|██████████| 11/11 [00:00<00:00, 1533.77it/s]\n",
      "Cleaning windfarm: 100%|██████████| 7/7 [00:00<00:00,  9.06it/s]\n",
      "Cleaning rain: 100%|██████████| 7/7 [00:00<00:00, 32622.36it/s]\n"
     ]
    },
    {
     "name": "stdout",
     "output_type": "stream",
     "text": [
      "Stationday 28 KAMX20110430\n"
     ]
    },
    {
     "name": "stderr",
     "output_type": "stream",
     "text": [
      "Tracking: 100%|██████████| 17/17 [00:00<00:00, 1124.69it/s]\n",
      "Cleaning windfarm: 100%|██████████| 6/6 [00:00<00:00,  8.91it/s]\n",
      "Cleaning rain: 100%|██████████| 6/6 [00:00<00:00, 60061.63it/s]\n"
     ]
    },
    {
     "name": "stdout",
     "output_type": "stream",
     "text": [
      "Stationday 29 KAMX20110502\n"
     ]
    },
    {
     "name": "stderr",
     "output_type": "stream",
     "text": [
      "Tracking: 100%|██████████| 15/15 [00:00<00:00, 398.52it/s]\n",
      "Cleaning windfarm: 100%|██████████| 18/18 [00:02<00:00,  8.07it/s]\n",
      "Cleaning rain: 100%|██████████| 18/18 [00:00<00:00, 101748.61it/s]\n"
     ]
    },
    {
     "name": "stdout",
     "output_type": "stream",
     "text": [
      "Stationday 30 KAMX20111110\n"
     ]
    },
    {
     "name": "stderr",
     "output_type": "stream",
     "text": [
      "Tracking: 100%|██████████| 17/17 [00:00<00:00, 508.92it/s]\n",
      "Cleaning windfarm: 100%|██████████| 21/21 [00:03<00:00,  6.94it/s]\n",
      "Cleaning rain: 100%|██████████| 21/21 [00:00<00:00, 107023.55it/s]\n"
     ]
    },
    {
     "name": "stdout",
     "output_type": "stream",
     "text": [
      "Stationday 31 KAMX20111111\n"
     ]
    },
    {
     "name": "stderr",
     "output_type": "stream",
     "text": [
      "Tracking: 100%|██████████| 13/13 [00:00<00:00, 1415.89it/s]\n",
      "Cleaning windfarm: 100%|██████████| 9/9 [00:01<00:00,  7.64it/s]\n",
      "Cleaning rain: 100%|██████████| 9/9 [00:00<00:00, 84449.07it/s]\n"
     ]
    },
    {
     "name": "stdout",
     "output_type": "stream",
     "text": [
      "Stationday 32 KAMX20111117\n"
     ]
    },
    {
     "name": "stderr",
     "output_type": "stream",
     "text": [
      "Tracking: 100%|██████████| 18/18 [00:00<00:00, 1328.01it/s]\n",
      "Cleaning windfarm: 100%|██████████| 7/7 [00:01<00:00,  3.91it/s]\n",
      "Cleaning rain: 100%|██████████| 7/7 [00:00<00:00, 70747.30it/s]\n"
     ]
    },
    {
     "name": "stdout",
     "output_type": "stream",
     "text": [
      "Stationday 33 KAMX20111203\n"
     ]
    },
    {
     "name": "stderr",
     "output_type": "stream",
     "text": [
      "Tracking: 100%|██████████| 12/12 [00:00<00:00, 730.81it/s]\n",
      "Cleaning windfarm: 100%|██████████| 20/20 [00:01<00:00, 16.91it/s]\n",
      "Cleaning rain: 100%|██████████| 20/20 [00:00<00:00, 135518.71it/s]\n"
     ]
    },
    {
     "name": "stdout",
     "output_type": "stream",
     "text": [
      "Stationday 34 KAMX20111210\n"
     ]
    },
    {
     "name": "stderr",
     "output_type": "stream",
     "text": [
      "Tracking: 100%|██████████| 27/27 [00:00<00:00, 2111.46it/s]\n",
      "Cleaning windfarm: 100%|██████████| 7/7 [00:01<00:00,  4.17it/s]\n",
      "Cleaning rain: 100%|██████████| 7/7 [00:00<00:00, 52335.34it/s]\n"
     ]
    },
    {
     "name": "stdout",
     "output_type": "stream",
     "text": [
      "Stationday 35 KAMX20120102\n"
     ]
    },
    {
     "name": "stderr",
     "output_type": "stream",
     "text": [
      "Tracking: 100%|██████████| 12/12 [00:00<00:00, 875.68it/s]\n",
      "Cleaning windfarm: 100%|██████████| 13/13 [00:01<00:00,  7.13it/s]\n",
      "Cleaning rain: 100%|██████████| 13/13 [00:00<00:00, 43481.62it/s]\n"
     ]
    },
    {
     "name": "stdout",
     "output_type": "stream",
     "text": [
      "Stationday 36 KAMX20120115\n"
     ]
    },
    {
     "name": "stderr",
     "output_type": "stream",
     "text": [
      "Tracking: 100%|██████████| 24/24 [00:00<00:00, 325.19it/s]\n",
      "Cleaning windfarm: 100%|██████████| 26/26 [00:03<00:00,  8.36it/s]\n",
      "Cleaning rain: 100%|██████████| 26/26 [00:00<00:00, 108079.19it/s]\n"
     ]
    },
    {
     "name": "stdout",
     "output_type": "stream",
     "text": [
      "Stationday 37 KAMX20120116\n"
     ]
    },
    {
     "name": "stderr",
     "output_type": "stream",
     "text": [
      "Tracking: 100%|██████████| 11/11 [00:00<00:00, 1311.47it/s]\n",
      "Cleaning windfarm: 100%|██████████| 11/11 [00:03<00:00,  3.56it/s]\n",
      "Cleaning rain: 100%|██████████| 11/11 [00:00<00:00, 105819.60it/s]\n"
     ]
    },
    {
     "name": "stdout",
     "output_type": "stream",
     "text": [
      "Stationday 38 KAMX20120117\n"
     ]
    },
    {
     "name": "stderr",
     "output_type": "stream",
     "text": [
      "Tracking: 100%|██████████| 12/12 [00:00<00:00, 2911.87it/s]\n",
      "Cleaning windfarm: 100%|██████████| 5/5 [00:00<00:00, 32017.59it/s]\n",
      "Cleaning rain: 100%|██████████| 5/5 [00:00<00:00, 56833.39it/s]\n"
     ]
    },
    {
     "name": "stdout",
     "output_type": "stream",
     "text": [
      "Stationday 39 KAMX20120119\n"
     ]
    },
    {
     "name": "stderr",
     "output_type": "stream",
     "text": [
      "Tracking: 100%|██████████| 13/13 [00:00<00:00, 1044.44it/s]\n",
      "Cleaning windfarm: 100%|██████████| 12/12 [00:02<00:00,  4.76it/s]\n",
      "Cleaning rain: 100%|██████████| 12/12 [00:00<00:00, 106184.91it/s]\n"
     ]
    },
    {
     "name": "stdout",
     "output_type": "stream",
     "text": [
      "Stationday 40 KAMX20120128\n"
     ]
    },
    {
     "name": "stderr",
     "output_type": "stream",
     "text": [
      "Tracking: 100%|██████████| 17/17 [00:00<00:00, 1400.27it/s]\n",
      "Cleaning windfarm: 100%|██████████| 9/9 [00:00<00:00, 15.81it/s]\n",
      "Cleaning rain: 100%|██████████| 9/9 [00:00<00:00, 76881.34it/s]\n"
     ]
    },
    {
     "name": "stdout",
     "output_type": "stream",
     "text": [
      "Stationday 41 KAMX20120219\n"
     ]
    },
    {
     "name": "stderr",
     "output_type": "stream",
     "text": [
      "Tracking: 100%|██████████| 11/11 [00:00<00:00, 1769.82it/s]\n",
      "Cleaning windfarm: 100%|██████████| 6/6 [00:00<00:00, 10.34it/s]\n",
      "Cleaning rain: 100%|██████████| 6/6 [00:00<00:00, 153.38it/s]\n"
     ]
    },
    {
     "name": "stdout",
     "output_type": "stream",
     "text": [
      "Stationday 42 KAMX20120224\n"
     ]
    },
    {
     "name": "stderr",
     "output_type": "stream",
     "text": [
      "Tracking: 100%|██████████| 6/6 [00:00<00:00, 904.63it/s]\n",
      "Cleaning windfarm: 100%|██████████| 8/8 [00:01<00:00,  4.23it/s]\n",
      "Cleaning rain: 100%|██████████| 8/8 [00:00<00:00, 154.93it/s]\n"
     ]
    },
    {
     "name": "stdout",
     "output_type": "stream",
     "text": [
      "Stationday 43 KAMX20120228\n"
     ]
    },
    {
     "name": "stderr",
     "output_type": "stream",
     "text": [
      "Tracking: 100%|██████████| 12/12 [00:00<00:00, 577.58it/s]\n",
      "Cleaning windfarm: 100%|██████████| 16/16 [00:03<00:00,  4.25it/s]\n",
      "Cleaning rain: 100%|██████████| 16/16 [00:00<00:00, 167.19it/s]\n"
     ]
    },
    {
     "name": "stdout",
     "output_type": "stream",
     "text": [
      "Stationday 44 KAMX20120312\n"
     ]
    },
    {
     "name": "stderr",
     "output_type": "stream",
     "text": [
      "Tracking: 100%|██████████| 14/14 [00:00<00:00, 1370.11it/s]\n",
      "Cleaning windfarm: 100%|██████████| 9/9 [00:00<00:00, 15.14it/s]\n",
      "Cleaning rain: 100%|██████████| 9/9 [00:00<00:00, 144.19it/s]\n"
     ]
    },
    {
     "name": "stdout",
     "output_type": "stream",
     "text": [
      "Stationday 45 KAMX20120316\n"
     ]
    },
    {
     "name": "stderr",
     "output_type": "stream",
     "text": [
      "Tracking: 100%|██████████| 20/20 [00:00<00:00, 1335.83it/s]\n",
      "Cleaning windfarm: 100%|██████████| 9/9 [00:01<00:00,  4.89it/s]\n",
      "Cleaning rain: 100%|██████████| 9/9 [00:00<00:00, 135.37it/s]\n"
     ]
    },
    {
     "name": "stdout",
     "output_type": "stream",
     "text": [
      "Stationday 46 KAMX20120322\n"
     ]
    },
    {
     "name": "stderr",
     "output_type": "stream",
     "text": [
      "Tracking: 100%|██████████| 27/27 [00:00<00:00, 3348.10it/s]\n",
      "Cleaning windfarm: 100%|██████████| 2/2 [00:00<00:00,  3.32it/s]\n",
      "Cleaning rain: 100%|██████████| 2/2 [00:00<00:00, 100.54it/s]\n"
     ]
    },
    {
     "name": "stdout",
     "output_type": "stream",
     "text": [
      "Stationday 47 KAMX20120323\n"
     ]
    },
    {
     "name": "stderr",
     "output_type": "stream",
     "text": [
      "Tracking: 100%|██████████| 11/11 [00:00<00:00, 2524.48it/s]\n",
      "Cleaning windfarm: 100%|██████████| 3/3 [00:00<00:00,  4.97it/s]\n",
      "Cleaning rain: 100%|██████████| 3/3 [00:00<00:00, 149.46it/s]\n"
     ]
    },
    {
     "name": "stdout",
     "output_type": "stream",
     "text": [
      "Stationday 48 KAMX20120325\n"
     ]
    },
    {
     "name": "stderr",
     "output_type": "stream",
     "text": [
      "Tracking: 100%|██████████| 26/26 [00:00<00:00, 1510.60it/s]\n",
      "Cleaning windfarm: 100%|██████████| 5/5 [00:01<00:00,  4.21it/s]\n",
      "Cleaning rain: 100%|██████████| 5/5 [00:00<00:00, 127.19it/s]\n"
     ]
    },
    {
     "name": "stdout",
     "output_type": "stream",
     "text": [
      "Stationday 49 KAMX20120327\n"
     ]
    },
    {
     "name": "stderr",
     "output_type": "stream",
     "text": [
      "Tracking: 100%|██████████| 14/14 [00:00<00:00, 1388.12it/s]\n",
      "Cleaning windfarm: 100%|██████████| 8/8 [00:01<00:00,  6.48it/s]\n",
      "Cleaning rain: 100%|██████████| 8/8 [00:00<00:00, 152.94it/s]\n"
     ]
    },
    {
     "name": "stdout",
     "output_type": "stream",
     "text": [
      "Stationday 50 KAMX20120331\n"
     ]
    },
    {
     "name": "stderr",
     "output_type": "stream",
     "text": [
      "Tracking: 100%|██████████| 11/11 [00:00<00:00, 2051.92it/s]\n",
      "Cleaning windfarm: 100%|██████████| 4/4 [00:01<00:00,  3.19it/s]\n",
      "Cleaning rain: 100%|██████████| 4/4 [00:00<00:00, 122.06it/s]\n"
     ]
    },
    {
     "name": "stdout",
     "output_type": "stream",
     "text": [
      "Stationday 51 KAMX20120508\n"
     ]
    },
    {
     "name": "stderr",
     "output_type": "stream",
     "text": [
      "Tracking: 100%|██████████| 23/23 [00:00<00:00, 2778.72it/s]\n",
      "Cleaning windfarm: 100%|██████████| 2/2 [00:01<00:00,  1.59it/s]\n",
      "Cleaning rain: 100%|██████████| 2/2 [00:00<00:00, 98.96it/s]\n"
     ]
    },
    {
     "name": "stdout",
     "output_type": "stream",
     "text": [
      "Stationday 52 KDOX20081011\n"
     ]
    },
    {
     "name": "stderr",
     "output_type": "stream",
     "text": [
      "Tracking: 100%|██████████| 17/17 [00:00<00:00, 367.78it/s]\n",
      "Cleaning windfarm: 100%|██████████| 31/31 [00:08<00:00,  3.65it/s]\n",
      "Cleaning rain: 100%|██████████| 31/31 [00:00<00:00, 143831.22it/s]\n"
     ]
    },
    {
     "name": "stdout",
     "output_type": "stream",
     "text": [
      "Stationday 53 KDOX20081012\n"
     ]
    },
    {
     "name": "stderr",
     "output_type": "stream",
     "text": [
      "Tracking: 100%|██████████| 20/20 [00:00<00:00, 415.38it/s]\n",
      "Cleaning windfarm: 100%|██████████| 22/22 [00:05<00:00,  4.15it/s]\n",
      "Cleaning rain: 100%|██████████| 22/22 [00:00<00:00, 108558.46it/s]\n"
     ]
    },
    {
     "name": "stdout",
     "output_type": "stream",
     "text": [
      "Stationday 54 KDOX20081017\n"
     ]
    },
    {
     "name": "stderr",
     "output_type": "stream",
     "text": [
      "Tracking: 100%|██████████| 19/19 [00:00<00:00, 1009.51it/s]\n",
      "Cleaning windfarm: 100%|██████████| 11/11 [00:01<00:00,  7.48it/s]\n",
      "Cleaning rain: 100%|██████████| 11/11 [00:00<00:00, 86724.33it/s]\n"
     ]
    },
    {
     "name": "stdout",
     "output_type": "stream",
     "text": [
      "Stationday 55 KDOX20081018\n"
     ]
    },
    {
     "name": "stderr",
     "output_type": "stream",
     "text": [
      "Tracking: 100%|██████████| 20/20 [00:00<00:00, 628.26it/s]\n",
      "Cleaning windfarm: 100%|██████████| 9/9 [00:03<00:00,  2.84it/s]\n",
      "Cleaning rain: 100%|██████████| 9/9 [00:00<00:00, 32910.84it/s]\n"
     ]
    },
    {
     "name": "stdout",
     "output_type": "stream",
     "text": [
      "Stationday 56 KDOX20081024\n"
     ]
    },
    {
     "name": "stderr",
     "output_type": "stream",
     "text": [
      "Tracking: 100%|██████████| 11/11 [00:00<00:00, 1012.58it/s]\n",
      "Cleaning windfarm: 100%|██████████| 9/9 [00:00<00:00, 10.57it/s]\n",
      "Cleaning rain: 100%|██████████| 9/9 [00:00<00:00, 78154.73it/s]\n"
     ]
    },
    {
     "name": "stdout",
     "output_type": "stream",
     "text": [
      "Stationday 57 KDOX20081031\n"
     ]
    },
    {
     "name": "stderr",
     "output_type": "stream",
     "text": [
      "Tracking: 100%|██████████| 18/18 [00:00<00:00, 1131.79it/s]\n",
      "Cleaning windfarm: 100%|██████████| 12/12 [00:00<00:00, 16.56it/s]\n",
      "Cleaning rain: 100%|██████████| 12/12 [00:00<00:00, 85163.53it/s]\n"
     ]
    },
    {
     "name": "stdout",
     "output_type": "stream",
     "text": [
      "Stationday 58 KDOX20090908\n"
     ]
    },
    {
     "name": "stderr",
     "output_type": "stream",
     "text": [
      "Tracking: 100%|██████████| 19/19 [00:00<00:00, 1423.47it/s]\n",
      "Cleaning windfarm: 100%|██████████| 9/9 [00:00<00:00, 11.77it/s]\n",
      "Cleaning rain: 100%|██████████| 9/9 [00:00<00:00, 79304.07it/s]\n"
     ]
    },
    {
     "name": "stdout",
     "output_type": "stream",
     "text": [
      "Stationday 59 KDOX20090909\n"
     ]
    },
    {
     "name": "stderr",
     "output_type": "stream",
     "text": [
      "Tracking: 100%|██████████| 20/20 [00:00<00:00, 773.12it/s]\n",
      "Cleaning windfarm: 100%|██████████| 14/14 [00:05<00:00,  2.59it/s]\n",
      "Cleaning rain: 100%|██████████| 14/14 [00:00<00:00, 90478.05it/s]\n"
     ]
    },
    {
     "name": "stdout",
     "output_type": "stream",
     "text": [
      "Stationday 60 KDOX20090926\n"
     ]
    },
    {
     "name": "stderr",
     "output_type": "stream",
     "text": [
      "Tracking: 100%|██████████| 6/6 [00:00<00:00, 1216.03it/s]\n",
      "Cleaning windfarm: 100%|██████████| 3/3 [00:00<00:00,  3.81it/s]\n",
      "Cleaning rain: 100%|██████████| 3/3 [00:00<00:00, 43690.67it/s]\n"
     ]
    },
    {
     "name": "stdout",
     "output_type": "stream",
     "text": [
      "Stationday 61 KDOX20091017\n"
     ]
    },
    {
     "name": "stderr",
     "output_type": "stream",
     "text": [
      "Tracking: 100%|██████████| 22/22 [00:00<00:00, 1218.26it/s]\n",
      "Cleaning windfarm: 100%|██████████| 16/16 [00:02<00:00,  5.69it/s]\n",
      "Cleaning rain: 100%|██████████| 16/16 [00:00<00:00, 95733.04it/s]\n"
     ]
    },
    {
     "name": "stdout",
     "output_type": "stream",
     "text": [
      "Stationday 62 KDOX20091028\n"
     ]
    },
    {
     "name": "stderr",
     "output_type": "stream",
     "text": [
      "Tracking: 100%|██████████| 22/22 [00:00<00:00, 4825.07it/s]\n",
      "Cleaning windfarm: 100%|██████████| 6/6 [00:00<00:00,  6.85it/s]\n",
      "Cleaning rain: 100%|██████████| 6/6 [00:00<00:00, 33026.02it/s]\n"
     ]
    },
    {
     "name": "stdout",
     "output_type": "stream",
     "text": [
      "Stationday 63 KDOX20100903\n"
     ]
    },
    {
     "name": "stderr",
     "output_type": "stream",
     "text": [
      "Tracking: 100%|██████████| 20/20 [00:00<00:00, 1350.67it/s]\n",
      "Cleaning windfarm: 100%|██████████| 4/4 [00:02<00:00,  1.70it/s]\n",
      "Cleaning rain: 100%|██████████| 4/4 [00:00<00:00, 43018.50it/s]\n"
     ]
    },
    {
     "name": "stdout",
     "output_type": "stream",
     "text": [
      "Stationday 64 KDOX20100905\n"
     ]
    },
    {
     "name": "stderr",
     "output_type": "stream",
     "text": [
      "Tracking: 100%|██████████| 11/11 [00:00<00:00, 484.74it/s]\n",
      "Cleaning windfarm: 100%|██████████| 10/10 [00:05<00:00,  1.89it/s]\n",
      "Cleaning rain: 100%|██████████| 10/10 [00:00<00:00, 87018.76it/s]\n"
     ]
    },
    {
     "name": "stdout",
     "output_type": "stream",
     "text": [
      "Stationday 65 KDOX20100907\n"
     ]
    },
    {
     "name": "stderr",
     "output_type": "stream",
     "text": [
      "Tracking: 100%|██████████| 12/12 [00:00<00:00, 1065.17it/s]\n",
      "Cleaning windfarm: 100%|██████████| 7/7 [00:01<00:00,  4.37it/s]\n",
      "Cleaning rain: 100%|██████████| 7/7 [00:00<00:00, 73400.32it/s]\n"
     ]
    },
    {
     "name": "stdout",
     "output_type": "stream",
     "text": [
      "Stationday 66 KDOX20100914\n"
     ]
    },
    {
     "name": "stderr",
     "output_type": "stream",
     "text": [
      "Tracking: 100%|██████████| 19/19 [00:00<00:00, 326.99it/s]\n",
      "Cleaning windfarm: 100%|██████████| 34/34 [00:04<00:00,  7.46it/s]\n",
      "Cleaning rain: 100%|██████████| 34/34 [00:00<00:00, 137385.68it/s]\n"
     ]
    },
    {
     "name": "stdout",
     "output_type": "stream",
     "text": [
      "Stationday 67 KDOX20100916\n"
     ]
    },
    {
     "name": "stderr",
     "output_type": "stream",
     "text": [
      "Tracking: 100%|██████████| 11/11 [00:00<00:00, 553.96it/s]\n",
      "Cleaning windfarm: 100%|██████████| 12/12 [00:02<00:00,  4.07it/s]\n",
      "Cleaning rain: 100%|██████████| 12/12 [00:00<00:00, 103563.06it/s]\n"
     ]
    },
    {
     "name": "stdout",
     "output_type": "stream",
     "text": [
      "Stationday 68 KDOX20100919\n"
     ]
    },
    {
     "name": "stderr",
     "output_type": "stream",
     "text": [
      "Tracking: 100%|██████████| 11/11 [00:00<00:00, 471.60it/s]\n",
      "Cleaning windfarm: 100%|██████████| 12/12 [00:04<00:00,  2.62it/s]\n",
      "Cleaning rain: 100%|██████████| 12/12 [00:00<00:00, 106409.40it/s]\n"
     ]
    },
    {
     "name": "stdout",
     "output_type": "stream",
     "text": [
      "Stationday 69 KDOX20101002\n"
     ]
    },
    {
     "name": "stderr",
     "output_type": "stream",
     "text": [
      "Tracking: 100%|██████████| 11/11 [00:00<00:00, 310.77it/s]\n",
      "Cleaning windfarm: 100%|██████████| 20/20 [00:10<00:00,  1.83it/s]\n",
      "Cleaning rain: 100%|██████████| 20/20 [00:00<00:00, 76959.71it/s]\n"
     ]
    },
    {
     "name": "stdout",
     "output_type": "stream",
     "text": [
      "Stationday 70 KDOX20101011\n"
     ]
    },
    {
     "name": "stderr",
     "output_type": "stream",
     "text": [
      "Tracking: 100%|██████████| 20/20 [00:00<00:00, 427.37it/s]\n",
      "Cleaning windfarm: 100%|██████████| 26/26 [00:03<00:00,  6.62it/s]\n",
      "Cleaning rain: 100%|██████████| 26/26 [00:00<00:00, 106496.00it/s]\n"
     ]
    },
    {
     "name": "stdout",
     "output_type": "stream",
     "text": [
      "Stationday 71 KDOX20101012\n"
     ]
    },
    {
     "name": "stderr",
     "output_type": "stream",
     "text": [
      "Tracking: 100%|██████████| 20/20 [00:00<00:00, 284.62it/s]\n",
      "Cleaning windfarm: 100%|██████████| 29/29 [00:09<00:00,  3.01it/s]\n",
      "Cleaning rain: 100%|██████████| 29/29 [00:00<00:00, 129813.04it/s]\n"
     ]
    },
    {
     "name": "stdout",
     "output_type": "stream",
     "text": [
      "Stationday 72 KDOX20101017\n"
     ]
    },
    {
     "name": "stderr",
     "output_type": "stream",
     "text": [
      "Tracking: 100%|██████████| 19/19 [00:00<00:00, 725.05it/s]\n",
      "Cleaning windfarm: 100%|██████████| 30/30 [00:02<00:00, 10.04it/s]\n",
      "Cleaning rain: 100%|██████████| 30/30 [00:00<00:00, 120989.54it/s]\n"
     ]
    },
    {
     "name": "stdout",
     "output_type": "stream",
     "text": [
      "Stationday 73 KDOX20101022\n"
     ]
    },
    {
     "name": "stderr",
     "output_type": "stream",
     "text": [
      "Tracking: 100%|██████████| 11/11 [00:00<00:00, 1439.99it/s]\n",
      "Cleaning windfarm: 100%|██████████| 7/7 [00:00<00:00,  8.93it/s]\n",
      "Cleaning rain: 100%|██████████| 7/7 [00:00<00:00, 64812.64it/s]\n"
     ]
    },
    {
     "name": "stdout",
     "output_type": "stream",
     "text": [
      "Stationday 74 KDOX20101023\n"
     ]
    },
    {
     "name": "stderr",
     "output_type": "stream",
     "text": [
      "Tracking: 100%|██████████| 11/11 [00:00<00:00, 885.50it/s]\n",
      "Cleaning windfarm: 100%|██████████| 15/15 [00:01<00:00,  9.66it/s]\n",
      "Cleaning rain: 100%|██████████| 15/15 [00:00<00:00, 119837.26it/s]\n"
     ]
    },
    {
     "name": "stdout",
     "output_type": "stream",
     "text": [
      "Stationday 75 KDOX20101026\n"
     ]
    },
    {
     "name": "stderr",
     "output_type": "stream",
     "text": [
      "Tracking: 100%|██████████| 15/15 [00:00<00:00, 1104.46it/s]\n",
      "Cleaning windfarm: 100%|██████████| 7/7 [00:00<00:00,  9.72it/s]\n",
      "Cleaning rain: 100%|██████████| 7/7 [00:00<00:00, 73217.28it/s]\n"
     ]
    },
    {
     "name": "stdout",
     "output_type": "stream",
     "text": [
      "Stationday 76 KDOX20101031\n"
     ]
    },
    {
     "name": "stderr",
     "output_type": "stream",
     "text": [
      "Tracking: 100%|██████████| 12/12 [00:00<00:00, 2412.48it/s]\n",
      "Cleaning windfarm: 100%|██████████| 7/7 [00:00<00:00, 44350.65it/s]\n",
      "Cleaning rain: 100%|██████████| 7/7 [00:00<00:00, 74898.29it/s]\n"
     ]
    },
    {
     "name": "stdout",
     "output_type": "stream",
     "text": [
      "Stationday 77 KDOX20110905\n"
     ]
    },
    {
     "name": "stderr",
     "output_type": "stream",
     "text": [
      "Tracking: 100%|██████████| 20/20 [00:00<00:00, 662.08it/s]\n",
      "Cleaning windfarm: 100%|██████████| 18/18 [00:03<00:00,  4.68it/s]\n",
      "Cleaning rain: 100%|██████████| 18/18 [00:00<00:00, 103991.01it/s]\n"
     ]
    },
    {
     "name": "stdout",
     "output_type": "stream",
     "text": [
      "Stationday 78 KDOX20110906\n"
     ]
    },
    {
     "name": "stderr",
     "output_type": "stream",
     "text": [
      "Tracking: 100%|██████████| 20/20 [00:00<00:00, 880.81it/s]\n",
      "Cleaning windfarm: 100%|██████████| 12/12 [00:03<00:00,  3.18it/s]\n",
      "Cleaning rain: 100%|██████████| 12/12 [00:00<00:00, 78520.51it/s]\n"
     ]
    },
    {
     "name": "stdout",
     "output_type": "stream",
     "text": [
      "Stationday 79 KDOX20110921\n"
     ]
    },
    {
     "name": "stderr",
     "output_type": "stream",
     "text": [
      "Tracking: 100%|██████████| 20/20 [00:00<00:00, 535.04it/s]\n",
      "Cleaning windfarm: 100%|██████████| 17/17 [00:06<00:00,  2.82it/s]\n",
      "Cleaning rain: 100%|██████████| 17/17 [00:00<00:00, 76178.60it/s]\n"
     ]
    },
    {
     "name": "stdout",
     "output_type": "stream",
     "text": [
      "Stationday 80 KDOX20110927\n"
     ]
    },
    {
     "name": "stderr",
     "output_type": "stream",
     "text": [
      "Tracking: 100%|██████████| 20/20 [00:00<00:00, 697.84it/s]\n",
      "Cleaning windfarm: 100%|██████████| 13/13 [00:05<00:00,  2.36it/s]\n",
      "Cleaning rain: 100%|██████████| 13/13 [00:00<00:00, 71182.70it/s]\n"
     ]
    },
    {
     "name": "stdout",
     "output_type": "stream",
     "text": [
      "Stationday 81 KDOX20111003\n"
     ]
    },
    {
     "name": "stderr",
     "output_type": "stream",
     "text": [
      "Tracking: 100%|██████████| 15/15 [00:00<00:00, 928.61it/s]\n",
      "Cleaning windfarm: 100%|██████████| 21/21 [00:03<00:00,  6.55it/s]\n",
      "Cleaning rain: 100%|██████████| 21/21 [00:00<00:00, 125649.62it/s]\n"
     ]
    },
    {
     "name": "stdout",
     "output_type": "stream",
     "text": [
      "Stationday 82 KDOX20111004\n"
     ]
    },
    {
     "name": "stderr",
     "output_type": "stream",
     "text": [
      "Tracking: 100%|██████████| 14/14 [00:00<00:00, 812.48it/s]\n",
      "Cleaning windfarm: 100%|██████████| 15/15 [00:04<00:00,  3.36it/s]\n",
      "Cleaning rain: 100%|██████████| 15/15 [00:00<00:00, 102969.82it/s]\n"
     ]
    },
    {
     "name": "stdout",
     "output_type": "stream",
     "text": [
      "Stationday 83 KDOX20111005\n"
     ]
    },
    {
     "name": "stderr",
     "output_type": "stream",
     "text": [
      "Tracking: 100%|██████████| 12/12 [00:00<00:00, 291.13it/s]\n",
      "Cleaning windfarm: 100%|██████████| 24/24 [00:08<00:00,  2.84it/s]\n",
      "Cleaning rain: 100%|██████████| 24/24 [00:00<00:00, 123664.98it/s]\n"
     ]
    },
    {
     "name": "stdout",
     "output_type": "stream",
     "text": [
      "Stationday 84 KDOX20111010\n"
     ]
    },
    {
     "name": "stderr",
     "output_type": "stream",
     "text": [
      "Tracking: 100%|██████████| 20/20 [00:00<00:00, 280.10it/s]\n",
      "Cleaning windfarm: 100%|██████████| 27/27 [00:07<00:00,  3.48it/s]\n",
      "Cleaning rain: 100%|██████████| 27/27 [00:00<00:00, 110700.11it/s]\n"
     ]
    },
    {
     "name": "stdout",
     "output_type": "stream",
     "text": [
      "Stationday 85 KDOX20111014\n"
     ]
    },
    {
     "name": "stderr",
     "output_type": "stream",
     "text": [
      "Tracking: 100%|██████████| 20/20 [00:00<00:00, 1753.29it/s]\n",
      "Cleaning windfarm: 100%|██████████| 8/8 [00:00<00:00, 10.68it/s]\n",
      "Cleaning rain: 100%|██████████| 8/8 [00:00<00:00, 73262.95it/s]\n"
     ]
    },
    {
     "name": "stdout",
     "output_type": "stream",
     "text": [
      "Stationday 86 KDOX20111017\n"
     ]
    },
    {
     "name": "stderr",
     "output_type": "stream",
     "text": [
      "Tracking: 100%|██████████| 12/12 [00:00<00:00, 670.41it/s]\n",
      "Cleaning windfarm: 100%|██████████| 13/13 [00:03<00:00,  3.33it/s]\n",
      "Cleaning rain: 100%|██████████| 13/13 [00:00<00:00, 45628.41it/s]\n"
     ]
    },
    {
     "name": "stdout",
     "output_type": "stream",
     "text": [
      "Stationday 87 KDOX20111025\n"
     ]
    },
    {
     "name": "stderr",
     "output_type": "stream",
     "text": [
      "Tracking: 100%|██████████| 12/12 [00:00<00:00, 969.18it/s]\n",
      "Cleaning windfarm: 100%|██████████| 6/6 [00:01<00:00,  3.67it/s]\n",
      "Cleaning rain: 100%|██████████| 6/6 [00:00<00:00, 51150.05it/s]\n"
     ]
    },
    {
     "name": "stdout",
     "output_type": "stream",
     "text": [
      "Stationday 88 KHGX20111027\n"
     ]
    },
    {
     "name": "stderr",
     "output_type": "stream",
     "text": [
      "Tracking: 100%|██████████| 18/18 [00:00<00:00, 1407.64it/s]\n",
      "Cleaning windfarm: 100%|██████████| 7/7 [00:01<00:00,  6.34it/s]\n",
      "Cleaning rain: 100%|██████████| 7/7 [00:00<00:00, 68120.95it/s]\n"
     ]
    },
    {
     "name": "stdout",
     "output_type": "stream",
     "text": [
      "Stationday 89 KHGX20111113\n"
     ]
    },
    {
     "name": "stderr",
     "output_type": "stream",
     "text": [
      "Tracking: 100%|██████████| 36/36 [00:00<00:00, 548.09it/s]\n",
      "Cleaning windfarm: 100%|██████████| 20/20 [00:03<00:00,  5.45it/s]\n",
      "Cleaning rain: 100%|██████████| 20/20 [00:00<00:00, 81680.70it/s]\n"
     ]
    },
    {
     "name": "stdout",
     "output_type": "stream",
     "text": [
      "Stationday 90 KHGX20111126\n"
     ]
    },
    {
     "name": "stderr",
     "output_type": "stream",
     "text": [
      "Tracking: 100%|██████████| 23/23 [00:00<00:00, 2157.95it/s]\n",
      "Cleaning windfarm: 100%|██████████| 5/5 [00:00<00:00,  8.28it/s]\n",
      "Cleaning rain: 100%|██████████| 5/5 [00:00<00:00, 31488.77it/s]\n"
     ]
    },
    {
     "name": "stdout",
     "output_type": "stream",
     "text": [
      "Stationday 91 KHGX20111129\n"
     ]
    },
    {
     "name": "stderr",
     "output_type": "stream",
     "text": [
      "Tracking: 100%|██████████| 12/12 [00:00<00:00, 901.55it/s]\n",
      "Cleaning windfarm: 100%|██████████| 11/11 [00:01<00:00,  8.30it/s]\n",
      "Cleaning rain: 100%|██████████| 11/11 [00:00<00:00, 100298.57it/s]\n"
     ]
    },
    {
     "name": "stdout",
     "output_type": "stream",
     "text": [
      "Stationday 92 KHGX20111130\n"
     ]
    },
    {
     "name": "stderr",
     "output_type": "stream",
     "text": [
      "Tracking: 100%|██████████| 11/11 [00:00<00:00, 1298.80it/s]\n",
      "Cleaning windfarm: 100%|██████████| 10/10 [00:00<00:00, 13.87it/s]\n",
      "Cleaning rain: 100%|██████████| 10/10 [00:00<00:00, 58743.75it/s]\n"
     ]
    },
    {
     "name": "stdout",
     "output_type": "stream",
     "text": [
      "Stationday 93 KJAX20111014\n"
     ]
    },
    {
     "name": "stderr",
     "output_type": "stream",
     "text": [
      "Tracking: 100%|██████████| 20/20 [00:00<00:00, 2801.62it/s]\n",
      "Cleaning windfarm: 100%|██████████| 5/5 [00:01<00:00,  2.90it/s]\n",
      "Cleaning rain: 100%|██████████| 5/5 [00:00<00:00, 55333.83it/s]\n"
     ]
    },
    {
     "name": "stdout",
     "output_type": "stream",
     "text": [
      "Stationday 94 KJAX20111023\n"
     ]
    },
    {
     "name": "stderr",
     "output_type": "stream",
     "text": [
      "Tracking: 100%|██████████| 20/20 [00:00<00:00, 2441.46it/s]\n",
      "Cleaning windfarm: 100%|██████████| 5/5 [00:01<00:00,  2.85it/s]\n",
      "Cleaning rain: 100%|██████████| 5/5 [00:00<00:00, 55924.05it/s]\n"
     ]
    },
    {
     "name": "stdout",
     "output_type": "stream",
     "text": [
      "Stationday 95 KJAX20111027\n"
     ]
    },
    {
     "name": "stderr",
     "output_type": "stream",
     "text": [
      "Tracking: 100%|██████████| 20/20 [00:00<00:00, 504.81it/s]\n",
      "Cleaning windfarm: 100%|██████████| 14/14 [00:05<00:00,  2.71it/s]\n",
      "Cleaning rain: 100%|██████████| 14/14 [00:00<00:00, 76062.51it/s]\n"
     ]
    },
    {
     "name": "stdout",
     "output_type": "stream",
     "text": [
      "Stationday 96 KLCH20111014\n"
     ]
    },
    {
     "name": "stderr",
     "output_type": "stream",
     "text": [
      "Tracking: 100%|██████████| 20/20 [00:00<00:00, 1287.09it/s]\n",
      "Cleaning windfarm: 100%|██████████| 12/12 [00:01<00:00,  8.79it/s]\n",
      "Cleaning rain: 100%|██████████| 12/12 [00:00<00:00, 84307.62it/s]\n"
     ]
    },
    {
     "name": "stdout",
     "output_type": "stream",
     "text": [
      "Stationday 97 KLCH20111025\n"
     ]
    },
    {
     "name": "stderr",
     "output_type": "stream",
     "text": [
      "Tracking: 100%|██████████| 12/12 [00:00<00:00, 1092.10it/s]\n",
      "Cleaning windfarm: 100%|██████████| 10/10 [00:01<00:00,  7.39it/s]\n",
      "Cleaning rain: 100%|██████████| 10/10 [00:00<00:00, 78106.22it/s]\n"
     ]
    },
    {
     "name": "stdout",
     "output_type": "stream",
     "text": [
      "Stationday 98 KLCH20111031\n"
     ]
    },
    {
     "name": "stderr",
     "output_type": "stream",
     "text": [
      "Tracking: 100%|██████████| 16/16 [00:00<00:00, 1144.07it/s]\n",
      "Cleaning windfarm: 100%|██████████| 12/12 [00:02<00:00,  4.43it/s]\n",
      "Cleaning rain: 100%|██████████| 12/12 [00:00<00:00, 84449.07it/s]\n"
     ]
    },
    {
     "name": "stdout",
     "output_type": "stream",
     "text": [
      "Stationday 99 KLCH20111103\n"
     ]
    },
    {
     "name": "stderr",
     "output_type": "stream",
     "text": [
      "Tracking: 100%|██████████| 12/12 [00:00<00:00, 804.51it/s]\n",
      "Cleaning windfarm: 100%|██████████| 16/16 [00:03<00:00,  4.59it/s]\n",
      "Cleaning rain: 100%|██████████| 16/16 [00:00<00:00, 115904.77it/s]\n"
     ]
    },
    {
     "name": "stdout",
     "output_type": "stream",
     "text": [
      "Stationday 100 KLCH20111109\n"
     ]
    },
    {
     "name": "stderr",
     "output_type": "stream",
     "text": [
      "Tracking: 100%|██████████| 17/17 [00:00<00:00, 332.25it/s]\n",
      "Cleaning windfarm: 100%|██████████| 20/20 [00:03<00:00,  5.64it/s]\n",
      "Cleaning rain: 100%|██████████| 20/20 [00:00<00:00, 111997.44it/s]\n"
     ]
    },
    {
     "name": "stdout",
     "output_type": "stream",
     "text": [
      "Stationday 101 KLCH20111116\n"
     ]
    },
    {
     "name": "stderr",
     "output_type": "stream",
     "text": [
      "Tracking: 100%|██████████| 13/13 [00:00<00:00, 1096.59it/s]\n",
      "Cleaning windfarm: 100%|██████████| 11/11 [00:01<00:00,  8.11it/s]\n",
      "Cleaning rain: 100%|██████████| 11/11 [00:00<00:00, 79273.79it/s]\n"
     ]
    },
    {
     "name": "stdout",
     "output_type": "stream",
     "text": [
      "Stationday 102 KLCH20111128\n"
     ]
    },
    {
     "name": "stderr",
     "output_type": "stream",
     "text": [
      "Tracking: 100%|██████████| 15/15 [00:00<00:00, 629.09it/s]\n",
      "Cleaning windfarm: 100%|██████████| 16/16 [00:02<00:00,  5.68it/s]\n",
      "Cleaning rain: 100%|██████████| 16/16 [00:00<00:00, 104530.94it/s]\n"
     ]
    },
    {
     "name": "stdout",
     "output_type": "stream",
     "text": [
      "Stationday 103 KLIX19951018\n"
     ]
    },
    {
     "name": "stderr",
     "output_type": "stream",
     "text": [
      "Tracking: 100%|██████████| 19/19 [00:00<00:00, 1321.17it/s]\n",
      "Cleaning windfarm: 100%|██████████| 4/4 [00:01<00:00,  2.76it/s]\n",
      "Cleaning rain: 100%|██████████| 4/4 [00:00<00:00, 42153.81it/s]\n"
     ]
    },
    {
     "name": "stdout",
     "output_type": "stream",
     "text": [
      "Stationday 104 KLIX19951129\n"
     ]
    },
    {
     "name": "stderr",
     "output_type": "stream",
     "text": [
      "Tracking: 100%|██████████| 20/20 [00:00<00:00, 1824.36it/s]\n",
      "Cleaning windfarm: 100%|██████████| 5/5 [00:00<00:00,  7.23it/s]\n",
      "Cleaning rain: 100%|██████████| 5/5 [00:00<00:00, 44431.19it/s]\n"
     ]
    },
    {
     "name": "stdout",
     "output_type": "stream",
     "text": [
      "Stationday 105 KLIX19960104\n"
     ]
    },
    {
     "name": "stderr",
     "output_type": "stream",
     "text": [
      "Tracking: 100%|██████████| 19/19 [00:00<00:00, 977.75it/s]\n",
      "Cleaning windfarm: 100%|██████████| 10/10 [00:02<00:00,  3.72it/s]\n",
      "Cleaning rain: 100%|██████████| 10/10 [00:00<00:00, 83551.87it/s]\n"
     ]
    },
    {
     "name": "stdout",
     "output_type": "stream",
     "text": [
      "Stationday 106 KLIX19960329\n"
     ]
    },
    {
     "name": "stderr",
     "output_type": "stream",
     "text": [
      "Tracking: 100%|██████████| 10/10 [00:00<00:00, 1630.38it/s]\n",
      "Cleaning windfarm: 100%|██████████| 10/10 [00:01<00:00,  7.25it/s]\n",
      "Cleaning rain: 100%|██████████| 10/10 [00:00<00:00, 44150.57it/s]\n"
     ]
    },
    {
     "name": "stdout",
     "output_type": "stream",
     "text": [
      "Stationday 107 KLIX19961014\n"
     ]
    },
    {
     "name": "stderr",
     "output_type": "stream",
     "text": [
      "Tracking: 100%|██████████| 19/19 [00:00<00:00, 279.57it/s]\n",
      "Cleaning windfarm: 100%|██████████| 14/14 [00:02<00:00,  5.03it/s]\n",
      "Cleaning rain: 100%|██████████| 14/14 [00:00<00:00, 91893.98it/s]\n"
     ]
    },
    {
     "name": "stdout",
     "output_type": "stream",
     "text": [
      "Stationday 108 KLIX19961108\n"
     ]
    },
    {
     "name": "stderr",
     "output_type": "stream",
     "text": [
      "Tracking: 100%|██████████| 20/20 [00:00<00:00, 543.92it/s]\n",
      "Cleaning windfarm: 100%|██████████| 16/16 [00:03<00:00,  4.67it/s]\n",
      "Cleaning rain: 100%|██████████| 16/16 [00:00<00:00, 46028.03it/s]\n"
     ]
    },
    {
     "name": "stdout",
     "output_type": "stream",
     "text": [
      "Stationday 109 KLIX19961114\n"
     ]
    },
    {
     "name": "stderr",
     "output_type": "stream",
     "text": [
      "Tracking: 100%|██████████| 20/20 [00:00<00:00, 314.38it/s]\n",
      "Cleaning windfarm: 100%|██████████| 14/14 [00:02<00:00,  5.15it/s]\n",
      "Cleaning rain: 100%|██████████| 14/14 [00:00<00:00, 90757.74it/s]\n"
     ]
    },
    {
     "name": "stdout",
     "output_type": "stream",
     "text": [
      "Stationday 110 KLIX19961119\n"
     ]
    },
    {
     "name": "stderr",
     "output_type": "stream",
     "text": [
      "Tracking: 100%|██████████| 20/20 [00:00<00:00, 2709.50it/s]\n",
      "Cleaning windfarm: 100%|██████████| 4/4 [00:01<00:00,  2.76it/s]\n",
      "Cleaning rain: 100%|██████████| 4/4 [00:00<00:00, 46995.00it/s]\n"
     ]
    },
    {
     "name": "stdout",
     "output_type": "stream",
     "text": [
      "Stationday 111 KLIX19961122\n"
     ]
    },
    {
     "name": "stderr",
     "output_type": "stream",
     "text": [
      "Tracking: 100%|██████████| 18/18 [00:00<00:00, 229.35it/s]\n",
      "Cleaning windfarm: 100%|██████████| 35/35 [00:06<00:00,  5.77it/s]\n",
      "Cleaning rain: 100%|██████████| 35/35 [00:00<00:00, 123051.67it/s]\n"
     ]
    },
    {
     "name": "stdout",
     "output_type": "stream",
     "text": [
      "Stationday 112 KLIX19961204\n"
     ]
    },
    {
     "name": "stderr",
     "output_type": "stream",
     "text": [
      "Tracking: 100%|██████████| 18/18 [00:00<00:00, 293.22it/s]\n",
      "Cleaning windfarm: 100%|██████████| 31/31 [00:05<00:00,  6.00it/s]\n",
      "Cleaning rain: 100%|██████████| 31/31 [00:00<00:00, 117668.26it/s]\n"
     ]
    },
    {
     "name": "stdout",
     "output_type": "stream",
     "text": [
      "Stationday 113 KLIX19961206\n"
     ]
    },
    {
     "name": "stderr",
     "output_type": "stream",
     "text": [
      "Tracking: 100%|██████████| 19/19 [00:00<00:00, 548.52it/s]\n",
      "Cleaning windfarm: 100%|██████████| 18/18 [00:04<00:00,  4.49it/s]\n",
      "Cleaning rain: 100%|██████████| 18/18 [00:00<00:00, 109734.70it/s]\n"
     ]
    },
    {
     "name": "stdout",
     "output_type": "stream",
     "text": [
      "Stationday 114 KLIX19961216\n"
     ]
    },
    {
     "name": "stderr",
     "output_type": "stream",
     "text": [
      "Tracking: 100%|██████████| 14/14 [00:00<00:00, 714.91it/s]\n",
      "Cleaning windfarm: 100%|██████████| 8/8 [00:02<00:00,  3.00it/s]\n",
      "Cleaning rain: 100%|██████████| 8/8 [00:00<00:00, 78033.56it/s]\n"
     ]
    },
    {
     "name": "stdout",
     "output_type": "stream",
     "text": [
      "Stationday 115 KLIX19961220\n"
     ]
    },
    {
     "name": "stderr",
     "output_type": "stream",
     "text": [
      "Tracking: 100%|██████████| 19/19 [00:00<00:00, 811.16it/s]\n",
      "Cleaning windfarm: 100%|██████████| 17/17 [00:02<00:00,  8.21it/s]\n",
      "Cleaning rain: 100%|██████████| 17/17 [00:00<00:00, 92721.93it/s]\n"
     ]
    },
    {
     "name": "stdout",
     "output_type": "stream",
     "text": [
      "Stationday 116 KLIX19961224\n"
     ]
    },
    {
     "name": "stderr",
     "output_type": "stream",
     "text": [
      "Tracking: 100%|██████████| 20/20 [00:00<00:00, 1391.12it/s]\n",
      "Cleaning windfarm: 100%|██████████| 7/7 [00:01<00:00,  3.53it/s]\n",
      "Cleaning rain: 100%|██████████| 7/7 [00:00<00:00, 69573.76it/s]\n"
     ]
    },
    {
     "name": "stdout",
     "output_type": "stream",
     "text": [
      "Stationday 117 KLIX19961226\n"
     ]
    },
    {
     "name": "stderr",
     "output_type": "stream",
     "text": [
      "Tracking: 100%|██████████| 8/8 [00:00<00:00, 800.50it/s]\n",
      "Cleaning windfarm: 100%|██████████| 8/8 [00:00<00:00, 11.30it/s]\n",
      "Cleaning rain: 100%|██████████| 8/8 [00:00<00:00, 82646.38it/s]\n"
     ]
    },
    {
     "name": "stdout",
     "output_type": "stream",
     "text": [
      "Stationday 118 KLIX19970102\n"
     ]
    },
    {
     "name": "stderr",
     "output_type": "stream",
     "text": [
      "Tracking: 100%|██████████| 18/18 [00:00<00:00, 768.03it/s]\n",
      "Cleaning windfarm: 100%|██████████| 11/11 [00:03<00:00,  3.23it/s]\n",
      "Cleaning rain: 100%|██████████| 11/11 [00:00<00:00, 82094.92it/s]\n"
     ]
    },
    {
     "name": "stdout",
     "output_type": "stream",
     "text": [
      "Stationday 119 KLIX19970122\n"
     ]
    },
    {
     "name": "stderr",
     "output_type": "stream",
     "text": [
      "Tracking: 100%|██████████| 19/19 [00:00<00:00, 2004.72it/s]\n",
      "Cleaning windfarm: 100%|██████████| 6/6 [00:00<00:00,  8.72it/s]\n",
      "Cleaning rain: 100%|██████████| 6/6 [00:00<00:00, 58254.22it/s]\n"
     ]
    },
    {
     "name": "stdout",
     "output_type": "stream",
     "text": [
      "Stationday 120 KLIX19970126\n"
     ]
    },
    {
     "name": "stderr",
     "output_type": "stream",
     "text": [
      "Tracking: 100%|██████████| 18/18 [00:00<00:00, 461.35it/s]\n",
      "Cleaning windfarm: 100%|██████████| 19/19 [00:03<00:00,  4.94it/s]\n",
      "Cleaning rain: 100%|██████████| 19/19 [00:00<00:00, 105134.27it/s]\n"
     ]
    },
    {
     "name": "stdout",
     "output_type": "stream",
     "text": [
      "Stationday 121 KLIX19970313\n"
     ]
    },
    {
     "name": "stderr",
     "output_type": "stream",
     "text": [
      "Tracking: 100%|██████████| 20/20 [00:00<00:00, 2035.97it/s]\n",
      "Cleaning windfarm: 100%|██████████| 7/7 [00:01<00:00,  5.21it/s]\n",
      "Cleaning rain: 100%|██████████| 7/7 [00:00<00:00, 26935.90it/s]\n"
     ]
    },
    {
     "name": "stdout",
     "output_type": "stream",
     "text": [
      "Stationday 122 KLIX19970409\n"
     ]
    },
    {
     "name": "stderr",
     "output_type": "stream",
     "text": [
      "Tracking: 100%|██████████| 19/19 [00:00<00:00, 777.45it/s]\n",
      "Cleaning windfarm: 100%|██████████| 9/9 [00:01<00:00,  6.30it/s]\n",
      "Cleaning rain: 100%|██████████| 9/9 [00:00<00:00, 73441.12it/s]\n"
     ]
    },
    {
     "name": "stdout",
     "output_type": "stream",
     "text": [
      "Stationday 123 KLIX19970411\n"
     ]
    },
    {
     "name": "stderr",
     "output_type": "stream",
     "text": [
      "Tracking: 100%|██████████| 18/18 [00:00<00:00, 3380.23it/s]\n",
      "Cleaning windfarm: 100%|██████████| 8/8 [00:00<00:00, 47460.30it/s]\n",
      "Cleaning rain: 100%|██████████| 8/8 [00:00<00:00, 40970.00it/s]\n"
     ]
    },
    {
     "name": "stdout",
     "output_type": "stream",
     "text": [
      "Stationday 124 KLIX19971018\n"
     ]
    },
    {
     "name": "stderr",
     "output_type": "stream",
     "text": [
      "Tracking: 100%|██████████| 14/14 [00:00<00:00, 325.23it/s]\n",
      "Cleaning windfarm: 100%|██████████| 22/22 [00:03<00:00,  6.38it/s]\n",
      "Cleaning rain: 100%|██████████| 22/22 [00:00<00:00, 130886.08it/s]\n"
     ]
    },
    {
     "name": "stdout",
     "output_type": "stream",
     "text": [
      "Stationday 125 KLIX19971027\n"
     ]
    },
    {
     "name": "stderr",
     "output_type": "stream",
     "text": [
      "Tracking: 100%|██████████| 16/16 [00:00<00:00, 2193.10it/s]\n",
      "Cleaning windfarm: 100%|██████████| 6/6 [00:00<00:00,  9.52it/s]\n",
      "Cleaning rain: 100%|██████████| 6/6 [00:00<00:00, 65196.44it/s]\n"
     ]
    },
    {
     "name": "stdout",
     "output_type": "stream",
     "text": [
      "Stationday 126 KLIX19971103\n"
     ]
    },
    {
     "name": "stderr",
     "output_type": "stream",
     "text": [
      "Tracking: 100%|██████████| 11/11 [00:00<00:00, 362.81it/s]\n",
      "Cleaning windfarm: 100%|██████████| 13/13 [00:04<00:00,  3.08it/s]\n",
      "Cleaning rain: 100%|██████████| 13/13 [00:00<00:00, 48381.50it/s]\n"
     ]
    },
    {
     "name": "stdout",
     "output_type": "stream",
     "text": [
      "Stationday 127 KLIX19971110\n"
     ]
    },
    {
     "name": "stderr",
     "output_type": "stream",
     "text": [
      "Tracking: 100%|██████████| 19/19 [00:00<00:00, 222.50it/s]\n",
      "Cleaning windfarm: 100%|██████████| 19/19 [00:06<00:00,  2.92it/s]\n",
      "Cleaning rain: 100%|██████████| 19/19 [00:00<00:00, 76479.63it/s]\n"
     ]
    },
    {
     "name": "stdout",
     "output_type": "stream",
     "text": [
      "Stationday 128 KLIX19971111\n"
     ]
    },
    {
     "name": "stderr",
     "output_type": "stream",
     "text": [
      "Tracking: 100%|██████████| 19/19 [00:00<00:00, 381.83it/s]\n",
      "Cleaning windfarm: 100%|██████████| 15/15 [00:06<00:00,  2.44it/s]\n",
      "Cleaning rain: 100%|██████████| 15/15 [00:00<00:00, 97240.43it/s]\n"
     ]
    },
    {
     "name": "stdout",
     "output_type": "stream",
     "text": [
      "Stationday 129 KLIX19971130\n"
     ]
    },
    {
     "name": "stderr",
     "output_type": "stream",
     "text": [
      "Tracking: 100%|██████████| 11/11 [00:00<00:00, 749.74it/s]\n",
      "Cleaning windfarm: 100%|██████████| 9/9 [00:02<00:00,  4.30it/s]\n",
      "Cleaning rain: 100%|██████████| 9/9 [00:00<00:00, 87179.53it/s]\n"
     ]
    },
    {
     "name": "stdout",
     "output_type": "stream",
     "text": [
      "Stationday 130 KLIX19971205\n"
     ]
    },
    {
     "name": "stderr",
     "output_type": "stream",
     "text": [
      "Tracking: 100%|██████████| 11/11 [00:00<00:00, 1159.00it/s]\n",
      "Cleaning windfarm: 100%|██████████| 8/8 [00:01<00:00,  5.73it/s]\n",
      "Cleaning rain: 100%|██████████| 8/8 [00:00<00:00, 63791.70it/s]\n"
     ]
    },
    {
     "name": "stdout",
     "output_type": "stream",
     "text": [
      "Stationday 131 KLIX19980101\n"
     ]
    },
    {
     "name": "stderr",
     "output_type": "stream",
     "text": [
      "Tracking: 100%|██████████| 11/11 [00:00<00:00, 1527.47it/s]\n",
      "Cleaning windfarm: 100%|██████████| 6/6 [00:01<00:00,  4.33it/s]\n",
      "Cleaning rain: 100%|██████████| 6/6 [00:00<00:00, 26296.58it/s]\n"
     ]
    },
    {
     "name": "stdout",
     "output_type": "stream",
     "text": [
      "Stationday 132 KLIX19980214\n"
     ]
    },
    {
     "name": "stderr",
     "output_type": "stream",
     "text": [
      "Tracking: 100%|██████████| 11/11 [00:00<00:00, 453.94it/s]\n",
      "Cleaning windfarm: 100%|██████████| 7/7 [00:01<00:00,  4.88it/s]\n",
      "Cleaning rain: 100%|██████████| 7/7 [00:00<00:00, 61551.63it/s]\n"
     ]
    },
    {
     "name": "stdout",
     "output_type": "stream",
     "text": [
      "Stationday 133 KLIX19981016\n"
     ]
    },
    {
     "name": "stderr",
     "output_type": "stream",
     "text": [
      "Tracking: 100%|██████████| 7/7 [00:00<00:00, 651.04it/s]\n",
      "Cleaning windfarm: 100%|██████████| 3/3 [00:00<00:00,  4.29it/s]\n",
      "Cleaning rain: 100%|██████████| 3/3 [00:00<00:00, 28597.53it/s]\n"
     ]
    },
    {
     "name": "stdout",
     "output_type": "stream",
     "text": [
      "Stationday 134 KLIX19981023\n"
     ]
    },
    {
     "name": "stderr",
     "output_type": "stream",
     "text": [
      "Tracking: 100%|██████████| 11/11 [00:00<00:00, 6773.95it/s]\n",
      "Cleaning windfarm: 100%|██████████| 2/2 [00:00<00:00, 12018.06it/s]\n",
      "Cleaning rain: 100%|██████████| 2/2 [00:00<00:00, 15592.21it/s]\n"
     ]
    },
    {
     "name": "stdout",
     "output_type": "stream",
     "text": [
      "Stationday 135 KLIX19981027\n"
     ]
    },
    {
     "name": "stderr",
     "output_type": "stream",
     "text": [
      "Tracking: 100%|██████████| 20/20 [00:00<00:00, 252.63it/s]\n",
      "Cleaning windfarm: 100%|██████████| 36/36 [00:05<00:00,  6.02it/s]\n",
      "Cleaning rain: 100%|██████████| 36/36 [00:00<00:00, 108785.98it/s]\n"
     ]
    },
    {
     "name": "stdout",
     "output_type": "stream",
     "text": [
      "Stationday 136 KLIX19981028\n"
     ]
    },
    {
     "name": "stderr",
     "output_type": "stream",
     "text": [
      "Tracking: 100%|██████████| 15/15 [00:00<00:00, 397.29it/s]\n",
      "Cleaning windfarm: 100%|██████████| 14/14 [00:01<00:00,  9.94it/s]\n",
      "Cleaning rain: 100%|██████████| 14/14 [00:00<00:00, 96420.78it/s]\n"
     ]
    },
    {
     "name": "stdout",
     "output_type": "stream",
     "text": [
      "Stationday 137 KLIX19981101\n"
     ]
    },
    {
     "name": "stderr",
     "output_type": "stream",
     "text": [
      "Tracking: 100%|██████████| 19/19 [00:00<00:00, 293.64it/s]\n",
      "Cleaning windfarm: 100%|██████████| 19/19 [00:04<00:00,  4.07it/s]\n",
      "Cleaning rain: 100%|██████████| 19/19 [00:00<00:00, 85874.76it/s]\n"
     ]
    },
    {
     "name": "stdout",
     "output_type": "stream",
     "text": [
      "Stationday 138 KLIX19981117\n"
     ]
    },
    {
     "name": "stderr",
     "output_type": "stream",
     "text": [
      "Tracking: 100%|██████████| 11/11 [00:00<00:00, 1772.33it/s]\n",
      "Cleaning windfarm: 100%|██████████| 6/6 [00:02<00:00,  2.89it/s]\n",
      "Cleaning rain: 100%|██████████| 6/6 [00:00<00:00, 66752.85it/s]\n"
     ]
    },
    {
     "name": "stdout",
     "output_type": "stream",
     "text": [
      "Stationday 139 KLIX19981124\n"
     ]
    },
    {
     "name": "stderr",
     "output_type": "stream",
     "text": [
      "Tracking: 100%|██████████| 11/11 [00:00<00:00, 763.80it/s]\n",
      "Cleaning windfarm: 100%|██████████| 13/13 [00:01<00:00,  6.59it/s]\n",
      "Cleaning rain: 100%|██████████| 13/13 [00:00<00:00, 104256.12it/s]\n"
     ]
    },
    {
     "name": "stdout",
     "output_type": "stream",
     "text": [
      "Stationday 140 KLIX19981125\n"
     ]
    },
    {
     "name": "stderr",
     "output_type": "stream",
     "text": [
      "Tracking: 100%|██████████| 11/11 [00:00<00:00, 341.27it/s]\n",
      "Cleaning windfarm: 100%|██████████| 15/15 [00:03<00:00,  4.58it/s]\n",
      "Cleaning rain: 100%|██████████| 15/15 [00:00<00:00, 111156.47it/s]\n"
     ]
    },
    {
     "name": "stdout",
     "output_type": "stream",
     "text": [
      "Stationday 141 KLIX19981214\n"
     ]
    },
    {
     "name": "stderr",
     "output_type": "stream",
     "text": [
      "Tracking: 100%|██████████| 17/17 [00:00<00:00, 685.83it/s]\n",
      "Cleaning windfarm: 100%|██████████| 16/16 [00:02<00:00,  7.66it/s]\n",
      "Cleaning rain: 100%|██████████| 16/16 [00:00<00:00, 98544.59it/s]\n"
     ]
    },
    {
     "name": "stdout",
     "output_type": "stream",
     "text": [
      "Stationday 142 KLIX19990227\n"
     ]
    },
    {
     "name": "stderr",
     "output_type": "stream",
     "text": [
      "Tracking: 100%|██████████| 19/19 [00:00<00:00, 2084.92it/s]\n",
      "Cleaning windfarm: 100%|██████████| 3/3 [00:00<00:00,  4.67it/s]\n",
      "Cleaning rain: 100%|██████████| 3/3 [00:00<00:00, 38836.15it/s]\n"
     ]
    },
    {
     "name": "stdout",
     "output_type": "stream",
     "text": [
      "Stationday 143 KLIX19990404\n"
     ]
    },
    {
     "name": "stderr",
     "output_type": "stream",
     "text": [
      "Tracking: 100%|██████████| 19/19 [00:00<00:00, 906.26it/s]\n",
      "Cleaning windfarm: 100%|██████████| 9/9 [00:01<00:00,  4.57it/s]\n",
      "Cleaning rain: 100%|██████████| 9/9 [00:00<00:00, 78479.70it/s]\n"
     ]
    },
    {
     "name": "stdout",
     "output_type": "stream",
     "text": [
      "Stationday 144 KLIX19991019\n"
     ]
    },
    {
     "name": "stderr",
     "output_type": "stream",
     "text": [
      "Tracking: 100%|██████████| 19/19 [00:00<00:00, 464.18it/s]\n",
      "Cleaning windfarm: 100%|██████████| 8/8 [00:01<00:00,  4.04it/s]\n",
      "Cleaning rain: 100%|██████████| 8/8 [00:00<00:00, 77672.30it/s]\n"
     ]
    },
    {
     "name": "stdout",
     "output_type": "stream",
     "text": [
      "Stationday 145 KLIX19991028\n"
     ]
    },
    {
     "name": "stderr",
     "output_type": "stream",
     "text": [
      "Tracking: 100%|██████████| 20/20 [00:00<00:00, 413.47it/s]\n",
      "Cleaning windfarm: 100%|██████████| 19/19 [00:03<00:00,  5.95it/s]\n",
      "Cleaning rain: 100%|██████████| 19/19 [00:00<00:00, 95325.09it/s]\n"
     ]
    },
    {
     "name": "stdout",
     "output_type": "stream",
     "text": [
      "Stationday 146 KLIX19991106\n"
     ]
    },
    {
     "name": "stderr",
     "output_type": "stream",
     "text": [
      "Tracking: 100%|██████████| 19/19 [00:00<00:00, 385.13it/s]\n",
      "Cleaning windfarm: 100%|██████████| 18/18 [00:03<00:00,  4.55it/s]\n",
      "Cleaning rain: 100%|██████████| 18/18 [00:00<00:00, 104134.44it/s]\n"
     ]
    },
    {
     "name": "stdout",
     "output_type": "stream",
     "text": [
      "Stationday 147 KLIX19991107\n"
     ]
    },
    {
     "name": "stderr",
     "output_type": "stream",
     "text": [
      "Tracking: 100%|██████████| 19/19 [00:00<00:00, 348.19it/s]\n",
      "Cleaning windfarm: 100%|██████████| 19/19 [00:03<00:00,  5.97it/s]\n",
      "Cleaning rain: 100%|██████████| 19/19 [00:00<00:00, 87669.72it/s]\n"
     ]
    },
    {
     "name": "stdout",
     "output_type": "stream",
     "text": [
      "Stationday 148 KLIX19991111\n"
     ]
    },
    {
     "name": "stderr",
     "output_type": "stream",
     "text": [
      "Tracking: 100%|██████████| 11/11 [00:00<00:00, 511.93it/s]\n",
      "Cleaning windfarm: 100%|██████████| 8/8 [00:03<00:00,  2.47it/s]\n",
      "Cleaning rain: 100%|██████████| 8/8 [00:00<00:00, 82646.38it/s]\n"
     ]
    },
    {
     "name": "stdout",
     "output_type": "stream",
     "text": [
      "Stationday 149 KLIX19991208\n"
     ]
    },
    {
     "name": "stderr",
     "output_type": "stream",
     "text": [
      "Tracking: 100%|██████████| 11/11 [00:00<00:00, 3257.60it/s]\n",
      "Cleaning windfarm: 100%|██████████| 3/3 [00:00<00:00, 23741.34it/s]\n",
      "Cleaning rain: 100%|██████████| 3/3 [00:00<00:00, 21006.53it/s]\n"
     ]
    },
    {
     "name": "stdout",
     "output_type": "stream",
     "text": [
      "Stationday 150 KLIX20000329\n"
     ]
    },
    {
     "name": "stderr",
     "output_type": "stream",
     "text": [
      "Tracking: 100%|██████████| 19/19 [00:00<00:00, 1120.27it/s]\n",
      "Cleaning windfarm: 100%|██████████| 12/12 [00:01<00:00,  9.04it/s]\n",
      "Cleaning rain: 100%|██████████| 12/12 [00:00<00:00, 85019.68it/s]\n"
     ]
    },
    {
     "name": "stdout",
     "output_type": "stream",
     "text": [
      "Stationday 151 KLIX20000401\n"
     ]
    },
    {
     "name": "stderr",
     "output_type": "stream",
     "text": [
      "Tracking: 100%|██████████| 11/11 [00:00<00:00, 946.19it/s]\n",
      "Cleaning windfarm: 100%|██████████| 11/11 [00:01<00:00,  8.51it/s]\n",
      "Cleaning rain: 100%|██████████| 11/11 [00:00<00:00, 103446.96it/s]\n"
     ]
    },
    {
     "name": "stdout",
     "output_type": "stream",
     "text": [
      "Stationday 152 KLIX20000416\n"
     ]
    },
    {
     "name": "stderr",
     "output_type": "stream",
     "text": [
      "Tracking: 100%|██████████| 20/20 [00:00<00:00, 2000.10it/s]\n",
      "Cleaning windfarm: 100%|██████████| 3/3 [00:01<00:00,  2.35it/s]\n",
      "Cleaning rain: 100%|██████████| 3/3 [00:00<00:00, 37786.52it/s]\n"
     ]
    },
    {
     "name": "stdout",
     "output_type": "stream",
     "text": [
      "Stationday 153 KLIX20001002\n"
     ]
    },
    {
     "name": "stderr",
     "output_type": "stream",
     "text": [
      "Tracking: 100%|██████████| 17/17 [00:00<00:00, 597.44it/s]\n",
      "Cleaning windfarm: 100%|██████████| 19/19 [00:03<00:00,  5.99it/s]\n",
      "Cleaning rain: 100%|██████████| 19/19 [00:00<00:00, 73516.40it/s]\n"
     ]
    },
    {
     "name": "stdout",
     "output_type": "stream",
     "text": [
      "Stationday 154 KLIX20001017\n"
     ]
    },
    {
     "name": "stderr",
     "output_type": "stream",
     "text": [
      "Tracking: 100%|██████████| 18/18 [00:00<00:00, 348.06it/s]\n",
      "Cleaning windfarm: 100%|██████████| 22/22 [00:04<00:00,  5.47it/s]\n",
      "Cleaning rain: 100%|██████████| 22/22 [00:00<00:00, 117847.62it/s]\n"
     ]
    },
    {
     "name": "stdout",
     "output_type": "stream",
     "text": [
      "Stationday 155 KLIX20001018\n"
     ]
    },
    {
     "name": "stderr",
     "output_type": "stream",
     "text": [
      "Tracking: 100%|██████████| 6/6 [00:00<00:00, 1091.18it/s]\n",
      "Cleaning windfarm: 100%|██████████| 5/5 [00:00<00:00,  7.44it/s]\n",
      "Cleaning rain: 100%|██████████| 5/5 [00:00<00:00, 24077.52it/s]\n"
     ]
    },
    {
     "name": "stdout",
     "output_type": "stream",
     "text": [
      "Stationday 156 KLIX20001020\n"
     ]
    },
    {
     "name": "stderr",
     "output_type": "stream",
     "text": [
      "Tracking: 100%|██████████| 19/19 [00:00<00:00, 253.59it/s]\n",
      "Cleaning windfarm: 100%|██████████| 16/16 [00:04<00:00,  3.26it/s]\n",
      "Cleaning rain: 100%|██████████| 16/16 [00:00<00:00, 73023.79it/s]\n"
     ]
    },
    {
     "name": "stdout",
     "output_type": "stream",
     "text": [
      "Stationday 157 KLIX20001022\n"
     ]
    },
    {
     "name": "stderr",
     "output_type": "stream",
     "text": [
      "Tracking: 100%|██████████| 18/18 [00:00<00:00, 1275.08it/s]\n",
      "Cleaning windfarm: 100%|██████████| 4/4 [00:01<00:00,  2.98it/s]\n",
      "Cleaning rain: 100%|██████████| 4/4 [00:00<00:00, 45714.49it/s]\n"
     ]
    },
    {
     "name": "stdout",
     "output_type": "stream",
     "text": [
      "Stationday 158 KLIX20001031\n"
     ]
    },
    {
     "name": "stderr",
     "output_type": "stream",
     "text": [
      "Tracking: 100%|██████████| 19/19 [00:00<00:00, 493.74it/s]\n",
      "Cleaning windfarm: 100%|██████████| 9/9 [00:03<00:00,  2.70it/s]\n",
      "Cleaning rain: 100%|██████████| 9/9 [00:00<00:00, 65879.12it/s]\n"
     ]
    },
    {
     "name": "stdout",
     "output_type": "stream",
     "text": [
      "Stationday 159 KLIX20001102\n"
     ]
    },
    {
     "name": "stderr",
     "output_type": "stream",
     "text": [
      "Tracking: 100%|██████████| 19/19 [00:00<00:00, 1002.44it/s]\n",
      "Cleaning windfarm: 100%|██████████| 5/5 [00:02<00:00,  1.96it/s]\n",
      "Cleaning rain: 100%|██████████| 5/5 [00:00<00:00, 47233.15it/s]\n"
     ]
    },
    {
     "name": "stdout",
     "output_type": "stream",
     "text": [
      "Stationday 160 KLIX20001115\n"
     ]
    },
    {
     "name": "stderr",
     "output_type": "stream",
     "text": [
      "Tracking: 100%|██████████| 11/11 [00:00<00:00, 631.06it/s]\n",
      "Cleaning windfarm: 100%|██████████| 10/10 [00:02<00:00,  4.98it/s]\n",
      "Cleaning rain: 100%|██████████| 10/10 [00:00<00:00, 66788.28it/s]\n"
     ]
    },
    {
     "name": "stdout",
     "output_type": "stream",
     "text": [
      "Stationday 161 KLIX20001122\n"
     ]
    },
    {
     "name": "stderr",
     "output_type": "stream",
     "text": [
      "Tracking: 100%|██████████| 11/11 [00:00<00:00, 412.25it/s]\n",
      "Cleaning windfarm: 100%|██████████| 21/21 [00:02<00:00,  7.91it/s]\n",
      "Cleaning rain: 100%|██████████| 21/21 [00:00<00:00, 127467.99it/s]\n"
     ]
    },
    {
     "name": "stdout",
     "output_type": "stream",
     "text": [
      "Stationday 162 KLIX20001206\n"
     ]
    },
    {
     "name": "stderr",
     "output_type": "stream",
     "text": [
      "Tracking: 100%|██████████| 20/20 [00:00<00:00, 340.44it/s]\n",
      "Cleaning windfarm: 100%|██████████| 26/26 [00:05<00:00,  4.41it/s]\n",
      "Cleaning rain: 100%|██████████| 26/26 [00:00<00:00, 106808.92it/s]\n"
     ]
    },
    {
     "name": "stdout",
     "output_type": "stream",
     "text": [
      "Stationday 163 KLIX20010125\n"
     ]
    },
    {
     "name": "stderr",
     "output_type": "stream",
     "text": [
      "Tracking: 100%|██████████| 11/11 [00:00<00:00, 503.90it/s]\n",
      "Cleaning windfarm: 100%|██████████| 18/18 [00:02<00:00,  6.74it/s]\n",
      "Cleaning rain: 100%|██████████| 18/18 [00:00<00:00, 117050.34it/s]\n"
     ]
    },
    {
     "name": "stdout",
     "output_type": "stream",
     "text": [
      "Stationday 164 KLIX20010130\n"
     ]
    },
    {
     "name": "stderr",
     "output_type": "stream",
     "text": [
      "Tracking: 100%|██████████| 19/19 [00:00<00:00, 515.34it/s]\n",
      "Cleaning windfarm: 100%|██████████| 21/21 [00:03<00:00,  5.32it/s]\n",
      "Cleaning rain: 100%|██████████| 21/21 [00:00<00:00, 107415.10it/s]\n"
     ]
    },
    {
     "name": "stdout",
     "output_type": "stream",
     "text": [
      "Stationday 165 KLIX20010402\n"
     ]
    },
    {
     "name": "stderr",
     "output_type": "stream",
     "text": [
      "Tracking: 100%|██████████| 17/17 [00:00<00:00, 693.63it/s]\n",
      "Cleaning windfarm: 100%|██████████| 16/16 [00:03<00:00,  4.93it/s]\n",
      "Cleaning rain: 100%|██████████| 16/16 [00:00<00:00, 100764.06it/s]\n"
     ]
    },
    {
     "name": "stdout",
     "output_type": "stream",
     "text": [
      "Stationday 166 KLIX20021108\n"
     ]
    },
    {
     "name": "stderr",
     "output_type": "stream",
     "text": [
      "Tracking: 100%|██████████| 19/19 [00:00<00:00, 378.18it/s]\n",
      "Cleaning windfarm: 100%|██████████| 17/17 [00:04<00:00,  4.24it/s]\n",
      "Cleaning rain: 100%|██████████| 17/17 [00:00<00:00, 89128.96it/s]\n"
     ]
    },
    {
     "name": "stdout",
     "output_type": "stream",
     "text": [
      "Stationday 167 KLIX20021113\n"
     ]
    },
    {
     "name": "stderr",
     "output_type": "stream",
     "text": [
      "Tracking: 100%|██████████| 10/10 [00:00<00:00, 476.84it/s]\n",
      "Cleaning windfarm: 100%|██████████| 22/22 [00:02<00:00,  7.41it/s]\n",
      "Cleaning rain: 100%|██████████| 22/22 [00:00<00:00, 126925.29it/s]\n"
     ]
    },
    {
     "name": "stdout",
     "output_type": "stream",
     "text": [
      "Stationday 168 KLIX20021123\n"
     ]
    },
    {
     "name": "stderr",
     "output_type": "stream",
     "text": [
      "Tracking: 100%|██████████| 18/18 [00:00<00:00, 269.40it/s]\n",
      "Cleaning windfarm: 100%|██████████| 37/37 [00:06<00:00,  5.58it/s]\n",
      "Cleaning rain: 100%|██████████| 37/37 [00:00<00:00, 110376.42it/s]\n"
     ]
    },
    {
     "name": "stdout",
     "output_type": "stream",
     "text": [
      "Stationday 169 KLIX20021124\n"
     ]
    },
    {
     "name": "stderr",
     "output_type": "stream",
     "text": [
      "Tracking: 100%|██████████| 18/18 [00:00<00:00, 315.66it/s]\n",
      "Cleaning windfarm: 100%|██████████| 39/39 [00:06<00:00,  6.41it/s]\n",
      "Cleaning rain: 100%|██████████| 39/39 [00:00<00:00, 99560.47it/s]\n"
     ]
    },
    {
     "name": "stdout",
     "output_type": "stream",
     "text": [
      "Stationday 170 KLIX20021202\n"
     ]
    },
    {
     "name": "stderr",
     "output_type": "stream",
     "text": [
      "Tracking: 100%|██████████| 19/19 [00:00<00:00, 287.12it/s]\n",
      "Cleaning windfarm: 100%|██████████| 25/25 [00:06<00:00,  3.89it/s]\n",
      "Cleaning rain: 100%|██████████| 25/25 [00:00<00:00, 112387.57it/s]\n"
     ]
    },
    {
     "name": "stdout",
     "output_type": "stream",
     "text": [
      "Stationday 171 KLIX20021211\n"
     ]
    },
    {
     "name": "stderr",
     "output_type": "stream",
     "text": [
      "Tracking: 100%|██████████| 20/20 [00:00<00:00, 672.84it/s]\n",
      "Cleaning windfarm: 100%|██████████| 14/14 [00:03<00:00,  4.46it/s]\n",
      "Cleaning rain: 100%|██████████| 14/14 [00:00<00:00, 37908.49it/s]\n"
     ]
    },
    {
     "name": "stdout",
     "output_type": "stream",
     "text": [
      "Stationday 172 KLIX20030202\n"
     ]
    },
    {
     "name": "stderr",
     "output_type": "stream",
     "text": [
      "Tracking: 100%|██████████| 18/18 [00:00<00:00, 296.41it/s]\n",
      "Cleaning windfarm: 100%|██████████| 20/20 [00:02<00:00,  8.03it/s]\n",
      "Cleaning rain: 100%|██████████| 20/20 [00:00<00:00, 69615.00it/s]\n"
     ]
    },
    {
     "name": "stdout",
     "output_type": "stream",
     "text": [
      "Stationday 173 KLIX20030223\n"
     ]
    },
    {
     "name": "stderr",
     "output_type": "stream",
     "text": [
      "Tracking: 100%|██████████| 12/12 [00:00<00:00, 2647.22it/s]\n",
      "Cleaning windfarm: 100%|██████████| 5/5 [00:00<00:00,  8.50it/s]\n",
      "Cleaning rain: 100%|██████████| 5/5 [00:00<00:00, 56375.05it/s]\n"
     ]
    },
    {
     "name": "stdout",
     "output_type": "stream",
     "text": [
      "Stationday 174 KLIX20030318\n"
     ]
    },
    {
     "name": "stderr",
     "output_type": "stream",
     "text": [
      "Tracking: 100%|██████████| 19/19 [00:00<00:00, 1407.31it/s]\n",
      "Cleaning windfarm: 100%|██████████| 9/9 [00:01<00:00,  4.57it/s]\n",
      "Cleaning rain: 100%|██████████| 9/9 [00:00<00:00, 76881.34it/s]\n"
     ]
    },
    {
     "name": "stdout",
     "output_type": "stream",
     "text": [
      "Stationday 175 KLIX20030323\n"
     ]
    },
    {
     "name": "stderr",
     "output_type": "stream",
     "text": [
      "Tracking: 100%|██████████| 20/20 [00:00<00:00, 1536.74it/s]\n",
      "Cleaning windfarm: 100%|██████████| 14/14 [00:00<00:00, 17.04it/s]\n",
      "Cleaning rain: 100%|██████████| 14/14 [00:00<00:00, 99525.86it/s]\n"
     ]
    },
    {
     "name": "stdout",
     "output_type": "stream",
     "text": [
      "Stationday 176 KLIX20030325\n"
     ]
    },
    {
     "name": "stderr",
     "output_type": "stream",
     "text": [
      "Tracking: 100%|██████████| 11/11 [00:00<00:00, 1655.15it/s]\n",
      "Cleaning windfarm: 100%|██████████| 8/8 [00:00<00:00, 12.84it/s]\n",
      "Cleaning rain: 100%|██████████| 8/8 [00:00<00:00, 89717.73it/s]\n"
     ]
    },
    {
     "name": "stdout",
     "output_type": "stream",
     "text": [
      "Stationday 177 KLIX20030419\n"
     ]
    },
    {
     "name": "stderr",
     "output_type": "stream",
     "text": [
      "Tracking: 100%|██████████| 11/11 [00:00<00:00, 1260.72it/s]\n",
      "Cleaning windfarm: 100%|██████████| 5/5 [00:01<00:00,  4.09it/s]\n",
      "Cleaning rain: 100%|██████████| 5/5 [00:00<00:00, 54613.33it/s]\n"
     ]
    },
    {
     "name": "stdout",
     "output_type": "stream",
     "text": [
      "Stationday 178 KLIX20031013\n"
     ]
    },
    {
     "name": "stderr",
     "output_type": "stream",
     "text": [
      "Tracking: 100%|██████████| 20/20 [00:00<00:00, 438.50it/s]\n",
      "Cleaning windfarm: 100%|██████████| 13/13 [00:03<00:00,  4.13it/s]\n",
      "Cleaning rain: 100%|██████████| 13/13 [00:00<00:00, 88229.70it/s]\n"
     ]
    },
    {
     "name": "stdout",
     "output_type": "stream",
     "text": [
      "Stationday 179 KLIX20031016\n"
     ]
    },
    {
     "name": "stderr",
     "output_type": "stream",
     "text": [
      "Tracking: 100%|██████████| 11/11 [00:00<00:00, 246.29it/s]\n",
      "Cleaning windfarm: 100%|██████████| 19/19 [00:03<00:00,  4.89it/s]\n",
      "Cleaning rain: 100%|██████████| 19/19 [00:00<00:00, 127506.84it/s]\n"
     ]
    },
    {
     "name": "stdout",
     "output_type": "stream",
     "text": [
      "Stationday 180 KLIX20031019\n"
     ]
    },
    {
     "name": "stderr",
     "output_type": "stream",
     "text": [
      "Tracking: 100%|██████████| 12/12 [00:00<00:00, 437.40it/s]\n",
      "Cleaning windfarm: 100%|██████████| 16/16 [00:03<00:00,  4.80it/s]\n",
      "Cleaning rain: 100%|██████████| 16/16 [00:00<00:00, 107031.68it/s]\n"
     ]
    },
    {
     "name": "stdout",
     "output_type": "stream",
     "text": [
      "Stationday 181 KLIX20031028\n"
     ]
    },
    {
     "name": "stderr",
     "output_type": "stream",
     "text": [
      "Tracking: 100%|██████████| 19/19 [00:00<00:00, 619.49it/s]\n",
      "Cleaning windfarm: 100%|██████████| 15/15 [00:03<00:00,  3.78it/s]\n",
      "Cleaning rain: 100%|██████████| 15/15 [00:00<00:00, 98457.84it/s]\n"
     ]
    },
    {
     "name": "stdout",
     "output_type": "stream",
     "text": [
      "Stationday 182 KLIX20031030\n"
     ]
    },
    {
     "name": "stderr",
     "output_type": "stream",
     "text": [
      "Tracking: 100%|██████████| 11/11 [00:00<00:00, 642.13it/s]\n",
      "Cleaning windfarm: 100%|██████████| 6/6 [00:02<00:00,  2.94it/s]\n",
      "Cleaning rain: 100%|██████████| 6/6 [00:00<00:00, 57719.78it/s]\n"
     ]
    },
    {
     "name": "stdout",
     "output_type": "stream",
     "text": [
      "Stationday 183 KLIX20031113\n"
     ]
    },
    {
     "name": "stderr",
     "output_type": "stream",
     "text": [
      "Tracking: 100%|██████████| 11/11 [00:00<00:00, 387.60it/s]\n",
      "Cleaning windfarm: 100%|██████████| 10/10 [00:03<00:00,  2.97it/s]\n",
      "Cleaning rain: 100%|██████████| 10/10 [00:00<00:00, 93000.09it/s]\n"
     ]
    },
    {
     "name": "stdout",
     "output_type": "stream",
     "text": [
      "Stationday 184 KLIX20031114\n"
     ]
    },
    {
     "name": "stderr",
     "output_type": "stream",
     "text": [
      "Tracking: 100%|██████████| 12/12 [00:00<00:00, 1504.50it/s]\n",
      "Cleaning windfarm: 100%|██████████| 7/7 [00:01<00:00,  5.44it/s]\n",
      "Cleaning rain: 100%|██████████| 7/7 [00:00<00:00, 77467.36it/s]\n"
     ]
    },
    {
     "name": "stdout",
     "output_type": "stream",
     "text": [
      "Stationday 185 KLIX20031117\n"
     ]
    },
    {
     "name": "stderr",
     "output_type": "stream",
     "text": [
      "Tracking: 100%|██████████| 20/20 [00:00<00:00, 718.96it/s]\n",
      "Cleaning windfarm: 100%|██████████| 7/7 [00:01<00:00,  5.18it/s]\n",
      "Cleaning rain: 100%|██████████| 7/7 [00:00<00:00, 58603.05it/s]\n"
     ]
    },
    {
     "name": "stdout",
     "output_type": "stream",
     "text": [
      "Stationday 186 KLIX20031119\n"
     ]
    },
    {
     "name": "stderr",
     "output_type": "stream",
     "text": [
      "Tracking: 100%|██████████| 11/11 [00:00<00:00, 705.53it/s]\n",
      "Cleaning windfarm: 100%|██████████| 6/6 [00:03<00:00,  1.83it/s]\n",
      "Cleaning rain: 100%|██████████| 6/6 [00:00<00:00, 69327.34it/s]\n"
     ]
    },
    {
     "name": "stdout",
     "output_type": "stream",
     "text": [
      "Stationday 187 KLIX20031129\n"
     ]
    },
    {
     "name": "stderr",
     "output_type": "stream",
     "text": [
      "Tracking: 100%|██████████| 12/12 [00:00<00:00, 514.39it/s]\n",
      "Cleaning windfarm: 100%|██████████| 18/18 [00:02<00:00,  6.91it/s]\n",
      "Cleaning rain: 100%|██████████| 18/18 [00:00<00:00, 70295.60it/s]\n"
     ]
    },
    {
     "name": "stdout",
     "output_type": "stream",
     "text": [
      "Stationday 188 KLIX20031130\n"
     ]
    },
    {
     "name": "stderr",
     "output_type": "stream",
     "text": [
      "Tracking: 100%|██████████| 12/12 [00:00<00:00, 586.66it/s]\n",
      "Cleaning windfarm: 100%|██████████| 20/20 [00:02<00:00,  9.98it/s]\n",
      "Cleaning rain: 100%|██████████| 20/20 [00:00<00:00, 78545.02it/s]\n"
     ]
    },
    {
     "name": "stdout",
     "output_type": "stream",
     "text": [
      "Stationday 189 KLIX20031201\n"
     ]
    },
    {
     "name": "stderr",
     "output_type": "stream",
     "text": [
      "Tracking: 100%|██████████| 11/11 [00:00<00:00, 489.37it/s]\n",
      "Cleaning windfarm: 100%|██████████| 20/20 [00:02<00:00,  7.71it/s]\n",
      "Cleaning rain: 100%|██████████| 20/20 [00:00<00:00, 126907.84it/s]\n"
     ]
    },
    {
     "name": "stdout",
     "output_type": "stream",
     "text": [
      "Stationday 190 KLIX20031204\n"
     ]
    },
    {
     "name": "stderr",
     "output_type": "stream",
     "text": [
      "Tracking: 100%|██████████| 20/20 [00:00<00:00, 1786.90it/s]\n",
      "Cleaning windfarm: 100%|██████████| 5/5 [00:01<00:00,  2.51it/s]\n",
      "Cleaning rain: 100%|██████████| 5/5 [00:00<00:00, 54899.27it/s]\n"
     ]
    },
    {
     "name": "stdout",
     "output_type": "stream",
     "text": [
      "Stationday 191 KLIX20031222\n"
     ]
    },
    {
     "name": "stderr",
     "output_type": "stream",
     "text": [
      "Tracking: 100%|██████████| 11/11 [00:00<00:00, 1080.55it/s]\n",
      "Cleaning windfarm: 100%|██████████| 6/6 [00:01<00:00,  4.53it/s]\n",
      "Cleaning rain: 100%|██████████| 6/6 [00:00<00:00, 38479.85it/s]\n"
     ]
    },
    {
     "name": "stdout",
     "output_type": "stream",
     "text": [
      "Stationday 192 KLIX20040114\n"
     ]
    },
    {
     "name": "stderr",
     "output_type": "stream",
     "text": [
      "Tracking: 100%|██████████| 11/11 [00:00<00:00, 759.18it/s]\n",
      "Cleaning windfarm: 100%|██████████| 13/13 [00:03<00:00,  4.03it/s]\n",
      "Cleaning rain: 100%|██████████| 13/13 [00:00<00:00, 63402.27it/s]\n"
     ]
    },
    {
     "name": "stdout",
     "output_type": "stream",
     "text": [
      "Stationday 193 KLIX20040131\n"
     ]
    },
    {
     "name": "stderr",
     "output_type": "stream",
     "text": [
      "Tracking: 100%|██████████| 19/19 [00:00<00:00, 677.68it/s]\n",
      "Cleaning windfarm: 100%|██████████| 10/10 [00:03<00:00,  3.14it/s]\n",
      "Cleaning rain: 100%|██████████| 10/10 [00:00<00:00, 49461.13it/s]\n"
     ]
    },
    {
     "name": "stdout",
     "output_type": "stream",
     "text": [
      "Stationday 194 KLIX20040203\n"
     ]
    },
    {
     "name": "stderr",
     "output_type": "stream",
     "text": [
      "Tracking: 100%|██████████| 19/19 [00:00<00:00, 2083.28it/s]\n",
      "Cleaning windfarm: 100%|██████████| 5/5 [00:00<00:00,  7.42it/s]\n",
      "Cleaning rain: 100%|██████████| 5/5 [00:00<00:00, 56375.05it/s]\n"
     ]
    },
    {
     "name": "stdout",
     "output_type": "stream",
     "text": [
      "Stationday 195 KLIX20040204\n"
     ]
    },
    {
     "name": "stderr",
     "output_type": "stream",
     "text": [
      "Tracking: 100%|██████████| 10/10 [00:00<00:00, 1363.87it/s]\n",
      "Cleaning windfarm: 100%|██████████| 7/7 [00:01<00:00,  5.15it/s]\n",
      "Cleaning rain: 100%|██████████| 7/7 [00:00<00:00, 67650.06it/s]\n"
     ]
    },
    {
     "name": "stdout",
     "output_type": "stream",
     "text": [
      "Stationday 196 KLIX20040304\n"
     ]
    },
    {
     "name": "stderr",
     "output_type": "stream",
     "text": [
      "Tracking: 100%|██████████| 19/19 [00:00<00:00, 1313.90it/s]\n",
      "Cleaning windfarm: 100%|██████████| 6/6 [00:01<00:00,  3.20it/s]\n",
      "Cleaning rain: 100%|██████████| 6/6 [00:00<00:00, 60205.32it/s]\n"
     ]
    },
    {
     "name": "stdout",
     "output_type": "stream",
     "text": [
      "Stationday 197 KLIX20040323\n"
     ]
    },
    {
     "name": "stderr",
     "output_type": "stream",
     "text": [
      "Tracking: 100%|██████████| 11/11 [00:00<00:00, 1127.50it/s]\n",
      "Cleaning windfarm: 100%|██████████| 5/5 [00:01<00:00,  2.68it/s]\n",
      "Cleaning rain: 100%|██████████| 5/5 [00:00<00:00, 63167.23it/s]\n"
     ]
    },
    {
     "name": "stdout",
     "output_type": "stream",
     "text": [
      "Stationday 198 KLIX20040327\n"
     ]
    },
    {
     "name": "stderr",
     "output_type": "stream",
     "text": [
      "Tracking: 100%|██████████| 11/11 [00:00<00:00, 1413.52it/s]\n",
      "Cleaning windfarm: 100%|██████████| 8/8 [00:01<00:00,  6.16it/s]\n",
      "Cleaning rain: 100%|██████████| 8/8 [00:00<00:00, 49563.42it/s]\n"
     ]
    },
    {
     "name": "stdout",
     "output_type": "stream",
     "text": [
      "Stationday 199 KLIX20040329\n"
     ]
    },
    {
     "name": "stderr",
     "output_type": "stream",
     "text": [
      "Tracking: 100%|██████████| 11/11 [00:00<00:00, 924.91it/s]\n",
      "Cleaning windfarm: 100%|██████████| 7/7 [00:01<00:00,  3.91it/s]\n",
      "Cleaning rain: 100%|██████████| 7/7 [00:00<00:00, 75865.96it/s]\n"
     ]
    },
    {
     "name": "stdout",
     "output_type": "stream",
     "text": [
      "Stationday 200 KLIX20040401\n"
     ]
    },
    {
     "name": "stderr",
     "output_type": "stream",
     "text": [
      "Tracking: 100%|██████████| 10/10 [00:00<00:00, 968.55it/s]\n",
      "Cleaning windfarm: 100%|██████████| 9/9 [00:01<00:00,  4.90it/s]\n",
      "Cleaning rain: 100%|██████████| 9/9 [00:00<00:00, 68634.07it/s]\n"
     ]
    },
    {
     "name": "stdout",
     "output_type": "stream",
     "text": [
      "Stationday 201 KLIX20040403\n"
     ]
    },
    {
     "name": "stderr",
     "output_type": "stream",
     "text": [
      "Tracking: 100%|██████████| 11/11 [00:00<00:00, 483.40it/s]\n",
      "Cleaning windfarm: 100%|██████████| 11/11 [00:04<00:00,  2.43it/s]\n",
      "Cleaning rain: 100%|██████████| 11/11 [00:00<00:00, 100081.01it/s]\n"
     ]
    },
    {
     "name": "stdout",
     "output_type": "stream",
     "text": [
      "Stationday 202 KLIX20040414\n"
     ]
    },
    {
     "name": "stderr",
     "output_type": "stream",
     "text": [
      "Tracking: 100%|██████████| 12/12 [00:00<00:00, 3503.53it/s]\n",
      "Cleaning windfarm: 100%|██████████| 2/2 [00:00<00:00,  3.25it/s]\n",
      "Cleaning rain: 100%|██████████| 2/2 [00:00<00:00, 28435.96it/s]\n"
     ]
    },
    {
     "name": "stdout",
     "output_type": "stream",
     "text": [
      "Stationday 203 KLIX20040422\n"
     ]
    },
    {
     "name": "stderr",
     "output_type": "stream",
     "text": [
      "Tracking: 100%|██████████| 18/18 [00:00<00:00, 1182.01it/s]\n",
      "Cleaning windfarm: 100%|██████████| 8/8 [00:03<00:00,  2.49it/s]\n",
      "Cleaning rain: 100%|██████████| 8/8 [00:00<00:00, 70789.94it/s]\n"
     ]
    },
    {
     "name": "stdout",
     "output_type": "stream",
     "text": [
      "Stationday 204 KLIX20040423\n"
     ]
    },
    {
     "name": "stderr",
     "output_type": "stream",
     "text": [
      "Tracking: 100%|██████████| 19/19 [00:00<00:00, 815.66it/s]\n",
      "Cleaning windfarm: 100%|██████████| 12/12 [00:01<00:00,  6.19it/s]\n",
      "Cleaning rain: 100%|██████████| 12/12 [00:00<00:00, 86778.70it/s]\n"
     ]
    },
    {
     "name": "stdout",
     "output_type": "stream",
     "text": [
      "Stationday 205 KLIX20040425\n"
     ]
    },
    {
     "name": "stderr",
     "output_type": "stream",
     "text": [
      "Tracking: 100%|██████████| 23/23 [00:00<00:00, 883.39it/s]\n",
      "Cleaning windfarm: 100%|██████████| 7/7 [00:01<00:00,  5.49it/s]\n",
      "Cleaning rain: 100%|██████████| 7/7 [00:00<00:00, 62335.73it/s]\n"
     ]
    },
    {
     "name": "stdout",
     "output_type": "stream",
     "text": [
      "Stationday 206 KLIX20041002\n"
     ]
    },
    {
     "name": "stderr",
     "output_type": "stream",
     "text": [
      "Tracking: 100%|██████████| 13/13 [00:00<00:00, 1248.59it/s]\n",
      "Cleaning windfarm: 100%|██████████| 7/7 [00:01<00:00,  5.15it/s]\n",
      "Cleaning rain: 100%|██████████| 7/7 [00:00<00:00, 72853.92it/s]\n"
     ]
    },
    {
     "name": "stdout",
     "output_type": "stream",
     "text": [
      "Stationday 207 KLIX20041005\n"
     ]
    },
    {
     "name": "stderr",
     "output_type": "stream",
     "text": [
      "Tracking: 100%|██████████| 18/18 [00:00<00:00, 405.70it/s]\n",
      "Cleaning windfarm: 100%|██████████| 15/15 [00:01<00:00,  7.55it/s]\n",
      "Cleaning rain: 100%|██████████| 15/15 [00:00<00:00, 91445.58it/s]\n"
     ]
    },
    {
     "name": "stdout",
     "output_type": "stream",
     "text": [
      "Stationday 208 KLIX20041017\n"
     ]
    },
    {
     "name": "stderr",
     "output_type": "stream",
     "text": [
      "Tracking: 100%|██████████| 11/11 [00:00<00:00, 463.76it/s]\n",
      "Cleaning windfarm: 100%|██████████| 21/21 [00:03<00:00,  6.40it/s]\n",
      "Cleaning rain: 100%|██████████| 21/21 [00:00<00:00, 128023.81it/s]\n"
     ]
    },
    {
     "name": "stdout",
     "output_type": "stream",
     "text": [
      "Stationday 209 KLIX20041027\n"
     ]
    },
    {
     "name": "stderr",
     "output_type": "stream",
     "text": [
      "Tracking: 100%|██████████| 11/11 [00:00<00:00, 391.38it/s]\n",
      "Cleaning windfarm: 100%|██████████| 13/13 [00:02<00:00,  4.98it/s]\n",
      "Cleaning rain: 100%|██████████| 13/13 [00:00<00:00, 94827.74it/s]\n"
     ]
    },
    {
     "name": "stdout",
     "output_type": "stream",
     "text": [
      "Stationday 210 KLIX20041105\n"
     ]
    },
    {
     "name": "stderr",
     "output_type": "stream",
     "text": [
      "Tracking: 100%|██████████| 20/20 [00:00<00:00, 716.41it/s]\n",
      "Cleaning windfarm: 100%|██████████| 17/17 [00:02<00:00,  6.37it/s]\n",
      "Cleaning rain: 100%|██████████| 17/17 [00:00<00:00, 75533.02it/s]\n"
     ]
    },
    {
     "name": "stdout",
     "output_type": "stream",
     "text": [
      "Stationday 211 KLIX20041106\n"
     ]
    },
    {
     "name": "stderr",
     "output_type": "stream",
     "text": [
      "Tracking: 100%|██████████| 19/19 [00:00<00:00, 228.85it/s]\n",
      "Cleaning windfarm: 100%|██████████| 33/33 [00:07<00:00,  4.51it/s]\n",
      "Cleaning rain: 100%|██████████| 33/33 [00:00<00:00, 114484.72it/s]\n"
     ]
    },
    {
     "name": "stdout",
     "output_type": "stream",
     "text": [
      "Stationday 212 KLIX20041116\n"
     ]
    },
    {
     "name": "stderr",
     "output_type": "stream",
     "text": [
      "Tracking: 100%|██████████| 19/19 [00:00<00:00, 479.07it/s]\n",
      "Cleaning windfarm: 100%|██████████| 15/15 [00:02<00:00,  7.37it/s]\n",
      "Cleaning rain: 100%|██████████| 15/15 [00:00<00:00, 96346.95it/s]\n"
     ]
    },
    {
     "name": "stdout",
     "output_type": "stream",
     "text": [
      "Stationday 213 KLIX20041125\n"
     ]
    },
    {
     "name": "stderr",
     "output_type": "stream",
     "text": [
      "Tracking: 100%|██████████| 17/17 [00:00<00:00, 418.31it/s]\n",
      "Cleaning windfarm: 100%|██████████| 19/19 [00:04<00:00,  3.83it/s]\n",
      "Cleaning rain: 100%|██████████| 19/19 [00:00<00:00, 93865.46it/s]\n"
     ]
    },
    {
     "name": "stdout",
     "output_type": "stream",
     "text": [
      "Stationday 214 KLIX20041129\n"
     ]
    },
    {
     "name": "stderr",
     "output_type": "stream",
     "text": [
      "Tracking: 100%|██████████| 18/18 [00:00<00:00, 409.33it/s]\n",
      "Cleaning windfarm: 100%|██████████| 10/10 [00:03<00:00,  3.21it/s]\n",
      "Cleaning rain: 100%|██████████| 10/10 [00:00<00:00, 76818.75it/s]\n"
     ]
    },
    {
     "name": "stdout",
     "output_type": "stream",
     "text": [
      "Stationday 215 KLIX20041202\n"
     ]
    },
    {
     "name": "stderr",
     "output_type": "stream",
     "text": [
      "Tracking: 100%|██████████| 17/17 [00:00<00:00, 452.12it/s]\n",
      "Cleaning windfarm: 100%|██████████| 21/21 [00:04<00:00,  4.59it/s]\n",
      "Cleaning rain: 100%|██████████| 21/21 [00:00<00:00, 90338.86it/s]\n"
     ]
    },
    {
     "name": "stdout",
     "output_type": "stream",
     "text": [
      "Stationday 216 KLIX20041203\n"
     ]
    },
    {
     "name": "stderr",
     "output_type": "stream",
     "text": [
      "Tracking: 100%|██████████| 20/20 [00:00<00:00, 231.42it/s]\n",
      "Cleaning windfarm: 100%|██████████| 38/38 [00:07<00:00,  5.16it/s]\n",
      "Cleaning rain: 100%|██████████| 38/38 [00:00<00:00, 112321.04it/s]\n"
     ]
    },
    {
     "name": "stdout",
     "output_type": "stream",
     "text": [
      "Stationday 217 KLIX20041204\n"
     ]
    },
    {
     "name": "stderr",
     "output_type": "stream",
     "text": [
      "Tracking: 100%|██████████| 19/19 [00:00<00:00, 209.62it/s]\n",
      "Cleaning windfarm: 100%|██████████| 31/31 [00:05<00:00,  5.22it/s]\n",
      "Cleaning rain: 100%|██████████| 31/31 [00:00<00:00, 39677.58it/s]\n"
     ]
    },
    {
     "name": "stdout",
     "output_type": "stream",
     "text": [
      "Stationday 218 KLIX20041221\n"
     ]
    },
    {
     "name": "stderr",
     "output_type": "stream",
     "text": [
      "Tracking: 100%|██████████| 12/12 [00:00<00:00, 474.79it/s]\n",
      "Cleaning windfarm: 100%|██████████| 12/12 [00:01<00:00,  6.09it/s]\n",
      "Cleaning rain: 100%|██████████| 12/12 [00:00<00:00, 99469.66it/s]\n"
     ]
    },
    {
     "name": "stdout",
     "output_type": "stream",
     "text": [
      "Stationday 219 KLIX20041230\n"
     ]
    },
    {
     "name": "stderr",
     "output_type": "stream",
     "text": [
      "Tracking: 100%|██████████| 11/11 [00:00<00:00, 820.96it/s]\n",
      "Cleaning windfarm: 100%|██████████| 12/12 [00:01<00:00,  9.91it/s]\n",
      "Cleaning rain: 100%|██████████| 12/12 [00:00<00:00, 38391.80it/s]\n"
     ]
    },
    {
     "name": "stdout",
     "output_type": "stream",
     "text": [
      "Stationday 220 KLIX20050112\n"
     ]
    },
    {
     "name": "stderr",
     "output_type": "stream",
     "text": [
      "Tracking: 100%|██████████| 20/20 [00:00<00:00, 324.88it/s]\n",
      "Cleaning windfarm: 100%|██████████| 15/15 [00:02<00:00,  5.72it/s]\n",
      "Cleaning rain: 100%|██████████| 15/15 [00:00<00:00, 103819.41it/s]\n"
     ]
    },
    {
     "name": "stdout",
     "output_type": "stream",
     "text": [
      "Stationday 221 KLIX20050205\n"
     ]
    },
    {
     "name": "stderr",
     "output_type": "stream",
     "text": [
      "Tracking: 100%|██████████| 11/11 [00:00<00:00, 1089.35it/s]\n",
      "Cleaning windfarm: 100%|██████████| 8/8 [00:01<00:00,  6.42it/s]\n",
      "Cleaning rain: 100%|██████████| 8/8 [00:00<00:00, 83886.08it/s]\n"
     ]
    },
    {
     "name": "stdout",
     "output_type": "stream",
     "text": [
      "Stationday 222 KLIX20050306\n"
     ]
    },
    {
     "name": "stderr",
     "output_type": "stream",
     "text": [
      "Tracking: 100%|██████████| 11/11 [00:00<00:00, 432.75it/s]\n",
      "Cleaning windfarm: 100%|██████████| 14/14 [00:02<00:00,  6.97it/s]\n",
      "Cleaning rain: 100%|██████████| 14/14 [00:00<00:00, 111212.61it/s]\n"
     ]
    },
    {
     "name": "stdout",
     "output_type": "stream",
     "text": [
      "Stationday 223 KLIX20050415\n"
     ]
    },
    {
     "name": "stderr",
     "output_type": "stream",
     "text": [
      "Tracking: 100%|██████████| 11/11 [00:00<00:00, 1262.90it/s]\n",
      "Cleaning windfarm: 100%|██████████| 6/6 [00:01<00:00,  4.87it/s]\n",
      "Cleaning rain: 100%|██████████| 6/6 [00:00<00:00, 27624.40it/s]\n"
     ]
    },
    {
     "name": "stdout",
     "output_type": "stream",
     "text": [
      "Stationday 224 KLIX20050419\n"
     ]
    },
    {
     "name": "stderr",
     "output_type": "stream",
     "text": [
      "Tracking: 100%|██████████| 19/19 [00:00<00:00, 262.36it/s]\n",
      "Cleaning windfarm: 100%|██████████| 11/11 [00:02<00:00,  4.12it/s]\n",
      "Cleaning rain: 100%|██████████| 11/11 [00:00<00:00, 79273.79it/s]\n"
     ]
    },
    {
     "name": "stdout",
     "output_type": "stream",
     "text": [
      "Stationday 225 KLIX20050422\n"
     ]
    },
    {
     "name": "stderr",
     "output_type": "stream",
     "text": [
      "Tracking: 100%|██████████| 20/20 [00:00<00:00, 693.28it/s]\n",
      "Cleaning windfarm: 100%|██████████| 11/11 [00:01<00:00,  5.54it/s]\n",
      "Cleaning rain: 100%|██████████| 11/11 [00:00<00:00, 82683.41it/s]\n"
     ]
    },
    {
     "name": "stdout",
     "output_type": "stream",
     "text": [
      "Stationday 226 KLIX20051012\n"
     ]
    },
    {
     "name": "stderr",
     "output_type": "stream",
     "text": [
      "Tracking: 100%|██████████| 20/20 [00:00<00:00, 789.37it/s]\n",
      "Cleaning windfarm: 100%|██████████| 11/11 [00:02<00:00,  4.19it/s]\n",
      "Cleaning rain: 100%|██████████| 11/11 [00:00<00:00, 88555.36it/s]\n"
     ]
    },
    {
     "name": "stdout",
     "output_type": "stream",
     "text": [
      "Stationday 227 KLIX20051014\n"
     ]
    },
    {
     "name": "stderr",
     "output_type": "stream",
     "text": [
      "Tracking: 100%|██████████| 11/11 [00:00<00:00, 386.53it/s]\n",
      "Cleaning windfarm: 100%|██████████| 8/8 [00:03<00:00,  2.45it/s]\n",
      "Cleaning rain: 100%|██████████| 8/8 [00:00<00:00, 82241.25it/s]\n"
     ]
    },
    {
     "name": "stdout",
     "output_type": "stream",
     "text": [
      "Stationday 228 KLIX20051016\n"
     ]
    },
    {
     "name": "stderr",
     "output_type": "stream",
     "text": [
      "Tracking: 100%|██████████| 11/11 [00:00<00:00, 379.23it/s]\n",
      "Cleaning windfarm: 100%|██████████| 14/14 [00:03<00:00,  4.25it/s]\n",
      "Cleaning rain: 100%|██████████| 14/14 [00:00<00:00, 106764.10it/s]\n"
     ]
    },
    {
     "name": "stdout",
     "output_type": "stream",
     "text": [
      "Stationday 229 KLIX20051030\n"
     ]
    },
    {
     "name": "stderr",
     "output_type": "stream",
     "text": [
      "Tracking: 100%|██████████| 18/18 [00:00<00:00, 341.24it/s]\n",
      "Cleaning windfarm: 100%|██████████| 25/25 [00:07<00:00,  3.52it/s]\n",
      "Cleaning rain: 100%|██████████| 25/25 [00:00<00:00, 112629.00it/s]\n"
     ]
    },
    {
     "name": "stdout",
     "output_type": "stream",
     "text": [
      "Stationday 230 KLIX20051103\n"
     ]
    },
    {
     "name": "stderr",
     "output_type": "stream",
     "text": [
      "Tracking: 100%|██████████| 20/20 [00:00<00:00, 386.71it/s]\n",
      "Cleaning windfarm: 100%|██████████| 25/25 [00:04<00:00,  5.45it/s]\n",
      "Cleaning rain: 100%|██████████| 25/25 [00:00<00:00, 112993.10it/s]\n"
     ]
    },
    {
     "name": "stdout",
     "output_type": "stream",
     "text": [
      "Stationday 231 KLIX20051104\n"
     ]
    },
    {
     "name": "stderr",
     "output_type": "stream",
     "text": [
      "Tracking: 100%|██████████| 11/11 [00:00<00:00, 795.61it/s]\n",
      "Cleaning windfarm: 100%|██████████| 11/11 [00:02<00:00,  4.19it/s]\n",
      "Cleaning rain: 100%|██████████| 11/11 [00:00<00:00, 100736.56it/s]\n"
     ]
    },
    {
     "name": "stdout",
     "output_type": "stream",
     "text": [
      "Stationday 232 KLIX20051106\n"
     ]
    },
    {
     "name": "stderr",
     "output_type": "stream",
     "text": [
      "Tracking: 100%|██████████| 19/19 [00:00<00:00, 478.88it/s]\n",
      "Cleaning windfarm: 100%|██████████| 15/15 [00:03<00:00,  4.50it/s]\n",
      "Cleaning rain: 100%|██████████| 15/15 [00:00<00:00, 100663.30it/s]\n"
     ]
    },
    {
     "name": "stdout",
     "output_type": "stream",
     "text": [
      "Stationday 233 KLIX20051110\n"
     ]
    },
    {
     "name": "stderr",
     "output_type": "stream",
     "text": [
      "Tracking: 100%|██████████| 11/11 [00:00<00:00, 401.43it/s]\n",
      "Cleaning windfarm: 100%|██████████| 17/17 [00:05<00:00,  3.16it/s]\n",
      "Cleaning rain: 100%|██████████| 17/17 [00:00<00:00, 113902.82it/s]\n"
     ]
    },
    {
     "name": "stdout",
     "output_type": "stream",
     "text": [
      "Stationday 234 KLIX20051112\n"
     ]
    },
    {
     "name": "stderr",
     "output_type": "stream",
     "text": [
      "Tracking: 100%|██████████| 11/11 [00:00<00:00, 877.00it/s]\n",
      "Cleaning windfarm: 100%|██████████| 8/8 [00:02<00:00,  3.94it/s]\n",
      "Cleaning rain: 100%|██████████| 8/8 [00:00<00:00, 44092.55it/s]\n"
     ]
    },
    {
     "name": "stdout",
     "output_type": "stream",
     "text": [
      "Stationday 235 KLIX20051114\n"
     ]
    },
    {
     "name": "stderr",
     "output_type": "stream",
     "text": [
      "Tracking: 100%|██████████| 20/20 [00:00<00:00, 1388.02it/s]\n",
      "Cleaning windfarm: 100%|██████████| 6/6 [00:02<00:00,  2.38it/s]\n",
      "Cleaning rain: 100%|██████████| 6/6 [00:00<00:00, 62446.21it/s]\n"
     ]
    },
    {
     "name": "stdout",
     "output_type": "stream",
     "text": [
      "Stationday 236 KLIX20051124\n"
     ]
    },
    {
     "name": "stderr",
     "output_type": "stream",
     "text": [
      "Tracking: 100%|██████████| 20/20 [00:00<00:00, 1952.61it/s]\n",
      "Cleaning windfarm: 100%|██████████| 7/7 [00:01<00:00,  5.34it/s]\n",
      "Cleaning rain: 100%|██████████| 7/7 [00:00<00:00, 41410.62it/s]\n"
     ]
    },
    {
     "name": "stdout",
     "output_type": "stream",
     "text": [
      "Stationday 237 KLIX20051127\n"
     ]
    },
    {
     "name": "stderr",
     "output_type": "stream",
     "text": [
      "Tracking: 100%|██████████| 20/20 [00:00<00:00, 1216.25it/s]\n",
      "Cleaning windfarm: 100%|██████████| 10/10 [00:00<00:00, 14.10it/s]\n",
      "Cleaning rain: 100%|██████████| 10/10 [00:00<00:00, 76678.32it/s]\n"
     ]
    },
    {
     "name": "stdout",
     "output_type": "stream",
     "text": [
      "Stationday 238 KLIX20051210\n"
     ]
    },
    {
     "name": "stderr",
     "output_type": "stream",
     "text": [
      "Tracking: 100%|██████████| 11/11 [00:00<00:00, 1110.67it/s]\n",
      "Cleaning windfarm: 100%|██████████| 4/4 [00:01<00:00,  3.13it/s]\n",
      "Cleaning rain: 100%|██████████| 4/4 [00:00<00:00, 53092.46it/s]\n"
     ]
    },
    {
     "name": "stdout",
     "output_type": "stream",
     "text": [
      "Stationday 239 KLIX20051214\n"
     ]
    },
    {
     "name": "stderr",
     "output_type": "stream",
     "text": [
      "Tracking: 100%|██████████| 16/16 [00:00<00:00, 2562.39it/s]\n",
      "Cleaning windfarm: 100%|██████████| 4/4 [00:00<00:00,  6.21it/s]\n",
      "Cleaning rain: 100%|██████████| 4/4 [00:00<00:00, 45964.98it/s]\n"
     ]
    },
    {
     "name": "stdout",
     "output_type": "stream",
     "text": [
      "Stationday 240 KLIX20051215\n"
     ]
    },
    {
     "name": "stderr",
     "output_type": "stream",
     "text": [
      "Tracking: 100%|██████████| 20/20 [00:00<00:00, 985.10it/s]\n",
      "Cleaning windfarm: 100%|██████████| 8/8 [00:01<00:00,  5.84it/s]\n",
      "Cleaning rain: 100%|██████████| 8/8 [00:00<00:00, 47934.90it/s]\n"
     ]
    },
    {
     "name": "stdout",
     "output_type": "stream",
     "text": [
      "Stationday 241 KLIX20051219\n"
     ]
    },
    {
     "name": "stderr",
     "output_type": "stream",
     "text": [
      "Tracking: 100%|██████████| 11/11 [00:00<00:00, 857.06it/s]\n",
      "Cleaning windfarm: 100%|██████████| 10/10 [00:01<00:00,  7.53it/s]\n",
      "Cleaning rain: 100%|██████████| 10/10 [00:00<00:00, 97997.76it/s]\n"
     ]
    },
    {
     "name": "stdout",
     "output_type": "stream",
     "text": [
      "Stationday 242 KLIX20060202\n"
     ]
    },
    {
     "name": "stderr",
     "output_type": "stream",
     "text": [
      "Tracking: 100%|██████████| 22/22 [00:00<00:00, 2866.03it/s]\n",
      "Cleaning windfarm: 100%|██████████| 4/4 [00:00<00:00,  6.47it/s]\n",
      "Cleaning rain: 100%|██████████| 4/4 [00:00<00:00, 45839.39it/s]\n"
     ]
    },
    {
     "name": "stdout",
     "output_type": "stream",
     "text": [
      "Stationday 243 KLIX20060228\n"
     ]
    },
    {
     "name": "stderr",
     "output_type": "stream",
     "text": [
      "Tracking: 100%|██████████| 12/12 [00:00<00:00, 1368.75it/s]\n",
      "Cleaning windfarm: 100%|██████████| 7/7 [00:00<00:00, 10.90it/s]\n",
      "Cleaning rain: 100%|██████████| 7/7 [00:00<00:00, 64386.25it/s]\n"
     ]
    },
    {
     "name": "stdout",
     "output_type": "stream",
     "text": [
      "Stationday 244 KLIX20060303\n"
     ]
    },
    {
     "name": "stderr",
     "output_type": "stream",
     "text": [
      "Tracking: 100%|██████████| 11/11 [00:00<00:00, 898.54it/s]\n",
      "Cleaning windfarm: 100%|██████████| 7/7 [00:01<00:00,  5.29it/s]\n",
      "Cleaning rain: 100%|██████████| 7/7 [00:00<00:00, 72494.14it/s]\n"
     ]
    },
    {
     "name": "stdout",
     "output_type": "stream",
     "text": [
      "Stationday 245 KLIX20060327\n"
     ]
    },
    {
     "name": "stderr",
     "output_type": "stream",
     "text": [
      "Tracking: 100%|██████████| 11/11 [00:00<00:00, 776.74it/s]\n",
      "Cleaning windfarm: 100%|██████████| 11/11 [00:03<00:00,  3.66it/s]\n",
      "Cleaning rain: 100%|██████████| 11/11 [00:00<00:00, 104147.50it/s]\n"
     ]
    },
    {
     "name": "stdout",
     "output_type": "stream",
     "text": [
      "Stationday 246 KLIX20060330\n"
     ]
    },
    {
     "name": "stderr",
     "output_type": "stream",
     "text": [
      "Tracking: 100%|██████████| 20/20 [00:00<00:00, 683.89it/s]\n",
      "Cleaning windfarm: 100%|██████████| 9/9 [00:03<00:00,  2.70it/s]\n",
      "Cleaning rain: 100%|██████████| 9/9 [00:00<00:00, 67408.46it/s]\n"
     ]
    },
    {
     "name": "stdout",
     "output_type": "stream",
     "text": [
      "Stationday 247 KLIX20060405\n"
     ]
    },
    {
     "name": "stderr",
     "output_type": "stream",
     "text": [
      "Tracking: 100%|██████████| 12/12 [00:00<00:00, 1317.20it/s]\n",
      "Cleaning windfarm: 100%|██████████| 11/11 [00:01<00:00,  9.01it/s]\n",
      "Cleaning rain: 100%|██████████| 11/11 [00:00<00:00, 60152.99it/s]\n"
     ]
    },
    {
     "name": "stdout",
     "output_type": "stream",
     "text": [
      "Stationday 248 KLIX20060410\n"
     ]
    },
    {
     "name": "stderr",
     "output_type": "stream",
     "text": [
      "Tracking: 100%|██████████| 9/9 [00:00<00:00, 791.00it/s]\n",
      "Cleaning windfarm: 100%|██████████| 7/7 [00:01<00:00,  5.53it/s]\n",
      "Cleaning rain: 100%|██████████| 7/7 [00:00<00:00, 62072.15it/s]\n"
     ]
    },
    {
     "name": "stdout",
     "output_type": "stream",
     "text": [
      "Stationday 249 KLIX20060413\n"
     ]
    },
    {
     "name": "stderr",
     "output_type": "stream",
     "text": [
      "Tracking: 100%|██████████| 11/11 [00:00<00:00, 789.90it/s]\n",
      "Cleaning windfarm: 100%|██████████| 11/11 [00:01<00:00,  5.86it/s]\n",
      "Cleaning rain: 100%|██████████| 11/11 [00:00<00:00, 90112.00it/s]\n"
     ]
    },
    {
     "name": "stdout",
     "output_type": "stream",
     "text": [
      "Stationday 250 KLIX20060421\n"
     ]
    },
    {
     "name": "stderr",
     "output_type": "stream",
     "text": [
      "Tracking: 100%|██████████| 20/20 [00:00<00:00, 1224.19it/s]\n",
      "Cleaning windfarm: 100%|██████████| 6/6 [00:02<00:00,  2.78it/s]\n",
      "Cleaning rain: 100%|██████████| 6/6 [00:00<00:00, 56048.61it/s]\n"
     ]
    },
    {
     "name": "stdout",
     "output_type": "stream",
     "text": [
      "Stationday 251 KLIX20061018\n"
     ]
    },
    {
     "name": "stderr",
     "output_type": "stream",
     "text": [
      "Tracking: 100%|██████████| 15/15 [00:00<00:00, 495.11it/s]\n",
      "Cleaning windfarm: 100%|██████████| 15/15 [00:02<00:00,  7.08it/s]\n",
      "Cleaning rain: 100%|██████████| 15/15 [00:00<00:00, 104683.13it/s]\n"
     ]
    },
    {
     "name": "stdout",
     "output_type": "stream",
     "text": [
      "Stationday 252 KLIX20061024\n"
     ]
    },
    {
     "name": "stderr",
     "output_type": "stream",
     "text": [
      "Tracking: 100%|██████████| 12/12 [00:00<00:00, 848.95it/s]\n",
      "Cleaning windfarm: 100%|██████████| 7/7 [00:02<00:00,  2.39it/s]\n",
      "Cleaning rain: 100%|██████████| 7/7 [00:00<00:00, 66425.63it/s]\n"
     ]
    },
    {
     "name": "stdout",
     "output_type": "stream",
     "text": [
      "Stationday 253 KLIX20061109\n"
     ]
    },
    {
     "name": "stderr",
     "output_type": "stream",
     "text": [
      "Tracking: 100%|██████████| 20/20 [00:00<00:00, 340.49it/s]\n",
      "Cleaning windfarm: 100%|██████████| 20/20 [00:03<00:00,  5.83it/s]\n",
      "Cleaning rain: 100%|██████████| 20/20 [00:00<00:00, 91578.69it/s]\n"
     ]
    },
    {
     "name": "stdout",
     "output_type": "stream",
     "text": [
      "Stationday 254 KLIX20061111\n"
     ]
    },
    {
     "name": "stderr",
     "output_type": "stream",
     "text": [
      "Tracking: 100%|██████████| 16/16 [00:00<00:00, 650.24it/s]\n",
      "Cleaning windfarm: 100%|██████████| 12/12 [00:02<00:00,  5.98it/s]\n",
      "Cleaning rain: 100%|██████████| 12/12 [00:00<00:00, 87533.30it/s]\n"
     ]
    },
    {
     "name": "stdout",
     "output_type": "stream",
     "text": [
      "Stationday 255 KLIX20061116\n"
     ]
    },
    {
     "name": "stderr",
     "output_type": "stream",
     "text": [
      "Tracking: 100%|██████████| 11/11 [00:00<00:00, 1873.60it/s]\n",
      "Cleaning windfarm: 100%|██████████| 5/5 [00:00<00:00,  7.21it/s]\n",
      "Cleaning rain: 100%|██████████| 5/5 [00:00<00:00, 61862.89it/s]\n"
     ]
    },
    {
     "name": "stdout",
     "output_type": "stream",
     "text": [
      "Stationday 256 KLIX20061215\n"
     ]
    },
    {
     "name": "stderr",
     "output_type": "stream",
     "text": [
      "Tracking: 100%|██████████| 17/17 [00:00<00:00, 1093.37it/s]\n",
      "Cleaning windfarm: 100%|██████████| 10/10 [00:02<00:00,  4.63it/s]\n",
      "Cleaning rain: 100%|██████████| 10/10 [00:00<00:00, 83886.08it/s]\n"
     ]
    },
    {
     "name": "stdout",
     "output_type": "stream",
     "text": [
      "Stationday 257 KLIX20061216\n"
     ]
    },
    {
     "name": "stderr",
     "output_type": "stream",
     "text": [
      "Tracking: 100%|██████████| 13/13 [00:00<00:00, 871.56it/s]\n",
      "Cleaning windfarm: 100%|██████████| 8/8 [00:02<00:00,  3.00it/s]\n",
      "Cleaning rain: 100%|██████████| 8/8 [00:00<00:00, 76087.15it/s]\n"
     ]
    },
    {
     "name": "stdout",
     "output_type": "stream",
     "text": [
      "Stationday 258 KLIX20070223\n"
     ]
    },
    {
     "name": "stderr",
     "output_type": "stream",
     "text": [
      "Tracking: 100%|██████████| 12/12 [00:00<00:00, 659.69it/s]\n",
      "Cleaning windfarm: 100%|██████████| 10/10 [00:02<00:00,  3.33it/s]\n",
      "Cleaning rain: 100%|██████████| 10/10 [00:00<00:00, 82727.89it/s]\n"
     ]
    },
    {
     "name": "stdout",
     "output_type": "stream",
     "text": [
      "Stationday 259 KLIX20070302\n"
     ]
    },
    {
     "name": "stderr",
     "output_type": "stream",
     "text": [
      "Tracking: 100%|██████████| 13/13 [00:00<00:00, 1120.25it/s]\n",
      "Cleaning windfarm: 100%|██████████| 7/7 [00:02<00:00,  3.32it/s]\n",
      "Cleaning rain: 100%|██████████| 7/7 [00:00<00:00, 70239.54it/s]\n"
     ]
    },
    {
     "name": "stdout",
     "output_type": "stream",
     "text": [
      "Stationday 260 KLIX20070318\n"
     ]
    },
    {
     "name": "stderr",
     "output_type": "stream",
     "text": [
      "Tracking: 100%|██████████| 11/11 [00:00<00:00, 582.77it/s]\n",
      "Cleaning windfarm: 100%|██████████| 13/13 [00:03<00:00,  3.69it/s]\n",
      "Cleaning rain: 100%|██████████| 13/13 [00:00<00:00, 106288.41it/s]\n"
     ]
    },
    {
     "name": "stdout",
     "output_type": "stream",
     "text": [
      "Stationday 261 KLIX20070430\n"
     ]
    },
    {
     "name": "stderr",
     "output_type": "stream",
     "text": [
      "Tracking: 100%|██████████| 15/15 [00:00<00:00, 495.05it/s]\n",
      "Cleaning windfarm: 100%|██████████| 15/15 [00:01<00:00,  7.69it/s]\n",
      "Cleaning rain: 100%|██████████| 15/15 [00:00<00:00, 40590.04it/s]\n"
     ]
    },
    {
     "name": "stdout",
     "output_type": "stream",
     "text": [
      "Stationday 262 KLIX20071014\n"
     ]
    },
    {
     "name": "stderr",
     "output_type": "stream",
     "text": [
      "Tracking: 100%|██████████| 19/19 [00:00<00:00, 213.88it/s]\n",
      "Cleaning windfarm: 100%|██████████| 21/21 [00:03<00:00,  5.41it/s]\n",
      "Cleaning rain: 100%|██████████| 21/21 [00:00<00:00, 99413.53it/s]\n"
     ]
    },
    {
     "name": "stdout",
     "output_type": "stream",
     "text": [
      "Stationday 263 KLIX20071017\n"
     ]
    },
    {
     "name": "stderr",
     "output_type": "stream",
     "text": [
      "Tracking: 100%|██████████| 20/20 [00:00<00:00, 1110.71it/s]\n",
      "Cleaning windfarm: 100%|██████████| 10/10 [00:01<00:00,  7.76it/s]\n",
      "Cleaning rain: 100%|██████████| 10/10 [00:00<00:00, 78106.22it/s]\n"
     ]
    },
    {
     "name": "stdout",
     "output_type": "stream",
     "text": [
      "Stationday 264 KLIX20071030\n"
     ]
    },
    {
     "name": "stderr",
     "output_type": "stream",
     "text": [
      "Tracking: 100%|██████████| 20/20 [00:00<00:00, 1511.05it/s]\n",
      "Cleaning windfarm: 100%|██████████| 4/4 [00:01<00:00,  2.71it/s]\n",
      "Cleaning rain: 100%|██████████| 4/4 [00:00<00:00, 28339.89it/s]\n"
     ]
    },
    {
     "name": "stdout",
     "output_type": "stream",
     "text": [
      "Stationday 265 KLIX20071031\n"
     ]
    },
    {
     "name": "stderr",
     "output_type": "stream",
     "text": [
      "Tracking: 100%|██████████| 5/5 [00:00<00:00, 815.22it/s]\n",
      "Cleaning windfarm: 100%|██████████| 4/4 [00:00<00:00, 28679.00it/s]\n",
      "Cleaning rain: 100%|██████████| 4/4 [00:00<00:00, 51622.20it/s]\n"
     ]
    },
    {
     "name": "stdout",
     "output_type": "stream",
     "text": [
      "Stationday 266 KLIX20071204\n"
     ]
    },
    {
     "name": "stderr",
     "output_type": "stream",
     "text": [
      "Tracking: 100%|██████████| 14/14 [00:00<00:00, 256.06it/s]\n",
      "Cleaning windfarm: 100%|██████████| 22/22 [00:07<00:00,  3.00it/s]\n",
      "Cleaning rain: 100%|██████████| 22/22 [00:00<00:00, 84733.41it/s]\n"
     ]
    },
    {
     "name": "stdout",
     "output_type": "stream",
     "text": [
      "Stationday 267 KLIX20071220\n"
     ]
    },
    {
     "name": "stderr",
     "output_type": "stream",
     "text": [
      "Tracking: 100%|██████████| 19/19 [00:00<00:00, 1170.03it/s]\n",
      "Cleaning windfarm: 100%|██████████| 6/6 [00:00<00:00,  7.89it/s]\n",
      "Cleaning rain: 100%|██████████| 6/6 [00:00<00:00, 19065.02it/s]\n"
     ]
    },
    {
     "name": "stdout",
     "output_type": "stream",
     "text": [
      "Stationday 268 KLIX20071224\n"
     ]
    },
    {
     "name": "stderr",
     "output_type": "stream",
     "text": [
      "Tracking: 100%|██████████| 12/12 [00:00<00:00, 505.37it/s]\n",
      "Cleaning windfarm: 100%|██████████| 11/11 [00:01<00:00,  7.38it/s]\n",
      "Cleaning rain: 100%|██████████| 11/11 [00:00<00:00, 57384.76it/s]\n"
     ]
    },
    {
     "name": "stdout",
     "output_type": "stream",
     "text": [
      "Stationday 269 KLIX20080107\n"
     ]
    },
    {
     "name": "stderr",
     "output_type": "stream",
     "text": [
      "Tracking: 100%|██████████| 11/11 [00:00<00:00, 911.37it/s]\n",
      "Cleaning windfarm: 100%|██████████| 9/9 [00:01<00:00,  6.02it/s]\n",
      "Cleaning rain: 100%|██████████| 9/9 [00:00<00:00, 89451.98it/s]\n"
     ]
    },
    {
     "name": "stdout",
     "output_type": "stream",
     "text": [
      "Stationday 270 KLIX20080115\n"
     ]
    },
    {
     "name": "stderr",
     "output_type": "stream",
     "text": [
      "Tracking: 100%|██████████| 13/13 [00:00<00:00, 746.02it/s]\n",
      "Cleaning windfarm: 100%|██████████| 7/7 [00:01<00:00,  3.55it/s]\n",
      "Cleaning rain: 100%|██████████| 7/7 [00:00<00:00, 71961.10it/s]\n"
     ]
    },
    {
     "name": "stdout",
     "output_type": "stream",
     "text": [
      "Stationday 271 KLIX20080122\n"
     ]
    },
    {
     "name": "stderr",
     "output_type": "stream",
     "text": [
      "Tracking: 100%|██████████| 20/20 [00:00<00:00, 1661.87it/s]\n",
      "Cleaning windfarm: 100%|██████████| 3/3 [00:00<00:00,  4.65it/s]\n",
      "Cleaning rain: 100%|██████████| 3/3 [00:00<00:00, 21363.18it/s]\n"
     ]
    },
    {
     "name": "stdout",
     "output_type": "stream",
     "text": [
      "Stationday 272 KLIX20080128\n"
     ]
    },
    {
     "name": "stderr",
     "output_type": "stream",
     "text": [
      "Tracking: 100%|██████████| 14/14 [00:00<00:00, 388.50it/s]\n",
      "Cleaning windfarm: 100%|██████████| 18/18 [00:02<00:00,  6.56it/s]\n",
      "Cleaning rain: 100%|██████████| 18/18 [00:00<00:00, 108629.46it/s]\n"
     ]
    },
    {
     "name": "stdout",
     "output_type": "stream",
     "text": [
      "Stationday 273 KLIX20080210\n"
     ]
    },
    {
     "name": "stderr",
     "output_type": "stream",
     "text": [
      "Tracking: 100%|██████████| 19/19 [00:00<00:00, 253.22it/s]\n",
      "Cleaning windfarm: 100%|██████████| 31/31 [00:04<00:00,  7.08it/s]\n",
      "Cleaning rain: 100%|██████████| 31/31 [00:00<00:00, 111131.13it/s]\n"
     ]
    },
    {
     "name": "stdout",
     "output_type": "stream",
     "text": [
      "Stationday 274 KLIX20080211\n"
     ]
    },
    {
     "name": "stderr",
     "output_type": "stream",
     "text": [
      "Tracking: 100%|██████████| 20/20 [00:00<00:00, 369.18it/s]\n",
      "Cleaning windfarm: 100%|██████████| 36/36 [00:05<00:00,  6.60it/s]\n",
      "Cleaning rain: 100%|██████████| 36/36 [00:00<00:00, 105887.06it/s]\n"
     ]
    },
    {
     "name": "stdout",
     "output_type": "stream",
     "text": [
      "Stationday 275 KLIX20080229\n"
     ]
    },
    {
     "name": "stderr",
     "output_type": "stream",
     "text": [
      "Tracking: 100%|██████████| 11/11 [00:00<00:00, 815.58it/s]\n",
      "Cleaning windfarm: 100%|██████████| 7/7 [00:01<00:00,  4.60it/s]\n",
      "Cleaning rain: 100%|██████████| 7/7 [00:00<00:00, 65390.04it/s]\n"
     ]
    },
    {
     "name": "stdout",
     "output_type": "stream",
     "text": [
      "Stationday 276 KLIX20080311\n"
     ]
    },
    {
     "name": "stderr",
     "output_type": "stream",
     "text": [
      "Tracking: 100%|██████████| 23/23 [00:00<00:00, 2974.23it/s]\n",
      "Cleaning windfarm: 100%|██████████| 4/4 [00:00<00:00,  5.70it/s]\n",
      "Cleaning rain: 100%|██████████| 4/4 [00:00<00:00, 41838.44it/s]\n"
     ]
    },
    {
     "name": "stdout",
     "output_type": "stream",
     "text": [
      "Stationday 277 KLIX20080316\n"
     ]
    },
    {
     "name": "stderr",
     "output_type": "stream",
     "text": [
      "Tracking: 100%|██████████| 11/11 [00:00<00:00, 1075.21it/s]\n",
      "Cleaning windfarm: 100%|██████████| 6/6 [00:01<00:00,  4.16it/s]\n",
      "Cleaning rain: 100%|██████████| 6/6 [00:00<00:00, 64362.72it/s]\n"
     ]
    },
    {
     "name": "stdout",
     "output_type": "stream",
     "text": [
      "Stationday 278 KLIX20080320\n"
     ]
    },
    {
     "name": "stderr",
     "output_type": "stream",
     "text": [
      "Tracking: 100%|██████████| 11/11 [00:00<00:00, 1682.13it/s]\n",
      "Cleaning windfarm: 100%|██████████| 2/2 [00:00<00:00,  3.08it/s]\n",
      "Cleaning rain: 100%|██████████| 2/2 [00:00<00:00, 29433.71it/s]\n"
     ]
    },
    {
     "name": "stdout",
     "output_type": "stream",
     "text": [
      "Stationday 279 KLIX20080330\n"
     ]
    },
    {
     "name": "stderr",
     "output_type": "stream",
     "text": [
      "Tracking: 100%|██████████| 20/20 [00:00<00:00, 497.68it/s]\n",
      "Cleaning windfarm: 100%|██████████| 14/14 [00:04<00:00,  3.04it/s]\n",
      "Cleaning rain: 100%|██████████| 14/14 [00:00<00:00, 86353.32it/s]\n"
     ]
    },
    {
     "name": "stdout",
     "output_type": "stream",
     "text": [
      "Stationday 280 KLIX20080401\n"
     ]
    },
    {
     "name": "stderr",
     "output_type": "stream",
     "text": [
      "Tracking: 100%|██████████| 20/20 [00:00<00:00, 849.43it/s]\n",
      "Cleaning windfarm: 100%|██████████| 11/11 [00:03<00:00,  3.17it/s]\n",
      "Cleaning rain: 100%|██████████| 11/11 [00:00<00:00, 81227.72it/s]\n"
     ]
    },
    {
     "name": "stdout",
     "output_type": "stream",
     "text": [
      "Stationday 281 KLIX20080411\n"
     ]
    },
    {
     "name": "stderr",
     "output_type": "stream",
     "text": [
      "Tracking: 100%|██████████| 12/12 [00:00<00:00, 1522.66it/s]\n",
      "Cleaning windfarm: 100%|██████████| 6/6 [00:01<00:00,  4.61it/s]\n",
      "Cleaning rain: 100%|██████████| 6/6 [00:00<00:00, 67108.86it/s]\n"
     ]
    },
    {
     "name": "stdout",
     "output_type": "stream",
     "text": [
      "Stationday 282 KLIX20080412\n"
     ]
    },
    {
     "name": "stderr",
     "output_type": "stream",
     "text": [
      "Tracking: 100%|██████████| 27/27 [00:00<00:00, 1888.57it/s]\n",
      "Cleaning windfarm: 100%|██████████| 8/8 [00:02<00:00,  3.87it/s]\n",
      "Cleaning rain: 100%|██████████| 8/8 [00:00<00:00, 70789.94it/s]\n"
     ]
    },
    {
     "name": "stdout",
     "output_type": "stream",
     "text": [
      "Stationday 283 KLIX20080417\n"
     ]
    },
    {
     "name": "stderr",
     "output_type": "stream",
     "text": [
      "Tracking: 100%|██████████| 11/11 [00:00<00:00, 667.56it/s]\n",
      "Cleaning windfarm: 100%|██████████| 5/5 [00:01<00:00,  3.21it/s]\n",
      "Cleaning rain: 100%|██████████| 5/5 [00:00<00:00, 53227.21it/s]\n"
     ]
    },
    {
     "name": "stdout",
     "output_type": "stream",
     "text": [
      "Stationday 284 KLIX20080424\n"
     ]
    },
    {
     "name": "stderr",
     "output_type": "stream",
     "text": [
      "Tracking: 100%|██████████| 19/19 [00:00<00:00, 766.91it/s]\n",
      "Cleaning windfarm: 100%|██████████| 17/17 [00:02<00:00,  7.36it/s]\n",
      "Cleaning rain: 100%|██████████| 17/17 [00:00<00:00, 62491.82it/s]\n"
     ]
    },
    {
     "name": "stdout",
     "output_type": "stream",
     "text": [
      "Stationday 285 KLIX20081006\n"
     ]
    },
    {
     "name": "stderr",
     "output_type": "stream",
     "text": [
      "Tracking: 100%|██████████| 20/20 [00:00<00:00, 2280.13it/s]\n",
      "Cleaning windfarm: 100%|██████████| 5/5 [00:02<00:00,  2.39it/s]\n",
      "Cleaning rain: 100%|██████████| 5/5 [00:00<00:00, 48657.82it/s]\n"
     ]
    },
    {
     "name": "stdout",
     "output_type": "stream",
     "text": [
      "Stationday 286 KLIX20081015\n"
     ]
    },
    {
     "name": "stderr",
     "output_type": "stream",
     "text": [
      "Tracking: 100%|██████████| 10/10 [00:00<00:00, 1601.06it/s]\n",
      "Cleaning windfarm: 100%|██████████| 4/4 [00:00<00:00,  5.68it/s]\n",
      "Cleaning rain: 100%|██████████| 4/4 [00:00<00:00, 47527.52it/s]\n"
     ]
    },
    {
     "name": "stdout",
     "output_type": "stream",
     "text": [
      "Stationday 287 KLIX20081016\n"
     ]
    },
    {
     "name": "stderr",
     "output_type": "stream",
     "text": [
      "Tracking: 100%|██████████| 6/6 [00:00<00:00, 987.94it/s]\n",
      "Cleaning windfarm: 100%|██████████| 7/7 [00:00<00:00,  9.28it/s]\n",
      "Cleaning rain: 100%|██████████| 7/7 [00:00<00:00, 82472.27it/s]\n"
     ]
    },
    {
     "name": "stdout",
     "output_type": "stream",
     "text": [
      "Stationday 288 KLIX20081031\n"
     ]
    },
    {
     "name": "stderr",
     "output_type": "stream",
     "text": [
      "Tracking: 100%|██████████| 10/10 [00:00<00:00, 318.22it/s]\n",
      "Cleaning windfarm: 100%|██████████| 12/12 [00:03<00:00,  3.48it/s]\n",
      "Cleaning rain: 100%|██████████| 12/12 [00:00<00:00, 109416.63it/s]\n"
     ]
    },
    {
     "name": "stdout",
     "output_type": "stream",
     "text": [
      "Stationday 289 KLIX20081102\n"
     ]
    },
    {
     "name": "stderr",
     "output_type": "stream",
     "text": [
      "Tracking: 100%|██████████| 14/14 [00:00<00:00, 272.30it/s]\n",
      "Cleaning windfarm: 100%|██████████| 19/19 [00:04<00:00,  3.82it/s]\n",
      "Cleaning rain: 100%|██████████| 19/19 [00:00<00:00, 43907.31it/s]\n"
     ]
    },
    {
     "name": "stdout",
     "output_type": "stream",
     "text": [
      "Stationday 290 KLIX20081113\n"
     ]
    },
    {
     "name": "stderr",
     "output_type": "stream",
     "text": [
      "Tracking: 100%|██████████| 11/11 [00:00<00:00, 240.94it/s]\n",
      "Cleaning windfarm: 100%|██████████| 12/12 [00:02<00:00,  5.76it/s]\n",
      "Cleaning rain: 100%|██████████| 12/12 [00:00<00:00, 94254.02it/s]\n"
     ]
    },
    {
     "name": "stdout",
     "output_type": "stream",
     "text": [
      "Stationday 291 KLIX20081115\n"
     ]
    },
    {
     "name": "stderr",
     "output_type": "stream",
     "text": [
      "Tracking: 100%|██████████| 6/6 [00:00<00:00, 702.84it/s]\n",
      "Cleaning windfarm: 100%|██████████| 6/6 [00:02<00:00,  2.24it/s]\n",
      "Cleaning rain: 100%|██████████| 6/6 [00:00<00:00, 68200.07it/s]\n"
     ]
    },
    {
     "name": "stdout",
     "output_type": "stream",
     "text": [
      "Stationday 292 KLIX20081130\n"
     ]
    },
    {
     "name": "stderr",
     "output_type": "stream",
     "text": [
      "Tracking: 100%|██████████| 14/14 [00:00<00:00, 707.46it/s]\n",
      "Cleaning windfarm: 100%|██████████| 10/10 [00:01<00:00,  5.10it/s]\n",
      "Cleaning rain: 100%|██████████| 10/10 [00:00<00:00, 50594.74it/s]\n"
     ]
    },
    {
     "name": "stdout",
     "output_type": "stream",
     "text": [
      "Stationday 293 KLIX20081218\n"
     ]
    },
    {
     "name": "stderr",
     "output_type": "stream",
     "text": [
      "Tracking: 100%|██████████| 12/12 [00:00<00:00, 1066.80it/s]\n",
      "Cleaning windfarm: 100%|██████████| 8/8 [00:03<00:00,  2.42it/s]\n",
      "Cleaning rain: 100%|██████████| 8/8 [00:00<00:00, 48984.57it/s]\n"
     ]
    },
    {
     "name": "stdout",
     "output_type": "stream",
     "text": [
      "Stationday 294 KLIX20090221\n"
     ]
    },
    {
     "name": "stderr",
     "output_type": "stream",
     "text": [
      "Tracking: 100%|██████████| 12/12 [00:00<00:00, 1017.89it/s]\n",
      "Cleaning windfarm: 100%|██████████| 8/8 [00:00<00:00, 11.18it/s]\n",
      "Cleaning rain: 100%|██████████| 8/8 [00:00<00:00, 79324.90it/s]\n"
     ]
    },
    {
     "name": "stdout",
     "output_type": "stream",
     "text": [
      "Stationday 295 KLIX20090422\n"
     ]
    },
    {
     "name": "stderr",
     "output_type": "stream",
     "text": [
      "Tracking: 100%|██████████| 11/11 [00:00<00:00, 903.61it/s]\n",
      "Cleaning windfarm: 100%|██████████| 9/9 [00:00<00:00, 13.64it/s]\n",
      "Cleaning rain: 100%|██████████| 9/9 [00:00<00:00, 72874.01it/s]\n"
     ]
    },
    {
     "name": "stdout",
     "output_type": "stream",
     "text": [
      "Stationday 296 KLIX20091026\n"
     ]
    },
    {
     "name": "stderr",
     "output_type": "stream",
     "text": [
      "Tracking: 100%|██████████| 19/19 [00:00<00:00, 358.69it/s]\n",
      "Cleaning windfarm: 100%|██████████| 20/20 [00:03<00:00,  6.66it/s]\n",
      "Cleaning rain: 100%|██████████| 20/20 [00:00<00:00, 83385.77it/s]\n"
     ]
    },
    {
     "name": "stdout",
     "output_type": "stream",
     "text": [
      "Stationday 297 KLIX20091028\n"
     ]
    },
    {
     "name": "stderr",
     "output_type": "stream",
     "text": [
      "Tracking: 100%|██████████| 7/7 [00:00<00:00, 765.20it/s]\n",
      "Cleaning windfarm: 100%|██████████| 6/6 [00:01<00:00,  4.21it/s]\n",
      "Cleaning rain: 100%|██████████| 6/6 [00:00<00:00, 27324.46it/s]\n"
     ]
    },
    {
     "name": "stdout",
     "output_type": "stream",
     "text": [
      "Stationday 298 KLIX20091120\n"
     ]
    },
    {
     "name": "stderr",
     "output_type": "stream",
     "text": [
      "Tracking: 100%|██████████| 11/11 [00:00<00:00, 280.92it/s]\n",
      "Cleaning windfarm: 100%|██████████| 13/13 [00:01<00:00,  8.74it/s]\n",
      "Cleaning rain: 100%|██████████| 13/13 [00:00<00:00, 105466.06it/s]\n"
     ]
    },
    {
     "name": "stdout",
     "output_type": "stream",
     "text": [
      "Stationday 299 KLIX20091125\n"
     ]
    },
    {
     "name": "stderr",
     "output_type": "stream",
     "text": [
      "Tracking: 100%|██████████| 12/12 [00:00<00:00, 367.18it/s]\n",
      "Cleaning windfarm: 100%|██████████| 18/18 [00:02<00:00,  7.15it/s]\n",
      "Cleaning rain: 100%|██████████| 18/18 [00:00<00:00, 116688.52it/s]\n"
     ]
    },
    {
     "name": "stdout",
     "output_type": "stream",
     "text": [
      "Stationday 300 KLIX20091126\n"
     ]
    },
    {
     "name": "stderr",
     "output_type": "stream",
     "text": [
      "Tracking: 100%|██████████| 18/18 [00:00<00:00, 400.49it/s]\n",
      "Cleaning windfarm: 100%|██████████| 24/24 [00:04<00:00,  5.97it/s]\n",
      "Cleaning rain: 100%|██████████| 24/24 [00:00<00:00, 107431.48it/s]\n"
     ]
    },
    {
     "name": "stdout",
     "output_type": "stream",
     "text": [
      "Stationday 301 KLIX20091203\n"
     ]
    },
    {
     "name": "stderr",
     "output_type": "stream",
     "text": [
      "Tracking: 100%|██████████| 13/13 [00:00<00:00, 447.02it/s]\n",
      "Cleaning windfarm: 100%|██████████| 14/14 [00:04<00:00,  3.14it/s]\n",
      "Cleaning rain: 100%|██████████| 14/14 [00:00<00:00, 102657.79it/s]\n"
     ]
    },
    {
     "name": "stdout",
     "output_type": "stream",
     "text": [
      "Stationday 302 KLIX20091204\n"
     ]
    },
    {
     "name": "stderr",
     "output_type": "stream",
     "text": [
      "Tracking: 100%|██████████| 12/12 [00:00<00:00, 748.86it/s]\n",
      "Cleaning windfarm: 100%|██████████| 10/10 [00:01<00:00,  5.06it/s]\n",
      "Cleaning rain: 100%|██████████| 10/10 [00:00<00:00, 93206.76it/s]\n"
     ]
    },
    {
     "name": "stdout",
     "output_type": "stream",
     "text": [
      "Stationday 303 KLIX20100122\n"
     ]
    },
    {
     "name": "stderr",
     "output_type": "stream",
     "text": [
      "Tracking: 100%|██████████| 5/5 [00:00<00:00, 968.12it/s]\n",
      "Cleaning windfarm: 100%|██████████| 3/3 [00:00<00:00,  4.71it/s]\n",
      "Cleaning rain: 100%|██████████| 3/3 [00:00<00:00, 41665.27it/s]\n"
     ]
    },
    {
     "name": "stdout",
     "output_type": "stream",
     "text": [
      "Stationday 304 KLIX20100201\n"
     ]
    },
    {
     "name": "stderr",
     "output_type": "stream",
     "text": [
      "Tracking: 100%|██████████| 19/19 [00:00<00:00, 1028.51it/s]\n",
      "Cleaning windfarm: 100%|██████████| 9/9 [00:01<00:00,  4.83it/s]\n",
      "Cleaning rain: 100%|██████████| 9/9 [00:00<00:00, 44832.23it/s]\n"
     ]
    },
    {
     "name": "stdout",
     "output_type": "stream",
     "text": [
      "Stationday 305 KLIX20100222\n"
     ]
    },
    {
     "name": "stderr",
     "output_type": "stream",
     "text": [
      "Tracking: 100%|██████████| 25/25 [00:00<00:00, 1898.97it/s]\n",
      "Cleaning windfarm: 100%|██████████| 8/8 [00:00<00:00, 11.50it/s]\n",
      "Cleaning rain: 100%|██████████| 8/8 [00:00<00:00, 46995.00it/s]\n"
     ]
    },
    {
     "name": "stdout",
     "output_type": "stream",
     "text": [
      "Stationday 306 KLIX20100223\n"
     ]
    },
    {
     "name": "stderr",
     "output_type": "stream",
     "text": [
      "Tracking: 100%|██████████| 12/12 [00:00<00:00, 5574.44it/s]\n",
      "Cleaning windfarm: 100%|██████████| 4/4 [00:00<00:00, 31126.56it/s]\n",
      "Cleaning rain: 100%|██████████| 4/4 [00:00<00:00, 52924.97it/s]\n"
     ]
    },
    {
     "name": "stdout",
     "output_type": "stream",
     "text": [
      "Stationday 307 KLIX20100415\n"
     ]
    },
    {
     "name": "stderr",
     "output_type": "stream",
     "text": [
      "Tracking: 100%|██████████| 12/12 [00:00<00:00, 1150.75it/s]\n",
      "Cleaning windfarm: 100%|██████████| 6/6 [00:01<00:00,  4.48it/s]\n",
      "Cleaning rain: 100%|██████████| 6/6 [00:00<00:00, 29026.33it/s]\n"
     ]
    },
    {
     "name": "stdout",
     "output_type": "stream",
     "text": [
      "Stationday 308 KLIX20100417\n"
     ]
    },
    {
     "name": "stderr",
     "output_type": "stream",
     "text": [
      "Tracking: 100%|██████████| 11/11 [00:00<00:00, 440.95it/s]\n",
      "Cleaning windfarm: 100%|██████████| 16/16 [00:02<00:00,  7.67it/s]\n",
      "Cleaning rain: 100%|██████████| 16/16 [00:00<00:00, 73023.79it/s]\n"
     ]
    },
    {
     "name": "stdout",
     "output_type": "stream",
     "text": [
      "Stationday 309 KLIX20100420\n"
     ]
    },
    {
     "name": "stderr",
     "output_type": "stream",
     "text": [
      "Tracking: 100%|██████████| 19/19 [00:00<00:00, 355.63it/s]\n",
      "Cleaning windfarm: 100%|██████████| 20/20 [00:04<00:00,  4.36it/s]\n",
      "Cleaning rain: 100%|██████████| 20/20 [00:00<00:00, 105517.08it/s]\n"
     ]
    },
    {
     "name": "stdout",
     "output_type": "stream",
     "text": [
      "Stationday 310 KLIX20100422\n"
     ]
    },
    {
     "name": "stderr",
     "output_type": "stream",
     "text": [
      "Tracking: 100%|██████████| 12/12 [00:00<00:00, 528.79it/s]\n",
      "Cleaning windfarm: 100%|██████████| 14/14 [00:03<00:00,  4.19it/s]\n",
      "Cleaning rain: 100%|██████████| 14/14 [00:00<00:00, 111002.37it/s]\n"
     ]
    },
    {
     "name": "stdout",
     "output_type": "stream",
     "text": [
      "Stationday 311 KLIX20101008\n"
     ]
    },
    {
     "name": "stderr",
     "output_type": "stream",
     "text": [
      "Tracking: 100%|██████████| 15/15 [00:00<00:00, 629.16it/s]\n",
      "Cleaning windfarm: 100%|██████████| 15/15 [00:03<00:00,  4.73it/s]\n",
      "Cleaning rain: 100%|██████████| 15/15 [00:00<00:00, 72482.21it/s]\n"
     ]
    },
    {
     "name": "stdout",
     "output_type": "stream",
     "text": [
      "Stationday 312 KLIX20101011\n"
     ]
    },
    {
     "name": "stderr",
     "output_type": "stream",
     "text": [
      "Tracking: 100%|██████████| 17/17 [00:00<00:00, 846.18it/s]\n",
      "Cleaning windfarm: 100%|██████████| 16/16 [00:01<00:00, 12.86it/s]\n",
      "Cleaning rain: 100%|██████████| 16/16 [00:00<00:00, 99864.38it/s]\n"
     ]
    },
    {
     "name": "stdout",
     "output_type": "stream",
     "text": [
      "Stationday 313 KLIX20101017\n"
     ]
    },
    {
     "name": "stderr",
     "output_type": "stream",
     "text": [
      "Tracking: 100%|██████████| 20/20 [00:00<00:00, 454.42it/s]\n",
      "Cleaning windfarm: 100%|██████████| 32/32 [00:02<00:00, 10.94it/s]\n",
      "Cleaning rain: 100%|██████████| 32/32 [00:00<00:00, 110014.53it/s]\n"
     ]
    },
    {
     "name": "stdout",
     "output_type": "stream",
     "text": [
      "Stationday 314 KLIX20101018\n"
     ]
    },
    {
     "name": "stderr",
     "output_type": "stream",
     "text": [
      "Tracking: 100%|██████████| 11/11 [00:00<00:00, 710.42it/s]\n",
      "Cleaning windfarm: 100%|██████████| 10/10 [00:01<00:00,  7.35it/s]\n",
      "Cleaning rain: 100%|██████████| 10/10 [00:00<00:00, 57456.22it/s]\n"
     ]
    },
    {
     "name": "stdout",
     "output_type": "stream",
     "text": [
      "Stationday 315 KLIX20101030\n"
     ]
    },
    {
     "name": "stderr",
     "output_type": "stream",
     "text": [
      "Tracking: 100%|██████████| 14/14 [00:00<00:00, 327.17it/s]\n",
      "Cleaning windfarm: 100%|██████████| 22/22 [00:06<00:00,  3.45it/s]\n",
      "Cleaning rain: 100%|██████████| 22/22 [00:00<00:00, 123032.92it/s]\n"
     ]
    },
    {
     "name": "stdout",
     "output_type": "stream",
     "text": [
      "Stationday 316 KLIX20101101\n"
     ]
    },
    {
     "name": "stderr",
     "output_type": "stream",
     "text": [
      "Tracking: 100%|██████████| 11/11 [00:00<00:00, 399.98it/s]\n",
      "Cleaning windfarm: 100%|██████████| 12/12 [00:02<00:00,  4.67it/s]\n",
      "Cleaning rain: 100%|██████████| 12/12 [00:00<00:00, 102927.71it/s]\n"
     ]
    },
    {
     "name": "stdout",
     "output_type": "stream",
     "text": [
      "Stationday 317 KLIX20101103\n"
     ]
    },
    {
     "name": "stderr",
     "output_type": "stream",
     "text": [
      "Tracking: 100%|██████████| 24/24 [00:00<00:00, 633.08it/s]\n",
      "Cleaning windfarm: 100%|██████████| 14/14 [00:03<00:00,  4.16it/s]\n",
      "Cleaning rain: 100%|██████████| 14/14 [00:00<00:00, 93802.33it/s]\n"
     ]
    },
    {
     "name": "stdout",
     "output_type": "stream",
     "text": [
      "Stationday 318 KLIX20101124\n"
     ]
    },
    {
     "name": "stderr",
     "output_type": "stream",
     "text": [
      "Tracking: 100%|██████████| 11/11 [00:00<00:00, 747.44it/s]\n",
      "Cleaning windfarm: 100%|██████████| 9/9 [00:01<00:00,  6.69it/s]\n",
      "Cleaning rain: 100%|██████████| 9/9 [00:00<00:00, 52574.84it/s]\n"
     ]
    },
    {
     "name": "stdout",
     "output_type": "stream",
     "text": [
      "Stationday 319 KLIX20101201\n"
     ]
    },
    {
     "name": "stderr",
     "output_type": "stream",
     "text": [
      "Tracking: 100%|██████████| 12/12 [00:00<00:00, 383.86it/s]\n",
      "Cleaning windfarm: 100%|██████████| 20/20 [00:02<00:00,  9.86it/s]\n",
      "Cleaning rain: 100%|██████████| 20/20 [00:00<00:00, 53092.46it/s]\n"
     ]
    },
    {
     "name": "stdout",
     "output_type": "stream",
     "text": [
      "Stationday 320 KLIX20101203\n"
     ]
    },
    {
     "name": "stderr",
     "output_type": "stream",
     "text": [
      "Tracking: 100%|██████████| 11/11 [00:00<00:00, 299.51it/s]\n",
      "Cleaning windfarm: 100%|██████████| 13/13 [00:03<00:00,  3.94it/s]\n",
      "Cleaning rain: 100%|██████████| 13/13 [00:00<00:00, 107546.26it/s]\n"
     ]
    },
    {
     "name": "stdout",
     "output_type": "stream",
     "text": [
      "Stationday 321 KLIX20101204\n"
     ]
    },
    {
     "name": "stderr",
     "output_type": "stream",
     "text": [
      "Tracking: 100%|██████████| 11/11 [00:00<00:00, 922.84it/s]\n",
      "Cleaning windfarm: 100%|██████████| 9/9 [00:02<00:00,  4.34it/s]\n",
      "Cleaning rain: 100%|██████████| 9/9 [00:00<00:00, 85792.58it/s]\n"
     ]
    },
    {
     "name": "stdout",
     "output_type": "stream",
     "text": [
      "Stationday 322 KLIX20101221\n"
     ]
    },
    {
     "name": "stderr",
     "output_type": "stream",
     "text": [
      "Tracking: 100%|██████████| 11/11 [00:00<00:00, 1786.61it/s]\n",
      "Cleaning windfarm: 100%|██████████| 6/6 [00:00<00:00,  9.14it/s]\n",
      "Cleaning rain: 100%|██████████| 6/6 [00:00<00:00, 63230.71it/s]\n"
     ]
    },
    {
     "name": "stdout",
     "output_type": "stream",
     "text": [
      "Stationday 323 KLIX20101224\n"
     ]
    },
    {
     "name": "stderr",
     "output_type": "stream",
     "text": [
      "Tracking: 100%|██████████| 11/11 [00:00<00:00, 882.79it/s]\n",
      "Cleaning windfarm: 100%|██████████| 9/9 [00:02<00:00,  4.43it/s]\n",
      "Cleaning rain: 100%|██████████| 9/9 [00:00<00:00, 81180.08it/s]\n"
     ]
    },
    {
     "name": "stdout",
     "output_type": "stream",
     "text": [
      "Stationday 324 KLIX20101228\n"
     ]
    },
    {
     "name": "stderr",
     "output_type": "stream",
     "text": [
      "Tracking: 100%|██████████| 10/10 [00:00<00:00, 354.19it/s]\n",
      "Cleaning windfarm: 100%|██████████| 16/16 [00:01<00:00, 11.89it/s]\n",
      "Cleaning rain: 100%|██████████| 16/16 [00:00<00:00, 128070.35it/s]\n"
     ]
    },
    {
     "name": "stdout",
     "output_type": "stream",
     "text": [
      "Stationday 325 KLIX20101230\n"
     ]
    },
    {
     "name": "stderr",
     "output_type": "stream",
     "text": [
      "Tracking: 100%|██████████| 20/20 [00:00<00:00, 3866.61it/s]\n",
      "Cleaning windfarm: 100%|██████████| 5/5 [00:00<00:00,  8.56it/s]\n",
      "Cleaning rain: 100%|██████████| 5/5 [00:00<00:00, 31300.78it/s]\n"
     ]
    },
    {
     "name": "stdout",
     "output_type": "stream",
     "text": [
      "Stationday 326 KLIX20110106\n"
     ]
    },
    {
     "name": "stderr",
     "output_type": "stream",
     "text": [
      "Tracking: 100%|██████████| 11/11 [00:00<00:00, 1256.22it/s]\n",
      "Cleaning windfarm: 100%|██████████| 11/11 [00:00<00:00, 16.26it/s]\n",
      "Cleaning rain: 100%|██████████| 11/11 [00:00<00:00, 99433.93it/s]\n"
     ]
    },
    {
     "name": "stdout",
     "output_type": "stream",
     "text": [
      "Stationday 327 KLIX20110218\n"
     ]
    },
    {
     "name": "stderr",
     "output_type": "stream",
     "text": [
      "Tracking: 100%|██████████| 11/11 [00:00<00:00, 2498.77it/s]\n",
      "Cleaning windfarm: 100%|██████████| 3/3 [00:00<00:00,  4.83it/s]\n",
      "Cleaning rain: 100%|██████████| 3/3 [00:00<00:00, 42509.84it/s]\n"
     ]
    },
    {
     "name": "stdout",
     "output_type": "stream",
     "text": [
      "Stationday 328 KLIX20110320\n"
     ]
    },
    {
     "name": "stderr",
     "output_type": "stream",
     "text": [
      "Tracking: 100%|██████████| 11/11 [00:00<00:00, 865.02it/s]\n",
      "Cleaning windfarm: 100%|██████████| 10/10 [00:01<00:00,  7.45it/s]\n",
      "Cleaning rain: 100%|██████████| 10/10 [00:00<00:00, 83551.87it/s]\n"
     ]
    },
    {
     "name": "stdout",
     "output_type": "stream",
     "text": [
      "Stationday 329 KLIX20110322\n"
     ]
    },
    {
     "name": "stderr",
     "output_type": "stream",
     "text": [
      "Tracking: 100%|██████████| 6/6 [00:00<00:00, 1536.84it/s]\n",
      "Cleaning windfarm: 100%|██████████| 2/2 [00:01<00:00,  1.43it/s]\n",
      "Cleaning rain: 100%|██████████| 2/2 [00:00<00:00, 29026.33it/s]\n"
     ]
    },
    {
     "name": "stdout",
     "output_type": "stream",
     "text": [
      "Stationday 330 KLIX20110418\n"
     ]
    },
    {
     "name": "stderr",
     "output_type": "stream",
     "text": [
      "Tracking: 100%|██████████| 11/11 [00:00<00:00, 4156.52it/s]\n",
      "Cleaning windfarm: 100%|██████████| 3/3 [00:00<00:00, 23045.63it/s]\n",
      "Cleaning rain: 100%|██████████| 3/3 [00:00<00:00, 38716.65it/s]\n"
     ]
    },
    {
     "name": "stdout",
     "output_type": "stream",
     "text": [
      "Stationday 331 KLIX20111006\n"
     ]
    },
    {
     "name": "stderr",
     "output_type": "stream",
     "text": [
      "Tracking: 100%|██████████| 18/18 [00:00<00:00, 449.76it/s]\n",
      "Cleaning windfarm: 100%|██████████| 26/26 [00:01<00:00, 13.14it/s]\n",
      "Cleaning rain: 100%|██████████| 26/26 [00:00<00:00, 105466.06it/s]\n"
     ]
    },
    {
     "name": "stdout",
     "output_type": "stream",
     "text": [
      "Stationday 332 KLIX20111022\n"
     ]
    },
    {
     "name": "stderr",
     "output_type": "stream",
     "text": [
      "Tracking: 100%|██████████| 13/13 [00:00<00:00, 451.03it/s]\n",
      "Cleaning windfarm: 100%|██████████| 22/22 [00:04<00:00,  4.60it/s]\n",
      "Cleaning rain: 100%|██████████| 22/22 [00:00<00:00, 127627.51it/s]\n"
     ]
    },
    {
     "name": "stdout",
     "output_type": "stream",
     "text": [
      "Stationday 333 KLIX20111107\n"
     ]
    },
    {
     "name": "stderr",
     "output_type": "stream",
     "text": [
      "Tracking: 100%|██████████| 12/12 [00:00<00:00, 6704.63it/s]\n",
      "Cleaning windfarm: 100%|██████████| 1/1 [00:00<00:00, 10010.27it/s]\n",
      "Cleaning rain: 100%|██████████| 1/1 [00:00<00:00, 15650.39it/s]\n"
     ]
    },
    {
     "name": "stdout",
     "output_type": "stream",
     "text": [
      "Stationday 334 KLIX20111113\n"
     ]
    },
    {
     "name": "stderr",
     "output_type": "stream",
     "text": [
      "Tracking: 100%|██████████| 12/12 [00:00<00:00, 1480.91it/s]\n",
      "Cleaning windfarm: 100%|██████████| 9/9 [00:00<00:00, 50064.64it/s]\n",
      "Cleaning rain: 100%|██████████| 9/9 [00:00<00:00, 46147.60it/s]\n"
     ]
    },
    {
     "name": "stdout",
     "output_type": "stream",
     "text": [
      "Stationday 335 KLIX20111118\n"
     ]
    },
    {
     "name": "stderr",
     "output_type": "stream",
     "text": [
      "Tracking: 100%|██████████| 10/10 [00:00<00:00, 732.41it/s]\n",
      "Cleaning windfarm: 100%|██████████| 10/10 [00:02<00:00,  3.58it/s]\n",
      "Cleaning rain: 100%|██████████| 10/10 [00:00<00:00, 93206.76it/s]\n"
     ]
    },
    {
     "name": "stdout",
     "output_type": "stream",
     "text": [
      "Stationday 336 KLIX20111124\n"
     ]
    },
    {
     "name": "stderr",
     "output_type": "stream",
     "text": [
      "Tracking: 100%|██████████| 11/11 [00:00<00:00, 634.51it/s]\n",
      "Cleaning windfarm: 100%|██████████| 12/12 [00:04<00:00,  2.97it/s]\n",
      "Cleaning rain: 100%|██████████| 12/12 [00:00<00:00, 62993.30it/s]\n"
     ]
    },
    {
     "name": "stdout",
     "output_type": "stream",
     "text": [
      "Stationday 337 KLIX20111214\n"
     ]
    },
    {
     "name": "stderr",
     "output_type": "stream",
     "text": [
      "Tracking: 100%|██████████| 11/11 [00:00<00:00, 1187.30it/s]\n",
      "Cleaning windfarm: 100%|██████████| 8/8 [00:01<00:00,  5.89it/s]\n",
      "Cleaning rain: 100%|██████████| 8/8 [00:00<00:00, 87381.33it/s]\n"
     ]
    },
    {
     "name": "stdout",
     "output_type": "stream",
     "text": [
      "Stationday 338 KLIX20111218\n"
     ]
    },
    {
     "name": "stderr",
     "output_type": "stream",
     "text": [
      "Tracking: 100%|██████████| 14/14 [00:00<00:00, 254.84it/s]\n",
      "Cleaning windfarm: 100%|██████████| 32/32 [00:05<00:00,  5.76it/s]\n",
      "Cleaning rain: 100%|██████████| 32/32 [00:00<00:00, 126144.48it/s]\n"
     ]
    },
    {
     "name": "stdout",
     "output_type": "stream",
     "text": [
      "Stationday 339 KLIX20120107\n"
     ]
    },
    {
     "name": "stderr",
     "output_type": "stream",
     "text": [
      "Tracking: 100%|██████████| 20/20 [00:00<00:00, 971.90it/s]\n",
      "Cleaning windfarm: 100%|██████████| 14/14 [00:01<00:00,  7.62it/s]\n",
      "Cleaning rain: 100%|██████████| 14/14 [00:00<00:00, 79782.96it/s]\n"
     ]
    },
    {
     "name": "stdout",
     "output_type": "stream",
     "text": [
      "Stationday 340 KLIX20120116\n"
     ]
    },
    {
     "name": "stderr",
     "output_type": "stream",
     "text": [
      "Tracking: 100%|██████████| 11/11 [00:00<00:00, 1612.46it/s]\n",
      "Cleaning windfarm: 100%|██████████| 7/7 [00:00<00:00, 10.13it/s]\n",
      "Cleaning rain: 100%|██████████| 7/7 [00:00<00:00, 75089.84it/s]\n"
     ]
    },
    {
     "name": "stdout",
     "output_type": "stream",
     "text": [
      "Stationday 341 KLIX20120127\n"
     ]
    },
    {
     "name": "stderr",
     "output_type": "stream",
     "text": [
      "Tracking: 100%|██████████| 11/11 [00:00<00:00, 741.33it/s]\n",
      "Cleaning windfarm: 100%|██████████| 8/8 [00:01<00:00,  6.50it/s]\n",
      "Cleaning rain: 100%|██████████| 8/8 [00:00<00:00, 47594.94it/s]\n"
     ]
    },
    {
     "name": "stdout",
     "output_type": "stream",
     "text": [
      "Stationday 342 KLIX20120205\n"
     ]
    },
    {
     "name": "stderr",
     "output_type": "stream",
     "text": [
      "Tracking: 100%|██████████| 11/11 [00:00<00:00, 1754.27it/s]\n",
      "Cleaning windfarm: 100%|██████████| 4/4 [00:01<00:00,  2.95it/s]\n",
      "Cleaning rain: 100%|██████████| 4/4 [00:00<00:00, 28197.00it/s]\n"
     ]
    },
    {
     "name": "stdout",
     "output_type": "stream",
     "text": [
      "Stationday 343 KLIX20120214\n"
     ]
    },
    {
     "name": "stderr",
     "output_type": "stream",
     "text": [
      "Tracking: 100%|██████████| 20/20 [00:00<00:00, 1061.39it/s]\n",
      "Cleaning windfarm: 100%|██████████| 11/11 [00:00<00:00, 16.81it/s]\n",
      "Cleaning rain: 100%|██████████| 11/11 [00:00<00:00, 79684.53it/s]\n"
     ]
    },
    {
     "name": "stdout",
     "output_type": "stream",
     "text": [
      "Stationday 344 KLIX20120229\n"
     ]
    },
    {
     "name": "stderr",
     "output_type": "stream",
     "text": [
      "Tracking: 100%|██████████| 11/11 [00:00<00:00, 1848.45it/s]\n",
      "Cleaning windfarm: 100%|██████████| 6/6 [00:00<00:00, 10.38it/s]\n",
      "Cleaning rain: 100%|██████████| 6/6 [00:00<00:00, 40072.97it/s]\n"
     ]
    },
    {
     "name": "stdout",
     "output_type": "stream",
     "text": [
      "Stationday 345 KLIX20120319\n"
     ]
    },
    {
     "name": "stderr",
     "output_type": "stream",
     "text": [
      "Tracking: 100%|██████████| 9/9 [00:00<00:00, 1431.01it/s]\n",
      "Cleaning windfarm: 100%|██████████| 8/8 [00:00<00:00, 11.79it/s]\n",
      "Cleaning rain: 100%|██████████| 8/8 [00:00<00:00, 91929.95it/s]\n"
     ]
    },
    {
     "name": "stdout",
     "output_type": "stream",
     "text": [
      "Stationday 346 KLIX20120401\n"
     ]
    },
    {
     "name": "stderr",
     "output_type": "stream",
     "text": [
      "Tracking: 100%|██████████| 11/11 [00:00<00:00, 790.74it/s]\n",
      "Cleaning windfarm: 100%|██████████| 7/7 [00:01<00:00,  3.68it/s]\n",
      "Cleaning rain: 100%|██████████| 7/7 [00:00<00:00, 71435.83it/s]\n"
     ]
    },
    {
     "name": "stdout",
     "output_type": "stream",
     "text": [
      "Stationday 347 KLIX20120414\n"
     ]
    },
    {
     "name": "stderr",
     "output_type": "stream",
     "text": [
      "Tracking: 100%|██████████| 11/11 [00:00<00:00, 613.11it/s]\n",
      "Cleaning windfarm: 100%|██████████| 14/14 [00:00<00:00, 20.60it/s]\n",
      "Cleaning rain: 100%|██████████| 14/14 [00:00<00:00, 48811.52it/s]\n"
     ]
    },
    {
     "name": "stdout",
     "output_type": "stream",
     "text": [
      "Stationday 348 KLIX20120420\n"
     ]
    },
    {
     "name": "stderr",
     "output_type": "stream",
     "text": [
      "Tracking: 100%|██████████| 11/11 [00:00<00:00, 359.46it/s]\n",
      "Cleaning windfarm: 100%|██████████| 17/17 [00:02<00:00,  6.51it/s]\n",
      "Cleaning rain: 100%|██████████| 17/17 [00:00<00:00, 125977.33it/s]\n"
     ]
    },
    {
     "name": "stdout",
     "output_type": "stream",
     "text": [
      "Stationday 349 KLIX20121003\n"
     ]
    },
    {
     "name": "stderr",
     "output_type": "stream",
     "text": [
      "Tracking: 100%|██████████| 18/18 [00:00<00:00, 781.19it/s]\n",
      "Cleaning windfarm: 100%|██████████| 15/15 [00:01<00:00,  7.93it/s]\n",
      "Cleaning rain: 100%|██████████| 15/15 [00:00<00:00, 41555.19it/s]\n"
     ]
    },
    {
     "name": "stdout",
     "output_type": "stream",
     "text": [
      "Stationday 350 KLIX20121004\n"
     ]
    },
    {
     "name": "stderr",
     "output_type": "stream",
     "text": [
      "Tracking: 100%|██████████| 18/18 [00:00<00:00, 555.77it/s]\n",
      "Cleaning windfarm: 100%|██████████| 12/12 [00:00<00:00, 15.22it/s]\n",
      "Cleaning rain: 100%|██████████| 12/12 [00:00<00:00, 93553.25it/s]\n"
     ]
    },
    {
     "name": "stdout",
     "output_type": "stream",
     "text": [
      "Stationday 351 KLIX20121012\n"
     ]
    },
    {
     "name": "stderr",
     "output_type": "stream",
     "text": [
      "Tracking: 100%|██████████| 8/8 [00:00<00:00, 695.80it/s]\n",
      "Cleaning windfarm: 100%|██████████| 9/9 [00:01<00:00,  7.18it/s]\n",
      "Cleaning rain: 100%|██████████| 9/9 [00:00<00:00, 88197.98it/s]\n"
     ]
    },
    {
     "name": "stdout",
     "output_type": "stream",
     "text": [
      "Stationday 352 KLIX20121015\n"
     ]
    },
    {
     "name": "stderr",
     "output_type": "stream",
     "text": [
      "Tracking: 100%|██████████| 18/18 [00:00<00:00, 384.43it/s]\n",
      "Cleaning windfarm: 100%|██████████| 19/19 [00:03<00:00,  4.76it/s]\n",
      "Cleaning rain: 100%|██████████| 19/19 [00:00<00:00, 105973.11it/s]\n"
     ]
    },
    {
     "name": "stdout",
     "output_type": "stream",
     "text": [
      "Stationday 353 KLIX20121101\n"
     ]
    },
    {
     "name": "stderr",
     "output_type": "stream",
     "text": [
      "Tracking: 100%|██████████| 17/17 [00:00<00:00, 246.74it/s]\n",
      "Cleaning windfarm: 100%|██████████| 30/30 [00:08<00:00,  3.34it/s]\n",
      "Cleaning rain: 100%|██████████| 30/30 [00:00<00:00, 97240.43it/s]\n"
     ]
    },
    {
     "name": "stdout",
     "output_type": "stream",
     "text": [
      "Stationday 354 KLIX20121103\n"
     ]
    },
    {
     "name": "stderr",
     "output_type": "stream",
     "text": [
      "Tracking: 100%|██████████| 11/11 [00:00<00:00, 658.98it/s]\n",
      "Cleaning windfarm: 100%|██████████| 10/10 [00:04<00:00,  2.38it/s]\n",
      "Cleaning rain: 100%|██████████| 10/10 [00:00<00:00, 84392.43it/s]\n"
     ]
    },
    {
     "name": "stdout",
     "output_type": "stream",
     "text": [
      "Stationday 355 KLIX20121111\n"
     ]
    },
    {
     "name": "stderr",
     "output_type": "stream",
     "text": [
      "Tracking: 100%|██████████| 10/10 [00:00<00:00, 704.37it/s]\n",
      "Cleaning windfarm: 100%|██████████| 13/13 [00:01<00:00,  6.70it/s]\n",
      "Cleaning rain: 100%|██████████| 13/13 [00:00<00:00, 100416.12it/s]\n"
     ]
    },
    {
     "name": "stdout",
     "output_type": "stream",
     "text": [
      "Stationday 356 KLIX20121114\n"
     ]
    },
    {
     "name": "stderr",
     "output_type": "stream",
     "text": [
      "Tracking: 100%|██████████| 10/10 [00:00<00:00, 953.66it/s]\n",
      "Cleaning windfarm: 100%|██████████| 9/9 [00:01<00:00,  4.51it/s]\n",
      "Cleaning rain: 100%|██████████| 9/9 [00:00<00:00, 97541.95it/s]\n"
     ]
    },
    {
     "name": "stdout",
     "output_type": "stream",
     "text": [
      "Stationday 357 KLIX20121122\n"
     ]
    },
    {
     "name": "stderr",
     "output_type": "stream",
     "text": [
      "Tracking: 100%|██████████| 12/12 [00:00<00:00, 504.32it/s]\n",
      "Cleaning windfarm: 100%|██████████| 22/22 [00:02<00:00,  8.48it/s]\n",
      "Cleaning rain: 100%|██████████| 22/22 [00:00<00:00, 51927.23it/s]\n"
     ]
    },
    {
     "name": "stdout",
     "output_type": "stream",
     "text": [
      "Stationday 358 KLIX20121201\n"
     ]
    },
    {
     "name": "stderr",
     "output_type": "stream",
     "text": [
      "Tracking: 100%|██████████| 11/11 [00:00<00:00, 468.32it/s]\n",
      "Cleaning windfarm: 100%|██████████| 19/19 [00:00<00:00, 45512.15it/s]\n",
      "Cleaning rain: 100%|██████████| 19/19 [00:00<00:00, 99119.12it/s]\n"
     ]
    },
    {
     "name": "stdout",
     "output_type": "stream",
     "text": [
      "Stationday 359 KLIX20121204\n"
     ]
    },
    {
     "name": "stderr",
     "output_type": "stream",
     "text": [
      "Tracking: 100%|██████████| 18/18 [00:00<00:00, 4104.91it/s]\n",
      "Cleaning windfarm: 100%|██████████| 5/5 [00:00<00:00, 28416.69it/s]\n",
      "Cleaning rain: 100%|██████████| 5/5 [00:00<00:00, 43599.83it/s]\n"
     ]
    },
    {
     "name": "stdout",
     "output_type": "stream",
     "text": [
      "Stationday 360 KLIX20130204\n"
     ]
    },
    {
     "name": "stderr",
     "output_type": "stream",
     "text": [
      "Tracking: 100%|██████████| 9/9 [00:00<00:00, 656.77it/s]\n",
      "Cleaning windfarm: 100%|██████████| 7/7 [00:00<00:00,  9.45it/s]\n",
      "Cleaning rain: 100%|██████████| 7/7 [00:00<00:00, 80881.90it/s]\n"
     ]
    },
    {
     "name": "stdout",
     "output_type": "stream",
     "text": [
      "Stationday 361 KMLB19930115\n"
     ]
    },
    {
     "name": "stderr",
     "output_type": "stream",
     "text": [
      "Tracking: 100%|██████████| 14/14 [00:00<00:00, 424.57it/s]\n",
      "Cleaning windfarm: 100%|██████████| 15/15 [00:04<00:00,  3.26it/s]\n",
      "Cleaning rain: 100%|██████████| 15/15 [00:00<00:00, 89494.40it/s]\n"
     ]
    },
    {
     "name": "stdout",
     "output_type": "stream",
     "text": [
      "Stationday 362 KMLB19930122\n"
     ]
    },
    {
     "name": "stderr",
     "output_type": "stream",
     "text": [
      "Tracking: 100%|██████████| 17/17 [00:00<00:00, 605.30it/s]\n",
      "Cleaning windfarm: 100%|██████████| 13/13 [00:04<00:00,  2.75it/s]\n",
      "Cleaning rain: 100%|██████████| 13/13 [00:00<00:00, 84931.39it/s]\n"
     ]
    },
    {
     "name": "stdout",
     "output_type": "stream",
     "text": [
      "Stationday 363 KMLB19930130\n"
     ]
    },
    {
     "name": "stderr",
     "output_type": "stream",
     "text": [
      "Tracking: 100%|██████████| 17/17 [00:00<00:00, 550.68it/s]\n",
      "Cleaning windfarm: 100%|██████████| 22/22 [00:04<00:00,  5.27it/s]\n",
      "Cleaning rain: 100%|██████████| 22/22 [00:00<00:00, 114060.18it/s]\n"
     ]
    },
    {
     "name": "stdout",
     "output_type": "stream",
     "text": [
      "Stationday 364 KMLB19930201\n"
     ]
    },
    {
     "name": "stderr",
     "output_type": "stream",
     "text": [
      "Tracking: 100%|██████████| 7/7 [00:00<00:00, 872.46it/s]\n",
      "Cleaning windfarm: 100%|██████████| 13/13 [00:00<00:00, 56620.93it/s]\n",
      "Cleaning rain: 100%|██████████| 13/13 [00:00<00:00, 53352.20it/s]\n"
     ]
    },
    {
     "name": "stdout",
     "output_type": "stream",
     "text": [
      "Stationday 365 KMLB19930207\n"
     ]
    },
    {
     "name": "stderr",
     "output_type": "stream",
     "text": [
      "Tracking: 100%|██████████| 9/9 [00:00<00:00, 371.25it/s]\n",
      "Cleaning windfarm: 100%|██████████| 11/11 [00:01<00:00,  7.95it/s]\n",
      "Cleaning rain: 100%|██████████| 11/11 [00:00<00:00, 95522.45it/s]\n"
     ]
    },
    {
     "name": "stdout",
     "output_type": "stream",
     "text": [
      "Stationday 366 KMLB19930219\n"
     ]
    },
    {
     "name": "stderr",
     "output_type": "stream",
     "text": [
      "Tracking: 100%|██████████| 11/11 [00:00<00:00, 2687.56it/s]\n",
      "Cleaning windfarm: 100%|██████████| 4/4 [00:00<00:00,  5.99it/s]\n",
      "Cleaning rain: 100%|██████████| 4/4 [00:00<00:00, 51622.20it/s]\n"
     ]
    },
    {
     "name": "stdout",
     "output_type": "stream",
     "text": [
      "Stationday 367 KMLB19930226\n"
     ]
    },
    {
     "name": "stderr",
     "output_type": "stream",
     "text": [
      "Tracking: 100%|██████████| 22/22 [00:00<00:00, 2330.23it/s]\n",
      "Cleaning windfarm: 100%|██████████| 7/7 [00:00<00:00, 10.51it/s]\n",
      "Cleaning rain: 100%|██████████| 7/7 [00:00<00:00, 62335.73it/s]\n"
     ]
    },
    {
     "name": "stdout",
     "output_type": "stream",
     "text": [
      "Stationday 368 KMLB19930306\n"
     ]
    },
    {
     "name": "stderr",
     "output_type": "stream",
     "text": [
      "Tracking: 100%|██████████| 9/9 [00:00<00:00, 1497.91it/s]\n",
      "Cleaning windfarm: 100%|██████████| 4/4 [00:01<00:00,  2.99it/s]\n",
      "Cleaning rain: 100%|██████████| 4/4 [00:00<00:00, 54471.48it/s]\n"
     ]
    },
    {
     "name": "stdout",
     "output_type": "stream",
     "text": [
      "Stationday 369 KMLB19930315\n"
     ]
    },
    {
     "name": "stderr",
     "output_type": "stream",
     "text": [
      "Tracking: 100%|██████████| 11/11 [00:00<00:00, 825.67it/s]\n",
      "Cleaning windfarm: 100%|██████████| 8/8 [00:01<00:00,  5.71it/s]\n",
      "Cleaning rain: 100%|██████████| 8/8 [00:00<00:00, 81245.60it/s]\n"
     ]
    },
    {
     "name": "stdout",
     "output_type": "stream",
     "text": [
      "Stationday 370 KMLB19930317\n"
     ]
    },
    {
     "name": "stderr",
     "output_type": "stream",
     "text": [
      "Tracking: 100%|██████████| 19/19 [00:00<00:00, 777.83it/s]\n",
      "Cleaning windfarm: 100%|██████████| 12/12 [00:02<00:00,  4.27it/s]\n",
      "Cleaning rain: 100%|██████████| 12/12 [00:00<00:00, 74126.14it/s]\n"
     ]
    },
    {
     "name": "stdout",
     "output_type": "stream",
     "text": [
      "Stationday 371 KMLB19930403\n"
     ]
    },
    {
     "name": "stderr",
     "output_type": "stream",
     "text": [
      "Tracking: 100%|██████████| 11/11 [00:00<00:00, 934.96it/s]\n",
      "Cleaning windfarm: 100%|██████████| 8/8 [00:01<00:00,  5.96it/s]\n",
      "Cleaning rain: 100%|██████████| 8/8 [00:00<00:00, 78951.60it/s]\n"
     ]
    },
    {
     "name": "stdout",
     "output_type": "stream",
     "text": [
      "Stationday 372 KMLB19930406\n"
     ]
    },
    {
     "name": "stderr",
     "output_type": "stream",
     "text": [
      "Tracking: 100%|██████████| 13/13 [00:00<00:00, 785.04it/s]\n",
      "Cleaning windfarm: 100%|██████████| 12/12 [00:03<00:00,  3.55it/s]\n",
      "Cleaning rain: 100%|██████████| 12/12 [00:00<00:00, 43577.18it/s]\n"
     ]
    },
    {
     "name": "stdout",
     "output_type": "stream",
     "text": [
      "Stationday 373 KMLB19930409\n"
     ]
    },
    {
     "name": "stderr",
     "output_type": "stream",
     "text": [
      "Tracking: 100%|██████████| 5/5 [00:00<00:00, 481.45it/s]\n",
      "Cleaning windfarm: 100%|██████████| 11/11 [00:02<00:00,  4.02it/s]\n",
      "Cleaning rain: 100%|██████████| 11/11 [00:00<00:00, 116803.40it/s]\n"
     ]
    },
    {
     "name": "stdout",
     "output_type": "stream",
     "text": [
      "Stationday 374 KMLB19930503\n"
     ]
    },
    {
     "name": "stderr",
     "output_type": "stream",
     "text": [
      "Tracking: 100%|██████████| 19/19 [00:00<00:00, 2042.96it/s]\n",
      "Cleaning windfarm: 100%|██████████| 6/6 [00:00<00:00,  9.97it/s]\n",
      "Cleaning rain: 100%|██████████| 6/6 [00:00<00:00, 62446.21it/s]\n"
     ]
    },
    {
     "name": "stdout",
     "output_type": "stream",
     "text": [
      "Stationday 375 KMLB19930505\n"
     ]
    },
    {
     "name": "stderr",
     "output_type": "stream",
     "text": [
      "Tracking: 100%|██████████| 18/18 [00:00<00:00, 1829.00it/s]\n",
      "Cleaning windfarm: 100%|██████████| 8/8 [00:00<00:00, 11.88it/s]\n",
      "Cleaning rain: 100%|██████████| 8/8 [00:00<00:00, 75743.64it/s]\n"
     ]
    },
    {
     "name": "stdout",
     "output_type": "stream",
     "text": [
      "Stationday 376 KMLB19931013\n"
     ]
    },
    {
     "name": "stderr",
     "output_type": "stream",
     "text": [
      "Tracking: 100%|██████████| 13/13 [00:00<00:00, 1776.03it/s]\n",
      "Cleaning windfarm: 100%|██████████| 6/6 [00:00<00:00,  9.57it/s]\n",
      "Cleaning rain: 100%|██████████| 6/6 [00:00<00:00, 27869.13it/s]\n"
     ]
    },
    {
     "name": "stdout",
     "output_type": "stream",
     "text": [
      "Stationday 377 KMLB19931025\n"
     ]
    },
    {
     "name": "stderr",
     "output_type": "stream",
     "text": [
      "Tracking: 100%|██████████| 15/15 [00:00<00:00, 387.74it/s]\n",
      "Cleaning windfarm: 100%|██████████| 10/10 [00:04<00:00,  2.46it/s]\n",
      "Cleaning rain: 100%|██████████| 10/10 [00:00<00:00, 88487.43it/s]\n"
     ]
    },
    {
     "name": "stdout",
     "output_type": "stream",
     "text": [
      "Stationday 378 KMLB19931105\n"
     ]
    },
    {
     "name": "stderr",
     "output_type": "stream",
     "text": [
      "Tracking: 100%|██████████| 19/19 [00:00<00:00, 521.56it/s]\n",
      "Cleaning windfarm: 100%|██████████| 15/15 [00:04<00:00,  3.40it/s]\n",
      "Cleaning rain: 100%|██████████| 15/15 [00:00<00:00, 94183.47it/s]\n"
     ]
    },
    {
     "name": "stdout",
     "output_type": "stream",
     "text": [
      "Stationday 379 KMLB19931108\n"
     ]
    },
    {
     "name": "stderr",
     "output_type": "stream",
     "text": [
      "Tracking: 100%|██████████| 18/18 [00:00<00:00, 767.73it/s]\n",
      "Cleaning windfarm: 100%|██████████| 9/9 [00:02<00:00,  4.48it/s]\n",
      "Cleaning rain: 100%|██████████| 9/9 [00:00<00:00, 78479.70it/s]\n"
     ]
    },
    {
     "name": "stdout",
     "output_type": "stream",
     "text": [
      "Stationday 380 KMLB19931109\n"
     ]
    },
    {
     "name": "stderr",
     "output_type": "stream",
     "text": [
      "Tracking: 100%|██████████| 18/18 [00:00<00:00, 587.18it/s]\n",
      "Cleaning windfarm: 100%|██████████| 12/12 [00:03<00:00,  3.50it/s]\n",
      "Cleaning rain: 100%|██████████| 12/12 [00:00<00:00, 87685.80it/s]\n"
     ]
    },
    {
     "name": "stdout",
     "output_type": "stream",
     "text": [
      "Stationday 381 KMLB19931110\n"
     ]
    },
    {
     "name": "stderr",
     "output_type": "stream",
     "text": [
      "Tracking: 100%|██████████| 20/20 [00:00<00:00, 1116.83it/s]\n",
      "Cleaning windfarm: 100%|██████████| 7/7 [00:00<00:00, 10.82it/s]\n",
      "Cleaning rain: 100%|██████████| 7/7 [00:00<00:00, 40552.66it/s]\n"
     ]
    },
    {
     "name": "stdout",
     "output_type": "stream",
     "text": [
      "Stationday 382 KMLB19931113\n"
     ]
    },
    {
     "name": "stderr",
     "output_type": "stream",
     "text": [
      "Tracking: 100%|██████████| 20/20 [00:00<00:00, 869.88it/s]\n",
      "Cleaning windfarm: 100%|██████████| 9/9 [00:02<00:00,  4.33it/s]\n",
      "Cleaning rain: 100%|██████████| 9/9 [00:00<00:00, 71358.67it/s]\n"
     ]
    },
    {
     "name": "stdout",
     "output_type": "stream",
     "text": [
      "Stationday 383 KMLB19931119\n"
     ]
    },
    {
     "name": "stderr",
     "output_type": "stream",
     "text": [
      "Tracking: 100%|██████████| 16/16 [00:00<00:00, 706.51it/s]\n",
      "Cleaning windfarm: 100%|██████████| 15/15 [00:03<00:00,  4.60it/s]\n",
      "Cleaning rain: 100%|██████████| 15/15 [00:00<00:00, 114390.11it/s]\n"
     ]
    },
    {
     "name": "stdout",
     "output_type": "stream",
     "text": [
      "Stationday 384 KMLB19931122\n"
     ]
    },
    {
     "name": "stderr",
     "output_type": "stream",
     "text": [
      "Tracking: 100%|██████████| 16/16 [00:00<00:00, 694.35it/s]\n",
      "Cleaning windfarm: 100%|██████████| 6/6 [00:00<00:00,  8.14it/s]\n",
      "Cleaning rain: 100%|██████████| 6/6 [00:00<00:00, 64527.75it/s]\n"
     ]
    },
    {
     "name": "stdout",
     "output_type": "stream",
     "text": [
      "Stationday 385 KMLB19931204\n"
     ]
    },
    {
     "name": "stderr",
     "output_type": "stream",
     "text": [
      "Tracking: 100%|██████████| 19/19 [00:00<00:00, 390.33it/s]\n",
      "Cleaning windfarm: 100%|██████████| 17/17 [00:03<00:00,  4.60it/s]\n",
      "Cleaning rain: 100%|██████████| 17/17 [00:00<00:00, 102007.39it/s]\n"
     ]
    },
    {
     "name": "stdout",
     "output_type": "stream",
     "text": [
      "Stationday 386 KMLB19931215\n"
     ]
    },
    {
     "name": "stderr",
     "output_type": "stream",
     "text": [
      "Tracking: 100%|██████████| 17/17 [00:00<00:00, 691.75it/s]\n",
      "Cleaning windfarm: 100%|██████████| 9/9 [00:01<00:00,  4.60it/s]\n",
      "Cleaning rain: 100%|██████████| 9/9 [00:00<00:00, 81005.87it/s]\n"
     ]
    },
    {
     "name": "stdout",
     "output_type": "stream",
     "text": [
      "Stationday 387 KMLB19931218\n"
     ]
    },
    {
     "name": "stderr",
     "output_type": "stream",
     "text": [
      "Tracking: 100%|██████████| 14/14 [00:00<00:00, 417.85it/s]\n",
      "Cleaning windfarm: 100%|██████████| 12/12 [00:03<00:00,  3.20it/s]\n",
      "Cleaning rain: 100%|██████████| 12/12 [00:00<00:00, 87381.33it/s]\n"
     ]
    },
    {
     "name": "stdout",
     "output_type": "stream",
     "text": [
      "Stationday 388 KMLB19940119\n"
     ]
    },
    {
     "name": "stderr",
     "output_type": "stream",
     "text": [
      "Tracking: 100%|██████████| 17/17 [00:00<00:00, 786.46it/s]\n",
      "Cleaning windfarm: 100%|██████████| 7/7 [00:01<00:00,  3.86it/s]\n",
      "Cleaning rain: 100%|██████████| 7/7 [00:00<00:00, 66126.41it/s]\n"
     ]
    },
    {
     "name": "stdout",
     "output_type": "stream",
     "text": [
      "Stationday 389 KMLB19940122\n"
     ]
    },
    {
     "name": "stderr",
     "output_type": "stream",
     "text": [
      "Tracking: 100%|██████████| 20/20 [00:00<00:00, 838.07it/s]\n",
      "Cleaning windfarm: 100%|██████████| 10/10 [00:01<00:00,  7.74it/s]\n",
      "Cleaning rain: 100%|██████████| 10/10 [00:00<00:00, 71089.90it/s]\n"
     ]
    },
    {
     "name": "stdout",
     "output_type": "stream",
     "text": [
      "Stationday 390 KMLB19940127\n"
     ]
    },
    {
     "name": "stderr",
     "output_type": "stream",
     "text": [
      "Tracking: 100%|██████████| 15/15 [00:00<00:00, 748.10it/s]\n",
      "Cleaning windfarm: 100%|██████████| 11/11 [00:02<00:00,  4.37it/s]\n",
      "Cleaning rain: 100%|██████████| 11/11 [00:00<00:00, 93206.76it/s]\n"
     ]
    },
    {
     "name": "stdout",
     "output_type": "stream",
     "text": [
      "Stationday 391 KMLB19940129\n"
     ]
    },
    {
     "name": "stderr",
     "output_type": "stream",
     "text": [
      "Tracking: 100%|██████████| 18/18 [00:00<00:00, 344.34it/s]\n",
      "Cleaning windfarm: 100%|██████████| 10/10 [00:02<00:00,  3.91it/s]\n",
      "Cleaning rain: 100%|██████████| 10/10 [00:00<00:00, 84392.43it/s]\n"
     ]
    },
    {
     "name": "stdout",
     "output_type": "stream",
     "text": [
      "Stationday 392 KMLB19940211\n"
     ]
    },
    {
     "name": "stderr",
     "output_type": "stream",
     "text": [
      "Tracking: 100%|██████████| 10/10 [00:00<00:00, 872.30it/s]\n",
      "Cleaning windfarm: 100%|██████████| 7/7 [00:01<00:00,  5.65it/s]\n",
      "Cleaning rain: 100%|██████████| 7/7 [00:00<00:00, 69739.02it/s]\n"
     ]
    },
    {
     "name": "stdout",
     "output_type": "stream",
     "text": [
      "Stationday 393 KMLB19940215\n"
     ]
    },
    {
     "name": "stderr",
     "output_type": "stream",
     "text": [
      "Tracking: 100%|██████████| 13/13 [00:00<00:00, 772.02it/s]\n",
      "Cleaning windfarm: 100%|██████████| 10/10 [00:01<00:00,  5.10it/s]\n",
      "Cleaning rain: 100%|██████████| 10/10 [00:00<00:00, 83551.87it/s]\n"
     ]
    },
    {
     "name": "stdout",
     "output_type": "stream",
     "text": [
      "Stationday 394 KMLB19940219\n"
     ]
    },
    {
     "name": "stderr",
     "output_type": "stream",
     "text": [
      "Tracking: 100%|██████████| 18/18 [00:00<00:00, 1738.17it/s]\n",
      "Cleaning windfarm: 100%|██████████| 7/7 [00:01<00:00,  5.93it/s]\n",
      "Cleaning rain: 100%|██████████| 7/7 [00:00<00:00, 40777.96it/s]\n"
     ]
    },
    {
     "name": "stdout",
     "output_type": "stream",
     "text": [
      "Stationday 395 KMLB19940301\n"
     ]
    },
    {
     "name": "stderr",
     "output_type": "stream",
     "text": [
      "Tracking: 100%|██████████| 18/18 [00:00<00:00, 971.60it/s]\n",
      "Cleaning windfarm: 100%|██████████| 14/14 [00:01<00:00, 11.36it/s]\n",
      "Cleaning rain: 100%|██████████| 14/14 [00:00<00:00, 67884.69it/s]\n"
     ]
    },
    {
     "name": "stdout",
     "output_type": "stream",
     "text": [
      "Stationday 396 KMLB19940308\n"
     ]
    },
    {
     "name": "stderr",
     "output_type": "stream",
     "text": [
      "Tracking: 100%|██████████| 18/18 [00:00<00:00, 516.71it/s]\n",
      "Cleaning windfarm: 100%|██████████| 22/22 [00:03<00:00,  6.76it/s]\n",
      "Cleaning rain: 100%|██████████| 22/22 [00:00<00:00, 107047.20it/s]\n"
     ]
    },
    {
     "name": "stdout",
     "output_type": "stream",
     "text": [
      "Stationday 397 KMLB19940312\n"
     ]
    },
    {
     "name": "stderr",
     "output_type": "stream",
     "text": [
      "Tracking: 100%|██████████| 18/18 [00:00<00:00, 603.57it/s]\n",
      "Cleaning windfarm: 100%|██████████| 16/16 [00:03<00:00,  4.73it/s]\n",
      "Cleaning rain: 100%|██████████| 16/16 [00:00<00:00, 94254.02it/s]\n"
     ]
    },
    {
     "name": "stdout",
     "output_type": "stream",
     "text": [
      "Stationday 398 KMLB19940323\n"
     ]
    },
    {
     "name": "stderr",
     "output_type": "stream",
     "text": [
      "Tracking: 100%|██████████| 20/20 [00:00<00:00, 654.79it/s]\n",
      "Cleaning windfarm: 100%|██████████| 13/13 [00:02<00:00,  4.94it/s]\n",
      "Cleaning rain: 100%|██████████| 13/13 [00:00<00:00, 83500.69it/s]\n"
     ]
    },
    {
     "name": "stdout",
     "output_type": "stream",
     "text": [
      "Stationday 399 KMLB19940330\n"
     ]
    },
    {
     "name": "stderr",
     "output_type": "stream",
     "text": [
      "Tracking: 100%|██████████| 18/18 [00:00<00:00, 922.43it/s]\n",
      "Cleaning windfarm: 100%|██████████| 10/10 [00:00<00:00, 15.57it/s]\n",
      "Cleaning rain: 100%|██████████| 10/10 [00:00<00:00, 27182.79it/s]\n"
     ]
    },
    {
     "name": "stdout",
     "output_type": "stream",
     "text": [
      "Stationday 400 KMLB19940405\n"
     ]
    },
    {
     "name": "stderr",
     "output_type": "stream",
     "text": [
      "Tracking: 100%|██████████| 18/18 [00:00<00:00, 4209.27it/s]\n",
      "Cleaning windfarm: 100%|██████████| 4/4 [00:00<00:00,  5.86it/s]\n",
      "Cleaning rain: 100%|██████████| 4/4 [00:00<00:00, 54648.91it/s]\n"
     ]
    },
    {
     "name": "stdout",
     "output_type": "stream",
     "text": [
      "Stationday 401 KMLB19940420\n"
     ]
    },
    {
     "name": "stderr",
     "output_type": "stream",
     "text": [
      "Tracking: 100%|██████████| 14/14 [00:00<00:00, 2204.88it/s]\n",
      "Cleaning windfarm: 100%|██████████| 5/5 [00:01<00:00,  4.05it/s]\n",
      "Cleaning rain: 100%|██████████| 5/5 [00:00<00:00, 61862.89it/s]\n"
     ]
    },
    {
     "name": "stdout",
     "output_type": "stream",
     "text": [
      "Stationday 402 KMLB19940422\n"
     ]
    },
    {
     "name": "stderr",
     "output_type": "stream",
     "text": [
      "Tracking: 100%|██████████| 17/17 [00:00<00:00, 1046.42it/s]\n",
      "Cleaning windfarm: 100%|██████████| 5/5 [00:01<00:00,  4.13it/s]\n",
      "Cleaning rain: 100%|██████████| 5/5 [00:00<00:00, 53498.78it/s]\n"
     ]
    },
    {
     "name": "stdout",
     "output_type": "stream",
     "text": [
      "Stationday 403 KMLB19940423\n"
     ]
    },
    {
     "name": "stderr",
     "output_type": "stream",
     "text": [
      "Tracking: 100%|██████████| 18/18 [00:00<00:00, 1011.41it/s]\n",
      "Cleaning windfarm: 100%|██████████| 8/8 [00:00<00:00, 12.32it/s]\n",
      "Cleaning rain: 100%|██████████| 8/8 [00:00<00:00, 77492.91it/s]\n"
     ]
    },
    {
     "name": "stdout",
     "output_type": "stream",
     "text": [
      "Stationday 404 KMLB19941010\n"
     ]
    },
    {
     "name": "stderr",
     "output_type": "stream",
     "text": [
      "Tracking: 100%|██████████| 17/17 [00:00<00:00, 969.46it/s]\n",
      "Cleaning windfarm: 100%|██████████| 6/6 [00:00<00:00,  9.57it/s]\n",
      "Cleaning rain: 100%|██████████| 6/6 [00:00<00:00, 64035.18it/s]\n"
     ]
    },
    {
     "name": "stdout",
     "output_type": "stream",
     "text": [
      "Stationday 405 KMLB19941101\n"
     ]
    },
    {
     "name": "stderr",
     "output_type": "stream",
     "text": [
      "Tracking: 100%|██████████| 19/19 [00:00<00:00, 986.20it/s]\n",
      "Cleaning windfarm: 100%|██████████| 9/9 [00:01<00:00,  4.94it/s]\n",
      "Cleaning rain: 100%|██████████| 9/9 [00:00<00:00, 79976.14it/s]\n"
     ]
    },
    {
     "name": "stdout",
     "output_type": "stream",
     "text": [
      "Stationday 406 KMLB19941105\n"
     ]
    },
    {
     "name": "stderr",
     "output_type": "stream",
     "text": [
      "Tracking: 100%|██████████| 16/16 [00:00<00:00, 1038.92it/s]\n",
      "Cleaning windfarm: 100%|██████████| 11/11 [00:01<00:00,  8.97it/s]\n",
      "Cleaning rain: 100%|██████████| 11/11 [00:00<00:00, 60074.67it/s]\n"
     ]
    },
    {
     "name": "stdout",
     "output_type": "stream",
     "text": [
      "Stationday 407 KMLB19941107\n"
     ]
    },
    {
     "name": "stderr",
     "output_type": "stream",
     "text": [
      "Tracking: 100%|██████████| 19/19 [00:00<00:00, 454.26it/s]\n",
      "Cleaning windfarm: 100%|██████████| 26/26 [00:03<00:00,  6.97it/s]\n",
      "Cleaning rain: 100%|██████████| 26/26 [00:00<00:00, 122530.23it/s]\n"
     ]
    },
    {
     "name": "stdout",
     "output_type": "stream",
     "text": [
      "Stationday 408 KMLB19941117\n"
     ]
    },
    {
     "name": "stderr",
     "output_type": "stream",
     "text": [
      "Tracking: 100%|██████████| 20/20 [00:00<00:00, 633.57it/s]\n",
      "Cleaning windfarm: 100%|██████████| 13/13 [00:00<00:00, 20.23it/s]\n",
      "Cleaning rain: 100%|██████████| 13/13 [00:00<00:00, 31980.03it/s]\n"
     ]
    },
    {
     "name": "stdout",
     "output_type": "stream",
     "text": [
      "Stationday 409 KMLB19941127\n"
     ]
    },
    {
     "name": "stderr",
     "output_type": "stream",
     "text": [
      "Tracking: 100%|██████████| 16/16 [00:00<00:00, 294.96it/s]\n",
      "Cleaning windfarm: 100%|██████████| 18/18 [00:04<00:00,  3.62it/s]\n",
      "Cleaning rain: 100%|██████████| 18/18 [00:00<00:00, 96544.08it/s]\n"
     ]
    },
    {
     "name": "stdout",
     "output_type": "stream",
     "text": [
      "Stationday 410 KMLB19941128\n"
     ]
    },
    {
     "name": "stderr",
     "output_type": "stream",
     "text": [
      "Tracking: 100%|██████████| 17/17 [00:00<00:00, 1680.05it/s]\n",
      "Cleaning windfarm: 100%|██████████| 4/4 [00:01<00:00,  2.12it/s]\n",
      "Cleaning rain: 100%|██████████| 4/4 [00:00<00:00, 27548.79it/s]\n"
     ]
    },
    {
     "name": "stdout",
     "output_type": "stream",
     "text": [
      "Stationday 411 KMLB19941129\n"
     ]
    },
    {
     "name": "stderr",
     "output_type": "stream",
     "text": [
      "Tracking: 100%|██████████| 18/18 [00:00<00:00, 927.67it/s]\n",
      "Cleaning windfarm: 100%|██████████| 9/9 [00:02<00:00,  3.67it/s]\n",
      "Cleaning rain: 100%|██████████| 9/9 [00:00<00:00, 78479.70it/s]\n"
     ]
    },
    {
     "name": "stdout",
     "output_type": "stream",
     "text": [
      "Stationday 412 KMLB19941203\n"
     ]
    },
    {
     "name": "stderr",
     "output_type": "stream",
     "text": [
      "Tracking: 100%|██████████| 17/17 [00:00<00:00, 872.43it/s]\n",
      "Cleaning windfarm: 100%|██████████| 10/10 [00:01<00:00,  5.11it/s]\n",
      "Cleaning rain: 100%|██████████| 10/10 [00:00<00:00, 36220.24it/s]\n"
     ]
    },
    {
     "name": "stdout",
     "output_type": "stream",
     "text": [
      "Stationday 413 KMLB19941205\n"
     ]
    },
    {
     "name": "stderr",
     "output_type": "stream",
     "text": [
      "Tracking: 100%|██████████| 17/17 [00:00<00:00, 532.18it/s]\n",
      "Cleaning windfarm: 100%|██████████| 9/9 [00:01<00:00,  4.66it/s]\n",
      "Cleaning rain: 100%|██████████| 9/9 [00:00<00:00, 55350.05it/s]\n"
     ]
    },
    {
     "name": "stdout",
     "output_type": "stream",
     "text": [
      "Stationday 414 KMLB19941206\n"
     ]
    },
    {
     "name": "stderr",
     "output_type": "stream",
     "text": [
      "Tracking: 100%|██████████| 16/16 [00:00<00:00, 659.12it/s]\n",
      "Cleaning windfarm: 100%|██████████| 11/11 [00:02<00:00,  4.33it/s]\n",
      "Cleaning rain: 100%|██████████| 11/11 [00:00<00:00, 85916.84it/s]\n"
     ]
    },
    {
     "name": "stdout",
     "output_type": "stream",
     "text": [
      "Stationday 415 KMLB19941222\n"
     ]
    },
    {
     "name": "stderr",
     "output_type": "stream",
     "text": [
      "Tracking: 100%|██████████| 15/15 [00:00<00:00, 3932.65it/s]\n",
      "Cleaning windfarm: 100%|██████████| 3/3 [00:00<00:00,  4.34it/s]\n",
      "Cleaning rain: 100%|██████████| 3/3 [00:00<00:00, 38245.93it/s]\n"
     ]
    },
    {
     "name": "stdout",
     "output_type": "stream",
     "text": [
      "Stationday 416 KMLB19950107\n"
     ]
    },
    {
     "name": "stderr",
     "output_type": "stream",
     "text": [
      "Tracking: 100%|██████████| 21/21 [00:00<00:00, 869.78it/s]\n",
      "Cleaning windfarm: 100%|██████████| 14/14 [00:02<00:00,  5.39it/s]\n",
      "Cleaning rain: 100%|██████████| 14/14 [00:00<00:00, 80438.71it/s]\n"
     ]
    },
    {
     "name": "stdout",
     "output_type": "stream",
     "text": [
      "Stationday 417 KMLB19950108\n"
     ]
    },
    {
     "name": "stderr",
     "output_type": "stream",
     "text": [
      "Tracking: 100%|██████████| 17/17 [00:00<00:00, 1500.49it/s]\n",
      "Cleaning windfarm: 100%|██████████| 7/7 [00:00<00:00, 11.12it/s]\n",
      "Cleaning rain: 100%|██████████| 7/7 [00:00<00:00, 40834.67it/s]\n"
     ]
    },
    {
     "name": "stdout",
     "output_type": "stream",
     "text": [
      "Stationday 418 KMLB19950131\n"
     ]
    },
    {
     "name": "stderr",
     "output_type": "stream",
     "text": [
      "Tracking: 100%|██████████| 7/7 [00:00<00:00, 654.97it/s]\n",
      "Cleaning windfarm: 100%|██████████| 11/11 [00:02<00:00,  3.75it/s]\n",
      "Cleaning rain: 100%|██████████| 11/11 [00:00<00:00, 108303.62it/s]\n"
     ]
    },
    {
     "name": "stdout",
     "output_type": "stream",
     "text": [
      "Stationday 419 KMLB19950228\n"
     ]
    },
    {
     "name": "stderr",
     "output_type": "stream",
     "text": [
      "Tracking: 100%|██████████| 18/18 [00:00<00:00, 563.23it/s]\n",
      "Cleaning windfarm: 100%|██████████| 21/21 [00:05<00:00,  3.63it/s]\n",
      "Cleaning rain: 100%|██████████| 21/21 [00:00<00:00, 94405.56it/s]\n"
     ]
    },
    {
     "name": "stdout",
     "output_type": "stream",
     "text": [
      "Stationday 420 KMLB19950305\n"
     ]
    },
    {
     "name": "stderr",
     "output_type": "stream",
     "text": [
      "Tracking: 100%|██████████| 18/18 [00:00<00:00, 368.69it/s]\n",
      "Cleaning windfarm: 100%|██████████| 24/24 [00:05<00:00,  4.65it/s]\n",
      "Cleaning rain: 100%|██████████| 24/24 [00:00<00:00, 103883.69it/s]\n"
     ]
    },
    {
     "name": "stdout",
     "output_type": "stream",
     "text": [
      "Stationday 421 KMLB19950306\n"
     ]
    },
    {
     "name": "stderr",
     "output_type": "stream",
     "text": [
      "Tracking: 100%|██████████| 17/17 [00:00<00:00, 286.34it/s]\n",
      "Cleaning windfarm: 100%|██████████| 40/40 [00:05<00:00,  7.61it/s]\n",
      "Cleaning rain: 100%|██████████| 40/40 [00:00<00:00, 125955.08it/s]\n"
     ]
    },
    {
     "name": "stdout",
     "output_type": "stream",
     "text": [
      "Stationday 422 KMLB19950308\n"
     ]
    },
    {
     "name": "stderr",
     "output_type": "stream",
     "text": [
      "Tracking: 100%|██████████| 23/23 [00:00<00:00, 1484.00it/s]\n",
      "Cleaning windfarm: 100%|██████████| 10/10 [00:01<00:00,  8.07it/s]\n",
      "Cleaning rain: 100%|██████████| 10/10 [00:00<00:00, 73326.99it/s]\n"
     ]
    },
    {
     "name": "stdout",
     "output_type": "stream",
     "text": [
      "Stationday 423 KMLB19950310\n"
     ]
    },
    {
     "name": "stderr",
     "output_type": "stream",
     "text": [
      "Tracking: 100%|██████████| 19/19 [00:00<00:00, 1765.47it/s]\n",
      "Cleaning windfarm: 100%|██████████| 7/7 [00:01<00:00,  5.35it/s]\n",
      "Cleaning rain: 100%|██████████| 7/7 [00:00<00:00, 63826.37it/s]\n"
     ]
    },
    {
     "name": "stdout",
     "output_type": "stream",
     "text": [
      "Stationday 424 KMLB19950312\n"
     ]
    },
    {
     "name": "stderr",
     "output_type": "stream",
     "text": [
      "Tracking: 100%|██████████| 20/20 [00:00<00:00, 881.78it/s]\n",
      "Cleaning windfarm: 100%|██████████| 17/17 [00:02<00:00,  6.31it/s]\n",
      "Cleaning rain: 100%|██████████| 17/17 [00:00<00:00, 93451.07it/s]\n"
     ]
    },
    {
     "name": "stdout",
     "output_type": "stream",
     "text": [
      "Stationday 425 KMLB19950318\n"
     ]
    },
    {
     "name": "stderr",
     "output_type": "stream",
     "text": [
      "Tracking: 100%|██████████| 17/17 [00:00<00:00, 490.45it/s]\n",
      "Cleaning windfarm: 100%|██████████| 23/23 [00:05<00:00,  4.33it/s]\n",
      "Cleaning rain: 100%|██████████| 23/23 [00:00<00:00, 74321.26it/s]\n"
     ]
    },
    {
     "name": "stdout",
     "output_type": "stream",
     "text": [
      "Stationday 426 KMLB19950322\n"
     ]
    },
    {
     "name": "stderr",
     "output_type": "stream",
     "text": [
      "Tracking: 100%|██████████| 12/12 [00:00<00:00, 544.41it/s]\n",
      "Cleaning windfarm: 100%|██████████| 13/13 [00:02<00:00,  4.87it/s]\n",
      "Cleaning rain: 100%|██████████| 13/13 [00:00<00:00, 110376.42it/s]\n"
     ]
    },
    {
     "name": "stdout",
     "output_type": "stream",
     "text": [
      "Stationday 427 KMLB19950331\n"
     ]
    },
    {
     "name": "stderr",
     "output_type": "stream",
     "text": [
      "Tracking: 100%|██████████| 19/19 [00:00<00:00, 430.25it/s]\n",
      "Cleaning windfarm: 100%|██████████| 21/21 [00:04<00:00,  4.55it/s]\n",
      "Cleaning rain: 100%|██████████| 21/21 [00:00<00:00, 93009.91it/s]\n"
     ]
    },
    {
     "name": "stdout",
     "output_type": "stream",
     "text": [
      "Stationday 428 KMLB19950406\n"
     ]
    },
    {
     "name": "stderr",
     "output_type": "stream",
     "text": [
      "Tracking: 100%|██████████| 21/21 [00:00<00:00, 976.63it/s]\n",
      "Cleaning windfarm: 100%|██████████| 13/13 [00:02<00:00,  5.24it/s]\n",
      "Cleaning rain: 100%|██████████| 13/13 [00:00<00:00, 85330.13it/s]\n"
     ]
    },
    {
     "name": "stdout",
     "output_type": "stream",
     "text": [
      "Stationday 429 KMLB19950407\n"
     ]
    },
    {
     "name": "stderr",
     "output_type": "stream",
     "text": [
      "Tracking: 100%|██████████| 19/19 [00:00<00:00, 1154.79it/s]\n",
      "Cleaning windfarm: 100%|██████████| 9/9 [00:02<00:00,  3.08it/s]\n",
      "Cleaning rain: 100%|██████████| 9/9 [00:00<00:00, 59167.30it/s]\n"
     ]
    },
    {
     "name": "stdout",
     "output_type": "stream",
     "text": [
      "Stationday 430 KMLB19950412\n"
     ]
    },
    {
     "name": "stderr",
     "output_type": "stream",
     "text": [
      "Tracking: 100%|██████████| 17/17 [00:00<00:00, 419.49it/s]\n",
      "Cleaning windfarm: 100%|██████████| 18/18 [00:02<00:00,  6.85it/s]\n",
      "Cleaning rain: 100%|██████████| 18/18 [00:00<00:00, 106035.78it/s]\n"
     ]
    },
    {
     "name": "stdout",
     "output_type": "stream",
     "text": [
      "Stationday 431 KMLB19950424\n"
     ]
    },
    {
     "name": "stderr",
     "output_type": "stream",
     "text": [
      "Tracking: 100%|██████████| 19/19 [00:00<00:00, 3750.02it/s]\n",
      "Cleaning windfarm: 100%|██████████| 5/5 [00:00<00:00,  8.00it/s]\n",
      "Cleaning rain: 100%|██████████| 5/5 [00:00<00:00, 56527.01it/s]\n"
     ]
    },
    {
     "name": "stdout",
     "output_type": "stream",
     "text": [
      "Stationday 432 KMLB19951012\n"
     ]
    },
    {
     "name": "stderr",
     "output_type": "stream",
     "text": [
      "Tracking: 100%|██████████| 17/17 [00:00<00:00, 1147.74it/s]\n",
      "Cleaning windfarm: 100%|██████████| 5/5 [00:00<00:00,  7.92it/s]\n",
      "Cleaning rain: 100%|██████████| 5/5 [00:00<00:00, 28688.81it/s]\n"
     ]
    },
    {
     "name": "stdout",
     "output_type": "stream",
     "text": [
      "Stationday 433 KMLB19951021\n"
     ]
    },
    {
     "name": "stderr",
     "output_type": "stream",
     "text": [
      "Tracking: 100%|██████████| 14/14 [00:00<00:00, 1487.49it/s]\n",
      "Cleaning windfarm: 100%|██████████| 5/5 [00:00<00:00, 28728.11it/s]\n",
      "Cleaning rain: 100%|██████████| 5/5 [00:00<00:00, 45689.59it/s]\n"
     ]
    },
    {
     "name": "stdout",
     "output_type": "stream",
     "text": [
      "Stationday 434 KMLB19951025\n"
     ]
    },
    {
     "name": "stderr",
     "output_type": "stream",
     "text": [
      "Tracking: 100%|██████████| 16/16 [00:00<00:00, 1916.68it/s]\n",
      "Cleaning windfarm: 100%|██████████| 3/3 [00:01<00:00,  2.16it/s]\n",
      "Cleaning rain: 100%|██████████| 3/3 [00:00<00:00, 34473.73it/s]\n"
     ]
    },
    {
     "name": "stdout",
     "output_type": "stream",
     "text": [
      "Stationday 435 KMLB19951027\n"
     ]
    },
    {
     "name": "stderr",
     "output_type": "stream",
     "text": [
      "Tracking: 100%|██████████| 14/14 [00:00<00:00, 1655.82it/s]\n",
      "Cleaning windfarm: 100%|██████████| 7/7 [00:00<00:00, 11.25it/s]\n",
      "Cleaning rain: 100%|██████████| 7/7 [00:00<00:00, 27337.18it/s]\n"
     ]
    },
    {
     "name": "stdout",
     "output_type": "stream",
     "text": [
      "Stationday 436 KMLB19951028\n"
     ]
    },
    {
     "name": "stderr",
     "output_type": "stream",
     "text": [
      "Tracking: 100%|██████████| 17/17 [00:00<00:00, 714.58it/s]\n",
      "Cleaning windfarm: 100%|██████████| 7/7 [00:01<00:00,  4.56it/s]\n",
      "Cleaning rain: 100%|██████████| 7/7 [00:00<00:00, 64245.36it/s]\n"
     ]
    },
    {
     "name": "stdout",
     "output_type": "stream",
     "text": [
      "Stationday 437 KMLB19951101\n"
     ]
    },
    {
     "name": "stderr",
     "output_type": "stream",
     "text": [
      "Tracking: 100%|██████████| 19/19 [00:00<00:00, 704.75it/s]\n",
      "Cleaning windfarm: 100%|██████████| 15/15 [00:02<00:00,  6.22it/s]\n",
      "Cleaning rain: 100%|██████████| 15/15 [00:00<00:00, 100182.42it/s]\n"
     ]
    },
    {
     "name": "stdout",
     "output_type": "stream",
     "text": [
      "Stationday 438 KMLB19951106\n"
     ]
    },
    {
     "name": "stderr",
     "output_type": "stream",
     "text": [
      "Tracking: 100%|██████████| 17/17 [00:00<00:00, 504.25it/s]\n",
      "Cleaning windfarm: 100%|██████████| 21/21 [00:02<00:00, 10.38it/s]\n",
      "Cleaning rain: 100%|██████████| 21/21 [00:00<00:00, 83806.26it/s]\n"
     ]
    },
    {
     "name": "stdout",
     "output_type": "stream",
     "text": [
      "Stationday 439 KMLB19951111\n"
     ]
    },
    {
     "name": "stderr",
     "output_type": "stream",
     "text": [
      "Tracking: 100%|██████████| 21/21 [00:00<00:00, 741.00it/s]\n",
      "Cleaning windfarm: 100%|██████████| 9/9 [00:01<00:00,  4.81it/s]\n",
      "Cleaning rain: 100%|██████████| 9/9 [00:00<00:00, 70426.75it/s]\n"
     ]
    },
    {
     "name": "stdout",
     "output_type": "stream",
     "text": [
      "Stationday 440 KMLB19951112\n"
     ]
    },
    {
     "name": "stderr",
     "output_type": "stream",
     "text": [
      "Tracking: 100%|██████████| 18/18 [00:00<00:00, 3596.15it/s]\n",
      "Cleaning windfarm: 100%|██████████| 4/4 [00:00<00:00, 28926.23it/s]\n",
      "Cleaning rain: 100%|██████████| 4/4 [00:00<00:00, 43919.41it/s]\n"
     ]
    },
    {
     "name": "stdout",
     "output_type": "stream",
     "text": [
      "Stationday 441 KMLB19951118\n"
     ]
    },
    {
     "name": "stderr",
     "output_type": "stream",
     "text": [
      "Tracking: 100%|██████████| 9/9 [00:00<00:00, 614.36it/s]\n",
      "Cleaning windfarm: 100%|██████████| 11/11 [00:01<00:00,  5.89it/s]\n",
      "Cleaning rain: 100%|██████████| 11/11 [00:00<00:00, 102073.77it/s]\n"
     ]
    },
    {
     "name": "stdout",
     "output_type": "stream",
     "text": [
      "Stationday 442 KMLB19951121\n"
     ]
    },
    {
     "name": "stderr",
     "output_type": "stream",
     "text": [
      "Tracking: 100%|██████████| 20/20 [00:00<00:00, 1068.29it/s]\n",
      "Cleaning windfarm: 100%|██████████| 12/12 [00:01<00:00,  9.11it/s]\n",
      "Cleaning rain: 100%|██████████| 12/12 [00:00<00:00, 75800.67it/s]\n"
     ]
    },
    {
     "name": "stdout",
     "output_type": "stream",
     "text": [
      "Stationday 443 KMLB19951127\n"
     ]
    },
    {
     "name": "stderr",
     "output_type": "stream",
     "text": [
      "Tracking: 100%|██████████| 16/16 [00:00<00:00, 861.61it/s]\n",
      "Cleaning windfarm: 100%|██████████| 14/14 [00:04<00:00,  3.45it/s]\n",
      "Cleaning rain: 100%|██████████| 14/14 [00:00<00:00, 92182.51it/s]\n"
     ]
    },
    {
     "name": "stdout",
     "output_type": "stream",
     "text": [
      "Stationday 444 KMLB19951201\n"
     ]
    },
    {
     "name": "stderr",
     "output_type": "stream",
     "text": [
      "Tracking: 100%|██████████| 10/10 [00:00<00:00, 537.91it/s]\n",
      "Cleaning windfarm: 100%|██████████| 12/12 [00:03<00:00,  3.85it/s]\n",
      "Cleaning rain: 100%|██████████| 12/12 [00:00<00:00, 110619.01it/s]\n"
     ]
    },
    {
     "name": "stdout",
     "output_type": "stream",
     "text": [
      "Stationday 445 KMLB19951204\n"
     ]
    },
    {
     "name": "stderr",
     "output_type": "stream",
     "text": [
      "Tracking: 100%|██████████| 17/17 [00:00<00:00, 531.66it/s]\n",
      "Cleaning windfarm: 100%|██████████| 14/14 [00:03<00:00,  4.23it/s]\n",
      "Cleaning rain: 100%|██████████| 14/14 [00:00<00:00, 101067.57it/s]\n"
     ]
    },
    {
     "name": "stdout",
     "output_type": "stream",
     "text": [
      "Stationday 446 KMLB19951205\n"
     ]
    },
    {
     "name": "stderr",
     "output_type": "stream",
     "text": [
      "Tracking: 100%|██████████| 17/17 [00:00<00:00, 445.01it/s]\n",
      "Cleaning windfarm: 100%|██████████| 19/19 [00:03<00:00,  5.10it/s]\n",
      "Cleaning rain: 100%|██████████| 19/19 [00:00<00:00, 106114.22it/s]\n"
     ]
    },
    {
     "name": "stdout",
     "output_type": "stream",
     "text": [
      "Stationday 447 KMLB19951215\n"
     ]
    },
    {
     "name": "stderr",
     "output_type": "stream",
     "text": [
      "Tracking: 100%|██████████| 16/16 [00:00<00:00, 461.82it/s]\n",
      "Cleaning windfarm: 100%|██████████| 21/21 [00:03<00:00,  5.42it/s]\n",
      "Cleaning rain: 100%|██████████| 21/21 [00:00<00:00, 112204.31it/s]\n"
     ]
    },
    {
     "name": "stdout",
     "output_type": "stream",
     "text": [
      "Stationday 448 KMLB19951219\n"
     ]
    },
    {
     "name": "stderr",
     "output_type": "stream",
     "text": [
      "Tracking: 100%|██████████| 9/9 [00:00<00:00, 1023.28it/s]\n",
      "Cleaning windfarm: 100%|██████████| 11/11 [00:02<00:00,  4.18it/s]\n",
      "Cleaning rain: 100%|██████████| 11/11 [00:00<00:00, 102527.43it/s]\n"
     ]
    },
    {
     "name": "stdout",
     "output_type": "stream",
     "text": [
      "Stationday 449 KMLB19951223\n"
     ]
    },
    {
     "name": "stderr",
     "output_type": "stream",
     "text": [
      "Tracking: 100%|██████████| 17/17 [00:00<00:00, 1469.05it/s]\n",
      "Cleaning windfarm: 100%|██████████| 13/13 [00:00<00:00, 19.15it/s]\n",
      "Cleaning rain: 100%|██████████| 13/13 [00:00<00:00, 93047.70it/s]\n"
     ]
    },
    {
     "name": "stdout",
     "output_type": "stream",
     "text": [
      "Stationday 450 KMLB19951226\n"
     ]
    },
    {
     "name": "stderr",
     "output_type": "stream",
     "text": [
      "Tracking: 100%|██████████| 9/9 [00:00<00:00, 1172.90it/s]\n",
      "Cleaning windfarm: 100%|██████████| 7/7 [00:01<00:00,  5.38it/s]\n",
      "Cleaning rain: 100%|██████████| 7/7 [00:00<00:00, 73217.28it/s]\n"
     ]
    },
    {
     "name": "stdout",
     "output_type": "stream",
     "text": [
      "Stationday 451 KMLB19951228\n"
     ]
    },
    {
     "name": "stderr",
     "output_type": "stream",
     "text": [
      "Tracking: 100%|██████████| 15/15 [00:00<00:00, 819.04it/s]\n",
      "Cleaning windfarm: 100%|██████████| 21/21 [00:02<00:00,  7.95it/s]\n",
      "Cleaning rain: 100%|██████████| 21/21 [00:00<00:00, 117440.51it/s]\n"
     ]
    },
    {
     "name": "stdout",
     "output_type": "stream",
     "text": [
      "Stationday 452 KMLB19951230\n"
     ]
    },
    {
     "name": "stderr",
     "output_type": "stream",
     "text": [
      "Tracking: 100%|██████████| 17/17 [00:00<00:00, 571.09it/s]\n",
      "Cleaning windfarm: 100%|██████████| 12/12 [00:03<00:00,  3.03it/s]\n",
      "Cleaning rain: 100%|██████████| 12/12 [00:00<00:00, 31359.28it/s]\n"
     ]
    },
    {
     "name": "stdout",
     "output_type": "stream",
     "text": [
      "Stationday 453 KMLB19960104\n"
     ]
    },
    {
     "name": "stderr",
     "output_type": "stream",
     "text": [
      "Tracking: 100%|██████████| 14/14 [00:00<00:00, 461.27it/s]\n",
      "Cleaning windfarm: 100%|██████████| 11/11 [00:00<00:00, 15.81it/s]\n",
      "Cleaning rain: 100%|██████████| 11/11 [00:00<00:00, 39000.29it/s]\n"
     ]
    },
    {
     "name": "stdout",
     "output_type": "stream",
     "text": [
      "Stationday 454 KMLB19960106\n"
     ]
    },
    {
     "name": "stderr",
     "output_type": "stream",
     "text": [
      "Tracking: 100%|██████████| 11/11 [00:00<00:00, 430.33it/s]\n",
      "Cleaning windfarm: 100%|██████████| 10/10 [00:02<00:00,  3.60it/s]\n",
      "Cleaning rain: 100%|██████████| 10/10 [00:00<00:00, 38586.05it/s]\n"
     ]
    },
    {
     "name": "stdout",
     "output_type": "stream",
     "text": [
      "Stationday 455 KMLB19960114\n"
     ]
    },
    {
     "name": "stderr",
     "output_type": "stream",
     "text": [
      "Tracking: 100%|██████████| 8/8 [00:00<00:00, 354.53it/s]\n",
      "Cleaning windfarm: 100%|██████████| 14/14 [00:03<00:00,  3.68it/s]\n",
      "Cleaning rain: 100%|██████████| 14/14 [00:00<00:00, 115819.05it/s]\n"
     ]
    },
    {
     "name": "stdout",
     "output_type": "stream",
     "text": [
      "Stationday 456 KMLB19960117\n"
     ]
    },
    {
     "name": "stderr",
     "output_type": "stream",
     "text": [
      "Tracking: 100%|██████████| 14/14 [00:00<00:00, 949.90it/s]\n",
      "Cleaning windfarm: 100%|██████████| 14/14 [00:03<00:00,  4.34it/s]\n",
      "Cleaning rain: 100%|██████████| 14/14 [00:00<00:00, 92911.80it/s]\n"
     ]
    },
    {
     "name": "stdout",
     "output_type": "stream",
     "text": [
      "Stationday 457 KMLB19960118\n"
     ]
    },
    {
     "name": "stderr",
     "output_type": "stream",
     "text": [
      "Tracking: 100%|██████████| 16/16 [00:00<00:00, 622.99it/s]\n",
      "Cleaning windfarm: 100%|██████████| 14/14 [00:03<00:00,  4.53it/s]\n",
      "Cleaning rain: 100%|██████████| 14/14 [00:00<00:00, 101768.21it/s]\n"
     ]
    },
    {
     "name": "stdout",
     "output_type": "stream",
     "text": [
      "Stationday 458 KMLB19960213\n"
     ]
    },
    {
     "name": "stderr",
     "output_type": "stream",
     "text": [
      "Tracking: 100%|██████████| 9/9 [00:00<00:00, 678.96it/s]\n",
      "Cleaning windfarm: 100%|██████████| 7/7 [00:01<00:00,  5.38it/s]\n",
      "Cleaning rain: 100%|██████████| 7/7 [00:00<00:00, 73400.32it/s]\n"
     ]
    },
    {
     "name": "stdout",
     "output_type": "stream",
     "text": [
      "Stationday 459 KMLB19960218\n"
     ]
    },
    {
     "name": "stderr",
     "output_type": "stream",
     "text": [
      "Tracking: 100%|██████████| 8/8 [00:00<00:00, 697.84it/s]\n",
      "Cleaning windfarm: 100%|██████████| 12/12 [00:01<00:00,  6.35it/s]\n",
      "Cleaning rain: 100%|██████████| 12/12 [00:00<00:00, 109416.63it/s]\n"
     ]
    },
    {
     "name": "stdout",
     "output_type": "stream",
     "text": [
      "Stationday 460 KMLB19960323\n"
     ]
    },
    {
     "name": "stderr",
     "output_type": "stream",
     "text": [
      "Tracking: 100%|██████████| 10/10 [00:00<00:00, 654.64it/s]\n",
      "Cleaning windfarm: 100%|██████████| 16/16 [00:02<00:00,  7.76it/s]\n",
      "Cleaning rain: 100%|██████████| 16/16 [00:00<00:00, 103883.69it/s]\n"
     ]
    },
    {
     "name": "stdout",
     "output_type": "stream",
     "text": [
      "Stationday 461 KMLB19960328\n"
     ]
    },
    {
     "name": "stderr",
     "output_type": "stream",
     "text": [
      "Tracking: 100%|██████████| 17/17 [00:00<00:00, 865.99it/s]\n",
      "Cleaning windfarm: 100%|██████████| 12/12 [00:01<00:00,  6.70it/s]\n",
      "Cleaning rain: 100%|██████████| 12/12 [00:00<00:00, 88768.34it/s]\n"
     ]
    },
    {
     "name": "stdout",
     "output_type": "stream",
     "text": [
      "Stationday 462 KMLB19960412\n"
     ]
    },
    {
     "name": "stderr",
     "output_type": "stream",
     "text": [
      "Tracking: 100%|██████████| 10/10 [00:00<00:00, 974.78it/s]\n",
      "Cleaning windfarm: 100%|██████████| 11/11 [00:01<00:00,  6.12it/s]\n",
      "Cleaning rain: 100%|██████████| 11/11 [00:00<00:00, 97748.61it/s]\n"
     ]
    },
    {
     "name": "stdout",
     "output_type": "stream",
     "text": [
      "Stationday 463 KMLB19960413\n"
     ]
    },
    {
     "name": "stderr",
     "output_type": "stream",
     "text": [
      "Tracking: 100%|██████████| 11/11 [00:00<00:00, 1059.05it/s]\n",
      "Cleaning windfarm: 100%|██████████| 11/11 [00:01<00:00,  5.80it/s]\n",
      "Cleaning rain: 100%|██████████| 11/11 [00:00<00:00, 61763.51it/s]\n"
     ]
    },
    {
     "name": "stdout",
     "output_type": "stream",
     "text": [
      "Stationday 464 KMLB19960418\n"
     ]
    },
    {
     "name": "stderr",
     "output_type": "stream",
     "text": [
      "Tracking: 100%|██████████| 10/10 [00:00<00:00, 1146.96it/s]\n",
      "Cleaning windfarm: 100%|██████████| 9/9 [00:01<00:00,  7.23it/s]\n",
      "Cleaning rain: 100%|██████████| 9/9 [00:00<00:00, 98048.66it/s]\n"
     ]
    },
    {
     "name": "stdout",
     "output_type": "stream",
     "text": [
      "Stationday 465 KMLB19960419\n"
     ]
    },
    {
     "name": "stderr",
     "output_type": "stream",
     "text": [
      "Tracking: 100%|██████████| 9/9 [00:00<00:00, 1182.79it/s]\n",
      "Cleaning windfarm: 100%|██████████| 10/10 [00:01<00:00,  5.35it/s]\n",
      "Cleaning rain: 100%|██████████| 10/10 [00:00<00:00, 59325.37it/s]\n"
     ]
    },
    {
     "name": "stdout",
     "output_type": "stream",
     "text": [
      "Stationday 466 KMLB19960426\n"
     ]
    },
    {
     "name": "stderr",
     "output_type": "stream",
     "text": [
      "Tracking: 100%|██████████| 10/10 [00:00<00:00, 769.43it/s]\n",
      "Cleaning windfarm: 100%|██████████| 13/13 [00:02<00:00,  5.17it/s]\n",
      "Cleaning rain: 100%|██████████| 13/13 [00:00<00:00, 115766.35it/s]\n"
     ]
    },
    {
     "name": "stdout",
     "output_type": "stream",
     "text": [
      "Stationday 467 KMLB19960428\n"
     ]
    },
    {
     "name": "stderr",
     "output_type": "stream",
     "text": [
      "Tracking: 100%|██████████| 17/17 [00:00<00:00, 1235.93it/s]\n",
      "Cleaning windfarm: 100%|██████████| 9/9 [00:01<00:00,  7.40it/s]\n",
      "Cleaning rain: 100%|██████████| 9/9 [00:00<00:00, 78479.70it/s]\n"
     ]
    },
    {
     "name": "stdout",
     "output_type": "stream",
     "text": [
      "Stationday 468 KMLB19961022\n"
     ]
    },
    {
     "name": "stderr",
     "output_type": "stream",
     "text": [
      "Tracking: 100%|██████████| 7/7 [00:00<00:00, 1028.16it/s]\n",
      "Cleaning windfarm: 100%|██████████| 6/6 [00:01<00:00,  3.29it/s]\n",
      "Cleaning rain: 100%|██████████| 6/6 [00:00<00:00, 77912.77it/s]\n"
     ]
    },
    {
     "name": "stdout",
     "output_type": "stream",
     "text": [
      "Stationday 469 KMLB19961104\n"
     ]
    },
    {
     "name": "stderr",
     "output_type": "stream",
     "text": [
      "Tracking: 100%|██████████| 12/12 [00:00<00:00, 1271.45it/s]\n",
      "Cleaning windfarm: 100%|██████████| 10/10 [00:00<00:00, 16.05it/s]\n",
      "Cleaning rain: 100%|██████████| 10/10 [00:00<00:00, 95108.93it/s]\n"
     ]
    },
    {
     "name": "stdout",
     "output_type": "stream",
     "text": [
      "Stationday 470 KMLB19961110\n"
     ]
    },
    {
     "name": "stderr",
     "output_type": "stream",
     "text": [
      "Tracking: 100%|██████████| 8/8 [00:00<00:00, 1241.10it/s]\n",
      "Cleaning windfarm: 100%|██████████| 6/6 [00:01<00:00,  4.75it/s]\n",
      "Cleaning rain: 100%|██████████| 6/6 [00:00<00:00, 31107.32it/s]\n"
     ]
    },
    {
     "name": "stdout",
     "output_type": "stream",
     "text": [
      "Stationday 471 KMLB19961117\n"
     ]
    },
    {
     "name": "stderr",
     "output_type": "stream",
     "text": [
      "Tracking: 100%|██████████| 19/19 [00:00<00:00, 858.37it/s]\n",
      "Cleaning windfarm: 100%|██████████| 13/13 [00:02<00:00,  6.39it/s]\n",
      "Cleaning rain: 100%|██████████| 13/13 [00:00<00:00, 96335.60it/s]\n"
     ]
    },
    {
     "name": "stdout",
     "output_type": "stream",
     "text": [
      "Stationday 472 KMLB19961119\n"
     ]
    },
    {
     "name": "stderr",
     "output_type": "stream",
     "text": [
      "Tracking: 100%|██████████| 15/15 [00:00<00:00, 773.40it/s]\n",
      "Cleaning windfarm: 100%|██████████| 13/13 [00:01<00:00,  6.66it/s]\n",
      "Cleaning rain: 100%|██████████| 13/13 [00:00<00:00, 93848.45it/s]\n"
     ]
    },
    {
     "name": "stdout",
     "output_type": "stream",
     "text": [
      "Stationday 473 KMLB19961201\n"
     ]
    },
    {
     "name": "stderr",
     "output_type": "stream",
     "text": [
      "Tracking: 100%|██████████| 17/17 [00:00<00:00, 525.10it/s]\n",
      "Cleaning windfarm: 100%|██████████| 13/13 [00:01<00:00,  6.65it/s]\n",
      "Cleaning rain: 100%|██████████| 13/13 [00:00<00:00, 91486.50it/s]\n"
     ]
    },
    {
     "name": "stdout",
     "output_type": "stream",
     "text": [
      "Stationday 474 KMLB19961203\n"
     ]
    },
    {
     "name": "stderr",
     "output_type": "stream",
     "text": [
      "Tracking: 100%|██████████| 19/19 [00:00<00:00, 527.36it/s]\n",
      "Cleaning windfarm: 100%|██████████| 11/11 [00:03<00:00,  3.17it/s]\n",
      "Cleaning rain: 100%|██████████| 11/11 [00:00<00:00, 43940.33it/s]\n"
     ]
    },
    {
     "name": "stdout",
     "output_type": "stream",
     "text": [
      "Stationday 475 KMLB19961207\n"
     ]
    },
    {
     "name": "stderr",
     "output_type": "stream",
     "text": [
      "Tracking: 100%|██████████| 14/14 [00:00<00:00, 582.61it/s]\n",
      "Cleaning windfarm: 100%|██████████| 12/12 [00:02<00:00,  4.62it/s]\n",
      "Cleaning rain: 100%|██████████| 12/12 [00:00<00:00, 89717.73it/s]\n"
     ]
    },
    {
     "name": "stdout",
     "output_type": "stream",
     "text": [
      "Stationday 476 KMLB19961216\n"
     ]
    },
    {
     "name": "stderr",
     "output_type": "stream",
     "text": [
      "Tracking: 100%|██████████| 9/9 [00:00<00:00, 293.29it/s]\n",
      "Cleaning windfarm: 100%|██████████| 12/12 [00:02<00:00,  4.40it/s]\n",
      "Cleaning rain: 100%|██████████| 12/12 [00:00<00:00, 108942.96it/s]\n"
     ]
    },
    {
     "name": "stdout",
     "output_type": "stream",
     "text": [
      "Stationday 477 KMLB19961218\n"
     ]
    },
    {
     "name": "stderr",
     "output_type": "stream",
     "text": [
      "Tracking: 100%|██████████| 18/18 [00:00<00:00, 356.95it/s]\n",
      "Cleaning windfarm: 100%|██████████| 36/36 [00:08<00:00,  4.48it/s]\n",
      "Cleaning rain: 100%|██████████| 36/36 [00:00<00:00, 116328.92it/s]\n"
     ]
    },
    {
     "name": "stdout",
     "output_type": "stream",
     "text": [
      "Stationday 478 KMLB19961223\n"
     ]
    },
    {
     "name": "stderr",
     "output_type": "stream",
     "text": [
      "Tracking: 100%|██████████| 9/9 [00:00<00:00, 1269.38it/s]\n",
      "Cleaning windfarm: 100%|██████████| 11/11 [00:00<00:00, 13.65it/s]\n",
      "Cleaning rain: 100%|██████████| 11/11 [00:00<00:00, 95128.54it/s]\n"
     ]
    },
    {
     "name": "stdout",
     "output_type": "stream",
     "text": [
      "Stationday 479 KMLB19961230\n"
     ]
    },
    {
     "name": "stderr",
     "output_type": "stream",
     "text": [
      "Tracking: 100%|██████████| 18/18 [00:00<00:00, 259.29it/s]\n",
      "Cleaning windfarm: 100%|██████████| 16/16 [00:04<00:00,  3.21it/s]\n",
      "Cleaning rain: 100%|██████████| 16/16 [00:00<00:00, 88534.12it/s]\n"
     ]
    },
    {
     "name": "stdout",
     "output_type": "stream",
     "text": [
      "Stationday 480 KMLB19970125\n"
     ]
    },
    {
     "name": "stderr",
     "output_type": "stream",
     "text": [
      "Tracking: 100%|██████████| 17/17 [00:00<00:00, 1994.44it/s]\n",
      "Cleaning windfarm: 100%|██████████| 3/3 [00:01<00:00,  2.26it/s]\n",
      "Cleaning rain: 100%|██████████| 3/3 [00:00<00:00, 35746.91it/s]\n"
     ]
    },
    {
     "name": "stdout",
     "output_type": "stream",
     "text": [
      "Stationday 481 KMLB19970210\n"
     ]
    },
    {
     "name": "stderr",
     "output_type": "stream",
     "text": [
      "Tracking: 100%|██████████| 17/17 [00:00<00:00, 562.06it/s]\n",
      "Cleaning windfarm: 100%|██████████| 10/10 [00:04<00:00,  2.42it/s]\n",
      "Cleaning rain: 100%|██████████| 10/10 [00:00<00:00, 87018.76it/s]\n"
     ]
    },
    {
     "name": "stdout",
     "output_type": "stream",
     "text": [
      "Stationday 482 KMLB19970313\n"
     ]
    },
    {
     "name": "stderr",
     "output_type": "stream",
     "text": [
      "Tracking: 100%|██████████| 14/14 [00:00<00:00, 693.95it/s]\n",
      "Cleaning windfarm: 100%|██████████| 12/12 [00:03<00:00,  3.72it/s]\n",
      "Cleaning rain: 100%|██████████| 12/12 [00:00<00:00, 90687.65it/s]\n"
     ]
    },
    {
     "name": "stdout",
     "output_type": "stream",
     "text": [
      "Stationday 483 KMLB19970316\n"
     ]
    },
    {
     "name": "stderr",
     "output_type": "stream",
     "text": [
      "Tracking: 100%|██████████| 10/10 [00:00<00:00, 1003.73it/s]\n",
      "Cleaning windfarm: 100%|██████████| 10/10 [00:02<00:00,  4.66it/s]\n",
      "Cleaning rain: 100%|██████████| 10/10 [00:00<00:00, 65741.44it/s]\n"
     ]
    },
    {
     "name": "stdout",
     "output_type": "stream",
     "text": [
      "Stationday 484 KMLB19970329\n"
     ]
    },
    {
     "name": "stderr",
     "output_type": "stream",
     "text": [
      "Tracking: 100%|██████████| 9/9 [00:00<00:00, 402.62it/s]\n",
      "Cleaning windfarm: 100%|██████████| 13/13 [00:04<00:00,  3.15it/s]\n",
      "Cleaning rain: 100%|██████████| 13/13 [00:00<00:00, 105262.46it/s]\n"
     ]
    },
    {
     "name": "stdout",
     "output_type": "stream",
     "text": [
      "Stationday 485 KMLB19970409\n"
     ]
    },
    {
     "name": "stderr",
     "output_type": "stream",
     "text": [
      "Tracking: 100%|██████████| 4/4 [00:00<00:00, 945.46it/s]\n",
      "Cleaning windfarm: 100%|██████████| 8/8 [00:00<00:00, 12.64it/s]\n",
      "Cleaning rain: 100%|██████████| 8/8 [00:00<00:00, 65154.24it/s]\n"
     ]
    },
    {
     "name": "stdout",
     "output_type": "stream",
     "text": [
      "Stationday 486 KMLB19970423\n"
     ]
    },
    {
     "name": "stderr",
     "output_type": "stream",
     "text": [
      "Tracking: 100%|██████████| 23/23 [00:00<00:00, 1361.92it/s]\n",
      "Cleaning windfarm: 100%|██████████| 7/7 [00:02<00:00,  3.46it/s]\n",
      "Cleaning rain: 100%|██████████| 7/7 [00:00<00:00, 63276.14it/s]\n"
     ]
    },
    {
     "name": "stdout",
     "output_type": "stream",
     "text": [
      "Stationday 487 KMLB19970427\n"
     ]
    },
    {
     "name": "stderr",
     "output_type": "stream",
     "text": [
      "Tracking: 100%|██████████| 23/23 [00:00<00:00, 2246.02it/s]\n",
      "Cleaning windfarm: 100%|██████████| 11/11 [00:01<00:00,  8.15it/s]\n",
      "Cleaning rain: 100%|██████████| 11/11 [00:00<00:00, 81949.10it/s]\n"
     ]
    },
    {
     "name": "stdout",
     "output_type": "stream",
     "text": [
      "Stationday 488 KMLB19970428\n"
     ]
    },
    {
     "name": "stderr",
     "output_type": "stream",
     "text": [
      "Tracking: 100%|██████████| 23/23 [00:00<00:00, 1523.30it/s]\n",
      "Cleaning windfarm: 100%|██████████| 5/5 [00:00<00:00,  6.51it/s]\n",
      "Cleaning rain: 100%|██████████| 5/5 [00:00<00:00, 51781.53it/s]\n"
     ]
    },
    {
     "name": "stdout",
     "output_type": "stream",
     "text": [
      "Stationday 489 KMLB19971009\n"
     ]
    },
    {
     "name": "stderr",
     "output_type": "stream",
     "text": [
      "Tracking: 100%|██████████| 19/19 [00:00<00:00, 1435.86it/s]\n",
      "Cleaning windfarm: 100%|██████████| 7/7 [00:00<00:00, 10.63it/s]\n",
      "Cleaning rain: 100%|██████████| 7/7 [00:00<00:00, 66879.56it/s]\n"
     ]
    },
    {
     "name": "stdout",
     "output_type": "stream",
     "text": [
      "Stationday 490 KMLB19971010\n"
     ]
    },
    {
     "name": "stderr",
     "output_type": "stream",
     "text": [
      "Tracking: 100%|██████████| 20/20 [00:00<00:00, 3876.08it/s]\n",
      "Cleaning windfarm: 100%|██████████| 4/4 [00:00<00:00,  5.66it/s]\n",
      "Cleaning rain: 100%|██████████| 4/4 [00:00<00:00, 46995.00it/s]\n"
     ]
    },
    {
     "name": "stdout",
     "output_type": "stream",
     "text": [
      "Stationday 491 KMLB19971023\n"
     ]
    },
    {
     "name": "stderr",
     "output_type": "stream",
     "text": [
      "Tracking: 100%|██████████| 22/22 [00:00<00:00, 517.57it/s]\n",
      "Cleaning windfarm: 100%|██████████| 14/14 [00:03<00:00,  3.99it/s]\n",
      "Cleaning rain: 100%|██████████| 14/14 [00:00<00:00, 81669.34it/s]\n"
     ]
    },
    {
     "name": "stdout",
     "output_type": "stream",
     "text": [
      "Stationday 492 KMLB19971028\n"
     ]
    },
    {
     "name": "stderr",
     "output_type": "stream",
     "text": [
      "Tracking: 100%|██████████| 9/9 [00:00<00:00, 1944.91it/s]\n",
      "Cleaning windfarm: 100%|██████████| 4/4 [00:00<00:00,  4.97it/s]\n",
      "Cleaning rain: 100%|██████████| 4/4 [00:00<00:00, 7166.69it/s]\n"
     ]
    },
    {
     "name": "stdout",
     "output_type": "stream",
     "text": [
      "Stationday 493 KMLB19971030\n"
     ]
    },
    {
     "name": "stderr",
     "output_type": "stream",
     "text": [
      "Tracking: 100%|██████████| 18/18 [00:00<00:00, 512.27it/s]\n",
      "Cleaning windfarm: 100%|██████████| 18/18 [00:02<00:00,  8.78it/s]\n",
      "Cleaning rain: 100%|██████████| 18/18 [00:00<00:00, 86679.07it/s]\n"
     ]
    },
    {
     "name": "stdout",
     "output_type": "stream",
     "text": [
      "Stationday 494 KMLB19971106\n"
     ]
    },
    {
     "name": "stderr",
     "output_type": "stream",
     "text": [
      "Tracking: 100%|██████████| 20/20 [00:00<00:00, 1344.89it/s]\n",
      "Cleaning windfarm: 100%|██████████| 7/7 [00:02<00:00,  3.32it/s]\n",
      "Cleaning rain: 100%|██████████| 7/7 [00:00<00:00, 71089.90it/s]\n"
     ]
    },
    {
     "name": "stdout",
     "output_type": "stream",
     "text": [
      "Stationday 495 KMLB19971109\n"
     ]
    },
    {
     "name": "stderr",
     "output_type": "stream",
     "text": [
      "Tracking: 100%|██████████| 9/9 [00:00<00:00, 1910.94it/s]\n",
      "Cleaning windfarm: 100%|██████████| 6/6 [00:01<00:00,  3.08it/s]\n",
      "Cleaning rain: 100%|██████████| 6/6 [00:00<00:00, 68385.39it/s]\n"
     ]
    },
    {
     "name": "stdout",
     "output_type": "stream",
     "text": [
      "Stationday 496 KMLB19971110\n"
     ]
    },
    {
     "name": "stderr",
     "output_type": "stream",
     "text": [
      "Tracking: 100%|██████████| 10/10 [00:00<00:00, 1595.22it/s]\n",
      "Cleaning windfarm: 100%|██████████| 5/5 [00:01<00:00,  3.85it/s]\n",
      "Cleaning rain: 100%|██████████| 5/5 [00:00<00:00, 62045.92it/s]\n"
     ]
    },
    {
     "name": "stdout",
     "output_type": "stream",
     "text": [
      "Stationday 497 KMLB19971117\n"
     ]
    },
    {
     "name": "stderr",
     "output_type": "stream",
     "text": [
      "Tracking: 100%|██████████| 9/9 [00:00<00:00, 2337.82it/s]\n",
      "Cleaning windfarm: 100%|██████████| 3/3 [00:00<00:00,  4.80it/s]\n",
      "Cleaning rain: 100%|██████████| 3/3 [00:00<00:00, 41665.27it/s]\n"
     ]
    },
    {
     "name": "stdout",
     "output_type": "stream",
     "text": [
      "Stationday 498 KMLB19971119\n"
     ]
    },
    {
     "name": "stderr",
     "output_type": "stream",
     "text": [
      "Tracking: 100%|██████████| 21/21 [00:00<00:00, 902.48it/s]\n",
      "Cleaning windfarm: 100%|██████████| 10/10 [00:01<00:00,  5.25it/s]\n",
      "Cleaning rain: 100%|██████████| 10/10 [00:00<00:00, 77528.72it/s]\n"
     ]
    },
    {
     "name": "stdout",
     "output_type": "stream",
     "text": [
      "Stationday 499 KMLB19971122\n"
     ]
    },
    {
     "name": "stderr",
     "output_type": "stream",
     "text": [
      "Tracking: 100%|██████████| 21/21 [00:00<00:00, 994.94it/s]\n",
      "Cleaning windfarm: 100%|██████████| 7/7 [00:02<00:00,  2.70it/s]\n",
      "Cleaning rain: 100%|██████████| 7/7 [00:00<00:00, 55084.67it/s]\n"
     ]
    },
    {
     "name": "stdout",
     "output_type": "stream",
     "text": [
      "Stationday 500 KMLB19971125\n"
     ]
    },
    {
     "name": "stderr",
     "output_type": "stream",
     "text": [
      "Tracking: 100%|██████████| 9/9 [00:00<00:00, 614.34it/s]\n",
      "Cleaning windfarm: 100%|██████████| 9/9 [00:01<00:00,  6.40it/s]\n",
      "Cleaning rain: 100%|██████████| 9/9 [00:00<00:00, 39036.96it/s]\n"
     ]
    },
    {
     "name": "stdout",
     "output_type": "stream",
     "text": [
      "Stationday 501 KMLB19971212\n"
     ]
    },
    {
     "name": "stderr",
     "output_type": "stream",
     "text": [
      "Tracking: 100%|██████████| 19/19 [00:00<00:00, 1021.21it/s]\n",
      "Cleaning windfarm: 100%|██████████| 5/5 [00:00<00:00,  6.83it/s]\n",
      "Cleaning rain: 100%|██████████| 5/5 [00:00<00:00, 53773.13it/s]\n"
     ]
    },
    {
     "name": "stdout",
     "output_type": "stream",
     "text": [
      "Stationday 502 KMLB19971218\n"
     ]
    },
    {
     "name": "stderr",
     "output_type": "stream",
     "text": [
      "Tracking: 100%|██████████| 9/9 [00:00<00:00, 789.33it/s]\n",
      "Cleaning windfarm: 100%|██████████| 11/11 [00:02<00:00,  4.05it/s]\n",
      "Cleaning rain: 100%|██████████| 11/11 [00:00<00:00, 79273.79it/s]\n"
     ]
    },
    {
     "name": "stdout",
     "output_type": "stream",
     "text": [
      "Stationday 503 KMLB19971219\n"
     ]
    },
    {
     "name": "stderr",
     "output_type": "stream",
     "text": [
      "Tracking: 100%|██████████| 9/9 [00:00<00:00, 648.88it/s]\n",
      "Cleaning windfarm: 100%|██████████| 13/13 [00:02<00:00,  4.64it/s]\n",
      "Cleaning rain: 100%|██████████| 13/13 [00:00<00:00, 111277.45it/s]\n"
     ]
    },
    {
     "name": "stdout",
     "output_type": "stream",
     "text": [
      "Stationday 504 KMLB19971220\n"
     ]
    },
    {
     "name": "stderr",
     "output_type": "stream",
     "text": [
      "Tracking: 100%|██████████| 9/9 [00:00<00:00, 797.26it/s]\n",
      "Cleaning windfarm: 100%|██████████| 15/15 [00:01<00:00, 11.11it/s]\n",
      "Cleaning rain: 100%|██████████| 15/15 [00:00<00:00, 120295.53it/s]\n"
     ]
    },
    {
     "name": "stdout",
     "output_type": "stream",
     "text": [
      "Stationday 505 KMLB19971223\n"
     ]
    },
    {
     "name": "stderr",
     "output_type": "stream",
     "text": [
      "Tracking: 100%|██████████| 10/10 [00:00<00:00, 2201.50it/s]\n",
      "Cleaning windfarm: 100%|██████████| 4/4 [00:01<00:00,  3.15it/s]\n",
      "Cleaning rain: 100%|██████████| 4/4 [00:00<00:00, 49932.19it/s]\n"
     ]
    },
    {
     "name": "stdout",
     "output_type": "stream",
     "text": [
      "Stationday 506 KMLB19980102\n"
     ]
    },
    {
     "name": "stderr",
     "output_type": "stream",
     "text": [
      "Tracking: 100%|██████████| 10/10 [00:00<00:00, 752.22it/s]\n",
      "Cleaning windfarm: 100%|██████████| 13/13 [00:02<00:00,  4.84it/s]\n",
      "Cleaning rain: 100%|██████████| 13/13 [00:00<00:00, 109051.90it/s]\n"
     ]
    },
    {
     "name": "stdout",
     "output_type": "stream",
     "text": [
      "Stationday 507 KMLB19980110\n"
     ]
    },
    {
     "name": "stderr",
     "output_type": "stream",
     "text": [
      "Tracking: 100%|██████████| 9/9 [00:00<00:00, 1228.40it/s]\n",
      "Cleaning windfarm: 100%|██████████| 5/5 [00:00<00:00,  7.33it/s]\n",
      "Cleaning rain: 100%|██████████| 5/5 [00:00<00:00, 45100.04it/s]\n"
     ]
    },
    {
     "name": "stdout",
     "output_type": "stream",
     "text": [
      "Stationday 508 KMLB19980116\n"
     ]
    },
    {
     "name": "stderr",
     "output_type": "stream",
     "text": [
      "Tracking: 100%|██████████| 17/17 [00:00<00:00, 741.69it/s]\n",
      "Cleaning windfarm: 100%|██████████| 11/11 [00:02<00:00,  5.22it/s]\n",
      "Cleaning rain: 100%|██████████| 11/11 [00:00<00:00, 91907.06it/s]\n"
     ]
    },
    {
     "name": "stdout",
     "output_type": "stream",
     "text": [
      "Stationday 509 KMLB19980201\n"
     ]
    },
    {
     "name": "stderr",
     "output_type": "stream",
     "text": [
      "Tracking: 100%|██████████| 9/9 [00:00<00:00, 982.40it/s]\n",
      "Cleaning windfarm: 100%|██████████| 8/8 [00:01<00:00,  5.87it/s]\n",
      "Cleaning rain: 100%|██████████| 8/8 [00:00<00:00, 76260.07it/s]\n"
     ]
    },
    {
     "name": "stdout",
     "output_type": "stream",
     "text": [
      "Stationday 510 KMLB19980202\n"
     ]
    },
    {
     "name": "stderr",
     "output_type": "stream",
     "text": [
      "Tracking: 100%|██████████| 19/19 [00:00<00:00, 784.50it/s]\n",
      "Cleaning windfarm: 100%|██████████| 16/16 [00:01<00:00, 12.21it/s]\n",
      "Cleaning rain: 100%|██████████| 16/16 [00:00<00:00, 104530.94it/s]\n"
     ]
    },
    {
     "name": "stdout",
     "output_type": "stream",
     "text": [
      "Stationday 511 KMLB19980203\n"
     ]
    },
    {
     "name": "stderr",
     "output_type": "stream",
     "text": [
      "Tracking: 100%|██████████| 20/20 [00:00<00:00, 1121.13it/s]\n",
      "Cleaning windfarm: 100%|██████████| 12/12 [00:01<00:00,  6.42it/s]\n",
      "Cleaning rain: 100%|██████████| 12/12 [00:00<00:00, 83192.81it/s]\n"
     ]
    },
    {
     "name": "stdout",
     "output_type": "stream",
     "text": [
      "Stationday 512 KMLB19980301\n"
     ]
    },
    {
     "name": "stderr",
     "output_type": "stream",
     "text": [
      "Tracking: 100%|██████████| 23/23 [00:00<00:00, 1175.88it/s]\n",
      "Cleaning windfarm: 100%|██████████| 13/13 [00:02<00:00,  6.49it/s]\n",
      "Cleaning rain: 100%|██████████| 13/13 [00:00<00:00, 71089.90it/s]\n"
     ]
    },
    {
     "name": "stdout",
     "output_type": "stream",
     "text": [
      "Stationday 513 KMLB19980302\n"
     ]
    },
    {
     "name": "stderr",
     "output_type": "stream",
     "text": [
      "Tracking: 100%|██████████| 20/20 [00:00<00:00, 1067.81it/s]\n",
      "Cleaning windfarm: 100%|██████████| 12/12 [00:00<00:00, 17.56it/s]\n",
      "Cleaning rain: 100%|██████████| 12/12 [00:00<00:00, 56048.61it/s]\n"
     ]
    },
    {
     "name": "stdout",
     "output_type": "stream",
     "text": [
      "Stationday 514 KMLB19980323\n"
     ]
    },
    {
     "name": "stderr",
     "output_type": "stream",
     "text": [
      "Tracking: 100%|██████████| 10/10 [00:00<00:00, 1474.38it/s]\n",
      "Cleaning windfarm: 100%|██████████| 5/5 [00:00<00:00,  7.36it/s]\n",
      "Cleaning rain: 100%|██████████| 5/5 [00:00<00:00, 57456.22it/s]\n"
     ]
    },
    {
     "name": "stdout",
     "output_type": "stream",
     "text": [
      "Stationday 515 KMLB19980325\n"
     ]
    },
    {
     "name": "stderr",
     "output_type": "stream",
     "text": [
      "Tracking: 100%|██████████| 9/9 [00:00<00:00, 601.85it/s]\n",
      "Cleaning windfarm: 100%|██████████| 20/20 [00:01<00:00, 14.20it/s]\n",
      "Cleaning rain: 100%|██████████| 20/20 [00:00<00:00, 82160.71it/s]\n"
     ]
    },
    {
     "name": "stdout",
     "output_type": "stream",
     "text": [
      "Stationday 516 KMLB19980409\n"
     ]
    },
    {
     "name": "stderr",
     "output_type": "stream",
     "text": [
      "Tracking: 100%|██████████| 20/20 [00:00<00:00, 1767.62it/s]\n",
      "Cleaning windfarm: 100%|██████████| 9/9 [00:01<00:00,  6.99it/s]\n",
      "Cleaning rain: 100%|██████████| 9/9 [00:00<00:00, 71629.48it/s]\n"
     ]
    },
    {
     "name": "stdout",
     "output_type": "stream",
     "text": [
      "Stationday 517 KMLB19980410\n"
     ]
    },
    {
     "name": "stderr",
     "output_type": "stream",
     "text": [
      "Tracking: 100%|██████████| 8/8 [00:00<00:00, 1804.68it/s]\n",
      "Cleaning windfarm: 100%|██████████| 6/6 [00:00<00:00,  9.66it/s]\n",
      "Cleaning rain: 100%|██████████| 6/6 [00:00<00:00, 71493.82it/s]\n"
     ]
    },
    {
     "name": "stdout",
     "output_type": "stream",
     "text": [
      "Stationday 518 KMLB19980412\n"
     ]
    },
    {
     "name": "stderr",
     "output_type": "stream",
     "text": [
      "Tracking: 100%|██████████| 8/8 [00:00<00:00, 1648.38it/s]\n",
      "Cleaning windfarm: 100%|██████████| 8/8 [00:00<00:00, 46218.23it/s]\n",
      "Cleaning rain: 100%|██████████| 8/8 [00:00<00:00, 89478.49it/s]\n"
     ]
    },
    {
     "name": "stdout",
     "output_type": "stream",
     "text": [
      "Stationday 519 KMLB19980413\n"
     ]
    },
    {
     "name": "stderr",
     "output_type": "stream",
     "text": [
      "Tracking: 100%|██████████| 10/10 [00:00<00:00, 1945.23it/s]\n",
      "Cleaning windfarm: 100%|██████████| 5/5 [00:00<00:00,  7.74it/s]\n",
      "Cleaning rain: 100%|██████████| 5/5 [00:00<00:00, 56679.78it/s]\n"
     ]
    },
    {
     "name": "stdout",
     "output_type": "stream",
     "text": [
      "Stationday 520 KMLB19980416\n"
     ]
    },
    {
     "name": "stderr",
     "output_type": "stream",
     "text": [
      "Tracking: 100%|██████████| 12/12 [00:00<00:00, 1246.79it/s]\n",
      "Cleaning windfarm: 100%|██████████| 10/10 [00:01<00:00,  5.48it/s]\n",
      "Cleaning rain: 100%|██████████| 10/10 [00:00<00:00, 94042.69it/s]\n"
     ]
    },
    {
     "name": "stdout",
     "output_type": "stream",
     "text": [
      "Stationday 521 KMLB19980419\n"
     ]
    },
    {
     "name": "stderr",
     "output_type": "stream",
     "text": [
      "Tracking: 100%|██████████| 13/13 [00:00<00:00, 1159.58it/s]\n",
      "Cleaning windfarm: 100%|██████████| 9/9 [00:02<00:00,  3.51it/s]\n",
      "Cleaning rain: 100%|██████████| 9/9 [00:00<00:00, 80145.94it/s]\n"
     ]
    },
    {
     "name": "stdout",
     "output_type": "stream",
     "text": [
      "Stationday 522 KMLB19980505\n"
     ]
    },
    {
     "name": "stderr",
     "output_type": "stream",
     "text": [
      "Tracking: 100%|██████████| 9/9 [00:00<00:00, 1454.06it/s]\n",
      "Cleaning windfarm: 100%|██████████| 7/7 [00:00<00:00, 12.01it/s]\n",
      "Cleaning rain: 100%|██████████| 7/7 [00:00<00:00, 32478.02it/s]\n"
     ]
    },
    {
     "name": "stdout",
     "output_type": "stream",
     "text": [
      "Stationday 523 KMLB19980507\n"
     ]
    },
    {
     "name": "stderr",
     "output_type": "stream",
     "text": [
      "Tracking: 100%|██████████| 9/9 [00:00<00:00, 1954.58it/s]\n",
      "Cleaning windfarm: 100%|██████████| 5/5 [00:00<00:00, 28378.24it/s]\n",
      "Cleaning rain: 100%|██████████| 5/5 [00:00<00:00, 45294.86it/s]\n"
     ]
    },
    {
     "name": "stdout",
     "output_type": "stream",
     "text": [
      "Stationday 524 KMLB19981008\n"
     ]
    },
    {
     "name": "stderr",
     "output_type": "stream",
     "text": [
      "Tracking: 100%|██████████| 19/19 [00:00<00:00, 1490.12it/s]\n",
      "Cleaning windfarm: 100%|██████████| 5/5 [00:01<00:00,  3.67it/s]\n",
      "Cleaning rain: 100%|██████████| 5/5 [00:00<00:00, 23275.83it/s]\n"
     ]
    },
    {
     "name": "stdout",
     "output_type": "stream",
     "text": [
      "Stationday 525 KMLB19981014\n"
     ]
    },
    {
     "name": "stderr",
     "output_type": "stream",
     "text": [
      "Tracking: 100%|██████████| 18/18 [00:00<00:00, 707.34it/s]\n",
      "Cleaning windfarm: 100%|██████████| 5/5 [00:01<00:00,  3.63it/s]\n",
      "Cleaning rain: 100%|██████████| 5/5 [00:00<00:00, 54899.27it/s]\n"
     ]
    },
    {
     "name": "stdout",
     "output_type": "stream",
     "text": [
      "Stationday 526 KMLB19981114\n"
     ]
    },
    {
     "name": "stderr",
     "output_type": "stream",
     "text": [
      "Tracking: 100%|██████████| 20/20 [00:00<00:00, 470.03it/s]\n",
      "Cleaning windfarm: 100%|██████████| 16/16 [00:04<00:00,  3.99it/s]\n",
      "Cleaning rain: 100%|██████████| 16/16 [00:00<00:00, 94652.84it/s]\n"
     ]
    },
    {
     "name": "stdout",
     "output_type": "stream",
     "text": [
      "Stationday 527 KMLB19981115\n"
     ]
    },
    {
     "name": "stderr",
     "output_type": "stream",
     "text": [
      "Tracking: 100%|██████████| 9/9 [00:00<00:00, 777.25it/s]\n",
      "Cleaning windfarm: 100%|██████████| 14/14 [00:01<00:00, 10.90it/s]\n",
      "Cleaning rain: 100%|██████████| 14/14 [00:00<00:00, 50360.43it/s]\n"
     ]
    },
    {
     "name": "stdout",
     "output_type": "stream",
     "text": [
      "Stationday 528 KMLB19981118\n"
     ]
    },
    {
     "name": "stderr",
     "output_type": "stream",
     "text": [
      "Tracking: 100%|██████████| 20/20 [00:00<00:00, 278.86it/s]\n",
      "Cleaning windfarm: 100%|██████████| 13/13 [00:02<00:00,  4.77it/s]\n",
      "Cleaning rain: 100%|██████████| 13/13 [00:00<00:00, 81503.67it/s]\n"
     ]
    },
    {
     "name": "stdout",
     "output_type": "stream",
     "text": [
      "Stationday 529 KMLB19981119\n"
     ]
    },
    {
     "name": "stderr",
     "output_type": "stream",
     "text": [
      "Tracking: 100%|██████████| 18/18 [00:00<00:00, 1979.43it/s]\n",
      "Cleaning windfarm: 100%|██████████| 6/6 [00:01<00:00,  4.23it/s]\n",
      "Cleaning rain: 100%|██████████| 6/6 [00:00<00:00, 38187.90it/s]\n"
     ]
    },
    {
     "name": "stdout",
     "output_type": "stream",
     "text": [
      "Stationday 530 KMLB19981120\n"
     ]
    },
    {
     "name": "stderr",
     "output_type": "stream",
     "text": [
      "Tracking: 100%|██████████| 3/3 [00:00<00:00, 1073.81it/s]\n",
      "Cleaning windfarm: 100%|██████████| 2/2 [00:01<00:00,  1.54it/s]\n",
      "Cleaning rain: 100%|██████████| 2/2 [00:00<00:00, 16194.22it/s]\n"
     ]
    },
    {
     "name": "stdout",
     "output_type": "stream",
     "text": [
      "Stationday 531 KMLB19981210\n"
     ]
    },
    {
     "name": "stderr",
     "output_type": "stream",
     "text": [
      "Tracking: 100%|██████████| 13/13 [00:00<00:00, 1390.12it/s]\n",
      "Cleaning windfarm: 100%|██████████| 9/9 [00:01<00:00,  6.82it/s]\n",
      "Cleaning rain: 100%|██████████| 9/9 [00:00<00:00, 81180.08it/s]\n"
     ]
    },
    {
     "name": "stdout",
     "output_type": "stream",
     "text": [
      "Stationday 532 KMLB19981213\n"
     ]
    },
    {
     "name": "stderr",
     "output_type": "stream",
     "text": [
      "Tracking: 100%|██████████| 20/20 [00:00<00:00, 1026.43it/s]\n",
      "Cleaning windfarm: 100%|██████████| 9/9 [00:01<00:00,  4.81it/s]\n",
      "Cleaning rain: 100%|██████████| 9/9 [00:00<00:00, 76569.44it/s]\n"
     ]
    },
    {
     "name": "stdout",
     "output_type": "stream",
     "text": [
      "Stationday 533 KMLB19981217\n"
     ]
    },
    {
     "name": "stderr",
     "output_type": "stream",
     "text": [
      "Tracking: 100%|██████████| 11/11 [00:00<00:00, 640.91it/s]\n",
      "Cleaning windfarm: 100%|██████████| 19/19 [00:01<00:00,  9.85it/s]\n",
      "Cleaning rain: 100%|██████████| 19/19 [00:00<00:00, 112559.01it/s]\n"
     ]
    },
    {
     "name": "stdout",
     "output_type": "stream",
     "text": [
      "Stationday 534 KMLB19981230\n"
     ]
    },
    {
     "name": "stderr",
     "output_type": "stream",
     "text": [
      "Tracking: 100%|██████████| 8/8 [00:00<00:00, 1448.25it/s]\n",
      "Cleaning windfarm: 100%|██████████| 5/5 [00:00<00:00,  8.06it/s]\n",
      "Cleaning rain: 100%|██████████| 5/5 [00:00<00:00, 64726.91it/s]\n"
     ]
    },
    {
     "name": "stdout",
     "output_type": "stream",
     "text": [
      "Stationday 535 KMLB19990218\n"
     ]
    },
    {
     "name": "stderr",
     "output_type": "stream",
     "text": [
      "Tracking: 100%|██████████| 20/20 [00:00<00:00, 606.56it/s]\n",
      "Cleaning windfarm: 100%|██████████| 12/12 [00:01<00:00,  6.35it/s]\n",
      "Cleaning rain: 100%|██████████| 12/12 [00:00<00:00, 20311.40it/s]\n"
     ]
    },
    {
     "name": "stdout",
     "output_type": "stream",
     "text": [
      "Stationday 536 KMLB19990225\n"
     ]
    },
    {
     "name": "stderr",
     "output_type": "stream",
     "text": [
      "Tracking: 100%|██████████| 9/9 [00:00<00:00, 618.17it/s]\n",
      "Cleaning windfarm: 100%|██████████| 6/6 [00:00<00:00,  7.67it/s]\n",
      "Cleaning rain: 100%|██████████| 6/6 [00:00<00:00, 41943.04it/s]\n"
     ]
    },
    {
     "name": "stdout",
     "output_type": "stream",
     "text": [
      "Stationday 537 KMLB19990302\n"
     ]
    },
    {
     "name": "stderr",
     "output_type": "stream",
     "text": [
      "Tracking: 100%|██████████| 9/9 [00:00<00:00, 430.82it/s]\n",
      "Cleaning windfarm: 100%|██████████| 20/20 [00:02<00:00,  7.27it/s]\n",
      "Cleaning rain: 100%|██████████| 20/20 [00:00<00:00, 27494.62it/s]\n"
     ]
    },
    {
     "name": "stdout",
     "output_type": "stream",
     "text": [
      "Stationday 538 KMLB19990322\n"
     ]
    },
    {
     "name": "stderr",
     "output_type": "stream",
     "text": [
      "Tracking: 100%|██████████| 6/6 [00:00<00:00, 348.24it/s]\n",
      "Cleaning windfarm: 100%|██████████| 14/14 [00:03<00:00,  4.26it/s]\n",
      "Cleaning rain: 100%|██████████| 14/14 [00:00<00:00, 76359.24it/s]\n"
     ]
    },
    {
     "name": "stdout",
     "output_type": "stream",
     "text": [
      "Stationday 539 KMLB19990323\n"
     ]
    },
    {
     "name": "stderr",
     "output_type": "stream",
     "text": [
      "Tracking: 100%|██████████| 10/10 [00:00<00:00, 704.11it/s]\n",
      "Cleaning windfarm: 100%|██████████| 12/12 [00:01<00:00,  6.04it/s]\n",
      "Cleaning rain: 100%|██████████| 12/12 [00:00<00:00, 23258.62it/s]\n"
     ]
    },
    {
     "name": "stdout",
     "output_type": "stream",
     "text": [
      "Stationday 540 KMLB19990406\n"
     ]
    },
    {
     "name": "stderr",
     "output_type": "stream",
     "text": [
      "Tracking: 100%|██████████| 11/11 [00:00<00:00, 576.88it/s]\n",
      "Cleaning windfarm: 100%|██████████| 9/9 [00:01<00:00,  6.65it/s]\n",
      "Cleaning rain: 100%|██████████| 9/9 [00:00<00:00, 48333.85it/s]\n"
     ]
    },
    {
     "name": "stdout",
     "output_type": "stream",
     "text": [
      "Stationday 541 KMLB19990408\n"
     ]
    },
    {
     "name": "stderr",
     "output_type": "stream",
     "text": [
      "Tracking: 100%|██████████| 10/10 [00:00<00:00, 737.03it/s]\n",
      "Cleaning windfarm: 100%|██████████| 12/12 [00:02<00:00,  4.31it/s]\n",
      "Cleaning rain: 100%|██████████| 12/12 [00:00<00:00, 66752.85it/s]\n"
     ]
    },
    {
     "name": "stdout",
     "output_type": "stream",
     "text": [
      "Stationday 542 KMLB19990416\n"
     ]
    },
    {
     "name": "stderr",
     "output_type": "stream",
     "text": [
      "Tracking: 100%|██████████| 10/10 [00:00<00:00, 1867.62it/s]\n",
      "Cleaning windfarm: 100%|██████████| 7/7 [00:00<00:00, 11.93it/s]\n",
      "Cleaning rain: 100%|██████████| 7/7 [00:00<00:00, 28672.00it/s]\n"
     ]
    },
    {
     "name": "stdout",
     "output_type": "stream",
     "text": [
      "Stationday 543 KMLB19990417\n"
     ]
    },
    {
     "name": "stderr",
     "output_type": "stream",
     "text": [
      "Tracking: 100%|██████████| 20/20 [00:00<00:00, 1115.68it/s]\n",
      "Cleaning windfarm: 100%|██████████| 4/4 [00:00<00:00,  5.65it/s]\n",
      "Cleaning rain: 100%|██████████| 4/4 [00:00<00:00, 17207.40it/s]\n"
     ]
    },
    {
     "name": "stdout",
     "output_type": "stream",
     "text": [
      "Stationday 544 KMLB19990422\n"
     ]
    },
    {
     "name": "stderr",
     "output_type": "stream",
     "text": [
      "Tracking: 100%|██████████| 9/9 [00:00<00:00, 1042.38it/s]\n",
      "Cleaning windfarm: 100%|██████████| 6/6 [00:00<00:00,  7.28it/s]\n",
      "Cleaning rain: 100%|██████████| 6/6 [00:00<00:00, 28893.02it/s]\n"
     ]
    },
    {
     "name": "stdout",
     "output_type": "stream",
     "text": [
      "Stationday 545 KMLB19990426\n"
     ]
    },
    {
     "name": "stderr",
     "output_type": "stream",
     "text": [
      "Tracking: 100%|██████████| 11/11 [00:00<00:00, 814.50it/s]\n",
      "Cleaning windfarm: 100%|██████████| 7/7 [00:00<00:00,  9.36it/s]\n",
      "Cleaning rain: 100%|██████████| 7/7 [00:00<00:00, 39251.51it/s]\n"
     ]
    },
    {
     "name": "stdout",
     "output_type": "stream",
     "text": [
      "Stationday 546 KMLB19991021\n"
     ]
    },
    {
     "name": "stderr",
     "output_type": "stream",
     "text": [
      "Tracking: 100%|██████████| 19/19 [00:00<00:00, 846.20it/s]\n",
      "Cleaning windfarm: 100%|██████████| 6/6 [00:01<00:00,  5.08it/s]\n",
      "Cleaning rain: 100%|██████████| 6/6 [00:00<00:00, 65536.00it/s]\n"
     ]
    },
    {
     "name": "stdout",
     "output_type": "stream",
     "text": [
      "Stationday 547 KMLB19991027\n"
     ]
    },
    {
     "name": "stderr",
     "output_type": "stream",
     "text": [
      "Tracking: 100%|██████████| 19/19 [00:00<00:00, 1045.21it/s]\n",
      "Cleaning windfarm: 100%|██████████| 6/6 [00:02<00:00,  2.94it/s]\n",
      "Cleaning rain: 100%|██████████| 6/6 [00:00<00:00, 43092.16it/s]\n"
     ]
    },
    {
     "name": "stdout",
     "output_type": "stream",
     "text": [
      "Stationday 548 KMLB19991030\n"
     ]
    },
    {
     "name": "stderr",
     "output_type": "stream",
     "text": [
      "Tracking: 100%|██████████| 21/21 [00:00<00:00, 1765.31it/s]\n",
      "Cleaning windfarm: 100%|██████████| 4/4 [00:01<00:00,  2.79it/s]\n",
      "Cleaning rain: 100%|██████████| 4/4 [00:00<00:00, 44858.87it/s]\n"
     ]
    },
    {
     "name": "stdout",
     "output_type": "stream",
     "text": [
      "Stationday 549 KMLB19991031\n"
     ]
    },
    {
     "name": "stderr",
     "output_type": "stream",
     "text": [
      "Tracking: 100%|██████████| 19/19 [00:00<00:00, 2263.84it/s]\n",
      "Cleaning windfarm: 100%|██████████| 4/4 [00:01<00:00,  3.25it/s]\n",
      "Cleaning rain: 100%|██████████| 4/4 [00:00<00:00, 43577.18it/s]\n"
     ]
    },
    {
     "name": "stdout",
     "output_type": "stream",
     "text": [
      "Stationday 550 KMLB19991102\n"
     ]
    },
    {
     "name": "stderr",
     "output_type": "stream",
     "text": [
      "Tracking: 100%|██████████| 20/20 [00:00<00:00, 1255.61it/s]\n",
      "Cleaning windfarm: 100%|██████████| 12/12 [00:00<00:00, 19.01it/s]\n",
      "Cleaning rain: 100%|██████████| 12/12 [00:00<00:00, 38421.11it/s]\n"
     ]
    },
    {
     "name": "stdout",
     "output_type": "stream",
     "text": [
      "Stationday 551 KMLB19991103\n"
     ]
    },
    {
     "name": "stderr",
     "output_type": "stream",
     "text": [
      "Tracking: 100%|██████████| 10/10 [00:00<00:00, 1676.78it/s]\n",
      "Cleaning windfarm: 100%|██████████| 3/3 [00:00<00:00,  3.96it/s]\n",
      "Cleaning rain: 100%|██████████| 3/3 [00:00<00:00, 43389.35it/s]\n"
     ]
    },
    {
     "name": "stdout",
     "output_type": "stream",
     "text": [
      "Stationday 552 KMLB19991105\n"
     ]
    },
    {
     "name": "stderr",
     "output_type": "stream",
     "text": [
      "Tracking: 100%|██████████| 9/9 [00:00<00:00, 1141.79it/s]\n",
      "Cleaning windfarm: 100%|██████████| 7/7 [00:00<00:00, 11.88it/s]\n",
      "Cleaning rain: 100%|██████████| 7/7 [00:00<00:00, 47662.55it/s]\n"
     ]
    },
    {
     "name": "stdout",
     "output_type": "stream",
     "text": [
      "Stationday 553 KMLB19991110\n"
     ]
    },
    {
     "name": "stderr",
     "output_type": "stream",
     "text": [
      "Tracking: 100%|██████████| 10/10 [00:00<00:00, 952.80it/s]\n",
      "Cleaning windfarm: 100%|██████████| 5/5 [00:01<00:00,  3.55it/s]\n",
      "Cleaning rain: 100%|██████████| 5/5 [00:00<00:00, 65128.94it/s]\n"
     ]
    },
    {
     "name": "stdout",
     "output_type": "stream",
     "text": [
      "Stationday 554 KMLB19991124\n"
     ]
    },
    {
     "name": "stderr",
     "output_type": "stream",
     "text": [
      "Tracking: 100%|██████████| 18/18 [00:00<00:00, 934.22it/s]\n",
      "Cleaning windfarm: 100%|██████████| 5/5 [00:01<00:00,  2.78it/s]\n",
      "Cleaning rain: 100%|██████████| 5/5 [00:00<00:00, 56073.58it/s]\n"
     ]
    },
    {
     "name": "stdout",
     "output_type": "stream",
     "text": [
      "Stationday 555 KMLB19991201\n"
     ]
    },
    {
     "name": "stderr",
     "output_type": "stream",
     "text": [
      "Tracking: 100%|██████████| 10/10 [00:00<00:00, 2521.07it/s]\n",
      "Cleaning windfarm: 100%|██████████| 3/3 [00:00<00:00,  4.96it/s]\n",
      "Cleaning rain: 100%|██████████| 3/3 [00:00<00:00, 41255.45it/s]\n"
     ]
    },
    {
     "name": "stdout",
     "output_type": "stream",
     "text": [
      "Stationday 556 KMLB19991203\n"
     ]
    },
    {
     "name": "stderr",
     "output_type": "stream",
     "text": [
      "Tracking: 100%|██████████| 10/10 [00:00<00:00, 537.23it/s]\n",
      "Cleaning windfarm: 100%|██████████| 13/13 [00:03<00:00,  3.40it/s]\n",
      "Cleaning rain: 100%|██████████| 13/13 [00:00<00:00, 110600.31it/s]\n"
     ]
    },
    {
     "name": "stdout",
     "output_type": "stream",
     "text": [
      "Stationday 557 KMLB19991206\n"
     ]
    },
    {
     "name": "stderr",
     "output_type": "stream",
     "text": [
      "Tracking: 100%|██████████| 5/5 [00:00<00:00, 695.73it/s]\n",
      "Cleaning windfarm: 100%|██████████| 6/6 [00:01<00:00,  4.74it/s]\n",
      "Cleaning rain: 100%|██████████| 6/6 [00:00<00:00, 32939.56it/s]\n"
     ]
    },
    {
     "name": "stdout",
     "output_type": "stream",
     "text": [
      "Stationday 558 KMLB19991211\n"
     ]
    },
    {
     "name": "stderr",
     "output_type": "stream",
     "text": [
      "Tracking: 100%|██████████| 9/9 [00:00<00:00, 387.87it/s]\n",
      "Cleaning windfarm: 100%|██████████| 5/5 [00:02<00:00,  1.91it/s]\n",
      "Cleaning rain: 100%|██████████| 5/5 [00:00<00:00, 66788.28it/s]\n"
     ]
    },
    {
     "name": "stdout",
     "output_type": "stream",
     "text": [
      "Stationday 559 KMLB19991220\n"
     ]
    },
    {
     "name": "stderr",
     "output_type": "stream",
     "text": [
      "Tracking: 100%|██████████| 9/9 [00:00<00:00, 447.30it/s]\n",
      "Cleaning windfarm: 100%|██████████| 15/15 [00:03<00:00,  4.43it/s]\n",
      "Cleaning rain: 100%|██████████| 15/15 [00:00<00:00, 118706.72it/s]\n"
     ]
    },
    {
     "name": "stdout",
     "output_type": "stream",
     "text": [
      "Stationday 560 KMLB20000104\n"
     ]
    },
    {
     "name": "stderr",
     "output_type": "stream",
     "text": [
      "Tracking: 100%|██████████| 10/10 [00:00<00:00, 1101.39it/s]\n",
      "Cleaning windfarm: 100%|██████████| 6/6 [00:01<00:00,  3.02it/s]\n",
      "Cleaning rain: 100%|██████████| 6/6 [00:00<00:00, 42153.81it/s]\n"
     ]
    },
    {
     "name": "stdout",
     "output_type": "stream",
     "text": [
      "Stationday 561 KMLB20000113\n"
     ]
    },
    {
     "name": "stderr",
     "output_type": "stream",
     "text": [
      "Tracking: 100%|██████████| 9/9 [00:00<00:00, 1086.98it/s]\n",
      "Cleaning windfarm: 100%|██████████| 7/7 [00:02<00:00,  2.65it/s]\n",
      "Cleaning rain: 100%|██████████| 7/7 [00:00<00:00, 77672.30it/s]\n"
     ]
    },
    {
     "name": "stdout",
     "output_type": "stream",
     "text": [
      "Stationday 562 KMLB20000213\n"
     ]
    },
    {
     "name": "stderr",
     "output_type": "stream",
     "text": [
      "Tracking: 100%|██████████| 9/9 [00:00<00:00, 645.82it/s]\n",
      "Cleaning windfarm: 100%|██████████| 12/12 [00:04<00:00,  2.52it/s]\n",
      "Cleaning rain: 100%|██████████| 12/12 [00:00<00:00, 86037.01it/s]\n"
     ]
    },
    {
     "name": "stdout",
     "output_type": "stream",
     "text": [
      "Stationday 563 KMLB20000218\n"
     ]
    },
    {
     "name": "stderr",
     "output_type": "stream",
     "text": [
      "Tracking: 100%|██████████| 9/9 [00:00<00:00, 671.09it/s]\n",
      "Cleaning windfarm: 100%|██████████| 11/11 [00:02<00:00,  5.39it/s]\n",
      "Cleaning rain: 100%|██████████| 11/11 [00:00<00:00, 88048.37it/s]\n"
     ]
    },
    {
     "name": "stdout",
     "output_type": "stream",
     "text": [
      "Stationday 564 KMLB20000226\n"
     ]
    },
    {
     "name": "stderr",
     "output_type": "stream",
     "text": [
      "Tracking: 100%|██████████| 3/3 [00:00<00:00, 737.18it/s]\n",
      "Cleaning windfarm: 100%|██████████| 7/7 [00:02<00:00,  3.45it/s]\n",
      "Cleaning rain: 100%|██████████| 7/7 [00:00<00:00, 82472.27it/s]\n"
     ]
    },
    {
     "name": "stdout",
     "output_type": "stream",
     "text": [
      "Stationday 565 KMLB20000227\n"
     ]
    },
    {
     "name": "stderr",
     "output_type": "stream",
     "text": [
      "Tracking: 100%|██████████| 2/2 [00:00<00:00, 792.57it/s]\n",
      "Cleaning windfarm: 100%|██████████| 5/5 [00:00<00:00,  7.38it/s]\n",
      "Cleaning rain: 100%|██████████| 5/5 [00:00<00:00, 67432.54it/s]\n"
     ]
    },
    {
     "name": "stdout",
     "output_type": "stream",
     "text": [
      "Stationday 566 KMLB20000304\n"
     ]
    },
    {
     "name": "stderr",
     "output_type": "stream",
     "text": [
      "Tracking: 100%|██████████| 9/9 [00:00<00:00, 1045.96it/s]\n",
      "Cleaning windfarm: 100%|██████████| 8/8 [00:02<00:00,  3.97it/s]\n",
      "Cleaning rain: 100%|██████████| 8/8 [00:00<00:00, 89003.80it/s]\n"
     ]
    },
    {
     "name": "stdout",
     "output_type": "stream",
     "text": [
      "Stationday 567 KMLB20000315\n"
     ]
    },
    {
     "name": "stderr",
     "output_type": "stream",
     "text": [
      "Tracking: 100%|██████████| 9/9 [00:00<00:00, 2083.49it/s]\n",
      "Cleaning windfarm: 100%|██████████| 4/4 [00:02<00:00,  1.96it/s]\n",
      "Cleaning rain: 100%|██████████| 4/4 [00:00<00:00, 49200.05it/s]\n"
     ]
    },
    {
     "name": "stdout",
     "output_type": "stream",
     "text": [
      "Stationday 568 KMLB20000325\n"
     ]
    },
    {
     "name": "stderr",
     "output_type": "stream",
     "text": [
      "Tracking: 100%|██████████| 9/9 [00:00<00:00, 794.04it/s]\n",
      "Cleaning windfarm: 100%|██████████| 9/9 [00:02<00:00,  4.41it/s]\n",
      "Cleaning rain: 100%|██████████| 9/9 [00:00<00:00, 95084.98it/s]\n"
     ]
    },
    {
     "name": "stdout",
     "output_type": "stream",
     "text": [
      "Stationday 569 KMLB20000329\n"
     ]
    },
    {
     "name": "stderr",
     "output_type": "stream",
     "text": [
      "Tracking: 100%|██████████| 8/8 [00:00<00:00, 731.86it/s]\n",
      "Cleaning windfarm: 100%|██████████| 8/8 [00:03<00:00,  2.01it/s]\n",
      "Cleaning rain: 100%|██████████| 8/8 [00:00<00:00, 88768.34it/s]\n"
     ]
    },
    {
     "name": "stdout",
     "output_type": "stream",
     "text": [
      "Stationday 570 KMLB20000402\n"
     ]
    },
    {
     "name": "stderr",
     "output_type": "stream",
     "text": [
      "Tracking: 100%|██████████| 2/2 [00:00<00:00, 1770.12it/s]\n",
      "Cleaning windfarm: 100%|██████████| 1/1 [00:00<00:00, 10951.19it/s]\n",
      "Cleaning rain: 100%|██████████| 1/1 [00:00<00:00, 15887.52it/s]\n"
     ]
    },
    {
     "name": "stdout",
     "output_type": "stream",
     "text": [
      "Stationday 571 KMLB20000410\n"
     ]
    },
    {
     "name": "stderr",
     "output_type": "stream",
     "text": [
      "Tracking: 100%|██████████| 11/11 [00:00<00:00, 990.99it/s]\n",
      "Cleaning windfarm: 100%|██████████| 8/8 [00:01<00:00,  4.08it/s]\n",
      "Cleaning rain: 100%|██████████| 8/8 [00:00<00:00, 48141.22it/s]\n"
     ]
    },
    {
     "name": "stdout",
     "output_type": "stream",
     "text": [
      "Stationday 572 KMLB20000416\n"
     ]
    },
    {
     "name": "stderr",
     "output_type": "stream",
     "text": [
      "Tracking: 100%|██████████| 18/18 [00:00<00:00, 1762.39it/s]\n",
      "Cleaning windfarm: 100%|██████████| 4/4 [00:01<00:00,  2.98it/s]\n",
      "Cleaning rain: 100%|██████████| 4/4 [00:00<00:00, 27103.74it/s]\n"
     ]
    },
    {
     "name": "stdout",
     "output_type": "stream",
     "text": [
      "Stationday 573 KMLB20000418\n"
     ]
    },
    {
     "name": "stderr",
     "output_type": "stream",
     "text": [
      "Tracking: 100%|██████████| 9/9 [00:00<00:00, 1148.88it/s]\n",
      "Cleaning windfarm: 100%|██████████| 5/5 [00:01<00:00,  3.64it/s]\n",
      "Cleaning rain: 100%|██████████| 5/5 [00:00<00:00, 57143.11it/s]\n"
     ]
    },
    {
     "name": "stdout",
     "output_type": "stream",
     "text": [
      "Stationday 574 KMLB20000426\n"
     ]
    },
    {
     "name": "stderr",
     "output_type": "stream",
     "text": [
      "Tracking: 100%|██████████| 9/9 [00:00<00:00, 1757.96it/s]\n",
      "Cleaning windfarm: 100%|██████████| 6/6 [00:00<00:00,  9.60it/s]\n",
      "Cleaning rain: 100%|██████████| 6/6 [00:00<00:00, 72733.60it/s]\n"
     ]
    },
    {
     "name": "stdout",
     "output_type": "stream",
     "text": [
      "Stationday 575 KMLB20000429\n"
     ]
    },
    {
     "name": "stderr",
     "output_type": "stream",
     "text": [
      "Tracking: 100%|██████████| 7/7 [00:00<00:00, 2388.56it/s]\n",
      "Cleaning windfarm: 100%|██████████| 3/3 [00:00<00:00, 23831.27it/s]\n",
      "Cleaning rain: 100%|██████████| 3/3 [00:00<00:00, 40329.85it/s]\n"
     ]
    },
    {
     "name": "stdout",
     "output_type": "stream",
     "text": [
      "Stationday 576 KMLB20000503\n"
     ]
    },
    {
     "name": "stderr",
     "output_type": "stream",
     "text": [
      "Tracking: 100%|██████████| 5/5 [00:00<00:00, 1577.40it/s]\n",
      "Cleaning windfarm: 100%|██████████| 3/3 [00:00<00:00, 23607.71it/s]\n",
      "Cleaning rain: 100%|██████████| 3/3 [00:00<00:00, 39199.10it/s]\n"
     ]
    },
    {
     "name": "stdout",
     "output_type": "stream",
     "text": [
      "Stationday 577 KMLB20000505\n"
     ]
    },
    {
     "name": "stderr",
     "output_type": "stream",
     "text": [
      "Tracking: 100%|██████████| 9/9 [00:00<00:00, 1793.46it/s]\n",
      "Cleaning windfarm: 100%|██████████| 5/5 [00:00<00:00,  6.10it/s]\n",
      "Cleaning rain: 100%|██████████| 5/5 [00:00<00:00, 64527.75it/s]\n"
     ]
    },
    {
     "name": "stdout",
     "output_type": "stream",
     "text": [
      "Stationday 578 KMLB20001022\n"
     ]
    },
    {
     "name": "stderr",
     "output_type": "stream",
     "text": [
      "Tracking: 100%|██████████| 21/21 [00:00<00:00, 2972.17it/s]\n",
      "Cleaning windfarm: 100%|██████████| 2/2 [00:00<00:00, 15621.24it/s]\n",
      "Cleaning rain: 100%|██████████| 2/2 [00:00<00:00, 11037.64it/s]\n"
     ]
    },
    {
     "name": "stdout",
     "output_type": "stream",
     "text": [
      "Stationday 579 KMLB20001109\n"
     ]
    },
    {
     "name": "stderr",
     "output_type": "stream",
     "text": [
      "Tracking: 100%|██████████| 10/10 [00:00<00:00, 613.98it/s]\n",
      "Cleaning windfarm: 100%|██████████| 8/8 [00:01<00:00,  5.92it/s]\n",
      "Cleaning rain: 100%|██████████| 8/8 [00:00<00:00, 78398.21it/s]\n"
     ]
    },
    {
     "name": "stdout",
     "output_type": "stream",
     "text": [
      "Stationday 580 KMLB20001113\n"
     ]
    },
    {
     "name": "stderr",
     "output_type": "stream",
     "text": [
      "Tracking: 100%|██████████| 8/8 [00:00<00:00, 801.53it/s]\n",
      "Cleaning windfarm: 100%|██████████| 7/7 [00:01<00:00,  3.92it/s]\n",
      "Cleaning rain: 100%|██████████| 7/7 [00:00<00:00, 75089.84it/s]\n"
     ]
    },
    {
     "name": "stdout",
     "output_type": "stream",
     "text": [
      "Stationday 581 KMLB20001116\n"
     ]
    },
    {
     "name": "stderr",
     "output_type": "stream",
     "text": [
      "Tracking: 100%|██████████| 9/9 [00:00<00:00, 1112.09it/s]\n",
      "Cleaning windfarm: 100%|██████████| 5/5 [00:01<00:00,  3.49it/s]\n",
      "Cleaning rain: 100%|██████████| 5/5 [00:00<00:00, 33989.50it/s]\n"
     ]
    },
    {
     "name": "stdout",
     "output_type": "stream",
     "text": [
      "Stationday 582 KMLB20001202\n"
     ]
    },
    {
     "name": "stderr",
     "output_type": "stream",
     "text": [
      "Tracking: 100%|██████████| 1/1 [00:00<00:00, 646.77it/s]\n",
      "Cleaning windfarm: 100%|██████████| 1/1 [00:00<00:00, 5691.05it/s]\n",
      "Cleaning rain: 100%|██████████| 1/1 [00:00<00:00, 8905.10it/s]\n"
     ]
    },
    {
     "name": "stdout",
     "output_type": "stream",
     "text": [
      "Stationday 583 KMLB20001205\n"
     ]
    },
    {
     "name": "stderr",
     "output_type": "stream",
     "text": [
      "Tracking: 100%|██████████| 18/18 [00:00<00:00, 758.84it/s]\n",
      "Cleaning windfarm: 100%|██████████| 5/5 [00:00<00:00,  6.74it/s]\n",
      "Cleaning rain: 100%|██████████| 5/5 [00:00<00:00, 23275.83it/s]\n"
     ]
    },
    {
     "name": "stdout",
     "output_type": "stream",
     "text": [
      "Stationday 584 KMLB20001214\n"
     ]
    },
    {
     "name": "stderr",
     "output_type": "stream",
     "text": [
      "Tracking: 100%|██████████| 9/9 [00:00<00:00, 491.40it/s]\n",
      "Cleaning windfarm: 100%|██████████| 8/8 [00:02<00:00,  3.05it/s]\n",
      "Cleaning rain: 100%|██████████| 8/8 [00:00<00:00, 84519.98it/s]\n"
     ]
    },
    {
     "name": "stdout",
     "output_type": "stream",
     "text": [
      "Stationday 585 KMLB20001217\n"
     ]
    },
    {
     "name": "stderr",
     "output_type": "stream",
     "text": [
      "Tracking: 100%|██████████| 21/21 [00:00<00:00, 701.94it/s]\n",
      "Cleaning windfarm: 100%|██████████| 9/9 [00:03<00:00,  2.29it/s]\n",
      "Cleaning rain: 100%|██████████| 9/9 [00:00<00:00, 73014.96it/s]\n"
     ]
    },
    {
     "name": "stdout",
     "output_type": "stream",
     "text": [
      "Stationday 586 KMLB20001222\n"
     ]
    },
    {
     "name": "stderr",
     "output_type": "stream",
     "text": [
      "Tracking: 100%|██████████| 9/9 [00:00<00:00, 1243.00it/s]\n",
      "Cleaning windfarm: 100%|██████████| 7/7 [00:01<00:00,  5.23it/s]\n",
      "Cleaning rain: 100%|██████████| 7/7 [00:00<00:00, 46091.25it/s]\n"
     ]
    },
    {
     "name": "stdout",
     "output_type": "stream",
     "text": [
      "Stationday 587 KMLB20010118\n"
     ]
    },
    {
     "name": "stderr",
     "output_type": "stream",
     "text": [
      "Tracking: 100%|██████████| 9/9 [00:00<00:00, 708.86it/s]\n",
      "Cleaning windfarm: 100%|██████████| 9/9 [00:03<00:00,  2.30it/s]\n",
      "Cleaning rain: 100%|██████████| 9/9 [00:00<00:00, 90092.45it/s]\n"
     ]
    },
    {
     "name": "stdout",
     "output_type": "stream",
     "text": [
      "Stationday 588 KMLB20010119\n"
     ]
    },
    {
     "name": "stderr",
     "output_type": "stream",
     "text": [
      "Tracking: 100%|██████████| 9/9 [00:00<00:00, 1298.23it/s]\n",
      "Cleaning windfarm: 100%|██████████| 7/7 [00:01<00:00,  3.51it/s]\n",
      "Cleaning rain: 100%|██████████| 7/7 [00:00<00:00, 44417.74it/s]\n"
     ]
    },
    {
     "name": "stdout",
     "output_type": "stream",
     "text": [
      "Stationday 589 KMLB20010316\n"
     ]
    },
    {
     "name": "stderr",
     "output_type": "stream",
     "text": [
      "Tracking: 100%|██████████| 8/8 [00:00<00:00, 1017.63it/s]\n",
      "Cleaning windfarm: 100%|██████████| 6/6 [00:01<00:00,  4.56it/s]\n",
      "Cleaning rain: 100%|██████████| 6/6 [00:00<00:00, 73800.07it/s]\n"
     ]
    },
    {
     "name": "stdout",
     "output_type": "stream",
     "text": [
      "Stationday 590 KMLB20010318\n"
     ]
    },
    {
     "name": "stderr",
     "output_type": "stream",
     "text": [
      "Tracking: 100%|██████████| 9/9 [00:00<00:00, 748.48it/s]\n",
      "Cleaning windfarm: 100%|██████████| 6/6 [00:01<00:00,  3.09it/s]\n",
      "Cleaning rain: 100%|██████████| 6/6 [00:00<00:00, 72733.60it/s]\n"
     ]
    },
    {
     "name": "stdout",
     "output_type": "stream",
     "text": [
      "Stationday 591 KMLB20011029\n"
     ]
    },
    {
     "name": "stderr",
     "output_type": "stream",
     "text": [
      "Tracking: 100%|██████████| 10/10 [00:00<00:00, 636.38it/s]\n",
      "Cleaning windfarm: 100%|██████████| 8/8 [00:01<00:00,  5.14it/s]\n",
      "Cleaning rain: 100%|██████████| 8/8 [00:00<00:00, 89240.51it/s]\n"
     ]
    },
    {
     "name": "stdout",
     "output_type": "stream",
     "text": [
      "Stationday 592 KMLB20011107\n"
     ]
    },
    {
     "name": "stderr",
     "output_type": "stream",
     "text": [
      "Tracking: 100%|██████████| 9/9 [00:00<00:00, 802.94it/s]\n",
      "Cleaning windfarm: 100%|██████████| 15/15 [00:01<00:00,  9.47it/s]\n",
      "Cleaning rain: 100%|██████████| 15/15 [00:00<00:00, 118706.72it/s]\n"
     ]
    },
    {
     "name": "stdout",
     "output_type": "stream",
     "text": [
      "Stationday 593 KMLB20011128\n"
     ]
    },
    {
     "name": "stderr",
     "output_type": "stream",
     "text": [
      "Tracking: 100%|██████████| 9/9 [00:00<00:00, 582.30it/s]\n",
      "Cleaning windfarm: 100%|██████████| 9/9 [00:01<00:00,  5.86it/s]\n",
      "Cleaning rain: 100%|██████████| 9/9 [00:00<00:00, 71089.90it/s]\n"
     ]
    },
    {
     "name": "stdout",
     "output_type": "stream",
     "text": [
      "Stationday 594 KMLB20011130\n"
     ]
    },
    {
     "name": "stderr",
     "output_type": "stream",
     "text": [
      "Tracking: 100%|██████████| 8/8 [00:00<00:00, 724.58it/s]\n",
      "Cleaning windfarm: 100%|██████████| 11/11 [00:02<00:00,  5.26it/s]\n",
      "Cleaning rain: 100%|██████████| 11/11 [00:00<00:00, 105096.46it/s]\n"
     ]
    },
    {
     "name": "stdout",
     "output_type": "stream",
     "text": [
      "Stationday 595 KMLB20011202\n"
     ]
    },
    {
     "name": "stderr",
     "output_type": "stream",
     "text": [
      "Tracking: 100%|██████████| 9/9 [00:00<00:00, 445.14it/s]\n",
      "Cleaning windfarm: 100%|██████████| 12/12 [00:01<00:00,  8.53it/s]\n",
      "Cleaning rain: 100%|██████████| 12/12 [00:00<00:00, 103350.41it/s]\n"
     ]
    },
    {
     "name": "stdout",
     "output_type": "stream",
     "text": [
      "Stationday 596 KMLB20011204\n"
     ]
    },
    {
     "name": "stderr",
     "output_type": "stream",
     "text": [
      "Tracking: 100%|██████████| 2/2 [00:00<00:00, 16611.10it/s]\n",
      "Cleaning windfarm: 0it [00:00, ?it/s]\n",
      "Cleaning rain: 0it [00:00, ?it/s]\n"
     ]
    },
    {
     "name": "stdout",
     "output_type": "stream",
     "text": [
      "Stationday 597 KMLB20011206\n"
     ]
    },
    {
     "name": "stderr",
     "output_type": "stream",
     "text": [
      "Tracking: 100%|██████████| 22/22 [00:00<00:00, 481.58it/s]\n",
      "Cleaning windfarm: 100%|██████████| 14/14 [00:04<00:00,  3.45it/s]\n",
      "Cleaning rain: 100%|██████████| 14/14 [00:00<00:00, 91893.98it/s]\n"
     ]
    },
    {
     "name": "stdout",
     "output_type": "stream",
     "text": [
      "Stationday 598 KMLB20011223\n"
     ]
    },
    {
     "name": "stderr",
     "output_type": "stream",
     "text": [
      "Tracking: 100%|██████████| 9/9 [00:00<00:00, 1226.52it/s]\n",
      "Cleaning windfarm: 100%|██████████| 6/6 [00:00<00:00,  8.83it/s]\n",
      "Cleaning rain: 100%|██████████| 6/6 [00:00<00:00, 69711.42it/s]\n"
     ]
    },
    {
     "name": "stdout",
     "output_type": "stream",
     "text": [
      "Stationday 599 KMLB20020117\n"
     ]
    },
    {
     "name": "stderr",
     "output_type": "stream",
     "text": [
      "Tracking: 100%|██████████| 7/7 [00:00<00:00, 863.23it/s]\n",
      "Cleaning windfarm: 100%|██████████| 10/10 [00:00<00:00, 15.71it/s]\n",
      "Cleaning rain: 100%|██████████| 10/10 [00:00<00:00, 57614.07it/s]\n"
     ]
    },
    {
     "name": "stdout",
     "output_type": "stream",
     "text": [
      "Stationday 600 KMLB20020119\n"
     ]
    },
    {
     "name": "stderr",
     "output_type": "stream",
     "text": [
      "Tracking: 100%|██████████| 7/7 [00:00<00:00, 665.51it/s]\n",
      "Cleaning windfarm: 100%|██████████| 11/11 [00:02<00:00,  4.08it/s]\n",
      "Cleaning rain: 100%|██████████| 11/11 [00:00<00:00, 62096.02it/s]\n"
     ]
    },
    {
     "name": "stdout",
     "output_type": "stream",
     "text": [
      "Stationday 601 KMLB20020124\n"
     ]
    },
    {
     "name": "stderr",
     "output_type": "stream",
     "text": [
      "Tracking: 100%|██████████| 10/10 [00:00<00:00, 791.60it/s]\n",
      "Cleaning windfarm: 100%|██████████| 10/10 [00:01<00:00,  7.71it/s]\n",
      "Cleaning rain: 100%|██████████| 10/10 [00:00<00:00, 93000.09it/s]\n"
     ]
    },
    {
     "name": "stdout",
     "output_type": "stream",
     "text": [
      "Stationday 602 KMLB20020130\n"
     ]
    },
    {
     "name": "stderr",
     "output_type": "stream",
     "text": [
      "Tracking: 100%|██████████| 9/9 [00:00<00:00, 703.11it/s]\n",
      "Cleaning windfarm: 100%|██████████| 11/11 [00:03<00:00,  2.79it/s]\n",
      "Cleaning rain: 100%|██████████| 11/11 [00:00<00:00, 100517.09it/s]\n"
     ]
    },
    {
     "name": "stdout",
     "output_type": "stream",
     "text": [
      "Stationday 603 KMLB20020201\n"
     ]
    },
    {
     "name": "stderr",
     "output_type": "stream",
     "text": [
      "Tracking: 100%|██████████| 17/17 [00:00<00:00, 733.23it/s]\n",
      "Cleaning windfarm: 100%|██████████| 14/14 [00:02<00:00,  5.14it/s]\n",
      "Cleaning rain: 100%|██████████| 14/14 [00:00<00:00, 93652.72it/s]\n"
     ]
    },
    {
     "name": "stdout",
     "output_type": "stream",
     "text": [
      "Stationday 604 KMLB20020202\n"
     ]
    },
    {
     "name": "stderr",
     "output_type": "stream",
     "text": [
      "Tracking: 100%|██████████| 21/21 [00:00<00:00, 459.39it/s]\n",
      "Cleaning windfarm: 100%|██████████| 12/12 [00:01<00:00,  6.00it/s]\n",
      "Cleaning rain: 100%|██████████| 12/12 [00:00<00:00, 69136.88it/s]\n"
     ]
    },
    {
     "name": "stdout",
     "output_type": "stream",
     "text": [
      "Stationday 605 KMLB20020209\n"
     ]
    },
    {
     "name": "stderr",
     "output_type": "stream",
     "text": [
      "Tracking: 100%|██████████| 8/8 [00:00<00:00, 1825.20it/s]\n",
      "Cleaning windfarm: 100%|██████████| 5/5 [00:00<00:00, 33288.13it/s]\n",
      "Cleaning rain: 100%|██████████| 5/5 [00:00<00:00, 56527.01it/s]\n"
     ]
    },
    {
     "name": "stdout",
     "output_type": "stream",
     "text": [
      "Stationday 606 KMLB20020220\n"
     ]
    },
    {
     "name": "stderr",
     "output_type": "stream",
     "text": [
      "Tracking: 100%|██████████| 8/8 [00:00<00:00, 1187.94it/s]\n",
      "Cleaning windfarm: 100%|██████████| 6/6 [00:00<00:00,  7.40it/s]\n",
      "Cleaning rain: 100%|██████████| 6/6 [00:00<00:00, 31976.90it/s]\n"
     ]
    },
    {
     "name": "stdout",
     "output_type": "stream",
     "text": [
      "Stationday 607 KMLB20020316\n"
     ]
    },
    {
     "name": "stderr",
     "output_type": "stream",
     "text": [
      "Tracking: 100%|██████████| 9/9 [00:00<00:00, 331.65it/s]\n",
      "Cleaning windfarm: 100%|██████████| 10/10 [00:03<00:00,  2.91it/s]\n",
      "Cleaning rain: 100%|██████████| 10/10 [00:00<00:00, 91379.17it/s]\n"
     ]
    },
    {
     "name": "stdout",
     "output_type": "stream",
     "text": [
      "Stationday 608 KMLB20020405\n"
     ]
    },
    {
     "name": "stderr",
     "output_type": "stream",
     "text": [
      "Tracking: 100%|██████████| 13/13 [00:00<00:00, 1513.22it/s]\n",
      "Cleaning windfarm: 100%|██████████| 4/4 [00:00<00:00,  5.95it/s]\n",
      "Cleaning rain: 100%|██████████| 4/4 [00:00<00:00, 56111.09it/s]\n"
     ]
    },
    {
     "name": "stdout",
     "output_type": "stream",
     "text": [
      "Stationday 609 KMLB20020408\n"
     ]
    },
    {
     "name": "stderr",
     "output_type": "stream",
     "text": [
      "Tracking: 100%|██████████| 9/9 [00:00<00:00, 1731.75it/s]\n",
      "Cleaning windfarm: 100%|██████████| 2/2 [00:01<00:00,  1.55it/s]\n",
      "Cleaning rain: 100%|██████████| 2/2 [00:00<00:00, 26715.31it/s]\n"
     ]
    },
    {
     "name": "stdout",
     "output_type": "stream",
     "text": [
      "Stationday 610 KMLB20020416\n"
     ]
    },
    {
     "name": "stderr",
     "output_type": "stream",
     "text": [
      "Tracking: 100%|██████████| 16/16 [00:00<00:00, 1053.55it/s]\n",
      "Cleaning windfarm: 100%|██████████| 6/6 [00:01<00:00,  3.10it/s]\n",
      "Cleaning rain: 100%|██████████| 6/6 [00:00<00:00, 39199.10it/s]\n"
     ]
    },
    {
     "name": "stdout",
     "output_type": "stream",
     "text": [
      "Stationday 611 KMLB20020422\n"
     ]
    },
    {
     "name": "stderr",
     "output_type": "stream",
     "text": [
      "Tracking: 100%|██████████| 9/9 [00:00<00:00, 814.32it/s]\n",
      "Cleaning windfarm: 100%|██████████| 10/10 [00:00<00:00, 15.39it/s]\n",
      "Cleaning rain: 100%|██████████| 10/10 [00:00<00:00, 86838.59it/s]\n"
     ]
    },
    {
     "name": "stdout",
     "output_type": "stream",
     "text": [
      "Stationday 612 KMLB20021111\n"
     ]
    },
    {
     "name": "stderr",
     "output_type": "stream",
     "text": [
      "Tracking: 100%|██████████| 11/11 [00:00<00:00, 1598.66it/s]\n",
      "Cleaning windfarm: 100%|██████████| 9/9 [00:00<00:00, 49280.33it/s]\n",
      "Cleaning rain: 100%|██████████| 9/9 [00:00<00:00, 82964.25it/s]\n"
     ]
    },
    {
     "name": "stdout",
     "output_type": "stream",
     "text": [
      "Stationday 613 KMLB20021120\n"
     ]
    },
    {
     "name": "stderr",
     "output_type": "stream",
     "text": [
      "Tracking: 100%|██████████| 8/8 [00:00<00:00, 1327.36it/s]\n",
      "Cleaning windfarm: 100%|██████████| 9/9 [00:00<00:00, 49734.83it/s]\n",
      "Cleaning rain: 100%|██████████| 9/9 [00:00<00:00, 52356.08it/s]\n"
     ]
    },
    {
     "name": "stdout",
     "output_type": "stream",
     "text": [
      "Stationday 614 KMLB20021129\n"
     ]
    },
    {
     "name": "stderr",
     "output_type": "stream",
     "text": [
      "Tracking: 100%|██████████| 11/11 [00:00<00:00, 1978.11it/s]\n",
      "Cleaning windfarm: 100%|██████████| 5/5 [00:01<00:00,  3.77it/s]\n",
      "Cleaning rain: 100%|██████████| 5/5 [00:00<00:00, 50533.78it/s]\n"
     ]
    },
    {
     "name": "stdout",
     "output_type": "stream",
     "text": [
      "Stationday 615 KMLB20021219\n"
     ]
    },
    {
     "name": "stderr",
     "output_type": "stream",
     "text": [
      "Tracking: 100%|██████████| 23/23 [00:00<00:00, 1260.44it/s]\n",
      "Cleaning windfarm: 100%|██████████| 8/8 [00:01<00:00,  4.08it/s]\n",
      "Cleaning rain: 100%|██████████| 8/8 [00:00<00:00, 63072.24it/s]\n"
     ]
    },
    {
     "name": "stdout",
     "output_type": "stream",
     "text": [
      "Stationday 616 KMLB20030112\n"
     ]
    },
    {
     "name": "stderr",
     "output_type": "stream",
     "text": [
      "Tracking: 100%|██████████| 12/12 [00:00<00:00, 1097.53it/s]\n",
      "Cleaning windfarm: 100%|██████████| 10/10 [00:01<00:00,  7.28it/s]\n",
      "Cleaning rain: 100%|██████████| 10/10 [00:00<00:00, 85773.09it/s]\n"
     ]
    },
    {
     "name": "stdout",
     "output_type": "stream",
     "text": [
      "Stationday 617 KMLB20030119\n"
     ]
    },
    {
     "name": "stderr",
     "output_type": "stream",
     "text": [
      "Tracking: 100%|██████████| 11/11 [00:00<00:00, 1027.08it/s]\n",
      "Cleaning windfarm: 100%|██████████| 11/11 [00:00<00:00, 14.64it/s]\n",
      "Cleaning rain: 100%|██████████| 11/11 [00:00<00:00, 61763.51it/s]\n"
     ]
    },
    {
     "name": "stdout",
     "output_type": "stream",
     "text": [
      "Stationday 618 KMLB20030128\n"
     ]
    },
    {
     "name": "stderr",
     "output_type": "stream",
     "text": [
      "Tracking: 100%|██████████| 11/11 [00:00<00:00, 881.98it/s]\n",
      "Cleaning windfarm: 100%|██████████| 6/6 [00:01<00:00,  3.03it/s]\n",
      "Cleaning rain: 100%|██████████| 6/6 [00:00<00:00, 67468.70it/s]\n"
     ]
    },
    {
     "name": "stdout",
     "output_type": "stream",
     "text": [
      "Stationday 619 KMLB20030216\n"
     ]
    },
    {
     "name": "stderr",
     "output_type": "stream",
     "text": [
      "Tracking: 100%|██████████| 11/11 [00:00<00:00, 1725.92it/s]\n",
      "Cleaning windfarm: 100%|██████████| 6/6 [00:00<00:00,  8.88it/s]\n",
      "Cleaning rain: 100%|██████████| 6/6 [00:00<00:00, 70492.50it/s]\n"
     ]
    },
    {
     "name": "stdout",
     "output_type": "stream",
     "text": [
      "Stationday 620 KMLB20030218\n"
     ]
    },
    {
     "name": "stderr",
     "output_type": "stream",
     "text": [
      "Tracking: 100%|██████████| 11/11 [00:00<00:00, 3399.70it/s]\n",
      "Cleaning windfarm: 100%|██████████| 4/4 [00:00<00:00, 31068.92it/s]\n",
      "Cleaning rain: 100%|██████████| 4/4 [00:00<00:00, 50686.45it/s]\n"
     ]
    },
    {
     "name": "stdout",
     "output_type": "stream",
     "text": [
      "Stationday 621 KMLB20030303\n"
     ]
    },
    {
     "name": "stderr",
     "output_type": "stream",
     "text": [
      "Tracking: 100%|██████████| 20/20 [00:00<00:00, 2571.93it/s]\n",
      "Cleaning windfarm: 100%|██████████| 9/9 [00:00<00:00, 44885.54it/s]\n",
      "Cleaning rain: 100%|██████████| 9/9 [00:00<00:00, 45700.65it/s]\n"
     ]
    },
    {
     "name": "stdout",
     "output_type": "stream",
     "text": [
      "Stationday 622 KMLB20030305\n"
     ]
    },
    {
     "name": "stderr",
     "output_type": "stream",
     "text": [
      "Tracking: 100%|██████████| 9/9 [00:00<00:00, 1639.04it/s]\n",
      "Cleaning windfarm: 100%|██████████| 7/7 [00:01<00:00,  5.37it/s]\n",
      "Cleaning rain: 100%|██████████| 7/7 [00:00<00:00, 28954.76it/s]\n"
     ]
    },
    {
     "name": "stdout",
     "output_type": "stream",
     "text": [
      "Stationday 623 KMLB20030306\n"
     ]
    },
    {
     "name": "stderr",
     "output_type": "stream",
     "text": [
      "Tracking: 100%|██████████| 11/11 [00:00<00:00, 815.64it/s]\n",
      "Cleaning windfarm: 100%|██████████| 12/12 [00:01<00:00,  9.16it/s]\n",
      "Cleaning rain: 100%|██████████| 12/12 [00:00<00:00, 91846.07it/s]\n"
     ]
    },
    {
     "name": "stdout",
     "output_type": "stream",
     "text": [
      "Stationday 624 KMLB20030309\n"
     ]
    },
    {
     "name": "stderr",
     "output_type": "stream",
     "text": [
      "Tracking: 100%|██████████| 23/23 [00:00<00:00, 1077.32it/s]\n",
      "Cleaning windfarm: 100%|██████████| 13/13 [00:02<00:00,  4.93it/s]\n",
      "Cleaning rain: 100%|██████████| 13/13 [00:00<00:00, 92573.77it/s]\n"
     ]
    },
    {
     "name": "stdout",
     "output_type": "stream",
     "text": [
      "Stationday 625 KMLB20030310\n"
     ]
    },
    {
     "name": "stderr",
     "output_type": "stream",
     "text": [
      "Tracking: 100%|██████████| 12/12 [00:00<00:00, 1840.89it/s]\n",
      "Cleaning windfarm: 100%|██████████| 6/6 [00:01<00:00,  4.89it/s]\n",
      "Cleaning rain: 100%|██████████| 6/6 [00:00<00:00, 69518.85it/s]\n"
     ]
    },
    {
     "name": "stdout",
     "output_type": "stream",
     "text": [
      "Stationday 626 KMLB20030315\n"
     ]
    },
    {
     "name": "stderr",
     "output_type": "stream",
     "text": [
      "Tracking: 100%|██████████| 23/23 [00:00<00:00, 1769.68it/s]\n",
      "Cleaning windfarm: 100%|██████████| 6/6 [00:00<00:00,  9.16it/s]\n",
      "Cleaning rain: 100%|██████████| 6/6 [00:00<00:00, 52869.38it/s]\n"
     ]
    },
    {
     "name": "stdout",
     "output_type": "stream",
     "text": [
      "Stationday 627 KMLB20030317\n"
     ]
    },
    {
     "name": "stderr",
     "output_type": "stream",
     "text": [
      "Tracking: 100%|██████████| 20/20 [00:00<00:00, 811.55it/s]\n",
      "Cleaning windfarm: 100%|██████████| 16/16 [00:03<00:00,  4.95it/s]\n",
      "Cleaning rain: 100%|██████████| 16/16 [00:00<00:00, 103403.49it/s]\n"
     ]
    },
    {
     "name": "stdout",
     "output_type": "stream",
     "text": [
      "Stationday 628 KMLB20030320\n"
     ]
    },
    {
     "name": "stderr",
     "output_type": "stream",
     "text": [
      "Tracking: 100%|██████████| 23/23 [00:00<00:00, 610.20it/s]\n",
      "Cleaning windfarm: 100%|██████████| 12/12 [00:02<00:00,  4.54it/s]\n",
      "Cleaning rain: 100%|██████████| 12/12 [00:00<00:00, 80789.16it/s]\n"
     ]
    },
    {
     "name": "stdout",
     "output_type": "stream",
     "text": [
      "Stationday 629 KMLB20030330\n"
     ]
    },
    {
     "name": "stderr",
     "output_type": "stream",
     "text": [
      "Tracking: 100%|██████████| 11/11 [00:00<00:00, 798.49it/s]\n",
      "Cleaning windfarm: 100%|██████████| 15/15 [00:01<00:00, 11.51it/s]\n",
      "Cleaning rain: 100%|██████████| 15/15 [00:00<00:00, 41066.95it/s]\n"
     ]
    },
    {
     "name": "stdout",
     "output_type": "stream",
     "text": [
      "Stationday 630 KMLB20030502\n"
     ]
    },
    {
     "name": "stderr",
     "output_type": "stream",
     "text": [
      "Tracking: 100%|██████████| 11/11 [00:00<00:00, 513.69it/s]\n",
      "Cleaning windfarm: 100%|██████████| 4/4 [00:01<00:00,  3.01it/s]\n",
      "Cleaning rain: 100%|██████████| 4/4 [00:00<00:00, 20997.77it/s]\n"
     ]
    },
    {
     "name": "stdout",
     "output_type": "stream",
     "text": [
      "Stationday 631 KMLB20030507\n"
     ]
    },
    {
     "name": "stderr",
     "output_type": "stream",
     "text": [
      "Tracking: 100%|██████████| 11/11 [00:00<00:00, 1236.13it/s]\n",
      "Cleaning windfarm: 100%|██████████| 6/6 [00:00<00:00, 26078.57it/s]\n",
      "Cleaning rain: 100%|██████████| 6/6 [00:00<00:00, 56048.61it/s]\n"
     ]
    },
    {
     "name": "stdout",
     "output_type": "stream",
     "text": [
      "Stationday 632 KMLB20031009\n"
     ]
    },
    {
     "name": "stderr",
     "output_type": "stream",
     "text": [
      "Tracking: 100%|██████████| 11/11 [00:00<00:00, 897.96it/s]\n",
      "Cleaning windfarm: 100%|██████████| 11/11 [00:01<00:00,  8.32it/s]\n",
      "Cleaning rain: 100%|██████████| 11/11 [00:00<00:00, 96723.99it/s]\n"
     ]
    },
    {
     "name": "stdout",
     "output_type": "stream",
     "text": [
      "Stationday 633 KMLB20031018\n"
     ]
    },
    {
     "name": "stderr",
     "output_type": "stream",
     "text": [
      "Tracking: 100%|██████████| 12/12 [00:00<00:00, 1050.48it/s]\n",
      "Cleaning windfarm: 100%|██████████| 11/11 [00:01<00:00,  7.19it/s]\n",
      "Cleaning rain: 100%|██████████| 11/11 [00:00<00:00, 95919.63it/s]\n"
     ]
    },
    {
     "name": "stdout",
     "output_type": "stream",
     "text": [
      "Stationday 634 KMLB20031020\n"
     ]
    },
    {
     "name": "stderr",
     "output_type": "stream",
     "text": [
      "Tracking: 100%|██████████| 23/23 [00:00<00:00, 1182.93it/s]\n",
      "Cleaning windfarm: 100%|██████████| 3/3 [00:01<00:00,  2.22it/s]\n",
      "Cleaning rain: 100%|██████████| 3/3 [00:00<00:00, 27900.03it/s]\n"
     ]
    },
    {
     "name": "stdout",
     "output_type": "stream",
     "text": [
      "Stationday 635 KMLB20031103\n"
     ]
    },
    {
     "name": "stderr",
     "output_type": "stream",
     "text": [
      "Tracking: 100%|██████████| 23/23 [00:00<00:00, 674.60it/s]\n",
      "Cleaning windfarm: 100%|██████████| 24/24 [00:01<00:00, 12.06it/s]\n",
      "Cleaning rain: 100%|██████████| 24/24 [00:00<00:00, 111600.11it/s]\n"
     ]
    },
    {
     "name": "stdout",
     "output_type": "stream",
     "text": [
      "Stationday 636 KMLB20031104\n"
     ]
    },
    {
     "name": "stderr",
     "output_type": "stream",
     "text": [
      "Tracking: 100%|██████████| 23/23 [00:00<00:00, 1201.13it/s]\n",
      "Cleaning windfarm: 100%|██████████| 12/12 [00:01<00:00,  6.27it/s]\n",
      "Cleaning rain: 100%|██████████| 12/12 [00:00<00:00, 69711.42it/s]\n"
     ]
    },
    {
     "name": "stdout",
     "output_type": "stream",
     "text": [
      "Stationday 637 KMLB20031113\n"
     ]
    },
    {
     "name": "stderr",
     "output_type": "stream",
     "text": [
      "Tracking: 100%|██████████| 11/11 [00:00<00:00, 378.98it/s]\n",
      "Cleaning windfarm: 100%|██████████| 23/23 [00:04<00:00,  4.60it/s]\n",
      "Cleaning rain: 100%|██████████| 23/23 [00:00<00:00, 129141.89it/s]\n"
     ]
    },
    {
     "name": "stdout",
     "output_type": "stream",
     "text": [
      "Stationday 638 KMLB20031114\n"
     ]
    },
    {
     "name": "stderr",
     "output_type": "stream",
     "text": [
      "Tracking: 100%|██████████| 11/11 [00:00<00:00, 942.52it/s]\n",
      "Cleaning windfarm: 100%|██████████| 7/7 [00:01<00:00,  3.54it/s]\n",
      "Cleaning rain: 100%|██████████| 7/7 [00:00<00:00, 79782.96it/s]\n"
     ]
    },
    {
     "name": "stdout",
     "output_type": "stream",
     "text": [
      "Stationday 639 KMLB20031115\n"
     ]
    },
    {
     "name": "stderr",
     "output_type": "stream",
     "text": [
      "Tracking: 100%|██████████| 11/11 [00:00<00:00, 804.40it/s]\n",
      "Cleaning windfarm: 100%|██████████| 6/6 [00:02<00:00,  2.25it/s]\n",
      "Cleaning rain: 100%|██████████| 6/6 [00:00<00:00, 66752.85it/s]\n"
     ]
    },
    {
     "name": "stdout",
     "output_type": "stream",
     "text": [
      "Stationday 640 KMLB20031116\n"
     ]
    },
    {
     "name": "stderr",
     "output_type": "stream",
     "text": [
      "Tracking: 100%|██████████| 11/11 [00:00<00:00, 2031.41it/s]\n",
      "Cleaning windfarm: 100%|██████████| 3/3 [00:01<00:00,  2.19it/s]\n",
      "Cleaning rain: 100%|██████████| 3/3 [00:00<00:00, 37227.55it/s]\n"
     ]
    },
    {
     "name": "stdout",
     "output_type": "stream",
     "text": [
      "Stationday 641 KMLB20031122\n"
     ]
    },
    {
     "name": "stderr",
     "output_type": "stream",
     "text": [
      "Tracking: 100%|██████████| 11/11 [00:00<00:00, 387.70it/s]\n",
      "Cleaning windfarm: 100%|██████████| 21/21 [00:05<00:00,  3.64it/s]\n",
      "Cleaning rain: 100%|██████████| 21/21 [00:00<00:00, 126189.66it/s]\n"
     ]
    },
    {
     "name": "stdout",
     "output_type": "stream",
     "text": [
      "Stationday 642 KMLB20031128\n"
     ]
    },
    {
     "name": "stderr",
     "output_type": "stream",
     "text": [
      "Tracking: 100%|██████████| 23/23 [00:00<00:00, 326.41it/s]\n",
      "Cleaning windfarm: 100%|██████████| 20/20 [00:06<00:00,  3.06it/s]\n",
      "Cleaning rain: 100%|██████████| 20/20 [00:00<00:00, 94572.81it/s]\n"
     ]
    },
    {
     "name": "stdout",
     "output_type": "stream",
     "text": [
      "Stationday 643 KMLB20031202\n"
     ]
    },
    {
     "name": "stderr",
     "output_type": "stream",
     "text": [
      "Tracking: 100%|██████████| 11/11 [00:00<00:00, 3274.71it/s]\n",
      "Cleaning windfarm: 100%|██████████| 3/3 [00:00<00:00, 26159.90it/s]\n",
      "Cleaning rain: 100%|██████████| 3/3 [00:00<00:00, 32017.59it/s]\n"
     ]
    },
    {
     "name": "stdout",
     "output_type": "stream",
     "text": [
      "Stationday 644 KMLB20031204\n"
     ]
    },
    {
     "name": "stderr",
     "output_type": "stream",
     "text": [
      "Tracking: 100%|██████████| 23/23 [00:00<00:00, 875.88it/s]\n",
      "Cleaning windfarm: 100%|██████████| 12/12 [00:02<00:00,  4.69it/s]\n",
      "Cleaning rain: 100%|██████████| 12/12 [00:00<00:00, 70690.52it/s]\n"
     ]
    },
    {
     "name": "stdout",
     "output_type": "stream",
     "text": [
      "Stationday 645 KMLB20031206\n"
     ]
    },
    {
     "name": "stderr",
     "output_type": "stream",
     "text": [
      "Tracking: 100%|██████████| 12/12 [00:00<00:00, 2343.40it/s]\n",
      "Cleaning windfarm: 100%|██████████| 7/7 [00:00<00:00, 10.11it/s]\n",
      "Cleaning rain: 100%|██████████| 7/7 [00:00<00:00, 69082.65it/s]\n"
     ]
    },
    {
     "name": "stdout",
     "output_type": "stream",
     "text": [
      "Stationday 646 KMLB20031213\n"
     ]
    },
    {
     "name": "stderr",
     "output_type": "stream",
     "text": [
      "Tracking: 100%|██████████| 11/11 [00:00<00:00, 604.27it/s]\n",
      "Cleaning windfarm: 100%|██████████| 16/16 [00:04<00:00,  3.48it/s]\n",
      "Cleaning rain: 100%|██████████| 16/16 [00:00<00:00, 116914.40it/s]\n"
     ]
    },
    {
     "name": "stdout",
     "output_type": "stream",
     "text": [
      "Stationday 647 KMLB20031216\n"
     ]
    },
    {
     "name": "stderr",
     "output_type": "stream",
     "text": [
      "Tracking: 100%|██████████| 11/11 [00:00<00:00, 1198.37it/s]\n",
      "Cleaning windfarm: 100%|██████████| 6/6 [00:01<00:00,  4.78it/s]\n",
      "Cleaning rain: 100%|██████████| 6/6 [00:00<00:00, 29026.33it/s]\n"
     ]
    },
    {
     "name": "stdout",
     "output_type": "stream",
     "text": [
      "Stationday 648 KMLB20031224\n"
     ]
    },
    {
     "name": "stderr",
     "output_type": "stream",
     "text": [
      "Tracking: 100%|██████████| 23/23 [00:00<00:00, 739.76it/s]\n",
      "Cleaning windfarm: 100%|██████████| 6/6 [00:02<00:00,  2.17it/s]\n",
      "Cleaning rain: 100%|██████████| 6/6 [00:00<00:00, 59213.70it/s]\n"
     ]
    },
    {
     "name": "stdout",
     "output_type": "stream",
     "text": [
      "Stationday 649 KMLB20031228\n"
     ]
    },
    {
     "name": "stderr",
     "output_type": "stream",
     "text": [
      "Tracking: 100%|██████████| 12/12 [00:00<00:00, 1424.25it/s]\n",
      "Cleaning windfarm: 100%|██████████| 6/6 [00:01<00:00,  5.00it/s]\n",
      "Cleaning rain: 100%|██████████| 6/6 [00:00<00:00, 30467.10it/s]\n"
     ]
    },
    {
     "name": "stdout",
     "output_type": "stream",
     "text": [
      "Stationday 650 KMLB20040104\n"
     ]
    },
    {
     "name": "stderr",
     "output_type": "stream",
     "text": [
      "Tracking: 100%|██████████| 12/12 [00:00<00:00, 414.20it/s]\n",
      "Cleaning windfarm: 100%|██████████| 16/16 [00:01<00:00, 10.52it/s]\n",
      "Cleaning rain: 100%|██████████| 16/16 [00:00<00:00, 51821.52it/s]\n"
     ]
    },
    {
     "name": "stdout",
     "output_type": "stream",
     "text": [
      "Stationday 651 KMLB20040106\n"
     ]
    },
    {
     "name": "stderr",
     "output_type": "stream",
     "text": [
      "Tracking: 100%|██████████| 11/11 [00:00<00:00, 256.92it/s]\n",
      "Cleaning windfarm: 100%|██████████| 17/17 [00:02<00:00,  6.28it/s]\n",
      "Cleaning rain: 100%|██████████| 17/17 [00:00<00:00, 101282.91it/s]\n"
     ]
    },
    {
     "name": "stdout",
     "output_type": "stream",
     "text": [
      "Stationday 652 KMLB20040117\n"
     ]
    },
    {
     "name": "stderr",
     "output_type": "stream",
     "text": [
      "Tracking: 100%|██████████| 12/12 [00:00<00:00, 1180.25it/s]\n",
      "Cleaning windfarm: 100%|██████████| 6/6 [00:02<00:00,  2.22it/s]\n",
      "Cleaning rain: 100%|██████████| 6/6 [00:00<00:00, 67832.41it/s]\n"
     ]
    },
    {
     "name": "stdout",
     "output_type": "stream",
     "text": [
      "Stationday 653 KMLB20040121\n"
     ]
    },
    {
     "name": "stderr",
     "output_type": "stream",
     "text": [
      "Tracking: 100%|██████████| 11/11 [00:00<00:00, 1322.06it/s]\n",
      "Cleaning windfarm: 100%|██████████| 9/9 [00:01<00:00,  7.36it/s]\n",
      "Cleaning rain: 100%|██████████| 9/9 [00:00<00:00, 86579.67it/s]\n"
     ]
    },
    {
     "name": "stdout",
     "output_type": "stream",
     "text": [
      "Stationday 654 KMLB20040130\n"
     ]
    },
    {
     "name": "stderr",
     "output_type": "stream",
     "text": [
      "Tracking: 100%|██████████| 12/12 [00:00<00:00, 1038.47it/s]\n",
      "Cleaning windfarm: 100%|██████████| 9/9 [00:02<00:00,  4.39it/s]\n",
      "Cleaning rain: 100%|██████████| 9/9 [00:00<00:00, 86778.70it/s]\n"
     ]
    },
    {
     "name": "stdout",
     "output_type": "stream",
     "text": [
      "Stationday 655 KMLB20040210\n"
     ]
    },
    {
     "name": "stderr",
     "output_type": "stream",
     "text": [
      "Tracking: 100%|██████████| 11/11 [00:00<00:00, 1000.85it/s]\n",
      "Cleaning windfarm: 100%|██████████| 9/9 [00:02<00:00,  3.41it/s]\n",
      "Cleaning rain: 100%|██████████| 9/9 [00:00<00:00, 89240.51it/s]\n"
     ]
    },
    {
     "name": "stdout",
     "output_type": "stream",
     "text": [
      "Stationday 656 KMLB20040211\n"
     ]
    },
    {
     "name": "stderr",
     "output_type": "stream",
     "text": [
      "Tracking: 100%|██████████| 21/21 [00:00<00:00, 721.74it/s]\n",
      "Cleaning windfarm: 100%|██████████| 15/15 [00:03<00:00,  4.87it/s]\n",
      "Cleaning rain: 100%|██████████| 15/15 [00:00<00:00, 86659.17it/s]\n"
     ]
    },
    {
     "name": "stdout",
     "output_type": "stream",
     "text": [
      "Stationday 657 KMLB20040305\n"
     ]
    },
    {
     "name": "stderr",
     "output_type": "stream",
     "text": [
      "Tracking: 100%|██████████| 12/12 [00:00<00:00, 3237.59it/s]\n",
      "Cleaning windfarm: 100%|██████████| 4/4 [00:00<00:00,  5.89it/s]\n",
      "Cleaning rain: 100%|██████████| 4/4 [00:00<00:00, 18914.56it/s]\n"
     ]
    },
    {
     "name": "stdout",
     "output_type": "stream",
     "text": [
      "Stationday 658 KMLB20040323\n"
     ]
    },
    {
     "name": "stderr",
     "output_type": "stream",
     "text": [
      "Tracking: 100%|██████████| 11/11 [00:00<00:00, 1458.98it/s]\n",
      "Cleaning windfarm: 100%|██████████| 5/5 [00:00<00:00,  6.69it/s]\n",
      "Cleaning rain: 100%|██████████| 5/5 [00:00<00:00, 26181.67it/s]\n"
     ]
    },
    {
     "name": "stdout",
     "output_type": "stream",
     "text": [
      "Stationday 659 KMLB20040324\n"
     ]
    },
    {
     "name": "stderr",
     "output_type": "stream",
     "text": [
      "Tracking: 100%|██████████| 23/23 [00:00<00:00, 697.93it/s]\n",
      "Cleaning windfarm: 100%|██████████| 15/15 [00:01<00:00,  7.70it/s]\n",
      "Cleaning rain: 100%|██████████| 15/15 [00:00<00:00, 89367.27it/s]\n"
     ]
    },
    {
     "name": "stdout",
     "output_type": "stream",
     "text": [
      "Stationday 660 KMLB20040406\n"
     ]
    },
    {
     "name": "stderr",
     "output_type": "stream",
     "text": [
      "Tracking: 100%|██████████| 12/12 [00:00<00:00, 506.11it/s]\n",
      "Cleaning windfarm: 100%|██████████| 13/13 [00:05<00:00,  2.56it/s]\n",
      "Cleaning rain: 100%|██████████| 13/13 [00:00<00:00, 100416.12it/s]\n"
     ]
    },
    {
     "name": "stdout",
     "output_type": "stream",
     "text": [
      "Stationday 661 KMLB20041128\n"
     ]
    },
    {
     "name": "stderr",
     "output_type": "stream",
     "text": [
      "Tracking: 100%|██████████| 11/11 [00:00<00:00, 1723.79it/s]\n",
      "Cleaning windfarm: 100%|██████████| 6/6 [00:01<00:00,  3.02it/s]\n",
      "Cleaning rain: 100%|██████████| 6/6 [00:00<00:00, 66752.85it/s]\n"
     ]
    },
    {
     "name": "stdout",
     "output_type": "stream",
     "text": [
      "Stationday 662 KMLB20041203\n"
     ]
    },
    {
     "name": "stderr",
     "output_type": "stream",
     "text": [
      "Tracking: 100%|██████████| 11/11 [00:00<00:00, 1147.87it/s]\n",
      "Cleaning windfarm: 100%|██████████| 11/11 [00:00<00:00, 55788.81it/s]\n",
      "Cleaning rain: 100%|██████████| 11/11 [00:00<00:00, 85124.25it/s]\n"
     ]
    },
    {
     "name": "stdout",
     "output_type": "stream",
     "text": [
      "Stationday 663 KMLB20041209\n"
     ]
    },
    {
     "name": "stderr",
     "output_type": "stream",
     "text": [
      "Tracking: 100%|██████████| 20/20 [00:00<00:00, 672.19it/s]\n",
      "Cleaning windfarm: 100%|██████████| 18/18 [00:03<00:00,  5.72it/s]\n",
      "Cleaning rain: 100%|██████████| 18/18 [00:00<00:00, 95445.60it/s]\n"
     ]
    },
    {
     "name": "stdout",
     "output_type": "stream",
     "text": [
      "Stationday 664 KMLB20041210\n"
     ]
    },
    {
     "name": "stderr",
     "output_type": "stream",
     "text": [
      "Tracking: 100%|██████████| 23/23 [00:00<00:00, 1709.53it/s]\n",
      "Cleaning windfarm: 100%|██████████| 5/5 [00:01<00:00,  3.84it/s]\n",
      "Cleaning rain: 100%|██████████| 5/5 [00:00<00:00, 56833.39it/s]\n"
     ]
    },
    {
     "name": "stdout",
     "output_type": "stream",
     "text": [
      "Stationday 665 KMLB20050103\n"
     ]
    },
    {
     "name": "stderr",
     "output_type": "stream",
     "text": [
      "Tracking: 100%|██████████| 12/12 [00:00<00:00, 578.97it/s]\n",
      "Cleaning windfarm: 100%|██████████| 17/17 [00:00<00:00, 25.96it/s]\n",
      "Cleaning rain: 100%|██████████| 17/17 [00:00<00:00, 114085.07it/s]\n"
     ]
    },
    {
     "name": "stdout",
     "output_type": "stream",
     "text": [
      "Stationday 666 KMLB20050108\n"
     ]
    },
    {
     "name": "stderr",
     "output_type": "stream",
     "text": [
      "Tracking: 100%|██████████| 11/11 [00:00<00:00, 877.09it/s]\n",
      "Cleaning windfarm: 100%|██████████| 12/12 [00:01<00:00,  9.03it/s]\n",
      "Cleaning rain: 100%|██████████| 12/12 [00:00<00:00, 101475.10it/s]\n"
     ]
    },
    {
     "name": "stdout",
     "output_type": "stream",
     "text": [
      "Stationday 667 KMLB20050210\n"
     ]
    },
    {
     "name": "stderr",
     "output_type": "stream",
     "text": [
      "Tracking: 100%|██████████| 20/20 [00:00<00:00, 626.24it/s]\n",
      "Cleaning windfarm: 100%|██████████| 16/16 [00:04<00:00,  3.97it/s]\n",
      "Cleaning rain: 100%|██████████| 16/16 [00:00<00:00, 72160.07it/s]\n"
     ]
    },
    {
     "name": "stdout",
     "output_type": "stream",
     "text": [
      "Stationday 668 KMLB20050212\n"
     ]
    },
    {
     "name": "stderr",
     "output_type": "stream",
     "text": [
      "Tracking: 100%|██████████| 11/11 [00:00<00:00, 1603.16it/s]\n",
      "Cleaning windfarm: 100%|██████████| 9/9 [00:00<00:00, 49344.75it/s]\n",
      "Cleaning rain: 100%|██████████| 9/9 [00:00<00:00, 80487.71it/s]\n"
     ]
    },
    {
     "name": "stdout",
     "output_type": "stream",
     "text": [
      "Stationday 669 KMLB20050217\n"
     ]
    },
    {
     "name": "stderr",
     "output_type": "stream",
     "text": [
      "Tracking: 100%|██████████| 12/12 [00:00<00:00, 1866.42it/s]\n",
      "Cleaning windfarm: 100%|██████████| 4/4 [00:00<00:00,  4.89it/s]\n",
      "Cleaning rain: 100%|██████████| 4/4 [00:00<00:00, 21317.94it/s]\n"
     ]
    },
    {
     "name": "stdout",
     "output_type": "stream",
     "text": [
      "Stationday 670 KMLB20050308\n"
     ]
    },
    {
     "name": "stderr",
     "output_type": "stream",
     "text": [
      "Tracking: 100%|██████████| 23/23 [00:00<00:00, 1396.66it/s]\n",
      "Cleaning windfarm: 100%|██████████| 8/8 [00:01<00:00,  6.10it/s]\n",
      "Cleaning rain: 100%|██████████| 8/8 [00:00<00:00, 71392.41it/s]\n"
     ]
    },
    {
     "name": "stdout",
     "output_type": "stream",
     "text": [
      "Stationday 671 KMLB20050309\n"
     ]
    },
    {
     "name": "stderr",
     "output_type": "stream",
     "text": [
      "Tracking: 100%|██████████| 20/20 [00:00<00:00, 2920.82it/s]\n",
      "Cleaning windfarm: 100%|██████████| 7/7 [00:00<00:00, 40665.00it/s]\n",
      "Cleaning rain: 100%|██████████| 7/7 [00:00<00:00, 53576.88it/s]\n"
     ]
    },
    {
     "name": "stdout",
     "output_type": "stream",
     "text": [
      "Stationday 672 KMLB20050315\n"
     ]
    },
    {
     "name": "stderr",
     "output_type": "stream",
     "text": [
      "Tracking: 100%|██████████| 11/11 [00:00<00:00, 1676.62it/s]\n",
      "Cleaning windfarm: 100%|██████████| 6/6 [00:00<00:00, 40655.61it/s]\n",
      "Cleaning rain: 100%|██████████| 6/6 [00:00<00:00, 66400.59it/s]\n"
     ]
    },
    {
     "name": "stdout",
     "output_type": "stream",
     "text": [
      "Stationday 673 KMLB20050316\n"
     ]
    },
    {
     "name": "stderr",
     "output_type": "stream",
     "text": [
      "Tracking: 100%|██████████| 23/23 [00:00<00:00, 783.26it/s]\n",
      "Cleaning windfarm: 100%|██████████| 11/11 [00:02<00:00,  4.17it/s]\n",
      "Cleaning rain: 100%|██████████| 11/11 [00:00<00:00, 84192.23it/s]\n"
     ]
    },
    {
     "name": "stdout",
     "output_type": "stream",
     "text": [
      "Stationday 674 KMLB20050329\n"
     ]
    },
    {
     "name": "stderr",
     "output_type": "stream",
     "text": [
      "Tracking: 100%|██████████| 11/11 [00:00<00:00, 1157.95it/s]\n",
      "Cleaning windfarm: 100%|██████████| 6/6 [00:00<00:00,  9.83it/s]\n",
      "Cleaning rain: 100%|██████████| 6/6 [00:00<00:00, 61984.79it/s]\n"
     ]
    },
    {
     "name": "stdout",
     "output_type": "stream",
     "text": [
      "Stationday 675 KMLB20050401\n"
     ]
    },
    {
     "name": "stderr",
     "output_type": "stream",
     "text": [
      "Tracking: 100%|██████████| 23/23 [00:00<00:00, 648.93it/s]\n",
      "Cleaning windfarm: 100%|██████████| 17/17 [00:03<00:00,  4.42it/s]\n",
      "Cleaning rain: 100%|██████████| 17/17 [00:00<00:00, 86011.06it/s]\n"
     ]
    },
    {
     "name": "stdout",
     "output_type": "stream",
     "text": [
      "Stationday 676 KMLB20050408\n"
     ]
    },
    {
     "name": "stderr",
     "output_type": "stream",
     "text": [
      "Tracking: 100%|██████████| 23/23 [00:00<00:00, 1153.08it/s]\n",
      "Cleaning windfarm: 100%|██████████| 4/4 [00:01<00:00,  3.21it/s]\n",
      "Cleaning rain: 100%|██████████| 4/4 [00:00<00:00, 21816.93it/s]\n"
     ]
    },
    {
     "name": "stdout",
     "output_type": "stream",
     "text": [
      "Stationday 677 KMLB20050414\n"
     ]
    },
    {
     "name": "stderr",
     "output_type": "stream",
     "text": [
      "Tracking: 100%|██████████| 8/8 [00:00<00:00, 540.45it/s]\n",
      "Cleaning windfarm: 100%|██████████| 18/18 [00:01<00:00,  9.43it/s]\n",
      "Cleaning rain: 100%|██████████| 18/18 [00:00<00:00, 121183.74it/s]\n"
     ]
    },
    {
     "name": "stdout",
     "output_type": "stream",
     "text": [
      "Stationday 678 KMLB20050419\n"
     ]
    },
    {
     "name": "stderr",
     "output_type": "stream",
     "text": [
      "Tracking: 100%|██████████| 9/9 [00:00<00:00, 1701.24it/s]\n",
      "Cleaning windfarm: 100%|██████████| 5/5 [00:01<00:00,  2.57it/s]\n",
      "Cleaning rain: 100%|██████████| 5/5 [00:00<00:00, 65128.94it/s]\n"
     ]
    },
    {
     "name": "stdout",
     "output_type": "stream",
     "text": [
      "Stationday 679 KMLB20050427\n"
     ]
    },
    {
     "name": "stderr",
     "output_type": "stream",
     "text": [
      "Tracking: 100%|██████████| 23/23 [00:00<00:00, 3365.63it/s]\n",
      "Cleaning windfarm: 100%|██████████| 8/8 [00:00<00:00, 12.38it/s]\n",
      "Cleaning rain: 100%|██████████| 8/8 [00:00<00:00, 45466.71it/s]\n"
     ]
    },
    {
     "name": "stdout",
     "output_type": "stream",
     "text": [
      "Stationday 680 KMLB20050429\n"
     ]
    },
    {
     "name": "stderr",
     "output_type": "stream",
     "text": [
      "Tracking: 100%|██████████| 12/12 [00:00<00:00, 2289.15it/s]\n",
      "Cleaning windfarm: 100%|██████████| 2/2 [00:00<00:00,  2.46it/s]\n",
      "Cleaning rain: 100%|██████████| 2/2 [00:00<00:00, 30727.50it/s]\n"
     ]
    },
    {
     "name": "stdout",
     "output_type": "stream",
     "text": [
      "Stationday 681 KMLB20050501\n"
     ]
    },
    {
     "name": "stderr",
     "output_type": "stream",
     "text": [
      "Tracking: 100%|██████████| 23/23 [00:00<00:00, 2223.45it/s]\n",
      "Cleaning windfarm: 100%|██████████| 7/7 [00:00<00:00, 11.48it/s]\n",
      "Cleaning rain: 100%|██████████| 7/7 [00:00<00:00, 51239.32it/s]\n"
     ]
    },
    {
     "name": "stdout",
     "output_type": "stream",
     "text": [
      "Stationday 682 KMLB20050506\n"
     ]
    },
    {
     "name": "stderr",
     "output_type": "stream",
     "text": [
      "Tracking: 100%|██████████| 23/23 [00:00<00:00, 398.39it/s]\n",
      "Cleaning windfarm: 100%|██████████| 13/13 [00:01<00:00,  8.56it/s]\n",
      "Cleaning rain: 100%|██████████| 13/13 [00:00<00:00, 90274.75it/s]\n"
     ]
    },
    {
     "name": "stdout",
     "output_type": "stream",
     "text": [
      "Stationday 683 KMLB20050509\n"
     ]
    },
    {
     "name": "stderr",
     "output_type": "stream",
     "text": [
      "Tracking: 100%|██████████| 12/12 [00:00<00:00, 1712.02it/s]\n",
      "Cleaning windfarm: 100%|██████████| 6/6 [00:00<00:00,  9.99it/s]\n",
      "Cleaning rain: 100%|██████████| 6/6 [00:00<00:00, 61680.94it/s]\n"
     ]
    },
    {
     "name": "stdout",
     "output_type": "stream",
     "text": [
      "Stationday 684 KMLB20050513\n"
     ]
    },
    {
     "name": "stderr",
     "output_type": "stream",
     "text": [
      "Tracking: 100%|██████████| 11/11 [00:00<00:00, 1319.72it/s]\n",
      "Cleaning windfarm: 100%|██████████| 5/5 [00:00<00:00,  7.28it/s]\n",
      "Cleaning rain: 100%|██████████| 5/5 [00:00<00:00, 52167.96it/s]\n"
     ]
    },
    {
     "name": "stdout",
     "output_type": "stream",
     "text": [
      "Stationday 685 KMLB20050517\n"
     ]
    },
    {
     "name": "stderr",
     "output_type": "stream",
     "text": [
      "Tracking: 100%|██████████| 12/12 [00:00<00:00, 1140.74it/s]\n",
      "Cleaning windfarm: 100%|██████████| 5/5 [00:00<00:00,  7.87it/s]\n",
      "Cleaning rain: 100%|██████████| 5/5 [00:00<00:00, 62230.03it/s]\n"
     ]
    },
    {
     "name": "stdout",
     "output_type": "stream",
     "text": [
      "Stationday 686 KMLB20051023\n"
     ]
    },
    {
     "name": "stderr",
     "output_type": "stream",
     "text": [
      "Tracking: 100%|██████████| 23/23 [00:00<00:00, 2528.68it/s]\n",
      "Cleaning windfarm: 100%|██████████| 8/8 [00:01<00:00,  4.01it/s]\n",
      "Cleaning rain: 100%|██████████| 8/8 [00:00<00:00, 82850.45it/s]\n"
     ]
    },
    {
     "name": "stdout",
     "output_type": "stream",
     "text": [
      "Stationday 687 KMLB20051101\n"
     ]
    },
    {
     "name": "stderr",
     "output_type": "stream",
     "text": [
      "Tracking: 100%|██████████| 23/23 [00:00<00:00, 3400.15it/s]\n",
      "Cleaning windfarm: 100%|██████████| 4/4 [00:00<00:00,  6.15it/s]\n",
      "Cleaning rain: 100%|██████████| 4/4 [00:00<00:00, 43018.50it/s]\n"
     ]
    },
    {
     "name": "stdout",
     "output_type": "stream",
     "text": [
      "Stationday 688 KMLB20051102\n"
     ]
    },
    {
     "name": "stderr",
     "output_type": "stream",
     "text": [
      "Tracking: 100%|██████████| 23/23 [00:00<00:00, 3115.12it/s]\n",
      "Cleaning windfarm: 100%|██████████| 7/7 [00:00<00:00, 40440.95it/s]\n",
      "Cleaning rain: 100%|██████████| 7/7 [00:00<00:00, 71262.45it/s]\n"
     ]
    },
    {
     "name": "stdout",
     "output_type": "stream",
     "text": [
      "Stationday 689 KMLB20051103\n"
     ]
    },
    {
     "name": "stderr",
     "output_type": "stream",
     "text": [
      "Tracking: 100%|██████████| 23/23 [00:00<00:00, 2103.46it/s]\n",
      "Cleaning windfarm: 100%|██████████| 11/11 [00:00<00:00, 17.40it/s]\n",
      "Cleaning rain: 100%|██████████| 11/11 [00:00<00:00, 37632.42it/s]\n"
     ]
    },
    {
     "name": "stdout",
     "output_type": "stream",
     "text": [
      "Stationday 690 KMLB20051104\n"
     ]
    },
    {
     "name": "stderr",
     "output_type": "stream",
     "text": [
      "Tracking: 100%|██████████| 11/11 [00:00<00:00, 522.78it/s]\n",
      "Cleaning windfarm: 100%|██████████| 7/7 [00:00<00:00,  9.08it/s]\n",
      "Cleaning rain: 100%|██████████| 7/7 [00:00<00:00, 45308.84it/s]\n"
     ]
    },
    {
     "name": "stdout",
     "output_type": "stream",
     "text": [
      "Stationday 691 KMLB20051107\n"
     ]
    },
    {
     "name": "stderr",
     "output_type": "stream",
     "text": [
      "Tracking: 100%|██████████| 23/23 [00:00<00:00, 915.82it/s]\n",
      "Cleaning windfarm: 100%|██████████| 11/11 [00:02<00:00,  4.04it/s]\n",
      "Cleaning rain: 100%|██████████| 11/11 [00:00<00:00, 73584.28it/s]\n"
     ]
    },
    {
     "name": "stdout",
     "output_type": "stream",
     "text": [
      "Stationday 692 KMLB20051109\n"
     ]
    },
    {
     "name": "stderr",
     "output_type": "stream",
     "text": [
      "Tracking: 100%|██████████| 11/11 [00:00<00:00, 598.81it/s]\n",
      "Cleaning windfarm: 100%|██████████| 19/19 [00:02<00:00,  9.39it/s]\n",
      "Cleaning rain: 100%|██████████| 19/19 [00:00<00:00, 41205.68it/s]\n"
     ]
    },
    {
     "name": "stdout",
     "output_type": "stream",
     "text": [
      "Stationday 693 KMLB20051112\n"
     ]
    },
    {
     "name": "stderr",
     "output_type": "stream",
     "text": [
      "Tracking: 100%|██████████| 15/15 [00:00<00:00, 847.22it/s]\n",
      "Cleaning windfarm: 100%|██████████| 12/12 [00:01<00:00,  9.51it/s]\n",
      "Cleaning rain: 100%|██████████| 12/12 [00:00<00:00, 101067.57it/s]\n"
     ]
    },
    {
     "name": "stdout",
     "output_type": "stream",
     "text": [
      "Stationday 694 KMLB20051116\n"
     ]
    },
    {
     "name": "stderr",
     "output_type": "stream",
     "text": [
      "Tracking: 100%|██████████| 19/19 [00:00<00:00, 1132.63it/s]\n",
      "Cleaning windfarm: 100%|██████████| 8/8 [00:00<00:00, 10.98it/s]\n",
      "Cleaning rain: 100%|██████████| 8/8 [00:00<00:00, 61680.94it/s]\n"
     ]
    },
    {
     "name": "stdout",
     "output_type": "stream",
     "text": [
      "Stationday 695 KMLB20051123\n"
     ]
    },
    {
     "name": "stderr",
     "output_type": "stream",
     "text": [
      "Tracking: 100%|██████████| 11/11 [00:00<00:00, 953.37it/s]\n",
      "Cleaning windfarm: 100%|██████████| 5/5 [00:00<00:00,  6.17it/s]\n",
      "Cleaning rain: 100%|██████████| 5/5 [00:00<00:00, 33770.56it/s]\n"
     ]
    },
    {
     "name": "stdout",
     "output_type": "stream",
     "text": [
      "Stationday 696 KMLB20051127\n"
     ]
    },
    {
     "name": "stderr",
     "output_type": "stream",
     "text": [
      "Tracking: 100%|██████████| 19/19 [00:00<00:00, 1311.76it/s]\n",
      "Cleaning windfarm: 100%|██████████| 10/10 [00:01<00:00,  6.96it/s]\n",
      "Cleaning rain: 100%|██████████| 10/10 [00:00<00:00, 28149.69it/s]\n"
     ]
    },
    {
     "name": "stdout",
     "output_type": "stream",
     "text": [
      "Stationday 697 KMLB20051129\n"
     ]
    },
    {
     "name": "stderr",
     "output_type": "stream",
     "text": [
      "Tracking: 100%|██████████| 23/23 [00:00<00:00, 659.87it/s]\n",
      "Cleaning windfarm: 100%|██████████| 5/5 [00:02<00:00,  2.16it/s]\n",
      "Cleaning rain: 100%|██████████| 5/5 [00:00<00:00, 45100.04it/s]\n"
     ]
    },
    {
     "name": "stdout",
     "output_type": "stream",
     "text": [
      "Stationday 698 KMLB20051130\n"
     ]
    },
    {
     "name": "stderr",
     "output_type": "stream",
     "text": [
      "Tracking: 100%|██████████| 23/23 [00:00<00:00, 280.36it/s]\n",
      "Cleaning windfarm: 100%|██████████| 21/21 [00:07<00:00,  2.89it/s]\n",
      "Cleaning rain: 100%|██████████| 21/21 [00:00<00:00, 93206.76it/s]\n"
     ]
    },
    {
     "name": "stdout",
     "output_type": "stream",
     "text": [
      "Stationday 699 KMLB20051205\n"
     ]
    },
    {
     "name": "stderr",
     "output_type": "stream",
     "text": [
      "Tracking: 100%|██████████| 11/11 [00:00<00:00, 1489.17it/s]\n",
      "Cleaning windfarm: 100%|██████████| 4/4 [00:00<00:00, 27235.74it/s]\n",
      "Cleaning rain: 100%|██████████| 4/4 [00:00<00:00, 41630.81it/s]\n"
     ]
    },
    {
     "name": "stdout",
     "output_type": "stream",
     "text": [
      "Stationday 700 KMLB20051212\n"
     ]
    },
    {
     "name": "stderr",
     "output_type": "stream",
     "text": [
      "Tracking: 100%|██████████| 11/11 [00:00<00:00, 589.61it/s]\n",
      "Cleaning windfarm: 100%|██████████| 14/14 [00:00<00:00, 21.25it/s]\n",
      "Cleaning rain: 100%|██████████| 14/14 [00:00<00:00, 103746.04it/s]\n"
     ]
    },
    {
     "name": "stdout",
     "output_type": "stream",
     "text": [
      "Stationday 701 KMLB20051213\n"
     ]
    },
    {
     "name": "stderr",
     "output_type": "stream",
     "text": [
      "Tracking: 100%|██████████| 11/11 [00:00<00:00, 1058.07it/s]\n",
      "Cleaning windfarm: 100%|██████████| 11/11 [00:00<00:00, 16.14it/s]\n",
      "Cleaning rain: 100%|██████████| 11/11 [00:00<00:00, 93775.09it/s]\n"
     ]
    },
    {
     "name": "stdout",
     "output_type": "stream",
     "text": [
      "Stationday 702 KMLB20051214\n"
     ]
    },
    {
     "name": "stderr",
     "output_type": "stream",
     "text": [
      "Tracking: 100%|██████████| 8/8 [00:00<00:00, 858.76it/s]\n",
      "Cleaning windfarm: 100%|██████████| 5/5 [00:01<00:00,  4.14it/s]\n",
      "Cleaning rain: 100%|██████████| 5/5 [00:00<00:00, 63358.07it/s]\n"
     ]
    },
    {
     "name": "stdout",
     "output_type": "stream",
     "text": [
      "Stationday 703 KMLB20051225\n"
     ]
    },
    {
     "name": "stderr",
     "output_type": "stream",
     "text": [
      "Tracking: 100%|██████████| 24/24 [00:00<00:00, 621.01it/s]\n",
      "Cleaning windfarm: 100%|██████████| 24/24 [00:02<00:00,  8.03it/s]\n",
      "Cleaning rain: 100%|██████████| 24/24 [00:00<00:00, 111723.97it/s]\n"
     ]
    },
    {
     "name": "stdout",
     "output_type": "stream",
     "text": [
      "Stationday 704 KMLB20051227\n"
     ]
    },
    {
     "name": "stderr",
     "output_type": "stream",
     "text": [
      "Tracking: 100%|██████████| 11/11 [00:00<00:00, 404.09it/s]\n",
      "Cleaning windfarm: 100%|██████████| 17/17 [00:01<00:00,  8.66it/s]\n",
      "Cleaning rain: 100%|██████████| 17/17 [00:00<00:00, 105478.06it/s]\n"
     ]
    },
    {
     "name": "stdout",
     "output_type": "stream",
     "text": [
      "Stationday 705 KMLB20060117\n"
     ]
    },
    {
     "name": "stderr",
     "output_type": "stream",
     "text": [
      "Tracking: 100%|██████████| 11/11 [00:00<00:00, 842.60it/s]\n",
      "Cleaning windfarm: 100%|██████████| 7/7 [00:01<00:00,  3.81it/s]\n",
      "Cleaning rain: 100%|██████████| 7/7 [00:00<00:00, 71089.90it/s]\n"
     ]
    },
    {
     "name": "stdout",
     "output_type": "stream",
     "text": [
      "Stationday 706 KMLB20060119\n"
     ]
    },
    {
     "name": "stderr",
     "output_type": "stream",
     "text": [
      "Tracking: 100%|██████████| 11/11 [00:00<00:00, 995.00it/s]\n",
      "Cleaning windfarm: 100%|██████████| 6/6 [00:01<00:00,  3.10it/s]\n",
      "Cleaning rain: 100%|██████████| 6/6 [00:00<00:00, 59353.36it/s]\n"
     ]
    },
    {
     "name": "stdout",
     "output_type": "stream",
     "text": [
      "Stationday 707 KMLB20060121\n"
     ]
    },
    {
     "name": "stderr",
     "output_type": "stream",
     "text": [
      "Tracking: 100%|██████████| 20/20 [00:00<00:00, 916.23it/s]\n",
      "Cleaning windfarm: 100%|██████████| 7/7 [00:02<00:00,  2.73it/s]\n",
      "Cleaning rain: 100%|██████████| 7/7 [00:00<00:00, 63965.42it/s]\n"
     ]
    },
    {
     "name": "stdout",
     "output_type": "stream",
     "text": [
      "Stationday 708 KMLB20060122\n"
     ]
    },
    {
     "name": "stderr",
     "output_type": "stream",
     "text": [
      "Tracking: 100%|██████████| 22/22 [00:00<00:00, 584.10it/s]\n",
      "Cleaning windfarm: 100%|██████████| 11/11 [00:01<00:00,  5.70it/s]\n",
      "Cleaning rain: 100%|██████████| 11/11 [00:00<00:00, 33026.02it/s]\n"
     ]
    },
    {
     "name": "stdout",
     "output_type": "stream",
     "text": [
      "Stationday 709 KMLB20060206\n"
     ]
    },
    {
     "name": "stderr",
     "output_type": "stream",
     "text": [
      "Tracking: 100%|██████████| 12/12 [00:00<00:00, 405.03it/s]\n",
      "Cleaning windfarm: 100%|██████████| 13/13 [00:02<00:00,  4.80it/s]\n",
      "Cleaning rain: 100%|██████████| 13/13 [00:00<00:00, 106081.62it/s]\n"
     ]
    },
    {
     "name": "stdout",
     "output_type": "stream",
     "text": [
      "Stationday 710 KMLB20060216\n"
     ]
    },
    {
     "name": "stderr",
     "output_type": "stream",
     "text": [
      "Tracking: 100%|██████████| 21/21 [00:00<00:00, 486.29it/s]\n",
      "Cleaning windfarm: 100%|██████████| 14/14 [00:02<00:00,  5.04it/s]\n",
      "Cleaning rain: 100%|██████████| 14/14 [00:00<00:00, 72944.42it/s]\n"
     ]
    },
    {
     "name": "stdout",
     "output_type": "stream",
     "text": [
      "Stationday 711 KMLB20060218\n"
     ]
    },
    {
     "name": "stderr",
     "output_type": "stream",
     "text": [
      "Tracking: 100%|██████████| 11/11 [00:00<00:00, 409.64it/s]\n",
      "Cleaning windfarm: 100%|██████████| 9/9 [00:02<00:00,  3.41it/s]\n",
      "Cleaning rain: 100%|██████████| 9/9 [00:00<00:00, 83886.08it/s]\n"
     ]
    },
    {
     "name": "stdout",
     "output_type": "stream",
     "text": [
      "Stationday 712 KMLB20060308\n"
     ]
    },
    {
     "name": "stderr",
     "output_type": "stream",
     "text": [
      "Tracking: 100%|██████████| 11/11 [00:00<00:00, 1284.70it/s]\n",
      "Cleaning windfarm: 100%|██████████| 7/7 [00:00<00:00,  8.63it/s]\n",
      "Cleaning rain: 100%|██████████| 7/7 [00:00<00:00, 73769.17it/s]\n"
     ]
    },
    {
     "name": "stdout",
     "output_type": "stream",
     "text": [
      "Stationday 713 KMLB20060312\n"
     ]
    },
    {
     "name": "stderr",
     "output_type": "stream",
     "text": [
      "Tracking: 100%|██████████| 11/11 [00:00<00:00, 1310.46it/s]\n",
      "Cleaning windfarm: 100%|██████████| 6/6 [00:01<00:00,  3.19it/s]\n",
      "Cleaning rain: 100%|██████████| 6/6 [00:00<00:00, 58389.38it/s]\n"
     ]
    },
    {
     "name": "stdout",
     "output_type": "stream",
     "text": [
      "Stationday 714 KMLB20060314\n"
     ]
    },
    {
     "name": "stderr",
     "output_type": "stream",
     "text": [
      "Tracking: 100%|██████████| 11/11 [00:00<00:00, 1330.87it/s]\n",
      "Cleaning windfarm: 100%|██████████| 7/7 [00:00<00:00, 10.25it/s]\n",
      "Cleaning rain: 100%|██████████| 7/7 [00:00<00:00, 76858.97it/s]\n"
     ]
    },
    {
     "name": "stdout",
     "output_type": "stream",
     "text": [
      "Stationday 715 KMLB20060319\n"
     ]
    },
    {
     "name": "stderr",
     "output_type": "stream",
     "text": [
      "Tracking: 100%|██████████| 11/11 [00:00<00:00, 875.31it/s]\n",
      "Cleaning windfarm: 100%|██████████| 6/6 [00:01<00:00,  3.02it/s]\n",
      "Cleaning rain: 100%|██████████| 6/6 [00:00<00:00, 69518.85it/s]\n"
     ]
    },
    {
     "name": "stdout",
     "output_type": "stream",
     "text": [
      "Stationday 716 KMLB20060326\n"
     ]
    },
    {
     "name": "stderr",
     "output_type": "stream",
     "text": [
      "Tracking: 100%|██████████| 11/11 [00:00<00:00, 944.90it/s]\n",
      "Cleaning windfarm: 100%|██████████| 10/10 [00:01<00:00,  8.45it/s]\n",
      "Cleaning rain: 100%|██████████| 10/10 [00:00<00:00, 84054.19it/s]\n"
     ]
    },
    {
     "name": "stdout",
     "output_type": "stream",
     "text": [
      "Stationday 717 KMLB20060406\n"
     ]
    },
    {
     "name": "stderr",
     "output_type": "stream",
     "text": [
      "Tracking: 100%|██████████| 11/11 [00:00<00:00, 685.68it/s]\n",
      "Cleaning windfarm: 100%|██████████| 12/12 [00:02<00:00,  5.87it/s]\n",
      "Cleaning rain: 100%|██████████| 12/12 [00:00<00:00, 86184.33it/s]\n"
     ]
    },
    {
     "name": "stdout",
     "output_type": "stream",
     "text": [
      "Stationday 718 KMLB20060410\n"
     ]
    },
    {
     "name": "stderr",
     "output_type": "stream",
     "text": [
      "Tracking: 100%|██████████| 24/24 [00:00<00:00, 1740.56it/s]\n",
      "Cleaning windfarm: 100%|██████████| 9/9 [00:01<00:00,  7.23it/s]\n",
      "Cleaning rain: 100%|██████████| 9/9 [00:00<00:00, 63230.71it/s]\n"
     ]
    },
    {
     "name": "stdout",
     "output_type": "stream",
     "text": [
      "Stationday 719 KMLB20060422\n"
     ]
    },
    {
     "name": "stderr",
     "output_type": "stream",
     "text": [
      "Tracking: 100%|██████████| 23/23 [00:00<00:00, 900.01it/s]\n",
      "Cleaning windfarm: 100%|██████████| 9/9 [00:04<00:00,  2.24it/s]\n",
      "Cleaning rain: 100%|██████████| 9/9 [00:00<00:00, 60983.42it/s]\n"
     ]
    },
    {
     "name": "stdout",
     "output_type": "stream",
     "text": [
      "Stationday 720 KMLB20061010\n"
     ]
    },
    {
     "name": "stderr",
     "output_type": "stream",
     "text": [
      "Tracking: 100%|██████████| 12/12 [00:00<00:00, 1448.02it/s]\n",
      "Cleaning windfarm: 100%|██████████| 3/3 [00:00<00:00,  3.45it/s]\n",
      "Cleaning rain: 100%|██████████| 3/3 [00:00<00:00, 39199.10it/s]\n"
     ]
    },
    {
     "name": "stdout",
     "output_type": "stream",
     "text": [
      "Stationday 721 KMLB20061012\n"
     ]
    },
    {
     "name": "stderr",
     "output_type": "stream",
     "text": [
      "Tracking: 100%|██████████| 12/12 [00:00<00:00, 1626.07it/s]\n",
      "Cleaning windfarm: 100%|██████████| 3/3 [00:00<00:00,  3.30it/s]\n",
      "Cleaning rain: 100%|██████████| 3/3 [00:00<00:00, 15196.75it/s]\n"
     ]
    },
    {
     "name": "stdout",
     "output_type": "stream",
     "text": [
      "Stationday 722 KMLB20061017\n"
     ]
    },
    {
     "name": "stderr",
     "output_type": "stream",
     "text": [
      "Tracking: 100%|██████████| 11/11 [00:00<00:00, 2833.82it/s]\n",
      "Cleaning windfarm: 100%|██████████| 1/1 [00:00<00:00, 5737.76it/s]\n",
      "Cleaning rain: 100%|██████████| 1/1 [00:00<00:00, 5622.39it/s]\n"
     ]
    },
    {
     "name": "stdout",
     "output_type": "stream",
     "text": [
      "Stationday 723 KMLB20061020\n"
     ]
    },
    {
     "name": "stderr",
     "output_type": "stream",
     "text": [
      "Tracking: 100%|██████████| 12/12 [00:00<00:00, 762.20it/s]\n",
      "Cleaning windfarm: 100%|██████████| 6/6 [00:00<00:00,  8.14it/s]\n",
      "Cleaning rain: 100%|██████████| 6/6 [00:00<00:00, 50432.51it/s]\n"
     ]
    },
    {
     "name": "stdout",
     "output_type": "stream",
     "text": [
      "Stationday 724 KMLB20061021\n"
     ]
    },
    {
     "name": "stderr",
     "output_type": "stream",
     "text": [
      "Tracking: 100%|██████████| 17/17 [00:00<00:00, 474.14it/s]\n",
      "Cleaning windfarm: 100%|██████████| 7/7 [00:00<00:00,  9.70it/s]\n",
      "Cleaning rain: 100%|██████████| 7/7 [00:00<00:00, 77672.30it/s]\n"
     ]
    },
    {
     "name": "stdout",
     "output_type": "stream",
     "text": [
      "Stationday 725 KMLB20061025\n"
     ]
    },
    {
     "name": "stderr",
     "output_type": "stream",
     "text": [
      "Tracking: 100%|██████████| 11/11 [00:00<00:00, 1806.05it/s]\n",
      "Cleaning windfarm: 100%|██████████| 5/5 [00:00<00:00,  7.63it/s]\n",
      "Cleaning rain: 100%|██████████| 5/5 [00:00<00:00, 64133.09it/s]\n"
     ]
    },
    {
     "name": "stdout",
     "output_type": "stream",
     "text": [
      "Stationday 726 KMLB20061030\n"
     ]
    },
    {
     "name": "stderr",
     "output_type": "stream",
     "text": [
      "Tracking: 100%|██████████| 11/11 [00:00<00:00, 802.08it/s]\n",
      "Cleaning windfarm: 100%|██████████| 13/13 [00:02<00:00,  5.14it/s]\n",
      "Cleaning rain: 100%|██████████| 13/13 [00:00<00:00, 102492.39it/s]\n"
     ]
    },
    {
     "name": "stdout",
     "output_type": "stream",
     "text": [
      "Stationday 727 KMLB20061105\n"
     ]
    },
    {
     "name": "stderr",
     "output_type": "stream",
     "text": [
      "Tracking: 100%|██████████| 20/20 [00:00<00:00, 1584.34it/s]\n",
      "Cleaning windfarm: 100%|██████████| 5/5 [00:01<00:00,  4.13it/s]\n",
      "Cleaning rain: 100%|██████████| 5/5 [00:00<00:00, 52824.99it/s]\n"
     ]
    },
    {
     "name": "stdout",
     "output_type": "stream",
     "text": [
      "Stationday 728 KMLB20061109\n"
     ]
    },
    {
     "name": "stderr",
     "output_type": "stream",
     "text": [
      "Tracking: 100%|██████████| 11/11 [00:00<00:00, 569.70it/s]\n",
      "Cleaning windfarm: 100%|██████████| 17/17 [00:01<00:00,  8.66it/s]\n",
      "Cleaning rain: 100%|██████████| 17/17 [00:00<00:00, 102007.39it/s]\n"
     ]
    },
    {
     "name": "stdout",
     "output_type": "stream",
     "text": [
      "Stationday 729 KMLB20061113\n"
     ]
    },
    {
     "name": "stderr",
     "output_type": "stream",
     "text": [
      "Tracking: 100%|██████████| 11/11 [00:00<00:00, 791.51it/s]\n",
      "Cleaning windfarm: 100%|██████████| 13/13 [00:01<00:00,  6.52it/s]\n",
      "Cleaning rain: 100%|██████████| 13/13 [00:00<00:00, 101349.35it/s]\n"
     ]
    },
    {
     "name": "stdout",
     "output_type": "stream",
     "text": [
      "Stationday 730 KMLB20061117\n"
     ]
    },
    {
     "name": "stderr",
     "output_type": "stream",
     "text": [
      "Tracking: 100%|██████████| 12/12 [00:00<00:00, 359.66it/s]\n",
      "Cleaning windfarm: 100%|██████████| 10/10 [00:02<00:00,  4.72it/s]\n",
      "Cleaning rain: 100%|██████████| 10/10 [00:00<00:00, 78988.78it/s]\n"
     ]
    },
    {
     "name": "stdout",
     "output_type": "stream",
     "text": [
      "Stationday 731 KMLB20061120\n"
     ]
    },
    {
     "name": "stderr",
     "output_type": "stream",
     "text": [
      "Tracking: 100%|██████████| 11/11 [00:00<00:00, 1217.57it/s]\n",
      "Cleaning windfarm: 100%|██████████| 6/6 [00:00<00:00, 10.21it/s]\n",
      "Cleaning rain: 100%|██████████| 6/6 [00:00<00:00, 37957.50it/s]\n"
     ]
    },
    {
     "name": "stdout",
     "output_type": "stream",
     "text": [
      "Stationday 732 KMLB20061130\n"
     ]
    },
    {
     "name": "stderr",
     "output_type": "stream",
     "text": [
      "Tracking: 100%|██████████| 20/20 [00:00<00:00, 443.01it/s]\n",
      "Cleaning windfarm: 100%|██████████| 24/24 [00:04<00:00,  5.35it/s]\n",
      "Cleaning rain: 100%|██████████| 24/24 [00:00<00:00, 101989.16it/s]\n"
     ]
    },
    {
     "name": "stdout",
     "output_type": "stream",
     "text": [
      "Stationday 733 KMLB20061202\n"
     ]
    },
    {
     "name": "stderr",
     "output_type": "stream",
     "text": [
      "Tracking: 100%|██████████| 14/14 [00:00<00:00, 372.10it/s]\n",
      "Cleaning windfarm: 100%|██████████| 16/16 [00:04<00:00,  3.45it/s]\n",
      "Cleaning rain: 100%|██████████| 16/16 [00:00<00:00, 46218.23it/s]\n"
     ]
    },
    {
     "name": "stdout",
     "output_type": "stream",
     "text": [
      "Stationday 734 KMLB20061207\n"
     ]
    },
    {
     "name": "stderr",
     "output_type": "stream",
     "text": [
      "Tracking: 100%|██████████| 12/12 [00:00<00:00, 368.52it/s]\n",
      "Cleaning windfarm: 100%|██████████| 13/13 [00:03<00:00,  4.00it/s]\n",
      "Cleaning rain: 100%|██████████| 13/13 [00:00<00:00, 85463.87it/s]\n"
     ]
    },
    {
     "name": "stdout",
     "output_type": "stream",
     "text": [
      "Stationday 735 KMLB20061210\n"
     ]
    },
    {
     "name": "stderr",
     "output_type": "stream",
     "text": [
      "Tracking: 100%|██████████| 20/20 [00:00<00:00, 1224.56it/s]\n",
      "Cleaning windfarm: 100%|██████████| 7/7 [00:01<00:00,  5.67it/s]\n",
      "Cleaning rain: 100%|██████████| 7/7 [00:00<00:00, 65977.82it/s]\n"
     ]
    },
    {
     "name": "stdout",
     "output_type": "stream",
     "text": [
      "Stationday 736 KMLB20061214\n"
     ]
    },
    {
     "name": "stderr",
     "output_type": "stream",
     "text": [
      "Tracking: 100%|██████████| 20/20 [00:00<00:00, 2524.41it/s]\n",
      "Cleaning windfarm: 100%|██████████| 5/5 [00:01<00:00,  3.98it/s]\n",
      "Cleaning rain: 100%|██████████| 5/5 [00:00<00:00, 53911.36it/s]\n"
     ]
    },
    {
     "name": "stdout",
     "output_type": "stream",
     "text": [
      "Stationday 737 KMLB20061220\n"
     ]
    },
    {
     "name": "stderr",
     "output_type": "stream",
     "text": [
      "Tracking: 100%|██████████| 11/11 [00:00<00:00, 1584.06it/s]\n",
      "Cleaning windfarm: 100%|██████████| 8/8 [00:00<00:00, 11.67it/s]\n",
      "Cleaning rain: 100%|██████████| 8/8 [00:00<00:00, 77852.51it/s]\n"
     ]
    },
    {
     "name": "stdout",
     "output_type": "stream",
     "text": [
      "Stationday 738 KMLB20061222\n"
     ]
    },
    {
     "name": "stderr",
     "output_type": "stream",
     "text": [
      "Tracking: 100%|██████████| 20/20 [00:00<00:00, 400.61it/s]\n",
      "Cleaning windfarm: 100%|██████████| 8/8 [00:02<00:00,  2.69it/s]\n",
      "Cleaning rain: 100%|██████████| 8/8 [00:00<00:00, 30476.32it/s]\n"
     ]
    },
    {
     "name": "stdout",
     "output_type": "stream",
     "text": [
      "Stationday 739 KMLB20061229\n"
     ]
    },
    {
     "name": "stderr",
     "output_type": "stream",
     "text": [
      "Tracking: 100%|██████████| 20/20 [00:00<00:00, 622.32it/s]\n",
      "Cleaning windfarm: 100%|██████████| 8/8 [00:02<00:00,  2.92it/s]\n",
      "Cleaning rain: 100%|██████████| 8/8 [00:00<00:00, 59705.40it/s]\n"
     ]
    },
    {
     "name": "stdout",
     "output_type": "stream",
     "text": [
      "Stationday 740 KMLB20061230\n"
     ]
    },
    {
     "name": "stderr",
     "output_type": "stream",
     "text": [
      "Tracking: 100%|██████████| 24/24 [00:00<00:00, 548.68it/s]\n",
      "Cleaning windfarm: 100%|██████████| 11/11 [00:03<00:00,  2.85it/s]\n",
      "Cleaning rain: 100%|██████████| 11/11 [00:00<00:00, 64618.13it/s]\n"
     ]
    },
    {
     "name": "stdout",
     "output_type": "stream",
     "text": [
      "Stationday 741 KMLB20061231\n"
     ]
    },
    {
     "name": "stderr",
     "output_type": "stream",
     "text": [
      "Tracking: 100%|██████████| 23/23 [00:00<00:00, 512.30it/s]\n",
      "Cleaning windfarm: 100%|██████████| 8/8 [00:04<00:00,  1.81it/s]\n",
      "Cleaning rain: 100%|██████████| 8/8 [00:00<00:00, 54738.06it/s]\n"
     ]
    },
    {
     "name": "stdout",
     "output_type": "stream",
     "text": [
      "Stationday 742 KMLB20070113\n"
     ]
    },
    {
     "name": "stderr",
     "output_type": "stream",
     "text": [
      "Tracking: 100%|██████████| 20/20 [00:00<00:00, 626.54it/s]\n",
      "Cleaning windfarm: 100%|██████████| 18/18 [00:03<00:00,  4.89it/s]\n",
      "Cleaning rain: 100%|██████████| 18/18 [00:00<00:00, 103991.01it/s]\n"
     ]
    },
    {
     "name": "stdout",
     "output_type": "stream",
     "text": [
      "Stationday 743 KMLB20070201\n"
     ]
    },
    {
     "name": "stderr",
     "output_type": "stream",
     "text": [
      "Tracking: 100%|██████████| 20/20 [00:00<00:00, 320.43it/s]\n",
      "Cleaning windfarm: 100%|██████████| 14/14 [00:03<00:00,  4.21it/s]\n",
      "Cleaning rain: 100%|██████████| 14/14 [00:00<00:00, 90617.68it/s]\n"
     ]
    },
    {
     "name": "stdout",
     "output_type": "stream",
     "text": [
      "Stationday 744 KMLB20070304\n"
     ]
    },
    {
     "name": "stderr",
     "output_type": "stream",
     "text": [
      "Tracking: 100%|██████████| 23/23 [00:00<00:00, 797.35it/s]\n",
      "Cleaning windfarm: 100%|██████████| 12/12 [00:03<00:00,  3.05it/s]\n",
      "Cleaning rain: 100%|██████████| 12/12 [00:00<00:00, 48210.39it/s]\n"
     ]
    },
    {
     "name": "stdout",
     "output_type": "stream",
     "text": [
      "Stationday 745 KMLB20070313\n"
     ]
    },
    {
     "name": "stderr",
     "output_type": "stream",
     "text": [
      "Tracking: 100%|██████████| 8/8 [00:00<00:00, 928.15it/s]\n",
      "Cleaning windfarm: 100%|██████████| 8/8 [00:01<00:00,  4.88it/s]\n",
      "Cleaning rain: 100%|██████████| 8/8 [00:00<00:00, 63310.25it/s]\n"
     ]
    },
    {
     "name": "stdout",
     "output_type": "stream",
     "text": [
      "Stationday 746 KMLB20070320\n"
     ]
    },
    {
     "name": "stderr",
     "output_type": "stream",
     "text": [
      "Tracking: 100%|██████████| 20/20 [00:00<00:00, 5542.52it/s]\n",
      "Cleaning windfarm: 100%|██████████| 3/3 [00:00<00:00, 23172.95it/s]\n",
      "Cleaning rain: 100%|██████████| 3/3 [00:00<00:00, 37227.55it/s]\n"
     ]
    },
    {
     "name": "stdout",
     "output_type": "stream",
     "text": [
      "Stationday 747 KMLB20070323\n"
     ]
    },
    {
     "name": "stderr",
     "output_type": "stream",
     "text": [
      "Tracking: 100%|██████████| 19/19 [00:00<00:00, 1531.47it/s]\n",
      "Cleaning windfarm: 100%|██████████| 7/7 [00:00<00:00, 40329.85it/s]\n",
      "Cleaning rain: 100%|██████████| 7/7 [00:00<00:00, 59796.59it/s]\n"
     ]
    },
    {
     "name": "stdout",
     "output_type": "stream",
     "text": [
      "Stationday 748 KMLB20070407\n"
     ]
    },
    {
     "name": "stderr",
     "output_type": "stream",
     "text": [
      "Tracking: 100%|██████████| 12/12 [00:00<00:00, 3022.01it/s]\n",
      "Cleaning windfarm: 100%|██████████| 4/4 [00:00<00:00, 31476.95it/s]\n",
      "Cleaning rain: 100%|██████████| 4/4 [00:00<00:00, 47662.55it/s]\n"
     ]
    },
    {
     "name": "stdout",
     "output_type": "stream",
     "text": [
      "Stationday 749 KMLB20070408\n"
     ]
    },
    {
     "name": "stderr",
     "output_type": "stream",
     "text": [
      "Tracking: 100%|██████████| 11/11 [00:00<00:00, 2280.75it/s]\n",
      "Cleaning windfarm: 100%|██████████| 4/4 [00:00<00:00,  5.01it/s]\n",
      "Cleaning rain: 100%|██████████| 4/4 [00:00<00:00, 50994.58it/s]\n"
     ]
    },
    {
     "name": "stdout",
     "output_type": "stream",
     "text": [
      "Stationday 750 KMLB20070413\n"
     ]
    },
    {
     "name": "stderr",
     "output_type": "stream",
     "text": [
      "Tracking: 100%|██████████| 9/9 [00:00<00:00, 891.86it/s]\n",
      "Cleaning windfarm: 100%|██████████| 8/8 [00:01<00:00,  5.46it/s]\n",
      "Cleaning rain: 100%|██████████| 8/8 [00:00<00:00, 36393.09it/s]\n"
     ]
    },
    {
     "name": "stdout",
     "output_type": "stream",
     "text": [
      "Stationday 751 KMLB20070414\n"
     ]
    },
    {
     "name": "stderr",
     "output_type": "stream",
     "text": [
      "Tracking: 100%|██████████| 12/12 [00:00<00:00, 558.74it/s]\n",
      "Cleaning windfarm: 100%|██████████| 10/10 [00:01<00:00,  5.21it/s]\n",
      "Cleaning rain: 100%|██████████| 10/10 [00:00<00:00, 99864.38it/s]\n"
     ]
    },
    {
     "name": "stdout",
     "output_type": "stream",
     "text": [
      "Stationday 752 KMLB20070420\n"
     ]
    },
    {
     "name": "stderr",
     "output_type": "stream",
     "text": [
      "Tracking: 100%|██████████| 20/20 [00:00<00:00, 1143.45it/s]\n",
      "Cleaning windfarm: 100%|██████████| 6/6 [00:01<00:00,  3.24it/s]\n",
      "Cleaning rain: 100%|██████████| 6/6 [00:00<00:00, 63230.71it/s]\n"
     ]
    },
    {
     "name": "stdout",
     "output_type": "stream",
     "text": [
      "Stationday 753 KMLB20070427\n"
     ]
    },
    {
     "name": "stderr",
     "output_type": "stream",
     "text": [
      "Tracking: 100%|██████████| 20/20 [00:00<00:00, 1950.25it/s]\n",
      "Cleaning windfarm: 100%|██████████| 3/3 [00:01<00:00,  2.40it/s]\n",
      "Cleaning rain: 100%|██████████| 3/3 [00:00<00:00, 38130.04it/s]\n"
     ]
    },
    {
     "name": "stdout",
     "output_type": "stream",
     "text": [
      "Stationday 754 KMLB20070430\n"
     ]
    },
    {
     "name": "stderr",
     "output_type": "stream",
     "text": [
      "Tracking: 100%|██████████| 12/12 [00:00<00:00, 2325.32it/s]\n",
      "Cleaning windfarm: 100%|██████████| 6/6 [00:00<00:00, 10.17it/s]\n",
      "Cleaning rain: 100%|██████████| 6/6 [00:00<00:00, 70295.60it/s]\n"
     ]
    },
    {
     "name": "stdout",
     "output_type": "stream",
     "text": [
      "Stationday 755 KMLB20070504\n"
     ]
    },
    {
     "name": "stderr",
     "output_type": "stream",
     "text": [
      "Tracking: 100%|██████████| 20/20 [00:00<00:00, 9399.00it/s]\n",
      "Cleaning windfarm: 100%|██████████| 2/2 [00:00<00:00, 10205.12it/s]\n",
      "Cleaning rain: 100%|██████████| 2/2 [00:00<00:00, 23967.45it/s]\n"
     ]
    },
    {
     "name": "stdout",
     "output_type": "stream",
     "text": [
      "Stationday 756 KMLB20071010\n"
     ]
    },
    {
     "name": "stderr",
     "output_type": "stream",
     "text": [
      "Tracking: 100%|██████████| 4/4 [00:00<00:00, 1321.87it/s]\n",
      "Cleaning windfarm: 100%|██████████| 5/5 [00:00<00:00, 32115.65it/s]\n",
      "Cleaning rain: 100%|██████████| 5/5 [00:00<00:00, 67216.41it/s]\n"
     ]
    },
    {
     "name": "stdout",
     "output_type": "stream",
     "text": [
      "Stationday 757 KMLB20071019\n"
     ]
    },
    {
     "name": "stderr",
     "output_type": "stream",
     "text": [
      "Tracking: 100%|██████████| 23/23 [00:00<00:00, 5925.25it/s]\n",
      "Cleaning windfarm: 100%|██████████| 3/3 [00:00<00:00, 24338.32it/s]\n",
      "Cleaning rain: 100%|██████████| 3/3 [00:00<00:00, 22075.28it/s]\n"
     ]
    },
    {
     "name": "stdout",
     "output_type": "stream",
     "text": [
      "Stationday 758 KMLB20071020\n"
     ]
    },
    {
     "name": "stderr",
     "output_type": "stream",
     "text": [
      "Tracking: 100%|██████████| 24/24 [00:00<00:00, 903.94it/s]\n",
      "Cleaning windfarm: 100%|██████████| 4/4 [00:01<00:00,  2.97it/s]\n",
      "Cleaning rain: 100%|██████████| 4/4 [00:00<00:00, 51622.20it/s]\n"
     ]
    },
    {
     "name": "stdout",
     "output_type": "stream",
     "text": [
      "Stationday 759 KMLB20071025\n"
     ]
    },
    {
     "name": "stderr",
     "output_type": "stream",
     "text": [
      "Tracking: 100%|██████████| 23/23 [00:00<00:00, 581.83it/s]\n",
      "Cleaning windfarm: 100%|██████████| 8/8 [00:01<00:00,  4.99it/s]\n",
      "Cleaning rain: 100%|██████████| 8/8 [00:00<00:00, 53261.00it/s]\n"
     ]
    },
    {
     "name": "stdout",
     "output_type": "stream",
     "text": [
      "Stationday 760 KMLB20071202\n"
     ]
    },
    {
     "name": "stderr",
     "output_type": "stream",
     "text": [
      "Tracking: 100%|██████████| 23/23 [00:00<00:00, 1118.74it/s]\n",
      "Cleaning windfarm: 100%|██████████| 11/11 [00:02<00:00,  5.35it/s]\n",
      "Cleaning rain: 100%|██████████| 11/11 [00:00<00:00, 65722.71it/s]\n"
     ]
    },
    {
     "name": "stdout",
     "output_type": "stream",
     "text": [
      "Stationday 761 KMLB20071205\n"
     ]
    },
    {
     "name": "stderr",
     "output_type": "stream",
     "text": [
      "Tracking: 100%|██████████| 15/15 [00:00<00:00, 975.57it/s]\n",
      "Cleaning windfarm: 100%|██████████| 10/10 [00:01<00:00,  5.31it/s]\n",
      "Cleaning rain: 100%|██████████| 10/10 [00:00<00:00, 88115.63it/s]\n"
     ]
    },
    {
     "name": "stdout",
     "output_type": "stream",
     "text": [
      "Stationday 762 KMLB20071207\n"
     ]
    },
    {
     "name": "stderr",
     "output_type": "stream",
     "text": [
      "Tracking: 100%|██████████| 11/11 [00:00<00:00, 914.88it/s]\n",
      "Cleaning windfarm: 100%|██████████| 9/9 [00:02<00:00,  3.25it/s]\n",
      "Cleaning rain: 100%|██████████| 9/9 [00:00<00:00, 67529.04it/s]\n"
     ]
    },
    {
     "name": "stdout",
     "output_type": "stream",
     "text": [
      "Stationday 763 KMLB20071209\n"
     ]
    },
    {
     "name": "stderr",
     "output_type": "stream",
     "text": [
      "Tracking: 100%|██████████| 22/22 [00:00<00:00, 730.55it/s]\n",
      "Cleaning windfarm: 100%|██████████| 12/12 [00:03<00:00,  3.60it/s]\n",
      "Cleaning rain: 100%|██████████| 12/12 [00:00<00:00, 79387.46it/s]\n"
     ]
    },
    {
     "name": "stdout",
     "output_type": "stream",
     "text": [
      "Stationday 764 KMLB20071220\n"
     ]
    },
    {
     "name": "stderr",
     "output_type": "stream",
     "text": [
      "Tracking: 100%|██████████| 20/20 [00:00<00:00, 616.46it/s]\n",
      "Cleaning windfarm: 100%|██████████| 16/16 [00:03<00:00,  4.85it/s]\n",
      "Cleaning rain: 100%|██████████| 16/16 [00:00<00:00, 84096.32it/s]\n"
     ]
    },
    {
     "name": "stdout",
     "output_type": "stream",
     "text": [
      "Stationday 765 KMLB20071231\n"
     ]
    },
    {
     "name": "stderr",
     "output_type": "stream",
     "text": [
      "Tracking: 100%|██████████| 23/23 [00:00<00:00, 426.51it/s]\n",
      "Cleaning windfarm: 100%|██████████| 14/14 [00:02<00:00,  5.49it/s]\n",
      "Cleaning rain: 100%|██████████| 14/14 [00:00<00:00, 82938.21it/s]\n"
     ]
    },
    {
     "name": "stdout",
     "output_type": "stream",
     "text": [
      "Stationday 766 KMLB20080104\n"
     ]
    },
    {
     "name": "stderr",
     "output_type": "stream",
     "text": [
      "Tracking: 100%|██████████| 23/23 [00:00<00:00, 2310.30it/s]\n",
      "Cleaning windfarm: 100%|██████████| 9/9 [00:00<00:00, 13.14it/s]\n",
      "Cleaning rain: 100%|██████████| 9/9 [00:00<00:00, 74455.10it/s]\n"
     ]
    },
    {
     "name": "stdout",
     "output_type": "stream",
     "text": [
      "Stationday 767 KMLB20080106\n"
     ]
    },
    {
     "name": "stderr",
     "output_type": "stream",
     "text": [
      "Tracking: 100%|██████████| 20/20 [00:00<00:00, 492.47it/s]\n",
      "Cleaning windfarm: 100%|██████████| 15/15 [00:06<00:00,  2.31it/s]\n",
      "Cleaning rain: 100%|██████████| 15/15 [00:00<00:00, 80556.41it/s]\n"
     ]
    },
    {
     "name": "stdout",
     "output_type": "stream",
     "text": [
      "Stationday 768 KMLB20080107\n"
     ]
    },
    {
     "name": "stderr",
     "output_type": "stream",
     "text": [
      "Tracking: 100%|██████████| 20/20 [00:00<00:00, 1096.39it/s]\n",
      "Cleaning windfarm: 100%|██████████| 12/12 [00:03<00:00,  3.62it/s]\n",
      "Cleaning rain: 100%|██████████| 12/12 [00:00<00:00, 60349.70it/s]\n"
     ]
    },
    {
     "name": "stdout",
     "output_type": "stream",
     "text": [
      "Stationday 769 KMLB20080201\n"
     ]
    },
    {
     "name": "stderr",
     "output_type": "stream",
     "text": [
      "Tracking: 100%|██████████| 13/13 [00:00<00:00, 1270.11it/s]\n",
      "Cleaning windfarm: 100%|██████████| 7/7 [00:00<00:00, 11.78it/s]\n",
      "Cleaning rain: 100%|██████████| 7/7 [00:00<00:00, 71262.45it/s]\n"
     ]
    },
    {
     "name": "stdout",
     "output_type": "stream",
     "text": [
      "Stationday 770 KMLB20080206\n"
     ]
    },
    {
     "name": "stderr",
     "output_type": "stream",
     "text": [
      "Tracking: 100%|██████████| 20/20 [00:00<00:00, 670.75it/s]\n",
      "Cleaning windfarm: 100%|██████████| 9/9 [00:03<00:00,  2.25it/s]\n",
      "Cleaning rain: 100%|██████████| 9/9 [00:00<00:00, 74308.54it/s]\n"
     ]
    },
    {
     "name": "stdout",
     "output_type": "stream",
     "text": [
      "Stationday 771 KMLB20080207\n"
     ]
    },
    {
     "name": "stderr",
     "output_type": "stream",
     "text": [
      "Tracking: 100%|██████████| 22/22 [00:00<00:00, 947.77it/s]\n",
      "Cleaning windfarm: 100%|██████████| 10/10 [00:01<00:00,  5.17it/s]\n",
      "Cleaning rain: 100%|██████████| 10/10 [00:00<00:00, 77528.72it/s]\n"
     ]
    },
    {
     "name": "stdout",
     "output_type": "stream",
     "text": [
      "Stationday 772 KMLB20080209\n"
     ]
    },
    {
     "name": "stderr",
     "output_type": "stream",
     "text": [
      "Tracking: 100%|██████████| 24/24 [00:00<00:00, 365.89it/s]\n",
      "Cleaning windfarm: 100%|██████████| 13/13 [00:05<00:00,  2.29it/s]\n",
      "Cleaning rain: 100%|██████████| 13/13 [00:00<00:00, 78567.65it/s]\n"
     ]
    },
    {
     "name": "stdout",
     "output_type": "stream",
     "text": [
      "Stationday 773 KMLB20080210\n"
     ]
    },
    {
     "name": "stderr",
     "output_type": "stream",
     "text": [
      "Tracking: 100%|██████████| 13/13 [00:00<00:00, 1228.98it/s]\n",
      "Cleaning windfarm: 100%|██████████| 10/10 [00:02<00:00,  4.92it/s]\n",
      "Cleaning rain: 100%|██████████| 10/10 [00:00<00:00, 87381.33it/s]\n"
     ]
    },
    {
     "name": "stdout",
     "output_type": "stream",
     "text": [
      "Stationday 774 KMLB20080212\n"
     ]
    },
    {
     "name": "stderr",
     "output_type": "stream",
     "text": [
      "Tracking: 100%|██████████| 12/12 [00:00<00:00, 682.33it/s]\n",
      "Cleaning windfarm: 100%|██████████| 14/14 [00:02<00:00,  5.39it/s]\n",
      "Cleaning rain: 100%|██████████| 14/14 [00:00<00:00, 104113.93it/s]\n"
     ]
    },
    {
     "name": "stdout",
     "output_type": "stream",
     "text": [
      "Stationday 775 KMLB20080213\n"
     ]
    },
    {
     "name": "stderr",
     "output_type": "stream",
     "text": [
      "Tracking: 100%|██████████| 23/23 [00:00<00:00, 973.60it/s]\n",
      "Cleaning windfarm: 100%|██████████| 8/8 [00:02<00:00,  2.78it/s]\n",
      "Cleaning rain: 100%|██████████| 8/8 [00:00<00:00, 51228.14it/s]\n"
     ]
    },
    {
     "name": "stdout",
     "output_type": "stream",
     "text": [
      "Stationday 776 KMLB20080226\n"
     ]
    },
    {
     "name": "stderr",
     "output_type": "stream",
     "text": [
      "Tracking: 100%|██████████| 23/23 [00:00<00:00, 1169.25it/s]\n",
      "Cleaning windfarm: 100%|██████████| 9/9 [00:01<00:00,  4.87it/s]\n",
      "Cleaning rain: 100%|██████████| 9/9 [00:00<00:00, 68015.74it/s]\n"
     ]
    },
    {
     "name": "stdout",
     "output_type": "stream",
     "text": [
      "Stationday 777 KMLB20080323\n"
     ]
    },
    {
     "name": "stderr",
     "output_type": "stream",
     "text": [
      "Tracking: 100%|██████████| 23/23 [00:00<00:00, 1777.08it/s]\n",
      "Cleaning windfarm: 100%|██████████| 9/9 [00:02<00:00,  3.34it/s]\n",
      "Cleaning rain: 100%|██████████| 9/9 [00:00<00:00, 74749.97it/s]\n"
     ]
    },
    {
     "name": "stdout",
     "output_type": "stream",
     "text": [
      "Stationday 778 KMLB20080330\n"
     ]
    },
    {
     "name": "stderr",
     "output_type": "stream",
     "text": [
      "Tracking: 100%|██████████| 20/20 [00:00<00:00, 805.08it/s]\n",
      "Cleaning windfarm: 100%|██████████| 8/8 [00:02<00:00,  2.97it/s]\n",
      "Cleaning rain: 100%|██████████| 8/8 [00:00<00:00, 58254.22it/s]\n"
     ]
    },
    {
     "name": "stdout",
     "output_type": "stream",
     "text": [
      "Stationday 779 KMLB20080403\n"
     ]
    },
    {
     "name": "stderr",
     "output_type": "stream",
     "text": [
      "Tracking: 100%|██████████| 23/23 [00:00<00:00, 629.78it/s]\n",
      "Cleaning windfarm: 100%|██████████| 15/15 [00:01<00:00, 11.69it/s]\n",
      "Cleaning rain: 100%|██████████| 15/15 [00:00<00:00, 88737.04it/s]\n"
     ]
    },
    {
     "name": "stdout",
     "output_type": "stream",
     "text": [
      "Stationday 780 KMLB20080412\n"
     ]
    },
    {
     "name": "stderr",
     "output_type": "stream",
     "text": [
      "Tracking: 100%|██████████| 12/12 [00:00<00:00, 2322.64it/s]\n",
      "Cleaning windfarm: 100%|██████████| 3/3 [00:00<00:00,  4.57it/s]\n",
      "Cleaning rain: 100%|██████████| 3/3 [00:00<00:00, 43240.25it/s]\n"
     ]
    },
    {
     "name": "stdout",
     "output_type": "stream",
     "text": [
      "Stationday 781 KMLB20081009\n"
     ]
    },
    {
     "name": "stderr",
     "output_type": "stream",
     "text": [
      "Tracking: 100%|██████████| 23/23 [00:00<00:00, 4571.99it/s]\n",
      "Cleaning windfarm: 100%|██████████| 5/5 [00:00<00:00, 35971.73it/s]\n",
      "Cleaning rain: 100%|██████████| 5/5 [00:00<00:00, 56073.58it/s]\n"
     ]
    },
    {
     "name": "stdout",
     "output_type": "stream",
     "text": [
      "Stationday 782 KMLB20081014\n"
     ]
    },
    {
     "name": "stderr",
     "output_type": "stream",
     "text": [
      "Tracking: 100%|██████████| 23/23 [00:00<00:00, 829.78it/s]\n",
      "Cleaning windfarm: 100%|██████████| 14/14 [00:02<00:00,  6.95it/s]\n",
      "Cleaning rain: 100%|██████████| 14/14 [00:00<00:00, 94557.58it/s]\n"
     ]
    },
    {
     "name": "stdout",
     "output_type": "stream",
     "text": [
      "Stationday 783 KMLB20081027\n"
     ]
    },
    {
     "name": "stderr",
     "output_type": "stream",
     "text": [
      "Tracking: 100%|██████████| 12/12 [00:00<00:00, 1263.12it/s]\n",
      "Cleaning windfarm: 100%|██████████| 10/10 [00:01<00:00,  5.06it/s]\n",
      "Cleaning rain: 100%|██████████| 10/10 [00:00<00:00, 97541.95it/s]\n"
     ]
    },
    {
     "name": "stdout",
     "output_type": "stream",
     "text": [
      "Stationday 784 KMLB20081031\n"
     ]
    },
    {
     "name": "stderr",
     "output_type": "stream",
     "text": [
      "Tracking: 100%|██████████| 23/23 [00:00<00:00, 1747.47it/s]\n",
      "Cleaning windfarm: 100%|██████████| 4/4 [00:00<00:00,  6.12it/s]\n",
      "Cleaning rain: 100%|██████████| 4/4 [00:00<00:00, 43919.41it/s]\n"
     ]
    },
    {
     "name": "stdout",
     "output_type": "stream",
     "text": [
      "Stationday 785 KMLB20081106\n"
     ]
    },
    {
     "name": "stderr",
     "output_type": "stream",
     "text": [
      "Tracking: 100%|██████████| 15/15 [00:00<00:00, 2381.95it/s]\n",
      "Cleaning windfarm: 100%|██████████| 5/5 [00:00<00:00, 34211.29it/s]\n",
      "Cleaning rain: 100%|██████████| 5/5 [00:00<00:00, 43151.28it/s]\n"
     ]
    },
    {
     "name": "stdout",
     "output_type": "stream",
     "text": [
      "Stationday 786 KMLB20081110\n"
     ]
    },
    {
     "name": "stderr",
     "output_type": "stream",
     "text": [
      "Tracking: 100%|██████████| 11/11 [00:00<00:00, 716.33it/s]\n",
      "Cleaning windfarm: 100%|██████████| 13/13 [00:00<00:00, 20.45it/s]\n",
      "Cleaning rain: 100%|██████████| 13/13 [00:00<00:00, 71089.90it/s]\n"
     ]
    },
    {
     "name": "stdout",
     "output_type": "stream",
     "text": [
      "Stationday 787 KMLB20081115\n"
     ]
    },
    {
     "name": "stderr",
     "output_type": "stream",
     "text": [
      "Tracking: 100%|██████████| 20/20 [00:00<00:00, 866.54it/s]\n",
      "Cleaning windfarm: 100%|██████████| 10/10 [00:01<00:00,  8.01it/s]\n",
      "Cleaning rain: 100%|██████████| 10/10 [00:00<00:00, 84392.43it/s]\n"
     ]
    },
    {
     "name": "stdout",
     "output_type": "stream",
     "text": [
      "Stationday 788 KMLB20081122\n"
     ]
    },
    {
     "name": "stderr",
     "output_type": "stream",
     "text": [
      "Tracking: 100%|██████████| 5/5 [00:00<00:00, 1526.64it/s]\n",
      "Cleaning windfarm: 100%|██████████| 3/3 [00:00<00:00, 22631.14it/s]\n",
      "Cleaning rain: 100%|██████████| 3/3 [00:00<00:00, 19941.22it/s]\n"
     ]
    },
    {
     "name": "stdout",
     "output_type": "stream",
     "text": [
      "Stationday 789 KMLB20081127\n"
     ]
    },
    {
     "name": "stderr",
     "output_type": "stream",
     "text": [
      "Tracking: 100%|██████████| 11/11 [00:00<00:00, 1173.74it/s]\n",
      "Cleaning windfarm: 100%|██████████| 11/11 [00:00<00:00, 16.23it/s]\n",
      "Cleaning rain: 100%|██████████| 11/11 [00:00<00:00, 93584.88it/s]\n"
     ]
    },
    {
     "name": "stdout",
     "output_type": "stream",
     "text": [
      "Stationday 790 KMLB20081206\n"
     ]
    },
    {
     "name": "stderr",
     "output_type": "stream",
     "text": [
      "Tracking: 100%|██████████| 20/20 [00:00<00:00, 1089.88it/s]\n",
      "Cleaning windfarm: 100%|██████████| 6/6 [00:01<00:00,  4.52it/s]\n",
      "Cleaning rain: 100%|██████████| 6/6 [00:00<00:00, 49833.31it/s]\n"
     ]
    },
    {
     "name": "stdout",
     "output_type": "stream",
     "text": [
      "Stationday 791 KMLB20081209\n"
     ]
    },
    {
     "name": "stderr",
     "output_type": "stream",
     "text": [
      "Tracking: 100%|██████████| 20/20 [00:00<00:00, 925.81it/s]\n",
      "Cleaning windfarm: 100%|██████████| 10/10 [00:00<00:00, 17.56it/s]\n",
      "Cleaning rain: 100%|██████████| 10/10 [00:00<00:00, 76678.32it/s]\n"
     ]
    },
    {
     "name": "stdout",
     "output_type": "stream",
     "text": [
      "Stationday 792 KMLB20081223\n"
     ]
    },
    {
     "name": "stderr",
     "output_type": "stream",
     "text": [
      "Tracking: 100%|██████████| 12/12 [00:00<00:00, 1333.78it/s]\n",
      "Cleaning windfarm: 100%|██████████| 8/8 [00:00<00:00, 49056.19it/s]\n",
      "Cleaning rain: 100%|██████████| 8/8 [00:00<00:00, 34274.19it/s]\n"
     ]
    },
    {
     "name": "stdout",
     "output_type": "stream",
     "text": [
      "Stationday 793 KMLB20081225\n"
     ]
    },
    {
     "name": "stderr",
     "output_type": "stream",
     "text": [
      "Tracking: 100%|██████████| 19/19 [00:00<00:00, 1078.18it/s]\n",
      "Cleaning windfarm: 100%|██████████| 7/7 [00:01<00:00,  3.57it/s]\n",
      "Cleaning rain: 100%|██████████| 7/7 [00:00<00:00, 62869.65it/s]\n"
     ]
    },
    {
     "name": "stdout",
     "output_type": "stream",
     "text": [
      "Stationday 794 KMLB20081227\n"
     ]
    },
    {
     "name": "stderr",
     "output_type": "stream",
     "text": [
      "Tracking: 100%|██████████| 11/11 [00:00<00:00, 795.02it/s]\n",
      "Cleaning windfarm: 100%|██████████| 13/13 [00:01<00:00,  6.52it/s]\n",
      "Cleaning rain: 100%|██████████| 13/13 [00:00<00:00, 45438.29it/s]\n"
     ]
    },
    {
     "name": "stdout",
     "output_type": "stream",
     "text": [
      "Stationday 795 KMLB20081230\n"
     ]
    },
    {
     "name": "stderr",
     "output_type": "stream",
     "text": [
      "Tracking: 100%|██████████| 11/11 [00:00<00:00, 353.56it/s]\n",
      "Cleaning windfarm: 100%|██████████| 14/14 [00:02<00:00,  5.50it/s]\n",
      "Cleaning rain: 100%|██████████| 14/14 [00:00<00:00, 111212.61it/s]\n"
     ]
    },
    {
     "name": "stdout",
     "output_type": "stream",
     "text": [
      "Stationday 796 KMLB20090103\n"
     ]
    },
    {
     "name": "stderr",
     "output_type": "stream",
     "text": [
      "Tracking: 100%|██████████| 11/11 [00:00<00:00, 529.43it/s]\n",
      "Cleaning windfarm: 100%|██████████| 15/15 [00:04<00:00,  3.22it/s]\n",
      "Cleaning rain: 100%|██████████| 15/15 [00:00<00:00, 104335.92it/s]\n"
     ]
    },
    {
     "name": "stdout",
     "output_type": "stream",
     "text": [
      "Stationday 797 KMLB20090110\n"
     ]
    },
    {
     "name": "stderr",
     "output_type": "stream",
     "text": [
      "Tracking: 100%|██████████| 12/12 [00:00<00:00, 663.99it/s]\n",
      "Cleaning windfarm: 100%|██████████| 13/13 [00:04<00:00,  3.19it/s]\n",
      "Cleaning rain: 100%|██████████| 13/13 [00:00<00:00, 102879.15it/s]\n"
     ]
    },
    {
     "name": "stdout",
     "output_type": "stream",
     "text": [
      "Stationday 798 KMLB20090123\n"
     ]
    },
    {
     "name": "stderr",
     "output_type": "stream",
     "text": [
      "Tracking: 100%|██████████| 11/11 [00:00<00:00, 1597.77it/s]\n",
      "Cleaning windfarm: 100%|██████████| 8/8 [00:01<00:00,  6.12it/s]\n",
      "Cleaning rain: 100%|██████████| 8/8 [00:00<00:00, 87154.37it/s]\n"
     ]
    },
    {
     "name": "stdout",
     "output_type": "stream",
     "text": [
      "Stationday 799 KMLB20090126\n"
     ]
    },
    {
     "name": "stderr",
     "output_type": "stream",
     "text": [
      "Tracking: 100%|██████████| 12/12 [00:00<00:00, 851.87it/s]\n",
      "Cleaning windfarm: 100%|██████████| 8/8 [00:01<00:00,  5.66it/s]\n",
      "Cleaning rain: 100%|██████████| 8/8 [00:00<00:00, 52428.80it/s]\n"
     ]
    },
    {
     "name": "stdout",
     "output_type": "stream",
     "text": [
      "Stationday 800 KMLB20090129\n"
     ]
    },
    {
     "name": "stderr",
     "output_type": "stream",
     "text": [
      "Tracking: 100%|██████████| 20/20 [00:00<00:00, 491.77it/s]\n",
      "Cleaning windfarm: 100%|██████████| 16/16 [00:04<00:00,  3.96it/s]\n",
      "Cleaning rain: 100%|██████████| 16/16 [00:00<00:00, 74648.35it/s]\n"
     ]
    },
    {
     "name": "stdout",
     "output_type": "stream",
     "text": [
      "Stationday 801 KMLB20090217\n"
     ]
    },
    {
     "name": "stderr",
     "output_type": "stream",
     "text": [
      "Tracking: 100%|██████████| 12/12 [00:00<00:00, 1057.05it/s]\n",
      "Cleaning windfarm: 100%|██████████| 10/10 [00:02<00:00,  4.62it/s]\n",
      "Cleaning rain: 100%|██████████| 10/10 [00:00<00:00, 88115.63it/s]\n"
     ]
    },
    {
     "name": "stdout",
     "output_type": "stream",
     "text": [
      "Stationday 802 KMLB20090223\n"
     ]
    },
    {
     "name": "stderr",
     "output_type": "stream",
     "text": [
      "Tracking: 100%|██████████| 11/11 [00:00<00:00, 1567.86it/s]\n",
      "Cleaning windfarm: 100%|██████████| 5/5 [00:01<00:00,  3.74it/s]\n",
      "Cleaning rain: 100%|██████████| 5/5 [00:00<00:00, 60787.01it/s]\n"
     ]
    },
    {
     "name": "stdout",
     "output_type": "stream",
     "text": [
      "Stationday 803 KMLB20090301\n"
     ]
    },
    {
     "name": "stderr",
     "output_type": "stream",
     "text": [
      "Tracking: 100%|██████████| 23/23 [00:00<00:00, 718.99it/s]\n",
      "Cleaning windfarm: 100%|██████████| 12/12 [00:03<00:00,  3.62it/s]\n",
      "Cleaning rain: 100%|██████████| 12/12 [00:00<00:00, 62757.67it/s]\n"
     ]
    },
    {
     "name": "stdout",
     "output_type": "stream",
     "text": [
      "Stationday 804 KMLB20090304\n"
     ]
    },
    {
     "name": "stderr",
     "output_type": "stream",
     "text": [
      "Tracking: 100%|██████████| 20/20 [00:00<00:00, 882.68it/s]\n",
      "Cleaning windfarm: 100%|██████████| 17/17 [00:01<00:00, 11.95it/s]\n",
      "Cleaning rain: 100%|██████████| 17/17 [00:00<00:00, 96616.76it/s]\n"
     ]
    },
    {
     "name": "stdout",
     "output_type": "stream",
     "text": [
      "Stationday 805 KMLB20090305\n"
     ]
    },
    {
     "name": "stderr",
     "output_type": "stream",
     "text": [
      "Tracking: 100%|██████████| 11/11 [00:00<00:00, 545.16it/s]\n",
      "Cleaning windfarm: 100%|██████████| 12/12 [00:02<00:00,  5.55it/s]\n",
      "Cleaning rain: 100%|██████████| 12/12 [00:00<00:00, 99864.38it/s]\n"
     ]
    },
    {
     "name": "stdout",
     "output_type": "stream",
     "text": [
      "Stationday 806 KMLB20090311\n"
     ]
    },
    {
     "name": "stderr",
     "output_type": "stream",
     "text": [
      "Tracking: 100%|██████████| 12/12 [00:00<00:00, 846.62it/s]\n",
      "Cleaning windfarm: 100%|██████████| 10/10 [00:02<00:00,  4.94it/s]\n",
      "Cleaning rain: 100%|██████████| 10/10 [00:00<00:00, 93622.86it/s]\n"
     ]
    },
    {
     "name": "stdout",
     "output_type": "stream",
     "text": [
      "Stationday 807 KMLB20090322\n"
     ]
    },
    {
     "name": "stderr",
     "output_type": "stream",
     "text": [
      "Tracking: 100%|██████████| 20/20 [00:00<00:00, 1765.58it/s]\n",
      "Cleaning windfarm: 100%|██████████| 7/7 [00:00<00:00, 10.79it/s]\n",
      "Cleaning rain: 100%|██████████| 7/7 [00:00<00:00, 62735.32it/s]\n"
     ]
    },
    {
     "name": "stdout",
     "output_type": "stream",
     "text": [
      "Stationday 808 KMLB20090327\n"
     ]
    },
    {
     "name": "stderr",
     "output_type": "stream",
     "text": [
      "Tracking: 100%|██████████| 12/12 [00:00<00:00, 1470.61it/s]\n",
      "Cleaning windfarm: 100%|██████████| 8/8 [00:02<00:00,  3.75it/s]\n",
      "Cleaning rain: 100%|██████████| 8/8 [00:00<00:00, 81640.95it/s]\n"
     ]
    },
    {
     "name": "stdout",
     "output_type": "stream",
     "text": [
      "Stationday 809 KMLB20090328\n"
     ]
    },
    {
     "name": "stderr",
     "output_type": "stream",
     "text": [
      "Tracking: 100%|██████████| 19/19 [00:00<00:00, 1421.39it/s]\n",
      "Cleaning windfarm: 100%|██████████| 8/8 [00:02<00:00,  2.98it/s]\n",
      "Cleaning rain: 100%|██████████| 8/8 [00:00<00:00, 72628.64it/s]\n"
     ]
    },
    {
     "name": "stdout",
     "output_type": "stream",
     "text": [
      "Stationday 810 KMLB20090414\n"
     ]
    },
    {
     "name": "stderr",
     "output_type": "stream",
     "text": [
      "Tracking: 100%|██████████| 26/26 [00:00<00:00, 2704.66it/s]\n",
      "Cleaning windfarm: 100%|██████████| 5/5 [00:00<00:00,  7.66it/s]\n",
      "Cleaning rain: 100%|██████████| 5/5 [00:00<00:00, 37117.73it/s]\n"
     ]
    },
    {
     "name": "stdout",
     "output_type": "stream",
     "text": [
      "Stationday 811 KMLB20090416\n"
     ]
    },
    {
     "name": "stderr",
     "output_type": "stream",
     "text": [
      "Tracking: 100%|██████████| 12/12 [00:00<00:00, 2031.80it/s]\n",
      "Cleaning windfarm: 100%|██████████| 4/4 [00:00<00:00,  5.78it/s]\n",
      "Cleaning rain: 100%|██████████| 4/4 [00:00<00:00, 40524.68it/s]\n"
     ]
    },
    {
     "name": "stdout",
     "output_type": "stream",
     "text": [
      "Stationday 812 KMLB20090417\n"
     ]
    },
    {
     "name": "stderr",
     "output_type": "stream",
     "text": [
      "Tracking: 100%|██████████| 20/20 [00:00<00:00, 1534.52it/s]\n",
      "Cleaning windfarm: 100%|██████████| 3/3 [00:01<00:00,  2.17it/s]\n",
      "Cleaning rain: 100%|██████████| 3/3 [00:00<00:00, 36792.14it/s]\n"
     ]
    },
    {
     "name": "stdout",
     "output_type": "stream",
     "text": [
      "Stationday 813 KMLB20090420\n"
     ]
    },
    {
     "name": "stderr",
     "output_type": "stream",
     "text": [
      "Tracking: 100%|██████████| 24/24 [00:00<00:00, 2078.32it/s]\n",
      "Cleaning windfarm: 100%|██████████| 3/3 [00:01<00:00,  2.22it/s]\n",
      "Cleaning rain: 100%|██████████| 3/3 [00:00<00:00, 30030.82it/s]\n"
     ]
    },
    {
     "name": "stdout",
     "output_type": "stream",
     "text": [
      "Stationday 814 KMLB20090423\n"
     ]
    },
    {
     "name": "stderr",
     "output_type": "stream",
     "text": [
      "Tracking: 100%|██████████| 11/11 [00:00<00:00, 2028.73it/s]\n",
      "Cleaning windfarm: 100%|██████████| 1/1 [00:00<00:00,  1.49it/s]\n",
      "Cleaning rain: 100%|██████████| 1/1 [00:00<00:00, 14926.35it/s]\n"
     ]
    },
    {
     "name": "stdout",
     "output_type": "stream",
     "text": [
      "Stationday 815 KMLB20090426\n"
     ]
    },
    {
     "name": "stderr",
     "output_type": "stream",
     "text": [
      "Tracking: 100%|██████████| 12/12 [00:00<00:00, 2531.01it/s]\n",
      "Cleaning windfarm: 100%|██████████| 3/3 [00:00<00:00,  4.53it/s]\n",
      "Cleaning rain: 100%|██████████| 3/3 [00:00<00:00, 40590.04it/s]\n"
     ]
    },
    {
     "name": "stdout",
     "output_type": "stream",
     "text": [
      "Stationday 816 KMLB20090427\n"
     ]
    },
    {
     "name": "stderr",
     "output_type": "stream",
     "text": [
      "Tracking: 100%|██████████| 11/11 [00:00<00:00, 2735.52it/s]\n",
      "Cleaning windfarm: 100%|██████████| 3/3 [00:00<00:00, 24013.19it/s]\n",
      "Cleaning rain: 100%|██████████| 3/3 [00:00<00:00, 38479.85it/s]\n"
     ]
    },
    {
     "name": "stdout",
     "output_type": "stream",
     "text": [
      "Stationday 817 KMLB20090501\n"
     ]
    },
    {
     "name": "stderr",
     "output_type": "stream",
     "text": [
      "Tracking: 100%|██████████| 12/12 [00:00<00:00, 2725.20it/s]\n",
      "Cleaning windfarm: 100%|██████████| 3/3 [00:00<00:00,  4.37it/s]\n",
      "Cleaning rain: 100%|██████████| 3/3 [00:00<00:00, 39693.73it/s]\n"
     ]
    },
    {
     "name": "stdout",
     "output_type": "stream",
     "text": [
      "Stationday 818 KMLB20090502\n"
     ]
    },
    {
     "name": "stderr",
     "output_type": "stream",
     "text": [
      "Tracking: 100%|██████████| 16/16 [00:00<00:00, 1391.72it/s]\n",
      "Cleaning windfarm: 100%|██████████| 7/7 [00:00<00:00, 10.53it/s]\n",
      "Cleaning rain: 100%|██████████| 7/7 [00:00<00:00, 73954.98it/s]\n"
     ]
    },
    {
     "name": "stdout",
     "output_type": "stream",
     "text": [
      "Stationday 819 KMLB20090503\n"
     ]
    },
    {
     "name": "stderr",
     "output_type": "stream",
     "text": [
      "Tracking: 100%|██████████| 11/11 [00:00<00:00, 2633.41it/s]\n",
      "Cleaning windfarm: 100%|██████████| 1/1 [00:00<00:00,  1.47it/s]\n",
      "Cleaning rain: 100%|██████████| 1/1 [00:00<00:00, 14926.35it/s]\n"
     ]
    },
    {
     "name": "stdout",
     "output_type": "stream",
     "text": [
      "Stationday 820 KMLB20091115\n"
     ]
    },
    {
     "name": "stderr",
     "output_type": "stream",
     "text": [
      "Tracking: 100%|██████████| 11/11 [00:00<00:00, 728.58it/s]\n",
      "Cleaning windfarm: 100%|██████████| 15/15 [00:02<00:00,  7.37it/s]\n",
      "Cleaning rain: 100%|██████████| 15/15 [00:00<00:00, 118931.12it/s]\n"
     ]
    },
    {
     "name": "stdout",
     "output_type": "stream",
     "text": [
      "Stationday 821 KMLB20091130\n"
     ]
    },
    {
     "name": "stderr",
     "output_type": "stream",
     "text": [
      "Tracking: 100%|██████████| 11/11 [00:00<00:00, 794.81it/s]\n",
      "Cleaning windfarm: 100%|██████████| 13/13 [00:02<00:00,  4.50it/s]\n",
      "Cleaning rain: 100%|██████████| 13/13 [00:00<00:00, 98422.30it/s]\n"
     ]
    },
    {
     "name": "stdout",
     "output_type": "stream",
     "text": [
      "Stationday 822 KMLB20091205\n"
     ]
    },
    {
     "name": "stderr",
     "output_type": "stream",
     "text": [
      "Tracking: 100%|██████████| 23/23 [00:00<00:00, 2031.31it/s]\n",
      "Cleaning windfarm: 100%|██████████| 10/10 [00:00<00:00, 14.73it/s]\n",
      "Cleaning rain: 100%|██████████| 10/10 [00:00<00:00, 75846.37it/s]\n"
     ]
    },
    {
     "name": "stdout",
     "output_type": "stream",
     "text": [
      "Stationday 823 KMLB20091207\n"
     ]
    },
    {
     "name": "stderr",
     "output_type": "stream",
     "text": [
      "Tracking: 100%|██████████| 23/23 [00:00<00:00, 802.12it/s]\n",
      "Cleaning windfarm: 100%|██████████| 9/9 [00:02<00:00,  4.18it/s]\n",
      "Cleaning rain: 100%|██████████| 9/9 [00:00<00:00, 63443.25it/s]\n"
     ]
    },
    {
     "name": "stdout",
     "output_type": "stream",
     "text": [
      "Stationday 824 KMLB20091213\n"
     ]
    },
    {
     "name": "stderr",
     "output_type": "stream",
     "text": [
      "Tracking: 100%|██████████| 23/23 [00:00<00:00, 1260.16it/s]\n",
      "Cleaning windfarm: 100%|██████████| 5/5 [00:01<00:00,  3.82it/s]\n",
      "Cleaning rain: 100%|██████████| 5/5 [00:00<00:00, 48545.19it/s]\n"
     ]
    },
    {
     "name": "stdout",
     "output_type": "stream",
     "text": [
      "Stationday 825 KMLB20091216\n"
     ]
    },
    {
     "name": "stderr",
     "output_type": "stream",
     "text": [
      "Tracking: 100%|██████████| 19/19 [00:00<00:00, 833.24it/s]\n",
      "Cleaning windfarm: 100%|██████████| 11/11 [00:00<00:00, 16.99it/s]\n",
      "Cleaning rain: 100%|██████████| 11/11 [00:00<00:00, 64347.76it/s]\n"
     ]
    },
    {
     "name": "stdout",
     "output_type": "stream",
     "text": [
      "Stationday 826 KMLB20091225\n"
     ]
    },
    {
     "name": "stderr",
     "output_type": "stream",
     "text": [
      "Tracking: 100%|██████████| 23/23 [00:00<00:00, 1999.03it/s]\n",
      "Cleaning windfarm: 100%|██████████| 4/4 [00:01<00:00,  3.11it/s]\n",
      "Cleaning rain: 100%|██████████| 4/4 [00:00<00:00, 23431.87it/s]\n"
     ]
    },
    {
     "name": "stdout",
     "output_type": "stream",
     "text": [
      "Stationday 827 KMLB20100121\n"
     ]
    },
    {
     "name": "stderr",
     "output_type": "stream",
     "text": [
      "Tracking: 100%|██████████| 12/12 [00:00<00:00, 1561.98it/s]\n",
      "Cleaning windfarm: 100%|██████████| 4/4 [00:00<00:00,  5.94it/s]\n",
      "Cleaning rain: 100%|██████████| 4/4 [00:00<00:00, 45839.39it/s]\n"
     ]
    },
    {
     "name": "stdout",
     "output_type": "stream",
     "text": [
      "Stationday 828 KMLB20100204\n"
     ]
    },
    {
     "name": "stderr",
     "output_type": "stream",
     "text": [
      "Tracking: 100%|██████████| 11/11 [00:00<00:00, 616.53it/s]\n",
      "Cleaning windfarm: 100%|██████████| 13/13 [00:03<00:00,  3.75it/s]\n",
      "Cleaning rain: 100%|██████████| 13/13 [00:00<00:00, 90876.59it/s]\n"
     ]
    },
    {
     "name": "stdout",
     "output_type": "stream",
     "text": [
      "Stationday 829 KMLB20100208\n"
     ]
    },
    {
     "name": "stderr",
     "output_type": "stream",
     "text": [
      "Tracking: 100%|██████████| 11/11 [00:00<00:00, 1100.76it/s]\n",
      "Cleaning windfarm: 100%|██████████| 13/13 [00:00<00:00, 18.56it/s]\n",
      "Cleaning rain: 100%|██████████| 13/13 [00:00<00:00, 105466.06it/s]\n"
     ]
    },
    {
     "name": "stdout",
     "output_type": "stream",
     "text": [
      "Stationday 830 KMLB20100218\n"
     ]
    },
    {
     "name": "stderr",
     "output_type": "stream",
     "text": [
      "Tracking: 100%|██████████| 11/11 [00:00<00:00, 1588.81it/s]\n",
      "Cleaning windfarm: 100%|██████████| 6/6 [00:01<00:00,  4.21it/s]\n",
      "Cleaning rain: 100%|██████████| 6/6 [00:00<00:00, 64527.75it/s]\n"
     ]
    },
    {
     "name": "stdout",
     "output_type": "stream",
     "text": [
      "Stationday 831 KMLB20100305\n"
     ]
    },
    {
     "name": "stderr",
     "output_type": "stream",
     "text": [
      "Tracking: 100%|██████████| 11/11 [00:00<00:00, 599.71it/s]\n",
      "Cleaning windfarm: 100%|██████████| 15/15 [00:02<00:00,  7.09it/s]\n",
      "Cleaning rain: 100%|██████████| 15/15 [00:00<00:00, 111947.62it/s]\n"
     ]
    },
    {
     "name": "stdout",
     "output_type": "stream",
     "text": [
      "Stationday 832 KMLB20100306\n"
     ]
    },
    {
     "name": "stderr",
     "output_type": "stream",
     "text": [
      "Tracking: 100%|██████████| 11/11 [00:00<00:00, 478.02it/s]\n",
      "Cleaning windfarm: 100%|██████████| 21/21 [00:02<00:00,  7.91it/s]\n",
      "Cleaning rain: 100%|██████████| 21/21 [00:00<00:00, 118070.22it/s]\n"
     ]
    },
    {
     "name": "stdout",
     "output_type": "stream",
     "text": [
      "Stationday 833 KMLB20100317\n"
     ]
    },
    {
     "name": "stderr",
     "output_type": "stream",
     "text": [
      "Tracking: 100%|██████████| 18/18 [00:00<00:00, 1240.76it/s]\n",
      "Cleaning windfarm: 100%|██████████| 18/18 [00:00<00:00, 65196.44it/s]\n",
      "Cleaning rain: 100%|██████████| 18/18 [00:00<00:00, 92295.20it/s]\n"
     ]
    },
    {
     "name": "stdout",
     "output_type": "stream",
     "text": [
      "Stationday 834 KMLB20100319\n"
     ]
    },
    {
     "name": "stderr",
     "output_type": "stream",
     "text": [
      "Tracking: 100%|██████████| 11/11 [00:00<00:00, 2111.45it/s]\n",
      "Cleaning windfarm: 100%|██████████| 2/2 [00:00<00:00, 18724.57it/s]\n",
      "Cleaning rain: 100%|██████████| 2/2 [00:00<00:00, 29228.60it/s]\n"
     ]
    },
    {
     "name": "stdout",
     "output_type": "stream",
     "text": [
      "Stationday 835 KMLB20100324\n"
     ]
    },
    {
     "name": "stderr",
     "output_type": "stream",
     "text": [
      "Tracking: 100%|██████████| 11/11 [00:00<00:00, 557.60it/s]\n",
      "Cleaning windfarm: 100%|██████████| 21/21 [00:01<00:00, 16.92it/s]\n",
      "Cleaning rain: 100%|██████████| 21/21 [00:00<00:00, 135300.13it/s]\n"
     ]
    },
    {
     "name": "stdout",
     "output_type": "stream",
     "text": [
      "Stationday 836 KMLB20100326\n"
     ]
    },
    {
     "name": "stderr",
     "output_type": "stream",
     "text": [
      "Tracking: 100%|██████████| 19/19 [00:00<00:00, 2139.43it/s]\n",
      "Cleaning windfarm: 100%|██████████| 6/6 [00:02<00:00,  2.97it/s]\n",
      "Cleaning rain: 100%|██████████| 6/6 [00:00<00:00, 57587.70it/s]\n"
     ]
    },
    {
     "name": "stdout",
     "output_type": "stream",
     "text": [
      "Stationday 837 KMLB20101020\n"
     ]
    },
    {
     "name": "stderr",
     "output_type": "stream",
     "text": [
      "Tracking: 100%|██████████| 11/11 [00:00<00:00, 984.81it/s]\n",
      "Cleaning windfarm: 100%|██████████| 6/6 [00:01<00:00,  4.36it/s]\n",
      "Cleaning rain: 100%|██████████| 6/6 [00:00<00:00, 60640.54it/s]\n"
     ]
    },
    {
     "name": "stdout",
     "output_type": "stream",
     "text": [
      "Stationday 838 KMLB20101022\n"
     ]
    },
    {
     "name": "stderr",
     "output_type": "stream",
     "text": [
      "Tracking: 100%|██████████| 11/11 [00:00<00:00, 518.87it/s]\n",
      "Cleaning windfarm: 100%|██████████| 12/12 [00:01<00:00,  8.24it/s]\n",
      "Cleaning rain: 100%|██████████| 12/12 [00:00<00:00, 104857.60it/s]\n"
     ]
    },
    {
     "name": "stdout",
     "output_type": "stream",
     "text": [
      "Stationday 839 KMLB20101025\n"
     ]
    },
    {
     "name": "stderr",
     "output_type": "stream",
     "text": [
      "Tracking: 100%|██████████| 20/20 [00:00<00:00, 2531.87it/s]\n",
      "Cleaning windfarm: 100%|██████████| 5/5 [00:00<00:00,  7.92it/s]\n",
      "Cleaning rain: 100%|██████████| 5/5 [00:00<00:00, 52692.26it/s]\n"
     ]
    },
    {
     "name": "stdout",
     "output_type": "stream",
     "text": [
      "Stationday 840 KMLB20101026\n"
     ]
    },
    {
     "name": "stderr",
     "output_type": "stream",
     "text": [
      "Tracking: 100%|██████████| 20/20 [00:00<00:00, 2685.21it/s]\n",
      "Cleaning windfarm: 100%|██████████| 4/4 [00:00<00:00,  6.19it/s]\n",
      "Cleaning rain: 100%|██████████| 4/4 [00:00<00:00, 42153.81it/s]\n"
     ]
    },
    {
     "name": "stdout",
     "output_type": "stream",
     "text": [
      "Stationday 841 KMLB20101119\n"
     ]
    },
    {
     "name": "stderr",
     "output_type": "stream",
     "text": [
      "Tracking: 100%|██████████| 11/11 [00:00<00:00, 1604.50it/s]\n",
      "Cleaning windfarm: 100%|██████████| 7/7 [00:00<00:00, 11.93it/s]\n",
      "Cleaning rain: 100%|██████████| 7/7 [00:00<00:00, 73954.98it/s]\n"
     ]
    },
    {
     "name": "stdout",
     "output_type": "stream",
     "text": [
      "Stationday 842 KMLB20101123\n"
     ]
    },
    {
     "name": "stderr",
     "output_type": "stream",
     "text": [
      "Tracking: 100%|██████████| 19/19 [00:00<00:00, 596.55it/s]\n",
      "Cleaning windfarm: 100%|██████████| 12/12 [00:03<00:00,  3.08it/s]\n",
      "Cleaning rain: 100%|██████████| 12/12 [00:00<00:00, 54589.64it/s]\n"
     ]
    },
    {
     "name": "stdout",
     "output_type": "stream",
     "text": [
      "Stationday 843 KMLB20101129\n"
     ]
    },
    {
     "name": "stderr",
     "output_type": "stream",
     "text": [
      "Tracking: 100%|██████████| 24/24 [00:00<00:00, 583.80it/s]\n",
      "Cleaning windfarm: 100%|██████████| 13/13 [00:03<00:00,  3.31it/s]\n",
      "Cleaning rain: 100%|██████████| 13/13 [00:00<00:00, 77672.30it/s]\n"
     ]
    },
    {
     "name": "stdout",
     "output_type": "stream",
     "text": [
      "Stationday 844 KMLB20101224\n"
     ]
    },
    {
     "name": "stderr",
     "output_type": "stream",
     "text": [
      "Tracking: 100%|██████████| 11/11 [00:00<00:00, 1281.27it/s]\n",
      "Cleaning windfarm: 100%|██████████| 4/4 [00:02<00:00,  1.54it/s]\n",
      "Cleaning rain: 100%|██████████| 4/4 [00:00<00:00, 21345.06it/s]\n"
     ]
    },
    {
     "name": "stdout",
     "output_type": "stream",
     "text": [
      "Stationday 845 KMLB20101228\n"
     ]
    },
    {
     "name": "stderr",
     "output_type": "stream",
     "text": [
      "Tracking: 100%|██████████| 12/12 [00:00<00:00, 467.18it/s]\n",
      "Cleaning windfarm: 100%|██████████| 23/23 [00:02<00:00,  8.47it/s]\n",
      "Cleaning rain: 100%|██████████| 23/23 [00:00<00:00, 137029.82it/s]\n"
     ]
    },
    {
     "name": "stdout",
     "output_type": "stream",
     "text": [
      "Stationday 846 KMLB20110105\n"
     ]
    },
    {
     "name": "stderr",
     "output_type": "stream",
     "text": [
      "Tracking: 100%|██████████| 21/21 [00:00<00:00, 506.38it/s]\n",
      "Cleaning windfarm: 100%|██████████| 30/30 [00:03<00:00,  7.78it/s]\n",
      "Cleaning rain: 100%|██████████| 30/30 [00:00<00:00, 102885.63it/s]\n"
     ]
    },
    {
     "name": "stdout",
     "output_type": "stream",
     "text": [
      "Stationday 847 KMLB20110109\n"
     ]
    },
    {
     "name": "stderr",
     "output_type": "stream",
     "text": [
      "Tracking: 100%|██████████| 11/11 [00:00<00:00, 532.83it/s]\n",
      "Cleaning windfarm: 100%|██████████| 23/23 [00:01<00:00, 16.43it/s]\n",
      "Cleaning rain: 100%|██████████| 23/23 [00:00<00:00, 117645.11it/s]\n"
     ]
    },
    {
     "name": "stdout",
     "output_type": "stream",
     "text": [
      "Stationday 848 KMLB20110117\n"
     ]
    },
    {
     "name": "stderr",
     "output_type": "stream",
     "text": [
      "Tracking: 100%|██████████| 36/36 [00:00<00:00, 559.74it/s]\n",
      "Cleaning windfarm: 100%|██████████| 18/18 [00:04<00:00,  3.81it/s]\n",
      "Cleaning rain: 100%|██████████| 18/18 [00:00<00:00, 21794.88it/s]\n"
     ]
    },
    {
     "name": "stdout",
     "output_type": "stream",
     "text": [
      "Stationday 849 KMLB20110118\n"
     ]
    },
    {
     "name": "stderr",
     "output_type": "stream",
     "text": [
      "Tracking: 100%|██████████| 12/12 [00:00<00:00, 1080.50it/s]\n",
      "Cleaning windfarm: 100%|██████████| 5/5 [00:00<00:00,  6.45it/s]\n",
      "Cleaning rain: 100%|██████████| 5/5 [00:00<00:00, 58743.75it/s]\n"
     ]
    },
    {
     "name": "stdout",
     "output_type": "stream",
     "text": [
      "Stationday 850 KMLB20110201\n"
     ]
    },
    {
     "name": "stderr",
     "output_type": "stream",
     "text": [
      "Tracking: 100%|██████████| 11/11 [00:00<00:00, 658.12it/s]\n",
      "Cleaning windfarm: 100%|██████████| 11/11 [00:03<00:00,  3.31it/s]\n",
      "Cleaning rain: 100%|██████████| 11/11 [00:00<00:00, 91000.68it/s]\n"
     ]
    },
    {
     "name": "stdout",
     "output_type": "stream",
     "text": [
      "Stationday 851 KMLB20110202\n"
     ]
    },
    {
     "name": "stderr",
     "output_type": "stream",
     "text": [
      "Tracking: 100%|██████████| 11/11 [00:00<00:00, 726.16it/s]\n",
      "Cleaning windfarm: 100%|██████████| 10/10 [00:01<00:00,  5.47it/s]\n",
      "Cleaning rain: 100%|██████████| 10/10 [00:00<00:00, 94042.69it/s]\n"
     ]
    },
    {
     "name": "stdout",
     "output_type": "stream",
     "text": [
      "Stationday 852 KMLB20110207\n"
     ]
    },
    {
     "name": "stderr",
     "output_type": "stream",
     "text": [
      "Tracking: 100%|██████████| 23/23 [00:00<00:00, 591.04it/s]\n",
      "Cleaning windfarm: 100%|██████████| 12/12 [00:04<00:00,  2.72it/s]\n",
      "Cleaning rain: 100%|██████████| 12/12 [00:00<00:00, 68947.46it/s]\n"
     ]
    },
    {
     "name": "stdout",
     "output_type": "stream",
     "text": [
      "Stationday 853 KMLB20110208\n"
     ]
    },
    {
     "name": "stderr",
     "output_type": "stream",
     "text": [
      "Tracking: 100%|██████████| 11/11 [00:00<00:00, 924.73it/s]\n",
      "Cleaning windfarm: 100%|██████████| 7/7 [00:01<00:00,  4.87it/s]\n",
      "Cleaning rain: 100%|██████████| 7/7 [00:00<00:00, 74707.70it/s]\n"
     ]
    },
    {
     "name": "stdout",
     "output_type": "stream",
     "text": [
      "Stationday 854 KMLB20110217\n"
     ]
    },
    {
     "name": "stderr",
     "output_type": "stream",
     "text": [
      "Tracking: 100%|██████████| 23/23 [00:00<00:00, 461.40it/s]\n",
      "Cleaning windfarm: 100%|██████████| 19/19 [00:02<00:00,  7.39it/s]\n",
      "Cleaning rain: 100%|██████████| 19/19 [00:00<00:00, 100748.14it/s]\n"
     ]
    },
    {
     "name": "stdout",
     "output_type": "stream",
     "text": [
      "Stationday 855 KMLB20110219\n"
     ]
    },
    {
     "name": "stderr",
     "output_type": "stream",
     "text": [
      "Tracking: 100%|██████████| 11/11 [00:00<00:00, 709.15it/s]\n",
      "Cleaning windfarm: 100%|██████████| 16/16 [00:03<00:00,  5.03it/s]\n",
      "Cleaning rain: 100%|██████████| 16/16 [00:00<00:00, 116508.44it/s]\n"
     ]
    },
    {
     "name": "stdout",
     "output_type": "stream",
     "text": [
      "Stationday 856 KMLB20110220\n"
     ]
    },
    {
     "name": "stderr",
     "output_type": "stream",
     "text": [
      "Tracking: 100%|██████████| 12/12 [00:00<00:00, 1102.34it/s]\n",
      "Cleaning windfarm: 100%|██████████| 8/8 [00:02<00:00,  3.01it/s]\n",
      "Cleaning rain: 100%|██████████| 8/8 [00:00<00:00, 81049.35it/s]\n"
     ]
    },
    {
     "name": "stdout",
     "output_type": "stream",
     "text": [
      "Stationday 857 KMLB20110223\n"
     ]
    },
    {
     "name": "stderr",
     "output_type": "stream",
     "text": [
      "Tracking: 100%|██████████| 11/11 [00:00<00:00, 702.54it/s]\n",
      "Cleaning windfarm: 100%|██████████| 9/9 [00:04<00:00,  2.24it/s]\n",
      "Cleaning rain: 100%|██████████| 9/9 [00:00<00:00, 48582.67it/s]\n"
     ]
    },
    {
     "name": "stdout",
     "output_type": "stream",
     "text": [
      "Stationday 858 KMLB20110226\n"
     ]
    },
    {
     "name": "stderr",
     "output_type": "stream",
     "text": [
      "Tracking: 100%|██████████| 11/11 [00:00<00:00, 808.21it/s]\n",
      "Cleaning windfarm: 100%|██████████| 9/9 [00:01<00:00,  4.61it/s]\n",
      "Cleaning rain: 100%|██████████| 9/9 [00:00<00:00, 89030.04it/s]\n"
     ]
    },
    {
     "name": "stdout",
     "output_type": "stream",
     "text": [
      "Stationday 859 KMLB20110302\n"
     ]
    },
    {
     "name": "stderr",
     "output_type": "stream",
     "text": [
      "Tracking: 100%|██████████| 24/24 [00:00<00:00, 1727.38it/s]\n",
      "Cleaning windfarm: 100%|██████████| 6/6 [00:00<00:00,  8.70it/s]\n",
      "Cleaning rain: 100%|██████████| 6/6 [00:00<00:00, 36525.14it/s]\n"
     ]
    },
    {
     "name": "stdout",
     "output_type": "stream",
     "text": [
      "Stationday 860 KMLB20110307\n"
     ]
    },
    {
     "name": "stderr",
     "output_type": "stream",
     "text": [
      "Tracking: 100%|██████████| 11/11 [00:00<00:00, 2576.35it/s]\n",
      "Cleaning windfarm: 100%|██████████| 2/2 [00:00<00:00,  3.41it/s]\n",
      "Cleaning rain: 100%|██████████| 2/2 [00:00<00:00, 30393.51it/s]\n"
     ]
    },
    {
     "name": "stdout",
     "output_type": "stream",
     "text": [
      "Stationday 861 KMLB20110313\n"
     ]
    },
    {
     "name": "stderr",
     "output_type": "stream",
     "text": [
      "Tracking: 100%|██████████| 11/11 [00:00<00:00, 1044.23it/s]\n",
      "Cleaning windfarm: 100%|██████████| 5/5 [00:01<00:00,  2.61it/s]\n",
      "Cleaning rain: 100%|██████████| 5/5 [00:00<00:00, 44906.90it/s]\n"
     ]
    },
    {
     "name": "stdout",
     "output_type": "stream",
     "text": [
      "Stationday 862 KMLB20110320\n"
     ]
    },
    {
     "name": "stderr",
     "output_type": "stream",
     "text": [
      "Tracking: 100%|██████████| 12/12 [00:00<00:00, 1445.19it/s]\n",
      "Cleaning windfarm: 100%|██████████| 7/7 [00:00<00:00, 10.79it/s]\n",
      "Cleaning rain: 100%|██████████| 7/7 [00:00<00:00, 71785.15it/s]\n"
     ]
    },
    {
     "name": "stdout",
     "output_type": "stream",
     "text": [
      "Stationday 863 KMLB20110325\n"
     ]
    },
    {
     "name": "stderr",
     "output_type": "stream",
     "text": [
      "Tracking: 100%|██████████| 12/12 [00:00<00:00, 772.67it/s]\n",
      "Cleaning windfarm: 100%|██████████| 10/10 [00:03<00:00,  3.10it/s]\n",
      "Cleaning rain: 100%|██████████| 10/10 [00:00<00:00, 84222.97it/s]\n"
     ]
    },
    {
     "name": "stdout",
     "output_type": "stream",
     "text": [
      "Stationday 864 KMLB20110326\n"
     ]
    },
    {
     "name": "stderr",
     "output_type": "stream",
     "text": [
      "Tracking: 100%|██████████| 11/11 [00:00<00:00, 566.99it/s]\n",
      "Cleaning windfarm: 100%|██████████| 15/15 [00:04<00:00,  3.75it/s]\n",
      "Cleaning rain: 100%|██████████| 15/15 [00:00<00:00, 115228.13it/s]\n"
     ]
    },
    {
     "name": "stdout",
     "output_type": "stream",
     "text": [
      "Stationday 865 KMLB20110402\n"
     ]
    },
    {
     "name": "stderr",
     "output_type": "stream",
     "text": [
      "Tracking: 100%|██████████| 11/11 [00:00<00:00, 525.20it/s]\n",
      "Cleaning windfarm: 100%|██████████| 10/10 [00:01<00:00,  5.18it/s]\n",
      "Cleaning rain: 100%|██████████| 10/10 [00:00<00:00, 93832.30it/s]\n"
     ]
    },
    {
     "name": "stdout",
     "output_type": "stream",
     "text": [
      "Stationday 866 KMLB20110406\n"
     ]
    },
    {
     "name": "stderr",
     "output_type": "stream",
     "text": [
      "Tracking: 100%|██████████| 10/10 [00:00<00:00, 1263.00it/s]\n",
      "Cleaning windfarm: 100%|██████████| 6/6 [00:01<00:00,  4.48it/s]\n",
      "Cleaning rain: 100%|██████████| 6/6 [00:00<00:00, 60494.77it/s]\n"
     ]
    },
    {
     "name": "stdout",
     "output_type": "stream",
     "text": [
      "Stationday 867 KMLB20110414\n"
     ]
    },
    {
     "name": "stderr",
     "output_type": "stream",
     "text": [
      "Tracking: 100%|██████████| 11/11 [00:00<00:00, 1902.96it/s]\n",
      "Cleaning windfarm: 100%|██████████| 5/5 [00:01<00:00,  3.41it/s]\n",
      "Cleaning rain: 100%|██████████| 5/5 [00:00<00:00, 20867.18it/s]\n"
     ]
    },
    {
     "name": "stdout",
     "output_type": "stream",
     "text": [
      "Stationday 868 KMLB20110415\n"
     ]
    },
    {
     "name": "stderr",
     "output_type": "stream",
     "text": [
      "Tracking: 100%|██████████| 11/11 [00:00<00:00, 980.52it/s]\n",
      "Cleaning windfarm: 100%|██████████| 3/3 [00:01<00:00,  2.30it/s]\n",
      "Cleaning rain: 100%|██████████| 3/3 [00:00<00:00, 34952.53it/s]\n"
     ]
    },
    {
     "name": "stdout",
     "output_type": "stream",
     "text": [
      "Stationday 869 KMLB20110416\n"
     ]
    },
    {
     "name": "stderr",
     "output_type": "stream",
     "text": [
      "Tracking: 100%|██████████| 23/23 [00:00<00:00, 874.31it/s]\n",
      "Cleaning windfarm: 100%|██████████| 9/9 [00:01<00:00,  7.45it/s]\n",
      "Cleaning rain: 100%|██████████| 9/9 [00:00<00:00, 28339.89it/s]\n"
     ]
    },
    {
     "name": "stdout",
     "output_type": "stream",
     "text": [
      "Stationday 870 KMLB20110418\n"
     ]
    },
    {
     "name": "stderr",
     "output_type": "stream",
     "text": [
      "Tracking: 100%|██████████| 11/11 [00:00<00:00, 1177.15it/s]\n",
      "Cleaning windfarm: 100%|██████████| 5/5 [00:01<00:00,  3.54it/s]\n",
      "Cleaning rain: 100%|██████████| 5/5 [00:00<00:00, 33394.14it/s]\n"
     ]
    },
    {
     "name": "stdout",
     "output_type": "stream",
     "text": [
      "Stationday 871 KMLB20110423\n"
     ]
    },
    {
     "name": "stderr",
     "output_type": "stream",
     "text": [
      "Tracking: 100%|██████████| 11/11 [00:00<00:00, 2163.23it/s]\n",
      "Cleaning windfarm: 100%|██████████| 4/4 [00:01<00:00,  3.01it/s]\n",
      "Cleaning rain: 100%|██████████| 4/4 [00:00<00:00, 47259.76it/s]\n"
     ]
    },
    {
     "name": "stdout",
     "output_type": "stream",
     "text": [
      "Stationday 872 KMLB20110429\n"
     ]
    },
    {
     "name": "stderr",
     "output_type": "stream",
     "text": [
      "Tracking: 100%|██████████| 33/33 [00:00<00:00, 1149.80it/s]\n",
      "Cleaning windfarm: 100%|██████████| 7/7 [00:01<00:00,  4.78it/s]\n",
      "Cleaning rain: 100%|██████████| 7/7 [00:00<00:00, 59796.59it/s]\n"
     ]
    },
    {
     "name": "stdout",
     "output_type": "stream",
     "text": [
      "Stationday 873 KMLB20110501\n"
     ]
    },
    {
     "name": "stderr",
     "output_type": "stream",
     "text": [
      "Tracking: 100%|██████████| 11/11 [00:00<00:00, 2271.10it/s]\n",
      "Cleaning windfarm: 100%|██████████| 4/4 [00:01<00:00,  3.00it/s]\n",
      "Cleaning rain: 100%|██████████| 4/4 [00:00<00:00, 51622.20it/s]\n"
     ]
    },
    {
     "name": "stdout",
     "output_type": "stream",
     "text": [
      "Stationday 874 KMLB20111024\n"
     ]
    },
    {
     "name": "stderr",
     "output_type": "stream",
     "text": [
      "Tracking: 100%|██████████| 11/11 [00:00<00:00, 2485.18it/s]\n",
      "Cleaning windfarm: 100%|██████████| 5/5 [00:00<00:00,  6.26it/s]\n",
      "Cleaning rain: 100%|██████████| 5/5 [00:00<00:00, 26990.37it/s]\n"
     ]
    },
    {
     "name": "stdout",
     "output_type": "stream",
     "text": [
      "Stationday 875 KMLB20111027\n"
     ]
    },
    {
     "name": "stderr",
     "output_type": "stream",
     "text": [
      "Tracking: 100%|██████████| 23/23 [00:00<00:00, 875.08it/s]\n",
      "Cleaning windfarm: 100%|██████████| 13/13 [00:00<00:00, 19.82it/s]\n",
      "Cleaning rain: 100%|██████████| 13/13 [00:00<00:00, 80899.04it/s]\n"
     ]
    },
    {
     "name": "stdout",
     "output_type": "stream",
     "text": [
      "Stationday 876 KMLB20111104\n"
     ]
    },
    {
     "name": "stderr",
     "output_type": "stream",
     "text": [
      "Tracking: 100%|██████████| 17/17 [00:00<00:00, 464.15it/s]\n",
      "Cleaning windfarm: 100%|██████████| 17/17 [00:03<00:00,  5.46it/s]\n",
      "Cleaning rain: 100%|██████████| 17/17 [00:00<00:00, 69768.27it/s]\n"
     ]
    },
    {
     "name": "stdout",
     "output_type": "stream",
     "text": [
      "Stationday 877 KMLB20111109\n"
     ]
    },
    {
     "name": "stderr",
     "output_type": "stream",
     "text": [
      "Tracking: 100%|██████████| 23/23 [00:00<00:00, 737.38it/s]\n",
      "Cleaning windfarm: 100%|██████████| 15/15 [00:02<00:00,  7.25it/s]\n",
      "Cleaning rain: 100%|██████████| 15/15 [00:00<00:00, 94893.76it/s]\n"
     ]
    },
    {
     "name": "stdout",
     "output_type": "stream",
     "text": [
      "Stationday 878 KMLB20111110\n"
     ]
    },
    {
     "name": "stderr",
     "output_type": "stream",
     "text": [
      "Tracking: 100%|██████████| 23/23 [00:00<00:00, 538.10it/s]\n",
      "Cleaning windfarm: 100%|██████████| 21/21 [00:03<00:00,  6.69it/s]\n",
      "Cleaning rain: 100%|██████████| 21/21 [00:00<00:00, 88790.71it/s]\n"
     ]
    },
    {
     "name": "stdout",
     "output_type": "stream",
     "text": [
      "Stationday 879 KMLB20111112\n"
     ]
    },
    {
     "name": "stderr",
     "output_type": "stream",
     "text": [
      "Tracking: 100%|██████████| 11/11 [00:00<00:00, 1431.99it/s]\n",
      "Cleaning windfarm: 100%|██████████| 5/5 [00:00<00:00,  6.15it/s]\n",
      "Cleaning rain: 100%|██████████| 5/5 [00:00<00:00, 25606.25it/s]\n"
     ]
    },
    {
     "name": "stdout",
     "output_type": "stream",
     "text": [
      "Stationday 880 KMLB20111124\n"
     ]
    },
    {
     "name": "stderr",
     "output_type": "stream",
     "text": [
      "Tracking: 100%|██████████| 11/11 [00:00<00:00, 252.62it/s]\n",
      "Cleaning windfarm: 100%|██████████| 12/12 [00:02<00:00,  4.46it/s]\n",
      "Cleaning rain: 100%|██████████| 12/12 [00:00<00:00, 100663.30it/s]\n"
     ]
    },
    {
     "name": "stdout",
     "output_type": "stream",
     "text": [
      "Stationday 881 KMLB20111126\n"
     ]
    },
    {
     "name": "stderr",
     "output_type": "stream",
     "text": [
      "Tracking: 100%|██████████| 23/23 [00:00<00:00, 576.31it/s]\n",
      "Cleaning windfarm: 100%|██████████| 18/18 [00:04<00:00,  3.93it/s]\n",
      "Cleaning rain: 100%|██████████| 18/18 [00:00<00:00, 74089.77it/s]\n"
     ]
    },
    {
     "name": "stdout",
     "output_type": "stream",
     "text": [
      "Stationday 882 KMLB20111127\n"
     ]
    },
    {
     "name": "stderr",
     "output_type": "stream",
     "text": [
      "Tracking: 100%|██████████| 24/24 [00:00<00:00, 417.26it/s]\n",
      "Cleaning windfarm: 100%|██████████| 18/18 [00:04<00:00,  4.49it/s]\n",
      "Cleaning rain: 100%|██████████| 18/18 [00:00<00:00, 72246.38it/s]\n"
     ]
    },
    {
     "name": "stdout",
     "output_type": "stream",
     "text": [
      "Stationday 883 KMLB20111128\n"
     ]
    },
    {
     "name": "stderr",
     "output_type": "stream",
     "text": [
      "Tracking: 100%|██████████| 36/36 [00:00<00:00, 488.65it/s]\n",
      "Cleaning windfarm: 100%|██████████| 14/14 [00:04<00:00,  2.99it/s]\n",
      "Cleaning rain: 100%|██████████| 14/14 [00:00<00:00, 64386.25it/s]\n"
     ]
    },
    {
     "name": "stdout",
     "output_type": "stream",
     "text": [
      "Stationday 884 KMLB20111218\n"
     ]
    },
    {
     "name": "stderr",
     "output_type": "stream",
     "text": [
      "Tracking: 100%|██████████| 16/16 [00:00<00:00, 646.83it/s]\n",
      "Cleaning windfarm: 100%|██████████| 15/15 [00:01<00:00, 10.17it/s]\n",
      "Cleaning rain: 100%|██████████| 15/15 [00:00<00:00, 101968.49it/s]\n"
     ]
    },
    {
     "name": "stdout",
     "output_type": "stream",
     "text": [
      "Stationday 885 KMLB20111227\n"
     ]
    },
    {
     "name": "stderr",
     "output_type": "stream",
     "text": [
      "Tracking: 100%|██████████| 36/36 [00:00<00:00, 332.80it/s]\n",
      "Cleaning windfarm: 100%|██████████| 21/21 [00:06<00:00,  3.47it/s]\n",
      "Cleaning rain: 100%|██████████| 21/21 [00:00<00:00, 62468.36it/s]\n"
     ]
    },
    {
     "name": "stdout",
     "output_type": "stream",
     "text": [
      "Stationday 886 KMLB20111229\n"
     ]
    },
    {
     "name": "stderr",
     "output_type": "stream",
     "text": [
      "Tracking: 100%|██████████| 11/11 [00:00<00:00, 827.90it/s]\n",
      "Cleaning windfarm: 100%|██████████| 12/12 [00:01<00:00,  6.29it/s]\n",
      "Cleaning rain: 100%|██████████| 12/12 [00:00<00:00, 59213.70it/s]\n"
     ]
    },
    {
     "name": "stdout",
     "output_type": "stream",
     "text": [
      "Stationday 887 KMLB20120101\n"
     ]
    },
    {
     "name": "stderr",
     "output_type": "stream",
     "text": [
      "Tracking: 100%|██████████| 11/11 [00:00<00:00, 565.31it/s]\n",
      "Cleaning windfarm: 100%|██████████| 14/14 [00:04<00:00,  3.48it/s]\n",
      "Cleaning rain: 100%|██████████| 14/14 [00:00<00:00, 80218.93it/s]\n"
     ]
    },
    {
     "name": "stdout",
     "output_type": "stream",
     "text": [
      "Stationday 888 KMLB20120104\n"
     ]
    },
    {
     "name": "stderr",
     "output_type": "stream",
     "text": [
      "Tracking: 100%|██████████| 11/11 [00:00<00:00, 1525.76it/s]\n",
      "Cleaning windfarm: 100%|██████████| 10/10 [00:00<00:00, 22121.86it/s]\n",
      "Cleaning rain: 100%|██████████| 10/10 [00:00<00:00, 39869.81it/s]\n"
     ]
    },
    {
     "name": "stdout",
     "output_type": "stream",
     "text": [
      "Stationday 889 KMLB20120130\n"
     ]
    },
    {
     "name": "stderr",
     "output_type": "stream",
     "text": [
      "Tracking: 100%|██████████| 11/11 [00:00<00:00, 736.90it/s]\n",
      "Cleaning windfarm: 100%|██████████| 7/7 [00:02<00:00,  3.36it/s]\n",
      "Cleaning rain: 100%|██████████| 7/7 [00:00<00:00, 166.13it/s]\n"
     ]
    },
    {
     "name": "stdout",
     "output_type": "stream",
     "text": [
      "Stationday 890 KMLB20120207\n"
     ]
    },
    {
     "name": "stderr",
     "output_type": "stream",
     "text": [
      "Tracking: 100%|██████████| 22/22 [00:00<00:00, 2550.22it/s]\n",
      "Cleaning windfarm: 100%|██████████| 7/7 [00:00<00:00, 10.36it/s]\n",
      "Cleaning rain: 100%|██████████| 7/7 [00:00<00:00, 142.66it/s]\n"
     ]
    },
    {
     "name": "stdout",
     "output_type": "stream",
     "text": [
      "Stationday 891 KMLB20120208\n"
     ]
    },
    {
     "name": "stderr",
     "output_type": "stream",
     "text": [
      "Tracking: 100%|██████████| 19/19 [00:00<00:00, 5041.55it/s]\n",
      "Cleaning windfarm: 100%|██████████| 2/2 [00:00<00:00,  2.53it/s]\n",
      "Cleaning rain: 100%|██████████| 2/2 [00:00<00:00, 125.01it/s]\n"
     ]
    },
    {
     "name": "stdout",
     "output_type": "stream",
     "text": [
      "Stationday 892 KMLB20120209\n"
     ]
    },
    {
     "name": "stderr",
     "output_type": "stream",
     "text": [
      "Tracking: 100%|██████████| 19/19 [00:00<00:00, 416.65it/s]\n",
      "Cleaning windfarm: 100%|██████████| 13/13 [00:02<00:00,  6.28it/s]\n",
      "Cleaning rain: 100%|██████████| 13/13 [00:00<00:00, 167.47it/s]\n"
     ]
    },
    {
     "name": "stdout",
     "output_type": "stream",
     "text": [
      "Stationday 893 KMLB20120217\n"
     ]
    },
    {
     "name": "stderr",
     "output_type": "stream",
     "text": [
      "Tracking: 100%|██████████| 19/19 [00:00<00:00, 1023.09it/s]\n",
      "Cleaning windfarm: 100%|██████████| 14/14 [00:04<00:00,  3.49it/s]\n",
      "Cleaning rain: 100%|██████████| 14/14 [00:00<00:00, 177.42it/s]\n"
     ]
    },
    {
     "name": "stdout",
     "output_type": "stream",
     "text": [
      "Stationday 894 KMLB20120220\n"
     ]
    },
    {
     "name": "stderr",
     "output_type": "stream",
     "text": [
      "Tracking: 100%|██████████| 13/13 [00:00<00:00, 1119.38it/s]\n",
      "Cleaning windfarm: 100%|██████████| 6/6 [00:01<00:00,  3.02it/s]\n",
      "Cleaning rain: 100%|██████████| 6/6 [00:00<00:00, 167.49it/s]\n"
     ]
    },
    {
     "name": "stdout",
     "output_type": "stream",
     "text": [
      "Stationday 895 KMLB20120229\n"
     ]
    },
    {
     "name": "stderr",
     "output_type": "stream",
     "text": [
      "Tracking: 100%|██████████| 16/16 [00:00<00:00, 1062.44it/s]\n",
      "Cleaning windfarm: 100%|██████████| 12/12 [00:01<00:00,  6.81it/s]\n",
      "Cleaning rain: 100%|██████████| 12/12 [00:00<00:00, 136.88it/s]\n"
     ]
    },
    {
     "name": "stdout",
     "output_type": "stream",
     "text": [
      "Stationday 896 KMLB20120315\n"
     ]
    },
    {
     "name": "stderr",
     "output_type": "stream",
     "text": [
      "Tracking: 100%|██████████| 19/19 [00:00<00:00, 1586.06it/s]\n",
      "Cleaning windfarm: 100%|██████████| 6/6 [00:00<00:00, 10.03it/s]\n",
      "Cleaning rain: 100%|██████████| 6/6 [00:00<00:00, 152.54it/s]\n"
     ]
    },
    {
     "name": "stdout",
     "output_type": "stream",
     "text": [
      "Stationday 897 KMLB20120316\n"
     ]
    },
    {
     "name": "stderr",
     "output_type": "stream",
     "text": [
      "Tracking: 100%|██████████| 20/20 [00:00<00:00, 1201.36it/s]\n",
      "Cleaning windfarm: 100%|██████████| 5/5 [00:01<00:00,  2.76it/s]\n",
      "Cleaning rain: 100%|██████████| 5/5 [00:00<00:00, 127.83it/s]\n"
     ]
    },
    {
     "name": "stdout",
     "output_type": "stream",
     "text": [
      "Stationday 898 KMLB20120317\n"
     ]
    },
    {
     "name": "stderr",
     "output_type": "stream",
     "text": [
      "Tracking: 100%|██████████| 11/11 [00:00<00:00, 1635.03it/s]\n",
      "Cleaning windfarm: 100%|██████████| 5/5 [00:01<00:00,  3.79it/s]\n",
      "Cleaning rain: 100%|██████████| 5/5 [00:00<00:00, 139.96it/s]\n"
     ]
    },
    {
     "name": "stdout",
     "output_type": "stream",
     "text": [
      "Stationday 899 KMLB20120320\n"
     ]
    },
    {
     "name": "stderr",
     "output_type": "stream",
     "text": [
      "Tracking: 100%|██████████| 19/19 [00:00<00:00, 820.51it/s]\n",
      "Cleaning windfarm: 100%|██████████| 4/4 [00:02<00:00,  1.65it/s]\n",
      "Cleaning rain: 100%|██████████| 4/4 [00:00<00:00, 159.10it/s]\n"
     ]
    },
    {
     "name": "stdout",
     "output_type": "stream",
     "text": [
      "Stationday 900 KMLB20120324\n"
     ]
    },
    {
     "name": "stderr",
     "output_type": "stream",
     "text": [
      "Tracking: 100%|██████████| 19/19 [00:00<00:00, 653.01it/s]\n",
      "Cleaning windfarm: 100%|██████████| 12/12 [00:03<00:00,  3.29it/s]\n",
      "Cleaning rain: 100%|██████████| 12/12 [00:00<00:00, 174.90it/s]\n"
     ]
    },
    {
     "name": "stdout",
     "output_type": "stream",
     "text": [
      "Stationday 901 KMLB20120330\n"
     ]
    },
    {
     "name": "stderr",
     "output_type": "stream",
     "text": [
      "Tracking: 100%|██████████| 11/11 [00:00<00:00, 602.02it/s]\n",
      "Cleaning windfarm: 100%|██████████| 10/10 [00:03<00:00,  2.88it/s]\n",
      "Cleaning rain: 100%|██████████| 10/10 [00:00<00:00, 155.94it/s]\n"
     ]
    },
    {
     "name": "stdout",
     "output_type": "stream",
     "text": [
      "Stationday 902 KMLB20120412\n"
     ]
    },
    {
     "name": "stderr",
     "output_type": "stream",
     "text": [
      "Tracking: 100%|██████████| 20/20 [00:00<00:00, 1252.91it/s]\n",
      "Cleaning windfarm: 100%|██████████| 8/8 [00:01<00:00,  5.45it/s]\n",
      "Cleaning rain: 100%|██████████| 8/8 [00:00<00:00, 142.54it/s]\n"
     ]
    },
    {
     "name": "stdout",
     "output_type": "stream",
     "text": [
      "Stationday 903 KMLB20120418\n"
     ]
    },
    {
     "name": "stderr",
     "output_type": "stream",
     "text": [
      "Tracking: 100%|██████████| 8/8 [00:00<00:00, 2047.75it/s]\n",
      "Cleaning windfarm: 100%|██████████| 3/3 [00:00<00:00,  4.85it/s]\n",
      "Cleaning rain: 100%|██████████| 3/3 [00:00<00:00, 154.85it/s]\n"
     ]
    },
    {
     "name": "stdout",
     "output_type": "stream",
     "text": [
      "Stationday 904 KMLB20120419\n"
     ]
    },
    {
     "name": "stderr",
     "output_type": "stream",
     "text": [
      "Tracking: 100%|██████████| 20/20 [00:00<00:00, 2138.31it/s]\n",
      "Cleaning windfarm: 100%|██████████| 2/2 [00:00<00:00,  2.62it/s]\n",
      "Cleaning rain: 100%|██████████| 2/2 [00:00<00:00, 105.37it/s]\n"
     ]
    },
    {
     "name": "stdout",
     "output_type": "stream",
     "text": [
      "Stationday 905 KMLB20120420\n"
     ]
    },
    {
     "name": "stderr",
     "output_type": "stream",
     "text": [
      "Tracking: 100%|██████████| 23/23 [00:00<00:00, 2749.66it/s]\n",
      "Cleaning windfarm: 100%|██████████| 2/2 [00:00<00:00,  2.33it/s]\n",
      "Cleaning rain: 100%|██████████| 2/2 [00:00<00:00, 131.51it/s]\n"
     ]
    },
    {
     "name": "stdout",
     "output_type": "stream",
     "text": [
      "Stationday 906 KMLB20121024\n"
     ]
    },
    {
     "name": "stderr",
     "output_type": "stream",
     "text": [
      "Tracking: 100%|██████████| 24/24 [00:00<00:00, 1529.33it/s]\n",
      "Cleaning windfarm: 100%|██████████| 7/7 [00:01<00:00,  5.18it/s]\n",
      "Cleaning rain: 100%|██████████| 7/7 [00:00<00:00, 141.69it/s]\n"
     ]
    },
    {
     "name": "stdout",
     "output_type": "stream",
     "text": [
      "Stationday 907 KMLB20121104\n"
     ]
    },
    {
     "name": "stderr",
     "output_type": "stream",
     "text": [
      "Tracking: 100%|██████████| 11/11 [00:00<00:00, 729.55it/s]\n",
      "Cleaning windfarm: 100%|██████████| 12/12 [00:01<00:00,  8.42it/s]\n",
      "Cleaning rain: 100%|██████████| 12/12 [00:00<00:00, 146.02it/s]\n"
     ]
    },
    {
     "name": "stdout",
     "output_type": "stream",
     "text": [
      "Stationday 908 KMLB20121110\n"
     ]
    },
    {
     "name": "stderr",
     "output_type": "stream",
     "text": [
      "Tracking: 100%|██████████| 11/11 [00:00<00:00, 1234.91it/s]\n",
      "Cleaning windfarm: 100%|██████████| 7/7 [00:01<00:00,  4.77it/s]\n",
      "Cleaning rain: 100%|██████████| 7/7 [00:00<00:00, 156.36it/s]\n"
     ]
    },
    {
     "name": "stdout",
     "output_type": "stream",
     "text": [
      "Stationday 909 KMLB20121111\n"
     ]
    },
    {
     "name": "stderr",
     "output_type": "stream",
     "text": [
      "Tracking: 100%|██████████| 11/11 [00:00<00:00, 714.21it/s]\n",
      "Cleaning windfarm: 100%|██████████| 11/11 [00:01<00:00,  7.36it/s]\n",
      "Cleaning rain: 100%|██████████| 11/11 [00:00<00:00, 183.74it/s]\n"
     ]
    },
    {
     "name": "stdout",
     "output_type": "stream",
     "text": [
      "Stationday 910 KMLB20121112\n"
     ]
    },
    {
     "name": "stderr",
     "output_type": "stream",
     "text": [
      "Tracking: 100%|██████████| 19/19 [00:00<00:00, 601.02it/s]\n",
      "Cleaning windfarm: 100%|██████████| 13/13 [00:04<00:00,  2.92it/s]\n",
      "Cleaning rain: 100%|██████████| 13/13 [00:00<00:00, 168.94it/s]\n"
     ]
    },
    {
     "name": "stdout",
     "output_type": "stream",
     "text": [
      "Stationday 911 KMLB20121113\n"
     ]
    },
    {
     "name": "stderr",
     "output_type": "stream",
     "text": [
      "Tracking: 100%|██████████| 23/23 [00:00<00:00, 583.18it/s]\n",
      "Cleaning windfarm: 100%|██████████| 21/21 [00:04<00:00,  4.45it/s]\n",
      "Cleaning rain: 100%|██████████| 21/21 [00:00<00:00, 162.26it/s]\n"
     ]
    },
    {
     "name": "stdout",
     "output_type": "stream",
     "text": [
      "Stationday 912 KMLB20121115\n"
     ]
    },
    {
     "name": "stderr",
     "output_type": "stream",
     "text": [
      "Tracking: 100%|██████████| 23/23 [00:00<00:00, 1036.08it/s]\n",
      "Cleaning windfarm: 100%|██████████| 6/6 [00:01<00:00,  4.13it/s]\n",
      "Cleaning rain: 100%|██████████| 6/6 [00:00<00:00, 145.95it/s]\n"
     ]
    },
    {
     "name": "stdout",
     "output_type": "stream",
     "text": [
      "Stationday 913 KMLB20121205\n"
     ]
    },
    {
     "name": "stderr",
     "output_type": "stream",
     "text": [
      "Tracking: 100%|██████████| 27/27 [00:00<00:00, 179.94it/s]\n",
      "Cleaning windfarm: 100%|██████████| 28/28 [00:08<00:00,  3.16it/s]\n",
      "Cleaning rain: 100%|██████████| 28/28 [00:00<00:00, 154.37it/s]\n"
     ]
    },
    {
     "name": "stdout",
     "output_type": "stream",
     "text": [
      "Stationday 914 KMLB20130127\n"
     ]
    },
    {
     "name": "stderr",
     "output_type": "stream",
     "text": [
      "Tracking: 100%|██████████| 20/20 [00:00<00:00, 959.13it/s]\n",
      "Cleaning windfarm: 100%|██████████| 14/14 [00:01<00:00,  7.32it/s]\n",
      "Cleaning rain: 100%|██████████| 14/14 [00:00<00:00, 166.39it/s]\n"
     ]
    },
    {
     "name": "stdout",
     "output_type": "stream",
     "text": [
      "Stationday 915 KMLB20130128\n"
     ]
    },
    {
     "name": "stderr",
     "output_type": "stream",
     "text": [
      "Tracking: 100%|██████████| 4/4 [00:00<00:00, 1613.35it/s]\n",
      "Cleaning windfarm: 100%|██████████| 4/4 [00:00<00:00,  6.04it/s]\n",
      "Cleaning rain: 100%|██████████| 4/4 [00:00<00:00, 191.93it/s]\n"
     ]
    },
    {
     "name": "stdout",
     "output_type": "stream",
     "text": [
      "Stationday 916 KMLB20130207\n"
     ]
    },
    {
     "name": "stderr",
     "output_type": "stream",
     "text": [
      "Tracking: 100%|██████████| 12/12 [00:00<00:00, 669.04it/s]\n",
      "Cleaning windfarm: 100%|██████████| 14/14 [00:00<00:00, 21.43it/s]\n",
      "Cleaning rain: 100%|██████████| 14/14 [00:00<00:00, 149.59it/s]\n"
     ]
    },
    {
     "name": "stdout",
     "output_type": "stream",
     "text": [
      "Stationday 917 KMLB20130314\n"
     ]
    },
    {
     "name": "stderr",
     "output_type": "stream",
     "text": [
      "Tracking: 100%|██████████| 11/11 [00:00<00:00, 2392.15it/s]\n",
      "Cleaning windfarm: 100%|██████████| 3/3 [00:00<00:00, 10450.92it/s]\n",
      "Cleaning rain: 100%|██████████| 3/3 [00:00<00:00, 171.53it/s]\n"
     ]
    },
    {
     "name": "stdout",
     "output_type": "stream",
     "text": [
      "Stationday 918 KMLB20130324\n"
     ]
    },
    {
     "name": "stderr",
     "output_type": "stream",
     "text": [
      "Tracking: 100%|██████████| 24/24 [00:00<00:00, 981.09it/s]\n",
      "Cleaning windfarm: 100%|██████████| 8/8 [00:02<00:00,  2.88it/s]\n",
      "Cleaning rain: 100%|██████████| 8/8 [00:00<00:00, 150.50it/s]\n"
     ]
    },
    {
     "name": "stdout",
     "output_type": "stream",
     "text": [
      "Stationday 919 KMLB20130330\n"
     ]
    },
    {
     "name": "stderr",
     "output_type": "stream",
     "text": [
      "Tracking: 100%|██████████| 12/12 [00:00<00:00, 1166.81it/s]\n",
      "Cleaning windfarm: 100%|██████████| 6/6 [00:01<00:00,  4.62it/s]\n",
      "Cleaning rain: 100%|██████████| 6/6 [00:00<00:00, 143.51it/s]\n"
     ]
    },
    {
     "name": "stdout",
     "output_type": "stream",
     "text": [
      "Stationday 920 KMLB20130401\n"
     ]
    },
    {
     "name": "stderr",
     "output_type": "stream",
     "text": [
      "Tracking: 100%|██████████| 29/29 [00:00<00:00, 702.93it/s]\n",
      "Cleaning windfarm: 100%|██████████| 13/13 [00:01<00:00,  9.23it/s]\n",
      "Cleaning rain: 100%|██████████| 13/13 [00:00<00:00, 137.23it/s]\n"
     ]
    },
    {
     "name": "stdout",
     "output_type": "stream",
     "text": [
      "Stationday 921 KMLB20130407\n"
     ]
    },
    {
     "name": "stderr",
     "output_type": "stream",
     "text": [
      "Tracking: 100%|██████████| 23/23 [00:00<00:00, 874.85it/s]\n",
      "Cleaning windfarm: 100%|██████████| 12/12 [00:01<00:00,  6.04it/s]\n",
      "Cleaning rain: 100%|██████████| 12/12 [00:00<00:00, 149.72it/s]\n"
     ]
    },
    {
     "name": "stdout",
     "output_type": "stream",
     "text": [
      "Stationday 922 KMLB20130412\n"
     ]
    },
    {
     "name": "stderr",
     "output_type": "stream",
     "text": [
      "Tracking: 100%|██████████| 36/36 [00:00<00:00, 1160.17it/s]\n",
      "Cleaning windfarm: 100%|██████████| 11/11 [00:02<00:00,  4.08it/s]\n",
      "Cleaning rain: 100%|██████████| 11/11 [00:00<00:00, 120.09it/s]\n"
     ]
    },
    {
     "name": "stdout",
     "output_type": "stream",
     "text": [
      "Stationday 923 KMLB20130415\n"
     ]
    },
    {
     "name": "stderr",
     "output_type": "stream",
     "text": [
      "Tracking: 100%|██████████| 35/35 [00:00<00:00, 1118.74it/s]\n",
      "Cleaning windfarm: 100%|██████████| 14/14 [00:00<00:00, 20.94it/s]\n",
      "Cleaning rain: 100%|██████████| 14/14 [00:00<00:00, 110.21it/s]\n"
     ]
    },
    {
     "name": "stdout",
     "output_type": "stream",
     "text": [
      "Stationday 924 KMLB20130420\n"
     ]
    },
    {
     "name": "stderr",
     "output_type": "stream",
     "text": [
      "Tracking: 100%|██████████| 35/35 [00:00<00:00, 1992.41it/s]\n",
      "Cleaning windfarm: 100%|██████████| 6/6 [00:01<00:00,  3.66it/s]\n",
      "Cleaning rain: 100%|██████████| 6/6 [00:00<00:00, 95.03it/s]\n"
     ]
    },
    {
     "name": "stdout",
     "output_type": "stream",
     "text": [
      "Stationday 925 KMLB20130424\n"
     ]
    },
    {
     "name": "stderr",
     "output_type": "stream",
     "text": [
      "Tracking: 100%|██████████| 11/11 [00:00<00:00, 1040.04it/s]\n",
      "Cleaning windfarm: 100%|██████████| 8/8 [00:00<00:00,  8.39it/s]\n",
      "Cleaning rain: 100%|██████████| 8/8 [00:00<00:00, 134.64it/s]\n"
     ]
    },
    {
     "name": "stdout",
     "output_type": "stream",
     "text": [
      "Stationday 926 KMOB20111024\n"
     ]
    },
    {
     "name": "stderr",
     "output_type": "stream",
     "text": [
      "Tracking: 100%|██████████| 11/11 [00:00<00:00, 1712.60it/s]\n",
      "Cleaning windfarm: 100%|██████████| 8/8 [00:00<00:00, 39850.87it/s]\n",
      "Cleaning rain: 100%|██████████| 8/8 [00:00<00:00, 72315.59it/s]\n"
     ]
    },
    {
     "name": "stdout",
     "output_type": "stream",
     "text": [
      "Stationday 927 KMOB20111026\n"
     ]
    },
    {
     "name": "stderr",
     "output_type": "stream",
     "text": [
      "Tracking: 100%|██████████| 10/10 [00:00<00:00, 552.08it/s]\n",
      "Cleaning windfarm: 100%|██████████| 13/13 [00:03<00:00,  3.74it/s]\n",
      "Cleaning rain: 100%|██████████| 13/13 [00:00<00:00, 102300.10it/s]\n"
     ]
    },
    {
     "name": "stdout",
     "output_type": "stream",
     "text": [
      "Stationday 928 KMOB20111028\n"
     ]
    },
    {
     "name": "stderr",
     "output_type": "stream",
     "text": [
      "Tracking: 100%|██████████| 19/19 [00:00<00:00, 1018.75it/s]\n",
      "Cleaning windfarm: 100%|██████████| 12/12 [00:02<00:00,  4.51it/s]\n",
      "Cleaning rain: 100%|██████████| 12/12 [00:00<00:00, 84733.41it/s]\n"
     ]
    },
    {
     "name": "stdout",
     "output_type": "stream",
     "text": [
      "Stationday 929 KOKX20080715\n"
     ]
    },
    {
     "name": "stderr",
     "output_type": "stream",
     "text": [
      "Tracking: 100%|██████████| 10/10 [00:00<00:00, 681.09it/s]\n",
      "Cleaning windfarm: 100%|██████████| 14/14 [00:02<00:00,  6.45it/s]\n",
      "Cleaning rain: 100%|██████████| 14/14 [00:00<00:00, 85473.44it/s]\n"
     ]
    },
    {
     "name": "stdout",
     "output_type": "stream",
     "text": [
      "Stationday 930 KOKX20080725\n"
     ]
    },
    {
     "name": "stderr",
     "output_type": "stream",
     "text": [
      "Tracking: 100%|██████████| 20/20 [00:00<00:00, 195.74it/s]\n",
      "Cleaning windfarm: 100%|██████████| 42/42 [00:06<00:00,  6.21it/s]\n",
      "Cleaning rain: 100%|██████████| 42/42 [00:00<00:00, 57568.88it/s]\n"
     ]
    },
    {
     "name": "stdout",
     "output_type": "stream",
     "text": [
      "Stationday 931 KOKX20080730\n"
     ]
    },
    {
     "name": "stderr",
     "output_type": "stream",
     "text": [
      "Tracking: 100%|██████████| 12/12 [00:00<00:00, 232.14it/s]\n",
      "Cleaning windfarm: 100%|██████████| 21/21 [00:03<00:00,  6.40it/s]\n",
      "Cleaning rain: 100%|██████████| 21/21 [00:00<00:00, 100778.47it/s]\n"
     ]
    },
    {
     "name": "stdout",
     "output_type": "stream",
     "text": [
      "Stationday 932 KOKX20080805\n"
     ]
    },
    {
     "name": "stderr",
     "output_type": "stream",
     "text": [
      "Tracking: 100%|██████████| 11/11 [00:00<00:00, 260.88it/s]\n",
      "Cleaning windfarm: 100%|██████████| 18/18 [00:06<00:00,  2.98it/s]\n",
      "Cleaning rain: 100%|██████████| 18/18 [00:00<00:00, 104712.17it/s]\n"
     ]
    },
    {
     "name": "stdout",
     "output_type": "stream",
     "text": [
      "Stationday 933 KOKX20080813\n"
     ]
    },
    {
     "name": "stderr",
     "output_type": "stream",
     "text": [
      "Tracking: 100%|██████████| 12/12 [00:00<00:00, 404.46it/s]\n",
      "Cleaning windfarm: 100%|██████████| 19/19 [00:04<00:00,  4.65it/s]\n",
      "Cleaning rain: 100%|██████████| 19/19 [00:00<00:00, 52463.32it/s]\n"
     ]
    },
    {
     "name": "stdout",
     "output_type": "stream",
     "text": [
      "Stationday 934 KOKX20080815\n"
     ]
    },
    {
     "name": "stderr",
     "output_type": "stream",
     "text": [
      "Tracking: 100%|██████████| 27/27 [00:00<00:00, 406.54it/s]\n",
      "Cleaning windfarm: 100%|██████████| 17/17 [00:02<00:00,  5.76it/s]\n",
      "Cleaning rain: 100%|██████████| 17/17 [00:00<00:00, 98757.85it/s]\n"
     ]
    },
    {
     "name": "stdout",
     "output_type": "stream",
     "text": [
      "Stationday 935 KOKX20080816\n"
     ]
    },
    {
     "name": "stderr",
     "output_type": "stream",
     "text": [
      "Tracking: 100%|██████████| 18/18 [00:00<00:00, 283.52it/s]\n",
      "Cleaning windfarm: 100%|██████████| 12/12 [00:04<00:00,  2.70it/s]\n",
      "Cleaning rain: 100%|██████████| 12/12 [00:00<00:00, 54648.91it/s]\n"
     ]
    },
    {
     "name": "stdout",
     "output_type": "stream",
     "text": [
      "Stationday 936 KOKX20080817\n"
     ]
    },
    {
     "name": "stderr",
     "output_type": "stream",
     "text": [
      "Tracking: 100%|██████████| 5/5 [00:00<00:00, 669.55it/s]\n",
      "Cleaning windfarm: 100%|██████████| 7/7 [00:01<00:00,  4.36it/s]\n",
      "Cleaning rain: 100%|██████████| 7/7 [00:00<00:00, 75670.43it/s]\n"
     ]
    },
    {
     "name": "stdout",
     "output_type": "stream",
     "text": [
      "Stationday 937 KOKX20080819\n"
     ]
    },
    {
     "name": "stderr",
     "output_type": "stream",
     "text": [
      "Tracking: 100%|██████████| 27/27 [00:00<00:00, 900.68it/s]\n",
      "Cleaning windfarm: 100%|██████████| 21/21 [00:01<00:00, 13.24it/s]\n",
      "Cleaning rain: 100%|██████████| 21/21 [00:00<00:00, 89060.04it/s]\n"
     ]
    },
    {
     "name": "stdout",
     "output_type": "stream",
     "text": [
      "Stationday 938 KOKX20080822\n"
     ]
    },
    {
     "name": "stderr",
     "output_type": "stream",
     "text": [
      "Tracking: 100%|██████████| 12/12 [00:00<00:00, 382.12it/s]\n",
      "Cleaning windfarm: 100%|██████████| 21/21 [00:04<00:00,  4.54it/s]\n",
      "Cleaning rain: 100%|██████████| 21/21 [00:00<00:00, 104113.93it/s]\n"
     ]
    },
    {
     "name": "stdout",
     "output_type": "stream",
     "text": [
      "Stationday 939 KOKX20080824\n"
     ]
    },
    {
     "name": "stderr",
     "output_type": "stream",
     "text": [
      "Tracking: 100%|██████████| 12/12 [00:00<00:00, 903.90it/s]\n",
      "Cleaning windfarm: 100%|██████████| 10/10 [00:00<00:00, 15.45it/s]\n",
      "Cleaning rain: 100%|██████████| 10/10 [00:00<00:00, 56679.78it/s]\n"
     ]
    },
    {
     "name": "stdout",
     "output_type": "stream",
     "text": [
      "Stationday 940 KOKX20080826\n"
     ]
    },
    {
     "name": "stderr",
     "output_type": "stream",
     "text": [
      "Tracking: 100%|██████████| 12/12 [00:00<00:00, 376.03it/s]\n",
      "Cleaning windfarm: 100%|██████████| 16/16 [00:04<00:00,  3.58it/s]\n",
      "Cleaning rain: 100%|██████████| 16/16 [00:00<00:00, 42048.16it/s]\n"
     ]
    },
    {
     "name": "stdout",
     "output_type": "stream",
     "text": [
      "Stationday 941 KOKX20080902\n"
     ]
    },
    {
     "name": "stderr",
     "output_type": "stream",
     "text": [
      "Tracking: 100%|██████████| 11/11 [00:00<00:00, 154.19it/s]\n",
      "Cleaning windfarm: 100%|██████████| 20/20 [00:07<00:00,  2.58it/s]\n",
      "Cleaning rain: 100%|██████████| 20/20 [00:00<00:00, 106725.29it/s]\n"
     ]
    },
    {
     "name": "stdout",
     "output_type": "stream",
     "text": [
      "Stationday 942 KOKX20080908\n"
     ]
    },
    {
     "name": "stderr",
     "output_type": "stream",
     "text": [
      "Tracking: 100%|██████████| 12/12 [00:00<00:00, 229.33it/s]\n",
      "Cleaning windfarm: 100%|██████████| 29/29 [00:04<00:00,  6.18it/s]\n",
      "Cleaning rain: 100%|██████████| 29/29 [00:00<00:00, 108796.79it/s]\n"
     ]
    },
    {
     "name": "stdout",
     "output_type": "stream",
     "text": [
      "Stationday 943 KOKX20080925\n"
     ]
    },
    {
     "name": "stderr",
     "output_type": "stream",
     "text": [
      "Tracking: 100%|██████████| 11/11 [00:00<00:00, 2632.36it/s]\n",
      "Cleaning windfarm: 100%|██████████| 5/5 [00:00<00:00,  7.71it/s]\n",
      "Cleaning rain: 100%|██████████| 5/5 [00:00<00:00, 33182.78it/s]\n"
     ]
    },
    {
     "name": "stdout",
     "output_type": "stream",
     "text": [
      "Stationday 944 KOKX20081003\n"
     ]
    },
    {
     "name": "stderr",
     "output_type": "stream",
     "text": [
      "Tracking: 100%|██████████| 12/12 [00:00<00:00, 1766.33it/s]\n",
      "Cleaning windfarm: 100%|██████████| 5/5 [00:01<00:00,  3.78it/s]\n",
      "Cleaning rain: 100%|██████████| 5/5 [00:00<00:00, 62977.54it/s]\n"
     ]
    },
    {
     "name": "stdout",
     "output_type": "stream",
     "text": [
      "Stationday 945 KOKX20081016\n"
     ]
    },
    {
     "name": "stderr",
     "output_type": "stream",
     "text": [
      "Tracking: 100%|██████████| 11/11 [00:00<00:00, 1402.65it/s]\n",
      "Cleaning windfarm: 100%|██████████| 5/5 [00:01<00:00,  4.12it/s]\n",
      "Cleaning rain: 100%|██████████| 5/5 [00:00<00:00, 60787.01it/s]\n"
     ]
    },
    {
     "name": "stdout",
     "output_type": "stream",
     "text": [
      "Stationday 946 KOKX20081017\n"
     ]
    },
    {
     "name": "stderr",
     "output_type": "stream",
     "text": [
      "Tracking: 100%|██████████| 12/12 [00:00<00:00, 1068.11it/s]\n",
      "Cleaning windfarm: 100%|██████████| 7/7 [00:00<00:00, 11.18it/s]\n",
      "Cleaning rain: 100%|██████████| 7/7 [00:00<00:00, 74707.70it/s]\n"
     ]
    },
    {
     "name": "stdout",
     "output_type": "stream",
     "text": [
      "Stationday 947 KOKX20090720\n"
     ]
    },
    {
     "name": "stderr",
     "output_type": "stream",
     "text": [
      "Tracking: 100%|██████████| 19/19 [00:00<00:00, 589.39it/s]\n",
      "Cleaning windfarm: 100%|██████████| 11/11 [00:02<00:00,  5.46it/s]\n",
      "Cleaning rain: 100%|██████████| 11/11 [00:00<00:00, 82831.86it/s]\n"
     ]
    },
    {
     "name": "stdout",
     "output_type": "stream",
     "text": [
      "Stationday 948 KOKX20090725\n"
     ]
    },
    {
     "name": "stderr",
     "output_type": "stream",
     "text": [
      "Tracking: 100%|██████████| 11/11 [00:00<00:00, 4055.32it/s]\n",
      "Cleaning windfarm: 100%|██████████| 4/4 [00:00<00:00, 29641.72it/s]\n",
      "Cleaning rain: 100%|██████████| 4/4 [00:00<00:00, 52593.15it/s]\n"
     ]
    },
    {
     "name": "stdout",
     "output_type": "stream",
     "text": [
      "Stationday 949 KOKX20090807\n"
     ]
    },
    {
     "name": "stderr",
     "output_type": "stream",
     "text": [
      "Tracking: 100%|██████████| 11/11 [00:00<00:00, 662.73it/s]\n",
      "Cleaning windfarm: 100%|██████████| 14/14 [00:01<00:00,  7.01it/s]\n",
      "Cleaning rain: 100%|██████████| 14/14 [00:00<00:00, 110376.42it/s]\n"
     ]
    },
    {
     "name": "stdout",
     "output_type": "stream",
     "text": [
      "Stationday 950 KOKX20090825\n"
     ]
    },
    {
     "name": "stderr",
     "output_type": "stream",
     "text": [
      "Tracking: 100%|██████████| 12/12 [00:00<00:00, 257.81it/s]\n",
      "Cleaning windfarm: 100%|██████████| 27/27 [00:07<00:00,  3.63it/s]\n",
      "Cleaning rain: 100%|██████████| 27/27 [00:00<00:00, 135624.20it/s]\n"
     ]
    },
    {
     "name": "stdout",
     "output_type": "stream",
     "text": [
      "Stationday 951 KOKX20090827\n"
     ]
    },
    {
     "name": "stderr",
     "output_type": "stream",
     "text": [
      "Tracking: 100%|██████████| 20/20 [00:00<00:00, 219.38it/s]\n",
      "Cleaning windfarm: 100%|██████████| 28/28 [00:07<00:00,  3.82it/s]\n",
      "Cleaning rain: 100%|██████████| 28/28 [00:00<00:00, 108841.99it/s]\n"
     ]
    },
    {
     "name": "stdout",
     "output_type": "stream",
     "text": [
      "Stationday 952 KOKX20090902\n"
     ]
    },
    {
     "name": "stderr",
     "output_type": "stream",
     "text": [
      "Tracking: 100%|██████████| 10/10 [00:00<00:00, 248.87it/s]\n",
      "Cleaning windfarm: 100%|██████████| 23/23 [00:06<00:00,  3.74it/s]\n",
      "Cleaning rain: 100%|██████████| 23/23 [00:00<00:00, 113226.52it/s]\n"
     ]
    },
    {
     "name": "stdout",
     "output_type": "stream",
     "text": [
      "Stationday 953 KOKX20090905\n"
     ]
    },
    {
     "name": "stderr",
     "output_type": "stream",
     "text": [
      "Tracking: 100%|██████████| 11/11 [00:00<00:00, 318.53it/s]\n",
      "Cleaning windfarm: 100%|██████████| 16/16 [00:04<00:00,  3.86it/s]\n",
      "Cleaning rain: 100%|██████████| 16/16 [00:00<00:00, 118357.78it/s]\n"
     ]
    },
    {
     "name": "stdout",
     "output_type": "stream",
     "text": [
      "Stationday 954 KOKX20090908\n"
     ]
    },
    {
     "name": "stderr",
     "output_type": "stream",
     "text": [
      "Tracking: 100%|██████████| 20/20 [00:00<00:00, 482.46it/s]\n",
      "Cleaning windfarm: 100%|██████████| 15/15 [00:04<00:00,  3.21it/s]\n",
      "Cleaning rain: 100%|██████████| 15/15 [00:00<00:00, 98922.26it/s]\n"
     ]
    },
    {
     "name": "stdout",
     "output_type": "stream",
     "text": [
      "Stationday 955 KOKX20090914\n"
     ]
    },
    {
     "name": "stderr",
     "output_type": "stream",
     "text": [
      "Tracking: 100%|██████████| 11/11 [00:00<00:00, 347.26it/s]\n",
      "Cleaning windfarm: 100%|██████████| 18/18 [00:01<00:00,  9.06it/s]\n",
      "Cleaning rain: 100%|██████████| 18/18 [00:00<00:00, 117597.31it/s]\n"
     ]
    },
    {
     "name": "stdout",
     "output_type": "stream",
     "text": [
      "Stationday 956 KOKX20090925\n"
     ]
    },
    {
     "name": "stderr",
     "output_type": "stream",
     "text": [
      "Tracking: 100%|██████████| 17/17 [00:00<00:00, 462.14it/s]\n",
      "Cleaning windfarm: 100%|██████████| 17/17 [00:03<00:00,  5.08it/s]\n",
      "Cleaning rain: 100%|██████████| 17/17 [00:00<00:00, 115940.11it/s]\n"
     ]
    },
    {
     "name": "stdout",
     "output_type": "stream",
     "text": [
      "Stationday 957 KOKX20090929\n"
     ]
    },
    {
     "name": "stderr",
     "output_type": "stream",
     "text": [
      "Tracking: 100%|██████████| 4/4 [00:00<00:00, 2320.18it/s]\n",
      "Cleaning windfarm: 100%|██████████| 2/2 [00:00<00:00,  2.93it/s]\n",
      "Cleaning rain: 100%|██████████| 2/2 [00:00<00:00, 31895.85it/s]\n"
     ]
    },
    {
     "name": "stdout",
     "output_type": "stream",
     "text": [
      "Stationday 958 KOKX20091017\n"
     ]
    },
    {
     "name": "stderr",
     "output_type": "stream",
     "text": [
      "Tracking: 100%|██████████| 12/12 [00:00<00:00, 2092.62it/s]\n",
      "Cleaning windfarm: 100%|██████████| 6/6 [00:00<00:00,  8.67it/s]\n",
      "Cleaning rain: 100%|██████████| 6/6 [00:00<00:00, 38130.04it/s]\n"
     ]
    },
    {
     "name": "stdout",
     "output_type": "stream",
     "text": [
      "Stationday 959 KOKX20091022\n"
     ]
    },
    {
     "name": "stderr",
     "output_type": "stream",
     "text": [
      "Tracking: 100%|██████████| 13/13 [00:00<00:00, 203.97it/s]\n",
      "Cleaning windfarm: 100%|██████████| 32/32 [00:02<00:00, 15.47it/s]\n",
      "Cleaning rain: 100%|██████████| 32/32 [00:00<00:00, 104694.02it/s]\n"
     ]
    },
    {
     "name": "stdout",
     "output_type": "stream",
     "text": [
      "Stationday 960 KOKX20091025\n"
     ]
    },
    {
     "name": "stderr",
     "output_type": "stream",
     "text": [
      "Tracking: 100%|██████████| 11/11 [00:00<00:00, 1769.00it/s]\n",
      "Cleaning windfarm: 100%|██████████| 7/7 [00:00<00:00,  8.36it/s]\n",
      "Cleaning rain: 100%|██████████| 7/7 [00:00<00:00, 77060.70it/s]\n"
     ]
    },
    {
     "name": "stdout",
     "output_type": "stream",
     "text": [
      "Stationday 961 KOKX20100711\n"
     ]
    },
    {
     "name": "stderr",
     "output_type": "stream",
     "text": [
      "Tracking: 100%|██████████| 11/11 [00:00<00:00, 1174.31it/s]\n",
      "Cleaning windfarm: 100%|██████████| 4/4 [00:01<00:00,  2.99it/s]\n",
      "Cleaning rain: 100%|██████████| 4/4 [00:00<00:00, 24244.53it/s]\n"
     ]
    },
    {
     "name": "stdout",
     "output_type": "stream",
     "text": [
      "Stationday 962 KOKX20100718\n"
     ]
    },
    {
     "name": "stderr",
     "output_type": "stream",
     "text": [
      "Tracking: 100%|██████████| 28/28 [00:00<00:00, 548.94it/s]\n",
      "Cleaning windfarm: 100%|██████████| 14/14 [00:01<00:00,  8.70it/s]\n",
      "Cleaning rain: 100%|██████████| 14/14 [00:00<00:00, 78713.48it/s]\n"
     ]
    },
    {
     "name": "stdout",
     "output_type": "stream",
     "text": [
      "Stationday 963 KOKX20100719\n"
     ]
    },
    {
     "name": "stderr",
     "output_type": "stream",
     "text": [
      "Tracking: 100%|██████████| 18/18 [00:00<00:00, 204.57it/s]\n",
      "Cleaning windfarm: 100%|██████████| 40/40 [00:05<00:00,  6.78it/s]\n",
      "Cleaning rain: 100%|██████████| 40/40 [00:00<00:00, 124460.06it/s]\n"
     ]
    },
    {
     "name": "stdout",
     "output_type": "stream",
     "text": [
      "Stationday 964 KOKX20100728\n"
     ]
    },
    {
     "name": "stderr",
     "output_type": "stream",
     "text": [
      "Tracking: 100%|██████████| 16/16 [00:00<00:00, 612.30it/s]\n",
      "Cleaning windfarm: 100%|██████████| 15/15 [00:02<00:00,  6.38it/s]\n",
      "Cleaning rain: 100%|██████████| 15/15 [00:00<00:00, 105384.52it/s]\n"
     ]
    },
    {
     "name": "stdout",
     "output_type": "stream",
     "text": [
      "Stationday 965 KOKX20100731\n"
     ]
    },
    {
     "name": "stderr",
     "output_type": "stream",
     "text": [
      "Tracking: 100%|██████████| 12/12 [00:00<00:00, 213.97it/s]\n",
      "Cleaning windfarm: 100%|██████████| 18/18 [00:02<00:00,  6.77it/s]\n",
      "Cleaning rain: 100%|██████████| 18/18 [00:00<00:00, 124995.81it/s]\n"
     ]
    },
    {
     "name": "stdout",
     "output_type": "stream",
     "text": [
      "Stationday 966 KOKX20100801\n"
     ]
    },
    {
     "name": "stderr",
     "output_type": "stream",
     "text": [
      "Tracking: 100%|██████████| 20/20 [00:00<00:00, 219.10it/s]\n",
      "Cleaning windfarm: 100%|██████████| 32/32 [00:07<00:00,  4.02it/s]\n",
      "Cleaning rain: 100%|██████████| 32/32 [00:00<00:00, 112410.16it/s]\n"
     ]
    },
    {
     "name": "stdout",
     "output_type": "stream",
     "text": [
      "Stationday 967 KOKX20100802\n"
     ]
    },
    {
     "name": "stderr",
     "output_type": "stream",
     "text": [
      "Tracking: 100%|██████████| 11/11 [00:00<00:00, 762.94it/s]\n",
      "Cleaning windfarm: 100%|██████████| 13/13 [00:01<00:00,  6.88it/s]\n",
      "Cleaning rain: 100%|██████████| 13/13 [00:00<00:00, 107758.80it/s]\n"
     ]
    },
    {
     "name": "stdout",
     "output_type": "stream",
     "text": [
      "Stationday 968 KOKX20100811\n"
     ]
    },
    {
     "name": "stderr",
     "output_type": "stream",
     "text": [
      "Tracking: 100%|██████████| 12/12 [00:00<00:00, 555.89it/s]\n",
      "Cleaning windfarm: 100%|██████████| 9/9 [00:02<00:00,  3.38it/s]\n",
      "Cleaning rain: 100%|██████████| 9/9 [00:00<00:00, 84828.62it/s]\n"
     ]
    },
    {
     "name": "stdout",
     "output_type": "stream",
     "text": [
      "Stationday 969 KOKX20100814\n"
     ]
    },
    {
     "name": "stderr",
     "output_type": "stream",
     "text": [
      "Tracking: 100%|██████████| 11/11 [00:00<00:00, 318.02it/s]\n",
      "Cleaning windfarm: 100%|██████████| 18/18 [00:04<00:00,  3.78it/s]\n",
      "Cleaning rain: 100%|██████████| 18/18 [00:00<00:00, 50197.79it/s]\n"
     ]
    },
    {
     "name": "stdout",
     "output_type": "stream",
     "text": [
      "Stationday 970 KOKX20100815\n"
     ]
    },
    {
     "name": "stderr",
     "output_type": "stream",
     "text": [
      "Tracking: 100%|██████████| 12/12 [00:00<00:00, 537.09it/s]\n",
      "Cleaning windfarm: 100%|██████████| 7/7 [00:01<00:00,  4.93it/s]\n",
      "Cleaning rain: 100%|██████████| 7/7 [00:00<00:00, 43755.78it/s]\n"
     ]
    },
    {
     "name": "stdout",
     "output_type": "stream",
     "text": [
      "Stationday 971 KOKX20100821\n"
     ]
    },
    {
     "name": "stderr",
     "output_type": "stream",
     "text": [
      "Tracking: 100%|██████████| 11/11 [00:00<00:00, 207.84it/s]\n",
      "Cleaning windfarm: 100%|██████████| 15/15 [00:05<00:00,  2.80it/s]\n",
      "Cleaning rain: 100%|██████████| 15/15 [00:00<00:00, 78643.20it/s]\n"
     ]
    },
    {
     "name": "stdout",
     "output_type": "stream",
     "text": [
      "Stationday 972 KOKX20100909\n"
     ]
    },
    {
     "name": "stderr",
     "output_type": "stream",
     "text": [
      "Tracking: 100%|██████████| 11/11 [00:00<00:00, 478.99it/s]\n",
      "Cleaning windfarm: 100%|██████████| 13/13 [00:04<00:00,  2.77it/s]\n",
      "Cleaning rain: 100%|██████████| 13/13 [00:00<00:00, 45704.91it/s]\n"
     ]
    },
    {
     "name": "stdout",
     "output_type": "stream",
     "text": [
      "Stationday 973 KOKX20100914\n"
     ]
    },
    {
     "name": "stderr",
     "output_type": "stream",
     "text": [
      "Tracking: 100%|██████████| 18/18 [00:00<00:00, 171.03it/s]\n",
      "Cleaning windfarm: 100%|██████████| 23/23 [00:03<00:00,  5.79it/s]\n",
      "Cleaning rain: 100%|██████████| 23/23 [00:00<00:00, 106713.49it/s]\n"
     ]
    },
    {
     "name": "stdout",
     "output_type": "stream",
     "text": [
      "Stationday 974 KOKX20100917\n"
     ]
    },
    {
     "name": "stderr",
     "output_type": "stream",
     "text": [
      "Tracking: 100%|██████████| 27/27 [00:00<00:00, 683.59it/s]\n",
      "Cleaning windfarm: 100%|██████████| 15/15 [00:02<00:00,  5.32it/s]\n",
      "Cleaning rain: 100%|██████████| 15/15 [00:00<00:00, 89114.11it/s]\n"
     ]
    },
    {
     "name": "stdout",
     "output_type": "stream",
     "text": [
      "Stationday 975 KOKX20100918\n"
     ]
    },
    {
     "name": "stderr",
     "output_type": "stream",
     "text": [
      "Tracking: 100%|██████████| 11/11 [00:00<00:00, 373.25it/s]\n",
      "Cleaning windfarm: 100%|██████████| 13/13 [00:04<00:00,  3.16it/s]\n",
      "Cleaning rain: 100%|██████████| 13/13 [00:00<00:00, 95325.09it/s]\n"
     ]
    },
    {
     "name": "stdout",
     "output_type": "stream",
     "text": [
      "Stationday 976 KOKX20100922\n"
     ]
    },
    {
     "name": "stderr",
     "output_type": "stream",
     "text": [
      "Tracking: 100%|██████████| 15/15 [00:00<00:00, 638.84it/s]\n",
      "Cleaning windfarm: 100%|██████████| 18/18 [00:01<00:00, 13.22it/s]\n",
      "Cleaning rain: 100%|██████████| 18/18 [00:00<00:00, 116328.92it/s]\n"
     ]
    },
    {
     "name": "stdout",
     "output_type": "stream",
     "text": [
      "Stationday 977 KOKX20100924\n"
     ]
    },
    {
     "name": "stderr",
     "output_type": "stream",
     "text": [
      "Tracking: 100%|██████████| 11/11 [00:00<00:00, 1161.10it/s]\n",
      "Cleaning windfarm: 100%|██████████| 6/6 [00:02<00:00,  2.77it/s]\n",
      "Cleaning rain: 100%|██████████| 6/6 [00:00<00:00, 38479.85it/s]\n"
     ]
    },
    {
     "name": "stdout",
     "output_type": "stream",
     "text": [
      "Stationday 978 KOKX20100925\n"
     ]
    },
    {
     "name": "stderr",
     "output_type": "stream",
     "text": [
      "Tracking: 100%|██████████| 12/12 [00:00<00:00, 782.52it/s]\n",
      "Cleaning windfarm: 100%|██████████| 17/17 [00:00<00:00, 24.30it/s]\n",
      "Cleaning rain: 100%|██████████| 17/17 [00:00<00:00, 124221.55it/s]\n"
     ]
    },
    {
     "name": "stdout",
     "output_type": "stream",
     "text": [
      "Stationday 979 KOKX20101008\n"
     ]
    },
    {
     "name": "stderr",
     "output_type": "stream",
     "text": [
      "Tracking: 100%|██████████| 12/12 [00:00<00:00, 573.80it/s]\n",
      "Cleaning windfarm: 100%|██████████| 14/14 [00:02<00:00,  5.05it/s]\n",
      "Cleaning rain: 100%|██████████| 14/14 [00:00<00:00, 112061.56it/s]\n"
     ]
    },
    {
     "name": "stdout",
     "output_type": "stream",
     "text": [
      "Stationday 980 KOKX20101012\n"
     ]
    },
    {
     "name": "stderr",
     "output_type": "stream",
     "text": [
      "Tracking: 100%|██████████| 27/27 [00:00<00:00, 445.38it/s]\n",
      "Cleaning windfarm: 100%|██████████| 27/27 [00:01<00:00, 13.88it/s]\n",
      "Cleaning rain: 100%|██████████| 27/27 [00:00<00:00, 98818.68it/s]\n"
     ]
    },
    {
     "name": "stdout",
     "output_type": "stream",
     "text": [
      "Stationday 981 KOKX20101018\n"
     ]
    },
    {
     "name": "stderr",
     "output_type": "stream",
     "text": [
      "Tracking: 100%|██████████| 11/11 [00:00<00:00, 1136.58it/s]\n",
      "Cleaning windfarm: 100%|██████████| 8/8 [00:00<00:00, 12.41it/s]\n",
      "Cleaning rain: 100%|██████████| 8/8 [00:00<00:00, 77852.51it/s]\n"
     ]
    },
    {
     "name": "stdout",
     "output_type": "stream",
     "text": [
      "Stationday 982 KOKX20110720\n"
     ]
    },
    {
     "name": "stderr",
     "output_type": "stream",
     "text": [
      "Tracking: 100%|██████████| 12/12 [00:00<00:00, 369.94it/s]\n",
      "Cleaning windfarm: 100%|██████████| 21/21 [00:01<00:00, 10.59it/s]\n",
      "Cleaning rain: 100%|██████████| 21/21 [00:00<00:00, 57719.78it/s]\n"
     ]
    },
    {
     "name": "stdout",
     "output_type": "stream",
     "text": [
      "Stationday 983 KOKX20110728\n"
     ]
    },
    {
     "name": "stderr",
     "output_type": "stream",
     "text": [
      "Tracking: 100%|██████████| 13/13 [00:00<00:00, 139.49it/s]\n",
      "Cleaning windfarm: 100%|██████████| 29/29 [00:04<00:00,  6.35it/s]\n",
      "Cleaning rain: 100%|██████████| 29/29 [00:00<00:00, 128036.65it/s]\n"
     ]
    },
    {
     "name": "stdout",
     "output_type": "stream",
     "text": [
      "Stationday 984 KOKX20110801\n"
     ]
    },
    {
     "name": "stderr",
     "output_type": "stream",
     "text": [
      "Tracking: 100%|██████████| 27/27 [00:00<00:00, 252.71it/s]\n",
      "Cleaning windfarm: 100%|██████████| 32/32 [00:05<00:00,  5.39it/s]\n",
      "Cleaning rain: 100%|██████████| 32/32 [00:00<00:00, 98616.99it/s]\n"
     ]
    },
    {
     "name": "stdout",
     "output_type": "stream",
     "text": [
      "Stationday 985 KOKX20110805\n"
     ]
    },
    {
     "name": "stderr",
     "output_type": "stream",
     "text": [
      "Tracking: 100%|██████████| 11/11 [00:00<00:00, 269.57it/s]\n",
      "Cleaning windfarm: 100%|██████████| 14/14 [00:03<00:00,  4.10it/s]\n",
      "Cleaning rain: 100%|██████████| 14/14 [00:00<00:00, 110584.29it/s]\n"
     ]
    },
    {
     "name": "stdout",
     "output_type": "stream",
     "text": [
      "Stationday 986 KOKX20110806\n"
     ]
    },
    {
     "name": "stderr",
     "output_type": "stream",
     "text": [
      "Tracking: 100%|██████████| 11/11 [00:00<00:00, 1072.16it/s]\n",
      "Cleaning windfarm: 100%|██████████| 10/10 [00:01<00:00,  5.02it/s]\n",
      "Cleaning rain: 100%|██████████| 10/10 [00:00<00:00, 97090.37it/s]\n"
     ]
    },
    {
     "name": "stdout",
     "output_type": "stream",
     "text": [
      "Stationday 987 KOKX20110812\n"
     ]
    },
    {
     "name": "stderr",
     "output_type": "stream",
     "text": [
      "Tracking: 100%|██████████| 11/11 [00:00<00:00, 445.40it/s]\n",
      "Cleaning windfarm: 100%|██████████| 18/18 [00:04<00:00,  4.49it/s]\n",
      "Cleaning rain: 100%|██████████| 18/18 [00:00<00:00, 71902.35it/s]\n"
     ]
    },
    {
     "name": "stdout",
     "output_type": "stream",
     "text": [
      "Stationday 988 KOKX20110820\n"
     ]
    },
    {
     "name": "stderr",
     "output_type": "stream",
     "text": [
      "Tracking: 100%|██████████| 20/20 [00:00<00:00, 437.70it/s]\n",
      "Cleaning windfarm: 100%|██████████| 23/23 [00:02<00:00,  8.58it/s]\n",
      "Cleaning rain: 100%|██████████| 23/23 [00:00<00:00, 77860.36it/s]\n"
     ]
    },
    {
     "name": "stdout",
     "output_type": "stream",
     "text": [
      "Stationday 989 KOKX20110821\n"
     ]
    },
    {
     "name": "stderr",
     "output_type": "stream",
     "text": [
      "Tracking: 100%|██████████| 11/11 [00:00<00:00, 800.65it/s]\n",
      "Cleaning windfarm: 100%|██████████| 10/10 [00:02<00:00,  3.85it/s]\n",
      "Cleaning rain: 100%|██████████| 10/10 [00:00<00:00, 91180.52it/s]\n"
     ]
    },
    {
     "name": "stdout",
     "output_type": "stream",
     "text": [
      "Stationday 990 KOKX20110824\n"
     ]
    },
    {
     "name": "stderr",
     "output_type": "stream",
     "text": [
      "Tracking: 100%|██████████| 11/11 [00:00<00:00, 712.87it/s]\n",
      "Cleaning windfarm: 100%|██████████| 12/12 [00:01<00:00,  6.14it/s]\n",
      "Cleaning rain: 100%|██████████| 12/12 [00:00<00:00, 100865.03it/s]\n"
     ]
    },
    {
     "name": "stdout",
     "output_type": "stream",
     "text": [
      "Stationday 991 KOKX20110903\n"
     ]
    },
    {
     "name": "stderr",
     "output_type": "stream",
     "text": [
      "Tracking: 100%|██████████| 11/11 [00:00<00:00, 347.17it/s]\n",
      "Cleaning windfarm: 100%|██████████| 17/17 [00:03<00:00,  5.03it/s]\n",
      "Cleaning rain: 100%|██████████| 17/17 [00:00<00:00, 88685.53it/s]\n"
     ]
    },
    {
     "name": "stdout",
     "output_type": "stream",
     "text": [
      "Stationday 992 KOKX20110904\n"
     ]
    },
    {
     "name": "stderr",
     "output_type": "stream",
     "text": [
      "Tracking: 100%|██████████| 12/12 [00:00<00:00, 521.27it/s]\n",
      "Cleaning windfarm: 100%|██████████| 16/16 [00:02<00:00,  5.92it/s]\n",
      "Cleaning rain: 100%|██████████| 16/16 [00:00<00:00, 83468.74it/s]\n"
     ]
    },
    {
     "name": "stdout",
     "output_type": "stream",
     "text": [
      "Stationday 993 KOKX20110905\n"
     ]
    },
    {
     "name": "stderr",
     "output_type": "stream",
     "text": [
      "Tracking: 100%|██████████| 27/27 [00:00<00:00, 872.80it/s]\n",
      "Cleaning windfarm: 100%|██████████| 7/7 [00:01<00:00,  3.59it/s]\n",
      "Cleaning rain: 100%|██████████| 7/7 [00:00<00:00, 61941.20it/s]\n"
     ]
    },
    {
     "name": "stdout",
     "output_type": "stream",
     "text": [
      "Stationday 994 KOKX20110914\n"
     ]
    },
    {
     "name": "stderr",
     "output_type": "stream",
     "text": [
      "Tracking: 100%|██████████| 11/11 [00:00<00:00, 1360.30it/s]\n",
      "Cleaning windfarm: 100%|██████████| 8/8 [00:00<00:00, 12.41it/s]\n",
      "Cleaning rain: 100%|██████████| 8/8 [00:00<00:00, 76783.60it/s]\n"
     ]
    },
    {
     "name": "stdout",
     "output_type": "stream",
     "text": [
      "Stationday 995 KOKX20110917\n"
     ]
    },
    {
     "name": "stderr",
     "output_type": "stream",
     "text": [
      "Tracking: 100%|██████████| 12/12 [00:00<00:00, 396.43it/s]\n",
      "Cleaning windfarm: 100%|██████████| 9/9 [00:03<00:00,  2.34it/s]\n",
      "Cleaning rain: 100%|██████████| 9/9 [00:00<00:00, 87992.39it/s]\n"
     ]
    },
    {
     "name": "stdout",
     "output_type": "stream",
     "text": [
      "Stationday 996 KOKX20111005\n"
     ]
    },
    {
     "name": "stderr",
     "output_type": "stream",
     "text": [
      "Tracking: 100%|██████████| 11/11 [00:00<00:00, 906.89it/s]\n",
      "Cleaning windfarm: 100%|██████████| 9/9 [00:01<00:00,  7.62it/s]\n",
      "Cleaning rain: 100%|██████████| 9/9 [00:00<00:00, 52283.57it/s]\n"
     ]
    },
    {
     "name": "stdout",
     "output_type": "stream",
     "text": [
      "Stationday 997 KOKX20111018\n"
     ]
    },
    {
     "name": "stderr",
     "output_type": "stream",
     "text": [
      "Tracking: 100%|██████████| 18/18 [00:00<00:00, 471.11it/s]\n",
      "Cleaning windfarm: 100%|██████████| 26/26 [00:02<00:00,  8.76it/s]\n",
      "Cleaning rain: 100%|██████████| 26/26 [00:00<00:00, 119312.81it/s]\n"
     ]
    },
    {
     "name": "stdout",
     "output_type": "stream",
     "text": [
      "Stationday 998 KOKX20111024\n"
     ]
    },
    {
     "name": "stderr",
     "output_type": "stream",
     "text": [
      "Tracking: 100%|██████████| 11/11 [00:00<00:00, 969.78it/s]\n",
      "Cleaning windfarm: 100%|██████████| 12/12 [00:00<00:00, 21.11it/s]\n",
      "Cleaning rain: 100%|██████████| 12/12 [00:00<00:00, 103991.01it/s]\n"
     ]
    },
    {
     "name": "stdout",
     "output_type": "stream",
     "text": [
      "Stationday 999 KOKX20120713\n"
     ]
    },
    {
     "name": "stderr",
     "output_type": "stream",
     "text": [
      "Tracking: 100%|██████████| 20/20 [00:00<00:00, 42.80it/s]\n",
      "Cleaning windfarm: 100%|██████████| 17/17 [00:02<00:00,  7.09it/s]\n",
      "Cleaning rain: 100%|██████████| 17/17 [00:00<00:00, 127.74it/s]\n"
     ]
    },
    {
     "name": "stdout",
     "output_type": "stream",
     "text": [
      "Stationday 1000 KOKX20120719\n"
     ]
    },
    {
     "name": "stderr",
     "output_type": "stream",
     "text": [
      "Tracking: 100%|██████████| 26/26 [00:00<00:00, 528.71it/s]\n",
      "Cleaning windfarm: 100%|██████████| 20/20 [00:03<00:00,  6.08it/s]\n",
      "Cleaning rain: 100%|██████████| 20/20 [00:00<00:00, 128.62it/s]\n"
     ]
    },
    {
     "name": "stdout",
     "output_type": "stream",
     "text": [
      "Stationday 1001 KOKX20120720\n"
     ]
    },
    {
     "name": "stderr",
     "output_type": "stream",
     "text": [
      "Tracking: 100%|██████████| 26/26 [00:00<00:00, 1534.56it/s]\n",
      "Cleaning windfarm: 100%|██████████| 11/11 [00:02<00:00,  5.46it/s]\n",
      "Cleaning rain: 100%|██████████| 11/11 [00:00<00:00, 113.32it/s]\n"
     ]
    },
    {
     "name": "stdout",
     "output_type": "stream",
     "text": [
      "Stationday 1002 KOKX20120721\n"
     ]
    },
    {
     "name": "stderr",
     "output_type": "stream",
     "text": [
      "Tracking: 100%|██████████| 11/11 [00:00<00:00, 286.02it/s]\n",
      "Cleaning windfarm: 100%|██████████| 15/15 [00:04<00:00,  3.71it/s]\n",
      "Cleaning rain: 100%|██████████| 15/15 [00:00<00:00, 137.86it/s]\n"
     ]
    },
    {
     "name": "stdout",
     "output_type": "stream",
     "text": [
      "Stationday 1003 KOKX20120725\n"
     ]
    },
    {
     "name": "stderr",
     "output_type": "stream",
     "text": [
      "Tracking: 100%|██████████| 11/11 [00:00<00:00, 762.82it/s]\n",
      "Cleaning windfarm: 100%|██████████| 10/10 [00:00<00:00, 15.15it/s]\n",
      "Cleaning rain: 100%|██████████| 10/10 [00:00<00:00, 137.31it/s]\n"
     ]
    },
    {
     "name": "stdout",
     "output_type": "stream",
     "text": [
      "Stationday 1004 KOKX20120729\n"
     ]
    },
    {
     "name": "stderr",
     "output_type": "stream",
     "text": [
      "Tracking: 100%|██████████| 19/19 [00:00<00:00, 292.89it/s]\n",
      "Cleaning windfarm: 100%|██████████| 15/15 [00:04<00:00,  3.34it/s]\n",
      "Cleaning rain: 100%|██████████| 15/15 [00:00<00:00, 161.79it/s]\n"
     ]
    },
    {
     "name": "stdout",
     "output_type": "stream",
     "text": [
      "Stationday 1005 KOKX20120730\n"
     ]
    },
    {
     "name": "stderr",
     "output_type": "stream",
     "text": [
      "Tracking: 100%|██████████| 12/12 [00:00<00:00, 254.66it/s]\n",
      "Cleaning windfarm: 100%|██████████| 17/17 [00:04<00:00,  3.72it/s]\n",
      "Cleaning rain: 100%|██████████| 17/17 [00:00<00:00, 176.12it/s]\n"
     ]
    },
    {
     "name": "stdout",
     "output_type": "stream",
     "text": [
      "Stationday 1006 KOKX20120731\n"
     ]
    },
    {
     "name": "stderr",
     "output_type": "stream",
     "text": [
      "Tracking: 100%|██████████| 20/20 [00:00<00:00, 371.84it/s]\n",
      "Cleaning windfarm: 100%|██████████| 18/18 [00:05<00:00,  3.34it/s]\n",
      "Cleaning rain: 100%|██████████| 18/18 [00:00<00:00, 167.45it/s]\n"
     ]
    },
    {
     "name": "stdout",
     "output_type": "stream",
     "text": [
      "Stationday 1007 KOKX20120823\n"
     ]
    },
    {
     "name": "stderr",
     "output_type": "stream",
     "text": [
      "Tracking: 100%|██████████| 15/15 [00:00<00:00, 414.67it/s]\n",
      "Cleaning windfarm: 100%|██████████| 23/23 [00:02<00:00,  9.40it/s]\n",
      "Cleaning rain: 100%|██████████| 23/23 [00:00<00:00, 145.29it/s]\n"
     ]
    },
    {
     "name": "stdout",
     "output_type": "stream",
     "text": [
      "Stationday 1008 KOKX20120830\n"
     ]
    },
    {
     "name": "stderr",
     "output_type": "stream",
     "text": [
      "Tracking: 100%|██████████| 11/11 [00:00<00:00, 327.13it/s]\n",
      "Cleaning windfarm: 100%|██████████| 16/16 [00:05<00:00,  3.05it/s]\n",
      "Cleaning rain: 100%|██████████| 16/16 [00:00<00:00, 162.04it/s]\n"
     ]
    },
    {
     "name": "stdout",
     "output_type": "stream",
     "text": [
      "Stationday 1009 KOKX20120903\n"
     ]
    },
    {
     "name": "stderr",
     "output_type": "stream",
     "text": [
      "Tracking: 100%|██████████| 16/16 [00:00<00:00, 412.62it/s]\n",
      "Cleaning windfarm: 100%|██████████| 16/16 [00:02<00:00,  6.48it/s]\n",
      "Cleaning rain: 100%|██████████| 16/16 [00:00<00:00, 141.40it/s]\n"
     ]
    },
    {
     "name": "stdout",
     "output_type": "stream",
     "text": [
      "Stationday 1010 KOKX20120908\n"
     ]
    },
    {
     "name": "stderr",
     "output_type": "stream",
     "text": [
      "Tracking: 100%|██████████| 26/26 [00:00<00:00, 2274.38it/s]\n",
      "Cleaning windfarm: 100%|██████████| 9/9 [00:00<00:00, 13.38it/s]\n",
      "Cleaning rain: 100%|██████████| 9/9 [00:00<00:00, 130.79it/s]\n"
     ]
    },
    {
     "name": "stdout",
     "output_type": "stream",
     "text": [
      "Stationday 1011 KOKX20120911\n"
     ]
    },
    {
     "name": "stderr",
     "output_type": "stream",
     "text": [
      "Tracking: 100%|██████████| 11/11 [00:00<00:00, 535.09it/s]\n",
      "Cleaning windfarm: 100%|██████████| 10/10 [00:03<00:00,  3.02it/s]\n",
      "Cleaning rain: 100%|██████████| 10/10 [00:00<00:00, 166.95it/s]\n"
     ]
    },
    {
     "name": "stdout",
     "output_type": "stream",
     "text": [
      "Stationday 1012 KOKX20120912\n"
     ]
    },
    {
     "name": "stderr",
     "output_type": "stream",
     "text": [
      "Tracking: 100%|██████████| 11/11 [00:00<00:00, 592.60it/s]\n",
      "Cleaning windfarm: 100%|██████████| 15/15 [00:02<00:00,  7.19it/s]\n",
      "Cleaning rain: 100%|██████████| 15/15 [00:00<00:00, 164.56it/s]\n"
     ]
    },
    {
     "name": "stdout",
     "output_type": "stream",
     "text": [
      "Stationday 1013 KOKX20121002\n"
     ]
    },
    {
     "name": "stderr",
     "output_type": "stream",
     "text": [
      "Tracking: 100%|██████████| 11/11 [00:00<00:00, 736.42it/s]\n",
      "Cleaning windfarm: 100%|██████████| 11/11 [00:01<00:00,  8.58it/s]\n",
      "Cleaning rain: 100%|██████████| 11/11 [00:00<00:00, 154.33it/s]\n"
     ]
    },
    {
     "name": "stdout",
     "output_type": "stream",
     "text": [
      "Stationday 1014 KOKX20121013\n"
     ]
    },
    {
     "name": "stderr",
     "output_type": "stream",
     "text": [
      "Tracking: 100%|██████████| 11/11 [00:00<00:00, 550.01it/s]\n",
      "Cleaning windfarm: 100%|██████████| 9/9 [00:01<00:00,  4.55it/s]\n",
      "Cleaning rain: 100%|██████████| 9/9 [00:00<00:00, 133.86it/s]\n"
     ]
    },
    {
     "name": "stdout",
     "output_type": "stream",
     "text": [
      "Stationday 1015 KOKX20121017\n"
     ]
    },
    {
     "name": "stderr",
     "output_type": "stream",
     "text": [
      "Tracking: 100%|██████████| 11/11 [00:00<00:00, 837.17it/s]\n",
      "Cleaning windfarm: 100%|██████████| 4/4 [00:01<00:00,  2.13it/s]\n",
      "Cleaning rain: 100%|██████████| 4/4 [00:00<00:00, 112.82it/s]\n"
     ]
    },
    {
     "name": "stdout",
     "output_type": "stream",
     "text": [
      "Stationday 1016 KOKX20121021\n"
     ]
    },
    {
     "name": "stderr",
     "output_type": "stream",
     "text": [
      "Tracking: 100%|██████████| 11/11 [00:00<00:00, 991.33it/s]\n",
      "Cleaning windfarm: 100%|██████████| 9/9 [00:02<00:00,  3.45it/s]\n",
      "Cleaning rain: 100%|██████████| 9/9 [00:00<00:00, 155.44it/s]\n"
     ]
    },
    {
     "name": "stdout",
     "output_type": "stream",
     "text": [
      "Stationday 1017 KOKX20121024\n"
     ]
    },
    {
     "name": "stderr",
     "output_type": "stream",
     "text": [
      "Tracking: 100%|██████████| 17/17 [00:00<00:00, 1211.92it/s]\n",
      "Cleaning windfarm: 100%|██████████| 12/12 [00:01<00:00,  6.04it/s]\n",
      "Cleaning rain: 100%|██████████| 12/12 [00:00<00:00, 149.98it/s]\n"
     ]
    },
    {
     "name": "stdout",
     "output_type": "stream",
     "text": [
      "Stationday 1018 KOKX20130725\n"
     ]
    },
    {
     "name": "stderr",
     "output_type": "stream",
     "text": [
      "Tracking: 100%|██████████| 19/19 [00:00<00:00, 851.39it/s]\n",
      "Cleaning windfarm: 100%|██████████| 14/14 [00:01<00:00,  7.08it/s]\n",
      "Cleaning rain: 100%|██████████| 14/14 [00:00<00:00, 157.67it/s]\n"
     ]
    },
    {
     "name": "stdout",
     "output_type": "stream",
     "text": [
      "Stationday 1019 KOKX20130730\n"
     ]
    },
    {
     "name": "stderr",
     "output_type": "stream",
     "text": [
      "Tracking: 100%|██████████| 12/12 [00:00<00:00, 2010.93it/s]\n",
      "Cleaning windfarm: 100%|██████████| 4/4 [00:01<00:00,  3.18it/s]\n",
      "Cleaning rain: 100%|██████████| 4/4 [00:00<00:00, 163.90it/s]\n"
     ]
    },
    {
     "name": "stdout",
     "output_type": "stream",
     "text": [
      "Stationday 1020 KRTX20090909\n"
     ]
    },
    {
     "name": "stderr",
     "output_type": "stream",
     "text": [
      "Tracking: 100%|██████████| 12/12 [00:00<00:00, 1414.01it/s]\n",
      "Cleaning windfarm: 100%|██████████| 7/7 [00:00<00:00, 61.59it/s]\n",
      "Cleaning rain: 100%|██████████| 7/7 [00:00<00:00, 77467.36it/s]\n"
     ]
    },
    {
     "name": "stdout",
     "output_type": "stream",
     "text": [
      "Stationday 1021 KRTX20090911\n"
     ]
    },
    {
     "name": "stderr",
     "output_type": "stream",
     "text": [
      "Tracking: 100%|██████████| 6/6 [00:00<00:00, 1039.61it/s]\n",
      "Cleaning windfarm: 100%|██████████| 4/4 [00:00<00:00, 17.50it/s]\n",
      "Cleaning rain: 100%|██████████| 4/4 [00:00<00:00, 27280.03it/s]\n"
     ]
    },
    {
     "name": "stdout",
     "output_type": "stream",
     "text": [
      "Stationday 1022 KRTX20091003\n"
     ]
    },
    {
     "name": "stderr",
     "output_type": "stream",
     "text": [
      "Tracking: 100%|██████████| 19/19 [00:00<00:00, 920.01it/s]\n",
      "Cleaning windfarm: 100%|██████████| 10/10 [00:00<00:00, 21.62it/s]\n",
      "Cleaning rain: 100%|██████████| 10/10 [00:00<00:00, 52363.35it/s]\n"
     ]
    },
    {
     "name": "stdout",
     "output_type": "stream",
     "text": [
      "Stationday 1023 KRTX20091005\n"
     ]
    },
    {
     "name": "stderr",
     "output_type": "stream",
     "text": [
      "Tracking: 100%|██████████| 12/12 [00:00<00:00, 1438.79it/s]\n",
      "Cleaning windfarm: 100%|██████████| 8/8 [00:00<00:00, 69.51it/s]\n",
      "Cleaning rain: 100%|██████████| 8/8 [00:00<00:00, 14327.26it/s]\n"
     ]
    },
    {
     "name": "stdout",
     "output_type": "stream",
     "text": [
      "Stationday 1024 KRTX20100906\n"
     ]
    },
    {
     "name": "stderr",
     "output_type": "stream",
     "text": [
      "Tracking: 100%|██████████| 15/15 [00:00<00:00, 2608.83it/s]\n",
      "Cleaning windfarm: 100%|██████████| 7/7 [00:00<00:00, 61.47it/s]\n",
      "Cleaning rain: 100%|██████████| 7/7 [00:00<00:00, 13598.95it/s]\n"
     ]
    },
    {
     "name": "stdout",
     "output_type": "stream",
     "text": [
      "Stationday 1025 KRTX20100911\n"
     ]
    },
    {
     "name": "stderr",
     "output_type": "stream",
     "text": [
      "Tracking: 100%|██████████| 12/12 [00:00<00:00, 1323.79it/s]\n",
      "Cleaning windfarm: 100%|██████████| 5/5 [00:00<00:00, 21.99it/s]\n",
      "Cleaning rain: 100%|██████████| 5/5 [00:00<00:00, 28036.79it/s]\n"
     ]
    },
    {
     "name": "stdout",
     "output_type": "stream",
     "text": [
      "Stationday 1026 KTBW19951008\n"
     ]
    },
    {
     "name": "stderr",
     "output_type": "stream",
     "text": [
      "Tracking: 100%|██████████| 20/20 [00:00<00:00, 3969.44it/s]\n",
      "Cleaning windfarm: 100%|██████████| 2/2 [00:00<00:00,  3.41it/s]\n",
      "Cleaning rain: 100%|██████████| 2/2 [00:00<00:00, 12965.39it/s]\n"
     ]
    },
    {
     "name": "stdout",
     "output_type": "stream",
     "text": [
      "Stationday 1027 KTBW19951102\n"
     ]
    },
    {
     "name": "stderr",
     "output_type": "stream",
     "text": [
      "Tracking: 100%|██████████| 19/19 [00:00<00:00, 1015.21it/s]\n",
      "Cleaning windfarm: 100%|██████████| 5/5 [00:02<00:00,  2.02it/s]\n",
      "Cleaning rain: 100%|██████████| 5/5 [00:00<00:00, 54330.36it/s]\n"
     ]
    },
    {
     "name": "stdout",
     "output_type": "stream",
     "text": [
      "Stationday 1028 KTBW19951105\n"
     ]
    },
    {
     "name": "stderr",
     "output_type": "stream",
     "text": [
      "Tracking: 100%|██████████| 17/17 [00:00<00:00, 1539.19it/s]\n",
      "Cleaning windfarm: 100%|██████████| 5/5 [00:01<00:00,  3.89it/s]\n",
      "Cleaning rain: 100%|██████████| 5/5 [00:00<00:00, 32870.72it/s]\n"
     ]
    },
    {
     "name": "stdout",
     "output_type": "stream",
     "text": [
      "Stationday 1029 KTBW19951113\n"
     ]
    },
    {
     "name": "stderr",
     "output_type": "stream",
     "text": [
      "Tracking: 100%|██████████| 20/20 [00:00<00:00, 4002.58it/s]\n",
      "Cleaning windfarm: 100%|██████████| 4/4 [00:00<00:00,  7.00it/s]\n",
      "Cleaning rain: 100%|██████████| 4/4 [00:00<00:00, 48072.25it/s]\n"
     ]
    },
    {
     "name": "stdout",
     "output_type": "stream",
     "text": [
      "Stationday 1030 KTBW19951123\n"
     ]
    },
    {
     "name": "stderr",
     "output_type": "stream",
     "text": [
      "Tracking: 100%|██████████| 11/11 [00:00<00:00, 1346.96it/s]\n",
      "Cleaning windfarm: 100%|██████████| 9/9 [00:00<00:00, 13.25it/s]\n",
      "Cleaning rain: 100%|██████████| 9/9 [00:00<00:00, 59074.70it/s]\n"
     ]
    },
    {
     "name": "stdout",
     "output_type": "stream",
     "text": [
      "Stationday 1031 KTBW19951216\n"
     ]
    },
    {
     "name": "stderr",
     "output_type": "stream",
     "text": [
      "Tracking: 100%|██████████| 20/20 [00:00<00:00, 628.78it/s]\n",
      "Cleaning windfarm: 100%|██████████| 7/7 [00:02<00:00,  2.78it/s]\n",
      "Cleaning rain: 100%|██████████| 7/7 [00:00<00:00, 66425.63it/s]\n"
     ]
    },
    {
     "name": "stdout",
     "output_type": "stream",
     "text": [
      "Stationday 1032 KTBW19951219\n"
     ]
    },
    {
     "name": "stderr",
     "output_type": "stream",
     "text": [
      "Tracking: 100%|██████████| 19/19 [00:00<00:00, 568.53it/s]\n",
      "Cleaning windfarm: 100%|██████████| 5/5 [00:01<00:00,  2.64it/s]\n",
      "Cleaning rain: 100%|██████████| 5/5 [00:00<00:00, 50901.75it/s]\n"
     ]
    },
    {
     "name": "stdout",
     "output_type": "stream",
     "text": [
      "Stationday 1033 KTBW19960104\n"
     ]
    },
    {
     "name": "stderr",
     "output_type": "stream",
     "text": [
      "Tracking: 100%|██████████| 11/11 [00:00<00:00, 1272.44it/s]\n",
      "Cleaning windfarm: 100%|██████████| 7/7 [00:00<00:00, 11.03it/s]\n",
      "Cleaning rain: 100%|██████████| 7/7 [00:00<00:00, 71435.83it/s]\n"
     ]
    },
    {
     "name": "stdout",
     "output_type": "stream",
     "text": [
      "Stationday 1034 KTBW19960125\n"
     ]
    },
    {
     "name": "stderr",
     "output_type": "stream",
     "text": [
      "Tracking: 100%|██████████| 16/16 [00:00<00:00, 443.64it/s]\n",
      "Cleaning windfarm: 100%|██████████| 13/13 [00:01<00:00,  6.57it/s]\n",
      "Cleaning rain: 100%|██████████| 13/13 [00:00<00:00, 95325.09it/s]\n"
     ]
    },
    {
     "name": "stdout",
     "output_type": "stream",
     "text": [
      "Stationday 1035 KTBW19960305\n"
     ]
    },
    {
     "name": "stderr",
     "output_type": "stream",
     "text": [
      "Tracking: 100%|██████████| 20/20 [00:00<00:00, 768.55it/s]\n",
      "Cleaning windfarm: 100%|██████████| 9/9 [00:03<00:00,  2.72it/s]\n",
      "Cleaning rain: 100%|██████████| 9/9 [00:00<00:00, 73156.47it/s]\n"
     ]
    },
    {
     "name": "stdout",
     "output_type": "stream",
     "text": [
      "Stationday 1036 KTBW19960325\n"
     ]
    },
    {
     "name": "stderr",
     "output_type": "stream",
     "text": [
      "Tracking: 100%|██████████| 11/11 [00:00<00:00, 865.58it/s]\n",
      "Cleaning windfarm: 100%|██████████| 8/8 [00:01<00:00,  4.18it/s]\n",
      "Cleaning rain: 100%|██████████| 8/8 [00:00<00:00, 75573.05it/s]\n"
     ]
    },
    {
     "name": "stdout",
     "output_type": "stream",
     "text": [
      "Stationday 1037 KTBW19961124\n"
     ]
    },
    {
     "name": "stderr",
     "output_type": "stream",
     "text": [
      "Tracking: 100%|██████████| 20/20 [00:00<00:00, 808.67it/s]\n",
      "Cleaning windfarm: 100%|██████████| 18/18 [00:01<00:00,  9.24it/s]\n",
      "Cleaning rain: 100%|██████████| 18/18 [00:00<00:00, 86778.70it/s]\n"
     ]
    },
    {
     "name": "stdout",
     "output_type": "stream",
     "text": [
      "Stationday 1038 KTBW19961130\n"
     ]
    },
    {
     "name": "stderr",
     "output_type": "stream",
     "text": [
      "Tracking: 100%|██████████| 11/11 [00:00<00:00, 1505.49it/s]\n",
      "Cleaning windfarm: 100%|██████████| 4/4 [00:01<00:00,  3.05it/s]\n",
      "Cleaning rain: 100%|██████████| 4/4 [00:00<00:00, 48913.17it/s]\n"
     ]
    },
    {
     "name": "stdout",
     "output_type": "stream",
     "text": [
      "Stationday 1039 KTBW19961205\n"
     ]
    },
    {
     "name": "stderr",
     "output_type": "stream",
     "text": [
      "Tracking: 100%|██████████| 11/11 [00:00<00:00, 1165.79it/s]\n",
      "Cleaning windfarm: 100%|██████████| 9/9 [00:01<00:00,  6.59it/s]\n",
      "Cleaning rain: 100%|██████████| 9/9 [00:00<00:00, 54003.91it/s]\n"
     ]
    },
    {
     "name": "stdout",
     "output_type": "stream",
     "text": [
      "Stationday 1040 KTBW19961211\n"
     ]
    },
    {
     "name": "stderr",
     "output_type": "stream",
     "text": [
      "Tracking: 100%|██████████| 11/11 [00:00<00:00, 1453.79it/s]\n",
      "Cleaning windfarm: 100%|██████████| 6/6 [00:00<00:00,  9.08it/s]\n",
      "Cleaning rain: 100%|██████████| 6/6 [00:00<00:00, 68947.46it/s]\n"
     ]
    },
    {
     "name": "stdout",
     "output_type": "stream",
     "text": [
      "Stationday 1041 KTBW19961215\n"
     ]
    },
    {
     "name": "stderr",
     "output_type": "stream",
     "text": [
      "Tracking: 100%|██████████| 20/20 [00:00<00:00, 590.98it/s]\n",
      "Cleaning windfarm: 100%|██████████| 11/11 [00:03<00:00,  2.95it/s]\n",
      "Cleaning rain: 100%|██████████| 11/11 [00:00<00:00, 77281.98it/s]\n"
     ]
    },
    {
     "name": "stdout",
     "output_type": "stream",
     "text": [
      "Stationday 1042 KTBW19961225\n"
     ]
    },
    {
     "name": "stderr",
     "output_type": "stream",
     "text": [
      "Tracking: 100%|██████████| 20/20 [00:00<00:00, 689.16it/s]\n",
      "Cleaning windfarm: 100%|██████████| 9/9 [00:03<00:00,  2.79it/s]\n",
      "Cleaning rain: 100%|██████████| 9/9 [00:00<00:00, 73441.12it/s]\n"
     ]
    },
    {
     "name": "stdout",
     "output_type": "stream",
     "text": [
      "Stationday 1043 KTBW19961226\n"
     ]
    },
    {
     "name": "stderr",
     "output_type": "stream",
     "text": [
      "Tracking: 100%|██████████| 12/12 [00:00<00:00, 908.64it/s]\n",
      "Cleaning windfarm: 100%|██████████| 7/7 [00:01<00:00,  5.84it/s]\n",
      "Cleaning rain: 100%|██████████| 7/7 [00:00<00:00, 61941.20it/s]\n"
     ]
    },
    {
     "name": "stdout",
     "output_type": "stream",
     "text": [
      "Stationday 1044 KTBW19961231\n"
     ]
    },
    {
     "name": "stderr",
     "output_type": "stream",
     "text": [
      "Tracking: 100%|██████████| 11/11 [00:00<00:00, 765.41it/s]\n",
      "Cleaning windfarm: 100%|██████████| 8/8 [00:01<00:00,  4.13it/s]\n",
      "Cleaning rain: 100%|██████████| 8/8 [00:00<00:00, 82241.25it/s]\n"
     ]
    },
    {
     "name": "stdout",
     "output_type": "stream",
     "text": [
      "Stationday 1045 KTBW19970124\n"
     ]
    },
    {
     "name": "stderr",
     "output_type": "stream",
     "text": [
      "Tracking: 100%|██████████| 12/12 [00:00<00:00, 930.26it/s]\n",
      "Cleaning windfarm: 100%|██████████| 11/11 [00:00<00:00, 17.42it/s]\n",
      "Cleaning rain: 100%|██████████| 11/11 [00:00<00:00, 58999.16it/s]\n"
     ]
    },
    {
     "name": "stdout",
     "output_type": "stream",
     "text": [
      "Stationday 1046 KTBW19970206\n"
     ]
    },
    {
     "name": "stderr",
     "output_type": "stream",
     "text": [
      "Tracking: 100%|██████████| 20/20 [00:00<00:00, 683.56it/s]\n",
      "Cleaning windfarm: 100%|██████████| 13/13 [00:02<00:00,  5.26it/s]\n",
      "Cleaning rain: 100%|██████████| 13/13 [00:00<00:00, 86549.13it/s]\n"
     ]
    },
    {
     "name": "stdout",
     "output_type": "stream",
     "text": [
      "Stationday 1047 KTBW19970313\n"
     ]
    },
    {
     "name": "stderr",
     "output_type": "stream",
     "text": [
      "Tracking: 100%|██████████| 17/17 [00:00<00:00, 556.84it/s]\n",
      "Cleaning windfarm: 100%|██████████| 8/8 [00:03<00:00,  2.59it/s]\n",
      "Cleaning rain: 100%|██████████| 8/8 [00:00<00:00, 71697.50it/s]\n"
     ]
    },
    {
     "name": "stdout",
     "output_type": "stream",
     "text": [
      "Stationday 1048 KTBW19970316\n"
     ]
    },
    {
     "name": "stderr",
     "output_type": "stream",
     "text": [
      "Tracking: 100%|██████████| 11/11 [00:00<00:00, 2622.04it/s]\n",
      "Cleaning windfarm: 100%|██████████| 4/4 [00:00<00:00,  5.77it/s]\n",
      "Cleaning rain: 100%|██████████| 4/4 [00:00<00:00, 47527.52it/s]\n"
     ]
    },
    {
     "name": "stdout",
     "output_type": "stream",
     "text": [
      "Stationday 1049 KTBW19970319\n"
     ]
    },
    {
     "name": "stderr",
     "output_type": "stream",
     "text": [
      "Tracking: 100%|██████████| 11/11 [00:00<00:00, 1113.22it/s]\n",
      "Cleaning windfarm: 100%|██████████| 6/6 [00:01<00:00,  3.11it/s]\n",
      "Cleaning rain: 100%|██████████| 6/6 [00:00<00:00, 64527.75it/s]\n"
     ]
    },
    {
     "name": "stdout",
     "output_type": "stream",
     "text": [
      "Stationday 1050 KTBW19970326\n"
     ]
    },
    {
     "name": "stderr",
     "output_type": "stream",
     "text": [
      "Tracking: 100%|██████████| 20/20 [00:00<00:00, 1187.92it/s]\n",
      "Cleaning windfarm: 100%|██████████| 2/2 [00:00<00:00,  3.02it/s]\n",
      "Cleaning rain: 100%|██████████| 2/2 [00:00<00:00, 25115.59it/s]\n"
     ]
    },
    {
     "name": "stdout",
     "output_type": "stream",
     "text": [
      "Stationday 1051 KTBW19971104\n"
     ]
    },
    {
     "name": "stderr",
     "output_type": "stream",
     "text": [
      "Tracking: 100%|██████████| 6/6 [00:00<00:00, 5304.77it/s]\n",
      "Cleaning windfarm: 100%|██████████| 1/1 [00:00<00:00, 11715.93it/s]\n",
      "Cleaning rain: 100%|██████████| 1/1 [00:00<00:00, 17697.49it/s]\n"
     ]
    },
    {
     "name": "stdout",
     "output_type": "stream",
     "text": [
      "Stationday 1052 KTBW19980202\n"
     ]
    },
    {
     "name": "stderr",
     "output_type": "stream",
     "text": [
      "Tracking: 100%|██████████| 23/23 [00:00<00:00, 8455.52it/s]\n",
      "Cleaning windfarm: 100%|██████████| 3/3 [00:00<00:00,  4.88it/s]\n",
      "Cleaning rain: 100%|██████████| 3/3 [00:00<00:00, 37449.14it/s]\n"
     ]
    },
    {
     "name": "stdout",
     "output_type": "stream",
     "text": [
      "Stationday 1053 KTBW19980312\n"
     ]
    },
    {
     "name": "stderr",
     "output_type": "stream",
     "text": [
      "Tracking: 100%|██████████| 4/4 [00:00<00:00, 4274.45it/s]\n",
      "Cleaning windfarm: 100%|██████████| 1/1 [00:00<00:00, 11715.93it/s]\n",
      "Cleaning rain: 100%|██████████| 1/1 [00:00<00:00, 8355.19it/s]\n"
     ]
    },
    {
     "name": "stdout",
     "output_type": "stream",
     "text": [
      "Stationday 1054 KTBW19980329\n"
     ]
    },
    {
     "name": "stderr",
     "output_type": "stream",
     "text": [
      "Tracking: 100%|██████████| 11/11 [00:00<00:00, 1503.33it/s]\n",
      "Cleaning windfarm: 100%|██████████| 2/2 [00:01<00:00,  1.52it/s]\n",
      "Cleaning rain: 100%|██████████| 2/2 [00:00<00:00, 24456.58it/s]\n"
     ]
    },
    {
     "name": "stdout",
     "output_type": "stream",
     "text": [
      "Stationday 1055 KTBW19980413\n"
     ]
    },
    {
     "name": "stderr",
     "output_type": "stream",
     "text": [
      "Tracking: 100%|██████████| 11/11 [00:00<00:00, 1863.16it/s]\n",
      "Cleaning windfarm: 100%|██████████| 4/4 [00:00<00:00,  6.05it/s]\n",
      "Cleaning rain: 100%|██████████| 4/4 [00:00<00:00, 47393.27it/s]\n"
     ]
    },
    {
     "name": "stdout",
     "output_type": "stream",
     "text": [
      "Stationday 1056 KTBW19980414\n"
     ]
    },
    {
     "name": "stderr",
     "output_type": "stream",
     "text": [
      "Tracking: 100%|██████████| 11/11 [00:00<00:00, 1423.90it/s]\n",
      "Cleaning windfarm: 100%|██████████| 4/4 [00:01<00:00,  3.04it/s]\n",
      "Cleaning rain: 100%|██████████| 4/4 [00:00<00:00, 29177.77it/s]\n"
     ]
    },
    {
     "name": "stdout",
     "output_type": "stream",
     "text": [
      "Stationday 1057 KTBW19981109\n"
     ]
    },
    {
     "name": "stderr",
     "output_type": "stream",
     "text": [
      "Tracking: 100%|██████████| 23/23 [00:00<00:00, 6527.88it/s]\n",
      "Cleaning windfarm: 100%|██████████| 1/1 [00:00<00:00, 10433.59it/s]\n",
      "Cleaning rain: 100%|██████████| 1/1 [00:00<00:00, 14716.86it/s]\n"
     ]
    },
    {
     "name": "stdout",
     "output_type": "stream",
     "text": [
      "Stationday 1058 KTBW19981112\n"
     ]
    },
    {
     "name": "stderr",
     "output_type": "stream",
     "text": [
      "Tracking: 100%|██████████| 23/23 [00:00<00:00, 991.12it/s]\n",
      "Cleaning windfarm: 100%|██████████| 2/2 [00:01<00:00,  1.53it/s]\n",
      "Cleaning rain: 100%|██████████| 2/2 [00:00<00:00, 24818.37it/s]\n"
     ]
    },
    {
     "name": "stdout",
     "output_type": "stream",
     "text": [
      "Stationday 1059 KTBW19990131\n"
     ]
    },
    {
     "name": "stderr",
     "output_type": "stream",
     "text": [
      "Tracking: 100%|██████████| 22/22 [00:00<00:00, 994.65it/s]\n",
      "Cleaning windfarm: 100%|██████████| 5/5 [00:00<00:00,  8.92it/s]\n",
      "Cleaning rain: 100%|██████████| 5/5 [00:00<00:00, 55043.36it/s]\n"
     ]
    },
    {
     "name": "stdout",
     "output_type": "stream",
     "text": [
      "Stationday 1060 KTBW19991111\n"
     ]
    },
    {
     "name": "stderr",
     "output_type": "stream",
     "text": [
      "Tracking: 100%|██████████| 19/19 [00:00<00:00, 2883.10it/s]\n",
      "Cleaning windfarm: 100%|██████████| 4/4 [00:00<00:00, 26715.31it/s]\n",
      "Cleaning rain: 100%|██████████| 4/4 [00:00<00:00, 46995.00it/s]\n"
     ]
    },
    {
     "name": "stdout",
     "output_type": "stream",
     "text": [
      "Stationday 1061 KTBW19991123\n"
     ]
    },
    {
     "name": "stderr",
     "output_type": "stream",
     "text": [
      "Tracking: 100%|██████████| 20/20 [00:00<00:00, 2293.85it/s]\n",
      "Cleaning windfarm: 100%|██████████| 1/1 [00:00<00:00,  1.51it/s]\n",
      "Cleaning rain: 100%|██████████| 1/1 [00:00<00:00, 15947.92it/s]\n"
     ]
    },
    {
     "name": "stdout",
     "output_type": "stream",
     "text": [
      "Stationday 1062 KTBW19991128\n"
     ]
    },
    {
     "name": "stderr",
     "output_type": "stream",
     "text": [
      "Tracking: 100%|██████████| 18/18 [00:00<00:00, 2392.26it/s]\n",
      "Cleaning windfarm: 100%|██████████| 3/3 [00:00<00:00,  4.66it/s]\n",
      "Cleaning rain: 100%|██████████| 3/3 [00:00<00:00, 35246.25it/s]\n"
     ]
    },
    {
     "name": "stdout",
     "output_type": "stream",
     "text": [
      "Stationday 1063 KTBW19991201\n"
     ]
    },
    {
     "name": "stderr",
     "output_type": "stream",
     "text": [
      "Tracking: 100%|██████████| 11/11 [00:00<00:00, 1361.30it/s]\n",
      "Cleaning windfarm: 100%|██████████| 7/7 [00:00<00:00, 10.56it/s]\n",
      "Cleaning rain: 100%|██████████| 7/7 [00:00<00:00, 80000.35it/s]\n"
     ]
    },
    {
     "name": "stdout",
     "output_type": "stream",
     "text": [
      "Stationday 1064 KTBW19991209\n"
     ]
    },
    {
     "name": "stderr",
     "output_type": "stream",
     "text": [
      "Tracking: 100%|██████████| 11/11 [00:00<00:00, 1400.48it/s]\n",
      "Cleaning windfarm: 100%|██████████| 5/5 [00:00<00:00,  7.52it/s]\n",
      "Cleaning rain: 100%|██████████| 5/5 [00:00<00:00, 56073.58it/s]\n"
     ]
    },
    {
     "name": "stdout",
     "output_type": "stream",
     "text": [
      "Stationday 1065 KTBW20000103\n"
     ]
    },
    {
     "name": "stderr",
     "output_type": "stream",
     "text": [
      "Tracking: 100%|██████████| 11/11 [00:00<00:00, 796.30it/s]\n",
      "Cleaning windfarm: 100%|██████████| 2/2 [00:00<00:00,  3.08it/s]\n",
      "Cleaning rain: 100%|██████████| 2/2 [00:00<00:00, 25811.10it/s]\n"
     ]
    },
    {
     "name": "stdout",
     "output_type": "stream",
     "text": [
      "Stationday 1066 KTBW20000118\n"
     ]
    },
    {
     "name": "stderr",
     "output_type": "stream",
     "text": [
      "Tracking: 100%|██████████| 11/11 [00:00<00:00, 2506.10it/s]\n",
      "Cleaning windfarm: 100%|██████████| 3/3 [00:00<00:00,  4.92it/s]\n",
      "Cleaning rain: 100%|██████████| 3/3 [00:00<00:00, 43690.67it/s]\n"
     ]
    },
    {
     "name": "stdout",
     "output_type": "stream",
     "text": [
      "Stationday 1067 KTBW20000121\n"
     ]
    },
    {
     "name": "stderr",
     "output_type": "stream",
     "text": [
      "Tracking: 100%|██████████| 11/11 [00:00<00:00, 1871.09it/s]\n",
      "Cleaning windfarm: 100%|██████████| 2/2 [00:00<00:00,  3.37it/s]\n",
      "Cleaning rain: 100%|██████████| 2/2 [00:00<00:00, 28728.11it/s]\n"
     ]
    },
    {
     "name": "stdout",
     "output_type": "stream",
     "text": [
      "Stationday 1068 KTBW20000306\n"
     ]
    },
    {
     "name": "stderr",
     "output_type": "stream",
     "text": [
      "Tracking: 100%|██████████| 19/19 [00:00<00:00, 1906.82it/s]\n",
      "Cleaning windfarm: 100%|██████████| 7/7 [00:01<00:00,  5.38it/s]\n",
      "Cleaning rain: 100%|██████████| 7/7 [00:00<00:00, 60041.16it/s]\n"
     ]
    },
    {
     "name": "stdout",
     "output_type": "stream",
     "text": [
      "Stationday 1069 KTBW20001104\n"
     ]
    },
    {
     "name": "stderr",
     "output_type": "stream",
     "text": [
      "Tracking: 100%|██████████| 19/19 [00:00<00:00, 978.93it/s]\n",
      "Cleaning windfarm: 100%|██████████| 11/11 [00:01<00:00,  5.62it/s]\n",
      "Cleaning rain: 100%|██████████| 11/11 [00:00<00:00, 57456.22it/s]\n"
     ]
    },
    {
     "name": "stdout",
     "output_type": "stream",
     "text": [
      "Stationday 1070 KTBW20001116\n"
     ]
    },
    {
     "name": "stderr",
     "output_type": "stream",
     "text": [
      "Tracking: 100%|██████████| 11/11 [00:00<00:00, 653.68it/s]\n",
      "Cleaning windfarm: 100%|██████████| 14/14 [00:02<00:00,  5.72it/s]\n",
      "Cleaning rain: 100%|██████████| 14/14 [00:00<00:00, 101416.68it/s]\n"
     ]
    },
    {
     "name": "stdout",
     "output_type": "stream",
     "text": [
      "Stationday 1071 KTBW20001202\n"
     ]
    },
    {
     "name": "stderr",
     "output_type": "stream",
     "text": [
      "Tracking: 100%|██████████| 11/11 [00:00<00:00, 1654.20it/s]\n",
      "Cleaning windfarm: 100%|██████████| 4/4 [00:01<00:00,  3.12it/s]\n",
      "Cleaning rain: 100%|██████████| 4/4 [00:00<00:00, 27324.46it/s]\n"
     ]
    },
    {
     "name": "stdout",
     "output_type": "stream",
     "text": [
      "Stationday 1072 KTBW20001205\n"
     ]
    },
    {
     "name": "stderr",
     "output_type": "stream",
     "text": [
      "Tracking: 100%|██████████| 11/11 [00:00<00:00, 3862.81it/s]\n",
      "Cleaning windfarm: 100%|██████████| 2/2 [00:00<00:00,  3.31it/s]\n",
      "Cleaning rain: 100%|██████████| 2/2 [00:00<00:00, 27324.46it/s]\n"
     ]
    },
    {
     "name": "stdout",
     "output_type": "stream",
     "text": [
      "Stationday 1073 KTBW20001209\n"
     ]
    },
    {
     "name": "stderr",
     "output_type": "stream",
     "text": [
      "Tracking: 100%|██████████| 19/19 [00:00<00:00, 862.71it/s]\n",
      "Cleaning windfarm: 100%|██████████| 4/4 [00:01<00:00,  2.28it/s]\n",
      "Cleaning rain: 100%|██████████| 4/4 [00:00<00:00, 45590.26it/s]\n"
     ]
    },
    {
     "name": "stdout",
     "output_type": "stream",
     "text": [
      "Stationday 1074 KTBW20001221\n"
     ]
    },
    {
     "name": "stderr",
     "output_type": "stream",
     "text": [
      "Tracking: 100%|██████████| 10/10 [00:00<00:00, 1200.71it/s]\n",
      "Cleaning windfarm: 100%|██████████| 7/7 [00:01<00:00,  5.53it/s]\n",
      "Cleaning rain: 100%|██████████| 7/7 [00:00<00:00, 66727.56it/s]\n"
     ]
    },
    {
     "name": "stdout",
     "output_type": "stream",
     "text": [
      "Stationday 1075 KTBW20010101\n"
     ]
    },
    {
     "name": "stderr",
     "output_type": "stream",
     "text": [
      "Tracking: 100%|██████████| 11/11 [00:00<00:00, 1175.98it/s]\n",
      "Cleaning windfarm: 100%|██████████| 12/12 [00:01<00:00,  6.26it/s]\n",
      "Cleaning rain: 100%|██████████| 12/12 [00:00<00:00, 101475.10it/s]\n"
     ]
    },
    {
     "name": "stdout",
     "output_type": "stream",
     "text": [
      "Stationday 1076 KTBW20010110\n"
     ]
    },
    {
     "name": "stderr",
     "output_type": "stream",
     "text": [
      "Tracking: 100%|██████████| 12/12 [00:00<00:00, 1224.23it/s]\n",
      "Cleaning windfarm: 100%|██████████| 4/4 [00:01<00:00,  3.18it/s]\n",
      "Cleaning rain: 100%|██████████| 4/4 [00:00<00:00, 51781.53it/s]\n"
     ]
    },
    {
     "name": "stdout",
     "output_type": "stream",
     "text": [
      "Stationday 1077 KTBW20010111\n"
     ]
    },
    {
     "name": "stderr",
     "output_type": "stream",
     "text": [
      "Tracking: 100%|██████████| 11/11 [00:00<00:00, 1613.42it/s]\n",
      "Cleaning windfarm: 100%|██████████| 4/4 [00:01<00:00,  3.24it/s]\n",
      "Cleaning rain: 100%|██████████| 4/4 [00:00<00:00, 50231.19it/s]\n"
     ]
    },
    {
     "name": "stdout",
     "output_type": "stream",
     "text": [
      "Stationday 1078 KTBW20010117\n"
     ]
    },
    {
     "name": "stderr",
     "output_type": "stream",
     "text": [
      "Tracking: 100%|██████████| 20/20 [00:00<00:00, 964.65it/s]\n",
      "Cleaning windfarm: 100%|██████████| 6/6 [00:01<00:00,  4.91it/s]\n",
      "Cleaning rain: 100%|██████████| 6/6 [00:00<00:00, 60494.77it/s]\n"
     ]
    },
    {
     "name": "stdout",
     "output_type": "stream",
     "text": [
      "Stationday 1079 KTBW20010124\n"
     ]
    },
    {
     "name": "stderr",
     "output_type": "stream",
     "text": [
      "Tracking: 100%|██████████| 11/11 [00:00<00:00, 1529.30it/s]\n",
      "Cleaning windfarm: 100%|██████████| 4/4 [00:00<00:00,  5.76it/s]\n",
      "Cleaning rain: 100%|██████████| 4/4 [00:00<00:00, 46995.00it/s]\n"
     ]
    },
    {
     "name": "stdout",
     "output_type": "stream",
     "text": [
      "Stationday 1080 KTBW20010126\n"
     ]
    },
    {
     "name": "stderr",
     "output_type": "stream",
     "text": [
      "Tracking: 100%|██████████| 18/18 [00:00<00:00, 893.98it/s]\n",
      "Cleaning windfarm: 100%|██████████| 7/7 [00:01<00:00,  3.53it/s]\n",
      "Cleaning rain: 100%|██████████| 7/7 [00:00<00:00, 62601.55it/s]\n"
     ]
    },
    {
     "name": "stdout",
     "output_type": "stream",
     "text": [
      "Stationday 1081 KTBW20010127\n"
     ]
    },
    {
     "name": "stderr",
     "output_type": "stream",
     "text": [
      "Tracking: 100%|██████████| 19/19 [00:00<00:00, 952.08it/s]\n",
      "Cleaning windfarm: 100%|██████████| 8/8 [00:01<00:00,  7.06it/s]\n",
      "Cleaning rain: 100%|██████████| 8/8 [00:00<00:00, 51701.74it/s]\n"
     ]
    },
    {
     "name": "stdout",
     "output_type": "stream",
     "text": [
      "Stationday 1082 KTBW20010129\n"
     ]
    },
    {
     "name": "stderr",
     "output_type": "stream",
     "text": [
      "Tracking: 100%|██████████| 11/11 [00:00<00:00, 965.16it/s]\n",
      "Cleaning windfarm: 100%|██████████| 4/4 [00:01<00:00,  3.47it/s]\n",
      "Cleaning rain: 100%|██████████| 4/4 [00:00<00:00, 43919.41it/s]\n"
     ]
    },
    {
     "name": "stdout",
     "output_type": "stream",
     "text": [
      "Stationday 1083 KTBW20010318\n"
     ]
    },
    {
     "name": "stderr",
     "output_type": "stream",
     "text": [
      "Tracking: 100%|██████████| 20/20 [00:00<00:00, 422.95it/s]\n",
      "Cleaning windfarm: 100%|██████████| 13/13 [00:03<00:00,  4.32it/s]\n",
      "Cleaning rain: 100%|██████████| 13/13 [00:00<00:00, 71933.97it/s]\n"
     ]
    },
    {
     "name": "stdout",
     "output_type": "stream",
     "text": [
      "Stationday 1084 KTBW20011029\n"
     ]
    },
    {
     "name": "stderr",
     "output_type": "stream",
     "text": [
      "Tracking: 100%|██████████| 9/9 [00:00<00:00, 4247.16it/s]\n",
      "Cleaning windfarm: 100%|██████████| 1/1 [00:00<00:00,  1.71it/s]\n",
      "Cleaning rain: 100%|██████████| 1/1 [00:00<00:00, 17403.75it/s]\n"
     ]
    },
    {
     "name": "stdout",
     "output_type": "stream",
     "text": [
      "Stationday 1085 KTBW20011030\n"
     ]
    },
    {
     "name": "stderr",
     "output_type": "stream",
     "text": [
      "Tracking: 100%|██████████| 11/11 [00:00<00:00, 2775.35it/s]\n",
      "Cleaning windfarm: 100%|██████████| 6/6 [00:00<00:00,  9.31it/s]\n",
      "Cleaning rain: 100%|██████████| 6/6 [00:00<00:00, 39819.34it/s]\n"
     ]
    },
    {
     "name": "stdout",
     "output_type": "stream",
     "text": [
      "Stationday 1086 KTBW20011101\n"
     ]
    },
    {
     "name": "stderr",
     "output_type": "stream",
     "text": [
      "Tracking: 100%|██████████| 23/23 [00:00<00:00, 2536.92it/s]\n",
      "Cleaning windfarm: 100%|██████████| 7/7 [00:00<00:00, 10.66it/s]\n",
      "Cleaning rain: 100%|██████████| 7/7 [00:00<00:00, 68279.37it/s]\n"
     ]
    },
    {
     "name": "stdout",
     "output_type": "stream",
     "text": [
      "Stationday 1087 KTBW20011107\n"
     ]
    },
    {
     "name": "stderr",
     "output_type": "stream",
     "text": [
      "Tracking: 100%|██████████| 20/20 [00:00<00:00, 1232.28it/s]\n",
      "Cleaning windfarm: 100%|██████████| 6/6 [00:01<00:00,  3.09it/s]\n",
      "Cleaning rain: 100%|██████████| 6/6 [00:00<00:00, 57985.77it/s]\n"
     ]
    },
    {
     "name": "stdout",
     "output_type": "stream",
     "text": [
      "Stationday 1088 KTBW20011110\n"
     ]
    },
    {
     "name": "stderr",
     "output_type": "stream",
     "text": [
      "Tracking: 100%|██████████| 11/11 [00:00<00:00, 421.11it/s]\n",
      "Cleaning windfarm: 100%|██████████| 19/19 [00:02<00:00,  7.30it/s]\n",
      "Cleaning rain: 100%|██████████| 19/19 [00:00<00:00, 126094.58it/s]\n"
     ]
    },
    {
     "name": "stdout",
     "output_type": "stream",
     "text": [
      "Stationday 1089 KTBW20011115\n"
     ]
    },
    {
     "name": "stderr",
     "output_type": "stream",
     "text": [
      "Tracking: 100%|██████████| 19/19 [00:00<00:00, 2731.23it/s]\n",
      "Cleaning windfarm: 100%|██████████| 3/3 [00:00<00:00,  4.99it/s]\n",
      "Cleaning rain: 100%|██████████| 3/3 [00:00<00:00, 38479.85it/s]\n"
     ]
    },
    {
     "name": "stdout",
     "output_type": "stream",
     "text": [
      "Stationday 1090 KTBW20011120\n"
     ]
    },
    {
     "name": "stderr",
     "output_type": "stream",
     "text": [
      "Tracking: 100%|██████████| 19/19 [00:00<00:00, 1677.79it/s]\n",
      "Cleaning windfarm: 100%|██████████| 3/3 [00:00<00:00,  5.46it/s]\n",
      "Cleaning rain: 100%|██████████| 3/3 [00:00<00:00, 39321.60it/s]\n"
     ]
    },
    {
     "name": "stdout",
     "output_type": "stream",
     "text": [
      "Stationday 1091 KTBW20011126\n"
     ]
    },
    {
     "name": "stderr",
     "output_type": "stream",
     "text": [
      "Tracking: 100%|██████████| 19/19 [00:00<00:00, 715.14it/s]\n",
      "Cleaning windfarm: 100%|██████████| 5/5 [00:01<00:00,  2.67it/s]\n",
      "Cleaning rain: 100%|██████████| 5/5 [00:00<00:00, 55188.21it/s]\n"
     ]
    },
    {
     "name": "stdout",
     "output_type": "stream",
     "text": [
      "Stationday 1092 KTBW20011201\n"
     ]
    },
    {
     "name": "stderr",
     "output_type": "stream",
     "text": [
      "Tracking: 100%|██████████| 11/11 [00:00<00:00, 626.33it/s]\n",
      "Cleaning windfarm: 100%|██████████| 13/13 [00:03<00:00,  4.09it/s]\n",
      "Cleaning rain: 100%|██████████| 13/13 [00:00<00:00, 18303.44it/s]\n"
     ]
    },
    {
     "name": "stdout",
     "output_type": "stream",
     "text": [
      "Stationday 1093 KTBW20011208\n"
     ]
    },
    {
     "name": "stderr",
     "output_type": "stream",
     "text": [
      "Tracking: 100%|██████████| 22/22 [00:00<00:00, 1435.00it/s]\n",
      "Cleaning windfarm: 100%|██████████| 4/4 [00:01<00:00,  2.80it/s]\n",
      "Cleaning rain: 100%|██████████| 4/4 [00:00<00:00, 6103.03it/s]\n"
     ]
    },
    {
     "name": "stdout",
     "output_type": "stream",
     "text": [
      "Stationday 1094 KTBW20011214\n"
     ]
    },
    {
     "name": "stderr",
     "output_type": "stream",
     "text": [
      "Tracking: 100%|██████████| 16/16 [00:00<00:00, 849.82it/s]\n",
      "Cleaning windfarm: 100%|██████████| 9/9 [00:02<00:00,  3.49it/s]\n",
      "Cleaning rain: 100%|██████████| 9/9 [00:00<00:00, 16563.73it/s]\n"
     ]
    },
    {
     "name": "stdout",
     "output_type": "stream",
     "text": [
      "Stationday 1095 KTBW20011225\n"
     ]
    },
    {
     "name": "stderr",
     "output_type": "stream",
     "text": [
      "Tracking: 100%|██████████| 15/15 [00:00<00:00, 648.22it/s]\n",
      "Cleaning windfarm: 100%|██████████| 12/12 [00:02<00:00,  4.70it/s]\n",
      "Cleaning rain: 100%|██████████| 12/12 [00:00<00:00, 85452.71it/s]\n"
     ]
    },
    {
     "name": "stdout",
     "output_type": "stream",
     "text": [
      "Stationday 1096 KTBW20011231\n"
     ]
    },
    {
     "name": "stderr",
     "output_type": "stream",
     "text": [
      "Tracking: 100%|██████████| 20/20 [00:00<00:00, 2156.73it/s]\n",
      "Cleaning windfarm: 100%|██████████| 4/4 [00:00<00:00,  6.55it/s]\n",
      "Cleaning rain: 100%|██████████| 4/4 [00:00<00:00, 40041.09it/s]\n"
     ]
    },
    {
     "name": "stdout",
     "output_type": "stream",
     "text": [
      "Stationday 1097 KTBW20020125\n"
     ]
    },
    {
     "name": "stderr",
     "output_type": "stream",
     "text": [
      "Tracking: 100%|██████████| 11/11 [00:00<00:00, 1514.59it/s]\n",
      "Cleaning windfarm: 100%|██████████| 7/7 [00:02<00:00,  2.83it/s]\n",
      "Cleaning rain: 100%|██████████| 7/7 [00:00<00:00, 70239.54it/s]\n"
     ]
    },
    {
     "name": "stdout",
     "output_type": "stream",
     "text": [
      "Stationday 1098 KTBW20020131\n"
     ]
    },
    {
     "name": "stderr",
     "output_type": "stream",
     "text": [
      "Tracking: 100%|██████████| 14/14 [00:00<00:00, 980.71it/s]\n",
      "Cleaning windfarm: 100%|██████████| 4/4 [00:01<00:00,  3.14it/s]\n",
      "Cleaning rain: 100%|██████████| 4/4 [00:00<00:00, 50231.19it/s]\n"
     ]
    },
    {
     "name": "stdout",
     "output_type": "stream",
     "text": [
      "Stationday 1099 KTBW20020212\n"
     ]
    },
    {
     "name": "stderr",
     "output_type": "stream",
     "text": [
      "Tracking: 100%|██████████| 10/10 [00:00<00:00, 452.11it/s]\n",
      "Cleaning windfarm: 100%|██████████| 15/15 [00:02<00:00,  5.99it/s]\n",
      "Cleaning rain: 100%|██████████| 15/15 [00:00<00:00, 100502.49it/s]\n"
     ]
    },
    {
     "name": "stdout",
     "output_type": "stream",
     "text": [
      "Stationday 1100 KTBW20020213\n"
     ]
    },
    {
     "name": "stderr",
     "output_type": "stream",
     "text": [
      "Tracking: 100%|██████████| 18/18 [00:00<00:00, 1101.06it/s]\n",
      "Cleaning windfarm: 100%|██████████| 12/12 [00:00<00:00, 19.64it/s]\n",
      "Cleaning rain: 100%|██████████| 12/12 [00:00<00:00, 79764.89it/s]\n"
     ]
    },
    {
     "name": "stdout",
     "output_type": "stream",
     "text": [
      "Stationday 1101 KTBW20020219\n"
     ]
    },
    {
     "name": "stderr",
     "output_type": "stream",
     "text": [
      "Tracking: 100%|██████████| 8/8 [00:00<00:00, 3330.13it/s]\n",
      "Cleaning windfarm: 100%|██████████| 3/3 [00:00<00:00, 24624.09it/s]\n",
      "Cleaning rain: 100%|██████████| 3/3 [00:00<00:00, 42224.54it/s]\n"
     ]
    },
    {
     "name": "stdout",
     "output_type": "stream",
     "text": [
      "Stationday 1102 KTBW20020220\n"
     ]
    },
    {
     "name": "stderr",
     "output_type": "stream",
     "text": [
      "Tracking: 100%|██████████| 18/18 [00:00<00:00, 1968.69it/s]\n",
      "Cleaning windfarm: 100%|██████████| 4/4 [00:00<00:00,  6.51it/s]\n",
      "Cleaning rain: 100%|██████████| 4/4 [00:00<00:00, 47393.27it/s]\n"
     ]
    },
    {
     "name": "stdout",
     "output_type": "stream",
     "text": [
      "Stationday 1103 KTBW20020221\n"
     ]
    },
    {
     "name": "stderr",
     "output_type": "stream",
     "text": [
      "Tracking: 100%|██████████| 19/19 [00:00<00:00, 1614.30it/s]\n",
      "Cleaning windfarm: 100%|██████████| 2/2 [00:00<00:00,  3.35it/s]\n",
      "Cleaning rain: 100%|██████████| 2/2 [00:00<00:00, 25731.93it/s]\n"
     ]
    },
    {
     "name": "stdout",
     "output_type": "stream",
     "text": [
      "Stationday 1104 KTBW20020324\n"
     ]
    },
    {
     "name": "stderr",
     "output_type": "stream",
     "text": [
      "Tracking: 100%|██████████| 20/20 [00:00<00:00, 1019.16it/s]\n",
      "Cleaning windfarm: 100%|██████████| 6/6 [00:01<00:00,  5.20it/s]\n",
      "Cleaning rain: 100%|██████████| 6/6 [00:00<00:00, 59918.63it/s]\n"
     ]
    },
    {
     "name": "stdout",
     "output_type": "stream",
     "text": [
      "Stationday 1105 KTBW20020325\n"
     ]
    },
    {
     "name": "stderr",
     "output_type": "stream",
     "text": [
      "Tracking: 100%|██████████| 17/17 [00:00<00:00, 1132.16it/s]\n",
      "Cleaning windfarm: 100%|██████████| 6/6 [00:01<00:00,  3.07it/s]\n",
      "Cleaning rain: 100%|██████████| 6/6 [00:00<00:00, 62446.21it/s]\n"
     ]
    },
    {
     "name": "stdout",
     "output_type": "stream",
     "text": [
      "Stationday 1106 KTBW20020330\n"
     ]
    },
    {
     "name": "stderr",
     "output_type": "stream",
     "text": [
      "Tracking: 100%|██████████| 15/15 [00:00<00:00, 469.90it/s]\n",
      "Cleaning windfarm: 100%|██████████| 14/14 [00:01<00:00,  7.89it/s]\n",
      "Cleaning rain: 100%|██████████| 14/14 [00:00<00:00, 63895.82it/s]\n"
     ]
    },
    {
     "name": "stdout",
     "output_type": "stream",
     "text": [
      "Stationday 1107 KTBW20020420\n"
     ]
    },
    {
     "name": "stderr",
     "output_type": "stream",
     "text": [
      "Tracking: 100%|██████████| 10/10 [00:00<00:00, 646.42it/s]\n",
      "Cleaning windfarm: 100%|██████████| 11/11 [00:01<00:00,  5.85it/s]\n",
      "Cleaning rain: 100%|██████████| 11/11 [00:00<00:00, 97336.17it/s]\n"
     ]
    },
    {
     "name": "stdout",
     "output_type": "stream",
     "text": [
      "Stationday 1108 KTBW20020421\n"
     ]
    },
    {
     "name": "stderr",
     "output_type": "stream",
     "text": [
      "Tracking: 100%|██████████| 11/11 [00:00<00:00, 1076.54it/s]\n",
      "Cleaning windfarm: 100%|██████████| 6/6 [00:02<00:00,  2.18it/s]\n",
      "Cleaning rain: 100%|██████████| 6/6 [00:00<00:00, 69905.07it/s]\n"
     ]
    },
    {
     "name": "stdout",
     "output_type": "stream",
     "text": [
      "Stationday 1109 KTBW20020424\n"
     ]
    },
    {
     "name": "stderr",
     "output_type": "stream",
     "text": [
      "Tracking: 100%|██████████| 13/13 [00:00<00:00, 1004.86it/s]\n",
      "Cleaning windfarm: 100%|██████████| 7/7 [00:00<00:00, 10.30it/s]\n",
      "Cleaning rain: 100%|██████████| 7/7 [00:00<00:00, 70239.54it/s]\n"
     ]
    },
    {
     "name": "stdout",
     "output_type": "stream",
     "text": [
      "Stationday 1110 KTBW20021029\n"
     ]
    },
    {
     "name": "stderr",
     "output_type": "stream",
     "text": [
      "Tracking: 100%|██████████| 23/23 [00:00<00:00, 1370.71it/s]\n",
      "Cleaning windfarm: 100%|██████████| 4/4 [00:01<00:00,  3.11it/s]\n",
      "Cleaning rain: 100%|██████████| 4/4 [00:00<00:00, 41838.44it/s]\n"
     ]
    },
    {
     "name": "stdout",
     "output_type": "stream",
     "text": [
      "Stationday 1111 KTBW20021102\n"
     ]
    },
    {
     "name": "stderr",
     "output_type": "stream",
     "text": [
      "Tracking: 100%|██████████| 19/19 [00:00<00:00, 1677.79it/s]\n",
      "Cleaning windfarm: 100%|██████████| 5/5 [00:00<00:00,  7.97it/s]\n",
      "Cleaning rain: 100%|██████████| 5/5 [00:00<00:00, 51781.53it/s]\n"
     ]
    },
    {
     "name": "stdout",
     "output_type": "stream",
     "text": [
      "Stationday 1112 KTBW20021103\n"
     ]
    },
    {
     "name": "stderr",
     "output_type": "stream",
     "text": [
      "Tracking: 100%|██████████| 19/19 [00:00<00:00, 941.05it/s]\n",
      "Cleaning windfarm: 100%|██████████| 14/14 [00:00<00:00, 22.02it/s]\n",
      "Cleaning rain: 100%|██████████| 14/14 [00:00<00:00, 91322.33it/s]\n"
     ]
    },
    {
     "name": "stdout",
     "output_type": "stream",
     "text": [
      "Stationday 1113 KTBW20021120\n"
     ]
    },
    {
     "name": "stderr",
     "output_type": "stream",
     "text": [
      "Tracking: 100%|██████████| 20/20 [00:00<00:00, 1376.58it/s]\n",
      "Cleaning windfarm: 100%|██████████| 3/3 [00:00<00:00,  4.53it/s]\n",
      "Cleaning rain: 100%|██████████| 3/3 [00:00<00:00, 37117.73it/s]\n"
     ]
    },
    {
     "name": "stdout",
     "output_type": "stream",
     "text": [
      "Stationday 1114 KTBW20021122\n"
     ]
    },
    {
     "name": "stderr",
     "output_type": "stream",
     "text": [
      "Tracking: 100%|██████████| 19/19 [00:00<00:00, 616.62it/s]\n",
      "Cleaning windfarm: 100%|██████████| 16/16 [00:01<00:00,  8.45it/s]\n",
      "Cleaning rain: 100%|██████████| 16/16 [00:00<00:00, 108414.97it/s]\n"
     ]
    },
    {
     "name": "stdout",
     "output_type": "stream",
     "text": [
      "Stationday 1115 KTBW20021123\n"
     ]
    },
    {
     "name": "stderr",
     "output_type": "stream",
     "text": [
      "Tracking: 100%|██████████| 20/20 [00:00<00:00, 1620.11it/s]\n",
      "Cleaning windfarm: 100%|██████████| 4/4 [00:01<00:00,  3.11it/s]\n",
      "Cleaning rain: 100%|██████████| 4/4 [00:00<00:00, 45964.98it/s]\n"
     ]
    },
    {
     "name": "stdout",
     "output_type": "stream",
     "text": [
      "Stationday 1116 KTBW20021205\n"
     ]
    },
    {
     "name": "stderr",
     "output_type": "stream",
     "text": [
      "Tracking: 100%|██████████| 20/20 [00:00<00:00, 1129.54it/s]\n",
      "Cleaning windfarm: 100%|██████████| 4/4 [00:01<00:00,  2.31it/s]\n",
      "Cleaning rain: 100%|██████████| 4/4 [00:00<00:00, 45714.49it/s]\n"
     ]
    },
    {
     "name": "stdout",
     "output_type": "stream",
     "text": [
      "Stationday 1117 KTBW20021222\n"
     ]
    },
    {
     "name": "stderr",
     "output_type": "stream",
     "text": [
      "Tracking: 100%|██████████| 17/17 [00:00<00:00, 1159.16it/s]\n",
      "Cleaning windfarm: 100%|██████████| 12/12 [00:01<00:00, 10.65it/s]\n",
      "Cleaning rain: 100%|██████████| 12/12 [00:00<00:00, 89240.51it/s]\n"
     ]
    },
    {
     "name": "stdout",
     "output_type": "stream",
     "text": [
      "Stationday 1118 KTBW20021224\n"
     ]
    },
    {
     "name": "stderr",
     "output_type": "stream",
     "text": [
      "Tracking: 100%|██████████| 11/11 [00:00<00:00, 1315.80it/s]\n",
      "Cleaning windfarm: 100%|██████████| 4/4 [00:00<00:00,  6.52it/s]\n",
      "Cleaning rain: 100%|██████████| 4/4 [00:00<00:00, 51781.53it/s]\n"
     ]
    },
    {
     "name": "stdout",
     "output_type": "stream",
     "text": [
      "Stationday 1119 KTBW20021225\n"
     ]
    },
    {
     "name": "stderr",
     "output_type": "stream",
     "text": [
      "Tracking: 100%|██████████| 23/23 [00:00<00:00, 2324.95it/s]\n",
      "Cleaning windfarm: 100%|██████████| 6/6 [00:00<00:00,  9.21it/s]\n",
      "Cleaning rain: 100%|██████████| 6/6 [00:00<00:00, 45181.01it/s]\n"
     ]
    },
    {
     "name": "stdout",
     "output_type": "stream",
     "text": [
      "Stationday 1120 KTBW20021230\n"
     ]
    },
    {
     "name": "stderr",
     "output_type": "stream",
     "text": [
      "Tracking: 100%|██████████| 20/20 [00:00<00:00, 615.70it/s]\n",
      "Cleaning windfarm: 100%|██████████| 16/16 [00:02<00:00,  6.29it/s]\n",
      "Cleaning rain: 100%|██████████| 16/16 [00:00<00:00, 63191.02it/s]\n"
     ]
    },
    {
     "name": "stdout",
     "output_type": "stream",
     "text": [
      "Stationday 1121 KTBW20030102\n"
     ]
    },
    {
     "name": "stderr",
     "output_type": "stream",
     "text": [
      "Tracking: 100%|██████████| 19/19 [00:00<00:00, 809.96it/s]\n",
      "Cleaning windfarm: 100%|██████████| 9/9 [00:01<00:00,  4.76it/s]\n",
      "Cleaning rain: 100%|██████████| 9/9 [00:00<00:00, 42799.02it/s]\n"
     ]
    },
    {
     "name": "stdout",
     "output_type": "stream",
     "text": [
      "Stationday 1122 KTBW20030107\n"
     ]
    },
    {
     "name": "stderr",
     "output_type": "stream",
     "text": [
      "Tracking: 100%|██████████| 19/19 [00:00<00:00, 1290.45it/s]\n",
      "Cleaning windfarm: 100%|██████████| 6/6 [00:00<00:00,  9.58it/s]\n",
      "Cleaning rain: 100%|██████████| 6/6 [00:00<00:00, 53092.46it/s]\n"
     ]
    },
    {
     "name": "stdout",
     "output_type": "stream",
     "text": [
      "Stationday 1123 KTBW20030113\n"
     ]
    },
    {
     "name": "stderr",
     "output_type": "stream",
     "text": [
      "Tracking: 100%|██████████| 19/19 [00:00<00:00, 886.67it/s]\n",
      "Cleaning windfarm: 100%|██████████| 11/11 [00:01<00:00,  5.93it/s]\n",
      "Cleaning rain: 100%|██████████| 11/11 [00:00<00:00, 85598.04it/s]\n"
     ]
    },
    {
     "name": "stdout",
     "output_type": "stream",
     "text": [
      "Stationday 1124 KTBW20030115\n"
     ]
    },
    {
     "name": "stderr",
     "output_type": "stream",
     "text": [
      "Tracking: 100%|██████████| 10/10 [00:00<00:00, 809.57it/s]\n",
      "Cleaning windfarm: 100%|██████████| 13/13 [00:01<00:00, 10.25it/s]\n",
      "Cleaning rain: 100%|██████████| 13/13 [00:00<00:00, 100231.53it/s]\n"
     ]
    },
    {
     "name": "stdout",
     "output_type": "stream",
     "text": [
      "Stationday 1125 KTBW20030116\n"
     ]
    },
    {
     "name": "stderr",
     "output_type": "stream",
     "text": [
      "Tracking: 100%|██████████| 19/19 [00:00<00:00, 760.42it/s]\n",
      "Cleaning windfarm: 100%|██████████| 7/7 [00:01<00:00,  3.55it/s]\n",
      "Cleaning rain: 100%|██████████| 7/7 [00:00<00:00, 60041.16it/s]\n"
     ]
    },
    {
     "name": "stdout",
     "output_type": "stream",
     "text": [
      "Stationday 1126 KTBW20030119\n"
     ]
    },
    {
     "name": "stderr",
     "output_type": "stream",
     "text": [
      "Tracking: 100%|██████████| 19/19 [00:00<00:00, 984.98it/s]\n",
      "Cleaning windfarm: 100%|██████████| 8/8 [00:01<00:00,  4.40it/s]\n",
      "Cleaning rain: 100%|██████████| 8/8 [00:00<00:00, 73746.00it/s]\n"
     ]
    },
    {
     "name": "stdout",
     "output_type": "stream",
     "text": [
      "Stationday 1127 KTBW20030120\n"
     ]
    },
    {
     "name": "stderr",
     "output_type": "stream",
     "text": [
      "Tracking: 100%|██████████| 11/11 [00:00<00:00, 2390.04it/s]\n",
      "Cleaning windfarm: 100%|██████████| 5/5 [00:00<00:00, 33608.21it/s]\n",
      "Cleaning rain: 100%|██████████| 5/5 [00:00<00:00, 58743.75it/s]\n"
     ]
    },
    {
     "name": "stdout",
     "output_type": "stream",
     "text": [
      "Stationday 1128 KTBW20030124\n"
     ]
    },
    {
     "name": "stderr",
     "output_type": "stream",
     "text": [
      "Tracking: 100%|██████████| 11/11 [00:00<00:00, 3186.50it/s]\n",
      "Cleaning windfarm: 100%|██████████| 2/2 [00:00<00:00, 18682.87it/s]\n",
      "Cleaning rain: 100%|██████████| 2/2 [00:00<00:00, 26462.49it/s]\n"
     ]
    },
    {
     "name": "stdout",
     "output_type": "stream",
     "text": [
      "Stationday 1129 KTBW20030127\n"
     ]
    },
    {
     "name": "stderr",
     "output_type": "stream",
     "text": [
      "Tracking: 100%|██████████| 11/11 [00:00<00:00, 2712.05it/s]\n",
      "Cleaning windfarm: 100%|██████████| 6/6 [00:00<00:00, 40787.40it/s]\n",
      "Cleaning rain: 100%|██████████| 6/6 [00:00<00:00, 61984.79it/s]\n"
     ]
    },
    {
     "name": "stdout",
     "output_type": "stream",
     "text": [
      "Stationday 1130 KTBW20030129\n"
     ]
    },
    {
     "name": "stderr",
     "output_type": "stream",
     "text": [
      "Tracking: 100%|██████████| 11/11 [00:00<00:00, 2395.13it/s]\n",
      "Cleaning windfarm: 100%|██████████| 5/5 [00:00<00:00,  7.75it/s]\n",
      "Cleaning rain: 100%|██████████| 5/5 [00:00<00:00, 57143.11it/s]\n"
     ]
    },
    {
     "name": "stdout",
     "output_type": "stream",
     "text": [
      "Stationday 1131 KTBW20030203\n"
     ]
    },
    {
     "name": "stderr",
     "output_type": "stream",
     "text": [
      "Tracking: 100%|██████████| 20/20 [00:00<00:00, 2866.72it/s]\n",
      "Cleaning windfarm: 100%|██████████| 3/3 [00:00<00:00,  4.89it/s]\n",
      "Cleaning rain: 100%|██████████| 3/3 [00:00<00:00, 34473.73it/s]\n"
     ]
    },
    {
     "name": "stdout",
     "output_type": "stream",
     "text": [
      "Stationday 1132 KTBW20030206\n"
     ]
    },
    {
     "name": "stderr",
     "output_type": "stream",
     "text": [
      "Tracking: 100%|██████████| 20/20 [00:00<00:00, 3910.41it/s]\n",
      "Cleaning windfarm: 100%|██████████| 2/2 [00:00<00:00,  3.08it/s]\n",
      "Cleaning rain: 100%|██████████| 2/2 [00:00<00:00, 15827.56it/s]\n"
     ]
    },
    {
     "name": "stdout",
     "output_type": "stream",
     "text": [
      "Stationday 1133 KTBW20030212\n"
     ]
    },
    {
     "name": "stderr",
     "output_type": "stream",
     "text": [
      "Tracking: 100%|██████████| 20/20 [00:00<00:00, 1855.89it/s]\n",
      "Cleaning windfarm: 100%|██████████| 4/4 [00:00<00:00,  6.21it/s]\n",
      "Cleaning rain: 100%|██████████| 4/4 [00:00<00:00, 45839.39it/s]\n"
     ]
    },
    {
     "name": "stdout",
     "output_type": "stream",
     "text": [
      "Stationday 1134 KTBW20030301\n"
     ]
    },
    {
     "name": "stderr",
     "output_type": "stream",
     "text": [
      "Tracking: 100%|██████████| 19/19 [00:00<00:00, 1742.81it/s]\n",
      "Cleaning windfarm: 100%|██████████| 4/4 [00:01<00:00,  2.66it/s]\n",
      "Cleaning rain: 100%|██████████| 4/4 [00:00<00:00, 42153.81it/s]\n"
     ]
    },
    {
     "name": "stdout",
     "output_type": "stream",
     "text": [
      "Stationday 1135 KTBW20030309\n"
     ]
    },
    {
     "name": "stderr",
     "output_type": "stream",
     "text": [
      "Tracking: 100%|██████████| 20/20 [00:00<00:00, 1286.10it/s]\n",
      "Cleaning windfarm: 100%|██████████| 6/6 [00:00<00:00,  9.45it/s]\n",
      "Cleaning rain: 100%|██████████| 6/6 [00:00<00:00, 56679.78it/s]\n"
     ]
    },
    {
     "name": "stdout",
     "output_type": "stream",
     "text": [
      "Stationday 1136 KTBW20030311\n"
     ]
    },
    {
     "name": "stderr",
     "output_type": "stream",
     "text": [
      "Tracking: 100%|██████████| 20/20 [00:00<00:00, 959.50it/s]\n",
      "Cleaning windfarm: 100%|██████████| 9/9 [00:02<00:00,  3.64it/s]\n",
      "Cleaning rain: 100%|██████████| 9/9 [00:00<00:00, 58525.17it/s]\n"
     ]
    },
    {
     "name": "stdout",
     "output_type": "stream",
     "text": [
      "Stationday 1137 KTBW20030329\n"
     ]
    },
    {
     "name": "stderr",
     "output_type": "stream",
     "text": [
      "Tracking: 100%|██████████| 11/11 [00:00<00:00, 1807.11it/s]\n",
      "Cleaning windfarm: 100%|██████████| 2/2 [00:00<00:00,  3.16it/s]\n",
      "Cleaning rain: 100%|██████████| 2/2 [00:00<00:00, 26715.31it/s]\n"
     ]
    },
    {
     "name": "stdout",
     "output_type": "stream",
     "text": [
      "Stationday 1138 KTBW20030407\n"
     ]
    },
    {
     "name": "stderr",
     "output_type": "stream",
     "text": [
      "Tracking: 100%|██████████| 20/20 [00:00<00:00, 1256.16it/s]\n",
      "Cleaning windfarm: 100%|██████████| 7/7 [00:00<00:00, 11.20it/s]\n",
      "Cleaning rain: 100%|██████████| 7/7 [00:00<00:00, 69905.07it/s]\n"
     ]
    },
    {
     "name": "stdout",
     "output_type": "stream",
     "text": [
      "Stationday 1139 KTBW20030408\n"
     ]
    },
    {
     "name": "stderr",
     "output_type": "stream",
     "text": [
      "Tracking: 100%|██████████| 23/23 [00:00<00:00, 2479.67it/s]\n",
      "Cleaning windfarm: 100%|██████████| 3/3 [00:00<00:00,  4.81it/s]\n",
      "Cleaning rain: 100%|██████████| 3/3 [00:00<00:00, 37900.34it/s]\n"
     ]
    },
    {
     "name": "stdout",
     "output_type": "stream",
     "text": [
      "Stationday 1140 KTBW20030414\n"
     ]
    },
    {
     "name": "stderr",
     "output_type": "stream",
     "text": [
      "Tracking: 100%|██████████| 19/19 [00:00<00:00, 793.75it/s]\n",
      "Cleaning windfarm: 100%|██████████| 9/9 [00:01<00:00,  7.34it/s]\n",
      "Cleaning rain: 100%|██████████| 9/9 [00:00<00:00, 77353.97it/s]\n"
     ]
    },
    {
     "name": "stdout",
     "output_type": "stream",
     "text": [
      "Stationday 1141 KTBW20030417\n"
     ]
    },
    {
     "name": "stderr",
     "output_type": "stream",
     "text": [
      "Tracking: 100%|██████████| 20/20 [00:00<00:00, 1888.77it/s]\n",
      "Cleaning windfarm: 100%|██████████| 4/4 [00:00<00:00,  6.37it/s]\n",
      "Cleaning rain: 100%|██████████| 4/4 [00:00<00:00, 48210.39it/s]\n"
     ]
    },
    {
     "name": "stdout",
     "output_type": "stream",
     "text": [
      "Stationday 1142 KTBW20031025\n"
     ]
    },
    {
     "name": "stderr",
     "output_type": "stream",
     "text": [
      "Tracking: 100%|██████████| 18/18 [00:00<00:00, 2362.32it/s]\n",
      "Cleaning windfarm: 100%|██████████| 3/3 [00:00<00:00,  4.76it/s]\n",
      "Cleaning rain: 100%|██████████| 3/3 [00:00<00:00, 28024.30it/s]\n"
     ]
    },
    {
     "name": "stdout",
     "output_type": "stream",
     "text": [
      "Stationday 1143 KTBW20031029\n"
     ]
    },
    {
     "name": "stderr",
     "output_type": "stream",
     "text": [
      "Tracking: 100%|██████████| 22/22 [00:00<00:00, 2124.43it/s]\n",
      "Cleaning windfarm: 100%|██████████| 4/4 [00:01<00:00,  3.19it/s]\n",
      "Cleaning rain: 100%|██████████| 4/4 [00:00<00:00, 44384.17it/s]\n"
     ]
    },
    {
     "name": "stdout",
     "output_type": "stream",
     "text": [
      "Stationday 1144 KTBW20031107\n"
     ]
    },
    {
     "name": "stderr",
     "output_type": "stream",
     "text": [
      "Tracking: 100%|██████████| 19/19 [00:00<00:00, 1025.11it/s]\n",
      "Cleaning windfarm: 100%|██████████| 9/9 [00:01<00:00,  4.71it/s]\n",
      "Cleaning rain: 100%|██████████| 9/9 [00:00<00:00, 74308.54it/s]\n"
     ]
    },
    {
     "name": "stdout",
     "output_type": "stream",
     "text": [
      "Stationday 1145 KTBW20031109\n"
     ]
    },
    {
     "name": "stderr",
     "output_type": "stream",
     "text": [
      "Tracking: 100%|██████████| 20/20 [00:00<00:00, 2049.90it/s]\n",
      "Cleaning windfarm: 100%|██████████| 4/4 [00:01<00:00,  2.04it/s]\n",
      "Cleaning rain: 100%|██████████| 4/4 [00:00<00:00, 33893.37it/s]\n"
     ]
    },
    {
     "name": "stdout",
     "output_type": "stream",
     "text": [
      "Stationday 1146 KTBW20031112\n"
     ]
    },
    {
     "name": "stderr",
     "output_type": "stream",
     "text": [
      "Tracking: 100%|██████████| 19/19 [00:00<00:00, 1550.76it/s]\n",
      "Cleaning windfarm: 100%|██████████| 4/4 [00:00<00:00,  6.38it/s]\n",
      "Cleaning rain: 100%|██████████| 4/4 [00:00<00:00, 25771.45it/s]\n"
     ]
    },
    {
     "name": "stdout",
     "output_type": "stream",
     "text": [
      "Stationday 1147 KTBW20031207\n"
     ]
    },
    {
     "name": "stderr",
     "output_type": "stream",
     "text": [
      "Tracking: 100%|██████████| 19/19 [00:00<00:00, 2662.69it/s]\n",
      "Cleaning windfarm: 100%|██████████| 1/1 [00:00<00:00,  1.50it/s]\n",
      "Cleaning rain: 100%|██████████| 1/1 [00:00<00:00, 14413.42it/s]\n"
     ]
    },
    {
     "name": "stdout",
     "output_type": "stream",
     "text": [
      "Stationday 1148 KTBW20031208\n"
     ]
    },
    {
     "name": "stderr",
     "output_type": "stream",
     "text": [
      "Tracking: 100%|██████████| 20/20 [00:00<00:00, 1445.51it/s]\n",
      "Cleaning windfarm: 100%|██████████| 2/2 [00:01<00:00,  1.54it/s]\n",
      "Cleaning rain: 100%|██████████| 2/2 [00:00<00:00, 26462.49it/s]\n"
     ]
    },
    {
     "name": "stdout",
     "output_type": "stream",
     "text": [
      "Stationday 1149 KTBW20031209\n"
     ]
    },
    {
     "name": "stderr",
     "output_type": "stream",
     "text": [
      "Tracking: 100%|██████████| 11/11 [00:00<00:00, 1008.82it/s]\n",
      "Cleaning windfarm: 100%|██████████| 4/4 [00:01<00:00,  3.14it/s]\n",
      "Cleaning rain: 100%|██████████| 4/4 [00:00<00:00, 50686.45it/s]\n"
     ]
    },
    {
     "name": "stdout",
     "output_type": "stream",
     "text": [
      "Stationday 1150 KTBW20040105\n"
     ]
    },
    {
     "name": "stderr",
     "output_type": "stream",
     "text": [
      "Tracking: 100%|██████████| 13/13 [00:00<00:00, 1502.01it/s]\n",
      "Cleaning windfarm: 100%|██████████| 4/4 [00:01<00:00,  3.10it/s]\n",
      "Cleaning rain: 100%|██████████| 4/4 [00:00<00:00, 26546.23it/s]\n"
     ]
    },
    {
     "name": "stdout",
     "output_type": "stream",
     "text": [
      "Stationday 1151 KTBW20040108\n"
     ]
    },
    {
     "name": "stderr",
     "output_type": "stream",
     "text": [
      "Tracking: 100%|██████████| 11/11 [00:00<00:00, 1110.19it/s]\n",
      "Cleaning windfarm: 100%|██████████| 4/4 [00:01<00:00,  3.29it/s]\n",
      "Cleaning rain: 100%|██████████| 4/4 [00:00<00:00, 50686.45it/s]\n"
     ]
    },
    {
     "name": "stdout",
     "output_type": "stream",
     "text": [
      "Stationday 1152 KTBW20040111\n"
     ]
    },
    {
     "name": "stderr",
     "output_type": "stream",
     "text": [
      "Tracking: 100%|██████████| 12/12 [00:00<00:00, 2210.15it/s]\n",
      "Cleaning windfarm: 100%|██████████| 1/1 [00:00<00:00,  1.58it/s]\n",
      "Cleaning rain: 100%|██████████| 1/1 [00:00<00:00, 11848.32it/s]\n"
     ]
    },
    {
     "name": "stdout",
     "output_type": "stream",
     "text": [
      "Stationday 1153 KTBW20040130\n"
     ]
    },
    {
     "name": "stderr",
     "output_type": "stream",
     "text": [
      "Tracking: 100%|██████████| 19/19 [00:00<00:00, 839.51it/s]\n",
      "Cleaning windfarm: 100%|██████████| 15/15 [00:02<00:00,  5.81it/s]\n",
      "Cleaning rain: 100%|██████████| 15/15 [00:00<00:00, 91846.07it/s]\n"
     ]
    },
    {
     "name": "stdout",
     "output_type": "stream",
     "text": [
      "Stationday 1154 KTBW20040131\n"
     ]
    },
    {
     "name": "stderr",
     "output_type": "stream",
     "text": [
      "Tracking: 100%|██████████| 20/20 [00:00<00:00, 1733.65it/s]\n",
      "Cleaning windfarm: 100%|██████████| 7/7 [00:00<00:00, 10.89it/s]\n",
      "Cleaning rain: 100%|██████████| 7/7 [00:00<00:00, 28176.71it/s]\n"
     ]
    },
    {
     "name": "stdout",
     "output_type": "stream",
     "text": [
      "Stationday 1155 KTBW20040206\n"
     ]
    },
    {
     "name": "stderr",
     "output_type": "stream",
     "text": [
      "Tracking: 100%|██████████| 19/19 [00:00<00:00, 326.70it/s]\n",
      "Cleaning windfarm: 100%|██████████| 8/8 [00:02<00:00,  3.06it/s]\n",
      "Cleaning rain: 100%|██████████| 8/8 [00:00<00:00, 26441.63it/s]\n"
     ]
    },
    {
     "name": "stdout",
     "output_type": "stream",
     "text": [
      "Stationday 1156 KTBW20040302\n"
     ]
    },
    {
     "name": "stderr",
     "output_type": "stream",
     "text": [
      "Tracking: 100%|██████████| 11/11 [00:00<00:00, 490.53it/s]\n",
      "Cleaning windfarm: 100%|██████████| 10/10 [00:02<00:00,  4.71it/s]\n",
      "Cleaning rain: 100%|██████████| 10/10 [00:00<00:00, 90589.72it/s]\n"
     ]
    },
    {
     "name": "stdout",
     "output_type": "stream",
     "text": [
      "Stationday 1157 KTBW20040305\n"
     ]
    },
    {
     "name": "stderr",
     "output_type": "stream",
     "text": [
      "Tracking: 100%|██████████| 19/19 [00:00<00:00, 895.81it/s]\n",
      "Cleaning windfarm: 100%|██████████| 8/8 [00:01<00:00,  4.13it/s]\n",
      "Cleaning rain: 100%|██████████| 8/8 [00:00<00:00, 31805.15it/s]\n"
     ]
    },
    {
     "name": "stdout",
     "output_type": "stream",
     "text": [
      "Stationday 1158 KTBW20040308\n"
     ]
    },
    {
     "name": "stderr",
     "output_type": "stream",
     "text": [
      "Tracking: 100%|██████████| 19/19 [00:00<00:00, 2660.29it/s]\n",
      "Cleaning windfarm: 100%|██████████| 1/1 [00:00<00:00,  1.33it/s]\n",
      "Cleaning rain: 100%|██████████| 1/1 [00:00<00:00, 15592.21it/s]\n"
     ]
    },
    {
     "name": "stdout",
     "output_type": "stream",
     "text": [
      "Stationday 1159 KTBW20040312\n"
     ]
    },
    {
     "name": "stderr",
     "output_type": "stream",
     "text": [
      "Tracking: 100%|██████████| 19/19 [00:00<00:00, 965.14it/s]\n",
      "Cleaning windfarm: 100%|██████████| 5/5 [00:02<00:00,  2.00it/s]\n",
      "Cleaning rain: 100%|██████████| 5/5 [00:00<00:00, 22005.79it/s]\n"
     ]
    },
    {
     "name": "stdout",
     "output_type": "stream",
     "text": [
      "Stationday 1160 KTBW20040324\n"
     ]
    },
    {
     "name": "stderr",
     "output_type": "stream",
     "text": [
      "Tracking: 100%|██████████| 20/20 [00:00<00:00, 625.74it/s]\n",
      "Cleaning windfarm: 100%|██████████| 2/2 [00:00<00:00,  2.62it/s]\n",
      "Cleaning rain: 100%|██████████| 2/2 [00:00<00:00, 25653.24it/s]\n"
     ]
    },
    {
     "name": "stdout",
     "output_type": "stream",
     "text": [
      "Stationday 1161 KTBW20040420\n"
     ]
    },
    {
     "name": "stderr",
     "output_type": "stream",
     "text": [
      "Tracking: 100%|██████████| 19/19 [00:00<00:00, 1517.79it/s]\n",
      "Cleaning windfarm: 100%|██████████| 6/6 [00:01<00:00,  3.16it/s]\n",
      "Cleaning rain: 100%|██████████| 6/6 [00:00<00:00, 57985.77it/s]\n"
     ]
    },
    {
     "name": "stdout",
     "output_type": "stream",
     "text": [
      "Stationday 1162 KTBW20040506\n"
     ]
    },
    {
     "name": "stderr",
     "output_type": "stream",
     "text": [
      "Tracking: 100%|██████████| 11/11 [00:00<00:00, 1293.85it/s]\n",
      "Cleaning windfarm: 100%|██████████| 9/9 [00:01<00:00,  7.25it/s]\n",
      "Cleaning rain: 100%|██████████| 9/9 [00:00<00:00, 85019.68it/s]\n"
     ]
    },
    {
     "name": "stdout",
     "output_type": "stream",
     "text": [
      "Stationday 1163 KTBW20040509\n"
     ]
    },
    {
     "name": "stderr",
     "output_type": "stream",
     "text": [
      "Tracking: 100%|██████████| 11/11 [00:00<00:00, 2250.16it/s]\n",
      "Cleaning windfarm: 100%|██████████| 3/3 [00:00<00:00,  4.45it/s]\n",
      "Cleaning rain: 100%|██████████| 3/3 [00:00<00:00, 17119.61it/s]\n"
     ]
    },
    {
     "name": "stdout",
     "output_type": "stream",
     "text": [
      "Stationday 1164 KTBW20041012\n"
     ]
    },
    {
     "name": "stderr",
     "output_type": "stream",
     "text": [
      "Tracking: 100%|██████████| 23/23 [00:00<00:00, 653.94it/s]\n",
      "Cleaning windfarm: 100%|██████████| 12/12 [00:02<00:00,  4.41it/s]\n",
      "Cleaning rain: 100%|██████████| 12/12 [00:00<00:00, 77195.78it/s]\n"
     ]
    },
    {
     "name": "stdout",
     "output_type": "stream",
     "text": [
      "Stationday 1165 KTBW20041019\n"
     ]
    },
    {
     "name": "stderr",
     "output_type": "stream",
     "text": [
      "Tracking: 100%|██████████| 19/19 [00:00<00:00, 997.02it/s]\n",
      "Cleaning windfarm: 100%|██████████| 7/7 [00:00<00:00, 11.58it/s]\n",
      "Cleaning rain: 100%|██████████| 7/7 [00:00<00:00, 63965.42it/s]\n"
     ]
    },
    {
     "name": "stdout",
     "output_type": "stream",
     "text": [
      "Stationday 1166 KTBW20041113\n"
     ]
    },
    {
     "name": "stderr",
     "output_type": "stream",
     "text": [
      "Tracking: 100%|██████████| 20/20 [00:00<00:00, 427.34it/s]\n",
      "Cleaning windfarm: 100%|██████████| 10/10 [00:02<00:00,  4.03it/s]\n",
      "Cleaning rain: 100%|██████████| 10/10 [00:00<00:00, 73199.02it/s]\n"
     ]
    },
    {
     "name": "stdout",
     "output_type": "stream",
     "text": [
      "Stationday 1167 KTBW20041115\n"
     ]
    },
    {
     "name": "stderr",
     "output_type": "stream",
     "text": [
      "Tracking: 100%|██████████| 11/11 [00:00<00:00, 885.09it/s]\n",
      "Cleaning windfarm: 100%|██████████| 10/10 [00:01<00:00,  5.30it/s]\n",
      "Cleaning rain: 100%|██████████| 10/10 [00:00<00:00, 89430.79it/s]\n"
     ]
    },
    {
     "name": "stdout",
     "output_type": "stream",
     "text": [
      "Stationday 1168 KTBW20041118\n"
     ]
    },
    {
     "name": "stderr",
     "output_type": "stream",
     "text": [
      "Tracking: 100%|██████████| 7/7 [00:00<00:00, 961.62it/s]\n",
      "Cleaning windfarm: 100%|██████████| 6/6 [00:01<00:00,  4.61it/s]\n",
      "Cleaning rain: 100%|██████████| 6/6 [00:00<00:00, 67832.41it/s]\n"
     ]
    },
    {
     "name": "stdout",
     "output_type": "stream",
     "text": [
      "Stationday 1169 KTBW20041122\n"
     ]
    },
    {
     "name": "stderr",
     "output_type": "stream",
     "text": [
      "Tracking: 100%|██████████| 19/19 [00:00<00:00, 536.97it/s]\n",
      "Cleaning windfarm: 100%|██████████| 11/11 [00:02<00:00,  4.32it/s]\n",
      "Cleaning rain: 100%|██████████| 11/11 [00:00<00:00, 78464.87it/s]\n"
     ]
    },
    {
     "name": "stdout",
     "output_type": "stream",
     "text": [
      "Stationday 1170 KTBW20041123\n"
     ]
    },
    {
     "name": "stderr",
     "output_type": "stream",
     "text": [
      "Tracking: 100%|██████████| 11/11 [00:00<00:00, 566.39it/s]\n",
      "Cleaning windfarm: 100%|██████████| 11/11 [00:02<00:00,  5.49it/s]\n",
      "Cleaning rain: 100%|██████████| 11/11 [00:00<00:00, 97956.14it/s]\n"
     ]
    },
    {
     "name": "stdout",
     "output_type": "stream",
     "text": [
      "Stationday 1171 KTBW20041127\n"
     ]
    },
    {
     "name": "stderr",
     "output_type": "stream",
     "text": [
      "Tracking: 100%|██████████| 11/11 [00:00<00:00, 1551.83it/s]\n",
      "Cleaning windfarm: 100%|██████████| 5/5 [00:00<00:00,  7.82it/s]\n",
      "Cleaning rain: 100%|██████████| 5/5 [00:00<00:00, 60611.33it/s]\n"
     ]
    },
    {
     "name": "stdout",
     "output_type": "stream",
     "text": [
      "Stationday 1172 KTBW20041128\n"
     ]
    },
    {
     "name": "stderr",
     "output_type": "stream",
     "text": [
      "Tracking: 100%|██████████| 25/25 [00:00<00:00, 464.56it/s]\n",
      "Cleaning windfarm: 100%|██████████| 17/17 [00:03<00:00,  5.39it/s]\n",
      "Cleaning rain: 100%|██████████| 17/17 [00:00<00:00, 88906.69it/s]\n"
     ]
    },
    {
     "name": "stdout",
     "output_type": "stream",
     "text": [
      "Stationday 1173 KTBW20041204\n"
     ]
    },
    {
     "name": "stderr",
     "output_type": "stream",
     "text": [
      "Tracking: 100%|██████████| 19/19 [00:00<00:00, 811.82it/s]\n",
      "Cleaning windfarm: 100%|██████████| 12/12 [00:03<00:00,  3.67it/s]\n",
      "Cleaning rain: 100%|██████████| 12/12 [00:00<00:00, 72108.38it/s]\n"
     ]
    },
    {
     "name": "stdout",
     "output_type": "stream",
     "text": [
      "Stationday 1174 KTBW20041209\n"
     ]
    },
    {
     "name": "stderr",
     "output_type": "stream",
     "text": [
      "Tracking: 100%|██████████| 19/19 [00:00<00:00, 569.65it/s]\n",
      "Cleaning windfarm: 100%|██████████| 8/8 [00:04<00:00,  1.93it/s]\n",
      "Cleaning rain: 100%|██████████| 8/8 [00:00<00:00, 65408.25it/s]\n"
     ]
    },
    {
     "name": "stdout",
     "output_type": "stream",
     "text": [
      "Stationday 1175 KTBW20041213\n"
     ]
    },
    {
     "name": "stderr",
     "output_type": "stream",
     "text": [
      "Tracking: 100%|██████████| 11/11 [00:00<00:00, 1395.10it/s]\n",
      "Cleaning windfarm: 100%|██████████| 7/7 [00:00<00:00, 11.32it/s]\n",
      "Cleaning rain: 100%|██████████| 7/7 [00:00<00:00, 77878.32it/s]\n"
     ]
    },
    {
     "name": "stdout",
     "output_type": "stream",
     "text": [
      "Stationday 1176 KTBW20041215\n"
     ]
    },
    {
     "name": "stderr",
     "output_type": "stream",
     "text": [
      "Tracking: 100%|██████████| 19/19 [00:00<00:00, 1083.68it/s]\n",
      "Cleaning windfarm: 100%|██████████| 6/6 [00:00<00:00, 10.46it/s]\n",
      "Cleaning rain: 100%|██████████| 6/6 [00:00<00:00, 61082.10it/s]\n"
     ]
    },
    {
     "name": "stdout",
     "output_type": "stream",
     "text": [
      "Stationday 1177 KTBW20041217\n"
     ]
    },
    {
     "name": "stderr",
     "output_type": "stream",
     "text": [
      "Tracking: 100%|██████████| 11/11 [00:00<00:00, 1082.93it/s]\n",
      "Cleaning windfarm: 100%|██████████| 7/7 [00:02<00:00,  3.46it/s]\n",
      "Cleaning rain: 100%|██████████| 7/7 [00:00<00:00, 69409.29it/s]\n"
     ]
    },
    {
     "name": "stdout",
     "output_type": "stream",
     "text": [
      "Stationday 1178 KTBW20041220\n"
     ]
    },
    {
     "name": "stderr",
     "output_type": "stream",
     "text": [
      "Tracking: 100%|██████████| 11/11 [00:00<00:00, 1575.03it/s]\n",
      "Cleaning windfarm: 100%|██████████| 5/5 [00:00<00:00,  7.73it/s]\n",
      "Cleaning rain: 100%|██████████| 5/5 [00:00<00:00, 34379.54it/s]\n"
     ]
    },
    {
     "name": "stdout",
     "output_type": "stream",
     "text": [
      "Stationday 1179 KTBW20041228\n"
     ]
    },
    {
     "name": "stderr",
     "output_type": "stream",
     "text": [
      "Tracking: 100%|██████████| 17/17 [00:00<00:00, 1244.97it/s]\n",
      "Cleaning windfarm: 100%|██████████| 8/8 [00:01<00:00,  4.27it/s]\n",
      "Cleaning rain: 100%|██████████| 8/8 [00:00<00:00, 79324.90it/s]\n"
     ]
    },
    {
     "name": "stdout",
     "output_type": "stream",
     "text": [
      "Stationday 1180 KTBW20041230\n"
     ]
    },
    {
     "name": "stderr",
     "output_type": "stream",
     "text": [
      "Tracking: 100%|██████████| 17/17 [00:00<00:00, 570.19it/s]\n",
      "Cleaning windfarm: 100%|██████████| 14/14 [00:02<00:00,  5.32it/s]\n",
      "Cleaning rain: 100%|██████████| 14/14 [00:00<00:00, 84733.41it/s]\n"
     ]
    },
    {
     "name": "stdout",
     "output_type": "stream",
     "text": [
      "Stationday 1181 KTBW20050102\n"
     ]
    },
    {
     "name": "stderr",
     "output_type": "stream",
     "text": [
      "Tracking: 100%|██████████| 18/18 [00:00<00:00, 595.25it/s]\n",
      "Cleaning windfarm: 100%|██████████| 11/11 [00:02<00:00,  4.26it/s]\n",
      "Cleaning rain: 100%|██████████| 11/11 [00:00<00:00, 86077.13it/s]\n"
     ]
    },
    {
     "name": "stdout",
     "output_type": "stream",
     "text": [
      "Stationday 1182 KTBW20050120\n"
     ]
    },
    {
     "name": "stderr",
     "output_type": "stream",
     "text": [
      "Tracking: 100%|██████████| 11/11 [00:00<00:00, 858.94it/s]\n",
      "Cleaning windfarm: 100%|██████████| 13/13 [00:00<00:00, 21.33it/s]\n",
      "Cleaning rain: 100%|██████████| 13/13 [00:00<00:00, 111277.45it/s]\n"
     ]
    },
    {
     "name": "stdout",
     "output_type": "stream",
     "text": [
      "Stationday 1183 KTBW20050123\n"
     ]
    },
    {
     "name": "stderr",
     "output_type": "stream",
     "text": [
      "Tracking: 100%|██████████| 19/19 [00:00<00:00, 1673.21it/s]\n",
      "Cleaning windfarm: 100%|██████████| 10/10 [00:01<00:00,  7.43it/s]\n",
      "Cleaning rain: 100%|██████████| 10/10 [00:00<00:00, 80043.97it/s]\n"
     ]
    },
    {
     "name": "stdout",
     "output_type": "stream",
     "text": [
      "Stationday 1184 KTBW20050130\n"
     ]
    },
    {
     "name": "stderr",
     "output_type": "stream",
     "text": [
      "Tracking: 100%|██████████| 19/19 [00:00<00:00, 342.89it/s]\n",
      "Cleaning windfarm: 100%|██████████| 16/16 [00:02<00:00,  6.42it/s]\n",
      "Cleaning rain: 100%|██████████| 16/16 [00:00<00:00, 95325.09it/s]\n"
     ]
    },
    {
     "name": "stdout",
     "output_type": "stream",
     "text": [
      "Stationday 1185 KTBW20050131\n"
     ]
    },
    {
     "name": "stderr",
     "output_type": "stream",
     "text": [
      "Tracking: 100%|██████████| 12/12 [00:00<00:00, 1277.55it/s]\n",
      "Cleaning windfarm: 100%|██████████| 6/6 [00:00<00:00,  8.87it/s]\n",
      "Cleaning rain: 100%|██████████| 6/6 [00:00<00:00, 25317.73it/s]\n"
     ]
    },
    {
     "name": "stdout",
     "output_type": "stream",
     "text": [
      "Stationday 1186 KTBW20050209\n"
     ]
    },
    {
     "name": "stderr",
     "output_type": "stream",
     "text": [
      "Tracking: 100%|██████████| 15/15 [00:00<00:00, 325.22it/s]\n",
      "Cleaning windfarm: 100%|██████████| 16/16 [00:01<00:00, 11.53it/s]\n",
      "Cleaning rain: 100%|██████████| 16/16 [00:00<00:00, 96144.50it/s]\n"
     ]
    },
    {
     "name": "stdout",
     "output_type": "stream",
     "text": [
      "Stationday 1187 KTBW20050221\n"
     ]
    },
    {
     "name": "stderr",
     "output_type": "stream",
     "text": [
      "Tracking: 100%|██████████| 11/11 [00:00<00:00, 1857.46it/s]\n",
      "Cleaning windfarm: 100%|██████████| 3/3 [00:00<00:00,  4.41it/s]\n",
      "Cleaning rain: 100%|██████████| 3/3 [00:00<00:00, 40721.40it/s]\n"
     ]
    },
    {
     "name": "stdout",
     "output_type": "stream",
     "text": [
      "Stationday 1188 KTBW20050228\n"
     ]
    },
    {
     "name": "stderr",
     "output_type": "stream",
     "text": [
      "Tracking: 100%|██████████| 19/19 [00:00<00:00, 1469.79it/s]\n",
      "Cleaning windfarm: 100%|██████████| 9/9 [00:00<00:00, 23967.45it/s]\n",
      "Cleaning rain: 100%|██████████| 9/9 [00:00<00:00, 56173.71it/s]\n"
     ]
    },
    {
     "name": "stdout",
     "output_type": "stream",
     "text": [
      "Stationday 1189 KTBW20050304\n"
     ]
    },
    {
     "name": "stderr",
     "output_type": "stream",
     "text": [
      "Tracking: 100%|██████████| 20/20 [00:00<00:00, 880.57it/s]\n",
      "Cleaning windfarm: 100%|██████████| 5/5 [00:01<00:00,  3.85it/s]\n",
      "Cleaning rain: 100%|██████████| 5/5 [00:00<00:00, 19710.08it/s]\n"
     ]
    },
    {
     "name": "stdout",
     "output_type": "stream",
     "text": [
      "Stationday 1190 KTBW20050309\n"
     ]
    },
    {
     "name": "stderr",
     "output_type": "stream",
     "text": [
      "Tracking: 100%|██████████| 20/20 [00:00<00:00, 947.52it/s]\n",
      "Cleaning windfarm: 100%|██████████| 7/7 [00:00<00:00,  9.42it/s]\n",
      "Cleaning rain: 100%|██████████| 7/7 [00:00<00:00, 61039.77it/s]\n"
     ]
    },
    {
     "name": "stdout",
     "output_type": "stream",
     "text": [
      "Stationday 1191 KTBW20050313\n"
     ]
    },
    {
     "name": "stderr",
     "output_type": "stream",
     "text": [
      "Tracking: 100%|██████████| 12/12 [00:00<00:00, 4173.09it/s]\n",
      "Cleaning windfarm: 100%|██████████| 4/4 [00:00<00:00, 28581.29it/s]\n",
      "Cleaning rain: 100%|██████████| 4/4 [00:00<00:00, 35172.36it/s]\n"
     ]
    },
    {
     "name": "stdout",
     "output_type": "stream",
     "text": [
      "Stationday 1192 KTBW20050314\n"
     ]
    },
    {
     "name": "stderr",
     "output_type": "stream",
     "text": [
      "Tracking: 100%|██████████| 20/20 [00:00<00:00, 2025.70it/s]\n",
      "Cleaning windfarm: 100%|██████████| 9/9 [00:00<00:00, 36054.19it/s]\n",
      "Cleaning rain: 100%|██████████| 9/9 [00:00<00:00, 82964.25it/s]\n"
     ]
    },
    {
     "name": "stdout",
     "output_type": "stream",
     "text": [
      "Stationday 1193 KTBW20050316\n"
     ]
    },
    {
     "name": "stderr",
     "output_type": "stream",
     "text": [
      "Tracking: 100%|██████████| 19/19 [00:00<00:00, 501.52it/s]\n",
      "Cleaning windfarm: 100%|██████████| 16/16 [00:02<00:00,  6.67it/s]\n",
      "Cleaning rain: 100%|██████████| 16/16 [00:00<00:00, 88069.38it/s]\n"
     ]
    },
    {
     "name": "stdout",
     "output_type": "stream",
     "text": [
      "Stationday 1194 KTBW20050320\n"
     ]
    },
    {
     "name": "stderr",
     "output_type": "stream",
     "text": [
      "Tracking: 100%|██████████| 11/11 [00:00<00:00, 487.68it/s]\n",
      "Cleaning windfarm: 100%|██████████| 19/19 [00:02<00:00,  7.34it/s]\n",
      "Cleaning rain: 100%|██████████| 19/19 [00:00<00:00, 118061.89it/s]\n"
     ]
    },
    {
     "name": "stdout",
     "output_type": "stream",
     "text": [
      "Stationday 1195 KTBW20050405\n"
     ]
    },
    {
     "name": "stderr",
     "output_type": "stream",
     "text": [
      "Tracking: 100%|██████████| 12/12 [00:00<00:00, 493.97it/s]\n",
      "Cleaning windfarm: 100%|██████████| 13/13 [00:03<00:00,  3.91it/s]\n",
      "Cleaning rain: 100%|██████████| 13/13 [00:00<00:00, 103268.85it/s]\n"
     ]
    },
    {
     "name": "stdout",
     "output_type": "stream",
     "text": [
      "Stationday 1196 KTBW20050413\n"
     ]
    },
    {
     "name": "stderr",
     "output_type": "stream",
     "text": [
      "Tracking: 100%|██████████| 19/19 [00:00<00:00, 1935.72it/s]\n",
      "Cleaning windfarm: 100%|██████████| 8/8 [00:00<00:00, 14.21it/s]\n",
      "Cleaning rain: 100%|██████████| 8/8 [00:00<00:00, 70492.50it/s]\n"
     ]
    },
    {
     "name": "stdout",
     "output_type": "stream",
     "text": [
      "Stationday 1197 KTBW20050414\n"
     ]
    },
    {
     "name": "stderr",
     "output_type": "stream",
     "text": [
      "Tracking: 100%|██████████| 19/19 [00:00<00:00, 668.70it/s]\n",
      "Cleaning windfarm: 100%|██████████| 10/10 [00:01<00:00,  7.59it/s]\n",
      "Cleaning rain: 100%|██████████| 10/10 [00:00<00:00, 80197.02it/s]\n"
     ]
    },
    {
     "name": "stdout",
     "output_type": "stream",
     "text": [
      "Stationday 1198 KTBW20050416\n"
     ]
    },
    {
     "name": "stderr",
     "output_type": "stream",
     "text": [
      "Tracking: 100%|██████████| 11/11 [00:00<00:00, 3589.62it/s]\n",
      "Cleaning windfarm: 100%|██████████| 1/1 [00:00<00:00,  1.49it/s]\n",
      "Cleaning rain: 100%|██████████| 1/1 [00:00<00:00, 12710.01it/s]\n"
     ]
    },
    {
     "name": "stdout",
     "output_type": "stream",
     "text": [
      "Stationday 1199 KTBW20050420\n"
     ]
    },
    {
     "name": "stderr",
     "output_type": "stream",
     "text": [
      "Tracking: 100%|██████████| 20/20 [00:00<00:00, 1285.73it/s]\n",
      "Cleaning windfarm: 100%|██████████| 5/5 [00:01<00:00,  3.78it/s]\n",
      "Cleaning rain: 100%|██████████| 5/5 [00:00<00:00, 36220.24it/s]\n"
     ]
    },
    {
     "name": "stdout",
     "output_type": "stream",
     "text": [
      "Stationday 1200 KTBW20050422\n"
     ]
    },
    {
     "name": "stderr",
     "output_type": "stream",
     "text": [
      "Tracking: 100%|██████████| 11/11 [00:00<00:00, 649.79it/s]\n",
      "Cleaning windfarm: 100%|██████████| 9/9 [00:00<00:00, 12.29it/s]\n",
      "Cleaning rain: 100%|██████████| 9/9 [00:00<00:00, 39362.60it/s]\n"
     ]
    },
    {
     "name": "stdout",
     "output_type": "stream",
     "text": [
      "Stationday 1201 KTBW20050423\n"
     ]
    },
    {
     "name": "stderr",
     "output_type": "stream",
     "text": [
      "Tracking: 100%|██████████| 22/22 [00:00<00:00, 807.61it/s]\n",
      "Cleaning windfarm: 100%|██████████| 8/8 [00:00<00:00, 11.41it/s]\n",
      "Cleaning rain: 100%|██████████| 8/8 [00:00<00:00, 73746.00it/s]\n"
     ]
    },
    {
     "name": "stdout",
     "output_type": "stream",
     "text": [
      "Stationday 1202 KTBW20051018\n"
     ]
    },
    {
     "name": "stderr",
     "output_type": "stream",
     "text": [
      "Tracking: 100%|██████████| 8/8 [00:00<00:00, 966.07it/s]\n",
      "Cleaning windfarm: 100%|██████████| 7/7 [00:00<00:00, 10.64it/s]\n",
      "Cleaning rain: 100%|██████████| 7/7 [00:00<00:00, 83173.17it/s]\n"
     ]
    },
    {
     "name": "stdout",
     "output_type": "stream",
     "text": [
      "Stationday 1203 KTBW20051023\n"
     ]
    },
    {
     "name": "stderr",
     "output_type": "stream",
     "text": [
      "Tracking: 100%|██████████| 19/19 [00:00<00:00, 1412.30it/s]\n",
      "Cleaning windfarm: 100%|██████████| 7/7 [00:00<00:00, 11.44it/s]\n",
      "Cleaning rain: 100%|██████████| 7/7 [00:00<00:00, 42063.22it/s]\n"
     ]
    },
    {
     "name": "stdout",
     "output_type": "stream",
     "text": [
      "Stationday 1204 KTBW20051118\n"
     ]
    },
    {
     "name": "stderr",
     "output_type": "stream",
     "text": [
      "Tracking: 100%|██████████| 11/11 [00:00<00:00, 1836.09it/s]\n",
      "Cleaning windfarm: 100%|██████████| 3/3 [00:01<00:00,  2.24it/s]\n",
      "Cleaning rain: 100%|██████████| 3/3 [00:00<00:00, 19181.27it/s]\n"
     ]
    },
    {
     "name": "stdout",
     "output_type": "stream",
     "text": [
      "Stationday 1205 KTBW20051119\n"
     ]
    },
    {
     "name": "stderr",
     "output_type": "stream",
     "text": [
      "Tracking: 100%|██████████| 11/11 [00:00<00:00, 1586.18it/s]\n",
      "Cleaning windfarm: 100%|██████████| 2/2 [00:00<00:00,  3.09it/s]\n",
      "Cleaning rain: 100%|██████████| 2/2 [00:00<00:00, 27776.85it/s]\n"
     ]
    },
    {
     "name": "stdout",
     "output_type": "stream",
     "text": [
      "Stationday 1206 KTBW20051121\n"
     ]
    },
    {
     "name": "stderr",
     "output_type": "stream",
     "text": [
      "Tracking: 100%|██████████| 21/21 [00:00<00:00, 1418.71it/s]\n",
      "Cleaning windfarm: 100%|██████████| 13/13 [00:00<00:00, 16.12it/s]\n",
      "Cleaning rain: 100%|██████████| 13/13 [00:00<00:00, 40270.27it/s]\n"
     ]
    },
    {
     "name": "stdout",
     "output_type": "stream",
     "text": [
      "Stationday 1207 KTBW20051125\n"
     ]
    },
    {
     "name": "stderr",
     "output_type": "stream",
     "text": [
      "Tracking: 100%|██████████| 14/14 [00:00<00:00, 1145.02it/s]\n",
      "Cleaning windfarm: 100%|██████████| 4/4 [00:00<00:00,  6.11it/s]\n",
      "Cleaning rain: 100%|██████████| 4/4 [00:00<00:00, 13400.33it/s]\n"
     ]
    },
    {
     "name": "stdout",
     "output_type": "stream",
     "text": [
      "Stationday 1208 KTBW20051130\n"
     ]
    },
    {
     "name": "stderr",
     "output_type": "stream",
     "text": [
      "Tracking: 100%|██████████| 19/19 [00:00<00:00, 297.24it/s]\n",
      "Cleaning windfarm: 100%|██████████| 10/10 [00:02<00:00,  3.82it/s]\n",
      "Cleaning rain: 100%|██████████| 10/10 [00:00<00:00, 71089.90it/s]\n"
     ]
    },
    {
     "name": "stdout",
     "output_type": "stream",
     "text": [
      "Stationday 1209 KTBW20051201\n"
     ]
    },
    {
     "name": "stderr",
     "output_type": "stream",
     "text": [
      "Tracking: 100%|██████████| 19/19 [00:00<00:00, 282.27it/s]\n",
      "Cleaning windfarm: 100%|██████████| 20/20 [00:01<00:00, 10.97it/s]\n",
      "Cleaning rain: 100%|██████████| 20/20 [00:00<00:00, 111107.39it/s]\n"
     ]
    },
    {
     "name": "stdout",
     "output_type": "stream",
     "text": [
      "Stationday 1210 KTBW20051202\n"
     ]
    },
    {
     "name": "stderr",
     "output_type": "stream",
     "text": [
      "Tracking: 100%|██████████| 12/12 [00:00<00:00, 848.51it/s]\n",
      "Cleaning windfarm: 100%|██████████| 12/12 [00:01<00:00,  8.96it/s]\n",
      "Cleaning rain: 100%|██████████| 12/12 [00:00<00:00, 90687.65it/s]\n"
     ]
    },
    {
     "name": "stdout",
     "output_type": "stream",
     "text": [
      "Stationday 1211 KTBW20051207\n"
     ]
    },
    {
     "name": "stderr",
     "output_type": "stream",
     "text": [
      "Tracking: 100%|██████████| 13/13 [00:00<00:00, 566.95it/s]\n",
      "Cleaning windfarm: 100%|██████████| 7/7 [00:00<00:00,  9.75it/s]\n",
      "Cleaning rain: 100%|██████████| 7/7 [00:00<00:00, 41883.21it/s]\n"
     ]
    },
    {
     "name": "stdout",
     "output_type": "stream",
     "text": [
      "Stationday 1212 KTBW20051214\n"
     ]
    },
    {
     "name": "stderr",
     "output_type": "stream",
     "text": [
      "Tracking: 100%|██████████| 12/12 [00:00<00:00, 1309.66it/s]\n",
      "Cleaning windfarm: 100%|██████████| 6/6 [00:01<00:00,  5.04it/s]\n",
      "Cleaning rain: 100%|██████████| 6/6 [00:00<00:00, 39631.22it/s]\n"
     ]
    },
    {
     "name": "stdout",
     "output_type": "stream",
     "text": [
      "Stationday 1213 KTBW20051216\n"
     ]
    },
    {
     "name": "stderr",
     "output_type": "stream",
     "text": [
      "Tracking: 100%|██████████| 11/11 [00:00<00:00, 496.55it/s]\n",
      "Cleaning windfarm: 100%|██████████| 5/5 [00:01<00:00,  3.72it/s]\n",
      "Cleaning rain: 100%|██████████| 5/5 [00:00<00:00, 25358.55it/s]\n"
     ]
    },
    {
     "name": "stdout",
     "output_type": "stream",
     "text": [
      "Stationday 1214 KTBW20051218\n"
     ]
    },
    {
     "name": "stderr",
     "output_type": "stream",
     "text": [
      "Tracking: 100%|██████████| 19/19 [00:00<00:00, 476.20it/s]\n",
      "Cleaning windfarm: 100%|██████████| 12/12 [00:03<00:00,  3.34it/s]\n",
      "Cleaning rain: 100%|██████████| 12/12 [00:00<00:00, 90038.73it/s]\n"
     ]
    },
    {
     "name": "stdout",
     "output_type": "stream",
     "text": [
      "Stationday 1215 KTBW20051224\n"
     ]
    },
    {
     "name": "stderr",
     "output_type": "stream",
     "text": [
      "Tracking: 100%|██████████| 17/17 [00:00<00:00, 853.29it/s]\n",
      "Cleaning windfarm: 100%|██████████| 11/11 [00:01<00:00,  6.40it/s]\n",
      "Cleaning rain: 100%|██████████| 11/11 [00:00<00:00, 89240.51it/s]\n"
     ]
    },
    {
     "name": "stdout",
     "output_type": "stream",
     "text": [
      "Stationday 1216 KTBW20051226\n"
     ]
    },
    {
     "name": "stderr",
     "output_type": "stream",
     "text": [
      "Tracking: 100%|██████████| 11/11 [00:00<00:00, 1728.77it/s]\n",
      "Cleaning windfarm: 100%|██████████| 5/5 [00:00<00:00,  8.59it/s]\n",
      "Cleaning rain: 100%|██████████| 5/5 [00:00<00:00, 57456.22it/s]\n"
     ]
    },
    {
     "name": "stdout",
     "output_type": "stream",
     "text": [
      "Stationday 1217 KTBW20051229\n"
     ]
    },
    {
     "name": "stderr",
     "output_type": "stream",
     "text": [
      "Tracking: 100%|██████████| 20/20 [00:00<00:00, 1603.73it/s]\n",
      "Cleaning windfarm: 100%|██████████| 10/10 [00:01<00:00,  8.21it/s]\n",
      "Cleaning rain: 100%|██████████| 10/10 [00:00<00:00, 87199.67it/s]\n"
     ]
    },
    {
     "name": "stdout",
     "output_type": "stream",
     "text": [
      "Stationday 1218 KTBW20051231\n"
     ]
    },
    {
     "name": "stderr",
     "output_type": "stream",
     "text": [
      "Tracking: 100%|██████████| 20/20 [00:00<00:00, 1286.68it/s]\n",
      "Cleaning windfarm: 100%|██████████| 5/5 [00:00<00:00,  7.83it/s]\n",
      "Cleaning rain: 100%|██████████| 5/5 [00:00<00:00, 50412.31it/s]\n"
     ]
    },
    {
     "name": "stdout",
     "output_type": "stream",
     "text": [
      "Stationday 1219 KTBW20060104\n"
     ]
    },
    {
     "name": "stderr",
     "output_type": "stream",
     "text": [
      "Tracking: 100%|██████████| 10/10 [00:00<00:00, 633.94it/s]\n",
      "Cleaning windfarm: 100%|██████████| 15/15 [00:03<00:00,  4.60it/s]\n",
      "Cleaning rain: 100%|██████████| 15/15 [00:00<00:00, 127875.12it/s]\n"
     ]
    },
    {
     "name": "stdout",
     "output_type": "stream",
     "text": [
      "Stationday 1220 KTBW20060112\n"
     ]
    },
    {
     "name": "stderr",
     "output_type": "stream",
     "text": [
      "Tracking: 100%|██████████| 12/12 [00:00<00:00, 1053.85it/s]\n",
      "Cleaning windfarm: 100%|██████████| 4/4 [00:00<00:00,  6.23it/s]\n",
      "Cleaning rain: 100%|██████████| 4/4 [00:00<00:00, 53773.13it/s]\n"
     ]
    },
    {
     "name": "stdout",
     "output_type": "stream",
     "text": [
      "Stationday 1221 KTBW20060123\n"
     ]
    },
    {
     "name": "stderr",
     "output_type": "stream",
     "text": [
      "Tracking: 100%|██████████| 11/11 [00:00<00:00, 1005.00it/s]\n",
      "Cleaning windfarm: 100%|██████████| 11/11 [00:01<00:00,  8.65it/s]\n",
      "Cleaning rain: 100%|██████████| 11/11 [00:00<00:00, 90288.34it/s]\n"
     ]
    },
    {
     "name": "stdout",
     "output_type": "stream",
     "text": [
      "Stationday 1222 KTBW20060128\n"
     ]
    },
    {
     "name": "stderr",
     "output_type": "stream",
     "text": [
      "Tracking: 100%|██████████| 12/12 [00:00<00:00, 641.11it/s]\n",
      "Cleaning windfarm: 100%|██████████| 7/7 [00:02<00:00,  2.76it/s]\n",
      "Cleaning rain: 100%|██████████| 7/7 [00:00<00:00, 71961.10it/s]\n"
     ]
    },
    {
     "name": "stdout",
     "output_type": "stream",
     "text": [
      "Stationday 1223 KTBW20060129\n"
     ]
    },
    {
     "name": "stderr",
     "output_type": "stream",
     "text": [
      "Tracking: 100%|██████████| 12/12 [00:00<00:00, 712.35it/s]\n",
      "Cleaning windfarm: 100%|██████████| 7/7 [00:01<00:00,  5.36it/s]\n",
      "Cleaning rain: 100%|██████████| 7/7 [00:00<00:00, 44485.04it/s]\n"
     ]
    },
    {
     "name": "stdout",
     "output_type": "stream",
     "text": [
      "Stationday 1224 KTBW20060131\n"
     ]
    },
    {
     "name": "stderr",
     "output_type": "stream",
     "text": [
      "Tracking: 100%|██████████| 11/11 [00:00<00:00, 1164.35it/s]\n",
      "Cleaning windfarm: 100%|██████████| 5/5 [00:01<00:00,  3.77it/s]\n",
      "Cleaning rain: 100%|██████████| 5/5 [00:00<00:00, 56223.91it/s]\n"
     ]
    },
    {
     "name": "stdout",
     "output_type": "stream",
     "text": [
      "Stationday 1225 KTBW20060201\n"
     ]
    },
    {
     "name": "stderr",
     "output_type": "stream",
     "text": [
      "Tracking: 100%|██████████| 14/14 [00:00<00:00, 377.60it/s]\n",
      "Cleaning windfarm: 100%|██████████| 27/27 [00:05<00:00,  5.19it/s]\n",
      "Cleaning rain: 100%|██████████| 27/27 [00:00<00:00, 135624.20it/s]\n"
     ]
    },
    {
     "name": "stdout",
     "output_type": "stream",
     "text": [
      "Stationday 1226 KTBW20060220\n"
     ]
    },
    {
     "name": "stderr",
     "output_type": "stream",
     "text": [
      "Tracking: 100%|██████████| 11/11 [00:00<00:00, 1467.38it/s]\n",
      "Cleaning windfarm: 100%|██████████| 5/5 [00:00<00:00,  7.29it/s]\n",
      "Cleaning rain: 100%|██████████| 5/5 [00:00<00:00, 35848.75it/s]\n"
     ]
    },
    {
     "name": "stdout",
     "output_type": "stream",
     "text": [
      "Stationday 1227 KTBW20060221\n"
     ]
    },
    {
     "name": "stderr",
     "output_type": "stream",
     "text": [
      "Tracking: 100%|██████████| 11/11 [00:00<00:00, 2253.13it/s]\n",
      "Cleaning windfarm: 100%|██████████| 5/5 [00:00<00:00,  7.67it/s]\n",
      "Cleaning rain: 100%|██████████| 5/5 [00:00<00:00, 61141.46it/s]\n"
     ]
    },
    {
     "name": "stdout",
     "output_type": "stream",
     "text": [
      "Stationday 1228 KTBW20060225\n"
     ]
    },
    {
     "name": "stderr",
     "output_type": "stream",
     "text": [
      "Tracking: 100%|██████████| 12/12 [00:00<00:00, 1415.72it/s]\n",
      "Cleaning windfarm: 100%|██████████| 4/4 [00:00<00:00,  6.30it/s]\n",
      "Cleaning rain: 100%|██████████| 4/4 [00:00<00:00, 47934.90it/s]\n"
     ]
    },
    {
     "name": "stdout",
     "output_type": "stream",
     "text": [
      "Stationday 1229 KTBW20060313\n"
     ]
    },
    {
     "name": "stderr",
     "output_type": "stream",
     "text": [
      "Tracking: 100%|██████████| 12/12 [00:00<00:00, 820.20it/s]\n",
      "Cleaning windfarm: 100%|██████████| 9/9 [00:02<00:00,  4.44it/s]\n",
      "Cleaning rain: 100%|██████████| 9/9 [00:00<00:00, 79137.81it/s]\n"
     ]
    },
    {
     "name": "stdout",
     "output_type": "stream",
     "text": [
      "Stationday 1230 KTBW20060316\n"
     ]
    },
    {
     "name": "stderr",
     "output_type": "stream",
     "text": [
      "Tracking: 100%|██████████| 11/11 [00:00<00:00, 1074.36it/s]\n",
      "Cleaning windfarm: 100%|██████████| 9/9 [00:01<00:00,  4.72it/s]\n",
      "Cleaning rain: 100%|██████████| 9/9 [00:00<00:00, 91180.52it/s]\n"
     ]
    },
    {
     "name": "stdout",
     "output_type": "stream",
     "text": [
      "Stationday 1231 KTBW20060323\n"
     ]
    },
    {
     "name": "stderr",
     "output_type": "stream",
     "text": [
      "Tracking: 100%|██████████| 20/20 [00:00<00:00, 583.25it/s]\n",
      "Cleaning windfarm: 100%|██████████| 18/18 [00:03<00:00,  4.62it/s]\n",
      "Cleaning rain: 100%|██████████| 18/18 [00:00<00:00, 90633.22it/s]\n"
     ]
    },
    {
     "name": "stdout",
     "output_type": "stream",
     "text": [
      "Stationday 1232 KTBW20060406\n"
     ]
    },
    {
     "name": "stderr",
     "output_type": "stream",
     "text": [
      "Tracking: 100%|██████████| 11/11 [00:00<00:00, 890.80it/s]\n",
      "Cleaning windfarm: 100%|██████████| 9/9 [00:01<00:00,  4.51it/s]\n",
      "Cleaning rain: 100%|██████████| 9/9 [00:00<00:00, 93902.33it/s]\n"
     ]
    },
    {
     "name": "stdout",
     "output_type": "stream",
     "text": [
      "Stationday 1233 KTBW20060411\n"
     ]
    },
    {
     "name": "stderr",
     "output_type": "stream",
     "text": [
      "Tracking: 100%|██████████| 11/11 [00:00<00:00, 784.25it/s]\n",
      "Cleaning windfarm: 100%|██████████| 7/7 [00:01<00:00,  3.62it/s]\n",
      "Cleaning rain: 100%|██████████| 7/7 [00:00<00:00, 74898.29it/s]\n"
     ]
    },
    {
     "name": "stdout",
     "output_type": "stream",
     "text": [
      "Stationday 1234 KTBW20060420\n"
     ]
    },
    {
     "name": "stderr",
     "output_type": "stream",
     "text": [
      "Tracking: 100%|██████████| 20/20 [00:00<00:00, 1089.74it/s]\n",
      "Cleaning windfarm: 100%|██████████| 8/8 [00:00<00:00, 13.22it/s]\n",
      "Cleaning rain: 100%|██████████| 8/8 [00:00<00:00, 74400.07it/s]\n"
     ]
    },
    {
     "name": "stdout",
     "output_type": "stream",
     "text": [
      "Stationday 1235 KTBW20060421\n"
     ]
    },
    {
     "name": "stderr",
     "output_type": "stream",
     "text": [
      "Tracking: 100%|██████████| 20/20 [00:00<00:00, 1058.54it/s]\n",
      "Cleaning windfarm: 100%|██████████| 10/10 [00:00<00:00, 16.55it/s]\n",
      "Cleaning rain: 100%|██████████| 10/10 [00:00<00:00, 75166.74it/s]\n"
     ]
    },
    {
     "name": "stdout",
     "output_type": "stream",
     "text": [
      "Stationday 1236 KTBW20060429\n"
     ]
    },
    {
     "name": "stderr",
     "output_type": "stream",
     "text": [
      "Tracking: 100%|██████████| 20/20 [00:00<00:00, 935.33it/s]\n",
      "Cleaning windfarm: 100%|██████████| 7/7 [00:01<00:00,  3.66it/s]\n",
      "Cleaning rain: 100%|██████████| 7/7 [00:00<00:00, 70918.18it/s]\n"
     ]
    },
    {
     "name": "stdout",
     "output_type": "stream",
     "text": [
      "Stationday 1237 KTBW20060502\n"
     ]
    },
    {
     "name": "stderr",
     "output_type": "stream",
     "text": [
      "Tracking: 100%|██████████| 12/12 [00:00<00:00, 1688.87it/s]\n",
      "Cleaning windfarm: 100%|██████████| 5/5 [00:00<00:00, 20681.97it/s]\n",
      "Cleaning rain: 100%|██████████| 5/5 [00:00<00:00, 59747.92it/s]\n"
     ]
    },
    {
     "name": "stdout",
     "output_type": "stream",
     "text": [
      "Stationday 1238 KTBW20061012\n"
     ]
    },
    {
     "name": "stderr",
     "output_type": "stream",
     "text": [
      "Tracking: 100%|██████████| 27/27 [00:00<00:00, 885.88it/s]\n",
      "Cleaning windfarm: 100%|██████████| 7/7 [00:00<00:00, 11.23it/s]\n",
      "Cleaning rain: 100%|██████████| 7/7 [00:00<00:00, 60913.13it/s]\n"
     ]
    },
    {
     "name": "stdout",
     "output_type": "stream",
     "text": [
      "Stationday 1239 KTBW20061101\n"
     ]
    },
    {
     "name": "stderr",
     "output_type": "stream",
     "text": [
      "Tracking: 100%|██████████| 20/20 [00:00<00:00, 599.06it/s]\n",
      "Cleaning windfarm: 100%|██████████| 11/11 [00:02<00:00,  4.29it/s]\n",
      "Cleaning rain: 100%|██████████| 11/11 [00:00<00:00, 73701.83it/s]\n"
     ]
    },
    {
     "name": "stdout",
     "output_type": "stream",
     "text": [
      "Stationday 1240 KTBW20061104\n"
     ]
    },
    {
     "name": "stderr",
     "output_type": "stream",
     "text": [
      "Tracking: 100%|██████████| 12/12 [00:00<00:00, 1836.72it/s]\n",
      "Cleaning windfarm: 100%|██████████| 1/1 [00:00<00:00, 9467.95it/s]\n",
      "Cleaning rain: 100%|██████████| 1/1 [00:00<00:00, 15087.42it/s]\n"
     ]
    },
    {
     "name": "stdout",
     "output_type": "stream",
     "text": [
      "Stationday 1241 KTBW20061106\n"
     ]
    },
    {
     "name": "stderr",
     "output_type": "stream",
     "text": [
      "Tracking: 100%|██████████| 11/11 [00:00<00:00, 1184.68it/s]\n",
      "Cleaning windfarm: 100%|██████████| 4/4 [00:00<00:00,  6.48it/s]\n",
      "Cleaning rain: 100%|██████████| 4/4 [00:00<00:00, 45964.98it/s]\n"
     ]
    },
    {
     "name": "stdout",
     "output_type": "stream",
     "text": [
      "Stationday 1242 KTBW20061109\n"
     ]
    },
    {
     "name": "stderr",
     "output_type": "stream",
     "text": [
      "Tracking: 100%|██████████| 18/18 [00:00<00:00, 893.82it/s]\n",
      "Cleaning windfarm: 100%|██████████| 8/8 [00:01<00:00,  6.31it/s]\n",
      "Cleaning rain: 100%|██████████| 8/8 [00:00<00:00, 69905.07it/s]\n"
     ]
    },
    {
     "name": "stdout",
     "output_type": "stream",
     "text": [
      "Stationday 1243 KTBW20061113\n"
     ]
    },
    {
     "name": "stderr",
     "output_type": "stream",
     "text": [
      "Tracking: 100%|██████████| 17/17 [00:00<00:00, 461.71it/s]\n",
      "Cleaning windfarm: 100%|██████████| 14/14 [00:02<00:00,  5.76it/s]\n",
      "Cleaning rain: 100%|██████████| 14/14 [00:00<00:00, 81555.91it/s]\n"
     ]
    },
    {
     "name": "stdout",
     "output_type": "stream",
     "text": [
      "Stationday 1244 KTBW20061118\n"
     ]
    },
    {
     "name": "stderr",
     "output_type": "stream",
     "text": [
      "Tracking: 100%|██████████| 14/14 [00:00<00:00, 648.38it/s]\n",
      "Cleaning windfarm: 100%|██████████| 9/9 [00:02<00:00,  3.60it/s]\n",
      "Cleaning rain: 100%|██████████| 9/9 [00:00<00:00, 85988.01it/s]\n"
     ]
    },
    {
     "name": "stdout",
     "output_type": "stream",
     "text": [
      "Stationday 1245 KTBW20061121\n"
     ]
    },
    {
     "name": "stderr",
     "output_type": "stream",
     "text": [
      "Tracking: 100%|██████████| 20/20 [00:00<00:00, 1268.87it/s]\n",
      "Cleaning windfarm: 100%|██████████| 13/13 [00:01<00:00,  7.12it/s]\n",
      "Cleaning rain: 100%|██████████| 13/13 [00:00<00:00, 85196.80it/s]\n"
     ]
    },
    {
     "name": "stdout",
     "output_type": "stream",
     "text": [
      "Stationday 1246 KTBW20061127\n"
     ]
    },
    {
     "name": "stderr",
     "output_type": "stream",
     "text": [
      "Tracking: 100%|██████████| 14/14 [00:00<00:00, 543.62it/s]\n",
      "Cleaning windfarm: 100%|██████████| 13/13 [00:03<00:00,  4.11it/s]\n",
      "Cleaning rain: 100%|██████████| 13/13 [00:00<00:00, 99681.81it/s]\n"
     ]
    },
    {
     "name": "stdout",
     "output_type": "stream",
     "text": [
      "Stationday 1247 KTBW20061204\n"
     ]
    },
    {
     "name": "stderr",
     "output_type": "stream",
     "text": [
      "Tracking: 100%|██████████| 14/14 [00:00<00:00, 1052.05it/s]\n",
      "Cleaning windfarm: 100%|██████████| 8/8 [00:01<00:00,  4.27it/s]\n",
      "Cleaning rain: 100%|██████████| 8/8 [00:00<00:00, 78398.21it/s]\n"
     ]
    },
    {
     "name": "stdout",
     "output_type": "stream",
     "text": [
      "Stationday 1248 KTBW20061214\n"
     ]
    },
    {
     "name": "stderr",
     "output_type": "stream",
     "text": [
      "Tracking: 100%|██████████| 20/20 [00:00<00:00, 689.30it/s]\n",
      "Cleaning windfarm: 100%|██████████| 10/10 [00:02<00:00,  4.04it/s]\n",
      "Cleaning rain: 100%|██████████| 10/10 [00:00<00:00, 38095.40it/s]\n"
     ]
    },
    {
     "name": "stdout",
     "output_type": "stream",
     "text": [
      "Stationday 1249 KTBW20061222\n"
     ]
    },
    {
     "name": "stderr",
     "output_type": "stream",
     "text": [
      "Tracking: 100%|██████████| 14/14 [00:00<00:00, 496.45it/s]\n",
      "Cleaning windfarm: 100%|██████████| 8/8 [00:02<00:00,  3.28it/s]\n",
      "Cleaning rain: 100%|██████████| 8/8 [00:00<00:00, 76959.71it/s]\n"
     ]
    },
    {
     "name": "stdout",
     "output_type": "stream",
     "text": [
      "Stationday 1250 KTBW20061226\n"
     ]
    },
    {
     "name": "stderr",
     "output_type": "stream",
     "text": [
      "Tracking: 100%|██████████| 20/20 [00:00<00:00, 625.67it/s]\n",
      "Cleaning windfarm: 100%|██████████| 16/16 [00:01<00:00,  8.28it/s]\n",
      "Cleaning rain: 100%|██████████| 16/16 [00:00<00:00, 92182.51it/s]\n"
     ]
    },
    {
     "name": "stdout",
     "output_type": "stream",
     "text": [
      "Stationday 1251 KTBW20061231\n"
     ]
    },
    {
     "name": "stderr",
     "output_type": "stream",
     "text": [
      "Tracking: 100%|██████████| 14/14 [00:00<00:00, 682.02it/s]\n",
      "Cleaning windfarm: 100%|██████████| 4/4 [00:02<00:00,  1.52it/s]\n",
      "Cleaning rain: 100%|██████████| 4/4 [00:00<00:00, 49200.05it/s]\n"
     ]
    },
    {
     "name": "stdout",
     "output_type": "stream",
     "text": [
      "Stationday 1252 KTBW20070104\n"
     ]
    },
    {
     "name": "stderr",
     "output_type": "stream",
     "text": [
      "Tracking: 100%|██████████| 15/15 [00:00<00:00, 350.08it/s]\n",
      "Cleaning windfarm: 100%|██████████| 11/11 [00:04<00:00,  2.49it/s]\n",
      "Cleaning rain: 100%|██████████| 11/11 [00:00<00:00, 79410.23it/s]\n"
     ]
    },
    {
     "name": "stdout",
     "output_type": "stream",
     "text": [
      "Stationday 1253 KTBW20070106\n"
     ]
    },
    {
     "name": "stderr",
     "output_type": "stream",
     "text": [
      "Tracking: 100%|██████████| 15/15 [00:00<00:00, 445.45it/s]\n",
      "Cleaning windfarm: 100%|██████████| 15/15 [00:03<00:00,  4.78it/s]\n",
      "Cleaning rain: 100%|██████████| 15/15 [00:00<00:00, 88988.06it/s]\n"
     ]
    },
    {
     "name": "stdout",
     "output_type": "stream",
     "text": [
      "Stationday 1254 KTBW20070114\n"
     ]
    },
    {
     "name": "stderr",
     "output_type": "stream",
     "text": [
      "Tracking: 100%|██████████| 16/16 [00:00<00:00, 517.08it/s]\n",
      "Cleaning windfarm: 100%|██████████| 12/12 [00:03<00:00,  3.19it/s]\n",
      "Cleaning rain: 100%|██████████| 12/12 [00:00<00:00, 64944.06it/s]\n"
     ]
    },
    {
     "name": "stdout",
     "output_type": "stream",
     "text": [
      "Stationday 1255 KTBW20070116\n"
     ]
    },
    {
     "name": "stderr",
     "output_type": "stream",
     "text": [
      "Tracking: 100%|██████████| 16/16 [00:00<00:00, 1483.40it/s]\n",
      "Cleaning windfarm: 100%|██████████| 2/2 [00:01<00:00,  1.54it/s]\n",
      "Cleaning rain: 100%|██████████| 2/2 [00:00<00:00, 28435.96it/s]\n"
     ]
    },
    {
     "name": "stdout",
     "output_type": "stream",
     "text": [
      "Stationday 1256 KTBW20070128\n"
     ]
    },
    {
     "name": "stderr",
     "output_type": "stream",
     "text": [
      "Tracking: 100%|██████████| 22/22 [00:00<00:00, 890.00it/s]\n",
      "Cleaning windfarm: 100%|██████████| 13/13 [00:00<00:00, 21.87it/s]\n",
      "Cleaning rain: 100%|██████████| 13/13 [00:00<00:00, 94663.11it/s]\n"
     ]
    },
    {
     "name": "stdout",
     "output_type": "stream",
     "text": [
      "Stationday 1257 KTBW20070129\n"
     ]
    },
    {
     "name": "stderr",
     "output_type": "stream",
     "text": [
      "Tracking: 100%|██████████| 13/13 [00:00<00:00, 1340.76it/s]\n",
      "Cleaning windfarm: 100%|██████████| 6/6 [00:00<00:00,  9.26it/s]\n",
      "Cleaning rain: 100%|██████████| 6/6 [00:00<00:00, 67468.70it/s]\n"
     ]
    },
    {
     "name": "stdout",
     "output_type": "stream",
     "text": [
      "Stationday 1258 KTBW20070204\n"
     ]
    },
    {
     "name": "stderr",
     "output_type": "stream",
     "text": [
      "Tracking: 100%|██████████| 18/18 [00:00<00:00, 1867.92it/s]\n",
      "Cleaning windfarm: 100%|██████████| 11/11 [00:00<00:00, 18.13it/s]\n",
      "Cleaning rain: 100%|██████████| 11/11 [00:00<00:00, 87216.15it/s]\n"
     ]
    },
    {
     "name": "stdout",
     "output_type": "stream",
     "text": [
      "Stationday 1259 KTBW20070205\n"
     ]
    },
    {
     "name": "stderr",
     "output_type": "stream",
     "text": [
      "Tracking: 100%|██████████| 19/19 [00:00<00:00, 1265.63it/s]\n",
      "Cleaning windfarm: 100%|██████████| 14/14 [00:02<00:00,  5.48it/s]\n",
      "Cleaning rain: 100%|██████████| 14/14 [00:00<00:00, 96738.48it/s]\n"
     ]
    },
    {
     "name": "stdout",
     "output_type": "stream",
     "text": [
      "Stationday 1260 KTBW20070224\n"
     ]
    },
    {
     "name": "stderr",
     "output_type": "stream",
     "text": [
      "Tracking: 100%|██████████| 11/11 [00:00<00:00, 548.52it/s]\n",
      "Cleaning windfarm: 100%|██████████| 14/14 [00:03<00:00,  4.46it/s]\n",
      "Cleaning rain: 100%|██████████| 14/14 [00:00<00:00, 106184.91it/s]\n"
     ]
    },
    {
     "name": "stdout",
     "output_type": "stream",
     "text": [
      "Stationday 1261 KTBW20070314\n"
     ]
    },
    {
     "name": "stderr",
     "output_type": "stream",
     "text": [
      "Tracking: 100%|██████████| 12/12 [00:00<00:00, 625.01it/s]\n",
      "Cleaning windfarm: 100%|██████████| 8/8 [00:02<00:00,  3.11it/s]\n",
      "Cleaning rain: 100%|██████████| 8/8 [00:00<00:00, 75743.64it/s]\n"
     ]
    },
    {
     "name": "stdout",
     "output_type": "stream",
     "text": [
      "Stationday 1262 KTBW20070315\n"
     ]
    },
    {
     "name": "stderr",
     "output_type": "stream",
     "text": [
      "Tracking: 100%|██████████| 14/14 [00:00<00:00, 1000.11it/s]\n",
      "Cleaning windfarm: 100%|██████████| 5/5 [00:02<00:00,  2.01it/s]\n",
      "Cleaning rain: 100%|██████████| 5/5 [00:00<00:00, 27377.96it/s]\n"
     ]
    },
    {
     "name": "stdout",
     "output_type": "stream",
     "text": [
      "Stationday 1263 KTBW20070318\n"
     ]
    },
    {
     "name": "stderr",
     "output_type": "stream",
     "text": [
      "Tracking: 100%|██████████| 12/12 [00:00<00:00, 970.21it/s]\n",
      "Cleaning windfarm: 100%|██████████| 6/6 [00:01<00:00,  3.24it/s]\n",
      "Cleaning rain: 100%|██████████| 6/6 [00:00<00:00, 61680.94it/s]\n"
     ]
    },
    {
     "name": "stdout",
     "output_type": "stream",
     "text": [
      "Stationday 1264 KTBW20070320\n"
     ]
    },
    {
     "name": "stderr",
     "output_type": "stream",
     "text": [
      "Tracking: 100%|██████████| 20/20 [00:00<00:00, 659.92it/s]\n",
      "Cleaning windfarm: 100%|██████████| 11/11 [00:02<00:00,  4.34it/s]\n",
      "Cleaning rain: 100%|██████████| 11/11 [00:00<00:00, 70546.40it/s]\n"
     ]
    },
    {
     "name": "stdout",
     "output_type": "stream",
     "text": [
      "Stationday 1265 KTBW20070321\n"
     ]
    },
    {
     "name": "stderr",
     "output_type": "stream",
     "text": [
      "Tracking: 100%|██████████| 12/12 [00:00<00:00, 1372.67it/s]\n",
      "Cleaning windfarm: 100%|██████████| 5/5 [00:00<00:00,  8.02it/s]\n",
      "Cleaning rain: 100%|██████████| 5/5 [00:00<00:00, 28767.52it/s]\n"
     ]
    },
    {
     "name": "stdout",
     "output_type": "stream",
     "text": [
      "Stationday 1266 KTBW20070322\n"
     ]
    },
    {
     "name": "stderr",
     "output_type": "stream",
     "text": [
      "Tracking: 100%|██████████| 12/12 [00:00<00:00, 1823.54it/s]\n",
      "Cleaning windfarm: 100%|██████████| 9/9 [00:00<00:00, 48272.04it/s]\n",
      "Cleaning rain: 100%|██████████| 9/9 [00:00<00:00, 80832.41it/s]\n"
     ]
    },
    {
     "name": "stdout",
     "output_type": "stream",
     "text": [
      "Stationday 1267 KTBW20070412\n"
     ]
    },
    {
     "name": "stderr",
     "output_type": "stream",
     "text": [
      "Tracking: 100%|██████████| 24/24 [00:00<00:00, 864.65it/s]\n",
      "Cleaning windfarm: 100%|██████████| 10/10 [00:00<00:00, 17.77it/s]\n",
      "Cleaning rain: 100%|██████████| 10/10 [00:00<00:00, 74367.09it/s]\n"
     ]
    },
    {
     "name": "stdout",
     "output_type": "stream",
     "text": [
      "Stationday 1268 KTBW20070414\n"
     ]
    },
    {
     "name": "stderr",
     "output_type": "stream",
     "text": [
      "Tracking: 100%|██████████| 12/12 [00:00<00:00, 863.90it/s]\n",
      "Cleaning windfarm: 100%|██████████| 6/6 [00:01<00:00,  3.04it/s]\n",
      "Cleaning rain: 100%|██████████| 6/6 [00:00<00:00, 37729.87it/s]\n"
     ]
    },
    {
     "name": "stdout",
     "output_type": "stream",
     "text": [
      "Stationday 1269 KTBW20070415\n"
     ]
    },
    {
     "name": "stderr",
     "output_type": "stream",
     "text": [
      "Tracking: 100%|██████████| 22/22 [00:00<00:00, 1244.79it/s]\n",
      "Cleaning windfarm: 100%|██████████| 13/13 [00:00<00:00, 20.61it/s]\n",
      "Cleaning rain: 100%|██████████| 13/13 [00:00<00:00, 93687.20it/s]\n"
     ]
    },
    {
     "name": "stdout",
     "output_type": "stream",
     "text": [
      "Stationday 1270 KTBW20070422\n"
     ]
    },
    {
     "name": "stderr",
     "output_type": "stream",
     "text": [
      "Tracking: 100%|██████████| 17/17 [00:00<00:00, 2238.79it/s]\n",
      "Cleaning windfarm: 100%|██████████| 3/3 [00:00<00:00,  4.77it/s]\n",
      "Cleaning rain: 100%|██████████| 3/3 [00:00<00:00, 36157.79it/s]\n"
     ]
    },
    {
     "name": "stdout",
     "output_type": "stream",
     "text": [
      "Stationday 1271 KTBW20070501\n"
     ]
    },
    {
     "name": "stderr",
     "output_type": "stream",
     "text": [
      "Tracking: 100%|██████████| 17/17 [00:00<00:00, 1928.89it/s]\n",
      "Cleaning windfarm: 100%|██████████| 5/5 [00:01<00:00,  4.01it/s]\n",
      "Cleaning rain: 100%|██████████| 5/5 [00:00<00:00, 52692.26it/s]\n"
     ]
    },
    {
     "name": "stdout",
     "output_type": "stream",
     "text": [
      "Stationday 1272 KTBW20070502\n"
     ]
    },
    {
     "name": "stderr",
     "output_type": "stream",
     "text": [
      "Tracking: 100%|██████████| 14/14 [00:00<00:00, 1738.73it/s]\n",
      "Cleaning windfarm: 100%|██████████| 4/4 [00:01<00:00,  3.35it/s]\n",
      "Cleaning rain: 100%|██████████| 4/4 [00:00<00:00, 49490.31it/s]\n"
     ]
    },
    {
     "name": "stdout",
     "output_type": "stream",
     "text": [
      "Stationday 1273 KTBW20071010\n"
     ]
    },
    {
     "name": "stderr",
     "output_type": "stream",
     "text": [
      "Tracking: 100%|██████████| 2/2 [00:00<00:00, 1111.96it/s]\n",
      "Cleaning windfarm: 100%|██████████| 1/1 [00:00<00:00, 11781.75it/s]\n",
      "Cleaning rain: 100%|██████████| 1/1 [00:00<00:00, 18315.74it/s]\n"
     ]
    },
    {
     "name": "stdout",
     "output_type": "stream",
     "text": [
      "Stationday 1274 KTBW20071017\n"
     ]
    },
    {
     "name": "stderr",
     "output_type": "stream",
     "text": [
      "Tracking: 100%|██████████| 19/19 [00:00<00:00, 2853.78it/s]\n",
      "Cleaning windfarm: 100%|██████████| 4/4 [00:00<00:00, 30954.27it/s]\n",
      "Cleaning rain: 100%|██████████| 4/4 [00:00<00:00, 36873.00it/s]\n"
     ]
    },
    {
     "name": "stdout",
     "output_type": "stream",
     "text": [
      "Stationday 1275 KTBW20071019\n"
     ]
    },
    {
     "name": "stderr",
     "output_type": "stream",
     "text": [
      "Tracking: 100%|██████████| 19/19 [00:00<00:00, 2114.12it/s]\n",
      "Cleaning windfarm: 100%|██████████| 2/2 [00:00<00:00,  3.25it/s]\n",
      "Cleaning rain: 100%|██████████| 2/2 [00:00<00:00, 24528.09it/s]\n"
     ]
    },
    {
     "name": "stdout",
     "output_type": "stream",
     "text": [
      "Stationday 1276 KTBW20071031\n"
     ]
    },
    {
     "name": "stderr",
     "output_type": "stream",
     "text": [
      "Tracking: 100%|██████████| 19/19 [00:00<00:00, 399.19it/s]\n",
      "Cleaning windfarm: 100%|██████████| 29/29 [00:07<00:00,  4.09it/s]\n",
      "Cleaning rain: 100%|██████████| 29/29 [00:00<00:00, 114318.44it/s]\n"
     ]
    },
    {
     "name": "stdout",
     "output_type": "stream",
     "text": [
      "Stationday 1277 KTBW20071216\n"
     ]
    },
    {
     "name": "stderr",
     "output_type": "stream",
     "text": [
      "Tracking: 100%|██████████| 25/25 [00:00<00:00, 1050.54it/s]\n",
      "Cleaning windfarm: 100%|██████████| 17/17 [00:01<00:00,  8.94it/s]\n",
      "Cleaning rain: 100%|██████████| 17/17 [00:00<00:00, 69293.65it/s]\n"
     ]
    },
    {
     "name": "stdout",
     "output_type": "stream",
     "text": [
      "Stationday 1278 KTBW20071218\n"
     ]
    },
    {
     "name": "stderr",
     "output_type": "stream",
     "text": [
      "Tracking: 100%|██████████| 11/11 [00:00<00:00, 1736.12it/s]\n",
      "Cleaning windfarm: 100%|██████████| 3/3 [00:00<00:00,  4.77it/s]\n",
      "Cleaning rain: 100%|██████████| 3/3 [00:00<00:00, 42799.02it/s]\n"
     ]
    },
    {
     "name": "stdout",
     "output_type": "stream",
     "text": [
      "Stationday 1279 KTBW20071219\n"
     ]
    },
    {
     "name": "stderr",
     "output_type": "stream",
     "text": [
      "Tracking: 100%|██████████| 18/18 [00:00<00:00, 861.96it/s]\n",
      "Cleaning windfarm: 100%|██████████| 17/17 [00:02<00:00,  6.82it/s]\n",
      "Cleaning rain: 100%|██████████| 17/17 [00:00<00:00, 94692.12it/s]\n"
     ]
    },
    {
     "name": "stdout",
     "output_type": "stream",
     "text": [
      "Stationday 1280 KTBW20071220\n"
     ]
    },
    {
     "name": "stderr",
     "output_type": "stream",
     "text": [
      "Tracking: 100%|██████████| 10/10 [00:00<00:00, 1096.03it/s]\n",
      "Cleaning windfarm: 100%|██████████| 4/4 [00:01<00:00,  2.19it/s]\n",
      "Cleaning rain: 100%|██████████| 4/4 [00:00<00:00, 45343.83it/s]\n"
     ]
    },
    {
     "name": "stdout",
     "output_type": "stream",
     "text": [
      "Stationday 1281 KTBW20071221\n"
     ]
    },
    {
     "name": "stderr",
     "output_type": "stream",
     "text": [
      "Tracking: 100%|██████████| 23/23 [00:00<00:00, 1292.01it/s]\n",
      "Cleaning windfarm: 100%|██████████| 12/12 [00:00<00:00, 19.54it/s]\n",
      "Cleaning rain: 100%|██████████| 12/12 [00:00<00:00, 93206.76it/s]\n"
     ]
    },
    {
     "name": "stdout",
     "output_type": "stream",
     "text": [
      "Stationday 1282 KTBW20080106\n"
     ]
    },
    {
     "name": "stderr",
     "output_type": "stream",
     "text": [
      "Tracking: 100%|██████████| 11/11 [00:00<00:00, 1095.33it/s]\n",
      "Cleaning windfarm: 100%|██████████| 4/4 [00:01<00:00,  2.28it/s]\n",
      "Cleaning rain: 100%|██████████| 4/4 [00:00<00:00, 50231.19it/s]\n"
     ]
    },
    {
     "name": "stdout",
     "output_type": "stream",
     "text": [
      "Stationday 1283 KTBW20080107\n"
     ]
    },
    {
     "name": "stderr",
     "output_type": "stream",
     "text": [
      "Tracking: 100%|██████████| 10/10 [00:00<00:00, 970.05it/s]\n",
      "Cleaning windfarm: 100%|██████████| 6/6 [00:00<00:00, 10.23it/s]\n",
      "Cleaning rain: 100%|██████████| 6/6 [00:00<00:00, 70889.65it/s]\n"
     ]
    },
    {
     "name": "stdout",
     "output_type": "stream",
     "text": [
      "Stationday 1284 KTBW20080110\n"
     ]
    },
    {
     "name": "stderr",
     "output_type": "stream",
     "text": [
      "Tracking: 100%|██████████| 14/14 [00:00<00:00, 1093.10it/s]\n",
      "Cleaning windfarm: 100%|██████████| 4/4 [00:01<00:00,  2.01it/s]\n",
      "Cleaning rain: 100%|██████████| 4/4 [00:00<00:00, 27191.60it/s]\n"
     ]
    },
    {
     "name": "stdout",
     "output_type": "stream",
     "text": [
      "Stationday 1285 KTBW20080114\n"
     ]
    },
    {
     "name": "stderr",
     "output_type": "stream",
     "text": [
      "Tracking: 100%|██████████| 11/11 [00:00<00:00, 2659.06it/s]\n",
      "Cleaning windfarm: 100%|██████████| 4/4 [00:00<00:00, 29228.60it/s]\n",
      "Cleaning rain: 100%|██████████| 4/4 [00:00<00:00, 28581.29it/s]\n"
     ]
    },
    {
     "name": "stdout",
     "output_type": "stream",
     "text": [
      "Stationday 1286 KTBW20080116\n"
     ]
    },
    {
     "name": "stderr",
     "output_type": "stream",
     "text": [
      "Tracking: 100%|██████████| 19/19 [00:00<00:00, 1154.13it/s]\n",
      "Cleaning windfarm: 100%|██████████| 9/9 [00:01<00:00,  7.43it/s]\n",
      "Cleaning rain: 100%|██████████| 9/9 [00:00<00:00, 76260.07it/s]\n"
     ]
    },
    {
     "name": "stdout",
     "output_type": "stream",
     "text": [
      "Stationday 1287 KTBW20080122\n"
     ]
    },
    {
     "name": "stderr",
     "output_type": "stream",
     "text": [
      "Tracking: 100%|██████████| 11/11 [00:00<00:00, 1270.20it/s]\n",
      "Cleaning windfarm: 100%|██████████| 6/6 [00:00<00:00, 10.61it/s]\n",
      "Cleaning rain: 100%|██████████| 6/6 [00:00<00:00, 65879.12it/s]\n"
     ]
    },
    {
     "name": "stdout",
     "output_type": "stream",
     "text": [
      "Stationday 1288 KTBW20080301\n"
     ]
    },
    {
     "name": "stderr",
     "output_type": "stream",
     "text": [
      "Tracking: 100%|██████████| 12/12 [00:00<00:00, 993.95it/s]\n",
      "Cleaning windfarm: 100%|██████████| 8/8 [00:01<00:00,  6.18it/s]\n",
      "Cleaning rain: 100%|██████████| 8/8 [00:00<00:00, 77492.91it/s]\n"
     ]
    },
    {
     "name": "stdout",
     "output_type": "stream",
     "text": [
      "Stationday 1289 KTBW20080409\n"
     ]
    },
    {
     "name": "stderr",
     "output_type": "stream",
     "text": [
      "Tracking: 100%|██████████| 11/11 [00:00<00:00, 2654.01it/s]\n",
      "Cleaning windfarm: 100%|██████████| 6/6 [00:00<00:00, 38776.31it/s]\n",
      "Cleaning rain: 100%|██████████| 6/6 [00:00<00:00, 35049.89it/s]\n"
     ]
    },
    {
     "name": "stdout",
     "output_type": "stream",
     "text": [
      "Stationday 1290 KTBW20080411\n"
     ]
    },
    {
     "name": "stderr",
     "output_type": "stream",
     "text": [
      "Tracking: 100%|██████████| 11/11 [00:00<00:00, 2191.38it/s]\n",
      "Cleaning windfarm: 100%|██████████| 3/3 [00:00<00:00,  4.73it/s]\n",
      "Cleaning rain: 100%|██████████| 3/3 [00:00<00:00, 43842.90it/s]\n"
     ]
    },
    {
     "name": "stdout",
     "output_type": "stream",
     "text": [
      "Stationday 1291 KTBW20080413\n"
     ]
    },
    {
     "name": "stderr",
     "output_type": "stream",
     "text": [
      "Tracking: 100%|██████████| 19/19 [00:00<00:00, 895.40it/s]\n",
      "Cleaning windfarm: 100%|██████████| 17/17 [00:00<00:00, 28.76it/s]\n",
      "Cleaning rain: 100%|██████████| 17/17 [00:00<00:00, 113000.27it/s]\n"
     ]
    },
    {
     "name": "stdout",
     "output_type": "stream",
     "text": [
      "Stationday 1292 KTBW20080419\n"
     ]
    },
    {
     "name": "stderr",
     "output_type": "stream",
     "text": [
      "Tracking: 100%|██████████| 11/11 [00:00<00:00, 1316.78it/s]\n",
      "Cleaning windfarm: 100%|██████████| 4/4 [00:01<00:00,  2.73it/s]\n",
      "Cleaning rain: 100%|██████████| 4/4 [00:00<00:00, 47527.52it/s]\n"
     ]
    },
    {
     "name": "stdout",
     "output_type": "stream",
     "text": [
      "Stationday 1293 KTBW20080421\n"
     ]
    },
    {
     "name": "stderr",
     "output_type": "stream",
     "text": [
      "Tracking: 100%|██████████| 12/12 [00:00<00:00, 1382.05it/s]\n",
      "Cleaning windfarm: 100%|██████████| 6/6 [00:01<00:00,  4.69it/s]\n",
      "Cleaning rain: 100%|██████████| 6/6 [00:00<00:00, 45100.04it/s]\n"
     ]
    },
    {
     "name": "stdout",
     "output_type": "stream",
     "text": [
      "Stationday 1294 KTBW20080425\n"
     ]
    },
    {
     "name": "stderr",
     "output_type": "stream",
     "text": [
      "Tracking: 100%|██████████| 11/11 [00:00<00:00, 2014.38it/s]\n",
      "Cleaning windfarm: 100%|██████████| 5/5 [00:00<00:00,  8.02it/s]\n",
      "Cleaning rain: 100%|██████████| 5/5 [00:00<00:00, 23831.27it/s]\n"
     ]
    },
    {
     "name": "stdout",
     "output_type": "stream",
     "text": [
      "Stationday 1295 KTBW20081107\n"
     ]
    },
    {
     "name": "stderr",
     "output_type": "stream",
     "text": [
      "Tracking: 100%|██████████| 11/11 [00:00<00:00, 829.50it/s]\n",
      "Cleaning windfarm: 100%|██████████| 6/6 [00:00<00:00,  8.35it/s]\n",
      "Cleaning rain: 100%|██████████| 6/6 [00:00<00:00, 68571.73it/s]\n"
     ]
    },
    {
     "name": "stdout",
     "output_type": "stream",
     "text": [
      "Stationday 1296 KTBW20081116\n"
     ]
    },
    {
     "name": "stderr",
     "output_type": "stream",
     "text": [
      "Tracking: 100%|██████████| 11/11 [00:00<00:00, 2087.28it/s]\n",
      "Cleaning windfarm: 100%|██████████| 4/4 [00:00<00:00,  5.84it/s]\n",
      "Cleaning rain: 100%|██████████| 4/4 [00:00<00:00, 47127.01it/s]\n"
     ]
    },
    {
     "name": "stdout",
     "output_type": "stream",
     "text": [
      "Stationday 1297 KTBW20081120\n"
     ]
    },
    {
     "name": "stderr",
     "output_type": "stream",
     "text": [
      "Tracking: 100%|██████████| 7/7 [00:00<00:00, 3204.55it/s]\n",
      "Cleaning windfarm: 100%|██████████| 4/4 [00:00<00:00, 29799.67it/s]\n",
      "Cleaning rain: 100%|██████████| 4/4 [00:00<00:00, 52103.16it/s]\n"
     ]
    },
    {
     "name": "stdout",
     "output_type": "stream",
     "text": [
      "Stationday 1298 KTBW20081121\n"
     ]
    },
    {
     "name": "stderr",
     "output_type": "stream",
     "text": [
      "Tracking: 100%|██████████| 5/5 [00:00<00:00, 3815.08it/s]\n",
      "Cleaning windfarm: 100%|██████████| 1/1 [00:00<00:00, 11397.57it/s]\n",
      "Cleaning rain: 100%|██████████| 1/1 [00:00<00:00, 14873.42it/s]\n"
     ]
    },
    {
     "name": "stdout",
     "output_type": "stream",
     "text": [
      "Stationday 1299 KTBW20081123\n"
     ]
    },
    {
     "name": "stderr",
     "output_type": "stream",
     "text": [
      "Tracking: 100%|██████████| 5/5 [00:00<00:00, 1102.02it/s]\n",
      "Cleaning windfarm: 100%|██████████| 5/5 [00:01<00:00,  3.91it/s]\n",
      "Cleaning rain: 100%|██████████| 5/5 [00:00<00:00, 60436.66it/s]\n"
     ]
    },
    {
     "name": "stdout",
     "output_type": "stream",
     "text": [
      "Stationday 1300 KTBW20081213\n"
     ]
    },
    {
     "name": "stderr",
     "output_type": "stream",
     "text": [
      "Tracking: 100%|██████████| 11/11 [00:00<00:00, 1181.49it/s]\n",
      "Cleaning windfarm: 100%|██████████| 6/6 [00:01<00:00,  4.67it/s]\n",
      "Cleaning rain: 100%|██████████| 6/6 [00:00<00:00, 68571.73it/s]\n"
     ]
    },
    {
     "name": "stdout",
     "output_type": "stream",
     "text": [
      "Stationday 1301 KTBW20081215\n"
     ]
    },
    {
     "name": "stderr",
     "output_type": "stream",
     "text": [
      "Tracking: 100%|██████████| 19/19 [00:00<00:00, 766.55it/s]\n",
      "Cleaning windfarm: 100%|██████████| 5/5 [00:01<00:00,  2.60it/s]\n",
      "Cleaning rain: 100%|██████████| 5/5 [00:00<00:00, 55924.05it/s]\n"
     ]
    },
    {
     "name": "stdout",
     "output_type": "stream",
     "text": [
      "Stationday 1302 KTBW20081223\n"
     ]
    },
    {
     "name": "stderr",
     "output_type": "stream",
     "text": [
      "Tracking: 100%|██████████| 11/11 [00:00<00:00, 1215.61it/s]\n",
      "Cleaning windfarm: 100%|██████████| 4/4 [00:00<00:00,  6.17it/s]\n",
      "Cleaning rain: 100%|██████████| 4/4 [00:00<00:00, 28292.10it/s]\n"
     ]
    },
    {
     "name": "stdout",
     "output_type": "stream",
     "text": [
      "Stationday 1303 KTBW20081225\n"
     ]
    },
    {
     "name": "stderr",
     "output_type": "stream",
     "text": [
      "Tracking: 100%|██████████| 19/19 [00:00<00:00, 1119.90it/s]\n",
      "Cleaning windfarm: 100%|██████████| 5/5 [00:01<00:00,  2.72it/s]\n",
      "Cleaning rain: 100%|██████████| 5/5 [00:00<00:00, 59578.18it/s]\n"
     ]
    },
    {
     "name": "stdout",
     "output_type": "stream",
     "text": [
      "Stationday 1304 KTBW20081226\n"
     ]
    },
    {
     "name": "stderr",
     "output_type": "stream",
     "text": [
      "Tracking: 100%|██████████| 11/11 [00:00<00:00, 662.55it/s]\n",
      "Cleaning windfarm: 100%|██████████| 5/5 [00:01<00:00,  2.54it/s]\n",
      "Cleaning rain: 100%|██████████| 5/5 [00:00<00:00, 52298.05it/s]\n"
     ]
    },
    {
     "name": "stdout",
     "output_type": "stream",
     "text": [
      "Stationday 1305 KTBW20090109\n"
     ]
    },
    {
     "name": "stderr",
     "output_type": "stream",
     "text": [
      "Tracking: 100%|██████████| 19/19 [00:00<00:00, 505.24it/s]\n",
      "Cleaning windfarm: 100%|██████████| 23/23 [00:03<00:00,  5.84it/s]\n",
      "Cleaning rain: 100%|██████████| 23/23 [00:00<00:00, 113492.93it/s]\n"
     ]
    },
    {
     "name": "stdout",
     "output_type": "stream",
     "text": [
      "Stationday 1306 KTBW20090110\n"
     ]
    },
    {
     "name": "stderr",
     "output_type": "stream",
     "text": [
      "Tracking: 100%|██████████| 15/15 [00:00<00:00, 1347.41it/s]\n",
      "Cleaning windfarm: 100%|██████████| 4/4 [00:01<00:00,  2.00it/s]\n",
      "Cleaning rain: 100%|██████████| 4/4 [00:00<00:00, 41323.19it/s]\n"
     ]
    },
    {
     "name": "stdout",
     "output_type": "stream",
     "text": [
      "Stationday 1307 KTBW20090111\n"
     ]
    },
    {
     "name": "stderr",
     "output_type": "stream",
     "text": [
      "Tracking: 100%|██████████| 11/11 [00:00<00:00, 2009.12it/s]\n",
      "Cleaning windfarm: 100%|██████████| 3/3 [00:01<00:00,  2.29it/s]\n",
      "Cleaning rain: 100%|██████████| 3/3 [00:00<00:00, 21959.71it/s]\n"
     ]
    },
    {
     "name": "stdout",
     "output_type": "stream",
     "text": [
      "Stationday 1308 KTBW20090123\n"
     ]
    },
    {
     "name": "stderr",
     "output_type": "stream",
     "text": [
      "Tracking: 100%|██████████| 13/13 [00:00<00:00, 315.03it/s]\n",
      "Cleaning windfarm: 100%|██████████| 10/10 [00:02<00:00,  4.21it/s]\n",
      "Cleaning rain: 100%|██████████| 10/10 [00:00<00:00, 84222.97it/s]\n"
     ]
    },
    {
     "name": "stdout",
     "output_type": "stream",
     "text": [
      "Stationday 1309 KTBW20090124\n"
     ]
    },
    {
     "name": "stderr",
     "output_type": "stream",
     "text": [
      "Tracking: 100%|██████████| 11/11 [00:00<00:00, 1086.30it/s]\n",
      "Cleaning windfarm: 100%|██████████| 6/6 [00:01<00:00,  3.19it/s]\n",
      "Cleaning rain: 100%|██████████| 6/6 [00:00<00:00, 59213.70it/s]\n"
     ]
    },
    {
     "name": "stdout",
     "output_type": "stream",
     "text": [
      "Stationday 1310 KTBW20090201\n"
     ]
    },
    {
     "name": "stderr",
     "output_type": "stream",
     "text": [
      "Tracking: 100%|██████████| 17/17 [00:00<00:00, 512.09it/s]\n",
      "Cleaning windfarm: 100%|██████████| 10/10 [00:01<00:00,  5.27it/s]\n",
      "Cleaning rain: 100%|██████████| 10/10 [00:00<00:00, 74235.47it/s]\n"
     ]
    },
    {
     "name": "stdout",
     "output_type": "stream",
     "text": [
      "Stationday 1311 KTBW20090213\n"
     ]
    },
    {
     "name": "stderr",
     "output_type": "stream",
     "text": [
      "Tracking: 100%|██████████| 19/19 [00:00<00:00, 401.54it/s]\n",
      "Cleaning windfarm: 100%|██████████| 24/24 [00:03<00:00,  7.56it/s]\n",
      "Cleaning rain: 100%|██████████| 24/24 [00:00<00:00, 123361.88it/s]\n"
     ]
    },
    {
     "name": "stdout",
     "output_type": "stream",
     "text": [
      "Stationday 1312 KTBW20090219\n"
     ]
    },
    {
     "name": "stderr",
     "output_type": "stream",
     "text": [
      "Tracking: 100%|██████████| 17/17 [00:00<00:00, 1672.06it/s]\n",
      "Cleaning windfarm: 100%|██████████| 5/5 [00:00<00:00,  8.05it/s]\n",
      "Cleaning rain: 100%|██████████| 5/5 [00:00<00:00, 56375.05it/s]\n"
     ]
    },
    {
     "name": "stdout",
     "output_type": "stream",
     "text": [
      "Stationday 1313 KTBW20090223\n"
     ]
    },
    {
     "name": "stderr",
     "output_type": "stream",
     "text": [
      "Tracking: 100%|██████████| 16/16 [00:00<00:00, 856.88it/s]\n",
      "Cleaning windfarm: 100%|██████████| 7/7 [00:01<00:00,  3.63it/s]\n",
      "Cleaning rain: 100%|██████████| 7/7 [00:00<00:00, 62468.36it/s]\n"
     ]
    },
    {
     "name": "stdout",
     "output_type": "stream",
     "text": [
      "Stationday 1314 KTBW20090225\n"
     ]
    },
    {
     "name": "stderr",
     "output_type": "stream",
     "text": [
      "Tracking: 100%|██████████| 11/11 [00:00<00:00, 592.95it/s]\n",
      "Cleaning windfarm: 100%|██████████| 8/8 [00:01<00:00,  4.02it/s]\n",
      "Cleaning rain: 100%|██████████| 8/8 [00:00<00:00, 77314.36it/s]\n"
     ]
    },
    {
     "name": "stdout",
     "output_type": "stream",
     "text": [
      "Stationday 1315 KTBW20090226\n"
     ]
    },
    {
     "name": "stderr",
     "output_type": "stream",
     "text": [
      "Tracking: 100%|██████████| 15/15 [00:00<00:00, 603.80it/s]\n",
      "Cleaning windfarm: 100%|██████████| 9/9 [00:01<00:00,  5.05it/s]\n",
      "Cleaning rain: 100%|██████████| 9/9 [00:00<00:00, 36613.71it/s]\n"
     ]
    },
    {
     "name": "stdout",
     "output_type": "stream",
     "text": [
      "Stationday 1316 KTBW20090304\n"
     ]
    },
    {
     "name": "stderr",
     "output_type": "stream",
     "text": [
      "Tracking: 100%|██████████| 11/11 [00:00<00:00, 1116.51it/s]\n",
      "Cleaning windfarm: 100%|██████████| 4/4 [00:00<00:00,  5.20it/s]\n",
      "Cleaning rain: 100%|██████████| 4/4 [00:00<00:00, 55188.21it/s]\n"
     ]
    },
    {
     "name": "stdout",
     "output_type": "stream",
     "text": [
      "Stationday 1317 KTBW20090310\n"
     ]
    },
    {
     "name": "stderr",
     "output_type": "stream",
     "text": [
      "Tracking: 100%|██████████| 11/11 [00:00<00:00, 1712.41it/s]\n",
      "Cleaning windfarm: 100%|██████████| 3/3 [00:01<00:00,  1.92it/s]\n",
      "Cleaning rain: 100%|██████████| 3/3 [00:00<00:00, 40721.40it/s]\n"
     ]
    },
    {
     "name": "stdout",
     "output_type": "stream",
     "text": [
      "Stationday 1318 KTBW20090311\n"
     ]
    },
    {
     "name": "stderr",
     "output_type": "stream",
     "text": [
      "Tracking: 100%|██████████| 13/13 [00:00<00:00, 438.08it/s]\n",
      "Cleaning windfarm: 100%|██████████| 11/11 [00:01<00:00,  8.41it/s]\n",
      "Cleaning rain: 100%|██████████| 11/11 [00:00<00:00, 95128.54it/s]\n"
     ]
    },
    {
     "name": "stdout",
     "output_type": "stream",
     "text": [
      "Stationday 1319 KTBW20090317\n"
     ]
    },
    {
     "name": "stderr",
     "output_type": "stream",
     "text": [
      "Tracking: 100%|██████████| 19/19 [00:00<00:00, 451.25it/s]\n",
      "Cleaning windfarm: 100%|██████████| 15/15 [00:01<00:00,  7.88it/s]\n",
      "Cleaning rain: 100%|██████████| 15/15 [00:00<00:00, 102969.82it/s]\n"
     ]
    },
    {
     "name": "stdout",
     "output_type": "stream",
     "text": [
      "Stationday 1320 KTBW20090321\n"
     ]
    },
    {
     "name": "stderr",
     "output_type": "stream",
     "text": [
      "Tracking: 100%|██████████| 19/19 [00:00<00:00, 1928.42it/s]\n",
      "Cleaning windfarm: 100%|██████████| 4/4 [00:01<00:00,  3.29it/s]\n",
      "Cleaning rain: 100%|██████████| 4/4 [00:00<00:00, 45839.39it/s]\n"
     ]
    },
    {
     "name": "stdout",
     "output_type": "stream",
     "text": [
      "Stationday 1321 KTBW20090412\n"
     ]
    },
    {
     "name": "stderr",
     "output_type": "stream",
     "text": [
      "Tracking: 100%|██████████| 11/11 [00:00<00:00, 1586.35it/s]\n",
      "Cleaning windfarm: 100%|██████████| 2/2 [00:00<00:00,  3.00it/s]\n",
      "Cleaning rain: 100%|██████████| 2/2 [00:00<00:00, 29746.84it/s]\n"
     ]
    },
    {
     "name": "stdout",
     "output_type": "stream",
     "text": [
      "Stationday 1322 KTBW20090423\n"
     ]
    },
    {
     "name": "stderr",
     "output_type": "stream",
     "text": [
      "Tracking: 100%|██████████| 12/12 [00:00<00:00, 1676.21it/s]\n",
      "Cleaning windfarm: 100%|██████████| 8/8 [00:00<00:00, 13.88it/s]\n",
      "Cleaning rain: 100%|██████████| 8/8 [00:00<00:00, 85163.53it/s]\n"
     ]
    },
    {
     "name": "stdout",
     "output_type": "stream",
     "text": [
      "Stationday 1323 KTBW20091104\n"
     ]
    },
    {
     "name": "stderr",
     "output_type": "stream",
     "text": [
      "Tracking: 100%|██████████| 11/11 [00:00<00:00, 1665.07it/s]\n",
      "Cleaning windfarm: 100%|██████████| 4/4 [00:00<00:00,  4.96it/s]\n",
      "Cleaning rain: 100%|██████████| 4/4 [00:00<00:00, 22795.13it/s]\n"
     ]
    },
    {
     "name": "stdout",
     "output_type": "stream",
     "text": [
      "Stationday 1324 KTBW20091109\n"
     ]
    },
    {
     "name": "stderr",
     "output_type": "stream",
     "text": [
      "Tracking: 100%|██████████| 23/23 [00:00<00:00, 538.03it/s]\n",
      "Cleaning windfarm: 100%|██████████| 11/11 [00:01<00:00,  9.08it/s]\n",
      "Cleaning rain: 100%|██████████| 11/11 [00:00<00:00, 40901.90it/s]\n"
     ]
    },
    {
     "name": "stdout",
     "output_type": "stream",
     "text": [
      "Stationday 1325 KTBW20091117\n"
     ]
    },
    {
     "name": "stderr",
     "output_type": "stream",
     "text": [
      "Tracking: 100%|██████████| 11/11 [00:00<00:00, 605.87it/s]\n",
      "Cleaning windfarm: 100%|██████████| 8/8 [00:00<00:00, 11.39it/s]\n",
      "Cleaning rain: 100%|██████████| 8/8 [00:00<00:00, 35432.35it/s]\n"
     ]
    },
    {
     "name": "stdout",
     "output_type": "stream",
     "text": [
      "Stationday 1326 KTBW20091123\n"
     ]
    },
    {
     "name": "stderr",
     "output_type": "stream",
     "text": [
      "Tracking: 100%|██████████| 17/17 [00:00<00:00, 1202.70it/s]\n",
      "Cleaning windfarm: 100%|██████████| 5/5 [00:01<00:00,  3.27it/s]\n",
      "Cleaning rain: 100%|██████████| 5/5 [00:00<00:00, 44715.39it/s]\n"
     ]
    },
    {
     "name": "stdout",
     "output_type": "stream",
     "text": [
      "Stationday 1327 KTBW20091130\n"
     ]
    },
    {
     "name": "stderr",
     "output_type": "stream",
     "text": [
      "Tracking: 100%|██████████| 11/11 [00:00<00:00, 2505.42it/s]\n",
      "Cleaning windfarm: 100%|██████████| 6/6 [00:00<00:00, 10.58it/s]\n",
      "Cleaning rain: 100%|██████████| 6/6 [00:00<00:00, 63389.98it/s]\n"
     ]
    },
    {
     "name": "stdout",
     "output_type": "stream",
     "text": [
      "Stationday 1328 KTBW20091203\n"
     ]
    },
    {
     "name": "stderr",
     "output_type": "stream",
     "text": [
      "Tracking: 100%|██████████| 18/18 [00:00<00:00, 1566.37it/s]\n",
      "Cleaning windfarm: 100%|██████████| 8/8 [00:01<00:00,  6.36it/s]\n",
      "Cleaning rain: 100%|██████████| 8/8 [00:00<00:00, 24781.71it/s]\n"
     ]
    },
    {
     "name": "stdout",
     "output_type": "stream",
     "text": [
      "Stationday 1329 KTBW20091222\n"
     ]
    },
    {
     "name": "stderr",
     "output_type": "stream",
     "text": [
      "Tracking: 100%|██████████| 17/17 [00:00<00:00, 256.21it/s]\n",
      "Cleaning windfarm: 100%|██████████| 24/24 [00:04<00:00,  5.15it/s]\n",
      "Cleaning rain: 100%|██████████| 24/24 [00:00<00:00, 104098.55it/s]\n"
     ]
    },
    {
     "name": "stdout",
     "output_type": "stream",
     "text": [
      "Stationday 1330 KTBW20091230\n"
     ]
    },
    {
     "name": "stderr",
     "output_type": "stream",
     "text": [
      "Tracking: 100%|██████████| 18/18 [00:00<00:00, 869.27it/s]\n",
      "Cleaning windfarm: 100%|██████████| 6/6 [00:03<00:00,  1.85it/s]\n",
      "Cleaning rain: 100%|██████████| 6/6 [00:00<00:00, 49833.31it/s]\n"
     ]
    },
    {
     "name": "stdout",
     "output_type": "stream",
     "text": [
      "Stationday 1331 KTBW20100108\n"
     ]
    },
    {
     "name": "stderr",
     "output_type": "stream",
     "text": [
      "Tracking: 100%|██████████| 8/8 [00:00<00:00, 936.05it/s]\n",
      "Cleaning windfarm: 100%|██████████| 6/6 [00:00<00:00,  9.47it/s]\n",
      "Cleaning rain: 100%|██████████| 6/6 [00:00<00:00, 72108.38it/s]\n"
     ]
    },
    {
     "name": "stdout",
     "output_type": "stream",
     "text": [
      "Stationday 1332 KTBW20100124\n"
     ]
    },
    {
     "name": "stderr",
     "output_type": "stream",
     "text": [
      "Tracking: 100%|██████████| 1/1 [00:00<00:00, 8490.49it/s]\n",
      "Cleaning windfarm: 0it [00:00, ?it/s]\n",
      "Cleaning rain: 0it [00:00, ?it/s]\n"
     ]
    },
    {
     "name": "stdout",
     "output_type": "stream",
     "text": [
      "Stationday 1333 KTBW20100127\n"
     ]
    },
    {
     "name": "stderr",
     "output_type": "stream",
     "text": [
      "Tracking: 100%|██████████| 10/10 [00:00<00:00, 432.62it/s]\n",
      "Cleaning windfarm: 100%|██████████| 18/18 [00:02<00:00,  8.76it/s]\n",
      "Cleaning rain: 100%|██████████| 18/18 [00:00<00:00, 112180.49it/s]\n"
     ]
    },
    {
     "name": "stdout",
     "output_type": "stream",
     "text": [
      "Stationday 1334 KTBW20100203\n"
     ]
    },
    {
     "name": "stderr",
     "output_type": "stream",
     "text": [
      "Tracking: 100%|██████████| 17/17 [00:00<00:00, 1940.22it/s]\n",
      "Cleaning windfarm: 100%|██████████| 7/7 [00:00<00:00, 10.87it/s]\n",
      "Cleaning rain: 100%|██████████| 7/7 [00:00<00:00, 64669.89it/s]\n"
     ]
    },
    {
     "name": "stdout",
     "output_type": "stream",
     "text": [
      "Stationday 1335 KTBW20100207\n"
     ]
    },
    {
     "name": "stderr",
     "output_type": "stream",
     "text": [
      "Tracking: 100%|██████████| 10/10 [00:00<00:00, 1321.42it/s]\n",
      "Cleaning windfarm: 100%|██████████| 8/8 [00:00<00:00, 43073.73it/s]\n",
      "Cleaning rain: 100%|██████████| 8/8 [00:00<00:00, 84096.32it/s]\n"
     ]
    },
    {
     "name": "stdout",
     "output_type": "stream",
     "text": [
      "Stationday 1336 KTBW20100220\n"
     ]
    },
    {
     "name": "stderr",
     "output_type": "stream",
     "text": [
      "Tracking: 100%|██████████| 16/16 [00:00<00:00, 519.15it/s]\n",
      "Cleaning windfarm: 100%|██████████| 17/17 [00:01<00:00,  9.17it/s]\n",
      "Cleaning rain: 100%|██████████| 17/17 [00:00<00:00, 111760.45it/s]\n"
     ]
    },
    {
     "name": "stdout",
     "output_type": "stream",
     "text": [
      "Stationday 1337 KTBW20100223\n"
     ]
    },
    {
     "name": "stderr",
     "output_type": "stream",
     "text": [
      "Tracking: 100%|██████████| 23/23 [00:00<00:00, 1568.24it/s]\n",
      "Cleaning windfarm: 100%|██████████| 8/8 [00:01<00:00,  6.51it/s]\n",
      "Cleaning rain: 100%|██████████| 8/8 [00:00<00:00, 64652.08it/s]\n"
     ]
    },
    {
     "name": "stdout",
     "output_type": "stream",
     "text": [
      "Stationday 1338 KTBW20100227\n"
     ]
    },
    {
     "name": "stderr",
     "output_type": "stream",
     "text": [
      "Tracking: 100%|██████████| 23/23 [00:00<00:00, 377.83it/s]\n",
      "Cleaning windfarm: 100%|██████████| 35/35 [00:03<00:00,  9.01it/s]\n",
      "Cleaning rain: 100%|██████████| 35/35 [00:00<00:00, 109798.53it/s]\n"
     ]
    },
    {
     "name": "stdout",
     "output_type": "stream",
     "text": [
      "Stationday 1339 KTBW20100306\n"
     ]
    },
    {
     "name": "stderr",
     "output_type": "stream",
     "text": [
      "Tracking: 100%|██████████| 20/20 [00:00<00:00, 1303.04it/s]\n",
      "Cleaning windfarm: 100%|██████████| 12/12 [00:00<00:00, 17.66it/s]\n",
      "Cleaning rain: 100%|██████████| 12/12 [00:00<00:00, 84026.12it/s]\n"
     ]
    },
    {
     "name": "stdout",
     "output_type": "stream",
     "text": [
      "Stationday 1340 KTBW20100321\n"
     ]
    },
    {
     "name": "stderr",
     "output_type": "stream",
     "text": [
      "Tracking: 100%|██████████| 24/24 [00:00<00:00, 1111.59it/s]\n",
      "Cleaning windfarm: 100%|██████████| 11/11 [00:01<00:00,  8.95it/s]\n",
      "Cleaning rain: 100%|██████████| 11/11 [00:00<00:00, 89240.51it/s]\n"
     ]
    },
    {
     "name": "stdout",
     "output_type": "stream",
     "text": [
      "Stationday 1341 KTBW20100322\n"
     ]
    },
    {
     "name": "stderr",
     "output_type": "stream",
     "text": [
      "Tracking: 100%|██████████| 22/22 [00:00<00:00, 817.66it/s]\n",
      "Cleaning windfarm: 100%|██████████| 11/11 [00:01<00:00,  8.57it/s]\n",
      "Cleaning rain: 100%|██████████| 11/11 [00:00<00:00, 68250.51it/s]\n"
     ]
    },
    {
     "name": "stdout",
     "output_type": "stream",
     "text": [
      "Stationday 1342 KTBW20100325\n"
     ]
    },
    {
     "name": "stderr",
     "output_type": "stream",
     "text": [
      "Tracking: 100%|██████████| 11/11 [00:00<00:00, 1624.90it/s]\n",
      "Cleaning windfarm: 100%|██████████| 3/3 [00:00<00:00,  4.85it/s]\n",
      "Cleaning rain: 100%|██████████| 3/3 [00:00<00:00, 42799.02it/s]\n"
     ]
    },
    {
     "name": "stdout",
     "output_type": "stream",
     "text": [
      "Stationday 1343 KTBW20100328\n"
     ]
    },
    {
     "name": "stderr",
     "output_type": "stream",
     "text": [
      "Tracking: 100%|██████████| 13/13 [00:00<00:00, 1648.70it/s]\n",
      "Cleaning windfarm: 100%|██████████| 5/5 [00:00<00:00,  7.66it/s]\n",
      "Cleaning rain: 100%|██████████| 5/5 [00:00<00:00, 25115.59it/s]\n"
     ]
    },
    {
     "name": "stdout",
     "output_type": "stream",
     "text": [
      "Stationday 1344 KTBW20100409\n"
     ]
    },
    {
     "name": "stderr",
     "output_type": "stream",
     "text": [
      "Tracking: 100%|██████████| 22/22 [00:00<00:00, 581.12it/s]\n",
      "Cleaning windfarm: 100%|██████████| 10/10 [00:02<00:00,  3.75it/s]\n",
      "Cleaning rain: 100%|██████████| 10/10 [00:00<00:00, 80659.69it/s]\n"
     ]
    },
    {
     "name": "stdout",
     "output_type": "stream",
     "text": [
      "Stationday 1345 KTBW20100410\n"
     ]
    },
    {
     "name": "stderr",
     "output_type": "stream",
     "text": [
      "Tracking: 100%|██████████| 11/11 [00:00<00:00, 739.95it/s]\n",
      "Cleaning windfarm: 100%|██████████| 14/14 [00:01<00:00, 11.25it/s]\n",
      "Cleaning rain: 100%|██████████| 14/14 [00:00<00:00, 92618.70it/s]\n"
     ]
    },
    {
     "name": "stdout",
     "output_type": "stream",
     "text": [
      "Stationday 1346 KTBW20100413\n"
     ]
    },
    {
     "name": "stderr",
     "output_type": "stream",
     "text": [
      "Tracking: 100%|██████████| 11/11 [00:00<00:00, 1558.22it/s]\n",
      "Cleaning windfarm: 100%|██████████| 6/6 [00:01<00:00,  4.52it/s]\n",
      "Cleaning rain: 100%|██████████| 6/6 [00:00<00:00, 62291.64it/s]\n"
     ]
    },
    {
     "name": "stdout",
     "output_type": "stream",
     "text": [
      "Stationday 1347 KTBW20100419\n"
     ]
    },
    {
     "name": "stderr",
     "output_type": "stream",
     "text": [
      "Tracking: 100%|██████████| 22/22 [00:00<00:00, 1138.93it/s]\n",
      "Cleaning windfarm: 100%|██████████| 8/8 [00:01<00:00,  6.04it/s]\n",
      "Cleaning rain: 100%|██████████| 8/8 [00:00<00:00, 50006.61it/s]\n"
     ]
    },
    {
     "name": "stdout",
     "output_type": "stream",
     "text": [
      "Stationday 1348 KTBW20101029\n"
     ]
    },
    {
     "name": "stderr",
     "output_type": "stream",
     "text": [
      "Tracking: 100%|██████████| 20/20 [00:00<00:00, 864.25it/s]\n",
      "Cleaning windfarm: 100%|██████████| 12/12 [00:01<00:00,  9.41it/s]\n",
      "Cleaning rain: 100%|██████████| 12/12 [00:00<00:00, 80530.64it/s]\n"
     ]
    },
    {
     "name": "stdout",
     "output_type": "stream",
     "text": [
      "Stationday 1349 KTBW20101109\n"
     ]
    },
    {
     "name": "stderr",
     "output_type": "stream",
     "text": [
      "Tracking: 100%|██████████| 18/18 [00:00<00:00, 1458.80it/s]\n",
      "Cleaning windfarm: 100%|██████████| 4/4 [00:00<00:00,  5.29it/s]\n",
      "Cleaning rain: 100%|██████████| 4/4 [00:00<00:00, 29279.61it/s]\n"
     ]
    },
    {
     "name": "stdout",
     "output_type": "stream",
     "text": [
      "Stationday 1350 KTBW20101114\n"
     ]
    },
    {
     "name": "stderr",
     "output_type": "stream",
     "text": [
      "Tracking: 100%|██████████| 17/17 [00:00<00:00, 816.25it/s]\n",
      "Cleaning windfarm: 100%|██████████| 16/16 [00:01<00:00, 13.11it/s]\n",
      "Cleaning rain: 100%|██████████| 16/16 [00:00<00:00, 96420.78it/s]\n"
     ]
    },
    {
     "name": "stdout",
     "output_type": "stream",
     "text": [
      "Stationday 1351 KTBW20101115\n"
     ]
    },
    {
     "name": "stderr",
     "output_type": "stream",
     "text": [
      "Tracking: 100%|██████████| 11/11 [00:00<00:00, 791.65it/s]\n",
      "Cleaning windfarm: 100%|██████████| 4/4 [00:01<00:00,  2.90it/s]\n",
      "Cleaning rain: 100%|██████████| 4/4 [00:00<00:00, 50840.05it/s]\n"
     ]
    },
    {
     "name": "stdout",
     "output_type": "stream",
     "text": [
      "Stationday 1352 KTBW20101116\n"
     ]
    },
    {
     "name": "stderr",
     "output_type": "stream",
     "text": [
      "Tracking: 100%|██████████| 24/24 [00:00<00:00, 879.31it/s]\n",
      "Cleaning windfarm: 100%|██████████| 8/8 [00:02<00:00,  3.01it/s]\n",
      "Cleaning rain: 100%|██████████| 8/8 [00:00<00:00, 28508.44it/s]\n"
     ]
    },
    {
     "name": "stdout",
     "output_type": "stream",
     "text": [
      "Stationday 1353 KTBW20101117\n"
     ]
    },
    {
     "name": "stderr",
     "output_type": "stream",
     "text": [
      "Tracking: 100%|██████████| 13/13 [00:00<00:00, 818.52it/s]\n",
      "Cleaning windfarm: 100%|██████████| 3/3 [00:01<00:00,  2.39it/s]\n",
      "Cleaning rain: 100%|██████████| 3/3 [00:00<00:00, 40986.68it/s]\n"
     ]
    },
    {
     "name": "stdout",
     "output_type": "stream",
     "text": [
      "Stationday 1354 KTBW20101120\n"
     ]
    },
    {
     "name": "stderr",
     "output_type": "stream",
     "text": [
      "Tracking: 100%|██████████| 11/11 [00:00<00:00, 1258.42it/s]\n",
      "Cleaning windfarm: 100%|██████████| 6/6 [00:01<00:00,  3.15it/s]\n",
      "Cleaning rain: 100%|██████████| 6/6 [00:00<00:00, 59776.30it/s]\n"
     ]
    },
    {
     "name": "stdout",
     "output_type": "stream",
     "text": [
      "Stationday 1355 KTBW20101128\n"
     ]
    },
    {
     "name": "stderr",
     "output_type": "stream",
     "text": [
      "Tracking: 100%|██████████| 11/11 [00:00<00:00, 789.39it/s]\n",
      "Cleaning windfarm: 100%|██████████| 4/4 [00:01<00:00,  2.82it/s]\n",
      "Cleaning rain: 100%|██████████| 4/4 [00:00<00:00, 38926.26it/s]\n"
     ]
    },
    {
     "name": "stdout",
     "output_type": "stream",
     "text": [
      "Stationday 1356 KTBW20101204\n"
     ]
    },
    {
     "name": "stderr",
     "output_type": "stream",
     "text": [
      "Tracking: 100%|██████████| 19/19 [00:00<00:00, 1013.26it/s]\n",
      "Cleaning windfarm: 100%|██████████| 8/8 [00:02<00:00,  3.43it/s]\n",
      "Cleaning rain: 100%|██████████| 8/8 [00:00<00:00, 56968.48it/s]\n"
     ]
    },
    {
     "name": "stdout",
     "output_type": "stream",
     "text": [
      "Stationday 1357 KTBW20101206\n"
     ]
    },
    {
     "name": "stderr",
     "output_type": "stream",
     "text": [
      "Tracking: 100%|██████████| 10/10 [00:00<00:00, 2821.03it/s]\n",
      "Cleaning windfarm: 100%|██████████| 1/1 [00:00<00:00,  1.55it/s]\n",
      "Cleaning rain: 100%|██████████| 1/1 [00:00<00:00, 16644.06it/s]\n"
     ]
    },
    {
     "name": "stdout",
     "output_type": "stream",
     "text": [
      "Stationday 1358 KTBW20110101\n"
     ]
    },
    {
     "name": "stderr",
     "output_type": "stream",
     "text": [
      "Tracking: 100%|██████████| 11/11 [00:00<00:00, 627.05it/s]\n",
      "Cleaning windfarm: 100%|██████████| 9/9 [00:01<00:00,  6.93it/s]\n",
      "Cleaning rain: 100%|██████████| 9/9 [00:00<00:00, 79137.81it/s]\n"
     ]
    },
    {
     "name": "stdout",
     "output_type": "stream",
     "text": [
      "Stationday 1359 KTBW20110108\n"
     ]
    },
    {
     "name": "stderr",
     "output_type": "stream",
     "text": [
      "Tracking: 100%|██████████| 11/11 [00:00<00:00, 2024.19it/s]\n",
      "Cleaning windfarm: 100%|██████████| 4/4 [00:00<00:00,  6.04it/s]\n",
      "Cleaning rain: 100%|██████████| 4/4 [00:00<00:00, 46091.25it/s]\n"
     ]
    },
    {
     "name": "stdout",
     "output_type": "stream",
     "text": [
      "Stationday 1360 KTBW20110110\n"
     ]
    },
    {
     "name": "stderr",
     "output_type": "stream",
     "text": [
      "Tracking: 100%|██████████| 24/24 [00:00<00:00, 558.05it/s]\n",
      "Cleaning windfarm: 100%|██████████| 14/14 [00:02<00:00,  5.27it/s]\n",
      "Cleaning rain: 100%|██████████| 14/14 [00:00<00:00, 57512.49it/s]\n"
     ]
    },
    {
     "name": "stdout",
     "output_type": "stream",
     "text": [
      "Stationday 1361 KTBW20110113\n"
     ]
    },
    {
     "name": "stderr",
     "output_type": "stream",
     "text": [
      "Tracking: 100%|██████████| 17/17 [00:00<00:00, 1414.13it/s]\n",
      "Cleaning windfarm: 100%|██████████| 6/6 [00:01<00:00,  3.76it/s]\n",
      "Cleaning rain: 100%|██████████| 6/6 [00:00<00:00, 59918.63it/s]\n"
     ]
    },
    {
     "name": "stdout",
     "output_type": "stream",
     "text": [
      "Stationday 1362 KTBW20110116\n"
     ]
    },
    {
     "name": "stderr",
     "output_type": "stream",
     "text": [
      "Tracking: 100%|██████████| 11/11 [00:00<00:00, 656.88it/s]\n",
      "Cleaning windfarm: 100%|██████████| 10/10 [00:02<00:00,  4.00it/s]\n",
      "Cleaning rain: 100%|██████████| 10/10 [00:00<00:00, 54613.33it/s]\n"
     ]
    },
    {
     "name": "stdout",
     "output_type": "stream",
     "text": [
      "Stationday 1363 KTBW20110117\n"
     ]
    },
    {
     "name": "stderr",
     "output_type": "stream",
     "text": [
      "Tracking: 100%|██████████| 24/24 [00:00<00:00, 651.81it/s]\n",
      "Cleaning windfarm: 100%|██████████| 23/23 [00:01<00:00, 19.23it/s]\n",
      "Cleaning rain: 100%|██████████| 23/23 [00:00<00:00, 45121.14it/s]\n"
     ]
    },
    {
     "name": "stdout",
     "output_type": "stream",
     "text": [
      "Stationday 1364 KTBW20110125\n"
     ]
    },
    {
     "name": "stderr",
     "output_type": "stream",
     "text": [
      "Tracking: 100%|██████████| 25/25 [00:00<00:00, 254.63it/s]\n",
      "Cleaning windfarm: 100%|██████████| 14/14 [00:03<00:00,  4.18it/s]\n",
      "Cleaning rain: 100%|██████████| 14/14 [00:00<00:00, 76558.35it/s]\n"
     ]
    },
    {
     "name": "stdout",
     "output_type": "stream",
     "text": [
      "Stationday 1365 KTBW20110128\n"
     ]
    },
    {
     "name": "stderr",
     "output_type": "stream",
     "text": [
      "Tracking: 100%|██████████| 19/19 [00:00<00:00, 814.78it/s]\n",
      "Cleaning windfarm: 100%|██████████| 10/10 [00:03<00:00,  3.30it/s]\n",
      "Cleaning rain: 100%|██████████| 10/10 [00:00<00:00, 63743.22it/s]\n"
     ]
    },
    {
     "name": "stdout",
     "output_type": "stream",
     "text": [
      "Stationday 1366 KTBW20110129\n"
     ]
    },
    {
     "name": "stderr",
     "output_type": "stream",
     "text": [
      "Tracking: 100%|██████████| 11/11 [00:00<00:00, 557.26it/s]\n",
      "Cleaning windfarm: 100%|██████████| 15/15 [00:01<00:00,  8.07it/s]\n",
      "Cleaning rain: 100%|██████████| 15/15 [00:00<00:00, 113564.19it/s]\n"
     ]
    },
    {
     "name": "stdout",
     "output_type": "stream",
     "text": [
      "Stationday 1367 KTBW20110131\n"
     ]
    },
    {
     "name": "stderr",
     "output_type": "stream",
     "text": [
      "Tracking: 100%|██████████| 24/24 [00:00<00:00, 765.83it/s]\n",
      "Cleaning windfarm: 100%|██████████| 12/12 [00:02<00:00,  4.63it/s]\n",
      "Cleaning rain: 100%|██████████| 12/12 [00:00<00:00, 84166.64it/s]\n"
     ]
    },
    {
     "name": "stdout",
     "output_type": "stream",
     "text": [
      "Stationday 1368 KTBW20110201\n"
     ]
    },
    {
     "name": "stderr",
     "output_type": "stream",
     "text": [
      "Tracking: 100%|██████████| 18/18 [00:00<00:00, 665.80it/s]\n",
      "Cleaning windfarm: 100%|██████████| 9/9 [00:02<00:00,  3.40it/s]\n",
      "Cleaning rain: 100%|██████████| 9/9 [00:00<00:00, 53926.77it/s]\n"
     ]
    },
    {
     "name": "stdout",
     "output_type": "stream",
     "text": [
      "Stationday 1369 KTBW20110202\n"
     ]
    },
    {
     "name": "stderr",
     "output_type": "stream",
     "text": [
      "Tracking: 100%|██████████| 24/24 [00:00<00:00, 761.43it/s]\n",
      "Cleaning windfarm: 100%|██████████| 10/10 [00:02<00:00,  4.96it/s]\n",
      "Cleaning rain: 100%|██████████| 10/10 [00:00<00:00, 72944.42it/s]\n"
     ]
    },
    {
     "name": "stdout",
     "output_type": "stream",
     "text": [
      "Stationday 1370 KTBW20110208\n"
     ]
    },
    {
     "name": "stderr",
     "output_type": "stream",
     "text": [
      "Tracking: 100%|██████████| 17/17 [00:00<00:00, 886.78it/s]\n",
      "Cleaning windfarm: 100%|██████████| 8/8 [00:02<00:00,  3.27it/s]\n",
      "Cleaning rain: 100%|██████████| 8/8 [00:00<00:00, 31418.01it/s]\n"
     ]
    },
    {
     "name": "stdout",
     "output_type": "stream",
     "text": [
      "Stationday 1371 KTBW20110219\n"
     ]
    },
    {
     "name": "stderr",
     "output_type": "stream",
     "text": [
      "Tracking: 100%|██████████| 20/20 [00:00<00:00, 355.47it/s]\n",
      "Cleaning windfarm: 100%|██████████| 17/17 [00:02<00:00,  6.60it/s]\n",
      "Cleaning rain: 100%|██████████| 17/17 [00:00<00:00, 105012.03it/s]\n"
     ]
    },
    {
     "name": "stdout",
     "output_type": "stream",
     "text": [
      "Stationday 1372 KTBW20110224\n"
     ]
    },
    {
     "name": "stderr",
     "output_type": "stream",
     "text": [
      "Tracking: 100%|██████████| 11/11 [00:00<00:00, 1573.04it/s]\n",
      "Cleaning windfarm: 100%|██████████| 5/5 [00:00<00:00,  7.96it/s]\n",
      "Cleaning rain: 100%|██████████| 5/5 [00:00<00:00, 60090.32it/s]\n"
     ]
    },
    {
     "name": "stdout",
     "output_type": "stream",
     "text": [
      "Stationday 1373 KTBW20110226\n"
     ]
    },
    {
     "name": "stderr",
     "output_type": "stream",
     "text": [
      "Tracking: 100%|██████████| 21/21 [00:00<00:00, 613.86it/s]\n",
      "Cleaning windfarm: 100%|██████████| 17/17 [00:04<00:00,  3.86it/s]\n",
      "Cleaning rain: 100%|██████████| 17/17 [00:00<00:00, 35228.84it/s]\n"
     ]
    },
    {
     "name": "stdout",
     "output_type": "stream",
     "text": [
      "Stationday 1374 KTBW20110307\n"
     ]
    },
    {
     "name": "stderr",
     "output_type": "stream",
     "text": [
      "Tracking: 100%|██████████| 20/20 [00:00<00:00, 453.09it/s]\n",
      "Cleaning windfarm: 100%|██████████| 9/9 [00:01<00:00,  4.99it/s]\n",
      "Cleaning rain: 100%|██████████| 9/9 [00:00<00:00, 74455.10it/s]\n"
     ]
    },
    {
     "name": "stdout",
     "output_type": "stream",
     "text": [
      "Stationday 1375 KTBW20110311\n"
     ]
    },
    {
     "name": "stderr",
     "output_type": "stream",
     "text": [
      "Tracking: 100%|██████████| 17/17 [00:00<00:00, 702.26it/s]\n",
      "Cleaning windfarm: 100%|██████████| 6/6 [00:01<00:00,  3.33it/s]\n",
      "Cleaning rain: 100%|██████████| 6/6 [00:00<00:00, 65365.78it/s]\n"
     ]
    },
    {
     "name": "stdout",
     "output_type": "stream",
     "text": [
      "Stationday 1376 KTBW20110315\n"
     ]
    },
    {
     "name": "stderr",
     "output_type": "stream",
     "text": [
      "Tracking: 100%|██████████| 20/20 [00:00<00:00, 823.52it/s]\n",
      "Cleaning windfarm: 100%|██████████| 15/15 [00:02<00:00,  5.17it/s]\n",
      "Cleaning rain: 100%|██████████| 15/15 [00:00<00:00, 44306.03it/s]\n"
     ]
    },
    {
     "name": "stdout",
     "output_type": "stream",
     "text": [
      "Stationday 1377 KTBW20110316\n"
     ]
    },
    {
     "name": "stderr",
     "output_type": "stream",
     "text": [
      "Tracking: 100%|██████████| 21/21 [00:00<00:00, 285.98it/s]\n",
      "Cleaning windfarm: 100%|██████████| 24/24 [00:05<00:00,  4.14it/s]\n",
      "Cleaning rain: 100%|██████████| 24/24 [00:00<00:00, 102927.71it/s]\n"
     ]
    },
    {
     "name": "stdout",
     "output_type": "stream",
     "text": [
      "Stationday 1378 KTBW20110318\n"
     ]
    },
    {
     "name": "stderr",
     "output_type": "stream",
     "text": [
      "Tracking: 100%|██████████| 23/23 [00:00<00:00, 561.34it/s]\n",
      "Cleaning windfarm: 100%|██████████| 14/14 [00:04<00:00,  3.14it/s]\n",
      "Cleaning rain: 100%|██████████| 14/14 [00:00<00:00, 87904.57it/s]\n"
     ]
    },
    {
     "name": "stdout",
     "output_type": "stream",
     "text": [
      "Stationday 1379 KTBW20110401\n"
     ]
    },
    {
     "name": "stderr",
     "output_type": "stream",
     "text": [
      "Tracking: 100%|██████████| 11/11 [00:00<00:00, 1884.77it/s]\n",
      "Cleaning windfarm: 100%|██████████| 7/7 [00:00<00:00, 11.20it/s]\n",
      "Cleaning rain: 100%|██████████| 7/7 [00:00<00:00, 70918.18it/s]\n"
     ]
    },
    {
     "name": "stdout",
     "output_type": "stream",
     "text": [
      "Stationday 1380 KTBW20110404\n"
     ]
    },
    {
     "name": "stderr",
     "output_type": "stream",
     "text": [
      "Tracking: 100%|██████████| 19/19 [00:00<00:00, 760.08it/s]\n",
      "Cleaning windfarm: 100%|██████████| 12/12 [00:02<00:00,  4.48it/s]\n",
      "Cleaning rain: 100%|██████████| 12/12 [00:00<00:00, 81049.35it/s]\n"
     ]
    },
    {
     "name": "stdout",
     "output_type": "stream",
     "text": [
      "Stationday 1381 KTBW20110407\n"
     ]
    },
    {
     "name": "stderr",
     "output_type": "stream",
     "text": [
      "Tracking: 100%|██████████| 17/17 [00:00<00:00, 2055.26it/s]\n",
      "Cleaning windfarm: 100%|██████████| 3/3 [00:00<00:00,  4.73it/s]\n",
      "Cleaning rain: 100%|██████████| 3/3 [00:00<00:00, 17949.95it/s]\n"
     ]
    },
    {
     "name": "stdout",
     "output_type": "stream",
     "text": [
      "Stationday 1382 KTBW20110408\n"
     ]
    },
    {
     "name": "stderr",
     "output_type": "stream",
     "text": [
      "Tracking: 100%|██████████| 20/20 [00:00<00:00, 1275.91it/s]\n",
      "Cleaning windfarm: 100%|██████████| 6/6 [00:01<00:00,  3.33it/s]\n",
      "Cleaning rain: 100%|██████████| 6/6 [00:00<00:00, 57719.78it/s]\n"
     ]
    },
    {
     "name": "stdout",
     "output_type": "stream",
     "text": [
      "Stationday 1383 KTBW20110421\n"
     ]
    },
    {
     "name": "stderr",
     "output_type": "stream",
     "text": [
      "Tracking: 100%|██████████| 12/12 [00:00<00:00, 1524.32it/s]\n",
      "Cleaning windfarm: 100%|██████████| 6/6 [00:00<00:00,  7.35it/s]\n",
      "Cleaning rain: 100%|██████████| 6/6 [00:00<00:00, 67650.06it/s]\n"
     ]
    },
    {
     "name": "stdout",
     "output_type": "stream",
     "text": [
      "Stationday 1384 KTBW20111018\n"
     ]
    },
    {
     "name": "stderr",
     "output_type": "stream",
     "text": [
      "Tracking: 100%|██████████| 25/25 [00:00<00:00, 1005.47it/s]\n",
      "Cleaning windfarm: 100%|██████████| 10/10 [00:01<00:00,  7.75it/s]\n",
      "Cleaning rain: 100%|██████████| 10/10 [00:00<00:00, 70849.73it/s]\n"
     ]
    },
    {
     "name": "stdout",
     "output_type": "stream",
     "text": [
      "Stationday 1385 KTBW20111020\n"
     ]
    },
    {
     "name": "stderr",
     "output_type": "stream",
     "text": [
      "Tracking: 100%|██████████| 12/12 [00:00<00:00, 610.38it/s]\n",
      "Cleaning windfarm: 100%|██████████| 18/18 [00:02<00:00,  7.81it/s]\n",
      "Cleaning rain: 100%|██████████| 18/18 [00:00<00:00, 117780.77it/s]\n"
     ]
    },
    {
     "name": "stdout",
     "output_type": "stream",
     "text": [
      "Stationday 1386 KTBW20111024\n"
     ]
    },
    {
     "name": "stderr",
     "output_type": "stream",
     "text": [
      "Tracking: 100%|██████████| 21/21 [00:00<00:00, 807.28it/s]\n",
      "Cleaning windfarm: 100%|██████████| 17/17 [00:00<00:00, 29.16it/s]\n",
      "Cleaning rain: 100%|██████████| 17/17 [00:00<00:00, 67843.17it/s]\n"
     ]
    },
    {
     "name": "stdout",
     "output_type": "stream",
     "text": [
      "Stationday 1387 KTBW20111030\n"
     ]
    },
    {
     "name": "stderr",
     "output_type": "stream",
     "text": [
      "Tracking: 100%|██████████| 11/11 [00:00<00:00, 2441.13it/s]\n",
      "Cleaning windfarm: 100%|██████████| 7/7 [00:01<00:00,  4.49it/s]\n",
      "Cleaning rain: 100%|██████████| 7/7 [00:00<00:00, 44150.57it/s]\n"
     ]
    },
    {
     "name": "stdout",
     "output_type": "stream",
     "text": [
      "Stationday 1388 KTBW20111101\n"
     ]
    },
    {
     "name": "stderr",
     "output_type": "stream",
     "text": [
      "Tracking: 100%|██████████| 5/5 [00:00<00:00, 3626.41it/s]\n",
      "Cleaning windfarm: 100%|██████████| 2/2 [00:00<00:00, 19691.57it/s]\n",
      "Cleaning rain: 100%|██████████| 2/2 [00:00<00:00, 31536.12it/s]\n"
     ]
    },
    {
     "name": "stdout",
     "output_type": "stream",
     "text": [
      "Stationday 1389 KTBW20111109\n"
     ]
    },
    {
     "name": "stderr",
     "output_type": "stream",
     "text": [
      "Tracking: 100%|██████████| 11/11 [00:00<00:00, 914.03it/s]\n",
      "Cleaning windfarm: 100%|██████████| 9/9 [00:01<00:00,  5.39it/s]\n",
      "Cleaning rain: 100%|██████████| 9/9 [00:00<00:00, 98560.67it/s]\n"
     ]
    },
    {
     "name": "stdout",
     "output_type": "stream",
     "text": [
      "Stationday 1390 KTBW20111114\n"
     ]
    },
    {
     "name": "stderr",
     "output_type": "stream",
     "text": [
      "Tracking: 100%|██████████| 11/11 [00:00<00:00, 1132.01it/s]\n",
      "Cleaning windfarm: 100%|██████████| 6/6 [00:02<00:00,  2.77it/s]\n",
      "Cleaning rain: 100%|██████████| 6/6 [00:00<00:00, 56299.38it/s]\n"
     ]
    },
    {
     "name": "stdout",
     "output_type": "stream",
     "text": [
      "Stationday 1391 KTBW20111119\n"
     ]
    },
    {
     "name": "stderr",
     "output_type": "stream",
     "text": [
      "Tracking: 100%|██████████| 25/25 [00:00<00:00, 528.65it/s]\n",
      "Cleaning windfarm: 100%|██████████| 11/11 [00:04<00:00,  2.29it/s]\n",
      "Cleaning rain: 100%|██████████| 11/11 [00:00<00:00, 63462.65it/s]\n"
     ]
    },
    {
     "name": "stdout",
     "output_type": "stream",
     "text": [
      "Stationday 1392 KTBW20111122\n"
     ]
    },
    {
     "name": "stderr",
     "output_type": "stream",
     "text": [
      "Tracking: 100%|██████████| 21/21 [00:00<00:00, 735.97it/s]\n",
      "Cleaning windfarm: 100%|██████████| 7/7 [00:02<00:00,  2.65it/s]\n",
      "Cleaning rain: 100%|██████████| 7/7 [00:00<00:00, 35459.09it/s]\n"
     ]
    },
    {
     "name": "stdout",
     "output_type": "stream",
     "text": [
      "Stationday 1393 KTBW20111202\n"
     ]
    },
    {
     "name": "stderr",
     "output_type": "stream",
     "text": [
      "Tracking: 100%|██████████| 11/11 [00:00<00:00, 583.60it/s]\n",
      "Cleaning windfarm: 100%|██████████| 11/11 [00:02<00:00,  5.03it/s]\n",
      "Cleaning rain: 100%|██████████| 11/11 [00:00<00:00, 35490.26it/s]\n"
     ]
    },
    {
     "name": "stdout",
     "output_type": "stream",
     "text": [
      "Stationday 1394 KTBW20111203\n"
     ]
    },
    {
     "name": "stderr",
     "output_type": "stream",
     "text": [
      "Tracking: 100%|██████████| 5/5 [00:00<00:00, 1018.48it/s]\n",
      "Cleaning windfarm: 100%|██████████| 5/5 [00:00<00:00, 24049.91it/s]\n",
      "Cleaning rain: 100%|██████████| 5/5 [00:00<00:00, 31441.56it/s]\n"
     ]
    },
    {
     "name": "stdout",
     "output_type": "stream",
     "text": [
      "Stationday 1395 KTBW20111208\n"
     ]
    },
    {
     "name": "stderr",
     "output_type": "stream",
     "text": [
      "Tracking: 100%|██████████| 11/11 [00:00<00:00, 2698.41it/s]\n",
      "Cleaning windfarm: 100%|██████████| 2/2 [00:00<00:00, 14614.30it/s]\n",
      "Cleaning rain: 100%|██████████| 2/2 [00:00<00:00, 22310.13it/s]\n"
     ]
    },
    {
     "name": "stdout",
     "output_type": "stream",
     "text": [
      "Stationday 1396 KTBW20111210\n"
     ]
    },
    {
     "name": "stderr",
     "output_type": "stream",
     "text": [
      "Tracking: 100%|██████████| 33/33 [00:00<00:00, 805.03it/s]\n",
      "Cleaning windfarm: 100%|██████████| 8/8 [00:01<00:00,  5.31it/s]\n",
      "Cleaning rain: 100%|██████████| 8/8 [00:00<00:00, 40378.38it/s]\n"
     ]
    },
    {
     "name": "stdout",
     "output_type": "stream",
     "text": [
      "Stationday 1397 KTBW20111220\n"
     ]
    },
    {
     "name": "stderr",
     "output_type": "stream",
     "text": [
      "Tracking: 100%|██████████| 13/13 [00:00<00:00, 730.04it/s]\n",
      "Cleaning windfarm: 100%|██████████| 5/5 [00:02<00:00,  1.91it/s]\n",
      "Cleaning rain: 100%|██████████| 5/5 [00:00<00:00, 58254.22it/s]\n"
     ]
    },
    {
     "name": "stdout",
     "output_type": "stream",
     "text": [
      "Stationday 1398 KTBW20111225\n"
     ]
    },
    {
     "name": "stderr",
     "output_type": "stream",
     "text": [
      "Tracking: 100%|██████████| 18/18 [00:00<00:00, 708.88it/s]\n",
      "Cleaning windfarm: 100%|██████████| 8/8 [00:01<00:00,  4.07it/s]\n",
      "Cleaning rain: 100%|██████████| 8/8 [00:00<00:00, 72160.07it/s]\n"
     ]
    },
    {
     "name": "stdout",
     "output_type": "stream",
     "text": [
      "Stationday 1399 KTBW20111230\n"
     ]
    },
    {
     "name": "stderr",
     "output_type": "stream",
     "text": [
      "Tracking: 100%|██████████| 22/22 [00:00<00:00, 656.03it/s]\n",
      "Cleaning windfarm: 100%|██████████| 12/12 [00:03<00:00,  3.65it/s]\n",
      "Cleaning rain: 100%|██████████| 12/12 [00:00<00:00, 69136.88it/s]\n"
     ]
    },
    {
     "name": "stdout",
     "output_type": "stream",
     "text": [
      "Stationday 1400 KTBW20120107\n"
     ]
    },
    {
     "name": "stderr",
     "output_type": "stream",
     "text": [
      "Tracking: 100%|██████████| 19/19 [00:00<00:00, 569.50it/s]\n",
      "Cleaning windfarm: 100%|██████████| 21/21 [00:02<00:00,  8.10it/s]\n",
      "Cleaning rain: 100%|██████████| 21/21 [00:00<00:00, 102777.58it/s]\n"
     ]
    },
    {
     "name": "stdout",
     "output_type": "stream",
     "text": [
      "Stationday 1401 KTBW20120109\n"
     ]
    },
    {
     "name": "stderr",
     "output_type": "stream",
     "text": [
      "Tracking: 100%|██████████| 5/5 [00:00<00:00, 1059.49it/s]\n",
      "Cleaning windfarm: 100%|██████████| 6/6 [00:01<00:00,  4.65it/s]\n",
      "Cleaning rain: 100%|██████████| 6/6 [00:00<00:00, 62291.64it/s]\n"
     ]
    },
    {
     "name": "stdout",
     "output_type": "stream",
     "text": [
      "Stationday 1402 KTBW20120118\n"
     ]
    },
    {
     "name": "stderr",
     "output_type": "stream",
     "text": [
      "Tracking: 100%|██████████| 20/20 [00:00<00:00, 1120.95it/s]\n",
      "Cleaning windfarm: 100%|██████████| 6/6 [00:01<00:00,  3.09it/s]\n",
      "Cleaning rain: 100%|██████████| 6/6 [00:00<00:00, 23921.89it/s]\n"
     ]
    },
    {
     "name": "stdout",
     "output_type": "stream",
     "text": [
      "Stationday 1403 KTBW20120119\n"
     ]
    },
    {
     "name": "stderr",
     "output_type": "stream",
     "text": [
      "Tracking: 100%|██████████| 15/15 [00:00<00:00, 256.11it/s]\n",
      "Cleaning windfarm: 100%|██████████| 18/18 [00:03<00:00,  5.84it/s]\n",
      "Cleaning rain: 100%|██████████| 18/18 [00:00<00:00, 118706.72it/s]\n"
     ]
    },
    {
     "name": "stdout",
     "output_type": "stream",
     "text": [
      "Stationday 1404 KTBW20120120\n"
     ]
    },
    {
     "name": "stderr",
     "output_type": "stream",
     "text": [
      "Tracking: 100%|██████████| 17/17 [00:00<00:00, 619.17it/s]\n",
      "Cleaning windfarm: 100%|██████████| 10/10 [00:02<00:00,  4.81it/s]\n",
      "Cleaning rain: 100%|██████████| 10/10 [00:00<00:00, 29006.25it/s]\n"
     ]
    },
    {
     "name": "stdout",
     "output_type": "stream",
     "text": [
      "Stationday 1405 KTBW20120122\n"
     ]
    },
    {
     "name": "stderr",
     "output_type": "stream",
     "text": [
      "Tracking: 100%|██████████| 18/18 [00:00<00:00, 413.09it/s]\n",
      "Cleaning windfarm: 100%|██████████| 7/7 [00:01<00:00,  3.66it/s]\n",
      "Cleaning rain: 100%|██████████| 7/7 [00:00<00:00, 65682.61it/s]\n"
     ]
    },
    {
     "name": "stdout",
     "output_type": "stream",
     "text": [
      "Stationday 1406 KTBW20120125\n"
     ]
    },
    {
     "name": "stderr",
     "output_type": "stream",
     "text": [
      "Tracking: 100%|██████████| 15/15 [00:00<00:00, 736.56it/s]\n",
      "Cleaning windfarm: 100%|██████████| 6/6 [00:02<00:00,  2.88it/s]\n",
      "Cleaning rain: 100%|██████████| 6/6 [00:00<00:00, 26324.08it/s]\n"
     ]
    },
    {
     "name": "stdout",
     "output_type": "stream",
     "text": [
      "Stationday 1407 KTBW20120208\n"
     ]
    },
    {
     "name": "stderr",
     "output_type": "stream",
     "text": [
      "Tracking: 100%|██████████| 20/20 [00:00<00:00, 725.28it/s]\n",
      "Cleaning windfarm: 100%|██████████| 17/17 [00:01<00:00,  9.39it/s]\n",
      "Cleaning rain: 100%|██████████| 17/17 [00:00<00:00, 94441.28it/s]\n"
     ]
    },
    {
     "name": "stdout",
     "output_type": "stream",
     "text": [
      "Stationday 1408 KTBW20120217\n"
     ]
    },
    {
     "name": "stderr",
     "output_type": "stream",
     "text": [
      "Tracking: 100%|██████████| 22/22 [00:00<00:00, 663.93it/s]\n",
      "Cleaning windfarm: 100%|██████████| 13/13 [00:02<00:00,  4.41it/s]\n",
      "Cleaning rain: 100%|██████████| 13/13 [00:00<00:00, 84931.39it/s]\n"
     ]
    },
    {
     "name": "stdout",
     "output_type": "stream",
     "text": [
      "Stationday 1409 KTBW20120314\n"
     ]
    },
    {
     "name": "stderr",
     "output_type": "stream",
     "text": [
      "Tracking: 100%|██████████| 17/17 [00:00<00:00, 922.04it/s]\n",
      "Cleaning windfarm: 100%|██████████| 9/9 [00:02<00:00,  4.13it/s]\n",
      "Cleaning rain: 100%|██████████| 9/9 [00:00<00:00, 136.14it/s]\n"
     ]
    },
    {
     "name": "stdout",
     "output_type": "stream",
     "text": [
      "Stationday 1410 KTBW20120320\n"
     ]
    },
    {
     "name": "stderr",
     "output_type": "stream",
     "text": [
      "Tracking: 100%|██████████| 17/17 [00:00<00:00, 695.27it/s]\n",
      "Cleaning windfarm: 100%|██████████| 6/6 [00:02<00:00,  2.21it/s]\n",
      "Cleaning rain: 100%|██████████| 6/6 [00:00<00:00, 133.29it/s]\n"
     ]
    },
    {
     "name": "stdout",
     "output_type": "stream",
     "text": [
      "Stationday 1411 KTBW20120321\n"
     ]
    },
    {
     "name": "stderr",
     "output_type": "stream",
     "text": [
      "Tracking: 100%|██████████| 20/20 [00:00<00:00, 1321.35it/s]\n",
      "Cleaning windfarm: 100%|██████████| 4/4 [00:01<00:00,  3.16it/s]\n",
      "Cleaning rain: 100%|██████████| 4/4 [00:00<00:00, 107.24it/s]\n"
     ]
    },
    {
     "name": "stdout",
     "output_type": "stream",
     "text": [
      "Stationday 1412 KTBW20120323\n"
     ]
    },
    {
     "name": "stderr",
     "output_type": "stream",
     "text": [
      "Tracking: 100%|██████████| 17/17 [00:00<00:00, 1184.83it/s]\n",
      "Cleaning windfarm: 100%|██████████| 5/5 [00:02<00:00,  1.78it/s]\n",
      "Cleaning rain: 100%|██████████| 5/5 [00:00<00:00, 115.05it/s]\n"
     ]
    },
    {
     "name": "stdout",
     "output_type": "stream",
     "text": [
      "Stationday 1413 KTBW20120329\n"
     ]
    },
    {
     "name": "stderr",
     "output_type": "stream",
     "text": [
      "Tracking: 100%|██████████| 12/12 [00:00<00:00, 843.84it/s]\n",
      "Cleaning windfarm: 100%|██████████| 7/7 [00:01<00:00,  3.62it/s]\n",
      "Cleaning rain: 100%|██████████| 7/7 [00:00<00:00, 148.48it/s]\n"
     ]
    },
    {
     "name": "stdout",
     "output_type": "stream",
     "text": [
      "Stationday 1414 KTBW20120404\n"
     ]
    },
    {
     "name": "stderr",
     "output_type": "stream",
     "text": [
      "Tracking: 100%|██████████| 11/11 [00:00<00:00, 651.83it/s]\n",
      "Cleaning windfarm: 100%|██████████| 15/15 [00:00<00:00, 23.50it/s]\n",
      "Cleaning rain: 100%|██████████| 15/15 [00:00<00:00, 142.20it/s]\n"
     ]
    },
    {
     "name": "stdout",
     "output_type": "stream",
     "text": [
      "Stationday 1415 KTBW20120405\n"
     ]
    },
    {
     "name": "stderr",
     "output_type": "stream",
     "text": [
      "Tracking: 100%|██████████| 12/12 [00:00<00:00, 3395.97it/s]\n",
      "Cleaning windfarm: 100%|██████████| 4/4 [00:00<00:00, 26337.86it/s]\n",
      "Cleaning rain: 100%|██████████| 4/4 [00:00<00:00, 126.94it/s]\n"
     ]
    },
    {
     "name": "stdout",
     "output_type": "stream",
     "text": [
      "Stationday 1416 KTBW20120414\n"
     ]
    },
    {
     "name": "stderr",
     "output_type": "stream",
     "text": [
      "Tracking: 100%|██████████| 15/15 [00:00<00:00, 993.46it/s]\n",
      "Cleaning windfarm: 100%|██████████| 8/8 [00:02<00:00,  2.99it/s]\n",
      "Cleaning rain: 100%|██████████| 8/8 [00:00<00:00, 145.79it/s]\n"
     ]
    },
    {
     "name": "stdout",
     "output_type": "stream",
     "text": [
      "Stationday 1417 KTBW20120416\n"
     ]
    },
    {
     "name": "stderr",
     "output_type": "stream",
     "text": [
      "Tracking: 100%|██████████| 11/11 [00:00<00:00, 1780.26it/s]\n",
      "Cleaning windfarm: 100%|██████████| 5/5 [00:00<00:00,  6.20it/s]\n",
      "Cleaning rain: 100%|██████████| 5/5 [00:00<00:00, 131.74it/s]\n"
     ]
    },
    {
     "name": "stdout",
     "output_type": "stream",
     "text": [
      "Stationday 1418 KTBW20121020\n"
     ]
    },
    {
     "name": "stderr",
     "output_type": "stream",
     "text": [
      "Tracking: 100%|██████████| 25/25 [00:00<00:00, 1659.19it/s]\n",
      "Cleaning windfarm: 100%|██████████| 7/7 [00:00<00:00, 11.94it/s]\n",
      "Cleaning rain: 100%|██████████| 7/7 [00:00<00:00, 130.44it/s]\n"
     ]
    },
    {
     "name": "stdout",
     "output_type": "stream",
     "text": [
      "Stationday 1419 KTBW20121025\n"
     ]
    },
    {
     "name": "stderr",
     "output_type": "stream",
     "text": [
      "Tracking: 100%|██████████| 25/25 [00:00<00:00, 2735.01it/s]\n",
      "Cleaning windfarm: 100%|██████████| 1/1 [00:00<00:00,  1.67it/s]\n",
      "Cleaning rain: 100%|██████████| 1/1 [00:00<00:00, 115.31it/s]\n"
     ]
    },
    {
     "name": "stdout",
     "output_type": "stream",
     "text": [
      "Stationday 1420 KTBW20121026\n"
     ]
    },
    {
     "name": "stderr",
     "output_type": "stream",
     "text": [
      "Tracking: 100%|██████████| 24/24 [00:00<00:00, 1652.25it/s]\n",
      "Cleaning windfarm: 100%|██████████| 6/6 [00:01<00:00,  4.38it/s]\n",
      "Cleaning rain: 100%|██████████| 6/6 [00:00<00:00, 137.14it/s]\n"
     ]
    },
    {
     "name": "stdout",
     "output_type": "stream",
     "text": [
      "Stationday 1421 KTBW20121106\n"
     ]
    },
    {
     "name": "stderr",
     "output_type": "stream",
     "text": [
      "Tracking: 100%|██████████| 24/24 [00:00<00:00, 715.07it/s]\n",
      "Cleaning windfarm: 100%|██████████| 22/22 [00:01<00:00, 17.47it/s]\n",
      "Cleaning rain: 100%|██████████| 22/22 [00:00<00:00, 133.95it/s]\n"
     ]
    },
    {
     "name": "stdout",
     "output_type": "stream",
     "text": [
      "Stationday 1422 KTBW20121115\n"
     ]
    },
    {
     "name": "stderr",
     "output_type": "stream",
     "text": [
      "Tracking: 100%|██████████| 11/11 [00:00<00:00, 4858.61it/s]\n",
      "Cleaning windfarm: 100%|██████████| 2/2 [00:00<00:00, 8019.70it/s]\n",
      "Cleaning rain: 100%|██████████| 2/2 [00:00<00:00, 132.43it/s]\n"
     ]
    },
    {
     "name": "stdout",
     "output_type": "stream",
     "text": [
      "Stationday 1423 KTBW20121116\n"
     ]
    },
    {
     "name": "stderr",
     "output_type": "stream",
     "text": [
      "Tracking: 100%|██████████| 11/11 [00:00<00:00, 3340.38it/s]\n",
      "Cleaning windfarm: 100%|██████████| 2/2 [00:00<00:00,  3.37it/s]\n",
      "Cleaning rain: 100%|██████████| 2/2 [00:00<00:00, 149.86it/s]\n"
     ]
    },
    {
     "name": "stdout",
     "output_type": "stream",
     "text": [
      "Stationday 1424 KTBW20121122\n"
     ]
    },
    {
     "name": "stderr",
     "output_type": "stream",
     "text": [
      "Tracking: 100%|██████████| 19/19 [00:00<00:00, 980.04it/s]\n",
      "Cleaning windfarm: 100%|██████████| 11/11 [00:01<00:00,  7.04it/s]\n",
      "Cleaning rain: 100%|██████████| 11/11 [00:00<00:00, 148.72it/s]\n"
     ]
    },
    {
     "name": "stdout",
     "output_type": "stream",
     "text": [
      "Stationday 1425 KTBW20121128\n"
     ]
    },
    {
     "name": "stderr",
     "output_type": "stream",
     "text": [
      "Tracking: 100%|██████████| 11/11 [00:00<00:00, 1294.47it/s]\n",
      "Cleaning windfarm: 100%|██████████| 8/8 [00:00<00:00, 13.95it/s]\n",
      "Cleaning rain: 100%|██████████| 8/8 [00:00<00:00, 166.31it/s]\n"
     ]
    },
    {
     "name": "stdout",
     "output_type": "stream",
     "text": [
      "Stationday 1426 KTBW20121130\n"
     ]
    },
    {
     "name": "stderr",
     "output_type": "stream",
     "text": [
      "Tracking: 100%|██████████| 11/11 [00:00<00:00, 530.36it/s]\n",
      "Cleaning windfarm: 100%|██████████| 5/5 [00:01<00:00,  2.68it/s]\n",
      "Cleaning rain: 100%|██████████| 5/5 [00:00<00:00, 179.34it/s]\n"
     ]
    },
    {
     "name": "stdout",
     "output_type": "stream",
     "text": [
      "Stationday 1427 KTBW20121201\n"
     ]
    },
    {
     "name": "stderr",
     "output_type": "stream",
     "text": [
      "Tracking: 100%|██████████| 17/17 [00:00<00:00, 838.76it/s]\n",
      "Cleaning windfarm: 100%|██████████| 6/6 [00:02<00:00,  2.25it/s]\n",
      "Cleaning rain: 100%|██████████| 6/6 [00:00<00:00, 174.06it/s]\n"
     ]
    },
    {
     "name": "stdout",
     "output_type": "stream",
     "text": [
      "Stationday 1428 KTBW20121203\n"
     ]
    },
    {
     "name": "stderr",
     "output_type": "stream",
     "text": [
      "Tracking: 100%|██████████| 18/18 [00:00<00:00, 576.48it/s]\n",
      "Cleaning windfarm: 100%|██████████| 8/8 [00:02<00:00,  3.94it/s]\n",
      "Cleaning rain: 100%|██████████| 8/8 [00:00<00:00, 174.27it/s]\n"
     ]
    },
    {
     "name": "stdout",
     "output_type": "stream",
     "text": [
      "Stationday 1429 KTBW20121204\n"
     ]
    },
    {
     "name": "stderr",
     "output_type": "stream",
     "text": [
      "Tracking: 100%|██████████| 23/23 [00:00<00:00, 507.93it/s]\n",
      "Cleaning windfarm: 100%|██████████| 27/27 [00:05<00:00,  4.56it/s]\n",
      "Cleaning rain: 100%|██████████| 27/27 [00:00<00:00, 160.53it/s]\n"
     ]
    },
    {
     "name": "stdout",
     "output_type": "stream",
     "text": [
      "Stationday 1430 KTBW20121206\n"
     ]
    },
    {
     "name": "stderr",
     "output_type": "stream",
     "text": [
      "Tracking: 100%|██████████| 25/25 [00:00<00:00, 394.99it/s]\n",
      "Cleaning windfarm: 100%|██████████| 19/19 [00:05<00:00,  3.72it/s]\n",
      "Cleaning rain: 100%|██████████| 19/19 [00:00<00:00, 158.25it/s]\n"
     ]
    },
    {
     "name": "stdout",
     "output_type": "stream",
     "text": [
      "Stationday 1431 KTBW20121227\n"
     ]
    },
    {
     "name": "stderr",
     "output_type": "stream",
     "text": [
      "Tracking: 100%|██████████| 17/17 [00:00<00:00, 1312.41it/s]\n",
      "Cleaning windfarm: 100%|██████████| 6/6 [00:01<00:00,  3.18it/s]\n",
      "Cleaning rain: 100%|██████████| 6/6 [00:00<00:00, 157.59it/s]\n"
     ]
    },
    {
     "name": "stdout",
     "output_type": "stream",
     "text": [
      "Stationday 1432 KTBW20121230\n"
     ]
    },
    {
     "name": "stderr",
     "output_type": "stream",
     "text": [
      "Tracking: 100%|██████████| 12/12 [00:00<00:00, 2539.05it/s]\n",
      "Cleaning windfarm: 100%|██████████| 4/4 [00:00<00:00, 27235.74it/s]\n",
      "Cleaning rain: 100%|██████████| 4/4 [00:00<00:00, 166.96it/s]\n"
     ]
    },
    {
     "name": "stdout",
     "output_type": "stream",
     "text": [
      "Stationday 1433 KTBW20130102\n"
     ]
    },
    {
     "name": "stderr",
     "output_type": "stream",
     "text": [
      "Tracking: 100%|██████████| 11/11 [00:00<00:00, 996.40it/s]\n",
      "Cleaning windfarm: 100%|██████████| 8/8 [00:01<00:00,  6.50it/s]\n",
      "Cleaning rain: 100%|██████████| 8/8 [00:00<00:00, 174.50it/s]\n"
     ]
    },
    {
     "name": "stdout",
     "output_type": "stream",
     "text": [
      "Stationday 1434 KTBW20130112\n"
     ]
    },
    {
     "name": "stderr",
     "output_type": "stream",
     "text": [
      "Tracking: 100%|██████████| 19/19 [00:00<00:00, 384.77it/s]\n",
      "Cleaning windfarm: 100%|██████████| 14/14 [00:03<00:00,  4.52it/s]\n",
      "Cleaning rain: 100%|██████████| 14/14 [00:00<00:00, 171.14it/s]\n"
     ]
    },
    {
     "name": "stdout",
     "output_type": "stream",
     "text": [
      "Stationday 1435 KTBW20130113\n"
     ]
    },
    {
     "name": "stderr",
     "output_type": "stream",
     "text": [
      "Tracking: 100%|██████████| 19/19 [00:00<00:00, 492.68it/s]\n",
      "Cleaning windfarm: 100%|██████████| 9/9 [00:01<00:00,  4.85it/s]\n",
      "Cleaning rain: 100%|██████████| 9/9 [00:00<00:00, 162.20it/s]\n"
     ]
    },
    {
     "name": "stdout",
     "output_type": "stream",
     "text": [
      "Stationday 1436 KTBW20130114\n"
     ]
    },
    {
     "name": "stderr",
     "output_type": "stream",
     "text": [
      "Tracking: 100%|██████████| 18/18 [00:00<00:00, 451.80it/s]\n",
      "Cleaning windfarm: 100%|██████████| 13/13 [00:03<00:00,  3.40it/s]\n",
      "Cleaning rain: 100%|██████████| 13/13 [00:00<00:00, 166.41it/s]\n"
     ]
    },
    {
     "name": "stdout",
     "output_type": "stream",
     "text": [
      "Stationday 1437 KTBW20130123\n"
     ]
    },
    {
     "name": "stderr",
     "output_type": "stream",
     "text": [
      "Tracking: 100%|██████████| 20/20 [00:00<00:00, 347.64it/s]\n",
      "Cleaning windfarm: 100%|██████████| 19/19 [00:05<00:00,  3.78it/s]\n",
      "Cleaning rain: 100%|██████████| 19/19 [00:00<00:00, 159.51it/s]\n"
     ]
    },
    {
     "name": "stdout",
     "output_type": "stream",
     "text": [
      "Stationday 1438 KTBW20130129\n"
     ]
    },
    {
     "name": "stderr",
     "output_type": "stream",
     "text": [
      "Tracking: 100%|██████████| 12/12 [00:00<00:00, 791.54it/s]\n",
      "Cleaning windfarm: 100%|██████████| 8/8 [00:03<00:00,  2.60it/s]\n",
      "Cleaning rain: 100%|██████████| 8/8 [00:00<00:00, 168.93it/s]\n"
     ]
    },
    {
     "name": "stdout",
     "output_type": "stream",
     "text": [
      "Stationday 1439 KTBW20130204\n"
     ]
    },
    {
     "name": "stderr",
     "output_type": "stream",
     "text": [
      "Tracking: 100%|██████████| 9/9 [00:00<00:00, 2172.21it/s]\n",
      "Cleaning windfarm: 100%|██████████| 4/4 [00:00<00:00, 26886.56it/s]\n",
      "Cleaning rain: 100%|██████████| 4/4 [00:00<00:00, 141.66it/s]\n"
     ]
    },
    {
     "name": "stdout",
     "output_type": "stream",
     "text": [
      "Stationday 1440 KTBW20130205\n"
     ]
    },
    {
     "name": "stderr",
     "output_type": "stream",
     "text": [
      "Tracking: 100%|██████████| 13/13 [00:00<00:00, 843.42it/s]\n",
      "Cleaning windfarm: 100%|██████████| 10/10 [00:01<00:00,  5.20it/s]\n",
      "Cleaning rain: 100%|██████████| 10/10 [00:00<00:00, 159.93it/s]\n"
     ]
    },
    {
     "name": "stdout",
     "output_type": "stream",
     "text": [
      "Stationday 1441 KTBW20130209\n"
     ]
    },
    {
     "name": "stderr",
     "output_type": "stream",
     "text": [
      "Tracking: 100%|██████████| 15/15 [00:00<00:00, 1936.19it/s]\n",
      "Cleaning windfarm: 100%|██████████| 6/6 [00:00<00:00, 37063.07it/s]\n",
      "Cleaning rain: 100%|██████████| 6/6 [00:00<00:00, 179.17it/s]\n"
     ]
    },
    {
     "name": "stdout",
     "output_type": "stream",
     "text": [
      "Stationday 1442 KTBW20130215\n"
     ]
    },
    {
     "name": "stderr",
     "output_type": "stream",
     "text": [
      "Tracking: 100%|██████████| 18/18 [00:00<00:00, 3074.25it/s]\n",
      "Cleaning windfarm: 100%|██████████| 3/3 [00:00<00:00,  4.71it/s]\n",
      "Cleaning rain: 100%|██████████| 3/3 [00:00<00:00, 145.95it/s]\n"
     ]
    },
    {
     "name": "stdout",
     "output_type": "stream",
     "text": [
      "Stationday 1443 KTBW20130216\n"
     ]
    },
    {
     "name": "stderr",
     "output_type": "stream",
     "text": [
      "Tracking: 100%|██████████| 19/19 [00:00<00:00, 767.11it/s]\n",
      "Cleaning windfarm: 100%|██████████| 10/10 [00:01<00:00,  7.95it/s]\n",
      "Cleaning rain: 100%|██████████| 10/10 [00:00<00:00, 187.33it/s]\n"
     ]
    },
    {
     "name": "stdout",
     "output_type": "stream",
     "text": [
      "Stationday 1444 KTBW20130310\n"
     ]
    },
    {
     "name": "stderr",
     "output_type": "stream",
     "text": [
      "Tracking: 100%|██████████| 11/11 [00:00<00:00, 725.95it/s]\n",
      "Cleaning windfarm: 100%|██████████| 8/8 [00:01<00:00,  6.20it/s]\n",
      "Cleaning rain: 100%|██████████| 8/8 [00:00<00:00, 150.20it/s]\n"
     ]
    },
    {
     "name": "stdout",
     "output_type": "stream",
     "text": [
      "Stationday 1445 KTBW20130311\n"
     ]
    },
    {
     "name": "stderr",
     "output_type": "stream",
     "text": [
      "Tracking: 100%|██████████| 11/11 [00:00<00:00, 804.64it/s]\n",
      "Cleaning windfarm: 100%|██████████| 9/9 [00:01<00:00,  4.86it/s]\n",
      "Cleaning rain: 100%|██████████| 9/9 [00:00<00:00, 167.65it/s]\n"
     ]
    },
    {
     "name": "stdout",
     "output_type": "stream",
     "text": [
      "Stationday 1446 KTBW20130315\n"
     ]
    },
    {
     "name": "stderr",
     "output_type": "stream",
     "text": [
      "Tracking: 100%|██████████| 21/21 [00:00<00:00, 829.41it/s]\n",
      "Cleaning windfarm: 100%|██████████| 11/11 [00:02<00:00,  4.21it/s]\n",
      "Cleaning rain: 100%|██████████| 11/11 [00:00<00:00, 146.88it/s]\n"
     ]
    },
    {
     "name": "stdout",
     "output_type": "stream",
     "text": [
      "Stationday 1447 KTBW20130317\n"
     ]
    },
    {
     "name": "stderr",
     "output_type": "stream",
     "text": [
      "Tracking: 100%|██████████| 12/12 [00:00<00:00, 1486.68it/s]\n",
      "Cleaning windfarm: 100%|██████████| 10/10 [00:00<00:00, 17.85it/s]\n",
      "Cleaning rain: 100%|██████████| 10/10 [00:00<00:00, 145.02it/s]\n"
     ]
    },
    {
     "name": "stdout",
     "output_type": "stream",
     "text": [
      "Stationday 1448 KTBW20130318\n"
     ]
    },
    {
     "name": "stderr",
     "output_type": "stream",
     "text": [
      "Tracking: 100%|██████████| 25/25 [00:00<00:00, 1236.21it/s]\n",
      "Cleaning windfarm: 100%|██████████| 6/6 [00:01<00:00,  4.76it/s]\n",
      "Cleaning rain: 100%|██████████| 6/6 [00:00<00:00, 133.31it/s]\n"
     ]
    },
    {
     "name": "stdout",
     "output_type": "stream",
     "text": [
      "Stationday 1449 KTBW20130401\n"
     ]
    },
    {
     "name": "stderr",
     "output_type": "stream",
     "text": [
      "Tracking: 100%|██████████| 25/25 [00:00<00:00, 2618.30it/s]\n",
      "Cleaning windfarm: 100%|██████████| 4/4 [00:00<00:00, 25536.10it/s]\n",
      "Cleaning rain: 100%|██████████| 4/4 [00:00<00:00, 127.59it/s]\n"
     ]
    },
    {
     "name": "stdout",
     "output_type": "stream",
     "text": [
      "Stationday 1450 KTBW20130408\n"
     ]
    },
    {
     "name": "stderr",
     "output_type": "stream",
     "text": [
      "Tracking: 100%|██████████| 11/11 [00:00<00:00, 592.26it/s]\n",
      "Cleaning windfarm: 100%|██████████| 11/11 [00:04<00:00,  2.52it/s]\n",
      "Cleaning rain: 100%|██████████| 11/11 [00:00<00:00, 155.10it/s]\n"
     ]
    },
    {
     "name": "stdout",
     "output_type": "stream",
     "text": [
      "Stationday 1451 KTBW20130410\n"
     ]
    },
    {
     "name": "stderr",
     "output_type": "stream",
     "text": [
      "Tracking: 100%|██████████| 12/12 [00:00<00:00, 933.57it/s]\n",
      "Cleaning windfarm: 100%|██████████| 8/8 [00:01<00:00,  6.24it/s]\n",
      "Cleaning rain: 100%|██████████| 8/8 [00:00<00:00, 178.20it/s]\n"
     ]
    },
    {
     "name": "stdout",
     "output_type": "stream",
     "text": [
      "Stationday 1452 KTBW20130416\n"
     ]
    },
    {
     "name": "stderr",
     "output_type": "stream",
     "text": [
      "Tracking: 100%|██████████| 12/12 [00:00<00:00, 812.60it/s]\n",
      "Cleaning windfarm: 100%|██████████| 5/5 [00:02<00:00,  2.37it/s]\n",
      "Cleaning rain: 100%|██████████| 5/5 [00:00<00:00, 134.56it/s]\n"
     ]
    },
    {
     "name": "stdout",
     "output_type": "stream",
     "text": [
      "Stationday 1453 KTBW20130428\n"
     ]
    },
    {
     "name": "stderr",
     "output_type": "stream",
     "text": [
      "Tracking: 100%|██████████| 11/11 [00:00<00:00, 1504.36it/s]\n",
      "Cleaning windfarm: 100%|██████████| 7/7 [00:00<00:00, 41645.57it/s]\n",
      "Cleaning rain: 100%|██████████| 7/7 [00:00<00:00, 132.81it/s]\n"
     ]
    }
   ],
   "source": [
    "detections = {} # by stationday\n",
    "for prediction in predictions:\n",
    "    scanname = id2scanname[prediction[\"image_id\"]]\n",
    "    stationday = scanname[:12]\n",
    "    if stationday in detections:\n",
    "        det_ID = len(detections[stationday])\n",
    "    else:\n",
    "        det_ID = 0\n",
    "    detection = {\n",
    "        'scanname': scanname,\n",
    "        'det_ID': det_ID, # based on each station-day\n",
    "        'det_score': prediction[\"score\"],\n",
    "        'im_bbox': np.array([\n",
    "            prediction[\"bbox\"][0]+prediction[\"bbox\"][2]/2.,\n",
    "            image_height-(prediction[\"bbox\"][1]+prediction[\"bbox\"][3]/2.), # from geo to image direction\n",
    "            (prediction[\"bbox\"][2]+prediction[\"bbox\"][3])/4.\n",
    "        ])\n",
    "    }\n",
    "    if stationday in detections:\n",
    "        detections[stationday].append(detection)\n",
    "    else:\n",
    "        detections[stationday] = [detection]\n",
    "\n",
    "tracked_detections = {}\n",
    "tracks = {}\n",
    "filter_untracked_detections = {}\n",
    "postprocessed_detections = {}\n",
    "\n",
    "print(len(detections), \"stationdays in total.\")\n",
    "for i, stationday in enumerate(detections):\n",
    "    print(\"Stationday\", i+1, stationday)\n",
    "    \n",
    "    tracker = Tracker()\n",
    "\n",
    "    PP_CFG = {\n",
    "        \"imsize\":           600,\n",
    "        \"geosize\":          300000,\n",
    "        \"sun_activity\":     \"sunrise\",\n",
    "        \"nms\":              False,\n",
    "        \"clean_windfarm\":   False,\n",
    "        \"clean_rain\":       False\n",
    "    }\n",
    "    filter_untracked_postprocess = Postprocess(**PP_CFG)\n",
    "\n",
    "    PP_CFG = {\n",
    "        \"imsize\":           600,\n",
    "        \"geosize\":          300000,\n",
    "        \"sun_activity\":     \"sunrise\",\n",
    "        \"nms\":              True,\n",
    "        \"clean_windfarm\":   True,\n",
    "        \"clean_rain\":       True\n",
    "    }\n",
    "    postprocess = Postprocess(**PP_CFG)\n",
    "\n",
    "    tracked_detections[stationday], tracks[stationday] = tracker.tracking(\n",
    "        scannames_by_stationday[stationday], copy.deepcopy(detections[stationday])\n",
    "    )\n",
    "    filter_untracked_detections[stationday], _ = filter_untracked_postprocess.annotate_detections(\n",
    "        copy.deepcopy(tracked_detections[stationday]), copy.deepcopy(tracks[stationday]), npz_files_by_stationday[stationday]\n",
    "    )\n",
    "    postprocessed_detections[stationday], tracks[stationday] = postprocess.annotate_detections(\n",
    "        copy.deepcopy(tracked_detections[stationday]), copy.deepcopy(tracks[stationday]), npz_files_by_stationday[stationday]\n",
    "    )\n"
   ]
  },
  {
   "cell_type": "code",
   "execution_count": 5,
   "metadata": {},
   "outputs": [
    {
     "name": "stdout",
     "output_type": "stream",
     "text": [
      "rm_rain_effective 1520\n",
      "rm_windfarm_effective 233\n"
     ]
    }
   ],
   "source": [
    "def det2pred(detection):\n",
    "    return {\n",
    "        \"image_id\": scanname2id[detection[\"scanname\"]],\n",
    "        \"category_id\": 0,\n",
    "        \"bbox\": [\n",
    "            detection[\"im_bbox\"][0]-detection[\"im_bbox\"][2],\n",
    "            image_height-detection[\"im_bbox\"][1]-detection[\"im_bbox\"][2],\n",
    "            detection[\"im_bbox\"][2]*2, detection[\"im_bbox\"][2]*2,\n",
    "        ],\n",
    "        \"score\": detection[\"det_score\"]\n",
    "    }\n",
    "\n",
    "rm_rain_effective = []\n",
    "rm_windfarm_effective = []\n",
    "\n",
    "predicted_after_tracking = []\n",
    "predicted_after_filter_untracked = []\n",
    "predicted_after_nms = []\n",
    "predicted_after_rm_windfarm = []\n",
    "predicted_after_rm_rain = []\n",
    "predicted_with_tracker_results = []\n",
    "predicted_ui = []\n",
    "\n",
    "for i, stationday in enumerate(postprocessed_detections):\n",
    "#     print(\"============\")\n",
    "#     print(stationday)\n",
    "    for det in tracked_detections[stationday]:\n",
    "        if det[\"det_score\"] != -1:\n",
    "            predicted_after_tracking.append(det2pred(det))\n",
    "    \n",
    "    for det in filter_untracked_detections[stationday]:\n",
    "        if det[\"det_score\"] != -1:\n",
    "            predicted_after_filter_untracked.append(det2pred(det))\n",
    "    \n",
    "    det_dict = {}\n",
    "    for det in postprocessed_detections[stationday]:\n",
    "        det_dict[det[\"det_ID\"]] = det\n",
    "        pred = det2pred(det)\n",
    "        if det[\"det_score\"] != -1:\n",
    "            predicted_after_nms.append(pred)\n",
    "        if det[\"det_score\"] != -1 and not det[\"windfarm\"]:\n",
    "            predicted_after_rm_windfarm.append(pred)\n",
    "        elif det[\"windfarm\"]:\n",
    "            rm_windfarm_effective.append(det[\"scanname\"])\n",
    "        if det[\"det_score\"] != -1 and not det[\"rain\"] and not det[\"windfarm\"]:\n",
    "            predicted_after_rm_rain.append(pred)\n",
    "        elif det[\"rain\"]:\n",
    "            rm_rain_effective.append(det[\"scanname\"])\n",
    "    \n",
    "    for track in tracks[stationday]:\n",
    "#         print(\"----------\")\n",
    "#         print(track)\n",
    "        if ((\"is_windfarm\" in track.keys() and track[\"is_windfarm\"]) or \n",
    "            (\"is_rain\" in track.keys() and track[\"is_rain\"])):\n",
    "            continue\n",
    "        for idx in range(len(track[\"det_or_pred\"])-1, -1, -1):\n",
    "            if track[\"det_or_pred\"][idx]:\n",
    "                last_pred_idx = idx\n",
    "                break\n",
    "        \n",
    "        n_det = 0\n",
    "        sum_score = 0.\n",
    "        has_ok_det = False\n",
    "        for idx, det_ID in enumerate(track[\"det_IDs\"]):\n",
    "            if idx > last_pred_idx:\n",
    "                break\n",
    "            det = det_dict[det_ID]\n",
    "            predicted_with_tracker_results.append(det2pred(det))\n",
    "            if det[\"det_score\"] != -1:\n",
    "                sum_score += det[\"det_score\"]\n",
    "                n_det += 1\n",
    "            if det[\"det_score\"] >= 0.5:\n",
    "                has_ok_det = True\n",
    "            \n",
    "        # at least 2 detections, at least 1 detection with score 0.5, average score 0.15\n",
    "        if np.sum(track[\"det_or_pred\"]) > 1 and sum_score/n_det > 0.15 and has_ok_det:\n",
    "            for idx, det_ID in enumerate(track[\"det_IDs\"]):\n",
    "                if idx > last_pred_idx:\n",
    "                    break\n",
    "                det = det_dict[det_ID]\n",
    "                predicted_ui.append(det2pred(det))\n",
    "            \n",
    "print(\"rm_rain_effective\", len(rm_rain_effective))\n",
    "print(\"rm_windfarm_effective\", len(rm_windfarm_effective))"
   ]
  },
  {
   "cell_type": "markdown",
   "metadata": {},
   "source": [
    "### Evaluate and draw PR curves"
   ]
  },
  {
   "cell_type": "code",
   "execution_count": 6,
   "metadata": {},
   "outputs": [
    {
     "name": "stdout",
     "output_type": "stream",
     "text": [
      "loading annotations into memory...\n",
      "Done (t=0.10s)\n",
      "creating index...\n",
      "index created!\n",
      "Loading and preparing results...\n",
      "DONE (t=0.80s)\n",
      "creating index...\n",
      "index created!\n",
      "Running per image evaluation...\n",
      "Evaluate annotation type *bbox*\n",
      "DONE (t=7.19s).\n",
      "Accumulating evaluation results...\n",
      "DONE (t=1.58s).\n",
      "loading annotations into memory...\n",
      "Done (t=0.73s)\n",
      "creating index...\n",
      "index created!\n",
      "Loading and preparing results...\n",
      "DONE (t=0.09s)\n",
      "creating index...\n",
      "index created!\n",
      "Running per image evaluation...\n",
      "Evaluate annotation type *bbox*\n",
      "DONE (t=7.28s).\n",
      "Accumulating evaluation results...\n",
      "DONE (t=2.28s).\n",
      "loading annotations into memory...\n",
      "Done (t=0.05s)\n",
      "creating index...\n",
      "index created!\n",
      "Loading and preparing results...\n",
      "DONE (t=0.05s)\n",
      "creating index...\n",
      "index created!\n",
      "Running per image evaluation...\n",
      "Evaluate annotation type *bbox*\n",
      "DONE (t=5.95s).\n",
      "Accumulating evaluation results...\n",
      "DONE (t=1.26s).\n"
     ]
    },
    {
     "data": {
      "image/png": "[encoded data removed]",
      "text/plain": [
       "<Figure size 432x288 with 1 Axes>"
      ]
     },
     "metadata": {
      "needs_background": "light"
     },
     "output_type": "display_data"
    }
   ],
   "source": [
    "coco_evals = []\n",
    "coco_evals.append((\"detection 0.05\", evaluate(predictions)))\n",
    "coco_evals.append((\"tracking\", evaluate(predicted_after_tracking)))\n",
    "coco_evals.append((\"filter untracked\", evaluate(predicted_after_filter_untracked)))\n",
    "\n",
    "recall = np.linspace(.0, 1.00, int(np.round((1.00 - .0) / .01)) + 1, endpoint=True)\n",
    "for model, coco_eval in coco_evals:\n",
    "    plt.plot(recall, coco_eval.eval['precision'][0, :, 0, 0, -1], label=model)\n",
    "plt.xlabel('recall')\n",
    "plt.ylabel('precision')\n",
    "plt.title(f'IoU threshold = 0.5')\n",
    "plt.legend()\n",
    "plt.show()"
   ]
  },
  {
   "cell_type": "code",
   "execution_count": 7,
   "metadata": {},
   "outputs": [
    {
     "name": "stdout",
     "output_type": "stream",
     "text": [
      "loading annotations into memory...\n",
      "Done (t=0.05s)\n",
      "creating index...\n",
      "index created!\n",
      "Loading and preparing results...\n",
      "DONE (t=0.05s)\n",
      "creating index...\n",
      "index created!\n",
      "Running per image evaluation...\n",
      "Evaluate annotation type *bbox*\n",
      "DONE (t=7.76s).\n",
      "Accumulating evaluation results...\n",
      "DONE (t=1.58s).\n",
      "loading annotations into memory...\n",
      "Done (t=0.05s)\n",
      "creating index...\n",
      "index created!\n",
      "Loading and preparing results...\n",
      "DONE (t=0.07s)\n",
      "creating index...\n",
      "index created!\n",
      "Running per image evaluation...\n",
      "Evaluate annotation type *bbox*\n",
      "DONE (t=8.03s).\n",
      "Accumulating evaluation results...\n",
      "DONE (t=1.58s).\n",
      "loading annotations into memory...\n",
      "Done (t=0.05s)\n",
      "creating index...\n",
      "index created!\n",
      "Loading and preparing results...\n",
      "DONE (t=0.04s)\n",
      "creating index...\n",
      "index created!\n",
      "Running per image evaluation...\n",
      "Evaluate annotation type *bbox*\n",
      "DONE (t=5.88s).\n",
      "Accumulating evaluation results...\n",
      "DONE (t=1.25s).\n",
      "loading annotations into memory...\n",
      "Done (t=0.06s)\n",
      "creating index...\n",
      "index created!\n",
      "Loading and preparing results...\n",
      "DONE (t=0.06s)\n",
      "creating index...\n",
      "index created!\n",
      "Running per image evaluation...\n",
      "Evaluate annotation type *bbox*\n",
      "DONE (t=6.06s).\n",
      "Accumulating evaluation results...\n",
      "DONE (t=1.25s).\n",
      "loading annotations into memory...\n",
      "Done (t=0.06s)\n",
      "creating index...\n",
      "index created!\n",
      "Loading and preparing results...\n",
      "DONE (t=0.05s)\n",
      "creating index...\n",
      "index created!\n",
      "Running per image evaluation...\n",
      "Evaluate annotation type *bbox*\n",
      "DONE (t=5.79s).\n",
      "Accumulating evaluation results...\n",
      "DONE (t=1.25s).\n",
      "loading annotations into memory...\n",
      "Done (t=1.09s)\n",
      "creating index...\n",
      "index created!\n",
      "Loading and preparing results...\n",
      "DONE (t=0.04s)\n",
      "creating index...\n",
      "index created!\n",
      "Running per image evaluation...\n",
      "Evaluate annotation type *bbox*\n",
      "DONE (t=5.70s).\n",
      "Accumulating evaluation results...\n",
      "DONE (t=1.23s).\n",
      "loading annotations into memory...\n",
      "Done (t=0.06s)\n",
      "creating index...\n",
      "index created!\n",
      "Loading and preparing results...\n",
      "DONE (t=0.06s)\n",
      "creating index...\n",
      "index created!\n",
      "Running per image evaluation...\n",
      "Evaluate annotation type *bbox*\n",
      "DONE (t=5.99s).\n",
      "Accumulating evaluation results...\n",
      "DONE (t=1.32s).\n",
      "loading annotations into memory...\n",
      "Done (t=0.06s)\n",
      "creating index...\n",
      "index created!\n",
      "Loading and preparing results...\n",
      "DONE (t=1.25s)\n",
      "creating index...\n",
      "index created!\n",
      "Running per image evaluation...\n",
      "Evaluate annotation type *bbox*\n",
      "DONE (t=4.43s).\n",
      "Accumulating evaluation results...\n",
      "DONE (t=0.88s).\n"
     ]
    },
    {
     "data": {
      "image/png": "[encoded data removed]",
      "text/plain": [
       "<Figure size 432x288 with 1 Axes>"
      ]
     },
     "metadata": {
      "needs_background": "light"
     },
     "output_type": "display_data"
    }
   ],
   "source": [
    "coco_evals = []\n",
    "coco_evals.append((\"detection 0.05\", evaluate(predictions)))\n",
    "coco_evals.append((\"tracking\", evaluate(predicted_after_tracking)))\n",
    "coco_evals.append((\"filter untracked\", evaluate(predicted_after_filter_untracked)))\n",
    "coco_evals.append((\"NMS\", evaluate(predicted_after_nms)))\n",
    "coco_evals.append((\"remove windfarm\", evaluate(predicted_after_rm_windfarm)))\n",
    "coco_evals.append((\"remove rain\", evaluate(predicted_after_rm_rain)))\n",
    "coco_evals.append((\"tracker prediction added\", evaluate(predicted_with_tracker_results)))\n",
    "coco_evals.append((\"ui\", evaluate(predicted_ui)))\n",
    "\n",
    "recall = np.linspace(.0, 1.00, int(np.round((1.00 - .0) / .01)) + 1, endpoint=True)\n",
    "for model, coco_eval in coco_evals:\n",
    "    plt.plot(recall, coco_eval.eval['precision'][0, :, 0, 0, -1], label=model)\n",
    "plt.xlabel('recall')\n",
    "plt.ylabel('precision')\n",
    "plt.title(f'IoU threshold = 0.5')\n",
    "plt.legend()\n",
    "plt.show()"
   ]
  },
  {
   "cell_type": "code",
   "execution_count": 12,
   "metadata": {},
   "outputs": [
    {
     "name": "stdout",
     "output_type": "stream",
     "text": [
      "loading annotations into memory...\n",
      "Done (t=0.05s)\n",
      "creating index...\n",
      "index created!\n",
      "Loading and preparing results...\n",
      "DONE (t=0.05s)\n",
      "creating index...\n",
      "index created!\n",
      "Running per image evaluation...\n",
      "Evaluate annotation type *bbox*\n",
      "DONE (t=7.25s).\n",
      "Accumulating evaluation results...\n",
      "DONE (t=1.60s).\n",
      "loading annotations into memory...\n",
      "Done (t=0.05s)\n",
      "creating index...\n",
      "index created!\n",
      "Loading and preparing results...\n",
      "DONE (t=0.07s)\n",
      "creating index...\n",
      "index created!\n",
      "Running per image evaluation...\n",
      "Evaluate annotation type *bbox*\n",
      "DONE (t=7.98s).\n",
      "Accumulating evaluation results...\n",
      "DONE (t=1.64s).\n",
      "loading annotations into memory...\n",
      "Done (t=0.05s)\n",
      "creating index...\n",
      "index created!\n",
      "Loading and preparing results...\n",
      "DONE (t=0.04s)\n",
      "creating index...\n",
      "index created!\n",
      "Running per image evaluation...\n",
      "Evaluate annotation type *bbox*\n",
      "DONE (t=5.97s).\n",
      "Accumulating evaluation results...\n",
      "DONE (t=1.29s).\n",
      "loading annotations into memory...\n",
      "Done (t=1.02s)\n",
      "creating index...\n",
      "index created!\n",
      "Loading and preparing results...\n",
      "DONE (t=0.04s)\n",
      "creating index...\n",
      "index created!\n",
      "Running per image evaluation...\n",
      "Evaluate annotation type *bbox*\n",
      "DONE (t=5.76s).\n",
      "Accumulating evaluation results...\n",
      "DONE (t=1.28s).\n",
      "loading annotations into memory...\n",
      "Done (t=0.06s)\n",
      "creating index...\n",
      "index created!\n",
      "Loading and preparing results...\n",
      "DONE (t=0.05s)\n",
      "creating index...\n",
      "index created!\n",
      "Running per image evaluation...\n",
      "Evaluate annotation type *bbox*\n",
      "DONE (t=5.74s).\n",
      "Accumulating evaluation results...\n",
      "DONE (t=2.35s).\n",
      "loading annotations into memory...\n",
      "Done (t=0.06s)\n",
      "creating index...\n",
      "index created!\n",
      "Loading and preparing results...\n",
      "DONE (t=0.04s)\n",
      "creating index...\n",
      "index created!\n",
      "Running per image evaluation...\n",
      "Evaluate annotation type *bbox*\n",
      "DONE (t=5.87s).\n",
      "Accumulating evaluation results...\n",
      "DONE (t=1.28s).\n",
      "loading annotations into memory...\n",
      "Done (t=0.05s)\n",
      "creating index...\n",
      "index created!\n",
      "Loading and preparing results...\n",
      "DONE (t=0.04s)\n",
      "creating index...\n",
      "index created!\n",
      "Running per image evaluation...\n",
      "Evaluate annotation type *bbox*\n",
      "DONE (t=6.02s).\n",
      "Accumulating evaluation results...\n",
      "DONE (t=1.42s).\n",
      "loading annotations into memory...\n",
      "Done (t=0.05s)\n",
      "creating index...\n",
      "index created!\n",
      "Loading and preparing results...\n",
      "DONE (t=0.03s)\n",
      "creating index...\n",
      "index created!\n",
      "Running per image evaluation...\n",
      "Evaluate annotation type *bbox*\n",
      "DONE (t=5.69s).\n",
      "Accumulating evaluation results...\n",
      "DONE (t=0.87s).\n"
     ]
    },
    {
     "data": {
      "image/png": "[encoded data removed]",
      "text/plain": [
       "<Figure size 432x288 with 1 Axes>"
      ]
     },
     "metadata": {
      "needs_background": "light"
     },
     "output_type": "display_data"
    }
   ],
   "source": [
    "coco_evals = []\n",
    "coco_evals.append((\"detection 0.05\", evaluate(predictions)))\n",
    "coco_evals.append((\"tracking\", evaluate(predicted_after_tracking)))\n",
    "coco_evals.append((\"filter untracked\", evaluate(predicted_after_filter_untracked)))\n",
    "coco_evals.append((\"NMS\", evaluate(predicted_after_nms)))\n",
    "coco_evals.append((\"remove windfarm\", evaluate(predicted_after_rm_windfarm)))\n",
    "coco_evals.append((\"remove rain\", evaluate(predicted_after_rm_rain)))\n",
    "coco_evals.append((\"tracker prediction added\", evaluate(predicted_with_tracker_results)))\n",
    "coco_evals.append((\"ui\", evaluate(predicted_ui)))\n",
    "\n",
    "recall = np.linspace(.0, 0.45, int(np.round((0.45 - .0) / .01)) + 1, endpoint=True)\n",
    "for model, coco_eval in coco_evals:\n",
    "    plt.plot(recall, coco_eval.eval['precision'][0, :len(recall), 0, 0, -1], label=model)\n",
    "plt.xlabel('recall')\n",
    "plt.ylabel('precision')\n",
    "plt.title(f'IoU threshold = 0.5')\n",
    "plt.legend()\n",
    "plt.show()"
   ]
  },
  {
   "cell_type": "code",
   "execution_count": 9,
   "metadata": {},
   "outputs": [
    {
     "name": "stdout",
     "output_type": "stream",
     "text": [
      "66433\n",
      "66433\n",
      "36501\n",
      "36501\n",
      "36410\n",
      "36171\n",
      "38511\n"
     ]
    }
   ],
   "source": [
    "print(len(predictions))\n",
    "print(len(predicted_after_tracking))\n",
    "print(len(predicted_after_filter_untracked))\n",
    "print(len(predicted_after_nms))\n",
    "print(len(predicted_after_rm_windfarm))\n",
    "print(len(predicted_after_rm_rain))\n",
    "print(len(predicted_with_tracker_results))"
   ]
  },
  {
   "cell_type": "code",
   "execution_count": null,
   "metadata": {},
   "outputs": [],
   "source": [
    "coco_evals = []\n",
    "coco_evals.append((\"remove windfarm\", evaluate(predicted_after_rm_windfarm)))\n",
    "coco_evals.append((\"remove rain\", evaluate(predicted_after_rm_rain)))\n",
    "\n",
    "recall = np.linspace(.0, 1.00, int(np.round((0.50 - .0) / .01)) + 1, endpoint=True)\n",
    "for model, coco_eval in coco_evals:\n",
    "    plt.plot(recall, coco_eval.eval['precision'][0, :, 0, 0, -1], label=model)\n",
    "plt.xlabel('recall')\n",
    "plt.ylabel('precision')\n",
    "plt.title(f'IoU threshold = 0.5')\n",
    "plt.legend()\n",
    "plt.show()"
   ]
  },
  {
   "cell_type": "markdown",
   "metadata": {},
   "source": [
    "## Model Comparison"
   ]
  },
  {
   "cell_type": "code",
   "execution_count": 1,
   "metadata": {},
   "outputs": [],
   "source": [
    "EXPs = [\n",
    "    (\"resnet50-c4\", \"2.1infer_entire_lr_0.00100_anchor_5_size_1200_resnet50-c4_ignore_49999\"),\n",
    "    (\"resnet101-rpn\", \"3.2eval_resnet101-FPN_detptr_anc10_regsl1_imsz1200_lr0.001_it150k_ckpt39999_strt1\")\n",
    "]"
   ]
  },
  {
   "cell_type": "code",
   "execution_count": 3,
   "metadata": {},
   "outputs": [
    {
     "name": "stdout",
     "output_type": "stream",
     "text": [
      "loading annotations into memory...\n",
      "Done (t=0.10s)\n",
      "creating index...\n",
      "index created!\n",
      "Loading and preparing results...\n",
      "DONE (t=1.57s)\n",
      "creating index...\n",
      "index created!\n",
      "Running per image evaluation...\n",
      "Evaluate annotation type *bbox*\n",
      "DONE (t=21.88s).\n",
      "Accumulating evaluation results...\n",
      "DONE (t=5.63s).\n",
      "loading annotations into memory...\n",
      "Done (t=0.05s)\n",
      "creating index...\n",
      "index created!\n",
      "Loading and preparing results...\n",
      "DONE (t=1.07s)\n",
      "creating index...\n",
      "index created!\n",
      "Running per image evaluation...\n",
      "Evaluate annotation type *bbox*\n",
      "DONE (t=15.23s).\n",
      "Accumulating evaluation results...\n",
      "DONE (t=5.12s).\n"
     ]
    }
   ],
   "source": [
    "import sys\n",
    "import json\n",
    "import os\n",
    "import numpy as np\n",
    "from pycocotools.coco import COCO\n",
    "from roosts.evaluation.roosteval import COCOeval\n",
    "import matplotlib.pyplot as plt\n",
    "\n",
    "coco_evals = []\n",
    "\n",
    "for model, exp in EXPs:\n",
    "    # test dataset\n",
    "    dataset_name = \"roosts_v0.1.0_test\"\n",
    "    task = \"bbox\"\n",
    "    coco_gt = COCO(os.path.join(exp, f\"{dataset_name}_coco_format.json\"))\n",
    "\n",
    "    # predictions\n",
    "    with open(os.path.join(exp, \"coco_instances_results.json\"), \"r\") as f:\n",
    "        prediction_json = json.load(f)\n",
    "    coco_dt = coco_gt.loadRes(prediction_json)\n",
    "\n",
    "    # evaluate\n",
    "    coco_eval = COCOeval(coco_gt, coco_dt, task)\n",
    "    coco_eval.evaluate()\n",
    "    coco_eval.accumulate()\n",
    "        # coco_eval.eval['precision'].shape = (10, 101, 1, 4, 3)\n",
    "        # IoU thres 0.50:0.05:0.95\n",
    "        # recall thres 0:0.01:1\n",
    "        # 1 class\n",
    "        # gt filter [[0 ** 2, 1e5 ** 2], [0 ** 2, 32 ** 2], [32 ** 2, 96 ** 2], [96 ** 2, 1e5 ** 2]]\n",
    "        # dt filter top-scoring [1, 10, 100]\n",
    "    \n",
    "    coco_evals.append((model, coco_eval))"
   ]
  },
  {
   "cell_type": "code",
   "execution_count": 10,
   "metadata": {},
   "outputs": [
    {
     "data": {
      "image/png": "[encoded data removed]",
      "text/plain": [
       "<Figure size 432x288 with 1 Axes>"
      ]
     },
     "metadata": {
      "needs_background": "light"
     },
     "output_type": "display_data"
    },
    {
     "data": {
      "image/png": "[encoded data removed]",
      "text/plain": [
       "<Figure size 432x288 with 1 Axes>"
      ]
     },
     "metadata": {
      "needs_background": "light"
     },
     "output_type": "display_data"
    },
    {
     "data": {
      "image/png": "[encoded data removed]",
      "text/plain": [
       "<Figure size 432x288 with 1 Axes>"
      ]
     },
     "metadata": {
      "needs_background": "light"
     },
     "output_type": "display_data"
    },
    {
     "data": {
      "image/png": "[encoded data removed]",
      "text/plain": [
       "<Figure size 432x288 with 1 Axes>"
      ]
     },
     "metadata": {
      "needs_background": "light"
     },
     "output_type": "display_data"
    },
    {
     "data": {
      "image/png": "[encoded data removed]",
      "text/plain": [
       "<Figure size 432x288 with 1 Axes>"
      ]
     },
     "metadata": {
      "needs_background": "light"
     },
     "output_type": "display_data"
    },
    {
     "data": {
      "image/png": "[encoded data removed]",
      "text/plain": [
       "<Figure size 432x288 with 1 Axes>"
      ]
     },
     "metadata": {
      "needs_background": "light"
     },
     "output_type": "display_data"
    },
    {
     "data": {
      "image/png": "[encoded data removed]",
      "text/plain": [
       "<Figure size 432x288 with 1 Axes>"
      ]
     },
     "metadata": {
      "needs_background": "light"
     },
     "output_type": "display_data"
    },
    {
     "data": {
      "image/png": "[encoded data removed]",
      "text/plain": [
       "<Figure size 432x288 with 1 Axes>"
      ]
     },
     "metadata": {
      "needs_background": "light"
     },
     "output_type": "display_data"
    },
    {
     "data": {
      "image/png": "[encoded data removed]",
      "text/plain": [
       "<Figure size 432x288 with 1 Axes>"
      ]
     },
     "metadata": {
      "needs_background": "light"
     },
     "output_type": "display_data"
    },
    {
     "data": {
      "image/png": "[encoded data removed]",
      "text/plain": [
       "<Figure size 432x288 with 1 Axes>"
      ]
     },
     "metadata": {
      "needs_background": "light"
     },
     "output_type": "display_data"
    }
   ],
   "source": [
    "ious = np.linspace(.5, 0.95, int(np.round((0.95 - .5) / .05)) + 1, endpoint=True)\n",
    "recall = np.linspace(.0, 1.00, int(np.round((1.00 - .0) / .01)) + 1, endpoint=True)\n",
    "for i, iou in enumerate(ious):\n",
    "    for model, coco_eval in coco_evals:\n",
    "        plt.plot(recall, coco_eval.eval['precision'][i, :, 0, 0, -1], label=model)\n",
    "    plt.xlabel('recall')\n",
    "    plt.ylabel('precision')\n",
    "    plt.title(f'IoU threshold = {iou}')\n",
    "    plt.legend()\n",
    "    plt.show()"
   ]
  },
  {
   "cell_type": "code",
   "execution_count": null,
   "metadata": {},
   "outputs": [],
   "source": []
  }
 ],
 "metadata": {
  "kernelspec": {
   "display_name": "roostsys",
   "language": "python",
   "name": "roostsys"
  },
  "language_info": {
   "codemirror_mode": {
    "name": "ipython",
    "version": 3
   },
   "file_extension": ".py",
   "mimetype": "text/x-python",
   "name": "python",
   "nbconvert_exporter": "python",
   "pygments_lexer": "ipython3",
   "version": "3.6.13"
  }
 },
 "nbformat": 4,
 "nbformat_minor": 2
}
